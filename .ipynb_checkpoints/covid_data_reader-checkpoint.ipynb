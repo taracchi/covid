{
 "cells": [
  {
   "cell_type": "markdown",
   "metadata": {},
   "source": [
    "# COVID-19 data reader\n",
    "\n",
    "Questo notebook carica i dati regionali riguardanti la diffusione e la gestione del COVID-19 direttamente dal repository delle Protezione civile.\n",
    "\n",
    "I dati sono così organizzati:\n",
    "- per ciascuna feature si crea un dizionario i cui elementi sono le regioni, accessibili per nome (es. `trend[indicatore][regione]`)\n",
    "- ogni elemento contiene il valore misurato nei giorni di osservazione\n",
    "- le date sono nella lista di stringhe `giorni`\n",
    "- è stata creata una entry per ciascun dizionario dell'indicatore per l'*Italia*. Questo indicatore, per quanto riguarda gli indicatori di base originali, ne è la somma, sltrimenti è opportunamente calcolato.\n",
    "\n",
    "\n",
    "Fonte dati: *Presidenza del Consiglio dei Ministri - Dipartimento della Protezione Civile*\n",
    "\n",
    "https://github.com/pcm-dpc/COVID-19\n",
    "\n",
    "> **NOTA** Questo notebook nasce per condividere il proprio kernel con altri notebooks dove vengono effettuate e visualizzate le analisi vere e proprie."
   ]
  },
  {
   "cell_type": "markdown",
   "metadata": {},
   "source": [
    "## Lista indicatori raccolti nella struttura dati\n",
    "\n",
    "**Originali:**\n",
    "- ricoverati_con_sintomi\n",
    "- terapia_intensiva\n",
    "- totale_ospedalizzati\n",
    "- isolamento_domiciliare\n",
    "- totale_positivi\n",
    "- variazione_totale_positivi\n",
    "- nuovi_positivi\n",
    "- dimessi_guariti\n",
    "- deceduti\n",
    "- totale_casi\n",
    "- tamponi\n",
    "\n",
    "**Derivati:**\n",
    "- tamponi_giornalieri\n",
    "- deceduti_giornalieri\n",
    "- perc_tamponi_positivi\n",
    "- perc_guariti_su_positivi\n",
    "- perc_deceduti_su_positivi\n",
    "\n",
    "**Altre variabili:**\n",
    "- giorni\n",
    "- day_counter\n",
    "- regioni\n",
    "- eventi (dizionario di eventi notevoli con data)\n",
    "    - data (str)\n",
    "    - id_giorno (indice del giorno dell'evento)\n",
    "    - desc (str)"
   ]
  },
  {
   "cell_type": "code",
   "execution_count": 1,
   "metadata": {},
   "outputs": [],
   "source": [
    "import pandas as pd\n",
    "import numpy as np\n",
    "import datetime\n",
    "\n",
    "\n",
    "\n",
    "import warnings\n",
    "warnings.filterwarnings('ignore')"
   ]
  },
  {
   "cell_type": "markdown",
   "metadata": {},
   "source": [
    "## Parametri"
   ]
  },
  {
   "cell_type": "code",
   "execution_count": 2,
   "metadata": {},
   "outputs": [],
   "source": [
    "#data_file='dpc-covid19-ita-regioni.csv' # locale non aggiornato\n",
    "data_file='https://raw.githubusercontent.com/pcm-dpc/COVID-19/master/dati-regioni/dpc-covid19-ita-regioni.csv'"
   ]
  },
  {
   "cell_type": "markdown",
   "metadata": {},
   "source": [
    "## Lettura dati e preprocessing"
   ]
  },
  {
   "cell_type": "code",
   "execution_count": 3,
   "metadata": {
    "tags": []
   },
   "outputs": [
    {
     "name": "stdout",
     "output_type": "stream",
     "text": [
      "Index(['data', 'stato', 'codice_regione', 'denominazione_regione', 'lat',\n",
      "       'long', 'ricoverati_con_sintomi', 'terapia_intensiva',\n",
      "       'totale_ospedalizzati', 'isolamento_domiciliare', 'totale_positivi',\n",
      "       'variazione_totale_positivi', 'nuovi_positivi', 'dimessi_guariti',\n",
      "       'deceduti', 'casi_da_sospetto_diagnostico', 'casi_da_screening',\n",
      "       'totale_casi', 'tamponi', 'casi_testati', 'note'],\n",
      "      dtype='object')\n",
      "Giorni osservati: 206\n",
      "Da: 2020-02-24\n",
      " A: 2020-09-16\n"
     ]
    },
    {
     "data": {
      "text/html": [
       "<div>\n",
       "<style scoped>\n",
       "    .dataframe tbody tr th:only-of-type {\n",
       "        vertical-align: middle;\n",
       "    }\n",
       "\n",
       "    .dataframe tbody tr th {\n",
       "        vertical-align: top;\n",
       "    }\n",
       "\n",
       "    .dataframe thead th {\n",
       "        text-align: right;\n",
       "    }\n",
       "</style>\n",
       "<table border=\"1\" class=\"dataframe\">\n",
       "  <thead>\n",
       "    <tr style=\"text-align: right;\">\n",
       "      <th></th>\n",
       "      <th>data</th>\n",
       "      <th>stato</th>\n",
       "      <th>codice_regione</th>\n",
       "      <th>denominazione_regione</th>\n",
       "      <th>lat</th>\n",
       "      <th>long</th>\n",
       "      <th>ricoverati_con_sintomi</th>\n",
       "      <th>terapia_intensiva</th>\n",
       "      <th>totale_ospedalizzati</th>\n",
       "      <th>isolamento_domiciliare</th>\n",
       "      <th>totale_positivi</th>\n",
       "      <th>variazione_totale_positivi</th>\n",
       "      <th>nuovi_positivi</th>\n",
       "      <th>dimessi_guariti</th>\n",
       "      <th>deceduti</th>\n",
       "      <th>casi_da_sospetto_diagnostico</th>\n",
       "      <th>casi_da_screening</th>\n",
       "      <th>totale_casi</th>\n",
       "      <th>tamponi</th>\n",
       "      <th>casi_testati</th>\n",
       "      <th>note</th>\n",
       "    </tr>\n",
       "  </thead>\n",
       "  <tbody>\n",
       "    <tr>\n",
       "      <th>4238</th>\n",
       "      <td>2020-09-12T17:00:00</td>\n",
       "      <td>ITA</td>\n",
       "      <td>9</td>\n",
       "      <td>Toscana</td>\n",
       "      <td>43.769231</td>\n",
       "      <td>11.255889</td>\n",
       "      <td>74</td>\n",
       "      <td>18</td>\n",
       "      <td>92</td>\n",
       "      <td>2310</td>\n",
       "      <td>2402</td>\n",
       "      <td>90</td>\n",
       "      <td>138</td>\n",
       "      <td>9473</td>\n",
       "      <td>1148</td>\n",
       "      <td>11095.0</td>\n",
       "      <td>1928.0</td>\n",
       "      <td>13023</td>\n",
       "      <td>623464</td>\n",
       "      <td>419422.0</td>\n",
       "      <td>NaN</td>\n",
       "    </tr>\n",
       "    <tr>\n",
       "      <th>4259</th>\n",
       "      <td>2020-09-13T17:00:00</td>\n",
       "      <td>ITA</td>\n",
       "      <td>9</td>\n",
       "      <td>Toscana</td>\n",
       "      <td>43.769231</td>\n",
       "      <td>11.255889</td>\n",
       "      <td>80</td>\n",
       "      <td>17</td>\n",
       "      <td>97</td>\n",
       "      <td>2362</td>\n",
       "      <td>2459</td>\n",
       "      <td>57</td>\n",
       "      <td>91</td>\n",
       "      <td>9506</td>\n",
       "      <td>1149</td>\n",
       "      <td>11112.0</td>\n",
       "      <td>2002.0</td>\n",
       "      <td>13114</td>\n",
       "      <td>630201</td>\n",
       "      <td>424101.0</td>\n",
       "      <td>NaN</td>\n",
       "    </tr>\n",
       "    <tr>\n",
       "      <th>4280</th>\n",
       "      <td>2020-09-14T17:00:00</td>\n",
       "      <td>ITA</td>\n",
       "      <td>9</td>\n",
       "      <td>Toscana</td>\n",
       "      <td>43.769231</td>\n",
       "      <td>11.255889</td>\n",
       "      <td>82</td>\n",
       "      <td>18</td>\n",
       "      <td>100</td>\n",
       "      <td>2400</td>\n",
       "      <td>2500</td>\n",
       "      <td>41</td>\n",
       "      <td>59</td>\n",
       "      <td>9523</td>\n",
       "      <td>1150</td>\n",
       "      <td>11136.0</td>\n",
       "      <td>2037.0</td>\n",
       "      <td>13173</td>\n",
       "      <td>633578</td>\n",
       "      <td>426415.0</td>\n",
       "      <td>NaN</td>\n",
       "    </tr>\n",
       "    <tr>\n",
       "      <th>4301</th>\n",
       "      <td>2020-09-15T17:00:00</td>\n",
       "      <td>ITA</td>\n",
       "      <td>9</td>\n",
       "      <td>Toscana</td>\n",
       "      <td>43.769231</td>\n",
       "      <td>11.255889</td>\n",
       "      <td>93</td>\n",
       "      <td>17</td>\n",
       "      <td>110</td>\n",
       "      <td>2417</td>\n",
       "      <td>2527</td>\n",
       "      <td>27</td>\n",
       "      <td>41</td>\n",
       "      <td>9536</td>\n",
       "      <td>1151</td>\n",
       "      <td>11151.0</td>\n",
       "      <td>2063.0</td>\n",
       "      <td>13214</td>\n",
       "      <td>638071</td>\n",
       "      <td>429310.0</td>\n",
       "      <td>NaN</td>\n",
       "    </tr>\n",
       "    <tr>\n",
       "      <th>4322</th>\n",
       "      <td>2020-09-16T17:00:00</td>\n",
       "      <td>ITA</td>\n",
       "      <td>9</td>\n",
       "      <td>Toscana</td>\n",
       "      <td>43.769231</td>\n",
       "      <td>11.255889</td>\n",
       "      <td>88</td>\n",
       "      <td>20</td>\n",
       "      <td>108</td>\n",
       "      <td>2480</td>\n",
       "      <td>2588</td>\n",
       "      <td>61</td>\n",
       "      <td>90</td>\n",
       "      <td>9565</td>\n",
       "      <td>1151</td>\n",
       "      <td>11177.0</td>\n",
       "      <td>2127.0</td>\n",
       "      <td>13304</td>\n",
       "      <td>644645</td>\n",
       "      <td>433964.0</td>\n",
       "      <td>NaN</td>\n",
       "    </tr>\n",
       "  </tbody>\n",
       "</table>\n",
       "</div>"
      ],
      "text/plain": [
       "                     data stato  codice_regione  ...  tamponi  casi_testati  note\n",
       "4238  2020-09-12T17:00:00   ITA               9  ...   623464      419422.0   NaN\n",
       "4259  2020-09-13T17:00:00   ITA               9  ...   630201      424101.0   NaN\n",
       "4280  2020-09-14T17:00:00   ITA               9  ...   633578      426415.0   NaN\n",
       "4301  2020-09-15T17:00:00   ITA               9  ...   638071      429310.0   NaN\n",
       "4322  2020-09-16T17:00:00   ITA               9  ...   644645      433964.0   NaN\n",
       "\n",
       "[5 rows x 21 columns]"
      ]
     },
     "execution_count": 3,
     "metadata": {},
     "output_type": "execute_result"
    }
   ],
   "source": [
    "data=pd.read_csv(data_file)\n",
    "print(data.columns)\n",
    "\n",
    "giorni=pd.unique(data['data'])\n",
    "day_counter=list(range(len(giorni)))\n",
    "print('Giorni osservati: %d'%len(giorni))\n",
    "print('Da: %s'%giorni[0][0:10])\n",
    "print(' A: %s'%giorni[-1][0:10])\n",
    "regioni=pd.unique(data['denominazione_regione'])\n",
    "\n",
    "#data[data['denominazione_regione']=='Lombardia'].head(5)\n",
    "data[data['denominazione_regione']=='Toscana'].tail(5)\n"
   ]
  },
  {
   "cell_type": "markdown",
   "metadata": {},
   "source": [
    "### Lettura dati popolazione"
   ]
  },
  {
   "cell_type": "code",
   "execution_count": 4,
   "metadata": {},
   "outputs": [
    {
     "data": {
      "text/plain": [
       "{'Lombardia': 10060574,\n",
       " 'Lazio': 5879082,\n",
       " 'Campania': 5801692,\n",
       " 'Sicilia': 4999891,\n",
       " 'Veneto': 4905854,\n",
       " 'Emilia-Romagna': 4459477,\n",
       " 'Piemonte': 4356406,\n",
       " 'Puglia': 4029053,\n",
       " 'Toscana': 3729641,\n",
       " 'Calabria': 1947131,\n",
       " 'Sardegna': 1639591,\n",
       " 'Liguria': 1550640,\n",
       " 'Marche': 1525271,\n",
       " 'Abruzzo': 1311580,\n",
       " 'Friuli Venezia Giulia': 1215220,\n",
       " 'P.A. Trento': 1072276,\n",
       " 'Umbria': 882015,\n",
       " 'Basilicata': 562869,\n",
       " 'Molise': 305617,\n",
       " \"Valle d'Aosta\": 125666,\n",
       " 'P.A. Bolzano': 106441}"
      ]
     },
     "execution_count": 4,
     "metadata": {},
     "output_type": "execute_result"
    }
   ],
   "source": [
    "dati_pop=pd.read_excel('popolazione_regioni.xlsx')\n",
    "#dati_pop\n",
    "pop_keys=list(dati_pop['Regione'])\n",
    "\n",
    "\n",
    "popolazione = {pop_keys[i]: dati_pop.iloc[i]['Popolazione'] for i in range(len(pop_keys))} \n",
    "\n",
    "popolazione"
   ]
  },
  {
   "cell_type": "markdown",
   "metadata": {},
   "source": [
    "### Inserimento di eventi notevoli riferiti a date"
   ]
  },
  {
   "cell_type": "code",
   "execution_count": 5,
   "metadata": {},
   "outputs": [],
   "source": [
    "lockdown={'data':'2020-03-10',\n",
    "          'id_giorno':15,\n",
    "          'desc':'Lockdown'}\n",
    "\n",
    "scuole_chiuse={'data':'2020-03-04',\n",
    "               'id_giorno':9,\n",
    "               'desc':'Scuole chiuse'}\n",
    "\n",
    "fase_2={'data':'2020-05-04',\n",
    "               'id_giorno':71,\n",
    "               'desc':'Fase2'}\n",
    "\n",
    "\n",
    "eventi=[scuole_chiuse,lockdown, fase_2]"
   ]
  },
  {
   "cell_type": "markdown",
   "metadata": {},
   "source": [
    "## Analisi"
   ]
  },
  {
   "cell_type": "markdown",
   "metadata": {},
   "source": [
    "### Creazione della struttura dati\n",
    "\n",
    "- Si crea un dizionario per ciascuno degli indicatori selezionati\n",
    "- a sua volta ciascun elemento del primo dizionario è un dizionario con le regioni come chiave\n",
    "    - ogni elemento indicatore contiene i valori dell'indicatore per la regione\n",
    "\n",
    "**Esempio:**\n",
    "```    \n",
    "trend[indicatore][regione]\n",
    "```"
   ]
  },
  {
   "cell_type": "code",
   "execution_count": 6,
   "metadata": {},
   "outputs": [],
   "source": [
    "# indicatori osservati\n",
    "indicatori=['ricoverati_con_sintomi', 'terapia_intensiva',\n",
    "       'totale_ospedalizzati', 'isolamento_domiciliare', 'totale_positivi',\n",
    "       'variazione_totale_positivi', 'nuovi_positivi', 'dimessi_guariti',\n",
    "       'deceduti', 'totale_casi', 'tamponi']\n",
    "\n",
    "# qui immetto tutti i trend per ciascuna regione\n",
    "trend={}\n",
    "for ind in indicatori:\n",
    "    trend[ind]={}\n",
    "    for regione in regioni:\n",
    "        trend[ind][regione]=np.array(data[data['denominazione_regione']==regione][ind])\n",
    "\n",
    "# calcolo gli indicatori nazionali come somma delle regioni\n",
    "for ind in indicatori:\n",
    "    trend[ind]['Italia']=np.zeros(len(giorni))\n",
    "    for regione in regioni:\n",
    "        trend[ind]['Italia']+=trend[ind][regione]"
   ]
  },
  {
   "cell_type": "markdown",
   "metadata": {},
   "source": [
    "### Indicatori derivati"
   ]
  },
  {
   "cell_type": "markdown",
   "metadata": {},
   "source": [
    "#### Giorno della settimana associato ai giorni"
   ]
  },
  {
   "cell_type": "code",
   "execution_count": 7,
   "metadata": {},
   "outputs": [],
   "source": [
    "def which_weekday(datestring):\n",
    "    # datestring is in this format '2020-02-24T18:00:00'\n",
    "    return datetime.date(int(datestring[0:4]),int(datestring[5:7]),int(datestring[8:10])).weekday()\n",
    "\n",
    "giorno_settimana=[which_weekday(d) for d in giorni]"
   ]
  },
  {
   "cell_type": "markdown",
   "metadata": {},
   "source": [
    "#### Tamponi giornalieri"
   ]
  },
  {
   "cell_type": "code",
   "execution_count": 8,
   "metadata": {},
   "outputs": [],
   "source": [
    "# tamponi giornalieri\n",
    "trend['tamponi_giornalieri']={}\n",
    "for regione in regioni:\n",
    "    trend['tamponi_giornalieri'][regione]=np.insert(np.diff(trend['tamponi'][regione]),0,0)\n",
    "\n",
    "trend['tamponi_giornalieri']['Italia']=np.insert(np.diff(trend['tamponi']['Italia']),0,0)\n"
   ]
  },
  {
   "cell_type": "markdown",
   "metadata": {},
   "source": [
    "#### Deceduti giornalieri"
   ]
  },
  {
   "cell_type": "code",
   "execution_count": 9,
   "metadata": {},
   "outputs": [],
   "source": [
    "# deceduti giornalieri\n",
    "trend['deceduti_giornalieri']={}\n",
    "for regione in regioni:\n",
    "    trend['deceduti_giornalieri'][regione]=np.insert(np.diff(trend['deceduti'][regione]),0,0)\n",
    "\n",
    "trend['deceduti_giornalieri']['Italia']=np.insert(np.diff(trend['deceduti']['Italia']),0,0)\n"
   ]
  },
  {
   "cell_type": "markdown",
   "metadata": {},
   "source": [
    "#### Guariti giornalieri"
   ]
  },
  {
   "cell_type": "code",
   "execution_count": 10,
   "metadata": {},
   "outputs": [],
   "source": [
    "trend['guariti_giornalieri']={}\n",
    "for regione in regioni:\n",
    "    trend['guariti_giornalieri'][regione]=np.insert(np.diff(trend['dimessi_guariti'][regione]),0,0)\n",
    "\n",
    "trend['guariti_giornalieri']['Italia']=np.insert(np.diff(trend['dimessi_guariti']['Italia']),0,0)\n"
   ]
  },
  {
   "cell_type": "markdown",
   "metadata": {},
   "source": [
    "#### Percentuale tamponi positivi"
   ]
  },
  {
   "cell_type": "code",
   "execution_count": 11,
   "metadata": {},
   "outputs": [],
   "source": [
    "# percentuale tamponi positivi su quelli effettuati\n",
    "trend['perc_tamponi_positivi']={}\n",
    "for regione in regioni:\n",
    "    trend['perc_tamponi_positivi'][regione]=100*trend['nuovi_positivi'][regione]/trend['tamponi_giornalieri'][regione]\n",
    "\n",
    "trend['perc_tamponi_positivi']['Italia']=100*trend['nuovi_positivi']['Italia']/trend['tamponi_giornalieri']['Italia']"
   ]
  },
  {
   "cell_type": "markdown",
   "metadata": {},
   "source": [
    "#### Rate deceduti e rate guariti su attualmente positivi (il giorno precedente)"
   ]
  },
  {
   "cell_type": "code",
   "execution_count": 12,
   "metadata": {},
   "outputs": [],
   "source": [
    "trend['perc_guariti_su_positivi']={}\n",
    "trend['perc_deceduti_su_positivi']={}\n",
    "\n",
    "np.hstack((regioni,'Italia'))\n",
    "\n",
    "for regione in np.hstack((regioni,'Italia')):\n",
    "    # percentuale di GUARITI su POSITIVI\n",
    "    trend['perc_guariti_su_positivi'][regione]=np.zeros_like(trend['totale_positivi'][regione],dtype=float)\n",
    "    for d in range(1,len(giorni)):\n",
    "        try:\n",
    "            trend['perc_guariti_su_positivi'][regione][d]=100*float(trend['guariti_giornalieri'][regione][d]/trend['totale_positivi'][regione][d-1])\n",
    "            #print('%d   %4.2f  %4.2f'%(d,trend['guariti_giornalieri'][regione][d],trend['totale_positivi'][regione][d-1]))\n",
    "        except ValueError:\n",
    "            trend['perc_guariti_su_positivi'][regione][d]=np.NaN\n",
    "            \n",
    "    # percentuale di DECEDUTI su POSITIVI\n",
    "    trend['perc_deceduti_su_positivi'][regione]=np.zeros_like(trend['totale_positivi'][regione],dtype=float)\n",
    "    for d in range(1,len(giorni)):\n",
    "        try:\n",
    "            trend['perc_deceduti_su_positivi'][regione][d]=100*float(trend['deceduti_giornalieri'][regione][d]/trend['totale_positivi'][regione][d-1])\n",
    "            #print('%d   %4.2f  %4.2f'%(d,trend['deceduti_giornalieri'][regione][d],trend['totale_positivi'][regione][d-1]))\n",
    "        except ValueError:\n",
    "            trend['perc_deceduti_su_positivi'][regione][d]=np.NaN\n",
    "                "
   ]
  },
  {
   "cell_type": "markdown",
   "metadata": {},
   "source": [
    "## Salvataggio dati su file PICKLE\n",
    "\n",
    "Vengono salvati su file **pickle** nell' ordine:\n",
    "- trend\n",
    "- regioni\n",
    "- giorni\n"
   ]
  },
  {
   "cell_type": "code",
   "execution_count": 13,
   "metadata": {},
   "outputs": [],
   "source": [
    "import pickle\n",
    "\n",
    "output_data_file='stored_data.pkl'\n",
    "\n",
    "outfile = open(output_data_file,'wb')\n",
    "pickle.dump(trend,outfile)\n",
    "pickle.dump(regioni,outfile)\n",
    "pickle.dump(giorni,outfile)\n",
    "pickle.dump(giorno_settimana,outfile)\n",
    "pickle.dump(popolazione,outfile)\n",
    "outfile.close()"
   ]
  }
 ],
 "metadata": {
  "kernelspec": {
   "display_name": "Python 3 (Spyder)",
   "language": "python3",
   "name": "python3"
  },
  "language_info": {
   "codemirror_mode": {
    "name": "ipython",
    "version": 3
   },
   "file_extension": ".py",
   "mimetype": "text/x-python",
   "name": "python",
   "nbconvert_exporter": "python",
   "pygments_lexer": "ipython3",
   "version": "3.7.1"
  }
 },
 "nbformat": 4,
 "nbformat_minor": 4
}
