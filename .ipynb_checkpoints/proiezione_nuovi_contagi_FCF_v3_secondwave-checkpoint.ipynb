{
 "cells": [
  {
   "cell_type": "code",
   "execution_count": 32,
   "metadata": {},
   "outputs": [],
   "source": [
    "import numpy as np\n",
    "import pickle as pkl\n",
    "from datetime import datetime, timedelta\n",
    "import matplotlib.pyplot as plt\n",
    "import matplotlib.colors as mcolors\n",
    "from aidam.miscellanea_utils import find_matlabstyle\n",
    "\n",
    "import seaborn as sns\n",
    "\n",
    "from aidam.faga.curve_fit import FagaCurveFit\n",
    "\n",
    "from aidam.math_utils import moving_function_rev1\n",
    "from aidam.NbEnhance import tabprint"
   ]
  },
  {
   "cell_type": "markdown",
   "metadata": {},
   "source": [
    "## Lettura dati"
   ]
  },
  {
   "cell_type": "code",
   "execution_count": 33,
   "metadata": {},
   "outputs": [
    {
     "name": "stdout",
     "output_type": "stream",
     "text": [
      "Giorni osservati: 212\n",
      "Primo giorno: 2020-02-24T18:00:00\n",
      "Ultimo giorno: 2020-09-22T17:00:00\n"
     ]
    }
   ],
   "source": [
    "data_file='stored_data.pkl'\n",
    "\n",
    "infile=open(data_file,'rb')\n",
    "trend=pkl.load(infile)\n",
    "regioni=pkl.load(infile)\n",
    "giorni=pkl.load(infile)\n",
    "giorno_settimana=pkl.load(infile)\n",
    "infile.close()\n",
    "\n",
    "day_counter=list(range(len(giorni)))\n",
    "\n",
    "print('Giorni osservati: %d'%len(giorni))\n",
    "print('Primo giorno: %s'%giorni[0])\n",
    "print('Ultimo giorno: %s'%giorni[-1])"
   ]
  },
  {
   "cell_type": "markdown",
   "metadata": {},
   "source": [
    "Preparazione date\n",
    "\n",
    "- creo il giorno 0 nel formato *datetime* per poi creare i nuovi plot su questa base\n",
    "- creo una lista di giorni (in formato di stringhe) partendo dal giorno0"
   ]
  },
  {
   "cell_type": "code",
   "execution_count": 34,
   "metadata": {},
   "outputs": [],
   "source": [
    "giorno0=datetime.strptime(giorni[0][0:10], \"%Y-%m-%d\")\n",
    "str_giorni=[]\n",
    "for d in range(500):\n",
    "    str_giorni.append((giorno0+timedelta(d)).strftime(\"%Y-%m-%d\"))\n",
    "str_giorni=np.array(str_giorni)\n",
    "\n",
    "oggi=datetime.strftime(datetime.now(), \"%Y-%m-%d\")\n",
    "indice_oggi=find_matlabstyle(str_giorni,lambda x:x==oggi)[0]"
   ]
  },
  {
   "cell_type": "markdown",
   "metadata": {},
   "source": [
    "## Funzioni base\n",
    "\n",
    "Si testano due versioni generalizzate della sigmoide:\n",
    "\n",
    "- sigmoide generalizzata\n",
    "- sigmoide generalizzata estesa"
   ]
  },
  {
   "cell_type": "code",
   "execution_count": 93,
   "metadata": {},
   "outputs": [],
   "source": [
    "def generalized_sigmoid(t,a,b,M,alpha):\n",
    "    y=M/(1+np.exp(-a*t+b))**alpha\n",
    "    return y\n",
    "\n",
    "def generalized_sigmoid_ext(t,a,b,c,M,alpha):\n",
    "    y=(M+c*t)/(1+np.exp(-a*t+b))**alpha\n",
    "    return y\n",
    "\n",
    "\n",
    "def two_waves_generalized_sigmoids_ext(t,t_sw,a1,b1,c1,M1,alpha1,a2,b2,c2,M2,alpha2):    \n",
    "    if t<=t_sw:\n",
    "        y=(M1+c1*t)/(1+np.exp(-a1*t+b1))**alpha1\n",
    "    else:\n",
    "        #y=(M1+c1*t)/(1+np.exp(-a1*t+b1))**alpha1+(M2+c2*t)/(1+np.exp(-a2*(t-t_sw)+b2))**alpha2\n",
    "        y=(M1+c1*t)/(1+np.exp(-a1*t+b1))**alpha1+(M2+c2*(t-t_sw))/(1+np.exp(-a2*(t-t_sw)+b2))**alpha2-(M2)/(1+np.exp(b2))**alpha2\n",
    "    return y\n",
    "\n",
    "\n",
    "def two_waves_generalized_sigmoids(t,t_sw,a1,b1,M1,alpha1,a2,b2,M2,alpha2):\n",
    "    t_sw=np.round(t_sw)\n",
    "    if t<t_sw:\n",
    "        y=(M1)/(1+np.exp(-a1*t+b1))**alpha1\n",
    "    elif t==t_tw:\n",
    "        y=(1.5*M1)/(1+np.exp(-a1*t+b1))**alpha1\n",
    "    else:        \n",
    "        y=(M1)/(1+np.exp(-a1*t+b1))**alpha1+(M2)/(1+np.exp(-a2*(t-t_sw)+b2))**alpha2-(M2)/(1+np.exp(b2))**alpha2\n",
    "    return y\n",
    "\n",
    "\n",
    "\n",
    "employed_model=two_waves_generalized_sigmoids"
   ]
  },
  {
   "cell_type": "markdown",
   "metadata": {},
   "source": [
    "## Nuovi positivi *normalizzati*"
   ]
  },
  {
   "cell_type": "code",
   "execution_count": 94,
   "metadata": {},
   "outputs": [
    {
     "name": "stderr",
     "output_type": "stream",
     "text": [
      "C:\\Users\\klaat\\Anaconda3\\lib\\site-packages\\scipy\\signal\\_arraytools.py:45: FutureWarning:\n",
      "\n",
      "Using a non-tuple sequence for multidimensional indexing is deprecated; use `arr[tuple(seq)]` instead of `arr[seq]`. In the future this will be interpreted as an array index, `arr[np.array(seq)]`, which will result either in an error or a different result.\n",
      "\n"
     ]
    }
   ],
   "source": [
    "from scipy.signal import savgol_filter\n",
    "trend['perc_tamponi_positivi']['Italia'][0]=trend['perc_tamponi_positivi']['Italia'][1]\n",
    "\n",
    "np_it=trend['nuovi_positivi']['Italia']\n",
    "\n",
    "\n",
    "nwt=7\n",
    "nwp=3\n",
    "\n",
    "\n",
    "norm_np_it=0.01*np.multiply(moving_function_rev1(trend['tamponi_giornalieri']['Italia'],np.median,nwt,nwt),\n",
    "                     moving_function_rev1(trend['perc_tamponi_positivi']['Italia'],np.mean,nwp,nwp))\n",
    "\n",
    "norm_np_it=savgol_filter(norm_np_it,9,1)"
   ]
  },
  {
   "cell_type": "markdown",
   "metadata": {},
   "source": [
    "### Test plots"
   ]
  },
  {
   "cell_type": "raw",
   "metadata": {},
   "source": [
    "test_pars=[115,0.1, 0.05, 5,2.5e+5,2,0.1, 0, 2,2.5e+5,2\n",
    "           \n",
    "y_pred=np.array(list(map(lambda x:employed_model(x,*test_pars),day_counter)))\n",
    "\n",
    "plt.plot(day_counter,y_pred)"
   ]
  },
  {
   "cell_type": "markdown",
   "metadata": {},
   "source": [
    "## Fitting"
   ]
  },
  {
   "cell_type": "code",
   "execution_count": 95,
   "metadata": {},
   "outputs": [
    {
     "data": {
      "image/png": "[encoded data removed]",
      "text/plain": [
       "<Figure size 576x288 with 1 Axes>"
      ]
     },
     "metadata": {
      "needs_background": "light"
     },
     "output_type": "display_data"
    }
   ],
   "source": [
    "#target_data=trend['totale_casi']['Italia']\n",
    "target_data=np.cumsum(trend['nuovi_positivi']['Italia'])\n",
    "#target_data=np.cumsum(norm_np_it)\n",
    "target_data_filtered=moving_function_rev1(target_data,np.mean,3,3)\n",
    "\n",
    "fig,ax=plt.subplots(1,1,figsize=(8,4))\n",
    "ax.plot(day_counter,target_data,'o')\n",
    "ax.plot(day_counter,target_data_filtered,'-')\n",
    "ax.set_xticks(list(range(0,len(target_data),7)))\n",
    "ax.set_title('Target: casi totali')\n",
    "ax.set_xticklabels(str_giorni[list(range(0,len(target_data),7))],rotation=90)\n",
    "ax.grid()"
   ]
  },
  {
   "cell_type": "markdown",
   "metadata": {},
   "source": [
    "## GA-based Curve fitting\n",
    "\n",
    "E' possibile utilizzare solo **parzialmente** i dati per il tuning del modello: tramite il parametro `days_training` si decide quanti giorni usare effettivamente dall'inizio del dataset\n"
   ]
  },
  {
   "cell_type": "code",
   "execution_count": 96,
   "metadata": {},
   "outputs": [
    {
     "name": "stdout",
     "output_type": "stream",
     "text": [
      "            0         1         2         3         4         5         6         7         8\n",
      "         ----      ----      ----      ----      ----      ----      ----      ----      ----\n",
      "Min     115.0       0.0       0.0  200000.0       0.0       0.0       0.0  200000.0       0.0\n",
      "Max     130.0       0.3       0.4  300000.0      10.0       0.3       0.4  300000.0      10.0\n"
     ]
    }
   ],
   "source": [
    "days_training=len(target_data)-21\n",
    "\n",
    "# Italia\n",
    "a_range=[0,0.3]\n",
    "b_range=[0, 0.4]\n",
    "c_range=[0,10]\n",
    "M_range=[2e+5,3e+5]\n",
    "alpha_range=[0,10]\n",
    "t_sw_range=[115,130]\n",
    "\n",
    "'''\n",
    "# dominio per generalized_sigmoid_ext\n",
    "dominio=np.vstack((a_range,\n",
    "                   b_range,\n",
    "                   c_range,\n",
    "                   M_range,\n",
    "                   alpha_range))\n",
    "'''\n",
    "\n",
    "\n",
    "\n",
    "# dominio per two_waves_generalized_sigmoids_ext\n",
    "#M_range=[0,3e+5]\n",
    "dominio=np.vstack((t_sw_range,\n",
    "                   a_range,\n",
    "                   b_range,\n",
    "                   c_range,\n",
    "                   M_range,\n",
    "                   alpha_range,\n",
    "                   a_range,\n",
    "                   b_range,\n",
    "                   c_range,\n",
    "                   M_range,\n",
    "                   alpha_range))\n",
    "\n",
    "\n",
    "# dominio per two_waves_generalized_sigmoids\n",
    "#M_range=[0,3e+5]\n",
    "dominio=np.vstack((t_sw_range,\n",
    "                   a_range,\n",
    "                   b_range,\n",
    "                   M_range,\n",
    "                   alpha_range,\n",
    "                   a_range,\n",
    "                   b_range,\n",
    "                   M_range,\n",
    "                   alpha_range))\n",
    "\n",
    "                   \n",
    "dominio=dominio.T\n",
    "\n",
    "tabprint(dominio,digits=10,precision=1,index=['Min','Max'])"
   ]
  },
  {
   "cell_type": "code",
   "execution_count": 97,
   "metadata": {},
   "outputs": [
    {
     "name": "stdout",
     "output_type": "stream",
     "text": [
      "Welcome to FagaCurveFit!\n",
      "Gen:     0 BestAll: 2.256 BestGen: 2.256  BioDiv: 6e+03\n",
      "Gen:   100 BestAll: 15.07 BestGen: 15.07  AveFit: 13.58\n",
      "Gen:   200 BestAll: 17.21 BestGen: 17.21  AveFit: 14.77\n",
      "Gen:   300 BestAll: 18.38 BestGen: 18.38  AveFit: 16.96\n",
      "Gen:   400 BestAll: 20.94 BestGen: 20.94  AveFit: 18.59\n",
      "Gen:   500 BestAll: 23.32 BestGen: 23.32  AveFit: 19.72\n",
      "Gen:   600 BestAll: 31.42 BestGen: 31.42  AveFit: 25.39\n",
      "Gen:   700 BestAll: 33.21 BestGen: 33.21  AveFit: 29.27\n",
      "Gen:   800 BestAll: 35.16 BestGen: 35.16  AveFit: 32.82\n",
      "Gen:   900 BestAll: 35.41 BestGen: 35.41  AveFit: 32.21\n",
      "Gen:  1000 BestAll: 35.46 BestGen: 35.46  AveFit: 32.07\n",
      "Gen:  1100 BestAll: 37.37 BestGen: 37.37  AveFit: 33.9\n",
      "Gen:  1200 BestAll: 37.98 BestGen: 37.98  AveFit: 32.71\n",
      "Gen:  1300 BestAll: 38.48 BestGen: 38.48  AveFit: 33.43\n",
      "Gen:  1400 BestAll: 40.42 BestGen: 40.42  AveFit: 38.9\n",
      "Gen:  1500 BestAll: 40.42 BestGen: 40.42  AveFit: 38.51\n"
     ]
    }
   ],
   "source": [
    "def error_measure(predicted,actual):\n",
    "    #return np.mean(np.abs(predicted-actual))+np.std(np.abs(predicted-actual))\n",
    "    return 0.7*np.mean(np.abs(predicted-actual))+0.3*np.mean(np.abs(predicted[-14:]-actual[-14:]))\n",
    "    #return 0.2*np.percentile(np.abs(predicted-actual),5)+np.mean(np.abs(predicted-actual))\n",
    "    #return np.mean(np.abs(predicted-actual))\n",
    "\n",
    "np.random.seed(42)\n",
    "    \n",
    "fct=FagaCurveFit()\n",
    "\n",
    "fct.fit(employed_model, \n",
    "        np.arange(days_training),\n",
    "        target_data[0:days_training],\n",
    "        dominio,\n",
    "        ga_generations=1500, ga_population=30,print_info=100,\n",
    "        error_function=error_measure,\n",
    "        num_mutations=1)\n",
    "\n"
   ]
  },
  {
   "cell_type": "code",
   "execution_count": 98,
   "metadata": {},
   "outputs": [
    {
     "name": "stdout",
     "output_type": "stream",
     "text": [
      "\n",
      "Optimal solution is: \n",
      "[1.24834245e+02 6.53824436e-02 2.57809376e-01 2.35891888e+05\n",
      " 7.50421102e+00 2.38977833e-02 3.45726326e-01 2.14240945e+05\n",
      " 6.93925008e+00]\n",
      "Inizio second wave: giorno 124, 2020-06-28T17:00:00\n"
     ]
    }
   ],
   "source": [
    "solution=fct.opt_params\n",
    "\n",
    "print('\\nOptimal solution is: ')\n",
    "\n",
    "print(solution)\n",
    "# Interpretazione della soluzione\n",
    "print('Inizio second wave: giorno %d, %s'%(solution[0],giorni[int(np.round(solution[0]))]))\n"
   ]
  },
  {
   "cell_type": "code",
   "execution_count": 99,
   "metadata": {},
   "outputs": [
    {
     "data": {
      "text/plain": [
       "Text(0.5, 0.98, 'Fitness trends')"
      ]
     },
     "execution_count": 99,
     "metadata": {},
     "output_type": "execute_result"
    },
    {
     "data": {
      "image/png": "[encoded data removed]",
      "text/plain": [
       "<Figure size 1008x360 with 2 Axes>"
      ]
     },
     "metadata": {
      "needs_background": "light"
     },
     "output_type": "display_data"
    }
   ],
   "source": [
    "fig,ax=plt.subplots(1,2,figsize=(14,5))\n",
    "ax[0].plot(fct.fitness_tracker['average'],label='Average')\n",
    "ax[0].plot(fct.fitness_tracker['max'],label='Max')\n",
    "ax[0].legend()\n",
    "ax[1].plot(fct.fitness_tracker['std'],label='Std')\n",
    "ax[1].legend()\n",
    "fig.suptitle('Fitness trends')\n"
   ]
  },
  {
   "cell_type": "markdown",
   "metadata": {},
   "source": [
    "Adesso applico il modello tunato sia ai giorni passati sia a giorni futuri.\n",
    "\n",
    "*forecast_days* sono i giorni per cui lo applico: iniziano dal giorno 0 e finoscono quando si vuole nel futuro"
   ]
  },
  {
   "cell_type": "code",
   "execution_count": 100,
   "metadata": {},
   "outputs": [],
   "source": [
    "forecast_days=np.arange(300)\n",
    "y_pred=np.array(list(map(lambda x:employed_model(x,*solution),forecast_days)))"
   ]
  },
  {
   "cell_type": "markdown",
   "metadata": {},
   "source": [
    "#### Plots"
   ]
  },
  {
   "cell_type": "code",
   "execution_count": 101,
   "metadata": {},
   "outputs": [
    {
     "name": "stderr",
     "output_type": "stream",
     "text": [
      "C:\\Users\\klaat\\Anaconda3\\lib\\site-packages\\ipykernel_launcher.py:19: UserWarning:\n",
      "\n",
      "Matplotlib is currently using module://ipykernel.pylab.backend_inline, which is a non-GUI backend, so cannot show the figure.\n",
      "\n"
     ]
    },
    {
     "data": {
      "image/png": "[encoded data removed]",
      "text/plain": [
       "<Figure size 864x720 with 2 Axes>"
      ]
     },
     "metadata": {
      "needs_background": "light"
     },
     "output_type": "display_data"
    }
   ],
   "source": [
    "# preparazione palette colori\n",
    "lista_colori=list(mcolors.TABLEAU_COLORS.items())\n",
    "color_names=[cn[0] for cn in lista_colori]\n",
    "\n",
    "fig,ax=plt.subplots(2,1,figsize=(12,10))\n",
    "ax[0].plot(day_counter,target_data,label='Reale',linewidth=4)\n",
    "ax[0].plot(forecast_days,y_pred,'r--',label='Predetto')\n",
    "ax[0].axvline(days_training-1,c='g',ls='--',label='Fine tuning')\n",
    "ax[0].set_xticks(list(range(0,len(forecast_days),5)))\n",
    "ax[0].set_xticklabels(str_giorni[list(range(0,len(forecast_days),5))],rotation=90)\n",
    "ax[0].set_ylabel('Totale infetti')\n",
    "ax[0].legend()\n",
    "ax[0].grid()\n",
    "\n",
    "ax[1].bar(day_counter,y_pred[day_counter]-target_data)\n",
    "ax[1].axvline(days_training-1)\n",
    "ax[1].set_title('Errore giornaliero')\n",
    "fig.tight_layout()\n",
    "fig.show()"
   ]
  },
  {
   "cell_type": "markdown",
   "metadata": {},
   "source": [
    "### Adesso vediamo, secondo il modello, quando non avremo più contagiati"
   ]
  },
  {
   "cell_type": "code",
   "execution_count": 102,
   "metadata": {},
   "outputs": [],
   "source": [
    "nuovi_contagi_pred=np.diff(y_pred)\n",
    "\n",
    "nuovi_contagi_reali=np.diff(target_data)\n",
    "nuovi_contagi_reali_filtered=moving_function_rev1(nuovi_contagi_reali,np.mean,3,3)#np.diff(target_data_filtered)"
   ]
  },
  {
   "cell_type": "code",
   "execution_count": 103,
   "metadata": {},
   "outputs": [
    {
     "data": {
      "text/plain": [
       "<matplotlib.legend.Legend at 0x20789108048>"
      ]
     },
     "execution_count": 103,
     "metadata": {},
     "output_type": "execute_result"
    },
    {
     "data": {
      "image/png": "[encoded data removed]",
      "text/plain": [
       "<Figure size 1008x432 with 1 Axes>"
      ]
     },
     "metadata": {
      "needs_background": "light"
     },
     "output_type": "display_data"
    }
   ],
   "source": [
    "fig,ax=plt.subplots(1,1,figsize=(14,6))\n",
    "ax.plot(nuovi_contagi_pred,'.',label='Nuovi contagi predetti')\n",
    "ax.set_ylabel('Nuovi contagi')\n",
    "\n",
    "#ax.plot(nuovi_contagi_reali,'o',label='Contagi reali')\n",
    "#ax.plot(nuovi_contagi_reali_filtered,'+',label='Contagi reali filt.')\n",
    "ax.axvline(x=days_training,linewidth=2, color='k',linestyle='--',label='Fine fitting')\n",
    "    \n",
    "ax.set_xticks(list(range(0,len(forecast_days),10)))\n",
    "ax.set_xticklabels(str_giorni[list(range(1,len(forecast_days),10))],rotation=90)\n",
    "ax.grid()\n",
    "ax.legend()\n"
   ]
  },
  {
   "cell_type": "code",
   "execution_count": 104,
   "metadata": {},
   "outputs": [
    {
     "data": {
      "text/plain": [
       "88.93177758401725"
      ]
     },
     "execution_count": 104,
     "metadata": {},
     "output_type": "execute_result"
    }
   ],
   "source": [
    "nuovi_contagi_pred[125]"
   ]
  },
  {
   "cell_type": "code",
   "execution_count": 105,
   "metadata": {},
   "outputs": [],
   "source": [
    "import plotly.graph_objects as go"
   ]
  },
  {
   "cell_type": "code",
   "execution_count": 106,
   "metadata": {},
   "outputs": [
    {
     "data": {
      "application/vnd.plotly.v1+json": {
       "config": {
        "plotlyServerURL": "https://plot.ly"
       },
       "data": [
        {
         "mode": "markers",
         "name": "Reali",
         "type": "scatter",
         "x": [
          0,
          1,
          2,
          3,
          4,
          5,
          6,
          7,
          8,
          9,
          10,
          11,
          12,
          13,
          14,
          15,
          16,
          17,
          18,
          19,
          20,
          21,
          22,
          23,
          24,
          25,
          26,
          27,
          28,
          29,
          30,
          31,
          32,
          33,
          34,
          35,
          36,
          37,
          38,
          39,
          40,
          41,
          42,
          43,
          44,
          45,
          46,
          47,
          48,
          49,
          50,
          51,
          52,
          53,
          54,
          55,
          56,
          57,
          58,
          59,
          60,
          61,
          62,
          63,
          64,
          65,
          66,
          67,
          68,
          69,
          70,
          71,
          72,
          73,
          74,
          75,
          76,
          77,
          78,
          79,
          80,
          81,
          82,
          83,
          84,
          85,
          86,
          87,
          88,
          89,
          90,
          91,
          92,
          93,
          94,
          95,
          96,
          97,
          98,
          99,
          100,
          101,
          102,
          103,
          104,
          105,
          106,
          107,
          108,
          109,
          110,
          111,
          112,
          113,
          114,
          115,
          116,
          117,
          118,
          119,
          120,
          121,
          122,
          123,
          124,
          125,
          126,
          127,
          128,
          129,
          130,
          131,
          132,
          133,
          134,
          135,
          136,
          137,
          138,
          139,
          140,
          141,
          142,
          143,
          144,
          145,
          146,
          147,
          148,
          149,
          150,
          151,
          152,
          153,
          154,
          155,
          156,
          157,
          158,
          159,
          160,
          161,
          162,
          163,
          164,
          165,
          166,
          167,
          168,
          169,
          170,
          171,
          172,
          173,
          174,
          175,
          176,
          177,
          178,
          179,
          180,
          181,
          182,
          183,
          184,
          185,
          186,
          187,
          188,
          189,
          190,
          191,
          192,
          193,
          194,
          195,
          196,
          197,
          198,
          199,
          200,
          201,
          202,
          203,
          204,
          205,
          206,
          207,
          208,
          209,
          210,
          211
         ],
         "y": [
          93,
          78,
          250,
          238,
          240,
          566,
          342,
          466,
          587,
          769,
          778,
          1247,
          1492,
          1797,
          977,
          2313,
          2651,
          2547,
          3497,
          3590,
          3233,
          3526,
          4207,
          5322,
          5986,
          6557,
          5560,
          4789,
          5249,
          5210,
          6153,
          5959,
          5974,
          5217,
          4050,
          4053,
          4782,
          4668,
          4585,
          4805,
          4316,
          3599,
          3039,
          3836,
          4204,
          3951,
          4694,
          4092,
          3153,
          2972,
          2667,
          3786,
          3493,
          3491,
          3047,
          2256,
          2729,
          3370,
          2646,
          3021,
          2357,
          2324,
          1739,
          2091,
          2086,
          1872,
          1965,
          1900,
          1389,
          1221,
          1075,
          1444,
          1401,
          1327,
          1083,
          802,
          744,
          1402,
          888,
          992,
          789,
          875,
          675,
          451,
          813,
          665,
          642,
          652,
          669,
          531,
          300,
          397,
          584,
          593,
          516,
          416,
          355,
          178,
          318,
          321,
          177,
          518,
          270,
          197,
          280,
          283,
          202,
          379,
          163,
          346,
          338,
          303,
          210,
          329,
          333,
          251,
          262,
          224,
          218,
          122,
          190,
          296,
          259,
          175,
          174,
          126,
          142,
          187,
          201,
          223,
          235,
          192,
          208,
          138,
          193,
          229,
          276,
          188,
          234,
          169,
          114,
          163,
          230,
          233,
          249,
          219,
          190,
          129,
          282,
          306,
          252,
          275,
          255,
          170,
          212,
          289,
          386,
          379,
          295,
          239,
          159,
          190,
          384,
          402,
          552,
          347,
          463,
          259,
          412,
          481,
          523,
          574,
          629,
          479,
          320,
          403,
          642,
          845,
          947,
          1071,
          1210,
          953,
          878,
          1367,
          1411,
          1462,
          1444,
          1365,
          996,
          978,
          1326,
          1397,
          1733,
          1694,
          1297,
          1108,
          1370,
          1434,
          1597,
          1616,
          1501,
          1458,
          1008,
          1229,
          1452,
          1585,
          1907,
          1638,
          1587,
          1350,
          1392
         ]
        },
        {
         "mode": "lines",
         "name": "Predetti",
         "type": "scatter",
         "x": [
          0,
          1,
          2,
          3,
          4,
          5,
          6,
          7,
          8,
          9,
          10,
          11,
          12,
          13,
          14,
          15,
          16,
          17,
          18,
          19,
          20,
          21,
          22,
          23,
          24,
          25,
          26,
          27,
          28,
          29,
          30,
          31,
          32,
          33,
          34,
          35,
          36,
          37,
          38,
          39,
          40,
          41,
          42,
          43,
          44,
          45,
          46,
          47,
          48,
          49,
          50,
          51,
          52,
          53,
          54,
          55,
          56,
          57,
          58,
          59,
          60,
          61,
          62,
          63,
          64,
          65,
          66,
          67,
          68,
          69,
          70,
          71,
          72,
          73,
          74,
          75,
          76,
          77,
          78,
          79,
          80,
          81,
          82,
          83,
          84,
          85,
          86,
          87,
          88,
          89,
          90,
          91,
          92,
          93,
          94,
          95,
          96,
          97,
          98,
          99,
          100,
          101,
          102,
          103,
          104,
          105,
          106,
          107,
          108,
          109,
          110,
          111,
          112,
          113,
          114,
          115,
          116,
          117,
          118,
          119,
          120,
          121,
          122,
          123,
          124,
          125,
          126,
          127,
          128,
          129,
          130,
          131,
          132,
          133,
          134,
          135,
          136,
          137,
          138,
          139,
          140,
          141,
          142,
          143,
          144,
          145,
          146,
          147,
          148,
          149,
          150,
          151,
          152,
          153,
          154,
          155,
          156,
          157,
          158,
          159,
          160,
          161,
          162,
          163,
          164,
          165,
          166,
          167,
          168,
          169,
          170,
          171,
          172,
          173,
          174,
          175,
          176,
          177,
          178,
          179,
          180,
          181,
          182,
          183,
          184,
          185,
          186,
          187,
          188,
          189,
          190,
          191,
          192,
          193,
          194,
          195,
          196,
          197,
          198,
          199,
          200,
          201,
          202,
          203,
          204,
          205,
          206,
          207,
          208,
          209,
          210,
          211
         ],
         "y": [
          145.5697752233994,
          184.89137180021783,
          232.72529858269377,
          290.29260956507414,
          358.8277585411374,
          439.5359296320146,
          533.5437548639125,
          641.8452459212394,
          765.2454003489829,
          904.3044519040036,
          1059.2860542527678,
          1230.1127652582018,
          1416.3320068294133,
          1617.0952118177993,
          1831.1521633768243,
          2056.8616392844215,
          2292.218470507969,
          2534.89609809751,
          2782.302754945027,
          3031.6485896631784,
          3280.020451792887,
          3524.460710158448,
          3762.0463927982273,
          3989.9651055612703,
          4205.584573683569,
          4406.513207147509,
          4590.649758064479,
          4756.220856226624,
          4901.80592070987,
          5026.349602851966,
          5129.162482417247,
          5209.91119042621,
          5268.599457631746,
          5305.541786804184,
          5321.331528740935,
          5316.805121598343,
          5293.004150147957,
          5251.136716853463,
          5192.5394110016205,
          5118.640934446128,
          5030.928209216247,
          4930.915566322219,
          4820.117406429636,
          4700.024538208614,
          4572.084242917248,
          4437.683985515061,
          4298.138592877367,
          4154.680646674067,
          4008.453789391555,
          3860.5086136116006,
          3711.800793475035,
          3563.191119861818,
          3415.4471139520756,
          3269.245914605184,
          3125.178160873038,
          2983.752619845094,
          2845.401340169221,
          2710.4851417057507,
          2579.2992807904957,
          2452.079157853441,
          2329.005959166505,
          2210.212147000013,
          2095.7867323749233,
          1985.7802818938217,
          1880.2096249200695,
          1779.0622398169944,
          1682.3003082394134,
          1589.8644348209782,
          1501.6770362347597,
          1417.6454087450984,
          1337.6644872236066,
          1261.619311396178,
          1189.3872169282986,
          1120.8397701123322,
          1055.8444654296618,
          994.266205316264,
          935.9685811263043,
          880.8149737069034,
          828.6694911605737,
          779.3977604459797,
          732.8675884081749,
          688.9495067433745,
          647.5172142957163,
          608.4479289740848,
          571.6226605037227,
          536.9264141961175,
          504.24833493024926,
          473.48179961775895,
          444.5244655525603,
          417.2782812535879,
          391.6494656575669,
          367.54846085986355,
          344.8898629625619,
          323.5923350537778,
          303.5785058195179,
          284.77485684893327,
          267.1116012696584,
          250.52255601302022,
          234.94500965430052,
          220.3195875195088,
          206.59011546100373,
          193.70348352269502,
          181.60951047154958,
          170.26081005026936,
          159.612659610837,
          149.62287169293268,
          140.25166897420422,
          131.46156293828972,
          123.21723650957574,
          115.4854308454378,
          108.23483639804181,
          101.43598832492717,
          95.06116626688163,
          89.08429849072127,
          83.48087034624768,
          78.22783698188141,
          73.30354022828396,
          68.68762954405975,
          64.36098691794905,
          60.30565559951356,
          56.504772517451784,
          52.94250427221414,
          49.6039865364728,
          46.47526674429537,
          43.54324991715839,
          88.93177758401725,
          90.6849167094042,
          92.92599007720128,
          95.66276080987882,
          98.90396523682284,
          102.65921868139412,
          106.93891749100294,
          111.7541372149135,
          117.11652691665222,
          123.03819964971626,
          129.53161921488936,
          136.6094833710813,
          144.2846037459385,
          152.5697827677941,
          161.47768800135236,
          171.02072434712318,
          181.21090462023858,
          192.05971909264917,
          203.5780046385771,
          215.7758141825907,
          228.66228716948535,
          242.2455218649411,
          256.53245026728837,
          271.52871648134897,
          287.2385594030202,
          303.66470056123217,
          320.8082379734842,
          338.6685468504438,
          357.24318796157604,
          376.5278244447254,
          396.51614779181546,
          417.19981369911693,
          438.5683884038299,
          460.6093060647545,
          483.3078376609483,
          506.64707180901314,
          530.6079078029143,
          555.169061094959,
          580.3070813301892,
          605.99638295779,
          632.209288342332,
          658.9160831823829,
          686.0850839756895,
          713.682717137126,
          741.673609315767,
          770.0206883491774,
          798.6852942171681,
          827.6272992762097,
          856.8052370008081,
          886.1764383760747,
          915.697175046138,
          945.3228082842834,
          975.0079427990131,
          1004.7065843791061,
          1034.37230036236,
          1063.9583819044637,
          1093.4180070284056,
          1122.7044034436112,
          1151.771010157332,
          1180.5716369150905,
          1209.0606205476797,
          1237.1929773565498,
          1264.9245507025043,
          1292.212153036322,
          1319.013701645832,
          1345.2883474950795,
          1370.9965965554002,
          1396.1004231370753,
          1420.5633747738902,
          1444.3506683023297,
          1467.4292768449523,
          1489.7680074711097,
          1511.3375693939743,
          1532.1106326213921,
          1552.0618770437432,
          1571.1680320153828,
          1589.4079065275728,
          1606.7624101565452,
          1623.2145649878075,
          1638.7495087923598,
          1653.3544897624524,
          1667.0188531579915,
          1679.7340202396736,
          1691.4934599068947,
          1702.292653480661,
          1712.1290530731785,
          1721.0020340411575,
          1728.9128419817425,
          1735.8645347844576,
          1741.8619202164118,
          1746.9114895490347,
          1751.0213477102225,
          1754.2011404437944,
          1756.4619789583958,
          1757.8163625191664,
          1758.2780994330533,
          1757.8622268566978,
          1756.5849298445391,
          1754.4634600093123,
          1751.5160541975056,
          1747.7618534917128,
          1743.2208228932577,
          1737.9136719721719,
          1731.8617767671822,
          1725.0871031888528,
          1717.6121321561513,
          1709.4597866747063,
          1700.6533610447077,
          1691.2164523451356,
          1681.1728943607304,
          1670.5466940418119,
          1659.36197061633,
          1647.642897425394,
          1635.4136465463089,
          1622.6983362433384,
          1609.520981278678,
          1595.9054460934713,
          1581.8754008620745,
          1567.4542803973309,
          1552.6652458895114,
          1537.5311494346824,
          1522.0745013137348,
          1506.3174399584532,
          1490.281704545021,
          1473.9886101521552,
          1457.4590253869537,
          1440.713352428691,
          1423.7715093726292,
          1406.6529148108675,
          1389.3764745414956,
          1371.9605703225825,
          1354.4230505729793,
          1336.7812229197007,
          1319.0518485055654,
          1301.2511379439384,
          1283.3947488529957,
          1265.4977848360431,
          1247.574795858818,
          1229.6397798894322,
          1211.7061857510707,
          1193.7869170610793,
          1175.8943372105132,
          1158.040275267791,
          1140.2360327491187,
          1122.4923911691294,
          1104.8196203035768,
          1087.2274870824185,
          1069.7252650628216,
          1052.3217444002512,
          1035.0252422687481,
          1017.8436136640375,
          1000.7842625411577,
          983.8541532274685,
          967.0598220651736,
          950.4073892424349,
          933.9025707567926,
          917.5506904860376,
          901.3566923132166,
          885.3251522884821,
          869.4602907761582,
          853.7659845708404,
          838.2457789513282,
          822.9028996438137,
          807.7402646766859,
          792.7604960985482,
          777.9659315483877,
          763.3586356581072,
          748.9404112665798,
          734.7128104426665,
          720.6771452886751,
          706.8344985377043,
          693.1857339100679,
          679.7315062366542,
          666.4722713429946
         ]
        },
        {
         "mode": "markers",
         "name": "Reali filtrati",
         "type": "scatter",
         "x": [
          0,
          1,
          2,
          3,
          4,
          5,
          6,
          7,
          8,
          9,
          10,
          11,
          12,
          13,
          14,
          15,
          16,
          17,
          18,
          19,
          20,
          21,
          22,
          23,
          24,
          25,
          26,
          27,
          28,
          29,
          30,
          31,
          32,
          33,
          34,
          35,
          36,
          37,
          38,
          39,
          40,
          41,
          42,
          43,
          44,
          45,
          46,
          47,
          48,
          49,
          50,
          51,
          52,
          53,
          54,
          55,
          56,
          57,
          58,
          59,
          60,
          61,
          62,
          63,
          64,
          65,
          66,
          67,
          68,
          69,
          70,
          71,
          72,
          73,
          74,
          75,
          76,
          77,
          78,
          79,
          80,
          81,
          82,
          83,
          84,
          85,
          86,
          87,
          88,
          89,
          90,
          91,
          92,
          93,
          94,
          95,
          96,
          97,
          98,
          99,
          100,
          101,
          102,
          103,
          104,
          105,
          106,
          107,
          108,
          109,
          110,
          111,
          112,
          113,
          114,
          115,
          116,
          117,
          118,
          119,
          120,
          121,
          122,
          123,
          124,
          125,
          126,
          127,
          128,
          129,
          130,
          131,
          132,
          133,
          134,
          135,
          136,
          137,
          138,
          139,
          140,
          141,
          142,
          143,
          144,
          145,
          146,
          147,
          148,
          149,
          150,
          151,
          152,
          153,
          154,
          155,
          156,
          157,
          158,
          159,
          160,
          161,
          162,
          163,
          164,
          165,
          166,
          167,
          168,
          169,
          170,
          171,
          172,
          173,
          174,
          175,
          176,
          177,
          178,
          179,
          180,
          181,
          182,
          183,
          184,
          185,
          186,
          187,
          188,
          189,
          190,
          191,
          192,
          193,
          194,
          195,
          196,
          197,
          198,
          199,
          200,
          201,
          202,
          203,
          204,
          205,
          206,
          207,
          208,
          209,
          210,
          211
         ],
         "y": [
          164.75,
          179.8,
          244.16666666666666,
          258.14285714285717,
          311.42857142857144,
          384.14285714285717,
          458.2857142857143,
          535.4285714285714,
          679.2857142857143,
          811.5714285714286,
          1019.4285714285714,
          1092.4285714285713,
          1339,
          1607.857142857143,
          1860.5714285714287,
          2182,
          2481.714285714286,
          2686.8571428571427,
          3051,
          3321.5714285714284,
          3703.1428571428573,
          4194.428571428572,
          4631.571428571428,
          4913,
          5135.285714285715,
          5381.428571428572,
          5524.714285714285,
          5643.428571428572,
          5639.571428571428,
          5556.285714285715,
          5507.285714285715,
          5401.714285714285,
          5230.857142857143,
          5169.714285714285,
          4957.571428571428,
          4761.285714285715,
          4594.285714285715,
          4465.571428571428,
          4401.142857142857,
          4256.285714285715,
          4121.142857142857,
          4054.8571428571427,
          3964.285714285714,
          3948.4285714285716,
          3916.4285714285716,
          3852.714285714286,
          3843.1428571428573,
          3676.1428571428573,
          3616.4285714285716,
          3551,
          3379.1428571428573,
          3229.8571428571427,
          3101.714285714286,
          3067,
          3167.4285714285716,
          3004.5714285714284,
          2937.1428571428573,
          2775.1428571428573,
          2671.8571428571427,
          2598,
          2506.8571428571427,
          2323.4285714285716,
          2212.8571428571427,
          2062,
          1996.7142857142858,
          1863.142857142857,
          1789.142857142857,
          1644,
          1552.2857142857142,
          1485,
          1393.857142857143,
          1277.142857142857,
          1193.2857142857142,
          1125.142857142857,
          1171.857142857143,
          1092.4285714285713,
          1034,
          957.1428571428571,
          927.4285714285714,
          909.2857142857143,
          867.4285714285714,
          783.2857142857143,
          751.4285714285714,
          701.4285714285714,
          681.8571428571429,
          652.4285714285714,
          631.8571428571429,
          610.2857142857143,
          550.8571428571429,
          539.2857142857143,
          532.2857142857143,
          512.8571428571429,
          476.7142857142857,
          451.57142857142856,
          434.14285714285717,
          422.85714285714283,
          385.2857142857143,
          325.85714285714283,
          326.14285714285717,
          305.2857142857143,
          282.7142857142857,
          297.2857142857143,
          292.2857142857143,
          275.2857142857143,
          304.14285714285717,
          253.42857142857142,
          264.2857142857143,
          284.42857142857144,
          287.7142857142857,
          277.2857142857143,
          295.42857142857144,
          288.85714285714283,
          301.42857142857144,
          289.42857142857144,
          273.14285714285717,
          261,
          248.42857142857142,
          228.57142857142858,
          223.28571428571428,
          224.42857142857142,
          212,
          204.85714285714286,
          191.71428571428572,
          194.57142857142858,
          194.14285714285714,
          180.57142857142858,
          175.42857142857142,
          184,
          186.57142857142858,
          198.28571428571428,
          197.71428571428572,
          198.57142857142858,
          202.57142857142858,
          210.14285714285714,
          203.42857142857142,
          209.42857142857142,
          203.85714285714286,
          200.42857142857142,
          196.14285714285714,
          196.28571428571428,
          190.14285714285714,
          198.85714285714286,
          196.71428571428572,
          199.71428571428572,
          201.85714285714286,
          218.85714285714286,
          229.71428571428572,
          232.42857142857142,
          236.14285714285714,
          241.28571428571428,
          238.42857142857142,
          250.28571428571428,
          251.28571428571428,
          262.7142857142857,
          280.85714285714283,
          283.7142857142857,
          281.42857142857144,
          279.85714285714283,
          276.7142857142857,
          290.2857142857143,
          292.57142857142856,
          317.2857142857143,
          324.7142857142857,
          356.7142857142857,
          371,
          402.7142857142857,
          416.57142857142856,
          433.85714285714283,
          437,
          477.2857142857143,
          479.57142857142856,
          488.2857142857143,
          487,
          510,
          556,
          609.2857142857143,
          672.4285714285714,
          776.8571428571429,
          867.2857142857143,
          935.1428571428571,
          1038.7142857142858,
          1119.5714285714287,
          1193.142857142857,
          1246.4285714285713,
          1268.5714285714287,
          1274.7142857142858,
          1289,
          1283.142857142857,
          1281.142857142857,
          1319.857142857143,
          1355.5714285714287,
          1345.857142857143,
          1361.857142857143,
          1417.857142857143,
          1433.2857142857142,
          1461.857142857143,
          1445.142857142857,
          1417.5714285714287,
          1440.5714285714287,
          1426.2857142857142,
          1406.142857142857,
          1408.7142857142858,
          1407,
          1448.5714285714287,
          1468.142857142857,
          1486.5714285714287,
          1535.4285714285713,
          1558.7142857142858,
          1576.5,
          1574.8,
          1491.75
         ]
        }
       ],
       "layout": {
        "template": {
         "data": {
          "bar": [
           {
            "error_x": {
             "color": "#2a3f5f"
            },
            "error_y": {
             "color": "#2a3f5f"
            },
            "marker": {
             "line": {
              "color": "#E5ECF6",
              "width": 0.5
             }
            },
            "type": "bar"
           }
          ],
          "barpolar": [
           {
            "marker": {
             "line": {
              "color": "#E5ECF6",
              "width": 0.5
             }
            },
            "type": "barpolar"
           }
          ],
          "carpet": [
           {
            "aaxis": {
             "endlinecolor": "#2a3f5f",
             "gridcolor": "white",
             "linecolor": "white",
             "minorgridcolor": "white",
             "startlinecolor": "#2a3f5f"
            },
            "baxis": {
             "endlinecolor": "#2a3f5f",
             "gridcolor": "white",
             "linecolor": "white",
             "minorgridcolor": "white",
             "startlinecolor": "#2a3f5f"
            },
            "type": "carpet"
           }
          ],
          "choropleth": [
           {
            "colorbar": {
             "outlinewidth": 0,
             "ticks": ""
            },
            "type": "choropleth"
           }
          ],
          "contour": [
           {
            "colorbar": {
             "outlinewidth": 0,
             "ticks": ""
            },
            "colorscale": [
             [
              0,
              "#0d0887"
             ],
             [
              0.1111111111111111,
              "#46039f"
             ],
             [
              0.2222222222222222,
              "#7201a8"
             ],
             [
              0.3333333333333333,
              "#9c179e"
             ],
             [
              0.4444444444444444,
              "#bd3786"
             ],
             [
              0.5555555555555556,
              "#d8576b"
             ],
             [
              0.6666666666666666,
              "#ed7953"
             ],
             [
              0.7777777777777778,
              "#fb9f3a"
             ],
             [
              0.8888888888888888,
              "#fdca26"
             ],
             [
              1,
              "#f0f921"
             ]
            ],
            "type": "contour"
           }
          ],
          "contourcarpet": [
           {
            "colorbar": {
             "outlinewidth": 0,
             "ticks": ""
            },
            "type": "contourcarpet"
           }
          ],
          "heatmap": [
           {
            "colorbar": {
             "outlinewidth": 0,
             "ticks": ""
            },
            "colorscale": [
             [
              0,
              "#0d0887"
             ],
             [
              0.1111111111111111,
              "#46039f"
             ],
             [
              0.2222222222222222,
              "#7201a8"
             ],
             [
              0.3333333333333333,
              "#9c179e"
             ],
             [
              0.4444444444444444,
              "#bd3786"
             ],
             [
              0.5555555555555556,
              "#d8576b"
             ],
             [
              0.6666666666666666,
              "#ed7953"
             ],
             [
              0.7777777777777778,
              "#fb9f3a"
             ],
             [
              0.8888888888888888,
              "#fdca26"
             ],
             [
              1,
              "#f0f921"
             ]
            ],
            "type": "heatmap"
           }
          ],
          "heatmapgl": [
           {
            "colorbar": {
             "outlinewidth": 0,
             "ticks": ""
            },
            "colorscale": [
             [
              0,
              "#0d0887"
             ],
             [
              0.1111111111111111,
              "#46039f"
             ],
             [
              0.2222222222222222,
              "#7201a8"
             ],
             [
              0.3333333333333333,
              "#9c179e"
             ],
             [
              0.4444444444444444,
              "#bd3786"
             ],
             [
              0.5555555555555556,
              "#d8576b"
             ],
             [
              0.6666666666666666,
              "#ed7953"
             ],
             [
              0.7777777777777778,
              "#fb9f3a"
             ],
             [
              0.8888888888888888,
              "#fdca26"
             ],
             [
              1,
              "#f0f921"
             ]
            ],
            "type": "heatmapgl"
           }
          ],
          "histogram": [
           {
            "marker": {
             "colorbar": {
              "outlinewidth": 0,
              "ticks": ""
             }
            },
            "type": "histogram"
           }
          ],
          "histogram2d": [
           {
            "colorbar": {
             "outlinewidth": 0,
             "ticks": ""
            },
            "colorscale": [
             [
              0,
              "#0d0887"
             ],
             [
              0.1111111111111111,
              "#46039f"
             ],
             [
              0.2222222222222222,
              "#7201a8"
             ],
             [
              0.3333333333333333,
              "#9c179e"
             ],
             [
              0.4444444444444444,
              "#bd3786"
             ],
             [
              0.5555555555555556,
              "#d8576b"
             ],
             [
              0.6666666666666666,
              "#ed7953"
             ],
             [
              0.7777777777777778,
              "#fb9f3a"
             ],
             [
              0.8888888888888888,
              "#fdca26"
             ],
             [
              1,
              "#f0f921"
             ]
            ],
            "type": "histogram2d"
           }
          ],
          "histogram2dcontour": [
           {
            "colorbar": {
             "outlinewidth": 0,
             "ticks": ""
            },
            "colorscale": [
             [
              0,
              "#0d0887"
             ],
             [
              0.1111111111111111,
              "#46039f"
             ],
             [
              0.2222222222222222,
              "#7201a8"
             ],
             [
              0.3333333333333333,
              "#9c179e"
             ],
             [
              0.4444444444444444,
              "#bd3786"
             ],
             [
              0.5555555555555556,
              "#d8576b"
             ],
             [
              0.6666666666666666,
              "#ed7953"
             ],
             [
              0.7777777777777778,
              "#fb9f3a"
             ],
             [
              0.8888888888888888,
              "#fdca26"
             ],
             [
              1,
              "#f0f921"
             ]
            ],
            "type": "histogram2dcontour"
           }
          ],
          "mesh3d": [
           {
            "colorbar": {
             "outlinewidth": 0,
             "ticks": ""
            },
            "type": "mesh3d"
           }
          ],
          "parcoords": [
           {
            "line": {
             "colorbar": {
              "outlinewidth": 0,
              "ticks": ""
             }
            },
            "type": "parcoords"
           }
          ],
          "pie": [
           {
            "automargin": true,
            "type": "pie"
           }
          ],
          "scatter": [
           {
            "marker": {
             "colorbar": {
              "outlinewidth": 0,
              "ticks": ""
             }
            },
            "type": "scatter"
           }
          ],
          "scatter3d": [
           {
            "line": {
             "colorbar": {
              "outlinewidth": 0,
              "ticks": ""
             }
            },
            "marker": {
             "colorbar": {
              "outlinewidth": 0,
              "ticks": ""
             }
            },
            "type": "scatter3d"
           }
          ],
          "scattercarpet": [
           {
            "marker": {
             "colorbar": {
              "outlinewidth": 0,
              "ticks": ""
             }
            },
            "type": "scattercarpet"
           }
          ],
          "scattergeo": [
           {
            "marker": {
             "colorbar": {
              "outlinewidth": 0,
              "ticks": ""
             }
            },
            "type": "scattergeo"
           }
          ],
          "scattergl": [
           {
            "marker": {
             "colorbar": {
              "outlinewidth": 0,
              "ticks": ""
             }
            },
            "type": "scattergl"
           }
          ],
          "scattermapbox": [
           {
            "marker": {
             "colorbar": {
              "outlinewidth": 0,
              "ticks": ""
             }
            },
            "type": "scattermapbox"
           }
          ],
          "scatterpolar": [
           {
            "marker": {
             "colorbar": {
              "outlinewidth": 0,
              "ticks": ""
             }
            },
            "type": "scatterpolar"
           }
          ],
          "scatterpolargl": [
           {
            "marker": {
             "colorbar": {
              "outlinewidth": 0,
              "ticks": ""
             }
            },
            "type": "scatterpolargl"
           }
          ],
          "scatterternary": [
           {
            "marker": {
             "colorbar": {
              "outlinewidth": 0,
              "ticks": ""
             }
            },
            "type": "scatterternary"
           }
          ],
          "surface": [
           {
            "colorbar": {
             "outlinewidth": 0,
             "ticks": ""
            },
            "colorscale": [
             [
              0,
              "#0d0887"
             ],
             [
              0.1111111111111111,
              "#46039f"
             ],
             [
              0.2222222222222222,
              "#7201a8"
             ],
             [
              0.3333333333333333,
              "#9c179e"
             ],
             [
              0.4444444444444444,
              "#bd3786"
             ],
             [
              0.5555555555555556,
              "#d8576b"
             ],
             [
              0.6666666666666666,
              "#ed7953"
             ],
             [
              0.7777777777777778,
              "#fb9f3a"
             ],
             [
              0.8888888888888888,
              "#fdca26"
             ],
             [
              1,
              "#f0f921"
             ]
            ],
            "type": "surface"
           }
          ],
          "table": [
           {
            "cells": {
             "fill": {
              "color": "#EBF0F8"
             },
             "line": {
              "color": "white"
             }
            },
            "header": {
             "fill": {
              "color": "#C8D4E3"
             },
             "line": {
              "color": "white"
             }
            },
            "type": "table"
           }
          ]
         },
         "layout": {
          "annotationdefaults": {
           "arrowcolor": "#2a3f5f",
           "arrowhead": 0,
           "arrowwidth": 1
          },
          "coloraxis": {
           "colorbar": {
            "outlinewidth": 0,
            "ticks": ""
           }
          },
          "colorscale": {
           "diverging": [
            [
             0,
             "#8e0152"
            ],
            [
             0.1,
             "#c51b7d"
            ],
            [
             0.2,
             "#de77ae"
            ],
            [
             0.3,
             "#f1b6da"
            ],
            [
             0.4,
             "#fde0ef"
            ],
            [
             0.5,
             "#f7f7f7"
            ],
            [
             0.6,
             "#e6f5d0"
            ],
            [
             0.7,
             "#b8e186"
            ],
            [
             0.8,
             "#7fbc41"
            ],
            [
             0.9,
             "#4d9221"
            ],
            [
             1,
             "#276419"
            ]
           ],
           "sequential": [
            [
             0,
             "#0d0887"
            ],
            [
             0.1111111111111111,
             "#46039f"
            ],
            [
             0.2222222222222222,
             "#7201a8"
            ],
            [
             0.3333333333333333,
             "#9c179e"
            ],
            [
             0.4444444444444444,
             "#bd3786"
            ],
            [
             0.5555555555555556,
             "#d8576b"
            ],
            [
             0.6666666666666666,
             "#ed7953"
            ],
            [
             0.7777777777777778,
             "#fb9f3a"
            ],
            [
             0.8888888888888888,
             "#fdca26"
            ],
            [
             1,
             "#f0f921"
            ]
           ],
           "sequentialminus": [
            [
             0,
             "#0d0887"
            ],
            [
             0.1111111111111111,
             "#46039f"
            ],
            [
             0.2222222222222222,
             "#7201a8"
            ],
            [
             0.3333333333333333,
             "#9c179e"
            ],
            [
             0.4444444444444444,
             "#bd3786"
            ],
            [
             0.5555555555555556,
             "#d8576b"
            ],
            [
             0.6666666666666666,
             "#ed7953"
            ],
            [
             0.7777777777777778,
             "#fb9f3a"
            ],
            [
             0.8888888888888888,
             "#fdca26"
            ],
            [
             1,
             "#f0f921"
            ]
           ]
          },
          "colorway": [
           "#636efa",
           "#EF553B",
           "#00cc96",
           "#ab63fa",
           "#FFA15A",
           "#19d3f3",
           "#FF6692",
           "#B6E880",
           "#FF97FF",
           "#FECB52"
          ],
          "font": {
           "color": "#2a3f5f"
          },
          "geo": {
           "bgcolor": "white",
           "lakecolor": "white",
           "landcolor": "#E5ECF6",
           "showlakes": true,
           "showland": true,
           "subunitcolor": "white"
          },
          "hoverlabel": {
           "align": "left"
          },
          "hovermode": "closest",
          "mapbox": {
           "style": "light"
          },
          "paper_bgcolor": "white",
          "plot_bgcolor": "#E5ECF6",
          "polar": {
           "angularaxis": {
            "gridcolor": "white",
            "linecolor": "white",
            "ticks": ""
           },
           "bgcolor": "#E5ECF6",
           "radialaxis": {
            "gridcolor": "white",
            "linecolor": "white",
            "ticks": ""
           }
          },
          "scene": {
           "xaxis": {
            "backgroundcolor": "#E5ECF6",
            "gridcolor": "white",
            "gridwidth": 2,
            "linecolor": "white",
            "showbackground": true,
            "ticks": "",
            "zerolinecolor": "white"
           },
           "yaxis": {
            "backgroundcolor": "#E5ECF6",
            "gridcolor": "white",
            "gridwidth": 2,
            "linecolor": "white",
            "showbackground": true,
            "ticks": "",
            "zerolinecolor": "white"
           },
           "zaxis": {
            "backgroundcolor": "#E5ECF6",
            "gridcolor": "white",
            "gridwidth": 2,
            "linecolor": "white",
            "showbackground": true,
            "ticks": "",
            "zerolinecolor": "white"
           }
          },
          "shapedefaults": {
           "line": {
            "color": "#2a3f5f"
           }
          },
          "ternary": {
           "aaxis": {
            "gridcolor": "white",
            "linecolor": "white",
            "ticks": ""
           },
           "baxis": {
            "gridcolor": "white",
            "linecolor": "white",
            "ticks": ""
           },
           "bgcolor": "#E5ECF6",
           "caxis": {
            "gridcolor": "white",
            "linecolor": "white",
            "ticks": ""
           }
          },
          "title": {
           "x": 0.05
          },
          "xaxis": {
           "automargin": true,
           "gridcolor": "white",
           "linecolor": "white",
           "ticks": "",
           "title": {
            "standoff": 15
           },
           "zerolinecolor": "white",
           "zerolinewidth": 2
          },
          "yaxis": {
           "automargin": true,
           "gridcolor": "white",
           "linecolor": "white",
           "ticks": "",
           "title": {
            "standoff": 15
           },
           "zerolinecolor": "white",
           "zerolinewidth": 2
          }
         }
        },
        "title": {
         "text": "Nuovi contagi"
        },
        "xaxis": {
         "tickmode": "array",
         "ticktext": [
          "2020-02-24",
          "2020-03-02",
          "2020-03-09",
          "2020-03-16",
          "2020-03-23",
          "2020-03-30",
          "2020-04-06",
          "2020-04-13",
          "2020-04-20",
          "2020-04-27",
          "2020-05-04",
          "2020-05-11",
          "2020-05-18",
          "2020-05-25",
          "2020-06-01",
          "2020-06-08",
          "2020-06-15",
          "2020-06-22",
          "2020-06-29",
          "2020-07-06",
          "2020-07-13",
          "2020-07-20",
          "2020-07-27",
          "2020-08-03",
          "2020-08-10",
          "2020-08-17",
          "2020-08-24",
          "2020-08-31",
          "2020-09-07",
          "2020-09-14",
          "2020-09-21"
         ],
         "tickvals": [
          0,
          7,
          14,
          21,
          28,
          35,
          42,
          49,
          56,
          63,
          70,
          77,
          84,
          91,
          98,
          105,
          112,
          119,
          126,
          133,
          140,
          147,
          154,
          161,
          168,
          175,
          182,
          189,
          196,
          203,
          210
         ]
        }
       }
      },
      "text/html": [
       "<div>\n",
       "        \n",
       "        \n",
       "            <div id=\"050483e4-62e7-4615-9a41-9d1ba2a87a32\" class=\"plotly-graph-div\" style=\"height:525px; width:100%;\"></div>\n",
       "            <script type=\"text/javascript\">\n",
       "                require([\"plotly\"], function(Plotly) {\n",
       "                    window.PLOTLYENV=window.PLOTLYENV || {};\n",
       "                    \n",
       "                if (document.getElementById(\"050483e4-62e7-4615-9a41-9d1ba2a87a32\")) {\n",
       "                    Plotly.newPlot(\n",
       "                        '050483e4-62e7-4615-9a41-9d1ba2a87a32',\n",
       "                        [{\"mode\": \"markers\", \"name\": \"Reali\", \"type\": \"scatter\", \"x\": [0, 1, 2, 3, 4, 5, 6, 7, 8, 9, 10, 11, 12, 13, 14, 15, 16, 17, 18, 19, 20, 21, 22, 23, 24, 25, 26, 27, 28, 29, 30, 31, 32, 33, 34, 35, 36, 37, 38, 39, 40, 41, 42, 43, 44, 45, 46, 47, 48, 49, 50, 51, 52, 53, 54, 55, 56, 57, 58, 59, 60, 61, 62, 63, 64, 65, 66, 67, 68, 69, 70, 71, 72, 73, 74, 75, 76, 77, 78, 79, 80, 81, 82, 83, 84, 85, 86, 87, 88, 89, 90, 91, 92, 93, 94, 95, 96, 97, 98, 99, 100, 101, 102, 103, 104, 105, 106, 107, 108, 109, 110, 111, 112, 113, 114, 115, 116, 117, 118, 119, 120, 121, 122, 123, 124, 125, 126, 127, 128, 129, 130, 131, 132, 133, 134, 135, 136, 137, 138, 139, 140, 141, 142, 143, 144, 145, 146, 147, 148, 149, 150, 151, 152, 153, 154, 155, 156, 157, 158, 159, 160, 161, 162, 163, 164, 165, 166, 167, 168, 169, 170, 171, 172, 173, 174, 175, 176, 177, 178, 179, 180, 181, 182, 183, 184, 185, 186, 187, 188, 189, 190, 191, 192, 193, 194, 195, 196, 197, 198, 199, 200, 201, 202, 203, 204, 205, 206, 207, 208, 209, 210, 211], \"y\": [93.0, 78.0, 250.0, 238.0, 240.0, 566.0, 342.0, 466.0, 587.0, 769.0, 778.0, 1247.0, 1492.0, 1797.0, 977.0, 2313.0, 2651.0, 2547.0, 3497.0, 3590.0, 3233.0, 3526.0, 4207.0, 5322.0, 5986.0, 6557.0, 5560.0, 4789.0, 5249.0, 5210.0, 6153.0, 5959.0, 5974.0, 5217.0, 4050.0, 4053.0, 4782.0, 4668.0, 4585.0, 4805.0, 4316.0, 3599.0, 3039.0, 3836.0, 4204.0, 3951.0, 4694.0, 4092.0, 3153.0, 2972.0, 2667.0, 3786.0, 3493.0, 3491.0, 3047.0, 2256.0, 2729.0, 3370.0, 2646.0, 3021.0, 2357.0, 2324.0, 1739.0, 2091.0, 2086.0, 1872.0, 1965.0, 1900.0, 1389.0, 1221.0, 1075.0, 1444.0, 1401.0, 1327.0, 1083.0, 802.0, 744.0, 1402.0, 888.0, 992.0, 789.0, 875.0, 675.0, 451.0, 813.0, 665.0, 642.0, 652.0, 669.0, 531.0, 300.0, 397.0, 584.0, 593.0, 516.0, 416.0, 355.0, 178.0, 318.0, 321.0, 177.0, 518.0, 270.0, 197.0, 280.0, 283.0, 202.0, 379.0, 163.0, 346.0, 338.0, 303.0, 210.0, 329.0, 333.0, 251.0, 262.0, 224.0, 218.0, 122.0, 190.0, 296.0, 259.0, 175.0, 174.0, 126.0, 142.0, 187.0, 201.0, 223.0, 235.0, 192.0, 208.0, 138.0, 193.0, 229.0, 276.0, 188.0, 234.0, 169.0, 114.0, 163.0, 230.0, 233.0, 249.0, 219.0, 190.0, 129.0, 282.0, 306.0, 252.0, 275.0, 255.0, 170.0, 212.0, 289.0, 386.0, 379.0, 295.0, 239.0, 159.0, 190.0, 384.0, 402.0, 552.0, 347.0, 463.0, 259.0, 412.0, 481.0, 523.0, 574.0, 629.0, 479.0, 320.0, 403.0, 642.0, 845.0, 947.0, 1071.0, 1210.0, 953.0, 878.0, 1367.0, 1411.0, 1462.0, 1444.0, 1365.0, 996.0, 978.0, 1326.0, 1397.0, 1733.0, 1694.0, 1297.0, 1108.0, 1370.0, 1434.0, 1597.0, 1616.0, 1501.0, 1458.0, 1008.0, 1229.0, 1452.0, 1585.0, 1907.0, 1638.0, 1587.0, 1350.0, 1392.0]}, {\"mode\": \"lines\", \"name\": \"Predetti\", \"type\": \"scatter\", \"x\": [0, 1, 2, 3, 4, 5, 6, 7, 8, 9, 10, 11, 12, 13, 14, 15, 16, 17, 18, 19, 20, 21, 22, 23, 24, 25, 26, 27, 28, 29, 30, 31, 32, 33, 34, 35, 36, 37, 38, 39, 40, 41, 42, 43, 44, 45, 46, 47, 48, 49, 50, 51, 52, 53, 54, 55, 56, 57, 58, 59, 60, 61, 62, 63, 64, 65, 66, 67, 68, 69, 70, 71, 72, 73, 74, 75, 76, 77, 78, 79, 80, 81, 82, 83, 84, 85, 86, 87, 88, 89, 90, 91, 92, 93, 94, 95, 96, 97, 98, 99, 100, 101, 102, 103, 104, 105, 106, 107, 108, 109, 110, 111, 112, 113, 114, 115, 116, 117, 118, 119, 120, 121, 122, 123, 124, 125, 126, 127, 128, 129, 130, 131, 132, 133, 134, 135, 136, 137, 138, 139, 140, 141, 142, 143, 144, 145, 146, 147, 148, 149, 150, 151, 152, 153, 154, 155, 156, 157, 158, 159, 160, 161, 162, 163, 164, 165, 166, 167, 168, 169, 170, 171, 172, 173, 174, 175, 176, 177, 178, 179, 180, 181, 182, 183, 184, 185, 186, 187, 188, 189, 190, 191, 192, 193, 194, 195, 196, 197, 198, 199, 200, 201, 202, 203, 204, 205, 206, 207, 208, 209, 210, 211], \"y\": [145.5697752233994, 184.89137180021783, 232.72529858269377, 290.29260956507414, 358.8277585411374, 439.5359296320146, 533.5437548639125, 641.8452459212394, 765.2454003489829, 904.3044519040036, 1059.2860542527678, 1230.1127652582018, 1416.3320068294133, 1617.0952118177993, 1831.1521633768243, 2056.8616392844215, 2292.218470507969, 2534.89609809751, 2782.302754945027, 3031.6485896631784, 3280.020451792887, 3524.460710158448, 3762.0463927982273, 3989.9651055612703, 4205.584573683569, 4406.513207147509, 4590.649758064479, 4756.220856226624, 4901.80592070987, 5026.349602851966, 5129.162482417247, 5209.91119042621, 5268.599457631746, 5305.541786804184, 5321.331528740935, 5316.805121598343, 5293.004150147957, 5251.136716853463, 5192.5394110016205, 5118.640934446128, 5030.928209216247, 4930.915566322219, 4820.117406429636, 4700.024538208614, 4572.084242917248, 4437.683985515061, 4298.138592877367, 4154.680646674067, 4008.453789391555, 3860.5086136116006, 3711.800793475035, 3563.191119861818, 3415.4471139520756, 3269.245914605184, 3125.178160873038, 2983.752619845094, 2845.401340169221, 2710.4851417057507, 2579.2992807904957, 2452.079157853441, 2329.005959166505, 2210.212147000013, 2095.7867323749233, 1985.7802818938217, 1880.2096249200695, 1779.0622398169944, 1682.3003082394134, 1589.8644348209782, 1501.6770362347597, 1417.6454087450984, 1337.6644872236066, 1261.619311396178, 1189.3872169282986, 1120.8397701123322, 1055.8444654296618, 994.266205316264, 935.9685811263043, 880.8149737069034, 828.6694911605737, 779.3977604459797, 732.8675884081749, 688.9495067433745, 647.5172142957163, 608.4479289740848, 571.6226605037227, 536.9264141961175, 504.24833493024926, 473.48179961775895, 444.5244655525603, 417.2782812535879, 391.6494656575669, 367.54846085986355, 344.8898629625619, 323.5923350537778, 303.5785058195179, 284.77485684893327, 267.1116012696584, 250.52255601302022, 234.94500965430052, 220.3195875195088, 206.59011546100373, 193.70348352269502, 181.60951047154958, 170.26081005026936, 159.612659610837, 149.62287169293268, 140.25166897420422, 131.46156293828972, 123.21723650957574, 115.4854308454378, 108.23483639804181, 101.43598832492717, 95.06116626688163, 89.08429849072127, 83.48087034624768, 78.22783698188141, 73.30354022828396, 68.68762954405975, 64.36098691794905, 60.30565559951356, 56.504772517451784, 52.94250427221414, 49.6039865364728, 46.47526674429537, 43.54324991715839, 88.93177758401725, 90.6849167094042, 92.92599007720128, 95.66276080987882, 98.90396523682284, 102.65921868139412, 106.93891749100294, 111.7541372149135, 117.11652691665222, 123.03819964971626, 129.53161921488936, 136.6094833710813, 144.2846037459385, 152.5697827677941, 161.47768800135236, 171.02072434712318, 181.21090462023858, 192.05971909264917, 203.5780046385771, 215.7758141825907, 228.66228716948535, 242.2455218649411, 256.53245026728837, 271.52871648134897, 287.2385594030202, 303.66470056123217, 320.8082379734842, 338.6685468504438, 357.24318796157604, 376.5278244447254, 396.51614779181546, 417.19981369911693, 438.5683884038299, 460.6093060647545, 483.3078376609483, 506.64707180901314, 530.6079078029143, 555.169061094959, 580.3070813301892, 605.99638295779, 632.209288342332, 658.9160831823829, 686.0850839756895, 713.682717137126, 741.673609315767, 770.0206883491774, 798.6852942171681, 827.6272992762097, 856.8052370008081, 886.1764383760747, 915.697175046138, 945.3228082842834, 975.0079427990131, 1004.7065843791061, 1034.37230036236, 1063.9583819044637, 1093.4180070284056, 1122.7044034436112, 1151.771010157332, 1180.5716369150905, 1209.0606205476797, 1237.1929773565498, 1264.9245507025043, 1292.212153036322, 1319.013701645832, 1345.2883474950795, 1370.9965965554002, 1396.1004231370753, 1420.5633747738902, 1444.3506683023297, 1467.4292768449523, 1489.7680074711097, 1511.3375693939743, 1532.1106326213921, 1552.0618770437432, 1571.1680320153828, 1589.4079065275728, 1606.7624101565452, 1623.2145649878075, 1638.7495087923598, 1653.3544897624524, 1667.0188531579915, 1679.7340202396736, 1691.4934599068947, 1702.292653480661, 1712.1290530731785, 1721.0020340411575, 1728.9128419817425, 1735.8645347844576, 1741.8619202164118, 1746.9114895490347, 1751.0213477102225, 1754.2011404437944, 1756.4619789583958, 1757.8163625191664, 1758.2780994330533, 1757.8622268566978, 1756.5849298445391, 1754.4634600093123, 1751.5160541975056, 1747.7618534917128, 1743.2208228932577, 1737.9136719721719, 1731.8617767671822, 1725.0871031888528, 1717.6121321561513, 1709.4597866747063, 1700.6533610447077, 1691.2164523451356, 1681.1728943607304, 1670.5466940418119, 1659.36197061633, 1647.642897425394, 1635.4136465463089, 1622.6983362433384, 1609.520981278678, 1595.9054460934713, 1581.8754008620745, 1567.4542803973309, 1552.6652458895114, 1537.5311494346824, 1522.0745013137348, 1506.3174399584532, 1490.281704545021, 1473.9886101521552, 1457.4590253869537, 1440.713352428691, 1423.7715093726292, 1406.6529148108675, 1389.3764745414956, 1371.9605703225825, 1354.4230505729793, 1336.7812229197007, 1319.0518485055654, 1301.2511379439384, 1283.3947488529957, 1265.4977848360431, 1247.574795858818, 1229.6397798894322, 1211.7061857510707, 1193.7869170610793, 1175.8943372105132, 1158.040275267791, 1140.2360327491187, 1122.4923911691294, 1104.8196203035768, 1087.2274870824185, 1069.7252650628216, 1052.3217444002512, 1035.0252422687481, 1017.8436136640375, 1000.7842625411577, 983.8541532274685, 967.0598220651736, 950.4073892424349, 933.9025707567926, 917.5506904860376, 901.3566923132166, 885.3251522884821, 869.4602907761582, 853.7659845708404, 838.2457789513282, 822.9028996438137, 807.7402646766859, 792.7604960985482, 777.9659315483877, 763.3586356581072, 748.9404112665798, 734.7128104426665, 720.6771452886751, 706.8344985377043, 693.1857339100679, 679.7315062366542, 666.4722713429946]}, {\"mode\": \"markers\", \"name\": \"Reali filtrati\", \"type\": \"scatter\", \"x\": [0, 1, 2, 3, 4, 5, 6, 7, 8, 9, 10, 11, 12, 13, 14, 15, 16, 17, 18, 19, 20, 21, 22, 23, 24, 25, 26, 27, 28, 29, 30, 31, 32, 33, 34, 35, 36, 37, 38, 39, 40, 41, 42, 43, 44, 45, 46, 47, 48, 49, 50, 51, 52, 53, 54, 55, 56, 57, 58, 59, 60, 61, 62, 63, 64, 65, 66, 67, 68, 69, 70, 71, 72, 73, 74, 75, 76, 77, 78, 79, 80, 81, 82, 83, 84, 85, 86, 87, 88, 89, 90, 91, 92, 93, 94, 95, 96, 97, 98, 99, 100, 101, 102, 103, 104, 105, 106, 107, 108, 109, 110, 111, 112, 113, 114, 115, 116, 117, 118, 119, 120, 121, 122, 123, 124, 125, 126, 127, 128, 129, 130, 131, 132, 133, 134, 135, 136, 137, 138, 139, 140, 141, 142, 143, 144, 145, 146, 147, 148, 149, 150, 151, 152, 153, 154, 155, 156, 157, 158, 159, 160, 161, 162, 163, 164, 165, 166, 167, 168, 169, 170, 171, 172, 173, 174, 175, 176, 177, 178, 179, 180, 181, 182, 183, 184, 185, 186, 187, 188, 189, 190, 191, 192, 193, 194, 195, 196, 197, 198, 199, 200, 201, 202, 203, 204, 205, 206, 207, 208, 209, 210, 211], \"y\": [164.75, 179.8, 244.16666666666666, 258.14285714285717, 311.42857142857144, 384.14285714285717, 458.2857142857143, 535.4285714285714, 679.2857142857143, 811.5714285714286, 1019.4285714285714, 1092.4285714285713, 1339.0, 1607.857142857143, 1860.5714285714287, 2182.0, 2481.714285714286, 2686.8571428571427, 3051.0, 3321.5714285714284, 3703.1428571428573, 4194.428571428572, 4631.571428571428, 4913.0, 5135.285714285715, 5381.428571428572, 5524.714285714285, 5643.428571428572, 5639.571428571428, 5556.285714285715, 5507.285714285715, 5401.714285714285, 5230.857142857143, 5169.714285714285, 4957.571428571428, 4761.285714285715, 4594.285714285715, 4465.571428571428, 4401.142857142857, 4256.285714285715, 4121.142857142857, 4054.8571428571427, 3964.285714285714, 3948.4285714285716, 3916.4285714285716, 3852.714285714286, 3843.1428571428573, 3676.1428571428573, 3616.4285714285716, 3551.0, 3379.1428571428573, 3229.8571428571427, 3101.714285714286, 3067.0, 3167.4285714285716, 3004.5714285714284, 2937.1428571428573, 2775.1428571428573, 2671.8571428571427, 2598.0, 2506.8571428571427, 2323.4285714285716, 2212.8571428571427, 2062.0, 1996.7142857142858, 1863.142857142857, 1789.142857142857, 1644.0, 1552.2857142857142, 1485.0, 1393.857142857143, 1277.142857142857, 1193.2857142857142, 1125.142857142857, 1171.857142857143, 1092.4285714285713, 1034.0, 957.1428571428571, 927.4285714285714, 909.2857142857143, 867.4285714285714, 783.2857142857143, 751.4285714285714, 701.4285714285714, 681.8571428571429, 652.4285714285714, 631.8571428571429, 610.2857142857143, 550.8571428571429, 539.2857142857143, 532.2857142857143, 512.8571428571429, 476.7142857142857, 451.57142857142856, 434.14285714285717, 422.85714285714283, 385.2857142857143, 325.85714285714283, 326.14285714285717, 305.2857142857143, 282.7142857142857, 297.2857142857143, 292.2857142857143, 275.2857142857143, 304.14285714285717, 253.42857142857142, 264.2857142857143, 284.42857142857144, 287.7142857142857, 277.2857142857143, 295.42857142857144, 288.85714285714283, 301.42857142857144, 289.42857142857144, 273.14285714285717, 261.0, 248.42857142857142, 228.57142857142858, 223.28571428571428, 224.42857142857142, 212.0, 204.85714285714286, 191.71428571428572, 194.57142857142858, 194.14285714285714, 180.57142857142858, 175.42857142857142, 184.0, 186.57142857142858, 198.28571428571428, 197.71428571428572, 198.57142857142858, 202.57142857142858, 210.14285714285714, 203.42857142857142, 209.42857142857142, 203.85714285714286, 200.42857142857142, 196.14285714285714, 196.28571428571428, 190.14285714285714, 198.85714285714286, 196.71428571428572, 199.71428571428572, 201.85714285714286, 218.85714285714286, 229.71428571428572, 232.42857142857142, 236.14285714285714, 241.28571428571428, 238.42857142857142, 250.28571428571428, 251.28571428571428, 262.7142857142857, 280.85714285714283, 283.7142857142857, 281.42857142857144, 279.85714285714283, 276.7142857142857, 290.2857142857143, 292.57142857142856, 317.2857142857143, 324.7142857142857, 356.7142857142857, 371.0, 402.7142857142857, 416.57142857142856, 433.85714285714283, 437.0, 477.2857142857143, 479.57142857142856, 488.2857142857143, 487.0, 510.0, 556.0, 609.2857142857143, 672.4285714285714, 776.8571428571429, 867.2857142857143, 935.1428571428571, 1038.7142857142858, 1119.5714285714287, 1193.142857142857, 1246.4285714285713, 1268.5714285714287, 1274.7142857142858, 1289.0, 1283.142857142857, 1281.142857142857, 1319.857142857143, 1355.5714285714287, 1345.857142857143, 1361.857142857143, 1417.857142857143, 1433.2857142857142, 1461.857142857143, 1445.142857142857, 1417.5714285714287, 1440.5714285714287, 1426.2857142857142, 1406.142857142857, 1408.7142857142858, 1407.0, 1448.5714285714287, 1468.142857142857, 1486.5714285714287, 1535.4285714285713, 1558.7142857142858, 1576.5, 1574.8, 1491.75]}],\n",
       "                        {\"template\": {\"data\": {\"bar\": [{\"error_x\": {\"color\": \"#2a3f5f\"}, \"error_y\": {\"color\": \"#2a3f5f\"}, \"marker\": {\"line\": {\"color\": \"#E5ECF6\", \"width\": 0.5}}, \"type\": \"bar\"}], \"barpolar\": [{\"marker\": {\"line\": {\"color\": \"#E5ECF6\", \"width\": 0.5}}, \"type\": \"barpolar\"}], \"carpet\": [{\"aaxis\": {\"endlinecolor\": \"#2a3f5f\", \"gridcolor\": \"white\", \"linecolor\": \"white\", \"minorgridcolor\": \"white\", \"startlinecolor\": \"#2a3f5f\"}, \"baxis\": {\"endlinecolor\": \"#2a3f5f\", \"gridcolor\": \"white\", \"linecolor\": \"white\", \"minorgridcolor\": \"white\", \"startlinecolor\": \"#2a3f5f\"}, \"type\": \"carpet\"}], \"choropleth\": [{\"colorbar\": {\"outlinewidth\": 0, \"ticks\": \"\"}, \"type\": \"choropleth\"}], \"contour\": [{\"colorbar\": {\"outlinewidth\": 0, \"ticks\": \"\"}, \"colorscale\": [[0.0, \"#0d0887\"], [0.1111111111111111, \"#46039f\"], [0.2222222222222222, \"#7201a8\"], [0.3333333333333333, \"#9c179e\"], [0.4444444444444444, \"#bd3786\"], [0.5555555555555556, \"#d8576b\"], [0.6666666666666666, \"#ed7953\"], [0.7777777777777778, \"#fb9f3a\"], [0.8888888888888888, \"#fdca26\"], [1.0, \"#f0f921\"]], \"type\": \"contour\"}], \"contourcarpet\": [{\"colorbar\": {\"outlinewidth\": 0, \"ticks\": \"\"}, \"type\": \"contourcarpet\"}], \"heatmap\": [{\"colorbar\": {\"outlinewidth\": 0, \"ticks\": \"\"}, \"colorscale\": [[0.0, \"#0d0887\"], [0.1111111111111111, \"#46039f\"], [0.2222222222222222, \"#7201a8\"], [0.3333333333333333, \"#9c179e\"], [0.4444444444444444, \"#bd3786\"], [0.5555555555555556, \"#d8576b\"], [0.6666666666666666, \"#ed7953\"], [0.7777777777777778, \"#fb9f3a\"], [0.8888888888888888, \"#fdca26\"], [1.0, \"#f0f921\"]], \"type\": \"heatmap\"}], \"heatmapgl\": [{\"colorbar\": {\"outlinewidth\": 0, \"ticks\": \"\"}, \"colorscale\": [[0.0, \"#0d0887\"], [0.1111111111111111, \"#46039f\"], [0.2222222222222222, \"#7201a8\"], [0.3333333333333333, \"#9c179e\"], [0.4444444444444444, \"#bd3786\"], [0.5555555555555556, \"#d8576b\"], [0.6666666666666666, \"#ed7953\"], [0.7777777777777778, \"#fb9f3a\"], [0.8888888888888888, \"#fdca26\"], [1.0, \"#f0f921\"]], \"type\": \"heatmapgl\"}], \"histogram\": [{\"marker\": {\"colorbar\": {\"outlinewidth\": 0, \"ticks\": \"\"}}, \"type\": \"histogram\"}], \"histogram2d\": [{\"colorbar\": {\"outlinewidth\": 0, \"ticks\": \"\"}, \"colorscale\": [[0.0, \"#0d0887\"], [0.1111111111111111, \"#46039f\"], [0.2222222222222222, \"#7201a8\"], [0.3333333333333333, \"#9c179e\"], [0.4444444444444444, \"#bd3786\"], [0.5555555555555556, \"#d8576b\"], [0.6666666666666666, \"#ed7953\"], [0.7777777777777778, \"#fb9f3a\"], [0.8888888888888888, \"#fdca26\"], [1.0, \"#f0f921\"]], \"type\": \"histogram2d\"}], \"histogram2dcontour\": [{\"colorbar\": {\"outlinewidth\": 0, \"ticks\": \"\"}, \"colorscale\": [[0.0, \"#0d0887\"], [0.1111111111111111, \"#46039f\"], [0.2222222222222222, \"#7201a8\"], [0.3333333333333333, \"#9c179e\"], [0.4444444444444444, \"#bd3786\"], [0.5555555555555556, \"#d8576b\"], [0.6666666666666666, \"#ed7953\"], [0.7777777777777778, \"#fb9f3a\"], [0.8888888888888888, \"#fdca26\"], [1.0, \"#f0f921\"]], \"type\": \"histogram2dcontour\"}], \"mesh3d\": [{\"colorbar\": {\"outlinewidth\": 0, \"ticks\": \"\"}, \"type\": \"mesh3d\"}], \"parcoords\": [{\"line\": {\"colorbar\": {\"outlinewidth\": 0, \"ticks\": \"\"}}, \"type\": \"parcoords\"}], \"pie\": [{\"automargin\": true, \"type\": \"pie\"}], \"scatter\": [{\"marker\": {\"colorbar\": {\"outlinewidth\": 0, \"ticks\": \"\"}}, \"type\": \"scatter\"}], \"scatter3d\": [{\"line\": {\"colorbar\": {\"outlinewidth\": 0, \"ticks\": \"\"}}, \"marker\": {\"colorbar\": {\"outlinewidth\": 0, \"ticks\": \"\"}}, \"type\": \"scatter3d\"}], \"scattercarpet\": [{\"marker\": {\"colorbar\": {\"outlinewidth\": 0, \"ticks\": \"\"}}, \"type\": \"scattercarpet\"}], \"scattergeo\": [{\"marker\": {\"colorbar\": {\"outlinewidth\": 0, \"ticks\": \"\"}}, \"type\": \"scattergeo\"}], \"scattergl\": [{\"marker\": {\"colorbar\": {\"outlinewidth\": 0, \"ticks\": \"\"}}, \"type\": \"scattergl\"}], \"scattermapbox\": [{\"marker\": {\"colorbar\": {\"outlinewidth\": 0, \"ticks\": \"\"}}, \"type\": \"scattermapbox\"}], \"scatterpolar\": [{\"marker\": {\"colorbar\": {\"outlinewidth\": 0, \"ticks\": \"\"}}, \"type\": \"scatterpolar\"}], \"scatterpolargl\": [{\"marker\": {\"colorbar\": {\"outlinewidth\": 0, \"ticks\": \"\"}}, \"type\": \"scatterpolargl\"}], \"scatterternary\": [{\"marker\": {\"colorbar\": {\"outlinewidth\": 0, \"ticks\": \"\"}}, \"type\": \"scatterternary\"}], \"surface\": [{\"colorbar\": {\"outlinewidth\": 0, \"ticks\": \"\"}, \"colorscale\": [[0.0, \"#0d0887\"], [0.1111111111111111, \"#46039f\"], [0.2222222222222222, \"#7201a8\"], [0.3333333333333333, \"#9c179e\"], [0.4444444444444444, \"#bd3786\"], [0.5555555555555556, \"#d8576b\"], [0.6666666666666666, \"#ed7953\"], [0.7777777777777778, \"#fb9f3a\"], [0.8888888888888888, \"#fdca26\"], [1.0, \"#f0f921\"]], \"type\": \"surface\"}], \"table\": [{\"cells\": {\"fill\": {\"color\": \"#EBF0F8\"}, \"line\": {\"color\": \"white\"}}, \"header\": {\"fill\": {\"color\": \"#C8D4E3\"}, \"line\": {\"color\": \"white\"}}, \"type\": \"table\"}]}, \"layout\": {\"annotationdefaults\": {\"arrowcolor\": \"#2a3f5f\", \"arrowhead\": 0, \"arrowwidth\": 1}, \"coloraxis\": {\"colorbar\": {\"outlinewidth\": 0, \"ticks\": \"\"}}, \"colorscale\": {\"diverging\": [[0, \"#8e0152\"], [0.1, \"#c51b7d\"], [0.2, \"#de77ae\"], [0.3, \"#f1b6da\"], [0.4, \"#fde0ef\"], [0.5, \"#f7f7f7\"], [0.6, \"#e6f5d0\"], [0.7, \"#b8e186\"], [0.8, \"#7fbc41\"], [0.9, \"#4d9221\"], [1, \"#276419\"]], \"sequential\": [[0.0, \"#0d0887\"], [0.1111111111111111, \"#46039f\"], [0.2222222222222222, \"#7201a8\"], [0.3333333333333333, \"#9c179e\"], [0.4444444444444444, \"#bd3786\"], [0.5555555555555556, \"#d8576b\"], [0.6666666666666666, \"#ed7953\"], [0.7777777777777778, \"#fb9f3a\"], [0.8888888888888888, \"#fdca26\"], [1.0, \"#f0f921\"]], \"sequentialminus\": [[0.0, \"#0d0887\"], [0.1111111111111111, \"#46039f\"], [0.2222222222222222, \"#7201a8\"], [0.3333333333333333, \"#9c179e\"], [0.4444444444444444, \"#bd3786\"], [0.5555555555555556, \"#d8576b\"], [0.6666666666666666, \"#ed7953\"], [0.7777777777777778, \"#fb9f3a\"], [0.8888888888888888, \"#fdca26\"], [1.0, \"#f0f921\"]]}, \"colorway\": [\"#636efa\", \"#EF553B\", \"#00cc96\", \"#ab63fa\", \"#FFA15A\", \"#19d3f3\", \"#FF6692\", \"#B6E880\", \"#FF97FF\", \"#FECB52\"], \"font\": {\"color\": \"#2a3f5f\"}, \"geo\": {\"bgcolor\": \"white\", \"lakecolor\": \"white\", \"landcolor\": \"#E5ECF6\", \"showlakes\": true, \"showland\": true, \"subunitcolor\": \"white\"}, \"hoverlabel\": {\"align\": \"left\"}, \"hovermode\": \"closest\", \"mapbox\": {\"style\": \"light\"}, \"paper_bgcolor\": \"white\", \"plot_bgcolor\": \"#E5ECF6\", \"polar\": {\"angularaxis\": {\"gridcolor\": \"white\", \"linecolor\": \"white\", \"ticks\": \"\"}, \"bgcolor\": \"#E5ECF6\", \"radialaxis\": {\"gridcolor\": \"white\", \"linecolor\": \"white\", \"ticks\": \"\"}}, \"scene\": {\"xaxis\": {\"backgroundcolor\": \"#E5ECF6\", \"gridcolor\": \"white\", \"gridwidth\": 2, \"linecolor\": \"white\", \"showbackground\": true, \"ticks\": \"\", \"zerolinecolor\": \"white\"}, \"yaxis\": {\"backgroundcolor\": \"#E5ECF6\", \"gridcolor\": \"white\", \"gridwidth\": 2, \"linecolor\": \"white\", \"showbackground\": true, \"ticks\": \"\", \"zerolinecolor\": \"white\"}, \"zaxis\": {\"backgroundcolor\": \"#E5ECF6\", \"gridcolor\": \"white\", \"gridwidth\": 2, \"linecolor\": \"white\", \"showbackground\": true, \"ticks\": \"\", \"zerolinecolor\": \"white\"}}, \"shapedefaults\": {\"line\": {\"color\": \"#2a3f5f\"}}, \"ternary\": {\"aaxis\": {\"gridcolor\": \"white\", \"linecolor\": \"white\", \"ticks\": \"\"}, \"baxis\": {\"gridcolor\": \"white\", \"linecolor\": \"white\", \"ticks\": \"\"}, \"bgcolor\": \"#E5ECF6\", \"caxis\": {\"gridcolor\": \"white\", \"linecolor\": \"white\", \"ticks\": \"\"}}, \"title\": {\"x\": 0.05}, \"xaxis\": {\"automargin\": true, \"gridcolor\": \"white\", \"linecolor\": \"white\", \"ticks\": \"\", \"title\": {\"standoff\": 15}, \"zerolinecolor\": \"white\", \"zerolinewidth\": 2}, \"yaxis\": {\"automargin\": true, \"gridcolor\": \"white\", \"linecolor\": \"white\", \"ticks\": \"\", \"title\": {\"standoff\": 15}, \"zerolinecolor\": \"white\", \"zerolinewidth\": 2}}}, \"title\": {\"text\": \"Nuovi contagi\"}, \"xaxis\": {\"tickmode\": \"array\", \"ticktext\": [\"2020-02-24\", \"2020-03-02\", \"2020-03-09\", \"2020-03-16\", \"2020-03-23\", \"2020-03-30\", \"2020-04-06\", \"2020-04-13\", \"2020-04-20\", \"2020-04-27\", \"2020-05-04\", \"2020-05-11\", \"2020-05-18\", \"2020-05-25\", \"2020-06-01\", \"2020-06-08\", \"2020-06-15\", \"2020-06-22\", \"2020-06-29\", \"2020-07-06\", \"2020-07-13\", \"2020-07-20\", \"2020-07-27\", \"2020-08-03\", \"2020-08-10\", \"2020-08-17\", \"2020-08-24\", \"2020-08-31\", \"2020-09-07\", \"2020-09-14\", \"2020-09-21\"], \"tickvals\": [0, 7, 14, 21, 28, 35, 42, 49, 56, 63, 70, 77, 84, 91, 98, 105, 112, 119, 126, 133, 140, 147, 154, 161, 168, 175, 182, 189, 196, 203, 210]}},\n",
       "                        {\"responsive\": true}\n",
       "                    ).then(function(){\n",
       "                            \n",
       "var gd = document.getElementById('050483e4-62e7-4615-9a41-9d1ba2a87a32');\n",
       "var x = new MutationObserver(function (mutations, observer) {{\n",
       "        var display = window.getComputedStyle(gd).display;\n",
       "        if (!display || display === 'none') {{\n",
       "            console.log([gd, 'removed!']);\n",
       "            Plotly.purge(gd);\n",
       "            observer.disconnect();\n",
       "        }}\n",
       "}});\n",
       "\n",
       "// Listen for the removal of the full notebook cells\n",
       "var notebookContainer = gd.closest('#notebook-container');\n",
       "if (notebookContainer) {{\n",
       "    x.observe(notebookContainer, {childList: true});\n",
       "}}\n",
       "\n",
       "// Listen for the clearing of the current output cell\n",
       "var outputEl = gd.closest('.output');\n",
       "if (outputEl) {{\n",
       "    x.observe(outputEl, {childList: true});\n",
       "}}\n",
       "\n",
       "                        })\n",
       "                };\n",
       "                });\n",
       "            </script>\n",
       "        </div>"
      ]
     },
     "metadata": {},
     "output_type": "display_data"
    }
   ],
   "source": [
    "fig = go.Figure()\n",
    "\n",
    "# Add traces\n",
    "fig.add_trace(go.Scatter(x=day_counter,\n",
    "                         y=nuovi_contagi_reali,\n",
    "                         mode='markers',\n",
    "                         name='Reali'))\n",
    "fig.add_trace(go.Scatter(x=day_counter,\n",
    "                         y=nuovi_contagi_pred,\n",
    "                         mode='lines',\n",
    "                         name='Predetti'))\n",
    "fig.add_trace(go.Scatter(x=day_counter,\n",
    "                         y=nuovi_contagi_reali_filtered,\n",
    "                         mode='markers',\n",
    "                         name='Reali filtrati'))\n",
    "fig.update_layout(title='Nuovi contagi',\n",
    "                  xaxis_tickmode = 'array',\n",
    "                  xaxis_tickvals = np.arange(0,len(day_counter),7),\n",
    "                  xaxis_ticktext = [g[0:10] for g in giorni[np.arange(0,len(day_counter),7)]])\n",
    "fig.show()"
   ]
  },
  {
   "cell_type": "code",
   "execution_count": 107,
   "metadata": {},
   "outputs": [
    {
     "name": "stderr",
     "output_type": "stream",
     "text": [
      "C:\\Users\\klaat\\Anaconda3\\lib\\site-packages\\ipykernel_launcher.py:13: UserWarning:\n",
      "\n",
      "Matplotlib is currently using module://ipykernel.pylab.backend_inline, which is a non-GUI backend, so cannot show the figure.\n",
      "\n"
     ]
    },
    {
     "data": {
      "image/png": "[encoded data removed]",
      "text/plain": [
       "<Figure size 864x432 with 1 Axes>"
      ]
     },
     "metadata": {
      "needs_background": "light"
     },
     "output_type": "display_data"
    }
   ],
   "source": [
    "from scipy.signal import savgol_filter\n",
    "\n",
    "\n",
    "fig,ax=plt.subplots(1,1,figsize=(12,6))\n",
    "errore_giornaliero=nuovi_contagi_pred[0:len(nuovi_contagi_reali)]-nuovi_contagi_reali\n",
    "ax.bar(day_counter[0:len(nuovi_contagi_reali)],errore_giornaliero)\n",
    "#ax.plot(day_counter[0:len(nuovi_contagi_reali)],moving_function_rev1(errore_giornaliero,np.mean,5,2),'r',linewidth=3)\n",
    "ax.plot(day_counter[0:len(nuovi_contagi_reali)],savgol_filter(errore_giornaliero,13,1),'r',linewidth=3)\n",
    "ax.axvline(days_training-2)\n",
    "ax.set_title('Nuovi contagi - Errore')\n",
    "ax.grid()\n",
    "fig.tight_layout()\n",
    "fig.show()"
   ]
  },
  {
   "cell_type": "code",
   "execution_count": null,
   "metadata": {},
   "outputs": [],
   "source": []
  },
  {
   "cell_type": "code",
   "execution_count": null,
   "metadata": {},
   "outputs": [],
   "source": []
  }
 ],
 "metadata": {
  "kernelspec": {
   "display_name": "Python 3",
   "language": "python",
   "name": "python3"
  },
  "language_info": {
   "codemirror_mode": {
    "name": "ipython",
    "version": 3
   },
   "file_extension": ".py",
   "mimetype": "text/x-python",
   "name": "python",
   "nbconvert_exporter": "python",
   "pygments_lexer": "ipython3",
   "version": "3.7.1"
  }
 },
 "nbformat": 4,
 "nbformat_minor": 4
}
