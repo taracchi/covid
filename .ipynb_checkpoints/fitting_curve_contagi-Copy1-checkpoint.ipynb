{
 "cells": [
  {
   "attachments": {},
   "cell_type": "markdown",
   "metadata": {},
   "source": [
    "# Studio COVID-19\n",
    "\n",
    "Fonte dati: https://lab24.ilsole24ore.com/coronavirus/"
   ]
  },
  {
   "cell_type": "code",
   "execution_count": 1,
   "metadata": {},
   "outputs": [],
   "source": [
    "import pandas as pd\n",
    "import numpy as np\n",
    "\n",
    "import matplotlib.pyplot as plt\n",
    "import seaborn as sns\n",
    "\n",
    "from aidam.math_utils import moving_function\n",
    "from aidam.faga.init_functions_repo import uniform_init\n",
    "from aidam.faga.faga import Faga\n",
    "from aidam.faga.terminal_functions_repo import TF_max_generations\n",
    "from aidam.faga.recomb_functions_repo import constant_recombination_rates\n",
    "from aidam.faga.selection_functions_repo import tophalf_selection, ranking_selection\n",
    "from aidam.faga.crossover_functions_repo import real_averaging_crossover, weighted_averaging_crossover\n",
    "from aidam.faga.mutation_functions_repo import random_mutation_in_range, local_mutation_in_range\n",
    "from aidam.faga.fitscaling_function_repo import convert2minimizer_scaler"
   ]
  },
  {
   "cell_type": "markdown",
   "metadata": {},
   "source": [
    "## Parametri"
   ]
  },
  {
   "cell_type": "code",
   "execution_count": 2,
   "metadata": {},
   "outputs": [],
   "source": [
    "data_file='dati_covid19.xlsx'\n",
    "fitting_days=18 # giorni su cui fitto la curva\n",
    "pop_cardinality=100"
   ]
  },
  {
   "cell_type": "markdown",
   "metadata": {},
   "source": [
    "## Lettura e preparazione dati"
   ]
  },
  {
   "cell_type": "code",
   "execution_count": 14,
   "metadata": {
    "scrolled": true
   },
   "outputs": [
    {
     "data": {
      "text/html": [
       "<div>\n",
       "<style scoped>\n",
       "    .dataframe tbody tr th:only-of-type {\n",
       "        vertical-align: middle;\n",
       "    }\n",
       "\n",
       "    .dataframe tbody tr th {\n",
       "        vertical-align: top;\n",
       "    }\n",
       "\n",
       "    .dataframe thead th {\n",
       "        text-align: right;\n",
       "    }\n",
       "</style>\n",
       "<table border=\"1\" class=\"dataframe\">\n",
       "  <thead>\n",
       "    <tr style=\"text-align: right;\">\n",
       "      <th></th>\n",
       "      <th>Giorno</th>\n",
       "      <th>Infettati Tot</th>\n",
       "      <th>Giornalieri</th>\n",
       "    </tr>\n",
       "  </thead>\n",
       "  <tbody>\n",
       "    <tr>\n",
       "      <th>0</th>\n",
       "      <td>2020-02-25</td>\n",
       "      <td>322</td>\n",
       "      <td>NaN</td>\n",
       "    </tr>\n",
       "    <tr>\n",
       "      <th>1</th>\n",
       "      <td>2020-02-26</td>\n",
       "      <td>400</td>\n",
       "      <td>78.0</td>\n",
       "    </tr>\n",
       "    <tr>\n",
       "      <th>2</th>\n",
       "      <td>2020-02-27</td>\n",
       "      <td>650</td>\n",
       "      <td>250.0</td>\n",
       "    </tr>\n",
       "    <tr>\n",
       "      <th>3</th>\n",
       "      <td>2020-02-28</td>\n",
       "      <td>888</td>\n",
       "      <td>238.0</td>\n",
       "    </tr>\n",
       "    <tr>\n",
       "      <th>4</th>\n",
       "      <td>2020-02-29</td>\n",
       "      <td>1128</td>\n",
       "      <td>240.0</td>\n",
       "    </tr>\n",
       "    <tr>\n",
       "      <th>5</th>\n",
       "      <td>2020-03-01</td>\n",
       "      <td>1694</td>\n",
       "      <td>566.0</td>\n",
       "    </tr>\n",
       "    <tr>\n",
       "      <th>6</th>\n",
       "      <td>2020-03-02</td>\n",
       "      <td>2036</td>\n",
       "      <td>342.0</td>\n",
       "    </tr>\n",
       "    <tr>\n",
       "      <th>7</th>\n",
       "      <td>2020-03-03</td>\n",
       "      <td>2502</td>\n",
       "      <td>466.0</td>\n",
       "    </tr>\n",
       "    <tr>\n",
       "      <th>8</th>\n",
       "      <td>2020-03-04</td>\n",
       "      <td>3089</td>\n",
       "      <td>587.0</td>\n",
       "    </tr>\n",
       "    <tr>\n",
       "      <th>9</th>\n",
       "      <td>2020-03-05</td>\n",
       "      <td>3858</td>\n",
       "      <td>769.0</td>\n",
       "    </tr>\n",
       "    <tr>\n",
       "      <th>10</th>\n",
       "      <td>2020-03-06</td>\n",
       "      <td>4636</td>\n",
       "      <td>778.0</td>\n",
       "    </tr>\n",
       "    <tr>\n",
       "      <th>11</th>\n",
       "      <td>2020-03-07</td>\n",
       "      <td>5883</td>\n",
       "      <td>1247.0</td>\n",
       "    </tr>\n",
       "    <tr>\n",
       "      <th>12</th>\n",
       "      <td>2020-03-08</td>\n",
       "      <td>7375</td>\n",
       "      <td>1492.0</td>\n",
       "    </tr>\n",
       "    <tr>\n",
       "      <th>13</th>\n",
       "      <td>2020-03-09</td>\n",
       "      <td>9172</td>\n",
       "      <td>1797.0</td>\n",
       "    </tr>\n",
       "    <tr>\n",
       "      <th>14</th>\n",
       "      <td>2020-03-10</td>\n",
       "      <td>10149</td>\n",
       "      <td>977.0</td>\n",
       "    </tr>\n",
       "    <tr>\n",
       "      <th>15</th>\n",
       "      <td>2020-03-11</td>\n",
       "      <td>12462</td>\n",
       "      <td>2313.0</td>\n",
       "    </tr>\n",
       "    <tr>\n",
       "      <th>16</th>\n",
       "      <td>2020-03-12</td>\n",
       "      <td>15113</td>\n",
       "      <td>2651.0</td>\n",
       "    </tr>\n",
       "    <tr>\n",
       "      <th>17</th>\n",
       "      <td>2020-03-13</td>\n",
       "      <td>17660</td>\n",
       "      <td>2547.0</td>\n",
       "    </tr>\n",
       "    <tr>\n",
       "      <th>18</th>\n",
       "      <td>2020-03-14</td>\n",
       "      <td>21157</td>\n",
       "      <td>3497.0</td>\n",
       "    </tr>\n",
       "    <tr>\n",
       "      <th>19</th>\n",
       "      <td>2020-03-15</td>\n",
       "      <td>24747</td>\n",
       "      <td>3590.0</td>\n",
       "    </tr>\n",
       "    <tr>\n",
       "      <th>20</th>\n",
       "      <td>2020-03-16</td>\n",
       "      <td>27980</td>\n",
       "      <td>3233.0</td>\n",
       "    </tr>\n",
       "    <tr>\n",
       "      <th>21</th>\n",
       "      <td>2020-03-17</td>\n",
       "      <td>31506</td>\n",
       "      <td>3526.0</td>\n",
       "    </tr>\n",
       "    <tr>\n",
       "      <th>22</th>\n",
       "      <td>2020-03-18</td>\n",
       "      <td>35713</td>\n",
       "      <td>4207.0</td>\n",
       "    </tr>\n",
       "    <tr>\n",
       "      <th>23</th>\n",
       "      <td>2020-03-19</td>\n",
       "      <td>41035</td>\n",
       "      <td>5322.0</td>\n",
       "    </tr>\n",
       "    <tr>\n",
       "      <th>24</th>\n",
       "      <td>2020-03-20</td>\n",
       "      <td>47021</td>\n",
       "      <td>5986.0</td>\n",
       "    </tr>\n",
       "    <tr>\n",
       "      <th>25</th>\n",
       "      <td>2020-03-21</td>\n",
       "      <td>53578</td>\n",
       "      <td>6557.0</td>\n",
       "    </tr>\n",
       "  </tbody>\n",
       "</table>\n",
       "</div>"
      ],
      "text/plain": [
       "       Giorno  Infettati Tot  Giornalieri\n",
       "0  2020-02-25            322          NaN\n",
       "1  2020-02-26            400         78.0\n",
       "2  2020-02-27            650        250.0\n",
       "3  2020-02-28            888        238.0\n",
       "4  2020-02-29           1128        240.0\n",
       "5  2020-03-01           1694        566.0\n",
       "6  2020-03-02           2036        342.0\n",
       "7  2020-03-03           2502        466.0\n",
       "8  2020-03-04           3089        587.0\n",
       "9  2020-03-05           3858        769.0\n",
       "10 2020-03-06           4636        778.0\n",
       "11 2020-03-07           5883       1247.0\n",
       "12 2020-03-08           7375       1492.0\n",
       "13 2020-03-09           9172       1797.0\n",
       "14 2020-03-10          10149        977.0\n",
       "15 2020-03-11          12462       2313.0\n",
       "16 2020-03-12          15113       2651.0\n",
       "17 2020-03-13          17660       2547.0\n",
       "18 2020-03-14          21157       3497.0\n",
       "19 2020-03-15          24747       3590.0\n",
       "20 2020-03-16          27980       3233.0\n",
       "21 2020-03-17          31506       3526.0\n",
       "22 2020-03-18          35713       4207.0\n",
       "23 2020-03-19          41035       5322.0\n",
       "24 2020-03-20          47021       5986.0\n",
       "25 2020-03-21          53578       6557.0"
      ]
     },
     "execution_count": 14,
     "metadata": {},
     "output_type": "execute_result"
    }
   ],
   "source": [
    "data=pd.read_excel(data_file)\n",
    "\n",
    "#   infezioni giornaliere attuali\n",
    "actual_dc=np.array(data['Giornalieri'][1:])\n",
    "actual_dc_sm=moving_function(actual_dc,np.mean,1,1)\n",
    "data_days=list(range(len(actual_dc))) # numerosità dei dati\n",
    "\n",
    "xy_data=(data_days[0:fitting_days],actual_dc_sm[0:fitting_days])\n",
    "\n",
    "data.iloc[:,0:3]"
   ]
  },
  {
   "cell_type": "markdown",
   "metadata": {},
   "source": [
    "## Modello e dominio soluzione\n",
    "\n",
    "Si modella il numero giornaliero di nuovi contagi ($y$) in funzione del giorno ($x$) in cui il giorno 0 è il primo registrato secondo la funzione:\n",
    "\n",
    "$y(x)= \\alpha \\cdot b^{\\beta(x-\\delta)}$\n",
    "\n",
    "dove:\n",
    "\n",
    "- $\\alpha$ = multiplier\n",
    "- $b$ = base\n",
    "- $\\beta$ = exp_multiplier\n",
    "- $\\delta$ = delay prima osservazione rispetto a inizio contagio\n"
   ]
  },
  {
   "cell_type": "code",
   "execution_count": 4,
   "metadata": {},
   "outputs": [],
   "source": [
    "multiplier_range=[1,3]\n",
    "base_range=[1.2,3.5]\n",
    "exp_multiplier_range=[0,3]\n",
    "delay_range=[10,30]\n",
    "\n",
    "dominio=np.vstack((multiplier_range,\n",
    "                   base_range,\n",
    "                   exp_multiplier_range,\n",
    "                   delay_range))\n",
    "dominio=dominio.T\n",
    "\n",
    "def fun_daily_contagions(multiplier,base,exp_multiplier,delay):\n",
    "    return lambda x:multiplier*base**(exp_multiplier*(x+delay))"
   ]
  },
  {
   "cell_type": "markdown",
   "metadata": {},
   "source": [
    "## GA\n",
    "\n",
    "### Setup genetico\n",
    "\n",
    "- popolazione iniziale\n",
    "- operatori GA\n",
    "- fitness function"
   ]
  },
  {
   "cell_type": "code",
   "execution_count": 5,
   "metadata": {},
   "outputs": [],
   "source": [
    "\n",
    "#   Popolazione iniziale\n",
    "initial_population=uniform_init(pop_cardinality,4,\n",
    "                             dominio[0,:],\n",
    "                             dominio[1,:])\n",
    "\n",
    "\n",
    "#    termination\n",
    "def custom_termination(gao):\n",
    "    return TF_max_generations(gao,500)\n",
    "\n",
    "\n",
    "def custom_scaler(raw_fitness):\n",
    "    return convert2minimizer_scaler(raw_fitness,sum(xy_data[1]))\n",
    "\n",
    "\n",
    "#   recombination\n",
    "def basic_recombination(gao):\n",
    "    return constant_recombination_rates(gao,[0.1, 0.9, 0.05])\n",
    "\n",
    "#   mutazione\n",
    "def custom_mutation(chromosome_index,gao):\n",
    "    return random_mutation_in_range(chromosome_index,gao,dominio.T,num_mutations=1)\n",
    "\n",
    "\n",
    "#   fitness\n",
    "def approximation_fitness(candidates):\n",
    "    evals=np.zeros(candidates.shape[0])\n",
    "    for icand,c in enumerate(candidates):\n",
    "        #   calcolo il polinomio nei punti\n",
    "        my_fun=fun_daily_contagions(c[0],c[1],c[2],c[3])\n",
    "        #   calcolo l'errore\n",
    "        err=[]\n",
    "        for isamp,xi in enumerate(xy_data[0]):\n",
    "            err.append(np.abs(xy_data[1][isamp]-my_fun(xi)))\n",
    "        #   setto la fitness in modo che sia più alta per errori più piccoli\n",
    "        evals[icand]=1/np.mean(err)+1/np.max(err)+1/np.std(err)\n",
    "    return evals\n",
    "\n",
    "\n",
    "\n"
   ]
  },
  {
   "cell_type": "markdown",
   "metadata": {},
   "source": [
    "### Ottimizzazione"
   ]
  },
  {
   "cell_type": "code",
   "execution_count": 6,
   "metadata": {
    "scrolled": true
   },
   "outputs": [
    {
     "name": "stdout",
     "output_type": "stream",
     "text": [
      "Gen:     0 BestAll: 0.01916 BestGen: 0.01916  BioDiv: 2\n",
      "Gen:   100 BestAll: 0.03271 BestGen: 0.03271  AveFit: 0.03149\n",
      "Gen:   200 BestAll: 0.03271 BestGen: 0.03271  AveFit: 0.03112\n",
      "Gen:   300 BestAll: 0.03271 BestGen: 0.03271  AveFit: 0.03119\n",
      "Gen:   400 BestAll: 0.03271 BestGen: 0.03271  AveFit: 0.03179\n",
      "Gen:   500 BestAll: 0.03271 BestGen: 0.03271  AveFit: 0.03139\n",
      "Wall time: 7.46 s\n"
     ]
    }
   ],
   "source": [
    "%%time\n",
    "\n",
    "ganedo=Faga(initial_population,\n",
    "                     fitness_fun=approximation_fitness,                 \n",
    "                     selection_fun=tophalf_selection,\n",
    "                     crossover_fun=weighted_averaging_crossover,\n",
    "                     mutation_fun=custom_mutation,\n",
    "                     termination_fun=custom_termination,\n",
    "                     recomb_rates_fun=basic_recombination,\n",
    "                     elite=1,\n",
    "                     verbose=False,\n",
    "                     print_info=100)\n",
    "        \n",
    "solution,performance=ganedo.solve()\n",
    "\n",
    "final_fun=fun_daily_contagions(solution[0],solution[1],solution[2],solution[3])\n",
    "\n"
   ]
  },
  {
   "cell_type": "markdown",
   "metadata": {},
   "source": [
    "## Risultati\n"
   ]
  },
  {
   "cell_type": "code",
   "execution_count": 7,
   "metadata": {
    "scrolled": true,
    "slideshow": {
     "slide_type": "slide"
    }
   },
   "outputs": [
    {
     "name": "stdout",
     "output_type": "stream",
     "text": [
      "Soluzione [ 2.3707432   1.62903982  0.35157129 25.3811325 ]\n",
      "Errore medio GLOBALE: 763.4\n",
      "Errore medio FIT: 63.3\n"
     ]
    }
   ],
   "source": [
    "pred_y=np.zeros_like(actual_dc)\n",
    "for i,x in enumerate(data_days):\n",
    "    pred_y[i]=final_fun(x)\n",
    "    \n",
    "    \n",
    "print('Soluzione',solution)\n",
    "print('Errore medio GLOBALE: %4.1f'%(np.mean(np.abs(pred_y-actual_dc_sm))))   \n",
    "print('Errore medio FIT: %4.1f'%(np.mean(np.abs(pred_y[0:fitting_days]-actual_dc_sm[0:fitting_days]))))   \n"
   ]
  },
  {
   "cell_type": "code",
   "execution_count": 8,
   "metadata": {},
   "outputs": [
    {
     "data": {
      "image/png": "[encoded data removed]",
      "text/plain": [
       "<Figure size 720x576 with 1 Axes>"
      ]
     },
     "metadata": {
      "needs_background": "light"
     },
     "output_type": "display_data"
    },
    {
     "data": {
      "image/png": "[encoded data removed]",
      "text/plain": [
       "<Figure size 720x576 with 1 Axes>"
      ]
     },
     "metadata": {
      "needs_background": "light"
     },
     "output_type": "display_data"
    }
   ],
   "source": [
    "# predetto-misurato\n",
    "\n",
    "plt.figure(figsize=(10,8))\n",
    "plt.title('Daily contagion prediction')\n",
    "plt.ylabel('Contagions')\n",
    "plt.plot(actual_dc,'go',label='Actual')\n",
    "plt.plot(actual_dc_sm,'g-')\n",
    "plt.plot(pred_y,'bx-',label='Predicted')\n",
    "plt.vlines(fitting_days,ymin=0,ymax=max(actual_dc),colors='b',linestyles='dashed',label='End fit')\n",
    "plt.legend()\n",
    "plt.show()\n",
    "\n",
    "# errore\n",
    "plt.figure(figsize=(10,8))\n",
    "plt.title('Error')\n",
    "plt.ylabel('Contagions')\n",
    "plt.plot(pred_y-actual_dc,'ro-')\n",
    "plt.vlines(fitting_days,ymin=0,ymax=max(actual_dc),colors='b',linestyles='dashed',label='End fit')\n",
    "plt.show()"
   ]
  },
  {
   "cell_type": "code",
   "execution_count": null,
   "metadata": {},
   "outputs": [],
   "source": []
  },
  {
   "cell_type": "code",
   "execution_count": null,
   "metadata": {},
   "outputs": [],
   "source": []
  }
 ],
 "metadata": {
  "celltoolbar": "Raw Cell Format",
  "kernelspec": {
   "display_name": "Python 3",
   "language": "python",
   "name": "python3"
  },
  "language_info": {
   "codemirror_mode": {
    "name": "ipython",
    "version": 3
   },
   "file_extension": ".py",
   "mimetype": "text/x-python",
   "name": "python",
   "nbconvert_exporter": "python",
   "pygments_lexer": "ipython3",
   "version": "3.7.1"
  }
 },
 "nbformat": 4,
 "nbformat_minor": 2
}
