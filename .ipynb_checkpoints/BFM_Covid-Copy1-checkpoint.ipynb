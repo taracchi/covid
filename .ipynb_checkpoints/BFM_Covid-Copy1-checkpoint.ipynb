{
 "cells": [
  {
   "cell_type": "markdown",
   "metadata": {},
   "source": [
    "# Test predizione COVID con BackFeatureMapper"
   ]
  },
  {
   "cell_type": "code",
   "execution_count": 1,
   "metadata": {},
   "outputs": [],
   "source": [
    "import pickle\n",
    "import numpy as np\n",
    "import pandas as pd\n",
    "from aidam.miscellanea_utils import var_column_mapper\n",
    "from matplotlib import pyplot as plt\n",
    "from aidam.BackFeatureMapper import BackFeatureBrewer, BackFeatureMapper\n",
    "from sklearn.preprocessing import StandardScaler"
   ]
  },
  {
   "cell_type": "code",
   "execution_count": 2,
   "metadata": {},
   "outputs": [],
   "source": [
    "data_file='stored_data.pkl'"
   ]
  },
  {
   "cell_type": "markdown",
   "metadata": {},
   "source": [
    "## Data import e preprocessing"
   ]
  },
  {
   "cell_type": "code",
   "execution_count": 3,
   "metadata": {},
   "outputs": [],
   "source": [
    "# lettura dati\n",
    "infile=open(data_file,'rb')\n",
    "trend=pickle.load(infile)\n",
    "regioni=pickle.load(infile)\n",
    "giorni=pickle.load(infile)\n",
    "giorno_settimana=pickle.load(infile)\n",
    "infile.close()"
   ]
  },
  {
   "cell_type": "markdown",
   "metadata": {},
   "source": [
    "### Creazione della matrice di input e target"
   ]
  },
  {
   "cell_type": "code",
   "execution_count": 4,
   "metadata": {},
   "outputs": [],
   "source": [
    "# selezione regione oggetto dello studio\n",
    "regione='Italia'\n",
    "\n",
    "# costruzione matrici di input e target\n",
    "input_vars=['terapia_intensiva','totale_ospedalizzati']\n",
    "target_var='deceduti_giornalieri'\n",
    "input_list=[]\n",
    "input_list=[trend[v][regione] for v in input_vars]\n",
    "input_data=np.array(input_list).T\n",
    "target_data=trend[target_var][regione]\n",
    "\n",
    "scaler=StandardScaler()\n",
    "scaler.fit(input_data)\n",
    "input_data=scaler.transform(input_data)"
   ]
  },
  {
   "cell_type": "markdown",
   "metadata": {},
   "source": [
    "### Divisione training test"
   ]
  },
  {
   "cell_type": "code",
   "execution_count": 5,
   "metadata": {},
   "outputs": [
    {
     "name": "stdout",
     "output_type": "stream",
     "text": [
      "RAW DATA\n",
      "51 Training samples   22 Validation samples\n"
     ]
    }
   ],
   "source": [
    "num_samples=len(giorni)\n",
    "\n",
    "num_tr_samples=int(num_samples*0.7)\n",
    "num_tr_samples\n",
    "\n",
    "input_tr=input_data[0:num_tr_samples,:]\n",
    "input_ts=input_data[num_tr_samples:,:]\n",
    "\n",
    "target_tr=target_data[0:num_tr_samples]\n",
    "target_ts=target_data[num_tr_samples:]\n",
    "\n",
    "\n",
    "print('RAW DATA')\n",
    "print('%d Training samples   %d Validation samples'%(len(target_tr),len(target_ts)))"
   ]
  },
  {
   "cell_type": "code",
   "execution_count": 6,
   "metadata": {},
   "outputs": [
    {
     "data": {
      "text/plain": [
       "[<matplotlib.lines.Line2D at 0x257124b5cc0>]"
      ]
     },
     "execution_count": 6,
     "metadata": {},
     "output_type": "execute_result"
    },
    {
     "data": {
      "image/png": "[encoded data removed]",
      "text/plain": [
       "<Figure size 432x288 with 1 Axes>"
      ]
     },
     "metadata": {
      "needs_background": "light"
     },
     "output_type": "display_data"
    }
   ],
   "source": [
    "plt.plot(list(range(0,num_tr_samples)),target_tr,'b.-')\n",
    "plt.plot(list(range(num_tr_samples,num_samples)),target_ts,'r.-')"
   ]
  },
  {
   "cell_type": "markdown",
   "metadata": {},
   "source": [
    "## Training e test modello"
   ]
  },
  {
   "cell_type": "markdown",
   "metadata": {},
   "source": [
    "### Preparazione e applicazione del mapper"
   ]
  },
  {
   "cell_type": "code",
   "execution_count": 7,
   "metadata": {},
   "outputs": [],
   "source": [
    "eso_backsight=3\n",
    "endo_backsight=3\n",
    "foresight=3\n",
    "\n",
    "\n",
    "\n",
    "eso=[BackFeatureMapper(column=0,backsight=eso_backsight,mapfun=np.mean),\n",
    "     BackFeatureMapper(column=0,backsight=eso_backsight,mapfun=np.std),\n",
    "     BackFeatureMapper(column=1,backsight=eso_backsight,mapfun=np.mean),\n",
    "     BackFeatureMapper(column=1,backsight=eso_backsight,mapfun=np.std),]\n",
    "endo=[BackFeatureMapper(column=0,backsight=endo_backsight,mapfun=np.mean)]\n",
    "\n",
    "\n",
    "the_brewer=BackFeatureBrewer(esomappers=eso, endomappers=endo)\n",
    "#the_brewer=BackFeatureBrewer(esomappers=eso)"
   ]
  },
  {
   "cell_type": "code",
   "execution_count": 11,
   "metadata": {},
   "outputs": [
    {
     "name": "stdout",
     "output_type": "stream",
     "text": [
      "FEATURES DATA\n",
      "45 Training samples   22 Validation samples\n",
      "Whole cut: 6\n",
      "Head cut: 3\n"
     ]
    },
    {
     "data": {
      "text/plain": [
       "'\\ntarget_cut=len(target_tr)-len(tr_mytar)\\nindici_reali_tr=list(range(target_cut,len(target_tr)))\\nprint(indici_reali_tr)\\nindici_reali_ts=list(range(len(target_tr)+target_cut,len(target_tr)+len(target_ts)))\\nprint(indici_reali_ts)\\n'"
      ]
     },
     "execution_count": 11,
     "metadata": {},
     "output_type": "execute_result"
    }
   ],
   "source": [
    "tr_myin,tr_mytar=the_brewer.transform(input_tr,\n",
    "                                      target_tr,\n",
    "                                      map_target=True,\n",
    "                                      foresight=foresight)\n",
    "\n",
    "ts_myin=the_brewer.transform(input_ts,target_ts,\n",
    "                                      map_target=False,\n",
    "                                      foresight=foresight)\n",
    "\n",
    "print('FEATURES DATA')\n",
    "print('%d Training samples   %d Validation samples'%(tr_myin.shape[0],ts_myin.shape[0]))\n",
    "\n",
    "whole_cut=input_tr.shape[0]-tr_myin.shape[0]\n",
    "head_cut=whole_cut-foresight\n",
    "\n",
    "print('Whole cut: %d'%whole_cut)\n",
    "print('Head cut: %d'%head_cut)"
   ]
  },
  {
   "cell_type": "markdown",
   "metadata": {},
   "source": [
    "### Training e test modello"
   ]
  },
  {
   "cell_type": "code",
   "execution_count": 9,
   "metadata": {},
   "outputs": [],
   "source": [
    "from sklearn import linear_model\n",
    "model = linear_model.Lasso(alpha=2)\n",
    "\n",
    "model.fit(tr_myin,tr_mytar)\n",
    "\n",
    "tr_pred=model.predict(tr_myin)\n",
    "\n",
    "errore_tr=np.mean(np.abs(tr_pred-tr_mytar))\n",
    "\n",
    "\n",
    "ts_pred=model.predict(ts_myin)\n",
    "errore_ts=np.mean(np.abs(ts_pred-ts_mytar))"
   ]
  },
  {
   "cell_type": "code",
   "execution_count": 9,
   "metadata": {},
   "outputs": [
    {
     "name": "stdout",
     "output_type": "stream",
     "text": [
      "Errore TR: 56.27   Errore TS: 92.68\n"
     ]
    },
    {
     "data": {
      "image/png": "[encoded data removed]",
      "text/plain": [
       "<Figure size 864x576 with 1 Axes>"
      ]
     },
     "metadata": {
      "needs_background": "light"
     },
     "output_type": "display_data"
    }
   ],
   "source": [
    "print('Errore TR: %5.2f   Errore TS: %5.2f'%(errore_tr,errore_ts))\n",
    "\n",
    "plt.figure(figsize=(12,8))\n",
    "plt.plot(range(len(target_tr)),target_tr,'b',label='TR Actual')\n",
    "plt.plot(indici_reali_tr,tr_pred,'bo',label='TR Predicted')\n",
    "plt.plot(range(len(target_tr),num_samples),target_ts,'r',label='TS Actual')\n",
    "plt.plot(indici_reali_ts,ts_pred,'ro',label='TS Predicted')\n",
    "plt.title('Predizione deceduti da ospedalizzati con 3 giorni di anticipo')\n",
    "plt.legend()\n",
    "plt.grid()\n",
    "plt.show()"
   ]
  },
  {
   "cell_type": "code",
   "execution_count": 10,
   "metadata": {},
   "outputs": [
    {
     "data": {
      "text/plain": [
       "array([534., 437., 464., 420., 415., 260., 333., 382., 323., 285., 269.,\n",
       "       474., 174., 195., 236., 369.])"
      ]
     },
     "execution_count": 10,
     "metadata": {},
     "output_type": "execute_result"
    }
   ],
   "source": [
    "ts_mytar"
   ]
  },
  {
   "cell_type": "code",
   "execution_count": 11,
   "metadata": {},
   "outputs": [
    {
     "data": {
      "text/plain": [
       "array([578., 525., 575., 482., 433., 454., 534., 437., 464., 420., 415.,\n",
       "       260., 333., 382., 323., 285., 269., 474., 174., 195., 236., 369.])"
      ]
     },
     "execution_count": 11,
     "metadata": {},
     "output_type": "execute_result"
    }
   ],
   "source": [
    "target_ts"
   ]
  },
  {
   "cell_type": "code",
   "execution_count": 12,
   "metadata": {},
   "outputs": [
    {
     "data": {
      "text/plain": [
       "array([  5.,  18.,  27.,  28.,  41.,  49.,  36., 133.,  97., 168., 196.,\n",
       "       189., 250., 175., 368., 349., 345., 475., 427., 627., 793., 651.,\n",
       "       601., 743., 683., 662., 969., 889., 756., 812., 837., 727., 760.,\n",
       "       766., 681., 525., 636., 604., 542., 610., 570., 619., 431., 566.,\n",
       "       602.])"
      ]
     },
     "execution_count": 12,
     "metadata": {},
     "output_type": "execute_result"
    }
   ],
   "source": [
    "tr_mytar"
   ]
  },
  {
   "cell_type": "code",
   "execution_count": 13,
   "metadata": {},
   "outputs": [
    {
     "data": {
      "text/plain": [
       "array([  0.,   3.,   2.,   5.,   4.,   8.,   5.,  18.,  27.,  28.,  41.,\n",
       "        49.,  36., 133.,  97., 168., 196., 189., 250., 175., 368., 349.,\n",
       "       345., 475., 427., 627., 793., 651., 601., 743., 683., 662., 969.,\n",
       "       889., 756., 812., 837., 727., 760., 766., 681., 525., 636., 604.,\n",
       "       542., 610., 570., 619., 431., 566., 602.])"
      ]
     },
     "execution_count": 13,
     "metadata": {},
     "output_type": "execute_result"
    }
   ],
   "source": [
    "target_tr"
   ]
  },
  {
   "cell_type": "code",
   "execution_count": null,
   "metadata": {},
   "outputs": [],
   "source": []
  }
 ],
 "metadata": {
  "kernelspec": {
   "display_name": "Python 3.7.1 64-bit ('klaat': virtualenv)",
   "language": "python",
   "name": "python37164bitklaatvirtualenv68391259d5714fc793cf295373d8f8d2"
  },
  "language_info": {
   "codemirror_mode": {
    "name": "ipython",
    "version": 3
   },
   "file_extension": ".py",
   "mimetype": "text/x-python",
   "name": "python",
   "nbconvert_exporter": "python",
   "pygments_lexer": "ipython3",
   "version": "3.7.1"
  }
 },
 "nbformat": 4,
 "nbformat_minor": 2
}
