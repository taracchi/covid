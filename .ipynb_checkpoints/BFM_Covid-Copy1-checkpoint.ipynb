{
 "cells": [
  {
   "cell_type": "markdown",
   "metadata": {},
   "source": [
    "# Test predizione COVID con BackFeatureMapper"
   ]
  },
  {
   "cell_type": "code",
   "execution_count": 1,
   "metadata": {},
   "outputs": [],
   "source": [
    "import pickle\n",
    "import numpy as np\n",
    "import pandas as pd\n",
    "from aidam.miscellanea_utils import var_column_mapper\n",
    "from matplotlib import pyplot as plt\n",
    "from aidam.BackFeatureMapper import BackFeatureBrewer, BackFeatureMapper\n",
    "from sklearn.preprocessing import StandardScaler"
   ]
  },
  {
   "cell_type": "code",
   "execution_count": 2,
   "metadata": {},
   "outputs": [],
   "source": [
    "data_file='stored_data.pkl'"
   ]
  },
  {
   "cell_type": "markdown",
   "metadata": {},
   "source": [
    "## Data import e preprocessing"
   ]
  },
  {
   "cell_type": "code",
   "execution_count": 3,
   "metadata": {},
   "outputs": [],
   "source": [
    "# lettura dati\n",
    "infile=open(data_file,'rb')\n",
    "trend=pickle.load(infile)\n",
    "regioni=pickle.load(infile)\n",
    "giorni=pickle.load(infile)\n",
    "giorno_settimana=pickle.load(infile)\n",
    "infile.close()"
   ]
  },
  {
   "cell_type": "markdown",
   "metadata": {},
   "source": [
    "### Creazione della matrice di input e target"
   ]
  },
  {
   "cell_type": "code",
   "execution_count": 4,
   "metadata": {},
   "outputs": [],
   "source": [
    "# selezione regione oggetto dello studio\n",
    "regione='Italia'\n",
    "\n",
    "# costruzione matrici di input e target\n",
    "input_vars=['terapia_intensiva','totale_ospedalizzati']\n",
    "target_var='deceduti_giornalieri'\n",
    "input_list=[]\n",
    "input_list=[trend[v][regione] for v in input_vars]\n",
    "input_data=np.array(input_list).T\n",
    "target_data=trend[target_var][regione]\n",
    "\n",
    "scaler=StandardScaler()\n",
    "scaler.fit(input_data)\n",
    "input_data=scaler.transform(input_data)"
   ]
  },
  {
   "cell_type": "markdown",
   "metadata": {},
   "source": [
    "### Divisione training test"
   ]
  },
  {
   "cell_type": "code",
   "execution_count": 5,
   "metadata": {},
   "outputs": [
    {
     "name": "stdout",
     "output_type": "stream",
     "text": [
      "RAW DATA\n",
      "109 Training samples   47 Validation samples\n"
     ]
    }
   ],
   "source": [
    "num_samples=len(giorni)\n",
    "\n",
    "num_tr_samples=int(num_samples*0.7)\n",
    "num_tr_samples\n",
    "\n",
    "input_tr=input_data[0:num_tr_samples,:]\n",
    "input_ts=input_data[num_tr_samples:,:]\n",
    "\n",
    "target_tr=target_data[0:num_tr_samples]\n",
    "target_ts=target_data[num_tr_samples:]\n",
    "\n",
    "\n",
    "print('RAW DATA')\n",
    "print('%d Training samples   %d Validation samples'%(len(target_tr),len(target_ts)))"
   ]
  },
  {
   "cell_type": "code",
   "execution_count": 6,
   "metadata": {},
   "outputs": [
    {
     "data": {
      "text/plain": [
       "[<matplotlib.lines.Line2D at 0x284611493c8>]"
      ]
     },
     "execution_count": 6,
     "metadata": {},
     "output_type": "execute_result"
    },
    {
     "data": {
      "image/png": "[encoded data removed]",
      "text/plain": [
       "<Figure size 432x288 with 1 Axes>"
      ]
     },
     "metadata": {
      "needs_background": "light"
     },
     "output_type": "display_data"
    }
   ],
   "source": [
    "plt.plot(list(range(0,num_tr_samples)),target_tr,'b.-')\n",
    "plt.plot(list(range(num_tr_samples,num_samples)),target_ts,'r.-')"
   ]
  },
  {
   "cell_type": "markdown",
   "metadata": {},
   "source": [
    "## Training e test modello"
   ]
  },
  {
   "cell_type": "markdown",
   "metadata": {},
   "source": [
    "### Preparazione e applicazione del mapper"
   ]
  },
  {
   "cell_type": "code",
   "execution_count": 7,
   "metadata": {},
   "outputs": [],
   "source": [
    "eso_backsight=7\n",
    "endo_backsight=3\n",
    "foresight=5\n",
    "\n",
    "def difference(x):\n",
    "    return x[-1]-x[0]\n",
    "\n",
    "\n",
    "eso=[BackFeatureMapper(column=0,backsight=eso_backsight,mapfun=np.mean),\n",
    "     BackFeatureMapper(column=1,backsight=eso_backsight,mapfun=np.mean)\n",
    "    ]\n",
    "endo=[BackFeatureMapper(column=0,backsight=endo_backsight,mapfun=np.mean),\n",
    "     BackFeatureMapper(column=0,backsight=endo_backsight,mapfun=np.min),\n",
    "     BackFeatureMapper(column=0,backsight=endo_backsight,mapfun=np.max)]\n",
    "\n",
    "\n",
    "the_brewer=BackFeatureBrewer(esomappers=eso, endomappers=endo)\n",
    "#the_brewer=BackFeatureBrewer(esomappers=eso)"
   ]
  },
  {
   "cell_type": "code",
   "execution_count": 8,
   "metadata": {},
   "outputs": [
    {
     "name": "stdout",
     "output_type": "stream",
     "text": [
      "FEATURES DATA\n",
      "101 Training samples   44 Validation samples\n",
      "Whole cut: 8\n",
      "Head cut: 3\n"
     ]
    }
   ],
   "source": [
    "indici_tr,tr_myin,tr_mytar=the_brewer.transform(input_tr,\n",
    "                                      target_tr,\n",
    "                                      map_target=True,\n",
    "                                      foresight=foresight)\n",
    "\n",
    "indici_ts,ts_myin=the_brewer.transform(input_ts,target_ts,\n",
    "                                      map_target=False,\n",
    "                                      foresight=foresight)\n",
    "\n",
    "print('FEATURES DATA')\n",
    "print('%d Training samples   %d Validation samples'%(tr_myin.shape[0],ts_myin.shape[0]))\n",
    "\n",
    "whole_cut=input_tr.shape[0]-tr_myin.shape[0]\n",
    "head_cut=whole_cut-foresight\n",
    "\n",
    "print('Whole cut: %d'%whole_cut)\n",
    "print('Head cut: %d'%head_cut)"
   ]
  },
  {
   "cell_type": "markdown",
   "metadata": {},
   "source": [
    "### Training e test modello"
   ]
  },
  {
   "cell_type": "code",
   "execution_count": 10,
   "metadata": {},
   "outputs": [
    {
     "name": "stdout",
     "output_type": "stream",
     "text": [
      "(101,)\n",
      "(44,)\n"
     ]
    },
    {
     "name": "stderr",
     "output_type": "stream",
     "text": [
      "C:\\Users\\klaat\\Anaconda3\\lib\\site-packages\\sklearn\\linear_model\\coordinate_descent.py:492: ConvergenceWarning: Objective did not converge. You might want to increase the number of iterations. Fitting data with very small alpha may cause precision problems.\n",
      "  ConvergenceWarning)\n"
     ]
    }
   ],
   "source": [
    "from sklearn import linear_model\n",
    "model = linear_model.Lasso(alpha=1)\n",
    "\n",
    "model.fit(tr_myin,tr_mytar)\n",
    "\n",
    "tr_pred=model.predict(tr_myin)\n",
    "ts_pred=model.predict(ts_myin)\n",
    "\n",
    "print(tr_pred.shape)\n",
    "print(ts_pred.shape)"
   ]
  },
  {
   "cell_type": "code",
   "execution_count": 11,
   "metadata": {},
   "outputs": [
    {
     "data": {
      "image/png": "[encoded data removed]",
      "text/plain": [
       "<Figure size 864x576 with 1 Axes>"
      ]
     },
     "metadata": {
      "needs_background": "light"
     },
     "output_type": "display_data"
    }
   ],
   "source": [
    "#print('Errore TR: %5.2f   Errore TS: %5.2f'%(errore_tr,errore_ts))\n",
    "\n",
    "plt.figure(figsize=(12,8))\n",
    "plt.plot(range(len(target_tr)),target_tr,'b',label='TR Actual')\n",
    "plt.plot(range(whole_cut,len(target_tr)),tr_pred,'b.--',label='TR Predicted')\n",
    "plt.plot(range(len(target_tr),num_samples),target_ts,'r',label='TS Actual')\n",
    "plt.plot(range(len(target_tr)+whole_cut,len(target_tr)+len(ts_pred)+whole_cut),ts_pred,'r.--',label='TS Predicted')\n",
    "plt.title('Predizione deceduti con %d giorni di anticipo'%foresight)\n",
    "plt.legend()\n",
    "plt.grid()\n",
    "plt.show()"
   ]
  },
  {
   "cell_type": "code",
   "execution_count": 11,
   "metadata": {},
   "outputs": [
    {
     "data": {
      "text/plain": [
       "array(['2020-02-24T18:00:00', '2020-02-25T18:00:00',\n",
       "       '2020-02-26T18:00:00', '2020-02-27T18:00:00',\n",
       "       '2020-02-28T18:00:00', '2020-02-29T17:00:00',\n",
       "       '2020-03-01T17:00:00', '2020-03-02T18:00:00',\n",
       "       '2020-03-03T18:00:00', '2020-03-04T17:00:00',\n",
       "       '2020-03-05T17:00:00', '2020-03-06T17:00:00',\n",
       "       '2020-03-07T18:00:00', '2020-03-08T18:00:00',\n",
       "       '2020-03-09T18:00:00', '2020-03-10T18:00:00',\n",
       "       '2020-03-11T17:00:00', '2020-03-12T17:00:00',\n",
       "       '2020-03-13T17:00:00', '2020-03-14T17:00:00',\n",
       "       '2020-03-15T17:00:00', '2020-03-16T17:00:00',\n",
       "       '2020-03-17T17:00:00', '2020-03-18T17:00:00',\n",
       "       '2020-03-19T17:00:00', '2020-03-20T17:00:00',\n",
       "       '2020-03-21T17:00:00', '2020-03-22T17:00:00',\n",
       "       '2020-03-23T17:00:00', '2020-03-24T17:00:00',\n",
       "       '2020-03-25T17:00:00', '2020-03-26T17:00:00',\n",
       "       '2020-03-27T17:00:00', '2020-03-28T17:00:00',\n",
       "       '2020-03-29T17:00:00', '2020-03-30T17:00:00',\n",
       "       '2020-03-31T17:00:00', '2020-04-01T17:00:00',\n",
       "       '2020-04-02T17:00:00', '2020-04-03T17:00:00',\n",
       "       '2020-04-04T17:00:00', '2020-04-05T17:00:00',\n",
       "       '2020-04-06T17:00:00', '2020-04-07T17:00:00',\n",
       "       '2020-04-08T17:00:00', '2020-04-09T17:00:00',\n",
       "       '2020-04-10T17:00:00', '2020-04-11T17:00:00',\n",
       "       '2020-04-12T17:00:00', '2020-04-13T17:00:00',\n",
       "       '2020-04-14T17:00:00', '2020-04-15T17:00:00',\n",
       "       '2020-04-16T17:00:00', '2020-04-17T17:00:00',\n",
       "       '2020-04-18T17:00:00', '2020-04-19T17:00:00',\n",
       "       '2020-04-20T17:00:00', '2020-04-21T17:00:00',\n",
       "       '2020-04-22T17:00:00', '2020-04-23T17:00:00',\n",
       "       '2020-04-24T17:00:00', '2020-04-25T17:00:00',\n",
       "       '2020-04-26T17:00:00', '2020-04-27T17:00:00',\n",
       "       '2020-04-28T17:00:00', '2020-04-29T17:00:00',\n",
       "       '2020-04-30T17:00:00', '2020-05-01T17:00:00',\n",
       "       '2020-05-02T17:00:00', '2020-05-03T17:00:00',\n",
       "       '2020-05-04T17:00:00', '2020-05-05T17:00:00',\n",
       "       '2020-05-06T17:00:00', '2020-05-07T17:00:00',\n",
       "       '2020-05-08T17:00:00', '2020-05-09T17:00:00',\n",
       "       '2020-05-10T17:00:00', '2020-05-11T17:00:00',\n",
       "       '2020-05-12T17:00:00', '2020-05-13T17:00:00',\n",
       "       '2020-05-14T17:00:00', '2020-05-15T17:00:00',\n",
       "       '2020-05-16T17:00:00', '2020-05-17T17:00:00',\n",
       "       '2020-05-18T17:00:00', '2020-05-19T17:00:00',\n",
       "       '2020-05-20T17:00:00', '2020-05-21T17:00:00',\n",
       "       '2020-05-22T17:00:00', '2020-05-23T17:00:00',\n",
       "       '2020-05-24T17:00:00', '2020-05-25T17:00:00',\n",
       "       '2020-05-26T17:00:00', '2020-05-27T17:00:00',\n",
       "       '2020-05-28T17:00:00', '2020-05-29T17:00:00',\n",
       "       '2020-05-30T17:00:00', '2020-05-31T17:00:00',\n",
       "       '2020-06-01T17:00:00', '2020-06-02T17:00:00',\n",
       "       '2020-06-03T17:00:00', '2020-06-04T17:00:00',\n",
       "       '2020-06-05T17:00:00', '2020-06-06T17:00:00',\n",
       "       '2020-06-07T17:00:00', '2020-06-08T17:00:00',\n",
       "       '2020-06-09T17:00:00', '2020-06-10T17:00:00',\n",
       "       '2020-06-11T17:00:00', '2020-06-12T17:00:00',\n",
       "       '2020-06-13T17:00:00', '2020-06-14T17:00:00',\n",
       "       '2020-06-15T17:00:00', '2020-06-16T17:00:00',\n",
       "       '2020-06-17T17:00:00', '2020-06-18T17:00:00',\n",
       "       '2020-06-19T17:00:00', '2020-06-20T17:00:00',\n",
       "       '2020-06-21T17:00:00', '2020-06-22T17:00:00',\n",
       "       '2020-06-23T17:00:00', '2020-06-24T17:00:00',\n",
       "       '2020-06-25T17:00:00'], dtype=object)"
      ]
     },
     "execution_count": 11,
     "metadata": {},
     "output_type": "execute_result"
    }
   ],
   "source": [
    "giorni"
   ]
  },
  {
   "cell_type": "code",
   "execution_count": 12,
   "metadata": {},
   "outputs": [
    {
     "data": {
      "text/plain": [
       "array([81.22281516, 66.18269889, 54.05562742, 51.33639649, 51.3251669 ,\n",
       "       55.74203498, 56.2615795 , 66.30598383, 66.47297393, 68.86862208,\n",
       "       61.93185725, 59.63246189, 65.30014549, 67.26261648, 56.28888002,\n",
       "       52.5877672 , 45.21930241, 38.85312325, 46.33323015, 51.9477963 ,\n",
       "       51.51892965, 48.18133973, 47.51687077, 44.46655204, 51.81383815,\n",
       "       46.4142907 , 57.83365115, 51.30864998, 52.10474212, 55.21673626,\n",
       "       58.8132777 , 61.63078353, 62.06520169, 55.68613987])"
      ]
     },
     "execution_count": 12,
     "metadata": {},
     "output_type": "execute_result"
    }
   ],
   "source": [
    "ts_pred"
   ]
  },
  {
   "cell_type": "code",
   "execution_count": null,
   "metadata": {},
   "outputs": [],
   "source": []
  }
 ],
 "metadata": {
  "kernelspec": {
   "display_name": "Python 3.7.1 64-bit ('klaat': virtualenv)",
   "language": "python",
   "name": "python37164bitklaatvirtualenv68391259d5714fc793cf295373d8f8d2"
  },
  "language_info": {
   "codemirror_mode": {
    "name": "ipython",
    "version": 3
   },
   "file_extension": ".py",
   "mimetype": "text/x-python",
   "name": "python",
   "nbconvert_exporter": "python",
   "pygments_lexer": "ipython3",
   "version": "3.7.1"
  }
 },
 "nbformat": 4,
 "nbformat_minor": 2
}
