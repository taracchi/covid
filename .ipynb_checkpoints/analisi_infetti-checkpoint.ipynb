{
 "cells": [
  {
   "cell_type": "markdown",
   "metadata": {},
   "source": [
    "# Analisi infetti e deceduti"
   ]
  },
  {
   "cell_type": "code",
   "execution_count": 1,
   "metadata": {},
   "outputs": [],
   "source": [
    "import matplotlib.pyplot as plt\n",
    "import seaborn as sns\n",
    "from aidam.math_utils import moving_function_rev1\n",
    "from aidam.aicharts import get_subplot_cells_sequence, confplot_ax, auto_grid_shape\n",
    "import pickle as pkl\n",
    "import numpy as np\n",
    "import pandas as pd"
   ]
  },
  {
   "cell_type": "markdown",
   "metadata": {},
   "source": [
    "## Lettura dati"
   ]
  },
  {
   "cell_type": "code",
   "execution_count": 2,
   "metadata": {
    "tags": []
   },
   "outputs": [
    {
     "name": "stdout",
     "output_type": "stream",
     "text": [
      "Giorni osservati: 206\n",
      "Primo giorno: 2020-02-24T18:00:00\n",
      "Ultimo giorno: 2020-09-16T17:00:00\n"
     ]
    }
   ],
   "source": [
    "data_file='stored_data.pkl'\n",
    "\n",
    "infile=open(data_file,'rb')\n",
    "trend=pkl.load(infile)\n",
    "regioni=pkl.load(infile)\n",
    "giorni=pkl.load(infile)\n",
    "giorno_settimana=pkl.load(infile)\n",
    "popolazione=pkl.load(infile)\n",
    "infile.close()\n",
    "\n",
    "day_counter=list(range(len(giorni)))\n",
    "\n",
    "print('Giorni osservati: %d'%len(giorni))\n",
    "print('Primo giorno: %s'%giorni[0])\n",
    "print('Ultimo giorno: %s'%giorni[-1])"
   ]
  },
  {
   "cell_type": "markdown",
   "metadata": {},
   "source": [
    "### Inserimento di eventi notevoli riferiti a date"
   ]
  },
  {
   "cell_type": "code",
   "execution_count": 3,
   "metadata": {},
   "outputs": [],
   "source": [
    "lockdown={'data':'2020-03-10',\n",
    "          'id_giorno':15,\n",
    "          'desc':'Lockdown'}\n",
    "\n",
    "scuole_chiuse={'data':'2020-03-04',\n",
    "               'id_giorno':9,\n",
    "               'desc':'Scuole chiuse'}\n",
    "\n",
    "fase_2={'data':'2020-05-04',\n",
    "               'id_giorno':71,\n",
    "               'desc':'Fase2'}\n",
    "\n",
    "\n",
    "eventi=[scuole_chiuse,lockdown, fase_2]"
   ]
  },
  {
   "cell_type": "markdown",
   "metadata": {},
   "source": [
    "Calcolo le posizioni nella grid dei subplot dove mettere le figure delle varie regioni e parametri delle figure"
   ]
  },
  {
   "cell_type": "code",
   "execution_count": 4,
   "metadata": {},
   "outputs": [],
   "source": [
    "# per i subplot determina la griglia\n",
    "grid_shape=(7,3)\n",
    "grid_seq=get_subplot_cells_sequence(grid_shape)\n",
    "\n",
    "# dimensioni figure (figsize) per figure singole e figure composte (subplot)\n",
    "figsize_single=(9,6)\n",
    "figsize_multi=(16,16)\n"
   ]
  },
  {
   "cell_type": "markdown",
   "metadata": {},
   "source": [
    "## Grafici Nazionali"
   ]
  },
  {
   "cell_type": "code",
   "execution_count": 5,
   "metadata": {},
   "outputs": [],
   "source": [
    "indicatori_selected=['totale_casi',\n",
    "                     'nuovi_positivi',\n",
    "                     'guariti_giornalieri',\n",
    "                    'variazione_totale_positivi',\n",
    "                    'totale_positivi',\n",
    "                    'deceduti_giornalieri']"
   ]
  },
  {
   "cell_type": "code",
   "execution_count": 6,
   "metadata": {},
   "outputs": [],
   "source": [
    "for indicatore in indicatori_selected:\n",
    "    fig,ax=plt.subplots(1,figsize=figsize_single)\n",
    "    # stampo il plot smooth con intervallo di confidenza\n",
    "    confplot_ax(day_counter,\n",
    "                   trend[indicatore]['Italia'],\n",
    "                   window=(3,3),ax=ax,conf_fun='deviation', )\n",
    "    ax.set_title(indicatore+' - Odierno: %.1f'%trend[indicatore]['Italia'][-1])\n",
    "    ax.set_xlabel('Giorni dal %s al %s'%(giorni[0],giorni[-1]))\n",
    "    ax.set_ylabel(indicatore)\n",
    "    # stampo anche a punti il dato raw\n",
    "    ax.plot(day_counter,trend[indicatore]['Italia'],'b.')\n",
    "    ax.legend(['Trend','Low','Up','Raw'])\n",
    "    ax.grid()\n",
    "    ax.set_xticks(list(range(0,len(giorni),10)))\n",
    "    ax.set_xticklabels(giorni[list(range(0,len(giorni),10))],rotation=90)\n",
    "\n"
   ]
  },
  {
   "cell_type": "code",
   "execution_count": 7,
   "metadata": {},
   "outputs": [],
   "source": [
    "indicatori_selected=['totale_positivi',\n",
    "                     'deceduti_giornalieri',\n",
    "                     'terapia_intensiva']"
   ]
  },
  {
   "cell_type": "code",
   "execution_count": 8,
   "metadata": {},
   "outputs": [],
   "source": [
    "fig,ax=plt.subplots(1,3,figsize=(20,5))\n",
    "for i,indicatore in enumerate(indicatori_selected):  \n",
    "    ax[i].plot(day_counter,\n",
    "             trend[indicatore]['Italia'],label=indicatore)\n",
    "    ax[i].set_xticks(list(range(0,len(giorni),10)))\n",
    "    ax[i].set_xticklabels(giorni[list(range(0,len(giorni),10))],rotation=90)\n",
    "    ax[i].axvline(x=lockdown['id_giorno'],c='r', label='Lockdown',linewidth=4,ls='--')\n",
    "    ax[i].axvline(x=scuole_chiuse['id_giorno'],c='c', label='Scuole chiuse',linewidth=4,ls='--')\n",
    "    ax[i].axvline(x=fase_2['id_giorno'],c='g', label='Fase 2',linewidth=4,ls='--')\n",
    "    ax[i].grid()\n",
    "    ax[i].legend()"
   ]
  },
  {
   "cell_type": "markdown",
   "metadata": {},
   "source": [
    "### Grafici per regione"
   ]
  },
  {
   "cell_type": "code",
   "execution_count": 9,
   "metadata": {},
   "outputs": [],
   "source": [
    "indicatori_selected=['nuovi_positivi',\n",
    "                    'guariti_giornalieri',\n",
    "                    'totale_positivi']\n",
    "\n",
    "\n",
    "for indicatore in indicatori_selected:\n",
    "\n",
    "    fig,ax=plt.subplots(grid_shape[0],grid_shape[1],sharey=False,figsize=figsize_multi)\n",
    "    fig.suptitle(indicatore, y=1.02,fontsize=25)\n",
    "    fig.tight_layout(pad=2.0)\n",
    "\n",
    "    for i,regione in enumerate(regioni):\n",
    "        ax[grid_seq[i]].plot(day_counter,trend[indicatore][regione],\n",
    "                             'b-',linewidth=0.5,label='Reg')\n",
    "        ax[grid_seq[i]].plot(day_counter,moving_function_rev1(trend[indicatore][regione],np.mean,3,3),\n",
    "                             'b--',linewidth=2,label='Trend')\n",
    "        ax[grid_seq[i]].set_title(regione+' Odierno: %.1f'%trend[indicatore][regione][-1])\n",
    "        #ax[grid_seq[i]].legend()\n",
    "        ax[grid_seq[i]].grid()\n",
    "    fig.savefig('PIC_%s.JPG'%indicatore)"
   ]
  },
  {
   "cell_type": "markdown",
   "metadata": {},
   "source": [
    "## Deceduti nel tempo\n",
    "**Italia Giornalieri**"
   ]
  },
  {
   "cell_type": "code",
   "execution_count": 10,
   "metadata": {},
   "outputs": [],
   "source": [
    "fig,ax=plt.subplots(1,figsize=figsize_single)\n",
    "# stampo il plot smooth con intervallo di confidenza\n",
    "confplot_ax(day_counter,\n",
    "            trend['deceduti_giornalieri']['Italia'],\n",
    "            window=(3,3),\n",
    "            ax=ax,conf_fun='deviation', )\n",
    "ax.set_title('Deceduti giornalieri in Italia')\n",
    "ax.set_xlabel('Giorni dal %s al %s'%(giorni[0],giorni[-1]))\n",
    "ax.set_ylabel('Decessi')\n",
    "# stampo anche a punti il dato raw\n",
    "ax.plot(trend['deceduti_giornalieri']['Italia'],'b.')\n",
    "ax.legend(['Trend','Low','Up','Raw'])\n",
    "ax.set_xticks(list(range(0,len(giorni),10)))\n",
    "ax.set_xticklabels(giorni[list(range(0,len(giorni),10))],rotation=45)\n",
    "ax.grid()"
   ]
  },
  {
   "cell_type": "markdown",
   "metadata": {},
   "source": [
    "**Per regione giornalieri**"
   ]
  },
  {
   "cell_type": "code",
   "execution_count": 11,
   "metadata": {},
   "outputs": [],
   "source": [
    "fig,ax=plt.subplots(grid_shape[0],grid_shape[1],sharey=False,figsize=figsize_multi)\n",
    "fig.suptitle('deceduti_giornalieri', y=1.02,fontsize=25)\n",
    "fig.tight_layout(pad=2.0)\n",
    "\n",
    "for i,regione in enumerate(regioni):\n",
    "    ax[grid_seq[i]].plot(day_counter,trend['deceduti_giornalieri'][regione],'b-',label='Raw')\n",
    "    ax[grid_seq[i]].set_title(regione+' Odierno: %.1f'%trend['deceduti_giornalieri'][regione][-1])\n",
    "    # plotto anche media\n",
    "    ax[grid_seq[i]].plot(day_counter,\n",
    "                         moving_function_rev1(trend['deceduti_giornalieri'][regione],np.mean,3,3),\n",
    "                         'g--',\n",
    "                         label='Trend')\n",
    "    ax[grid_seq[i]].legend()"
   ]
  },
  {
   "cell_type": "markdown",
   "metadata": {},
   "source": [
    "### Indicatori per regione negli ultimi giorni\n",
    "\n",
    "Si specifica la lista degli indicatori e i giorni indietro cui guardare per la produzione di grafici a barre"
   ]
  },
  {
   "cell_type": "code",
   "execution_count": 12,
   "metadata": {},
   "outputs": [],
   "source": [
    "indicatori_selected=['nuovi_positivi','totale_positivi','deceduti_giornalieri']\n",
    "\n",
    "ultimi_giorni=14\n",
    "for indicatore in indicatori_selected:\n",
    "    # calcolo la media da mostrare\n",
    "    valori=[np.mean(trend[indicatore][r][-ultimi_giorni:])/popolazione[regione] for r in regioni]\n",
    "    plt.figure(figsize=(12,5))\n",
    "    plt.title('Indicatore [%s] su popolazione. Media ultimi %d giorni'%(indicatore,ultimi_giorni))\n",
    "    plt.bar(range(len(regioni)),valori)\n",
    "    plt.xticks(range(len(regioni)),regioni,rotation=90)\n",
    "    plt.grid()\n",
    "    plt.show()"
   ]
  },
  {
   "cell_type": "markdown",
   "metadata": {},
   "source": [
    "### Situazione regione singola"
   ]
  },
  {
   "cell_type": "code",
   "execution_count": 13,
   "metadata": {},
   "outputs": [],
   "source": [
    "# Selezione regione e indicatori da plottare\n",
    "\n",
    "regione='Toscana'\n",
    "\n",
    "indicatori_selected=['nuovi_positivi',\n",
    "                     'guariti_giornalieri',\n",
    "                     'deceduti_giornalieri',\n",
    "                     'totale_positivi','variazione_totale_positivi']\n",
    "\n",
    "num_indicatori=len(indicatori_selected)"
   ]
  },
  {
   "cell_type": "code",
   "execution_count": 14,
   "metadata": {},
   "outputs": [
    {
     "data": {
      "text/plain": [
       "array([   0,    2,    0,    0,    5,    3,    2,    0,    6,   19,   23,\n",
       "         18,   34,   53,   41,   54,   54,   38,  103,  159,  149,   78,\n",
       "        183,  267,  131,  291,  192,  239,  157,  218,  257,  197,  197,\n",
       "        341,  275,  264,  176,  206,  357,  120,  145,  131,  116,  126,\n",
       "        130,  146,  119,  170,  170,   95,   95,   65,  196,  -30, -113,\n",
       "         26,   72,   54, -455,    4,  -38,   13,  -77,  -86,  -87, -233,\n",
       "        -79, -211,   -8,  -37,  -49,  -89, -102, -372, -124, -144, -301,\n",
       "        -74, -232, -278, -175, -220, -225, -141, -229, -250, -206, -240,\n",
       "        -91,  -20,  -66,  -64, -114,  -62,  -80, -125,  -89,  -55,  -29,\n",
       "        -71,  -38,  -90,  -26,  -72,  -35,  -29,  -93,  -89,  -18,  -11,\n",
       "         -8,   -3,  -10,  -26,  -19,   -6,  -15,   -9,  -49,   -5,  -23,\n",
       "         -7,   -6,  -10,    4,    5,    4,    2,   -6,    1,   -1,    1,\n",
       "          6,    2,    7,    2,   -4,   -7,    0,    1,    4,  -24,    2,\n",
       "          2,    3,   -4,   11,   -1,    2,    6,   -4,    7,    8,   12,\n",
       "          8,    0,   17,    9,   -2,    5,    5,    1,    7,   10,   10,\n",
       "         10,   22,   53,    8,   17,   28,   27,   14,   29,   34,   20,\n",
       "         31,   28,   55,   77,   50,   52,   35,   24,  152,   82,   76,\n",
       "         72,   82,   71,    7,   55,   95,   86,   72,  105,   76,    9,\n",
       "         62,   73,   98,   90,   57,   41,   27,   61], dtype=int64)"
      ]
     },
     "execution_count": 14,
     "metadata": {},
     "output_type": "execute_result"
    }
   ],
   "source": [
    "trend['variazione_totale_positivi'][regione]"
   ]
  },
  {
   "cell_type": "code",
   "execution_count": 15,
   "metadata": {},
   "outputs": [],
   "source": [
    "grid_shape=auto_grid_shape(num_indicatori,cols=2)\n",
    "grid_seq=get_subplot_cells_sequence(grid_shape)\n",
    "\n",
    "fig,ax=plt.subplots(grid_shape[0],grid_shape[1],figsize=figsize_multi)\n",
    "fig.suptitle(regione, y=1.02,fontsize=25)\n",
    "fig.tight_layout(pad=2.0)\n",
    "\n",
    "\n",
    "for i,indicatore in enumerate(indicatori_selected):\n",
    "    ax[grid_seq[i]].plot(day_counter,trend[indicatore][regione],\n",
    "                         'b-',linewidth=0.5,label='Reg')\n",
    "    ax[grid_seq[i]].plot(day_counter,moving_function_rev1(trend[indicatore][regione],np.mean,3,3),\n",
    "                         'b--',linewidth=2,label='Trend')\n",
    "    ax[grid_seq[i]].set_title(indicatore+' - Odierno: %.1f'%trend[indicatore][regione][-1])\n",
    "    #ax[grid_seq[i]].legend()\n",
    "    ax[grid_seq[i]].grid()"
   ]
  },
  {
   "cell_type": "markdown",
   "metadata": {},
   "source": [
    "### Relazione fra deceduti e terapia intensiva"
   ]
  },
  {
   "cell_type": "code",
   "execution_count": 16,
   "metadata": {},
   "outputs": [],
   "source": [
    "from sklearn.linear_model import LinearRegression\n",
    "\n",
    "var_indip='terapia_intensiva'\n",
    "\n",
    "lr=LinearRegression()\n",
    "lr.fit(trend[var_indip]['Italia'].reshape(-1, 1),\n",
    "         trend['deceduti_giornalieri']['Italia'])\n",
    "\n",
    "newx=np.linspace(0,max(trend[var_indip]['Italia'])).reshape(-1,1)\n",
    "\n",
    "lry=lr.predict(newx)"
   ]
  },
  {
   "cell_type": "code",
   "execution_count": 17,
   "metadata": {},
   "outputs": [],
   "source": [
    "plt.figure(figsize=figsize_single)\n",
    "plt.plot(trend[var_indip]['Italia'],\n",
    "         trend['deceduti_giornalieri']['Italia'],\n",
    "        'bo',label='Data',)\n",
    "\n",
    "plt.plot(newx,\n",
    "         lry,\n",
    "        'g--',label='Fit',)\n",
    "\n",
    "plt.plot(trend[var_indip]['Italia'][-1],\n",
    "         trend['deceduti_giornalieri']['Italia'][-1],\n",
    "        'rd',label=giorni[-1],)\n",
    "\n",
    "\n",
    "plt.title('Deceduti vs %s'%var_indip)\n",
    "plt.xlabel(var_indip)\n",
    "plt.ylabel('Decessi')\n",
    "plt.legend()\n",
    "plt.grid()"
   ]
  },
  {
   "cell_type": "markdown",
   "metadata": {},
   "source": [
    "## Deceduti vs Guariti\n",
    "\n",
    "Trend della percentuale giornaliera di **deceduti** e **guariti** rispetto al numero di *attualmente* infetti (al giorno precedente)"
   ]
  },
  {
   "cell_type": "raw",
   "metadata": {},
   "source": [
    "pd.DataFrame(np.array([trend['perc_guariti_su_positivi']['Italia'],trend['perc_deceduti_su_positivi']['Italia']]).T,\n",
    "            index=giorni,columns=['% Guariti su pos','% Deceduti su pos'])"
   ]
  },
  {
   "cell_type": "code",
   "execution_count": 18,
   "metadata": {},
   "outputs": [],
   "source": [
    "fig,ax=plt.subplots(1,figsize=figsize_single)\n",
    "# stampo il plot smooth con intervallo di confidenza\n",
    "confplot_ax(day_counter,\n",
    "            trend['perc_guariti_su_positivi']['Italia'],\n",
    "            window=(10,10),\n",
    "            ax=ax,conf_fun='deviation',color='g')\n",
    "confplot_ax(day_counter,\n",
    "            trend['perc_deceduti_su_positivi']['Italia'],\n",
    "            window=(7,7),\n",
    "            ax=ax,conf_fun='deviation',color='r')\n",
    "\n",
    "ax.set_title('Percentuale guariti e deceduti rispetto a positivi')\n",
    "ax.set_xlabel('Giorni dal %s al %s'%(giorni[0],giorni[-1]))\n",
    "ax.set_ylabel('%')\n",
    "# stampo anche a punti il dato raw\n",
    "#ax.plot(trend['perc_guariti_su_positivi']['Italia'],'g.')\n",
    "#ax.plot(trend['perc_deceduti_su_positivi']['Italia'],'r.')\n",
    "ax.legend(['% Trend guariti su positivi','High','Low',\n",
    "           '% Trend deceduti su positivi','High','Low',\n",
    "           '% Raw guariti su positivi',\n",
    "           '% Raw deceduti su positivi'])\n",
    "ax.grid()"
   ]
  },
  {
   "cell_type": "code",
   "execution_count": 19,
   "metadata": {},
   "outputs": [
    {
     "name": "stderr",
     "output_type": "stream",
     "text": [
      "__main__:4: RuntimeWarning: invalid value encountered in true_divide\n"
     ]
    }
   ],
   "source": [
    "fig,ax=plt.subplots(1,figsize=figsize_single)\n",
    "# stampo il plot smooth con intervallo di confidenza\n",
    "confplot_ax(day_counter,\n",
    "            trend['perc_guariti_su_positivi']['Italia']/trend['perc_deceduti_su_positivi']['Italia'],\n",
    "            window=(3,3),\n",
    "            ax=ax,conf_fun='deviation')\n",
    "ax.set_title('Rapporto fra guariti e deceduti rispetto ai positivi giornalieri')\n",
    "ax.set_xlabel('Giorni dal %s al %s'%(giorni[0],giorni[-1]))\n",
    "# stampo anche a punti il dato raw\n",
    "#ax.plot(trend['perc_guariti_su_positivi']['Italia']/trend['perc_deceduti_su_positivi']['Italia'],'bx')\n",
    "#ax.legend(['Trend','Low','Up','Raw'])\n",
    "ax.grid()\n"
   ]
  },
  {
   "cell_type": "markdown",
   "metadata": {},
   "source": [
    "## Nuovi positivi *normalizzati*"
   ]
  },
  {
   "cell_type": "code",
   "execution_count": 20,
   "metadata": {},
   "outputs": [
    {
     "name": "stderr",
     "output_type": "stream",
     "text": [
      "C:\\Users\\klaat\\Anaconda3\\lib\\site-packages\\scipy\\signal\\_arraytools.py:45: FutureWarning: Using a non-tuple sequence for multidimensional indexing is deprecated; use `arr[tuple(seq)]` instead of `arr[seq]`. In the future this will be interpreted as an array index, `arr[np.array(seq)]`, which will result either in an error or a different result.\n",
      "  b = a[a_slice]\n"
     ]
    }
   ],
   "source": [
    "from scipy.signal import savgol_filter\n",
    "trend['perc_tamponi_positivi']['Italia'][0]=trend['perc_tamponi_positivi']['Italia'][1]\n",
    "\n",
    "np_it=trend['nuovi_positivi']['Italia']\n",
    "\n",
    "\n",
    "nwt=7\n",
    "nwp=3\n",
    "\n",
    "sm_np_it=moving_function_rev1(np_it,np.mean,nwt,nwt)\n",
    "\n",
    "#gol_np_it=savgol_filter(np_it,13,2)\n",
    "\n",
    "norm_np_it=0.01*np.multiply(moving_function_rev1(trend['tamponi_giornalieri']['Italia'],np.median,nwt,nwt),\n",
    "                     moving_function_rev1(trend['perc_tamponi_positivi']['Italia'],np.mean,nwp,nwp))\n",
    "\n",
    "norm_np_it=savgol_filter(norm_np_it,9,1)"
   ]
  },
  {
   "cell_type": "code",
   "execution_count": 21,
   "metadata": {},
   "outputs": [],
   "source": [
    "plt.figure(figsize=(18,10))\n",
    "plt.plot(np_it,'r.')\n",
    "plt.plot(sm_np_it,'g--')\n",
    "#plt.plot(gol_np_it,'g+-')\n",
    "plt.plot(norm_np_it,'b')\n",
    "\n",
    "plt.show()"
   ]
  },
  {
   "cell_type": "code",
   "execution_count": 22,
   "metadata": {},
   "outputs": [
    {
     "data": {
      "text/plain": [
       "array([ 2.16329379,  2.16329379,  8.09128631, 10.30078286,  6.46563434,\n",
       "        8.091706  , 22.95214923, 15.41929666, 18.55834329, 14.74503893,\n",
       "       30.45544554, 19.46459845, 21.86568473, 18.94603175, 46.20725122,\n",
       "       14.08795963, 18.6637618 , 20.61911799, 22.19221051, 29.93494265,\n",
       "       22.8240829 , 24.74929189, 32.96867695, 24.91708126, 30.8772337 ,\n",
       "       24.82890207, 24.89747874, 22.08101668, 28.06164303, 24.41849646,\n",
       "       18.95855318, 16.80458828, 18.04718495, 16.85333032, 21.29040157,\n",
       "       17.36036693, 13.68840555, 13.87897257, 11.72599161, 11.8730093 ,\n",
       "       12.85618729, 12.60624471, 11.88926696,  9.01432682,  7.42260062,\n",
       "        9.09090909,  7.38573698,  8.29196771,  8.75856164,  8.58730288,\n",
       "       11.09824863,  6.1008807 ,  6.20665913,  5.31618598,  5.65573107,\n",
       "        6.00891378,  5.43837235,  5.23539117,  5.34064436,  3.96951604,\n",
       "        4.83770237,  3.60469206,  4.65582178,  5.43386558,  3.65099874,\n",
       "        3.26820938,  2.73460325,  2.64796248,  3.42886017,  3.09113163,\n",
       "        3.2446653 ,  1.94524365,  2.24701617,  1.99121648,  2.08075265,\n",
       "        1.56568504,  1.55191764,  1.82621502,  2.09244362,  1.43288206,\n",
       "        1.38015471,  1.15729876,  1.2648347 ,  1.12310943,  1.23880679,\n",
       "        1.28724785,  0.98965697,  0.89565982,  0.86495092,  0.92390554,\n",
       "        0.95120378,  0.85128118,  0.68835177,  0.86744697,  0.78136324,\n",
       "        0.71532543,  0.59992501,  0.65597398,  0.56698732,  0.60967427,\n",
       "        0.86061289,  0.35433307,  0.79657993,  0.37249086,  0.39815676,\n",
       "        1.03275302,  0.51451739,  0.3221742 ,  0.60667179,  0.2308128 ,\n",
       "        0.69547739,  0.59794435,  1.07802327,  0.44793311,  0.42341797,\n",
       "        0.57261753,  0.4362107 ,  0.47878367,  0.55247256,  0.75245064,\n",
       "        0.30134618,  0.35670033,  0.52799629,  0.49082777,  0.28524392,\n",
       "        0.46591335,  0.46292894,  0.2941603 ,  0.33775241,  0.37751442,\n",
       "        0.44514532,  0.4518275 ,  0.51251935,  0.93837409,  0.31930401,\n",
       "        0.38261007,  0.43575887,  0.57556357,  0.40930962,  0.6116208 ,\n",
       "        0.70613797,  0.27229083,  0.33643625,  0.45605964,  0.45895956,\n",
       "        0.51590179,  0.61646728,  0.78340824,  0.29923452,  0.57179934,\n",
       "        0.50737013,  0.47249409,  0.53221343,  0.62922568,  0.66533599,\n",
       "        0.44010795,  0.5159056 ,  0.62400983,  0.62188238,  0.4885481 ,\n",
       "        0.5523585 ,  0.66150774,  0.43390883,  0.68023596,  0.68515331,\n",
       "        0.93249544,  0.65105632,  1.23017244,  0.97987288,  1.01372964,\n",
       "        0.91344145,  1.02172384,  1.228517  ,  1.18404458,  1.30138289,\n",
       "        1.04350095,  0.74662813,  0.90301709,  1.09113918,  1.31535085,\n",
       "        1.37883977,  1.796025  ,  2.07561964,  1.21369624,  1.46157876,\n",
       "        1.50068068,  1.50620718,  1.45699641,  1.77912751,  1.7020404 ,\n",
       "        1.20666255,  1.2878913 ,  1.50555017,  1.53247557,  1.57350127,\n",
       "        1.68757156,  2.10834776,  1.48263585,  1.49390562,  1.69558108,\n",
       "        1.63430421,  1.61909693,  2.0209861 ,  2.22472356,  1.52638573,\n",
       "        1.44323954])"
      ]
     },
     "execution_count": 22,
     "metadata": {},
     "output_type": "execute_result"
    }
   ],
   "source": [
    "trend['perc_tamponi_positivi']['Italia']"
   ]
  },
  {
   "cell_type": "code",
   "execution_count": null,
   "metadata": {},
   "outputs": [],
   "source": []
  }
 ],
 "metadata": {
  "kernelspec": {
   "display_name": "Python 3 (Spyder)",
   "language": "python3",
   "name": "python37164bitklaatvirtualenv68391259d5714fc793cf295373d8f8d2"
  },
  "language_info": {
   "codemirror_mode": {
    "name": "ipython",
    "version": 3
   },
   "file_extension": ".py",
   "mimetype": "text/x-python",
   "name": "python",
   "nbconvert_exporter": "python",
   "pygments_lexer": "ipython3",
   "version": "3.7.1"
  }
 },
 "nbformat": 4,
 "nbformat_minor": 4
}
