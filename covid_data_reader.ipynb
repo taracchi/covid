{
 "cells": [
  {
   "cell_type": "markdown",
   "metadata": {},
   "source": [
    "# COVID-19 data reader\n",
    "\n",
    "Questo notebook carica i dati regionali riguardanti la diffusione e la gestione del COVID-19 direttamente dal repository delle Protezione civile.\n",
    "\n",
    "I dati sono così organizzati:\n",
    "- per ciascuna feature si crea un dizionario i cui elementi sono le regioni, accessibili per nome (es. `trend[indicatore][regione]`)\n",
    "- ogni elemento contiene il valore misurato nei giorni di osservazione\n",
    "- le date sono nella lista di stringhe `giorni`\n",
    "- è stata creata una entry per ciascun dizionario dell'indicatore per l'*Italia*. Questo indicatore, per quanto riguarda gli indicatori di base originali, ne è la somma, sltrimenti è opportunamente calcolato.\n",
    "\n",
    "\n",
    "Fonte dati: *Presidenza del Consiglio dei Ministri - Dipartimento della Protezione Civile*\n",
    "\n",
    "https://github.com/pcm-dpc/COVID-19\n",
    "\n",
    "> **NOTA** Questo notebook nasce per condividere il proprio kernel con altri notebooks dove vengono effettuate e visualizzate le analisi vere e proprie."
   ]
  },
  {
   "cell_type": "markdown",
   "metadata": {},
   "source": [
    "## Lista indicatori raccolti nella struttura dati\n",
    "\n",
    "**Originali:**\n",
    "- ricoverati_con_sintomi\n",
    "- terapia_intensiva\n",
    "- totale_ospedalizzati\n",
    "- isolamento_domiciliare\n",
    "- totale_positivi\n",
    "- variazione_totale_positivi\n",
    "- nuovi_positivi\n",
    "- dimessi_guariti\n",
    "- deceduti\n",
    "- totale_casi\n",
    "- tamponi\n",
    "- casi_da_sospetto_diagnostico\n",
    "- casi_da_screening\n",
    "\n",
    "**Derivati:**\n",
    "- tamponi_giornalieri\n",
    "- guariti_giornalieri\n",
    "- casi_da_sospetto_diagnostico_giornalieri\n",
    "- casi_da_screening_giornalieri\n",
    "- deceduti_giornalieri\n",
    "- perc_tamponi_positivi\n",
    "- perc_guariti_su_positivi\n",
    "- perc_deceduti_su_positivi\n",
    "\n",
    "**Altre variabili:**\n",
    "- giorni\n",
    "- day_counter\n",
    "- regioni\n",
    "- eventi (dizionario di eventi notevoli con data)\n",
    "    - data (str)\n",
    "    - id_giorno (indice del giorno dell'evento)\n",
    "    - desc (str)\n",
    "- posti in TI per regione"
   ]
  },
  {
   "cell_type": "code",
   "execution_count": 1,
   "metadata": {},
   "outputs": [],
   "source": [
    "import pandas as pd\n",
    "import numpy as np\n",
    "import datetime\n",
    "\n",
    "\n",
    "\n",
    "import warnings\n",
    "warnings.filterwarnings('ignore')"
   ]
  },
  {
   "cell_type": "markdown",
   "metadata": {},
   "source": [
    "## Parametri"
   ]
  },
  {
   "cell_type": "code",
   "execution_count": 2,
   "metadata": {},
   "outputs": [],
   "source": [
    "#data_file='dpc-covid19-ita-regioni.csv' # locale non aggiornato\n",
    "data_file='https://raw.githubusercontent.com/pcm-dpc/COVID-19/master/dati-regioni/dpc-covid19-ita-regioni.csv'"
   ]
  },
  {
   "cell_type": "markdown",
   "metadata": {},
   "source": [
    "## Lettura dati e preprocessing"
   ]
  },
  {
   "cell_type": "code",
   "execution_count": 3,
   "metadata": {
    "tags": []
   },
   "outputs": [
    {
     "name": "stdout",
     "output_type": "stream",
     "text": [
      "Index(['data', 'stato', 'codice_regione', 'denominazione_regione', 'lat',\n",
      "       'long', 'ricoverati_con_sintomi', 'terapia_intensiva',\n",
      "       'totale_ospedalizzati', 'isolamento_domiciliare', 'totale_positivi',\n",
      "       'variazione_totale_positivi', 'nuovi_positivi', 'dimessi_guariti',\n",
      "       'deceduti', 'casi_da_sospetto_diagnostico', 'casi_da_screening',\n",
      "       'totale_casi', 'tamponi', 'casi_testati', 'note',\n",
      "       'ingressi_terapia_intensiva', 'note_test', 'note_casi'],\n",
      "      dtype='object')\n",
      "Giorni osservati: 325\n",
      "Da: 2020-02-24\n",
      " A: 2021-01-13\n"
     ]
    },
    {
     "data": {
      "text/html": [
       "<div>\n",
       "<style scoped>\n",
       "    .dataframe tbody tr th:only-of-type {\n",
       "        vertical-align: middle;\n",
       "    }\n",
       "\n",
       "    .dataframe tbody tr th {\n",
       "        vertical-align: top;\n",
       "    }\n",
       "\n",
       "    .dataframe thead th {\n",
       "        text-align: right;\n",
       "    }\n",
       "</style>\n",
       "<table border=\"1\" class=\"dataframe\">\n",
       "  <thead>\n",
       "    <tr style=\"text-align: right;\">\n",
       "      <th></th>\n",
       "      <th>data</th>\n",
       "      <th>stato</th>\n",
       "      <th>codice_regione</th>\n",
       "      <th>denominazione_regione</th>\n",
       "      <th>lat</th>\n",
       "      <th>long</th>\n",
       "      <th>ricoverati_con_sintomi</th>\n",
       "      <th>terapia_intensiva</th>\n",
       "      <th>totale_ospedalizzati</th>\n",
       "      <th>isolamento_domiciliare</th>\n",
       "      <th>...</th>\n",
       "      <th>deceduti</th>\n",
       "      <th>casi_da_sospetto_diagnostico</th>\n",
       "      <th>casi_da_screening</th>\n",
       "      <th>totale_casi</th>\n",
       "      <th>tamponi</th>\n",
       "      <th>casi_testati</th>\n",
       "      <th>note</th>\n",
       "      <th>ingressi_terapia_intensiva</th>\n",
       "      <th>note_test</th>\n",
       "      <th>note_casi</th>\n",
       "    </tr>\n",
       "  </thead>\n",
       "  <tbody>\n",
       "    <tr>\n",
       "      <th>6737</th>\n",
       "      <td>2021-01-09T17:00:00</td>\n",
       "      <td>ITA</td>\n",
       "      <td>9</td>\n",
       "      <td>Toscana</td>\n",
       "      <td>43.769231</td>\n",
       "      <td>11.255889</td>\n",
       "      <td>792</td>\n",
       "      <td>139</td>\n",
       "      <td>931</td>\n",
       "      <td>8174</td>\n",
       "      <td>...</td>\n",
       "      <td>3840</td>\n",
       "      <td>NaN</td>\n",
       "      <td>NaN</td>\n",
       "      <td>124479</td>\n",
       "      <td>1956024</td>\n",
       "      <td>1087156.0</td>\n",
       "      <td>NaN</td>\n",
       "      <td>6.0</td>\n",
       "      <td>Positivi diagnosticati solo con test antigenic...</td>\n",
       "      <td>NaN</td>\n",
       "    </tr>\n",
       "    <tr>\n",
       "      <th>6758</th>\n",
       "      <td>2021-01-10T17:00:00</td>\n",
       "      <td>ITA</td>\n",
       "      <td>9</td>\n",
       "      <td>Toscana</td>\n",
       "      <td>43.769231</td>\n",
       "      <td>11.255889</td>\n",
       "      <td>769</td>\n",
       "      <td>140</td>\n",
       "      <td>909</td>\n",
       "      <td>8192</td>\n",
       "      <td>...</td>\n",
       "      <td>3855</td>\n",
       "      <td>NaN</td>\n",
       "      <td>NaN</td>\n",
       "      <td>124951</td>\n",
       "      <td>1965493</td>\n",
       "      <td>1091275.0</td>\n",
       "      <td>NaN</td>\n",
       "      <td>12.0</td>\n",
       "      <td>Positivi diagnosticati solo con test antigenic...</td>\n",
       "      <td>NaN</td>\n",
       "    </tr>\n",
       "    <tr>\n",
       "      <th>6779</th>\n",
       "      <td>2021-01-11T17:00:00</td>\n",
       "      <td>ITA</td>\n",
       "      <td>9</td>\n",
       "      <td>Toscana</td>\n",
       "      <td>43.769231</td>\n",
       "      <td>11.255889</td>\n",
       "      <td>789</td>\n",
       "      <td>144</td>\n",
       "      <td>933</td>\n",
       "      <td>8087</td>\n",
       "      <td>...</td>\n",
       "      <td>3884</td>\n",
       "      <td>NaN</td>\n",
       "      <td>NaN</td>\n",
       "      <td>125330</td>\n",
       "      <td>1971143</td>\n",
       "      <td>1093335.0</td>\n",
       "      <td>NaN</td>\n",
       "      <td>10.0</td>\n",
       "      <td>Positivi diagnosticati solo con test antigenic...</td>\n",
       "      <td>NaN</td>\n",
       "    </tr>\n",
       "    <tr>\n",
       "      <th>6800</th>\n",
       "      <td>2021-01-12T17:00:00</td>\n",
       "      <td>ITA</td>\n",
       "      <td>9</td>\n",
       "      <td>Toscana</td>\n",
       "      <td>43.769231</td>\n",
       "      <td>11.255889</td>\n",
       "      <td>773</td>\n",
       "      <td>137</td>\n",
       "      <td>910</td>\n",
       "      <td>7813</td>\n",
       "      <td>...</td>\n",
       "      <td>3905</td>\n",
       "      <td>NaN</td>\n",
       "      <td>NaN</td>\n",
       "      <td>125633</td>\n",
       "      <td>1978712</td>\n",
       "      <td>1095969.0</td>\n",
       "      <td>NaN</td>\n",
       "      <td>4.0</td>\n",
       "      <td>Positivi diagnosticati solo con test antigenic...</td>\n",
       "      <td>NaN</td>\n",
       "    </tr>\n",
       "    <tr>\n",
       "      <th>6821</th>\n",
       "      <td>2021-01-13T17:00:00</td>\n",
       "      <td>ITA</td>\n",
       "      <td>9</td>\n",
       "      <td>Toscana</td>\n",
       "      <td>43.769231</td>\n",
       "      <td>11.255889</td>\n",
       "      <td>738</td>\n",
       "      <td>140</td>\n",
       "      <td>878</td>\n",
       "      <td>7948</td>\n",
       "      <td>...</td>\n",
       "      <td>3916</td>\n",
       "      <td>NaN</td>\n",
       "      <td>NaN</td>\n",
       "      <td>126140</td>\n",
       "      <td>1988970</td>\n",
       "      <td>1099685.0</td>\n",
       "      <td>NaN</td>\n",
       "      <td>6.0</td>\n",
       "      <td>Positivi diagnosticati solo con test antigenic...</td>\n",
       "      <td>NaN</td>\n",
       "    </tr>\n",
       "  </tbody>\n",
       "</table>\n",
       "<p>5 rows × 24 columns</p>\n",
       "</div>"
      ],
      "text/plain": [
       "                     data stato  codice_regione denominazione_regione  \\\n",
       "6737  2021-01-09T17:00:00   ITA               9               Toscana   \n",
       "6758  2021-01-10T17:00:00   ITA               9               Toscana   \n",
       "6779  2021-01-11T17:00:00   ITA               9               Toscana   \n",
       "6800  2021-01-12T17:00:00   ITA               9               Toscana   \n",
       "6821  2021-01-13T17:00:00   ITA               9               Toscana   \n",
       "\n",
       "            lat       long  ricoverati_con_sintomi  terapia_intensiva  \\\n",
       "6737  43.769231  11.255889                     792                139   \n",
       "6758  43.769231  11.255889                     769                140   \n",
       "6779  43.769231  11.255889                     789                144   \n",
       "6800  43.769231  11.255889                     773                137   \n",
       "6821  43.769231  11.255889                     738                140   \n",
       "\n",
       "      totale_ospedalizzati  isolamento_domiciliare    ...      deceduti  \\\n",
       "6737                   931                    8174    ...          3840   \n",
       "6758                   909                    8192    ...          3855   \n",
       "6779                   933                    8087    ...          3884   \n",
       "6800                   910                    7813    ...          3905   \n",
       "6821                   878                    7948    ...          3916   \n",
       "\n",
       "      casi_da_sospetto_diagnostico  casi_da_screening  totale_casi  tamponi  \\\n",
       "6737                           NaN                NaN       124479  1956024   \n",
       "6758                           NaN                NaN       124951  1965493   \n",
       "6779                           NaN                NaN       125330  1971143   \n",
       "6800                           NaN                NaN       125633  1978712   \n",
       "6821                           NaN                NaN       126140  1988970   \n",
       "\n",
       "      casi_testati  note  ingressi_terapia_intensiva  \\\n",
       "6737     1087156.0   NaN                         6.0   \n",
       "6758     1091275.0   NaN                        12.0   \n",
       "6779     1093335.0   NaN                        10.0   \n",
       "6800     1095969.0   NaN                         4.0   \n",
       "6821     1099685.0   NaN                         6.0   \n",
       "\n",
       "                                              note_test  note_casi  \n",
       "6737  Positivi diagnosticati solo con test antigenic...        NaN  \n",
       "6758  Positivi diagnosticati solo con test antigenic...        NaN  \n",
       "6779  Positivi diagnosticati solo con test antigenic...        NaN  \n",
       "6800  Positivi diagnosticati solo con test antigenic...        NaN  \n",
       "6821  Positivi diagnosticati solo con test antigenic...        NaN  \n",
       "\n",
       "[5 rows x 24 columns]"
      ]
     },
     "execution_count": 3,
     "metadata": {},
     "output_type": "execute_result"
    }
   ],
   "source": [
    "data=pd.read_csv(data_file)\n",
    "print(data.columns)\n",
    "\n",
    "giorni=pd.unique(data['data'])\n",
    "day_counter=list(range(len(giorni)))\n",
    "print('Giorni osservati: %d'%len(giorni))\n",
    "print('Da: %s'%giorni[0][0:10])\n",
    "print(' A: %s'%giorni[-1][0:10])\n",
    "regioni=pd.unique(data['denominazione_regione'])\n",
    "\n",
    "#data[data['denominazione_regione']=='Lombardia'].head(5)\n",
    "data[data['denominazione_regione']=='Toscana'].tail(5)\n"
   ]
  },
  {
   "cell_type": "markdown",
   "metadata": {},
   "source": [
    "### Lettura dati popolazione"
   ]
  },
  {
   "cell_type": "code",
   "execution_count": 4,
   "metadata": {},
   "outputs": [
    {
     "data": {
      "text/plain": [
       "{'Lombardia': 10060574,\n",
       " 'Lazio': 5879082,\n",
       " 'Campania': 5801692,\n",
       " 'Sicilia': 4999891,\n",
       " 'Veneto': 4905854,\n",
       " 'Emilia-Romagna': 4459477,\n",
       " 'Piemonte': 4356406,\n",
       " 'Puglia': 4029053,\n",
       " 'Toscana': 3729641,\n",
       " 'Calabria': 1947131,\n",
       " 'Sardegna': 1639591,\n",
       " 'Liguria': 1550640,\n",
       " 'Marche': 1525271,\n",
       " 'Abruzzo': 1311580,\n",
       " 'Friuli Venezia Giulia': 1215220,\n",
       " 'P.A. Trento': 1072276,\n",
       " 'Umbria': 882015,\n",
       " 'Basilicata': 562869,\n",
       " 'Molise': 305617,\n",
       " \"Valle d'Aosta\": 125666,\n",
       " 'P.A. Bolzano': 502891}"
      ]
     },
     "execution_count": 4,
     "metadata": {},
     "output_type": "execute_result"
    }
   ],
   "source": [
    "dati_pop=pd.read_excel('popolazione_regioni.xlsx')\n",
    "#dati_pop\n",
    "pop_keys=list(dati_pop['Regione'])\n",
    "\n",
    "\n",
    "popolazione = {pop_keys[i]: dati_pop.iloc[i]['Popolazione'] for i in range(len(pop_keys))} \n",
    "\n",
    "popolazione"
   ]
  },
  {
   "cell_type": "markdown",
   "metadata": {},
   "source": [
    "### Inserimento dati capacità TI"
   ]
  },
  {
   "cell_type": "code",
   "execution_count": 5,
   "metadata": {},
   "outputs": [],
   "source": [
    "posti_ti_covid={'Lombardia': 1446,\n",
    " 'Lazio': 845,\n",
    " 'Campania': 834,\n",
    " 'Sicilia': 719,\n",
    " 'Veneto': 705,\n",
    " 'Emilia-Romagna': 646,\n",
    " 'Piemonte': 626,\n",
    " 'Puglia': 580,\n",
    " 'Toscana': 567,\n",
    " 'Calabria': 280,\n",
    " 'Sardegna': 235,\n",
    " 'Liguria': 237,\n",
    " 'Marche': 220,\n",
    " 'Abruzzo': 189,\n",
    " 'Friuli Venezia Giulia': 175,\n",
    " 'P.A. Trento': 78,\n",
    " 'Umbria': 128,\n",
    " 'Basilicata': 81,\n",
    " 'Molise': 44,\n",
    " \"Valle d'Aosta\": 20,\n",
    " 'P.A. Bolzano': 77,\n",
    " 'Italia':8732}\n",
    "\n",
    "posti_ti_antecovid={'Lombardia': 861,\n",
    " 'Lazio': 571,\n",
    " 'Campania': 335,\n",
    " 'Sicilia': 418,\n",
    " 'Veneto': 494,\n",
    " 'Emilia-Romagna': 449,\n",
    " 'Piemonte': 327,\n",
    " 'Puglia': 304,\n",
    " 'Toscana': 374,\n",
    " 'Calabria': 146,\n",
    " 'Sardegna': 134,\n",
    " 'Liguria': 180,\n",
    " 'Marche': 115,\n",
    " 'Abruzzo': 123,\n",
    " 'Friuli Venezia Giulia': 120,\n",
    " 'P.A. Trento': 32,\n",
    " 'Umbria': 70,\n",
    " 'Basilicata': 49,\n",
    " 'Molise': 30,\n",
    " \"Valle d'Aosta\": 10,\n",
    " 'P.A. Bolzano': 37,\n",
    " 'Italia':5179}\n",
    "\n",
    "\n",
    "\n",
    "# si stima che GLOBALMENTE siano stati approntati il 38% dei nuovi posti TI\n",
    "posti_ti_stimati={}\n",
    "for r in regioni:\n",
    "    posti_ti_stimati[r]=np.round(posti_ti_antecovid[r]+(posti_ti_covid[r]-posti_ti_antecovid[r])*.38)\n",
    "    \n",
    "posti_ti_stimati['Italia']=np.round(posti_ti_antecovid['Italia']+(posti_ti_covid['Italia']-posti_ti_antecovid['Italia'])*.38)"
   ]
  },
  {
   "cell_type": "markdown",
   "metadata": {},
   "source": [
    "### Inserimento di eventi notevoli riferiti a date"
   ]
  },
  {
   "cell_type": "code",
   "execution_count": 6,
   "metadata": {},
   "outputs": [],
   "source": [
    "lockdown={'data':'2020-03-10',\n",
    "          'id_giorno':15,\n",
    "          'desc':'Lockdown'}\n",
    "\n",
    "scuole_chiuse={'data':'2020-03-04',\n",
    "               'id_giorno':9,\n",
    "               'desc':'Scuole chiuse'}\n",
    "\n",
    "fase_2={'data':'2020-05-04',\n",
    "               'id_giorno':71,\n",
    "               'desc':'Fase2'}\n",
    "\n",
    "\n",
    "eventi=[scuole_chiuse,lockdown, fase_2]"
   ]
  },
  {
   "cell_type": "markdown",
   "metadata": {},
   "source": [
    "## Analisi"
   ]
  },
  {
   "cell_type": "markdown",
   "metadata": {},
   "source": [
    "### Creazione della struttura dati\n",
    "\n",
    "- Si crea un dizionario per ciascuno degli indicatori selezionati\n",
    "- a sua volta ciascun elemento del primo dizionario è un dizionario con le regioni come chiave\n",
    "    - ogni elemento indicatore contiene i valori dell'indicatore per la regione\n",
    "\n",
    "**Esempio:**\n",
    "```    \n",
    "trend[indicatore][regione]\n",
    "```"
   ]
  },
  {
   "cell_type": "code",
   "execution_count": 7,
   "metadata": {},
   "outputs": [],
   "source": [
    "# indicatori osservati\n",
    "indicatori=['ricoverati_con_sintomi', 'terapia_intensiva',\n",
    "       'totale_ospedalizzati', 'isolamento_domiciliare', 'totale_positivi',\n",
    "       'variazione_totale_positivi', 'nuovi_positivi', 'dimessi_guariti',\n",
    "       'deceduti', 'totale_casi', 'tamponi','casi_da_sospetto_diagnostico', 'casi_da_screening']\n",
    "\n",
    "# qui immetto tutti i trend per ciascuna regione\n",
    "trend={}\n",
    "for ind in indicatori:\n",
    "    trend[ind]={}\n",
    "    for regione in regioni:\n",
    "        trend[ind][regione]=np.array(data[data['denominazione_regione']==regione][ind])\n",
    "\n",
    "# calcolo gli indicatori nazionali come somma delle regioni\n",
    "for ind in indicatori:\n",
    "    trend[ind]['Italia']=np.zeros(len(giorni))\n",
    "    for regione in regioni:\n",
    "        trend[ind]['Italia']+=trend[ind][regione]"
   ]
  },
  {
   "cell_type": "markdown",
   "metadata": {},
   "source": [
    "### Indicatori derivati"
   ]
  },
  {
   "cell_type": "markdown",
   "metadata": {},
   "source": [
    "#### Giorno della settimana associato ai giorni"
   ]
  },
  {
   "cell_type": "code",
   "execution_count": 8,
   "metadata": {},
   "outputs": [],
   "source": [
    "def which_weekday(datestring):\n",
    "    # datestring is in this format '2020-02-24T18:00:00'\n",
    "    return datetime.date(int(datestring[0:4]),int(datestring[5:7]),int(datestring[8:10])).weekday()\n",
    "\n",
    "giorno_settimana=[which_weekday(d) for d in giorni]"
   ]
  },
  {
   "cell_type": "markdown",
   "metadata": {},
   "source": [
    "#### Tamponi giornalieri"
   ]
  },
  {
   "cell_type": "code",
   "execution_count": 9,
   "metadata": {},
   "outputs": [],
   "source": [
    "# tamponi giornalieri\n",
    "trend['tamponi_giornalieri']={}\n",
    "for regione in regioni:\n",
    "    trend['tamponi_giornalieri'][regione]=np.insert(np.diff(trend['tamponi'][regione]),0,0)\n",
    "\n",
    "trend['tamponi_giornalieri']['Italia']=np.insert(np.diff(trend['tamponi']['Italia']),0,0)\n"
   ]
  },
  {
   "cell_type": "markdown",
   "metadata": {},
   "source": [
    "#### Provenienza infetti giornaliera\n",
    "> screening o sintomi"
   ]
  },
  {
   "cell_type": "code",
   "execution_count": 10,
   "metadata": {},
   "outputs": [],
   "source": [
    "trend['casi_da_sospetto_diagnostico_giornalieri']={}\n",
    "trend['casi_da_screening_giornalieri']={}\n",
    "\n",
    "for regione in regioni:\n",
    "    trend['casi_da_sospetto_diagnostico_giornalieri'][regione]=np.insert(np.diff(trend['casi_da_sospetto_diagnostico'][regione]),0,0)\n",
    "    trend['casi_da_screening_giornalieri'][regione]=np.insert(np.diff(trend['casi_da_screening'][regione]),0,0)\n",
    "\n",
    "trend['casi_da_sospetto_diagnostico_giornalieri']['Italia']=np.insert(np.diff(trend['casi_da_sospetto_diagnostico']['Italia']),0,0)\n",
    "trend['casi_da_screening_giornalieri']['Italia']=np.insert(np.diff(trend['casi_da_screening']['Italia']),0,0)\n"
   ]
  },
  {
   "cell_type": "markdown",
   "metadata": {},
   "source": [
    "#### Deceduti giornalieri"
   ]
  },
  {
   "cell_type": "code",
   "execution_count": 11,
   "metadata": {},
   "outputs": [],
   "source": [
    "# deceduti giornalieri\n",
    "trend['deceduti_giornalieri']={}\n",
    "for regione in regioni:\n",
    "    trend['deceduti_giornalieri'][regione]=np.insert(np.diff(trend['deceduti'][regione]),0,0)\n",
    "\n",
    "trend['deceduti_giornalieri']['Italia']=np.insert(np.diff(trend['deceduti']['Italia']),0,0)\n"
   ]
  },
  {
   "cell_type": "markdown",
   "metadata": {},
   "source": [
    "#### Guariti giornalieri"
   ]
  },
  {
   "cell_type": "code",
   "execution_count": 12,
   "metadata": {},
   "outputs": [],
   "source": [
    "trend['guariti_giornalieri']={}\n",
    "for regione in regioni:\n",
    "    trend['guariti_giornalieri'][regione]=np.insert(np.diff(trend['dimessi_guariti'][regione]),0,0)\n",
    "\n",
    "trend['guariti_giornalieri']['Italia']=np.insert(np.diff(trend['dimessi_guariti']['Italia']),0,0)\n"
   ]
  },
  {
   "cell_type": "markdown",
   "metadata": {},
   "source": [
    "#### Percentuale tamponi positivi"
   ]
  },
  {
   "cell_type": "code",
   "execution_count": 13,
   "metadata": {},
   "outputs": [],
   "source": [
    "# percentuale tamponi positivi su quelli effettuati\n",
    "trend['perc_tamponi_positivi']={}\n",
    "for regione in regioni:\n",
    "    trend['perc_tamponi_positivi'][regione]=100*trend['nuovi_positivi'][regione]/trend['tamponi_giornalieri'][regione]\n",
    "\n",
    "trend['perc_tamponi_positivi']['Italia']=100*trend['nuovi_positivi']['Italia']/trend['tamponi_giornalieri']['Italia']"
   ]
  },
  {
   "cell_type": "markdown",
   "metadata": {},
   "source": [
    "#### Rate deceduti e rate guariti su attualmente positivi (il giorno precedente)"
   ]
  },
  {
   "cell_type": "code",
   "execution_count": 14,
   "metadata": {},
   "outputs": [],
   "source": [
    "trend['perc_guariti_su_positivi']={}\n",
    "trend['perc_deceduti_su_positivi']={}\n",
    "\n",
    "np.hstack((regioni,'Italia'))\n",
    "\n",
    "for regione in np.hstack((regioni,'Italia')):\n",
    "    # percentuale di GUARITI su POSITIVI\n",
    "    trend['perc_guariti_su_positivi'][regione]=np.zeros_like(trend['totale_positivi'][regione],dtype=float)\n",
    "    for d in range(1,len(giorni)):\n",
    "        try:\n",
    "            trend['perc_guariti_su_positivi'][regione][d]=100*float(trend['guariti_giornalieri'][regione][d]/trend['totale_positivi'][regione][d-1])\n",
    "            #print('%d   %4.2f  %4.2f'%(d,trend['guariti_giornalieri'][regione][d],trend['totale_positivi'][regione][d-1]))\n",
    "        except ValueError:\n",
    "            trend['perc_guariti_su_positivi'][regione][d]=np.NaN\n",
    "            \n",
    "    # percentuale di DECEDUTI su POSITIVI\n",
    "    trend['perc_deceduti_su_positivi'][regione]=np.zeros_like(trend['totale_positivi'][regione],dtype=float)\n",
    "    for d in range(1,len(giorni)):\n",
    "        try:\n",
    "            trend['perc_deceduti_su_positivi'][regione][d]=100*float(trend['deceduti_giornalieri'][regione][d]/trend['totale_positivi'][regione][d-1])\n",
    "            #print('%d   %4.2f  %4.2f'%(d,trend['deceduti_giornalieri'][regione][d],trend['totale_positivi'][regione][d-1]))\n",
    "        except ValueError:\n",
    "            trend['perc_deceduti_su_positivi'][regione][d]=np.NaN\n",
    "                "
   ]
  },
  {
   "cell_type": "markdown",
   "metadata": {},
   "source": [
    "## Salvataggio dati su file PICKLE\n",
    "\n",
    "Vengono salvati su file **pickle** nell' ordine:\n",
    "- trend\n",
    "- regioni\n",
    "- giorni\n"
   ]
  },
  {
   "cell_type": "code",
   "execution_count": 15,
   "metadata": {},
   "outputs": [],
   "source": [
    "import pickle\n",
    "\n",
    "output_data_file='stored_data.pkl'\n",
    "\n",
    "outfile = open(output_data_file,'wb')\n",
    "pickle.dump(trend,outfile)\n",
    "pickle.dump(regioni,outfile)\n",
    "pickle.dump(giorni,outfile)\n",
    "pickle.dump(giorno_settimana,outfile)\n",
    "pickle.dump(popolazione,outfile)\n",
    "pickle.dump(posti_ti_covid,outfile)\n",
    "pickle.dump(posti_ti_antecovid,outfile)\n",
    "pickle.dump(posti_ti_stimati,outfile)\n",
    "outfile.close()"
   ]
  }
 ],
 "metadata": {
  "kernelspec": {
   "display_name": "Python 3",
   "language": "python",
   "name": "python3"
  },
  "language_info": {
   "codemirror_mode": {
    "name": "ipython",
    "version": 3
   },
   "file_extension": ".py",
   "mimetype": "text/x-python",
   "name": "python",
   "nbconvert_exporter": "python",
   "pygments_lexer": "ipython3",
   "version": "3.7.1"
  }
 },
 "nbformat": 4,
 "nbformat_minor": 4
}
