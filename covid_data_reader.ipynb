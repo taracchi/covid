{
 "cells": [
  {
   "cell_type": "markdown",
   "metadata": {},
   "source": [
    "# COVID-19 data reader\n",
    "\n",
    "Questo notebook carica i dati regionali riguardanti la diffusione e la gestione del COVID-19 direttamente dal repository delle Protezione civile.\n",
    "\n",
    "I dati sono così organizzati:\n",
    "- per ciascuna feature si crea un dizionario i cui elementi sono le regioni, accessibili per nome (es. `trend[indicatore][regione]`)\n",
    "- ogni elemento contiene il valore misurato nei giorni di osservazione\n",
    "- le date sono nella lista di stringhe `giorni`\n",
    "- è stata creata una entry per ciascun dizionario dell'indicatore per l'*Italia*. Questo indicatore, per quanto riguarda gli indicatori di base originali, ne è la somma, sltrimenti è opportunamente calcolato.\n",
    "\n",
    "\n",
    "Fonte dati: *Presidenza del Consiglio dei Ministri - Dipartimento della Protezione Civile*\n",
    "\n",
    "https://github.com/pcm-dpc/COVID-19\n",
    "\n",
    "> **NOTA** Questo notebook nasce per condividere il proprio kernel con altri notebooks dove vengono effettuate e visualizzate le analisi vere e proprie."
   ]
  },
  {
   "cell_type": "markdown",
   "metadata": {},
   "source": [
    "## Lista indicatori raccolti nella struttura dati\n",
    "\n",
    "**Originali:**\n",
    "- ricoverati_con_sintomi\n",
    "- terapia_intensiva\n",
    "- totale_ospedalizzati\n",
    "- isolamento_domiciliare\n",
    "- totale_positivi\n",
    "- variazione_totale_positivi\n",
    "- nuovi_positivi\n",
    "- dimessi_guariti\n",
    "- deceduti\n",
    "- totale_casi\n",
    "- tamponi\n",
    "\n",
    "**Derivati:**\n",
    "- tamponi_giornalieri\n",
    "- deceduti_giornalieri\n",
    "- perc_tamponi_positivi\n",
    "- perc_guariti_su_positivi\n",
    "- perc_deceduti_su_positivi\n",
    "\n",
    "**Altre variabili:**\n",
    "- giorni\n",
    "- day_counter\n",
    "- regioni\n",
    "- eventi (dizionario di eventi notevoli con data)\n",
    "    - data (str)\n",
    "    - id_giorno (indice del giorno dell'evento)\n",
    "    - desc (str)"
   ]
  },
  {
   "cell_type": "code",
   "execution_count": 1,
   "metadata": {},
   "outputs": [],
   "source": [
    "import pandas as pd\n",
    "import numpy as np\n",
    "import datetime\n",
    "\n",
    "\n",
    "\n",
    "import warnings\n",
    "warnings.filterwarnings('ignore')"
   ]
  },
  {
   "cell_type": "markdown",
   "metadata": {},
   "source": [
    "## Parametri"
   ]
  },
  {
   "cell_type": "code",
   "execution_count": 2,
   "metadata": {},
   "outputs": [],
   "source": [
    "#data_file='dpc-covid19-ita-regioni.csv' # locale non aggiornato\n",
    "data_file='https://raw.githubusercontent.com/pcm-dpc/COVID-19/master/dati-regioni/dpc-covid19-ita-regioni.csv'"
   ]
  },
  {
   "cell_type": "markdown",
   "metadata": {},
   "source": [
    "## Lettura dati e preprocessing"
   ]
  },
  {
   "cell_type": "code",
   "execution_count": 3,
   "metadata": {
    "scrolled": false
   },
   "outputs": [
    {
     "name": "stdout",
     "output_type": "stream",
     "text": [
      "Index(['data', 'stato', 'codice_regione', 'denominazione_regione', 'lat',\n",
      "       'long', 'ricoverati_con_sintomi', 'terapia_intensiva',\n",
      "       'totale_ospedalizzati', 'isolamento_domiciliare', 'totale_positivi',\n",
      "       'variazione_totale_positivi', 'nuovi_positivi', 'dimessi_guariti',\n",
      "       'deceduti', 'totale_casi', 'tamponi', 'casi_testati', 'note_it',\n",
      "       'note_en'],\n",
      "      dtype='object')\n",
      "Giorni osservati: 85\n",
      "Da: 2020-02-24\n",
      " A: 2020-05-18\n"
     ]
    },
    {
     "data": {
      "text/html": [
       "<div>\n",
       "<style scoped>\n",
       "    .dataframe tbody tr th:only-of-type {\n",
       "        vertical-align: middle;\n",
       "    }\n",
       "\n",
       "    .dataframe tbody tr th {\n",
       "        vertical-align: top;\n",
       "    }\n",
       "\n",
       "    .dataframe thead th {\n",
       "        text-align: right;\n",
       "    }\n",
       "</style>\n",
       "<table border=\"1\" class=\"dataframe\">\n",
       "  <thead>\n",
       "    <tr style=\"text-align: right;\">\n",
       "      <th></th>\n",
       "      <th>data</th>\n",
       "      <th>stato</th>\n",
       "      <th>codice_regione</th>\n",
       "      <th>denominazione_regione</th>\n",
       "      <th>lat</th>\n",
       "      <th>long</th>\n",
       "      <th>ricoverati_con_sintomi</th>\n",
       "      <th>terapia_intensiva</th>\n",
       "      <th>totale_ospedalizzati</th>\n",
       "      <th>isolamento_domiciliare</th>\n",
       "      <th>totale_positivi</th>\n",
       "      <th>variazione_totale_positivi</th>\n",
       "      <th>nuovi_positivi</th>\n",
       "      <th>dimessi_guariti</th>\n",
       "      <th>deceduti</th>\n",
       "      <th>totale_casi</th>\n",
       "      <th>tamponi</th>\n",
       "      <th>casi_testati</th>\n",
       "      <th>note_it</th>\n",
       "      <th>note_en</th>\n",
       "    </tr>\n",
       "  </thead>\n",
       "  <tbody>\n",
       "    <tr>\n",
       "      <th>1696</th>\n",
       "      <td>2020-05-14T17:00:00</td>\n",
       "      <td>ITA</td>\n",
       "      <td>9</td>\n",
       "      <td>Toscana</td>\n",
       "      <td>43.769231</td>\n",
       "      <td>11.255889</td>\n",
       "      <td>269</td>\n",
       "      <td>68</td>\n",
       "      <td>337</td>\n",
       "      <td>3051</td>\n",
       "      <td>3388</td>\n",
       "      <td>-175</td>\n",
       "      <td>30</td>\n",
       "      <td>5498</td>\n",
       "      <td>973</td>\n",
       "      <td>9859</td>\n",
       "      <td>193182</td>\n",
       "      <td>141430.0</td>\n",
       "      <td>NaN</td>\n",
       "      <td>NaN</td>\n",
       "    </tr>\n",
       "    <tr>\n",
       "      <th>1717</th>\n",
       "      <td>2020-05-15T17:00:00</td>\n",
       "      <td>ITA</td>\n",
       "      <td>9</td>\n",
       "      <td>Toscana</td>\n",
       "      <td>43.769231</td>\n",
       "      <td>11.255889</td>\n",
       "      <td>238</td>\n",
       "      <td>67</td>\n",
       "      <td>305</td>\n",
       "      <td>2863</td>\n",
       "      <td>3168</td>\n",
       "      <td>-220</td>\n",
       "      <td>24</td>\n",
       "      <td>5739</td>\n",
       "      <td>976</td>\n",
       "      <td>9883</td>\n",
       "      <td>197365</td>\n",
       "      <td>144237.0</td>\n",
       "      <td>NaN</td>\n",
       "      <td>NaN</td>\n",
       "    </tr>\n",
       "    <tr>\n",
       "      <th>1738</th>\n",
       "      <td>2020-05-16T17:00:00</td>\n",
       "      <td>ITA</td>\n",
       "      <td>9</td>\n",
       "      <td>Toscana</td>\n",
       "      <td>43.769231</td>\n",
       "      <td>11.255889</td>\n",
       "      <td>234</td>\n",
       "      <td>66</td>\n",
       "      <td>300</td>\n",
       "      <td>2643</td>\n",
       "      <td>2943</td>\n",
       "      <td>-225</td>\n",
       "      <td>30</td>\n",
       "      <td>5991</td>\n",
       "      <td>979</td>\n",
       "      <td>9913</td>\n",
       "      <td>200703</td>\n",
       "      <td>145946.0</td>\n",
       "      <td>NaN</td>\n",
       "      <td>NaN</td>\n",
       "    </tr>\n",
       "    <tr>\n",
       "      <th>1759</th>\n",
       "      <td>2020-05-17T17:00:00</td>\n",
       "      <td>ITA</td>\n",
       "      <td>9</td>\n",
       "      <td>Toscana</td>\n",
       "      <td>43.769231</td>\n",
       "      <td>11.255889</td>\n",
       "      <td>214</td>\n",
       "      <td>67</td>\n",
       "      <td>281</td>\n",
       "      <td>2521</td>\n",
       "      <td>2802</td>\n",
       "      <td>-141</td>\n",
       "      <td>35</td>\n",
       "      <td>6162</td>\n",
       "      <td>984</td>\n",
       "      <td>9948</td>\n",
       "      <td>204022</td>\n",
       "      <td>148060.0</td>\n",
       "      <td>NaN</td>\n",
       "      <td>NaN</td>\n",
       "    </tr>\n",
       "    <tr>\n",
       "      <th>1780</th>\n",
       "      <td>2020-05-18T17:00:00</td>\n",
       "      <td>ITA</td>\n",
       "      <td>9</td>\n",
       "      <td>Toscana</td>\n",
       "      <td>43.769231</td>\n",
       "      <td>11.255889</td>\n",
       "      <td>197</td>\n",
       "      <td>66</td>\n",
       "      <td>263</td>\n",
       "      <td>2310</td>\n",
       "      <td>2573</td>\n",
       "      <td>-229</td>\n",
       "      <td>13</td>\n",
       "      <td>6399</td>\n",
       "      <td>989</td>\n",
       "      <td>9961</td>\n",
       "      <td>205201</td>\n",
       "      <td>148580.0</td>\n",
       "      <td>NaN</td>\n",
       "      <td>NaN</td>\n",
       "    </tr>\n",
       "  </tbody>\n",
       "</table>\n",
       "</div>"
      ],
      "text/plain": [
       "                     data stato  codice_regione denominazione_regione  \\\n",
       "1696  2020-05-14T17:00:00   ITA               9               Toscana   \n",
       "1717  2020-05-15T17:00:00   ITA               9               Toscana   \n",
       "1738  2020-05-16T17:00:00   ITA               9               Toscana   \n",
       "1759  2020-05-17T17:00:00   ITA               9               Toscana   \n",
       "1780  2020-05-18T17:00:00   ITA               9               Toscana   \n",
       "\n",
       "            lat       long  ricoverati_con_sintomi  terapia_intensiva  \\\n",
       "1696  43.769231  11.255889                     269                 68   \n",
       "1717  43.769231  11.255889                     238                 67   \n",
       "1738  43.769231  11.255889                     234                 66   \n",
       "1759  43.769231  11.255889                     214                 67   \n",
       "1780  43.769231  11.255889                     197                 66   \n",
       "\n",
       "      totale_ospedalizzati  isolamento_domiciliare  totale_positivi  \\\n",
       "1696                   337                    3051             3388   \n",
       "1717                   305                    2863             3168   \n",
       "1738                   300                    2643             2943   \n",
       "1759                   281                    2521             2802   \n",
       "1780                   263                    2310             2573   \n",
       "\n",
       "      variazione_totale_positivi  nuovi_positivi  dimessi_guariti  deceduti  \\\n",
       "1696                        -175              30             5498       973   \n",
       "1717                        -220              24             5739       976   \n",
       "1738                        -225              30             5991       979   \n",
       "1759                        -141              35             6162       984   \n",
       "1780                        -229              13             6399       989   \n",
       "\n",
       "      totale_casi  tamponi  casi_testati note_it note_en  \n",
       "1696         9859   193182      141430.0     NaN     NaN  \n",
       "1717         9883   197365      144237.0     NaN     NaN  \n",
       "1738         9913   200703      145946.0     NaN     NaN  \n",
       "1759         9948   204022      148060.0     NaN     NaN  \n",
       "1780         9961   205201      148580.0     NaN     NaN  "
      ]
     },
     "execution_count": 3,
     "metadata": {},
     "output_type": "execute_result"
    }
   ],
   "source": [
    "data=pd.read_csv(data_file)\n",
    "print(data.columns)\n",
    "\n",
    "giorni=pd.unique(data['data'])\n",
    "day_counter=list(range(len(giorni)))\n",
    "print('Giorni osservati: %d'%len(giorni))\n",
    "print('Da: %s'%giorni[0][0:10])\n",
    "print(' A: %s'%giorni[-1][0:10])\n",
    "regioni=pd.unique(data['denominazione_regione'])\n",
    "\n",
    "#data[data['denominazione_regione']=='Lombardia'].head(5)\n",
    "data[data['denominazione_regione']=='Toscana'].tail(5)\n"
   ]
  },
  {
   "cell_type": "markdown",
   "metadata": {},
   "source": [
    "### Inserimento di eventi notevoli riferiti a date"
   ]
  },
  {
   "cell_type": "code",
   "execution_count": 4,
   "metadata": {},
   "outputs": [],
   "source": [
    "lockdown={'data':'2020-03-10',\n",
    "          'id_giorno':15,\n",
    "          'desc':'Lockdown'}\n",
    "\n",
    "scuole_chiuse={'data':'2020-03-04',\n",
    "               'id_giorno':9,\n",
    "               'desc':'Scuole chiuse'}\n",
    "\n",
    "fase_2={'data':'2020-05-04',\n",
    "               'id_giorno':71,\n",
    "               'desc':'Fase2'}\n",
    "\n",
    "\n",
    "eventi=[scuole_chiuse,lockdown, fase_2]"
   ]
  },
  {
   "cell_type": "markdown",
   "metadata": {},
   "source": [
    "## Analisi"
   ]
  },
  {
   "cell_type": "markdown",
   "metadata": {},
   "source": [
    "### Creazione della struttura dati\n",
    "\n",
    "- Si crea un dizionario per ciascuno degli indicatori selezionati\n",
    "- a sua volta ciascun elemento del primo dizionario è un dizionario con le regioni come chiave\n",
    "    - ogni elemento indicatore contiene i valori dell'indicatore per la regione\n",
    "\n",
    "**Esempio:**\n",
    "```    \n",
    "trend[indicatore][regione]\n",
    "```"
   ]
  },
  {
   "cell_type": "code",
   "execution_count": 5,
   "metadata": {},
   "outputs": [],
   "source": [
    "# indicatori osservati\n",
    "indicatori=['ricoverati_con_sintomi', 'terapia_intensiva',\n",
    "       'totale_ospedalizzati', 'isolamento_domiciliare', 'totale_positivi',\n",
    "       'variazione_totale_positivi', 'nuovi_positivi', 'dimessi_guariti',\n",
    "       'deceduti', 'totale_casi', 'tamponi']\n",
    "\n",
    "# qui immetto tutti i trend per ciascuna regione\n",
    "trend={}\n",
    "for ind in indicatori:\n",
    "    trend[ind]={}\n",
    "    for regione in regioni:\n",
    "        trend[ind][regione]=np.array(data[data['denominazione_regione']==regione][ind])\n",
    "\n",
    "# calcolo gli indicatori nazionali come somma delle regioni\n",
    "for ind in indicatori:\n",
    "    trend[ind]['Italia']=np.zeros(len(giorni))\n",
    "    for regione in regioni:\n",
    "        trend[ind]['Italia']+=trend[ind][regione]"
   ]
  },
  {
   "cell_type": "markdown",
   "metadata": {},
   "source": [
    "### Indicatori derivati"
   ]
  },
  {
   "cell_type": "markdown",
   "metadata": {},
   "source": [
    "#### Giorno della settimana associato ai giorni"
   ]
  },
  {
   "cell_type": "code",
   "execution_count": 6,
   "metadata": {},
   "outputs": [],
   "source": [
    "def which_weekday(datestring):\n",
    "    # datestring is in this format '2020-02-24T18:00:00'\n",
    "    return datetime.date(int(datestring[0:4]),int(datestring[5:7]),int(datestring[8:10])).weekday()\n",
    "\n",
    "giorno_settimana=[which_weekday(d) for d in giorni]"
   ]
  },
  {
   "cell_type": "markdown",
   "metadata": {},
   "source": [
    "#### Tamponi giornalieri"
   ]
  },
  {
   "cell_type": "code",
   "execution_count": 7,
   "metadata": {},
   "outputs": [],
   "source": [
    "# tamponi giornalieri\n",
    "trend['tamponi_giornalieri']={}\n",
    "for regione in regioni:\n",
    "    trend['tamponi_giornalieri'][regione]=np.insert(np.diff(trend['tamponi'][regione]),0,0)\n",
    "\n",
    "trend['tamponi_giornalieri']['Italia']=np.insert(np.diff(trend['tamponi']['Italia']),0,0)\n"
   ]
  },
  {
   "cell_type": "markdown",
   "metadata": {},
   "source": [
    "#### Deceduti giornalieri"
   ]
  },
  {
   "cell_type": "code",
   "execution_count": 8,
   "metadata": {},
   "outputs": [],
   "source": [
    "# deceduti giornalieri\n",
    "trend['deceduti_giornalieri']={}\n",
    "for regione in regioni:\n",
    "    trend['deceduti_giornalieri'][regione]=np.insert(np.diff(trend['deceduti'][regione]),0,0)\n",
    "\n",
    "trend['deceduti_giornalieri']['Italia']=np.insert(np.diff(trend['deceduti']['Italia']),0,0)\n"
   ]
  },
  {
   "cell_type": "markdown",
   "metadata": {},
   "source": [
    "#### Guariti giornalieri"
   ]
  },
  {
   "cell_type": "code",
   "execution_count": 9,
   "metadata": {},
   "outputs": [],
   "source": [
    "trend['guariti_giornalieri']={}\n",
    "for regione in regioni:\n",
    "    trend['guariti_giornalieri'][regione]=np.insert(np.diff(trend['dimessi_guariti'][regione]),0,0)\n",
    "\n",
    "trend['guariti_giornalieri']['Italia']=np.insert(np.diff(trend['dimessi_guariti']['Italia']),0,0)\n"
   ]
  },
  {
   "cell_type": "markdown",
   "metadata": {},
   "source": [
    "#### Percentuale tamponi positivi"
   ]
  },
  {
   "cell_type": "code",
   "execution_count": 10,
   "metadata": {},
   "outputs": [],
   "source": [
    "# percentuale tamponi positivi su quelli effettuati\n",
    "trend['perc_tamponi_positivi']={}\n",
    "for regione in regioni:\n",
    "    trend['perc_tamponi_positivi'][regione]=100*trend['nuovi_positivi'][regione]/trend['tamponi_giornalieri'][regione]\n",
    "\n",
    "trend['perc_tamponi_positivi']['Italia']=100*trend['nuovi_positivi']['Italia']/trend['tamponi_giornalieri']['Italia']"
   ]
  },
  {
   "cell_type": "markdown",
   "metadata": {},
   "source": [
    "#### Rate deceduti e rate guariti su attualmente positivi (il giorno precedente)"
   ]
  },
  {
   "cell_type": "code",
   "execution_count": 11,
   "metadata": {},
   "outputs": [],
   "source": [
    "trend['perc_guariti_su_positivi']={}\n",
    "trend['perc_deceduti_su_positivi']={}\n",
    "\n",
    "np.hstack((regioni,'Italia'))\n",
    "\n",
    "for regione in np.hstack((regioni,'Italia')):\n",
    "    # percentuale di GUARITI su POSITIVI\n",
    "    trend['perc_guariti_su_positivi'][regione]=np.zeros_like(trend['totale_positivi'][regione],dtype=float)\n",
    "    for d in range(1,len(giorni)):\n",
    "        try:\n",
    "            trend['perc_guariti_su_positivi'][regione][d]=100*float(trend['guariti_giornalieri'][regione][d]/trend['totale_positivi'][regione][d-1])\n",
    "            #print('%d   %4.2f  %4.2f'%(d,trend['guariti_giornalieri'][regione][d],trend['totale_positivi'][regione][d-1]))\n",
    "        except ValueError:\n",
    "            trend['perc_guariti_su_positivi'][regione][d]=np.NaN\n",
    "            \n",
    "    # percentuale di DECEDUTI su POSITIVI\n",
    "    trend['perc_deceduti_su_positivi'][regione]=np.zeros_like(trend['totale_positivi'][regione],dtype=float)\n",
    "    for d in range(1,len(giorni)):\n",
    "        try:\n",
    "            trend['perc_deceduti_su_positivi'][regione][d]=100*float(trend['deceduti_giornalieri'][regione][d]/trend['totale_positivi'][regione][d-1])\n",
    "            #print('%d   %4.2f  %4.2f'%(d,trend['deceduti_giornalieri'][regione][d],trend['totale_positivi'][regione][d-1]))\n",
    "        except ValueError:\n",
    "            trend['perc_deceduti_su_positivi'][regione][d]=np.NaN\n",
    "                "
   ]
  },
  {
   "cell_type": "markdown",
   "metadata": {},
   "source": [
    "## Salvataggio dati su file PICKLE\n",
    "\n",
    "Vengono salvati su file **pickle** nell' ordine:\n",
    "- trend\n",
    "- regioni\n",
    "- giorni\n"
   ]
  },
  {
   "cell_type": "code",
   "execution_count": 12,
   "metadata": {},
   "outputs": [],
   "source": [
    "import pickle\n",
    "\n",
    "output_data_file='stored_data.pkl'\n",
    "\n",
    "outfile = open(output_data_file,'wb')\n",
    "pickle.dump(trend,outfile)\n",
    "pickle.dump(regioni,outfile)\n",
    "pickle.dump(giorni,outfile)\n",
    "pickle.dump(giorno_settimana,outfile)\n",
    "outfile.close()"
   ]
  },
  {
   "cell_type": "code",
   "execution_count": null,
   "metadata": {},
   "outputs": [],
   "source": []
  }
 ],
 "metadata": {
  "kernelspec": {
   "display_name": "Python 3",
   "language": "python",
   "name": "python3"
  },
  "language_info": {
   "codemirror_mode": {
    "name": "ipython",
    "version": 3
   },
   "file_extension": ".py",
   "mimetype": "text/x-python",
   "name": "python",
   "nbconvert_exporter": "python",
   "pygments_lexer": "ipython3",
   "version": "3.7.1"
  }
 },
 "nbformat": 4,
 "nbformat_minor": 2
}
