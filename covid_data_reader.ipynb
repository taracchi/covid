{
 "cells": [
  {
   "cell_type": "markdown",
   "metadata": {},
   "source": [
    "# COVID-19 data reader\n",
    "\n",
    "Questo notebook carica i dati regionali riguardanti la diffusione e la gestione del COVID-19 direttamente dal repository delle Protezione civile.\n",
    "\n",
    "I dati sono così organizzati:\n",
    "- per ciascuna feature si crea un dizionario i cui elementi sono le regioni, accessibili per nome (es. `trend[indicatore][regione]`)\n",
    "- ogni elemento contiene il valore misurato nei giorni di osservazione\n",
    "- le date sono nella lista di stringhe `giorni`\n",
    "- è stata creata una entry per ciascun dizionario dell'indicatore per l'*Italia*. Questo indicatore, per quanto riguarda gli indicatori di base originali, ne è la somma, sltrimenti è opportunamente calcolato.\n",
    "\n",
    "\n",
    "Fonte dati: *Presidenza del Consiglio dei Ministri - Dipartimento della Protezione Civile*\n",
    "\n",
    "https://github.com/pcm-dpc/COVID-19\n",
    "\n",
    "> **NOTA** Questo notebook nasce per condividere il proprio kernel con altri notebooks dove vengono effettuate e visualizzate le analisi vere e proprie."
   ]
  },
  {
   "cell_type": "markdown",
   "metadata": {},
   "source": [
    "## Lista indicatori raccolti nella struttura dati\n",
    "\n",
    "**Originali:**\n",
    "- ricoverati_con_sintomi\n",
    "- terapia_intensiva\n",
    "- totale_ospedalizzati\n",
    "- isolamento_domiciliare\n",
    "- totale_positivi\n",
    "- variazione_totale_positivi\n",
    "- nuovi_positivi\n",
    "- dimessi_guariti\n",
    "- deceduti\n",
    "- totale_casi\n",
    "- tamponi\n",
    "- casi_da_sospetto_diagnostico\n",
    "- casi_da_screening\n",
    "\n",
    "**Derivati:**\n",
    "- tamponi_giornalieri\n",
    "- guariti_giornalieri\n",
    "- casi_da_sospetto_diagnostico_giornalieri\n",
    "- casi_da_screening_giornalieri\n",
    "- deceduti_giornalieri\n",
    "- perc_tamponi_positivi\n",
    "- perc_guariti_su_positivi\n",
    "- perc_deceduti_su_positivi\n",
    "\n",
    "**Altre variabili:**\n",
    "- giorni\n",
    "- day_counter\n",
    "- regioni\n",
    "- eventi (dizionario di eventi notevoli con data)\n",
    "    - data (str)\n",
    "    - id_giorno (indice del giorno dell'evento)\n",
    "    - desc (str)\n",
    "- posti in TI per regione"
   ]
  },
  {
   "cell_type": "code",
   "execution_count": 16,
   "metadata": {},
   "outputs": [],
   "source": [
    "import pandas as pd\n",
    "import numpy as np\n",
    "import datetime\n",
    "import pickle as pkl\n",
    "\n",
    "\n",
    "import warnings\n",
    "warnings.filterwarnings('ignore')"
   ]
  },
  {
   "cell_type": "markdown",
   "metadata": {},
   "source": [
    "## Parametri"
   ]
  },
  {
   "cell_type": "code",
   "execution_count": 17,
   "metadata": {},
   "outputs": [],
   "source": [
    "#data_file='dpc-covid19-ita-regioni.csv' # locale non aggiornato\n",
    "data_file='https://raw.githubusercontent.com/pcm-dpc/COVID-19/master/dati-regioni/dpc-covid19-ita-regioni.csv'"
   ]
  },
  {
   "cell_type": "markdown",
   "metadata": {},
   "source": [
    "## Lettura dati e preprocessing"
   ]
  },
  {
   "cell_type": "code",
   "execution_count": 18,
   "metadata": {
    "tags": []
   },
   "outputs": [
    {
     "name": "stdout",
     "output_type": "stream",
     "text": [
      "Index(['data', 'stato', 'codice_regione', 'denominazione_regione', 'lat',\n",
      "       'long', 'ricoverati_con_sintomi', 'terapia_intensiva',\n",
      "       'totale_ospedalizzati', 'isolamento_domiciliare', 'totale_positivi',\n",
      "       'variazione_totale_positivi', 'nuovi_positivi', 'dimessi_guariti',\n",
      "       'deceduti', 'casi_da_sospetto_diagnostico', 'casi_da_screening',\n",
      "       'totale_casi', 'tamponi', 'casi_testati', 'note',\n",
      "       'ingressi_terapia_intensiva', 'note_test', 'note_casi',\n",
      "       'totale_positivi_test_molecolare',\n",
      "       'totale_positivi_test_antigenico_rapido', 'tamponi_test_molecolare',\n",
      "       'tamponi_test_antigenico_rapido', 'codice_nuts_1', 'codice_nuts_2'],\n",
      "      dtype='object')\n",
      "Giorni osservati: 688\n",
      "Da: 2020-02-24\n",
      " A: 2022-01-11\n"
     ]
    },
    {
     "data": {
      "text/html": [
       "<div>\n",
       "<style scoped>\n",
       "    .dataframe tbody tr th:only-of-type {\n",
       "        vertical-align: middle;\n",
       "    }\n",
       "\n",
       "    .dataframe tbody tr th {\n",
       "        vertical-align: top;\n",
       "    }\n",
       "\n",
       "    .dataframe thead th {\n",
       "        text-align: right;\n",
       "    }\n",
       "</style>\n",
       "<table border=\"1\" class=\"dataframe\">\n",
       "  <thead>\n",
       "    <tr style=\"text-align: right;\">\n",
       "      <th></th>\n",
       "      <th>data</th>\n",
       "      <th>stato</th>\n",
       "      <th>codice_regione</th>\n",
       "      <th>denominazione_regione</th>\n",
       "      <th>lat</th>\n",
       "      <th>long</th>\n",
       "      <th>ricoverati_con_sintomi</th>\n",
       "      <th>terapia_intensiva</th>\n",
       "      <th>totale_ospedalizzati</th>\n",
       "      <th>isolamento_domiciliare</th>\n",
       "      <th>...</th>\n",
       "      <th>note</th>\n",
       "      <th>ingressi_terapia_intensiva</th>\n",
       "      <th>note_test</th>\n",
       "      <th>note_casi</th>\n",
       "      <th>totale_positivi_test_molecolare</th>\n",
       "      <th>totale_positivi_test_antigenico_rapido</th>\n",
       "      <th>tamponi_test_molecolare</th>\n",
       "      <th>tamponi_test_antigenico_rapido</th>\n",
       "      <th>codice_nuts_1</th>\n",
       "      <th>codice_nuts_2</th>\n",
       "    </tr>\n",
       "  </thead>\n",
       "  <tbody>\n",
       "    <tr>\n",
       "      <th>14360</th>\n",
       "      <td>2022-01-07T17:00:00</td>\n",
       "      <td>ITA</td>\n",
       "      <td>9</td>\n",
       "      <td>Toscana</td>\n",
       "      <td>43.769231</td>\n",
       "      <td>11.255889</td>\n",
       "      <td>958</td>\n",
       "      <td>108</td>\n",
       "      <td>1066</td>\n",
       "      <td>150502</td>\n",
       "      <td>...</td>\n",
       "      <td>NaN</td>\n",
       "      <td>14.0</td>\n",
       "      <td>NaN</td>\n",
       "      <td>NaN</td>\n",
       "      <td>398284.0</td>\n",
       "      <td>72306.0</td>\n",
       "      <td>5590473.0</td>\n",
       "      <td>3917381.0</td>\n",
       "      <td>ITI</td>\n",
       "      <td>ITI1</td>\n",
       "    </tr>\n",
       "    <tr>\n",
       "      <th>14381</th>\n",
       "      <td>2022-01-08T17:00:00</td>\n",
       "      <td>ITA</td>\n",
       "      <td>9</td>\n",
       "      <td>Toscana</td>\n",
       "      <td>43.769231</td>\n",
       "      <td>11.255889</td>\n",
       "      <td>994</td>\n",
       "      <td>113</td>\n",
       "      <td>1107</td>\n",
       "      <td>162896</td>\n",
       "      <td>...</td>\n",
       "      <td>NaN</td>\n",
       "      <td>15.0</td>\n",
       "      <td>NaN</td>\n",
       "      <td>NaN</td>\n",
       "      <td>402754.0</td>\n",
       "      <td>83728.0</td>\n",
       "      <td>5607999.0</td>\n",
       "      <td>3975107.0</td>\n",
       "      <td>ITI</td>\n",
       "      <td>ITI1</td>\n",
       "    </tr>\n",
       "    <tr>\n",
       "      <th>14402</th>\n",
       "      <td>2022-01-09T17:00:00</td>\n",
       "      <td>ITA</td>\n",
       "      <td>9</td>\n",
       "      <td>Toscana</td>\n",
       "      <td>43.769231</td>\n",
       "      <td>11.255889</td>\n",
       "      <td>1036</td>\n",
       "      <td>115</td>\n",
       "      <td>1151</td>\n",
       "      <td>173897</td>\n",
       "      <td>...</td>\n",
       "      <td>NaN</td>\n",
       "      <td>9.0</td>\n",
       "      <td>NaN</td>\n",
       "      <td>NaN</td>\n",
       "      <td>407941.0</td>\n",
       "      <td>90995.0</td>\n",
       "      <td>5629014.0</td>\n",
       "      <td>4016196.0</td>\n",
       "      <td>ITI</td>\n",
       "      <td>ITI1</td>\n",
       "    </tr>\n",
       "    <tr>\n",
       "      <th>14423</th>\n",
       "      <td>2022-01-10T17:00:00</td>\n",
       "      <td>ITA</td>\n",
       "      <td>9</td>\n",
       "      <td>Toscana</td>\n",
       "      <td>43.769231</td>\n",
       "      <td>11.255889</td>\n",
       "      <td>1084</td>\n",
       "      <td>113</td>\n",
       "      <td>1197</td>\n",
       "      <td>172700</td>\n",
       "      <td>...</td>\n",
       "      <td>NaN</td>\n",
       "      <td>5.0</td>\n",
       "      <td>NaN</td>\n",
       "      <td>NaN</td>\n",
       "      <td>411241.0</td>\n",
       "      <td>93485.0</td>\n",
       "      <td>5644736.0</td>\n",
       "      <td>4030631.0</td>\n",
       "      <td>ITI</td>\n",
       "      <td>ITI1</td>\n",
       "    </tr>\n",
       "    <tr>\n",
       "      <th>14444</th>\n",
       "      <td>2022-01-11T17:00:00</td>\n",
       "      <td>ITA</td>\n",
       "      <td>9</td>\n",
       "      <td>Toscana</td>\n",
       "      <td>43.769231</td>\n",
       "      <td>11.255889</td>\n",
       "      <td>1108</td>\n",
       "      <td>122</td>\n",
       "      <td>1230</td>\n",
       "      <td>174576</td>\n",
       "      <td>...</td>\n",
       "      <td>NaN</td>\n",
       "      <td>16.0</td>\n",
       "      <td>NaN</td>\n",
       "      <td>NaN</td>\n",
       "      <td>416747.0</td>\n",
       "      <td>104269.0</td>\n",
       "      <td>5665687.0</td>\n",
       "      <td>4097200.0</td>\n",
       "      <td>ITI</td>\n",
       "      <td>ITI1</td>\n",
       "    </tr>\n",
       "  </tbody>\n",
       "</table>\n",
       "<p>5 rows × 30 columns</p>\n",
       "</div>"
      ],
      "text/plain": [
       "                      data stato  codice_regione denominazione_regione  \\\n",
       "14360  2022-01-07T17:00:00   ITA               9               Toscana   \n",
       "14381  2022-01-08T17:00:00   ITA               9               Toscana   \n",
       "14402  2022-01-09T17:00:00   ITA               9               Toscana   \n",
       "14423  2022-01-10T17:00:00   ITA               9               Toscana   \n",
       "14444  2022-01-11T17:00:00   ITA               9               Toscana   \n",
       "\n",
       "             lat       long  ricoverati_con_sintomi  terapia_intensiva  \\\n",
       "14360  43.769231  11.255889                     958                108   \n",
       "14381  43.769231  11.255889                     994                113   \n",
       "14402  43.769231  11.255889                    1036                115   \n",
       "14423  43.769231  11.255889                    1084                113   \n",
       "14444  43.769231  11.255889                    1108                122   \n",
       "\n",
       "       totale_ospedalizzati  isolamento_domiciliare  ...  note  \\\n",
       "14360                  1066                  150502  ...   NaN   \n",
       "14381                  1107                  162896  ...   NaN   \n",
       "14402                  1151                  173897  ...   NaN   \n",
       "14423                  1197                  172700  ...   NaN   \n",
       "14444                  1230                  174576  ...   NaN   \n",
       "\n",
       "       ingressi_terapia_intensiva  note_test  note_casi  \\\n",
       "14360                        14.0        NaN        NaN   \n",
       "14381                        15.0        NaN        NaN   \n",
       "14402                         9.0        NaN        NaN   \n",
       "14423                         5.0        NaN        NaN   \n",
       "14444                        16.0        NaN        NaN   \n",
       "\n",
       "       totale_positivi_test_molecolare  \\\n",
       "14360                         398284.0   \n",
       "14381                         402754.0   \n",
       "14402                         407941.0   \n",
       "14423                         411241.0   \n",
       "14444                         416747.0   \n",
       "\n",
       "       totale_positivi_test_antigenico_rapido  tamponi_test_molecolare  \\\n",
       "14360                                 72306.0                5590473.0   \n",
       "14381                                 83728.0                5607999.0   \n",
       "14402                                 90995.0                5629014.0   \n",
       "14423                                 93485.0                5644736.0   \n",
       "14444                                104269.0                5665687.0   \n",
       "\n",
       "       tamponi_test_antigenico_rapido  codice_nuts_1  codice_nuts_2  \n",
       "14360                       3917381.0            ITI           ITI1  \n",
       "14381                       3975107.0            ITI           ITI1  \n",
       "14402                       4016196.0            ITI           ITI1  \n",
       "14423                       4030631.0            ITI           ITI1  \n",
       "14444                       4097200.0            ITI           ITI1  \n",
       "\n",
       "[5 rows x 30 columns]"
      ]
     },
     "execution_count": 18,
     "metadata": {},
     "output_type": "execute_result"
    }
   ],
   "source": [
    "data=pd.read_csv(data_file)\n",
    "print(data.columns)\n",
    "\n",
    "giorni=pd.unique(data['data'])\n",
    "day_counter=list(range(len(giorni)))\n",
    "print('Giorni osservati: %d'%len(giorni))\n",
    "print('Da: %s'%giorni[0][0:10])\n",
    "print(' A: %s'%giorni[-1][0:10])\n",
    "regioni=pd.unique(data['denominazione_regione'])\n",
    "\n",
    "#data[data['denominazione_regione']=='Lombardia'].head(5)\n",
    "data[data['denominazione_regione']=='Toscana'].tail(5)\n"
   ]
  },
  {
   "cell_type": "markdown",
   "metadata": {},
   "source": [
    "### Lettura dati popolazione\n",
    "\n",
    "La popolazione è ri-calcolata di tanto in tanto da uno scripr esterno che memorizza il risultato in un file pickle."
   ]
  },
  {
   "cell_type": "code",
   "execution_count": 19,
   "metadata": {},
   "outputs": [
    {
     "name": "stdout",
     "output_type": "stream",
     "text": [
      "        Abruzzo: 1293941\n",
      "     Basilicata: 553254\n",
      "       Calabria: 1894110\n",
      "       Campania: 5712143\n",
      " Emilia-Romagna: 4464119\n",
      "Friuli Venezia Giulia: 1206216\n",
      "          Lazio: 5755700\n",
      "        Liguria: 1524826\n",
      "      Lombardia: 10027602\n",
      "         Marche: 1512672\n",
      "         Molise: 300516\n",
      "       Piemonte: 4311217\n",
      "         Puglia: 3953305\n",
      "       Sardegna: 1611621\n",
      "        Sicilia: 4875290\n",
      "        Toscana: 3692555\n",
      "         Umbria: 870165\n",
      "  Valle d'Aosta: 125034\n",
      "         Veneto: 4879133\n",
      "    P.A. Trento: 545425\n",
      "   P.A. Bolzano: 532644\n"
     ]
    }
   ],
   "source": [
    "pop_file=open('popolazione.pkl','rb')\n",
    "popolazione=pkl.load(pop_file)\n",
    "pop_file.close()\n",
    "\n",
    "for r in popolazione.keys():\n",
    "    print('%15s: %d'%(r,popolazione[r]))"
   ]
  },
  {
   "cell_type": "markdown",
   "metadata": {},
   "source": [
    "### Inserimento dati capacità TI"
   ]
  },
  {
   "cell_type": "code",
   "execution_count": 20,
   "metadata": {},
   "outputs": [],
   "source": [
    "posti_ti_covid={'Lombardia': 1446,\n",
    " 'Lazio': 845,\n",
    " 'Campania': 834,\n",
    " 'Sicilia': 719,\n",
    " 'Veneto': 705,\n",
    " 'Emilia-Romagna': 646,\n",
    " 'Piemonte': 626,\n",
    " 'Puglia': 580,\n",
    " 'Toscana': 567,\n",
    " 'Calabria': 280,\n",
    " 'Sardegna': 235,\n",
    " 'Liguria': 237,\n",
    " 'Marche': 220,\n",
    " 'Abruzzo': 189,\n",
    " 'Friuli Venezia Giulia': 175,\n",
    " 'P.A. Trento': 78,\n",
    " 'Umbria': 128,\n",
    " 'Basilicata': 81,\n",
    " 'Molise': 44,\n",
    " \"Valle d'Aosta\": 20,\n",
    " 'P.A. Bolzano': 77,\n",
    " 'Italia':8732}\n",
    "\n",
    "posti_ti_antecovid={'Lombardia': 861,\n",
    " 'Lazio': 571,\n",
    " 'Campania': 335,\n",
    " 'Sicilia': 418,\n",
    " 'Veneto': 494,\n",
    " 'Emilia-Romagna': 449,\n",
    " 'Piemonte': 327,\n",
    " 'Puglia': 304,\n",
    " 'Toscana': 374,\n",
    " 'Calabria': 146,\n",
    " 'Sardegna': 134,\n",
    " 'Liguria': 180,\n",
    " 'Marche': 115,\n",
    " 'Abruzzo': 123,\n",
    " 'Friuli Venezia Giulia': 120,\n",
    " 'P.A. Trento': 32,\n",
    " 'Umbria': 70,\n",
    " 'Basilicata': 49,\n",
    " 'Molise': 30,\n",
    " \"Valle d'Aosta\": 10,\n",
    " 'P.A. Bolzano': 37,\n",
    " 'Italia':5179}\n",
    "\n",
    "\n",
    "\n",
    "# si stima che GLOBALMENTE siano stati approntati il 38% dei nuovi posti TI\n",
    "posti_ti_stimati={}\n",
    "for r in regioni:\n",
    "    posti_ti_stimati[r]=np.round(posti_ti_antecovid[r]+(posti_ti_covid[r]-posti_ti_antecovid[r])*.38)\n",
    "    \n",
    "posti_ti_stimati['Italia']=np.round(posti_ti_antecovid['Italia']+(posti_ti_covid['Italia']-posti_ti_antecovid['Italia'])*.38)"
   ]
  },
  {
   "cell_type": "markdown",
   "metadata": {},
   "source": [
    "### Inserimento di eventi notevoli riferiti a date"
   ]
  },
  {
   "cell_type": "code",
   "execution_count": 21,
   "metadata": {},
   "outputs": [],
   "source": [
    "lockdown={'data':'2020-03-10',\n",
    "          'id_giorno':15,\n",
    "          'desc':'Lockdown'}\n",
    "\n",
    "scuole_chiuse={'data':'2020-03-04',\n",
    "               'id_giorno':9,\n",
    "               'desc':'Scuole chiuse'}\n",
    "\n",
    "fase_2={'data':'2020-05-04',\n",
    "               'id_giorno':71,\n",
    "               'desc':'Fase2'}\n",
    "\n",
    "\n",
    "eventi=[scuole_chiuse,lockdown, fase_2]"
   ]
  },
  {
   "cell_type": "markdown",
   "metadata": {},
   "source": [
    "## Analisi"
   ]
  },
  {
   "cell_type": "markdown",
   "metadata": {},
   "source": [
    "### Creazione della struttura dati\n",
    "\n",
    "- Si crea un dizionario per ciascuno degli indicatori selezionati\n",
    "- a sua volta ciascun elemento del primo dizionario è un dizionario con le regioni come chiave\n",
    "    - ogni elemento indicatore contiene i valori dell'indicatore per la regione\n",
    "\n",
    "**Esempio:**\n",
    "```    \n",
    "trend[indicatore][regione]\n",
    "```"
   ]
  },
  {
   "cell_type": "code",
   "execution_count": 22,
   "metadata": {},
   "outputs": [],
   "source": [
    "# indicatori osservati\n",
    "indicatori=['ricoverati_con_sintomi', 'terapia_intensiva', 'ingressi_terapia_intensiva',\n",
    "       'totale_ospedalizzati', 'isolamento_domiciliare', 'totale_positivi',\n",
    "       'variazione_totale_positivi', 'nuovi_positivi', 'dimessi_guariti',\n",
    "       'deceduti', 'totale_casi', 'tamponi',\n",
    "        'casi_da_sospetto_diagnostico', 'casi_da_screening']\n",
    "\n",
    "# qui immetto tutti i trend per ciascuna regione\n",
    "trend={}\n",
    "for ind in indicatori:\n",
    "    trend[ind]={}\n",
    "    for regione in regioni:\n",
    "        trend[ind][regione]=np.array(data[data['denominazione_regione']==regione][ind])\n",
    "\n",
    "# calcolo gli indicatori nazionali come somma delle regioni\n",
    "for ind in indicatori:\n",
    "    trend[ind]['Italia']=np.zeros(len(giorni))\n",
    "    for regione in regioni:\n",
    "        trend[ind]['Italia']+=trend[ind][regione]"
   ]
  },
  {
   "cell_type": "markdown",
   "metadata": {},
   "source": [
    "### Indicatori derivati"
   ]
  },
  {
   "cell_type": "markdown",
   "metadata": {},
   "source": [
    "#### Giorno della settimana associato ai giorni"
   ]
  },
  {
   "cell_type": "code",
   "execution_count": 23,
   "metadata": {},
   "outputs": [],
   "source": [
    "def which_weekday(datestring):\n",
    "    # datestring is in this format '2020-02-24T18:00:00'\n",
    "    return datetime.date(int(datestring[0:4]),int(datestring[5:7]),int(datestring[8:10])).weekday()\n",
    "\n",
    "giorno_settimana=[which_weekday(d) for d in giorni]"
   ]
  },
  {
   "cell_type": "markdown",
   "metadata": {},
   "source": [
    "#### Tamponi giornalieri"
   ]
  },
  {
   "cell_type": "code",
   "execution_count": 24,
   "metadata": {},
   "outputs": [],
   "source": [
    "# tamponi giornalieri\n",
    "trend['tamponi_giornalieri']={}\n",
    "for regione in regioni:\n",
    "    trend['tamponi_giornalieri'][regione]=np.insert(np.diff(trend['tamponi'][regione]),0,0)\n",
    "\n",
    "trend['tamponi_giornalieri']['Italia']=np.insert(np.diff(trend['tamponi']['Italia']),0,0)\n"
   ]
  },
  {
   "cell_type": "markdown",
   "metadata": {},
   "source": [
    "#### Provenienza infetti giornaliera\n",
    "> screening o sintomi"
   ]
  },
  {
   "cell_type": "code",
   "execution_count": 25,
   "metadata": {},
   "outputs": [],
   "source": [
    "trend['casi_da_sospetto_diagnostico_giornalieri']={}\n",
    "trend['casi_da_screening_giornalieri']={}\n",
    "\n",
    "for regione in regioni:\n",
    "    trend['casi_da_sospetto_diagnostico_giornalieri'][regione]=np.insert(np.diff(trend['casi_da_sospetto_diagnostico'][regione]),0,0)\n",
    "    trend['casi_da_screening_giornalieri'][regione]=np.insert(np.diff(trend['casi_da_screening'][regione]),0,0)\n",
    "\n",
    "trend['casi_da_sospetto_diagnostico_giornalieri']['Italia']=np.insert(np.diff(trend['casi_da_sospetto_diagnostico']['Italia']),0,0)\n",
    "trend['casi_da_screening_giornalieri']['Italia']=np.insert(np.diff(trend['casi_da_screening']['Italia']),0,0)\n"
   ]
  },
  {
   "cell_type": "markdown",
   "metadata": {},
   "source": [
    "#### Deceduti giornalieri"
   ]
  },
  {
   "cell_type": "code",
   "execution_count": 26,
   "metadata": {},
   "outputs": [],
   "source": [
    "# deceduti giornalieri\n",
    "trend['deceduti_giornalieri']={}\n",
    "for regione in regioni:\n",
    "    trend['deceduti_giornalieri'][regione]=np.insert(np.diff(trend['deceduti'][regione]),0,0)\n",
    "\n",
    "trend['deceduti_giornalieri']['Italia']=np.insert(np.diff(trend['deceduti']['Italia']),0,0)\n"
   ]
  },
  {
   "cell_type": "markdown",
   "metadata": {},
   "source": [
    "#### Guariti giornalieri"
   ]
  },
  {
   "cell_type": "code",
   "execution_count": 27,
   "metadata": {},
   "outputs": [],
   "source": [
    "trend['guariti_giornalieri']={}\n",
    "for regione in regioni:\n",
    "    trend['guariti_giornalieri'][regione]=np.insert(np.diff(trend['dimessi_guariti'][regione]),0,0)\n",
    "\n",
    "trend['guariti_giornalieri']['Italia']=np.insert(np.diff(trend['dimessi_guariti']['Italia']),0,0)\n"
   ]
  },
  {
   "cell_type": "markdown",
   "metadata": {},
   "source": [
    "#### Percentuale tamponi positivi"
   ]
  },
  {
   "cell_type": "code",
   "execution_count": 28,
   "metadata": {},
   "outputs": [],
   "source": [
    "# percentuale tamponi positivi su quelli effettuati\n",
    "trend['perc_tamponi_positivi']={}\n",
    "for regione in regioni:\n",
    "    trend['perc_tamponi_positivi'][regione]=100*trend['nuovi_positivi'][regione]/trend['tamponi_giornalieri'][regione]\n",
    "\n",
    "trend['perc_tamponi_positivi']['Italia']=100*trend['nuovi_positivi']['Italia']/trend['tamponi_giornalieri']['Italia']"
   ]
  },
  {
   "cell_type": "markdown",
   "metadata": {},
   "source": [
    "#### Rate deceduti e rate guariti su attualmente positivi (il giorno precedente)"
   ]
  },
  {
   "cell_type": "code",
   "execution_count": 29,
   "metadata": {},
   "outputs": [],
   "source": [
    "trend['perc_guariti_su_positivi']={}\n",
    "trend['perc_deceduti_su_positivi']={}\n",
    "\n",
    "np.hstack((regioni,'Italia'))\n",
    "\n",
    "for regione in np.hstack((regioni,'Italia')):\n",
    "    # percentuale di GUARITI su POSITIVI\n",
    "    trend['perc_guariti_su_positivi'][regione]=np.zeros_like(trend['totale_positivi'][regione],dtype=float)\n",
    "    for d in range(1,len(giorni)):\n",
    "        try:\n",
    "            trend['perc_guariti_su_positivi'][regione][d]=100*float(trend['guariti_giornalieri'][regione][d]/trend['totale_positivi'][regione][d-1])\n",
    "            #print('%d   %4.2f  %4.2f'%(d,trend['guariti_giornalieri'][regione][d],trend['totale_positivi'][regione][d-1]))\n",
    "        except ValueError:\n",
    "            trend['perc_guariti_su_positivi'][regione][d]=np.NaN\n",
    "            \n",
    "    # percentuale di DECEDUTI su POSITIVI\n",
    "    trend['perc_deceduti_su_positivi'][regione]=np.zeros_like(trend['totale_positivi'][regione],dtype=float)\n",
    "    for d in range(1,len(giorni)):\n",
    "        try:\n",
    "            trend['perc_deceduti_su_positivi'][regione][d]=100*float(trend['deceduti_giornalieri'][regione][d]/trend['totale_positivi'][regione][d-1])\n",
    "            #print('%d   %4.2f  %4.2f'%(d,trend['deceduti_giornalieri'][regione][d],trend['totale_positivi'][regione][d-1]))\n",
    "        except ValueError:\n",
    "            trend['perc_deceduti_su_positivi'][regione][d]=np.NaN\n",
    "                "
   ]
  },
  {
   "cell_type": "markdown",
   "metadata": {},
   "source": [
    "## Salvataggio dati su file PICKLE\n",
    "\n",
    "Vengono salvati su file **pickle** nell' ordine:\n",
    "- trend\n",
    "- regioni\n",
    "- giorni\n"
   ]
  },
  {
   "cell_type": "code",
   "execution_count": 30,
   "metadata": {},
   "outputs": [],
   "source": [
    "output_data_file='stored_data.pkl'\n",
    "\n",
    "outfile = open(output_data_file,'wb')\n",
    "pkl.dump(trend,outfile)\n",
    "pkl.dump(regioni,outfile)\n",
    "pkl.dump(giorni,outfile)\n",
    "pkl.dump(giorno_settimana,outfile)\n",
    "pkl.dump(popolazione,outfile)\n",
    "pkl.dump(posti_ti_covid,outfile)\n",
    "pkl.dump(posti_ti_antecovid,outfile)\n",
    "pkl.dump(posti_ti_stimati,outfile)\n",
    "outfile.close()"
   ]
  }
 ],
 "metadata": {
  "interpreter": {
   "hash": "8f95d1170a75b6bb226a6fa005d7e2a19edce8f273293f5ad7b4554d05aa96eb"
  },
  "kernelspec": {
   "display_name": "Python 3.7.11 64-bit ('p37env': conda)",
   "name": "python3"
  },
  "language_info": {
   "codemirror_mode": {
    "name": "ipython",
    "version": 3
   },
   "file_extension": ".py",
   "mimetype": "text/x-python",
   "name": "python",
   "nbconvert_exporter": "python",
   "pygments_lexer": "ipython3",
   "version": "3.7.11"
  }
 },
 "nbformat": 4,
 "nbformat_minor": 4
}
