{
 "cells": [
  {
   "cell_type": "markdown",
   "metadata": {},
   "source": [
    "# COVID-19 data reader\n",
    "\n",
    "Questo notebook carica i dati regionali riguardanti la diffusione e la gestione del COVID-19 direttamente dal repository delle Protezione civile.\n",
    "\n",
    "I dati sono così organizzati:\n",
    "- per ciascuna feature si crea un dizionario i cui elementi sono le regioni, accessibili per nome (es. `trend[indicatore][regione]`)\n",
    "- ogni elemento contiene il valore misurato nei giorni di osservazione\n",
    "- le date sono nella lista di stringhe `giorni`\n",
    "- è stata creata una entry per ciascun dizionario dell'indicatore per l'*Italia*. Questo indicatore, per quanto riguarda gli indicatori di base originali, ne è la somma, sltrimenti è opportunamente calcolato.\n",
    "\n",
    "\n",
    "Fonte dati: *Presidenza del Consiglio dei Ministri - Dipartimento della Protezione Civile*\n",
    "\n",
    "https://github.com/pcm-dpc/COVID-19\n",
    "\n",
    "> **NOTA** Questo notebook nasce per condividere il proprio kernel con altri notebooks dove vengono effettuate e visualizzate le analisi vere e proprie."
   ]
  },
  {
   "cell_type": "markdown",
   "metadata": {},
   "source": [
    "## Lista indicatori raccolti nella struttura dati\n",
    "\n",
    "**Originali:**\n",
    "- ricoverati_con_sintomi\n",
    "- terapia_intensiva\n",
    "- totale_ospedalizzati\n",
    "- isolamento_domiciliare\n",
    "- totale_positivi\n",
    "- variazione_totale_positivi\n",
    "- nuovi_positivi\n",
    "- dimessi_guariti\n",
    "- deceduti\n",
    "- totale_casi\n",
    "- tamponi\n",
    "\n",
    "**Derivati:**\n",
    "- tamponi_giornalieri\n",
    "- deceduti_giornalieri\n",
    "- perc_tamponi_positivi\n",
    "- perc_guariti_su_positivi\n",
    "- perc_deceduti_su_positivi\n",
    "\n",
    "**Altre variabili:**\n",
    "- giorni\n",
    "- day_counter\n",
    "- regioni\n",
    "- eventi (dizionario di eventi notevoli con data)\n",
    "    - data (str)\n",
    "    - id_giorno (indice del giorno dell'evento)\n",
    "    - desc (str)"
   ]
  },
  {
   "cell_type": "code",
   "execution_count": 14,
   "metadata": {},
   "outputs": [],
   "source": [
    "import pandas as pd\n",
    "import numpy as np\n",
    "import datetime\n",
    "\n",
    "\n",
    "\n",
    "import warnings\n",
    "warnings.filterwarnings('ignore')"
   ]
  },
  {
   "cell_type": "markdown",
   "metadata": {},
   "source": [
    "## Parametri"
   ]
  },
  {
   "cell_type": "code",
   "execution_count": 15,
   "metadata": {},
   "outputs": [],
   "source": [
    "#data_file='dpc-covid19-ita-regioni.csv' # locale non aggiornato\n",
    "data_file='https://raw.githubusercontent.com/pcm-dpc/COVID-19/master/dati-regioni/dpc-covid19-ita-regioni.csv'"
   ]
  },
  {
   "cell_type": "markdown",
   "metadata": {},
   "source": [
    "## Lettura dati e preprocessing"
   ]
  },
  {
   "cell_type": "code",
   "execution_count": 16,
   "metadata": {
    "tags": []
   },
   "outputs": [
    {
     "name": "stdout",
     "output_type": "stream",
     "text": [
      "Index(['data', 'stato', 'codice_regione', 'denominazione_regione', 'lat',\n",
      "       'long', 'ricoverati_con_sintomi', 'terapia_intensiva',\n",
      "       'totale_ospedalizzati', 'isolamento_domiciliare', 'totale_positivi',\n",
      "       'variazione_totale_positivi', 'nuovi_positivi', 'dimessi_guariti',\n",
      "       'deceduti', 'casi_da_sospetto_diagnostico', 'casi_da_screening',\n",
      "       'totale_casi', 'tamponi', 'casi_testati', 'note'],\n",
      "      dtype='object')\n",
      "Giorni osservati: 213\n",
      "Da: 2020-02-24\n",
      " A: 2020-09-23\n"
     ]
    },
    {
     "data": {
      "text/html": [
       "<div>\n",
       "<style scoped>\n",
       "    .dataframe tbody tr th:only-of-type {\n",
       "        vertical-align: middle;\n",
       "    }\n",
       "\n",
       "    .dataframe tbody tr th {\n",
       "        vertical-align: top;\n",
       "    }\n",
       "\n",
       "    .dataframe thead th {\n",
       "        text-align: right;\n",
       "    }\n",
       "</style>\n",
       "<table border=\"1\" class=\"dataframe\">\n",
       "  <thead>\n",
       "    <tr style=\"text-align: right;\">\n",
       "      <th></th>\n",
       "      <th>data</th>\n",
       "      <th>stato</th>\n",
       "      <th>codice_regione</th>\n",
       "      <th>denominazione_regione</th>\n",
       "      <th>lat</th>\n",
       "      <th>long</th>\n",
       "      <th>ricoverati_con_sintomi</th>\n",
       "      <th>terapia_intensiva</th>\n",
       "      <th>totale_ospedalizzati</th>\n",
       "      <th>isolamento_domiciliare</th>\n",
       "      <th>...</th>\n",
       "      <th>variazione_totale_positivi</th>\n",
       "      <th>nuovi_positivi</th>\n",
       "      <th>dimessi_guariti</th>\n",
       "      <th>deceduti</th>\n",
       "      <th>casi_da_sospetto_diagnostico</th>\n",
       "      <th>casi_da_screening</th>\n",
       "      <th>totale_casi</th>\n",
       "      <th>tamponi</th>\n",
       "      <th>casi_testati</th>\n",
       "      <th>note</th>\n",
       "    </tr>\n",
       "  </thead>\n",
       "  <tbody>\n",
       "    <tr>\n",
       "      <th>4385</th>\n",
       "      <td>2020-09-19T17:00:00</td>\n",
       "      <td>ITA</td>\n",
       "      <td>9</td>\n",
       "      <td>Toscana</td>\n",
       "      <td>43.769231</td>\n",
       "      <td>11.255889</td>\n",
       "      <td>88</td>\n",
       "      <td>21</td>\n",
       "      <td>109</td>\n",
       "      <td>2718</td>\n",
       "      <td>...</td>\n",
       "      <td>127</td>\n",
       "      <td>143</td>\n",
       "      <td>9686</td>\n",
       "      <td>1152</td>\n",
       "      <td>11342.0</td>\n",
       "      <td>2323.0</td>\n",
       "      <td>13665</td>\n",
       "      <td>668896</td>\n",
       "      <td>450613.0</td>\n",
       "      <td>NaN</td>\n",
       "    </tr>\n",
       "    <tr>\n",
       "      <th>4406</th>\n",
       "      <td>2020-09-20T17:00:00</td>\n",
       "      <td>ITA</td>\n",
       "      <td>9</td>\n",
       "      <td>Toscana</td>\n",
       "      <td>43.769231</td>\n",
       "      <td>11.255889</td>\n",
       "      <td>86</td>\n",
       "      <td>23</td>\n",
       "      <td>109</td>\n",
       "      <td>2847</td>\n",
       "      <td>...</td>\n",
       "      <td>129</td>\n",
       "      <td>147</td>\n",
       "      <td>9704</td>\n",
       "      <td>1152</td>\n",
       "      <td>11394.0</td>\n",
       "      <td>2418.0</td>\n",
       "      <td>13812</td>\n",
       "      <td>676932</td>\n",
       "      <td>455978.0</td>\n",
       "      <td>NaN</td>\n",
       "    </tr>\n",
       "    <tr>\n",
       "      <th>4427</th>\n",
       "      <td>2020-09-21T17:00:00</td>\n",
       "      <td>ITA</td>\n",
       "      <td>9</td>\n",
       "      <td>Toscana</td>\n",
       "      <td>43.769231</td>\n",
       "      <td>11.255889</td>\n",
       "      <td>94</td>\n",
       "      <td>23</td>\n",
       "      <td>117</td>\n",
       "      <td>2901</td>\n",
       "      <td>...</td>\n",
       "      <td>62</td>\n",
       "      <td>84</td>\n",
       "      <td>9726</td>\n",
       "      <td>1152</td>\n",
       "      <td>11423.0</td>\n",
       "      <td>2473.0</td>\n",
       "      <td>13896</td>\n",
       "      <td>681070</td>\n",
       "      <td>459147.0</td>\n",
       "      <td>NaN</td>\n",
       "    </tr>\n",
       "    <tr>\n",
       "      <th>4448</th>\n",
       "      <td>2020-09-22T17:00:00</td>\n",
       "      <td>ITA</td>\n",
       "      <td>9</td>\n",
       "      <td>Toscana</td>\n",
       "      <td>43.769231</td>\n",
       "      <td>11.255889</td>\n",
       "      <td>98</td>\n",
       "      <td>21</td>\n",
       "      <td>119</td>\n",
       "      <td>2939</td>\n",
       "      <td>...</td>\n",
       "      <td>40</td>\n",
       "      <td>74</td>\n",
       "      <td>9760</td>\n",
       "      <td>1152</td>\n",
       "      <td>11457.0</td>\n",
       "      <td>2513.0</td>\n",
       "      <td>13970</td>\n",
       "      <td>686702</td>\n",
       "      <td>462715.0</td>\n",
       "      <td>NaN</td>\n",
       "    </tr>\n",
       "    <tr>\n",
       "      <th>4469</th>\n",
       "      <td>2020-09-23T17:00:00</td>\n",
       "      <td>ITA</td>\n",
       "      <td>9</td>\n",
       "      <td>Toscana</td>\n",
       "      <td>43.769231</td>\n",
       "      <td>11.255889</td>\n",
       "      <td>97</td>\n",
       "      <td>24</td>\n",
       "      <td>121</td>\n",
       "      <td>2933</td>\n",
       "      <td>...</td>\n",
       "      <td>-4</td>\n",
       "      <td>90</td>\n",
       "      <td>9853</td>\n",
       "      <td>1153</td>\n",
       "      <td>11493.0</td>\n",
       "      <td>2567.0</td>\n",
       "      <td>14060</td>\n",
       "      <td>694204</td>\n",
       "      <td>467414.0</td>\n",
       "      <td>NaN</td>\n",
       "    </tr>\n",
       "  </tbody>\n",
       "</table>\n",
       "<p>5 rows × 21 columns</p>\n",
       "</div>"
      ],
      "text/plain": [
       "                     data stato  codice_regione denominazione_regione  \\\n",
       "4385  2020-09-19T17:00:00   ITA               9               Toscana   \n",
       "4406  2020-09-20T17:00:00   ITA               9               Toscana   \n",
       "4427  2020-09-21T17:00:00   ITA               9               Toscana   \n",
       "4448  2020-09-22T17:00:00   ITA               9               Toscana   \n",
       "4469  2020-09-23T17:00:00   ITA               9               Toscana   \n",
       "\n",
       "            lat       long  ricoverati_con_sintomi  terapia_intensiva  \\\n",
       "4385  43.769231  11.255889                      88                 21   \n",
       "4406  43.769231  11.255889                      86                 23   \n",
       "4427  43.769231  11.255889                      94                 23   \n",
       "4448  43.769231  11.255889                      98                 21   \n",
       "4469  43.769231  11.255889                      97                 24   \n",
       "\n",
       "      totale_ospedalizzati  isolamento_domiciliare  ...   \\\n",
       "4385                   109                    2718  ...    \n",
       "4406                   109                    2847  ...    \n",
       "4427                   117                    2901  ...    \n",
       "4448                   119                    2939  ...    \n",
       "4469                   121                    2933  ...    \n",
       "\n",
       "      variazione_totale_positivi  nuovi_positivi  dimessi_guariti  deceduti  \\\n",
       "4385                         127             143             9686      1152   \n",
       "4406                         129             147             9704      1152   \n",
       "4427                          62              84             9726      1152   \n",
       "4448                          40              74             9760      1152   \n",
       "4469                          -4              90             9853      1153   \n",
       "\n",
       "      casi_da_sospetto_diagnostico  casi_da_screening  totale_casi  tamponi  \\\n",
       "4385                       11342.0             2323.0        13665   668896   \n",
       "4406                       11394.0             2418.0        13812   676932   \n",
       "4427                       11423.0             2473.0        13896   681070   \n",
       "4448                       11457.0             2513.0        13970   686702   \n",
       "4469                       11493.0             2567.0        14060   694204   \n",
       "\n",
       "      casi_testati  note  \n",
       "4385      450613.0   NaN  \n",
       "4406      455978.0   NaN  \n",
       "4427      459147.0   NaN  \n",
       "4448      462715.0   NaN  \n",
       "4469      467414.0   NaN  \n",
       "\n",
       "[5 rows x 21 columns]"
      ]
     },
     "execution_count": 16,
     "metadata": {},
     "output_type": "execute_result"
    }
   ],
   "source": [
    "data=pd.read_csv(data_file)\n",
    "print(data.columns)\n",
    "\n",
    "giorni=pd.unique(data['data'])\n",
    "day_counter=list(range(len(giorni)))\n",
    "print('Giorni osservati: %d'%len(giorni))\n",
    "print('Da: %s'%giorni[0][0:10])\n",
    "print(' A: %s'%giorni[-1][0:10])\n",
    "regioni=pd.unique(data['denominazione_regione'])\n",
    "\n",
    "#data[data['denominazione_regione']=='Lombardia'].head(5)\n",
    "data[data['denominazione_regione']=='Toscana'].tail(5)\n"
   ]
  },
  {
   "cell_type": "markdown",
   "metadata": {},
   "source": [
    "### Lettura dati popolazione"
   ]
  },
  {
   "cell_type": "code",
   "execution_count": 17,
   "metadata": {},
   "outputs": [
    {
     "data": {
      "text/plain": [
       "{'Lombardia': 10060574,\n",
       " 'Lazio': 5879082,\n",
       " 'Campania': 5801692,\n",
       " 'Sicilia': 4999891,\n",
       " 'Veneto': 4905854,\n",
       " 'Emilia-Romagna': 4459477,\n",
       " 'Piemonte': 4356406,\n",
       " 'Puglia': 4029053,\n",
       " 'Toscana': 3729641,\n",
       " 'Calabria': 1947131,\n",
       " 'Sardegna': 1639591,\n",
       " 'Liguria': 1550640,\n",
       " 'Marche': 1525271,\n",
       " 'Abruzzo': 1311580,\n",
       " 'Friuli Venezia Giulia': 1215220,\n",
       " 'P.A. Trento': 1072276,\n",
       " 'Umbria': 882015,\n",
       " 'Basilicata': 562869,\n",
       " 'Molise': 305617,\n",
       " \"Valle d'Aosta\": 125666,\n",
       " 'P.A. Bolzano': 106441}"
      ]
     },
     "execution_count": 17,
     "metadata": {},
     "output_type": "execute_result"
    }
   ],
   "source": [
    "dati_pop=pd.read_excel('popolazione_regioni.xlsx')\n",
    "#dati_pop\n",
    "pop_keys=list(dati_pop['Regione'])\n",
    "\n",
    "\n",
    "popolazione = {pop_keys[i]: dati_pop.iloc[i]['Popolazione'] for i in range(len(pop_keys))} \n",
    "\n",
    "popolazione"
   ]
  },
  {
   "cell_type": "markdown",
   "metadata": {},
   "source": [
    "### Inserimento di eventi notevoli riferiti a date"
   ]
  },
  {
   "cell_type": "code",
   "execution_count": 18,
   "metadata": {},
   "outputs": [],
   "source": [
    "lockdown={'data':'2020-03-10',\n",
    "          'id_giorno':15,\n",
    "          'desc':'Lockdown'}\n",
    "\n",
    "scuole_chiuse={'data':'2020-03-04',\n",
    "               'id_giorno':9,\n",
    "               'desc':'Scuole chiuse'}\n",
    "\n",
    "fase_2={'data':'2020-05-04',\n",
    "               'id_giorno':71,\n",
    "               'desc':'Fase2'}\n",
    "\n",
    "\n",
    "eventi=[scuole_chiuse,lockdown, fase_2]"
   ]
  },
  {
   "cell_type": "markdown",
   "metadata": {},
   "source": [
    "## Analisi"
   ]
  },
  {
   "cell_type": "markdown",
   "metadata": {},
   "source": [
    "### Creazione della struttura dati\n",
    "\n",
    "- Si crea un dizionario per ciascuno degli indicatori selezionati\n",
    "- a sua volta ciascun elemento del primo dizionario è un dizionario con le regioni come chiave\n",
    "    - ogni elemento indicatore contiene i valori dell'indicatore per la regione\n",
    "\n",
    "**Esempio:**\n",
    "```    \n",
    "trend[indicatore][regione]\n",
    "```"
   ]
  },
  {
   "cell_type": "code",
   "execution_count": 19,
   "metadata": {},
   "outputs": [],
   "source": [
    "# indicatori osservati\n",
    "indicatori=['ricoverati_con_sintomi', 'terapia_intensiva',\n",
    "       'totale_ospedalizzati', 'isolamento_domiciliare', 'totale_positivi',\n",
    "       'variazione_totale_positivi', 'nuovi_positivi', 'dimessi_guariti',\n",
    "       'deceduti', 'totale_casi', 'tamponi']\n",
    "\n",
    "# qui immetto tutti i trend per ciascuna regione\n",
    "trend={}\n",
    "for ind in indicatori:\n",
    "    trend[ind]={}\n",
    "    for regione in regioni:\n",
    "        trend[ind][regione]=np.array(data[data['denominazione_regione']==regione][ind])\n",
    "\n",
    "# calcolo gli indicatori nazionali come somma delle regioni\n",
    "for ind in indicatori:\n",
    "    trend[ind]['Italia']=np.zeros(len(giorni))\n",
    "    for regione in regioni:\n",
    "        trend[ind]['Italia']+=trend[ind][regione]"
   ]
  },
  {
   "cell_type": "markdown",
   "metadata": {},
   "source": [
    "### Indicatori derivati"
   ]
  },
  {
   "cell_type": "markdown",
   "metadata": {},
   "source": [
    "#### Giorno della settimana associato ai giorni"
   ]
  },
  {
   "cell_type": "code",
   "execution_count": 20,
   "metadata": {},
   "outputs": [],
   "source": [
    "def which_weekday(datestring):\n",
    "    # datestring is in this format '2020-02-24T18:00:00'\n",
    "    return datetime.date(int(datestring[0:4]),int(datestring[5:7]),int(datestring[8:10])).weekday()\n",
    "\n",
    "giorno_settimana=[which_weekday(d) for d in giorni]"
   ]
  },
  {
   "cell_type": "markdown",
   "metadata": {},
   "source": [
    "#### Tamponi giornalieri"
   ]
  },
  {
   "cell_type": "code",
   "execution_count": 21,
   "metadata": {},
   "outputs": [],
   "source": [
    "# tamponi giornalieri\n",
    "trend['tamponi_giornalieri']={}\n",
    "for regione in regioni:\n",
    "    trend['tamponi_giornalieri'][regione]=np.insert(np.diff(trend['tamponi'][regione]),0,0)\n",
    "\n",
    "trend['tamponi_giornalieri']['Italia']=np.insert(np.diff(trend['tamponi']['Italia']),0,0)\n"
   ]
  },
  {
   "cell_type": "markdown",
   "metadata": {},
   "source": [
    "#### Deceduti giornalieri"
   ]
  },
  {
   "cell_type": "code",
   "execution_count": 22,
   "metadata": {},
   "outputs": [],
   "source": [
    "# deceduti giornalieri\n",
    "trend['deceduti_giornalieri']={}\n",
    "for regione in regioni:\n",
    "    trend['deceduti_giornalieri'][regione]=np.insert(np.diff(trend['deceduti'][regione]),0,0)\n",
    "\n",
    "trend['deceduti_giornalieri']['Italia']=np.insert(np.diff(trend['deceduti']['Italia']),0,0)\n"
   ]
  },
  {
   "cell_type": "markdown",
   "metadata": {},
   "source": [
    "#### Guariti giornalieri"
   ]
  },
  {
   "cell_type": "code",
   "execution_count": 23,
   "metadata": {},
   "outputs": [],
   "source": [
    "trend['guariti_giornalieri']={}\n",
    "for regione in regioni:\n",
    "    trend['guariti_giornalieri'][regione]=np.insert(np.diff(trend['dimessi_guariti'][regione]),0,0)\n",
    "\n",
    "trend['guariti_giornalieri']['Italia']=np.insert(np.diff(trend['dimessi_guariti']['Italia']),0,0)\n"
   ]
  },
  {
   "cell_type": "markdown",
   "metadata": {},
   "source": [
    "#### Percentuale tamponi positivi"
   ]
  },
  {
   "cell_type": "code",
   "execution_count": 24,
   "metadata": {},
   "outputs": [],
   "source": [
    "# percentuale tamponi positivi su quelli effettuati\n",
    "trend['perc_tamponi_positivi']={}\n",
    "for regione in regioni:\n",
    "    trend['perc_tamponi_positivi'][regione]=100*trend['nuovi_positivi'][regione]/trend['tamponi_giornalieri'][regione]\n",
    "\n",
    "trend['perc_tamponi_positivi']['Italia']=100*trend['nuovi_positivi']['Italia']/trend['tamponi_giornalieri']['Italia']"
   ]
  },
  {
   "cell_type": "markdown",
   "metadata": {},
   "source": [
    "#### Rate deceduti e rate guariti su attualmente positivi (il giorno precedente)"
   ]
  },
  {
   "cell_type": "code",
   "execution_count": 25,
   "metadata": {},
   "outputs": [],
   "source": [
    "trend['perc_guariti_su_positivi']={}\n",
    "trend['perc_deceduti_su_positivi']={}\n",
    "\n",
    "np.hstack((regioni,'Italia'))\n",
    "\n",
    "for regione in np.hstack((regioni,'Italia')):\n",
    "    # percentuale di GUARITI su POSITIVI\n",
    "    trend['perc_guariti_su_positivi'][regione]=np.zeros_like(trend['totale_positivi'][regione],dtype=float)\n",
    "    for d in range(1,len(giorni)):\n",
    "        try:\n",
    "            trend['perc_guariti_su_positivi'][regione][d]=100*float(trend['guariti_giornalieri'][regione][d]/trend['totale_positivi'][regione][d-1])\n",
    "            #print('%d   %4.2f  %4.2f'%(d,trend['guariti_giornalieri'][regione][d],trend['totale_positivi'][regione][d-1]))\n",
    "        except ValueError:\n",
    "            trend['perc_guariti_su_positivi'][regione][d]=np.NaN\n",
    "            \n",
    "    # percentuale di DECEDUTI su POSITIVI\n",
    "    trend['perc_deceduti_su_positivi'][regione]=np.zeros_like(trend['totale_positivi'][regione],dtype=float)\n",
    "    for d in range(1,len(giorni)):\n",
    "        try:\n",
    "            trend['perc_deceduti_su_positivi'][regione][d]=100*float(trend['deceduti_giornalieri'][regione][d]/trend['totale_positivi'][regione][d-1])\n",
    "            #print('%d   %4.2f  %4.2f'%(d,trend['deceduti_giornalieri'][regione][d],trend['totale_positivi'][regione][d-1]))\n",
    "        except ValueError:\n",
    "            trend['perc_deceduti_su_positivi'][regione][d]=np.NaN\n",
    "                "
   ]
  },
  {
   "cell_type": "markdown",
   "metadata": {},
   "source": [
    "## Salvataggio dati su file PICKLE\n",
    "\n",
    "Vengono salvati su file **pickle** nell' ordine:\n",
    "- trend\n",
    "- regioni\n",
    "- giorni\n"
   ]
  },
  {
   "cell_type": "code",
   "execution_count": 26,
   "metadata": {},
   "outputs": [],
   "source": [
    "import pickle\n",
    "\n",
    "output_data_file='stored_data.pkl'\n",
    "\n",
    "outfile = open(output_data_file,'wb')\n",
    "pickle.dump(trend,outfile)\n",
    "pickle.dump(regioni,outfile)\n",
    "pickle.dump(giorni,outfile)\n",
    "pickle.dump(giorno_settimana,outfile)\n",
    "pickle.dump(popolazione,outfile)\n",
    "outfile.close()"
   ]
  }
 ],
 "metadata": {
  "kernelspec": {
   "display_name": "Python 3",
   "language": "python",
   "name": "python3"
  },
  "language_info": {
   "codemirror_mode": {
    "name": "ipython",
    "version": 3
   },
   "file_extension": ".py",
   "mimetype": "text/x-python",
   "name": "python",
   "nbconvert_exporter": "python",
   "pygments_lexer": "ipython3",
   "version": "3.7.1"
  }
 },
 "nbformat": 4,
 "nbformat_minor": 4
}
