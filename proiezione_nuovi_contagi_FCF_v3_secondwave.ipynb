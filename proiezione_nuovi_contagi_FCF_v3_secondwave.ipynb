{
 "cells": [
  {
   "cell_type": "code",
   "execution_count": 1,
   "metadata": {},
   "outputs": [],
   "source": [
    "import numpy as np\n",
    "import pickle as pkl\n",
    "from datetime import datetime, timedelta\n",
    "import matplotlib.pyplot as plt\n",
    "import matplotlib.colors as mcolors\n",
    "from aidam.miscellanea_utils import find_matlabstyle\n",
    "\n",
    "import seaborn as sns\n",
    "\n",
    "from aidam.faga.curve_fit import FagaCurveFit\n",
    "\n",
    "from aidam.math_utils import moving_function_rev1\n",
    "from aidam.NbEnhance import tabprint"
   ]
  },
  {
   "cell_type": "markdown",
   "metadata": {},
   "source": [
    "## Lettura dati"
   ]
  },
  {
   "cell_type": "code",
   "execution_count": 2,
   "metadata": {},
   "outputs": [
    {
     "name": "stdout",
     "output_type": "stream",
     "text": [
      "Giorni osservati: 205\n",
      "Primo giorno: 2020-02-24T18:00:00\n",
      "Ultimo giorno: 2020-09-15T17:00:00\n"
     ]
    }
   ],
   "source": [
    "data_file='stored_data.pkl'\n",
    "\n",
    "infile=open(data_file,'rb')\n",
    "trend=pkl.load(infile)\n",
    "regioni=pkl.load(infile)\n",
    "giorni=pkl.load(infile)\n",
    "giorno_settimana=pkl.load(infile)\n",
    "infile.close()\n",
    "\n",
    "day_counter=list(range(len(giorni)))\n",
    "\n",
    "print('Giorni osservati: %d'%len(giorni))\n",
    "print('Primo giorno: %s'%giorni[0])\n",
    "print('Ultimo giorno: %s'%giorni[-1])"
   ]
  },
  {
   "cell_type": "markdown",
   "metadata": {},
   "source": [
    "Preparazione date\n",
    "\n",
    "- creo il giorno 0 nel formato *datetime* per poi creare i nuovi plot su questa base\n",
    "- creo una lista di giorni (in formato di stringhe) partendo dal giorno0"
   ]
  },
  {
   "cell_type": "code",
   "execution_count": 3,
   "metadata": {},
   "outputs": [],
   "source": [
    "giorno0=datetime.strptime(giorni[0][0:10], \"%Y-%m-%d\")\n",
    "str_giorni=[]\n",
    "for d in range(500):\n",
    "    str_giorni.append((giorno0+timedelta(d)).strftime(\"%Y-%m-%d\"))\n",
    "str_giorni=np.array(str_giorni)\n",
    "\n",
    "oggi=datetime.strftime(datetime.now(), \"%Y-%m-%d\")\n",
    "indice_oggi=find_matlabstyle(str_giorni,lambda x:x==oggi)[0]"
   ]
  },
  {
   "cell_type": "markdown",
   "metadata": {},
   "source": [
    "## Funzioni base\n",
    "\n",
    "Si testano due versioni generalizzate della sigmoide:\n",
    "\n",
    "- sigmoide generalizzata\n",
    "- sigmoide generalizzata estesa"
   ]
  },
  {
   "cell_type": "code",
   "execution_count": 4,
   "metadata": {},
   "outputs": [],
   "source": [
    "def generalized_sigmoid(t,a,b,M,alpha):\n",
    "    y=M/(1+np.exp(-a*t+b))**alpha\n",
    "    return y\n",
    "\n",
    "def generalized_sigmoid_ext(t,a,b,c,M,alpha):\n",
    "    y=(M+c*t)/(1+np.exp(-a*t+b))**alpha\n",
    "    return y\n",
    "\n",
    "\n",
    "def two_waves_generalized_sigmoids_ext(t,t_sw,a1,b1,c1,M1,alpha1,a2,b2,c2,M2,alpha2):    \n",
    "    if t<=t_sw:\n",
    "        y=(M1+c1*t)/(1+np.exp(-a1*t+b1))**alpha1\n",
    "    else:\n",
    "        #y=(M1+c1*t)/(1+np.exp(-a1*t+b1))**alpha1+(M2+c2*t)/(1+np.exp(-a2*(t-t_sw)+b2))**alpha2\n",
    "        y=(M1+c1*t)/(1+np.exp(-a1*t+b1))**alpha1+(M2+c2*(t-t_sw))/(1+np.exp(-a2*(t-t_sw)+b2))**alpha2-(M2)/(1+np.exp(b2))**alpha2\n",
    "    return y\n",
    "\n",
    "\n",
    "def two_waves_generalized_sigmoids(t,t_sw,a1,b1,M1,alpha1,a2,b2,M2,alpha2):    \n",
    "    if t<=t_sw:\n",
    "        y=(M1)/(1+np.exp(-a1*t+b1))**alpha1\n",
    "    else:        \n",
    "        y=(M1)/(1+np.exp(-a1*t+b1))**alpha1+(M2)/(1+np.exp(-a2*(t-t_sw)+b2))**alpha2-(M2)/(1+np.exp(b2))**alpha2\n",
    "    return y\n",
    "\n",
    "employed_model=two_waves_generalized_sigmoids"
   ]
  },
  {
   "cell_type": "markdown",
   "metadata": {},
   "source": [
    "## Nuovi positivi *normalizzati*"
   ]
  },
  {
   "cell_type": "code",
   "execution_count": 14,
   "metadata": {},
   "outputs": [
    {
     "name": "stderr",
     "output_type": "stream",
     "text": [
      "C:\\Users\\klaat\\Anaconda3\\lib\\site-packages\\scipy\\signal\\_arraytools.py:45: FutureWarning: Using a non-tuple sequence for multidimensional indexing is deprecated; use `arr[tuple(seq)]` instead of `arr[seq]`. In the future this will be interpreted as an array index, `arr[np.array(seq)]`, which will result either in an error or a different result.\n",
      "  b = a[a_slice]\n"
     ]
    }
   ],
   "source": [
    "from scipy.signal import savgol_filter\n",
    "trend['perc_tamponi_positivi']['Italia'][0]=trend['perc_tamponi_positivi']['Italia'][1]\n",
    "\n",
    "np_it=trend['nuovi_positivi']['Italia']\n",
    "\n",
    "\n",
    "nwt=7\n",
    "nwp=3\n",
    "\n",
    "\n",
    "norm_np_it=0.01*np.multiply(moving_function_rev1(trend['tamponi_giornalieri']['Italia'],np.median,nwt,nwt),\n",
    "                     moving_function_rev1(trend['perc_tamponi_positivi']['Italia'],np.mean,nwp,nwp))\n",
    "\n",
    "norm_np_it=savgol_filter(norm_np_it,9,1)"
   ]
  },
  {
   "cell_type": "markdown",
   "metadata": {},
   "source": [
    "### Test plots"
   ]
  },
  {
   "cell_type": "raw",
   "metadata": {},
   "source": [
    "test_pars=[115,0.1, 0.05, 5,2.5e+5,2,0.1, 0, 2,2.5e+5,2\n",
    "           \n",
    "y_pred=np.array(list(map(lambda x:employed_model(x,*test_pars),day_counter)))\n",
    "\n",
    "plt.plot(day_counter,y_pred)"
   ]
  },
  {
   "cell_type": "markdown",
   "metadata": {},
   "source": [
    "## Fitting"
   ]
  },
  {
   "cell_type": "code",
   "execution_count": 15,
   "metadata": {},
   "outputs": [
    {
     "data": {
      "image/png": "[encoded data removed]",
      "text/plain": [
       "<Figure size 576x288 with 1 Axes>"
      ]
     },
     "metadata": {
      "needs_background": "light"
     },
     "output_type": "display_data"
    }
   ],
   "source": [
    "#target_data=trend['totale_casi']['Italia']\n",
    "target_data=np.cumsum(trend['nuovi_positivi']['Italia'])\n",
    "target_data=np.cumsum(norm_np_it)\n",
    "target_data_filtered=moving_function_rev1(target_data,np.mean,3,3)\n",
    "\n",
    "fig,ax=plt.subplots(1,1,figsize=(8,4))\n",
    "ax.plot(day_counter,target_data,'o')\n",
    "ax.plot(day_counter,target_data_filtered,'-')\n",
    "ax.set_xticks(list(range(0,len(target_data),7)))\n",
    "ax.set_title('Target: casi totali')\n",
    "ax.set_xticklabels(str_giorni[list(range(0,len(target_data),7))],rotation=90)\n",
    "ax.grid()"
   ]
  },
  {
   "cell_type": "markdown",
   "metadata": {},
   "source": [
    "## GA-based Curve fitting\n",
    "\n",
    "E' possibile utilizzare solo **parzialmente** i dati per il tuning del modello: tramite il parametro `days_training` si decide quanti giorni usare effettivamente dall'inizio del dataset\n"
   ]
  },
  {
   "cell_type": "code",
   "execution_count": 16,
   "metadata": {},
   "outputs": [
    {
     "name": "stdout",
     "output_type": "stream",
     "text": [
      "            0         1         2         3         4         5         6         7         8\n",
      "         ----      ----      ----      ----      ----      ----      ----      ----      ----\n",
      "Min     115.0       0.0       0.0  200000.0       0.0       0.0       0.0  200000.0       0.0\n",
      "Max     130.0       0.3       0.4  300000.0      10.0       0.3       0.4  300000.0      10.0\n"
     ]
    }
   ],
   "source": [
    "days_training=len(target_data)#-7\n",
    "\n",
    "# Italia\n",
    "a_range=[0,0.3]\n",
    "b_range=[0, 0.4]\n",
    "c_range=[0,10]\n",
    "M_range=[2e+5,3e+5]\n",
    "alpha_range=[0,10]\n",
    "t_sw_range=[115,130]\n",
    "\n",
    "'''\n",
    "# dominio per generalized_sigmoid_ext\n",
    "dominio=np.vstack((a_range,\n",
    "                   b_range,\n",
    "                   c_range,\n",
    "                   M_range,\n",
    "                   alpha_range))\n",
    "'''\n",
    "\n",
    "\n",
    "\n",
    "# dominio per two_waves_generalized_sigmoids_ext\n",
    "#M_range=[0,3e+5]\n",
    "dominio=np.vstack((t_sw_range,\n",
    "                   a_range,\n",
    "                   b_range,\n",
    "                   c_range,\n",
    "                   M_range,\n",
    "                   alpha_range,\n",
    "                   a_range,\n",
    "                   b_range,\n",
    "                   c_range,\n",
    "                   M_range,\n",
    "                   alpha_range))\n",
    "\n",
    "\n",
    "# dominio per two_waves_generalized_sigmoids\n",
    "#M_range=[0,3e+5]\n",
    "dominio=np.vstack((t_sw_range,\n",
    "                   a_range,\n",
    "                   b_range,\n",
    "                   M_range,\n",
    "                   alpha_range,\n",
    "                   a_range,\n",
    "                   b_range,\n",
    "                   M_range,\n",
    "                   alpha_range))\n",
    "\n",
    "                   \n",
    "dominio=dominio.T\n",
    "\n",
    "tabprint(dominio,digits=10,precision=1,index=['Min','Max'])"
   ]
  },
  {
   "cell_type": "code",
   "execution_count": 17,
   "metadata": {},
   "outputs": [
    {
     "name": "stdout",
     "output_type": "stream",
     "text": [
      "Welcome to FagaCurveFit!\n",
      "Gen:     0 BestAll: 2.408 BestGen: 2.408  BioDiv: 6.3e+03\n",
      "Gen:   100 BestAll: 15.91 BestGen: 15.91  AveFit: 12.81\n",
      "Gen:   200 BestAll: 19.85 BestGen: 19.85  AveFit: 17.72\n",
      "Gen:   300 BestAll: 24.57 BestGen: 24.57  AveFit: 21.38\n",
      "Gen:   400 BestAll: 25.15 BestGen: 25.15  AveFit: 21.1\n",
      "Gen:   500 BestAll: 25.84 BestGen: 25.84  AveFit: 23.09\n",
      "Gen:   600 BestAll: 26.43 BestGen: 26.43  AveFit: 23.41\n",
      "Gen:   700 BestAll: 28.99 BestGen: 28.99  AveFit: 26.53\n",
      "Gen:   800 BestAll: 30.49 BestGen: 30.49  AveFit: 26.56\n",
      "Gen:   900 BestAll: 32.55 BestGen: 32.55  AveFit: 28.35\n",
      "Gen:  1000 BestAll: 33.85 BestGen: 33.85  AveFit: 31.16\n",
      "Gen:  1100 BestAll: 33.85 BestGen: 33.85  AveFit: 30.09\n",
      "Gen:  1200 BestAll: 34.83 BestGen: 34.83  AveFit: 31.74\n",
      "Gen:  1300 BestAll: 34.87 BestGen: 34.87  AveFit: 32.31\n",
      "Gen:  1400 BestAll: 35.81 BestGen: 35.81  AveFit: 32.03\n",
      "Gen:  1500 BestAll: 36.15 BestGen: 36.15  AveFit: 32.01\n"
     ]
    }
   ],
   "source": [
    "def error_measure(predicted,actual):\n",
    "    #return np.mean(np.abs(predicted-actual))+np.std(np.abs(predicted-actual))\n",
    "    #return 0.7*np.mean(np.abs(predicted-actual))+0.3*np.mean(np.abs(predicted[-14:]-actual[-14:]))+np.std(np.abs(predicted-actual))\n",
    "    #return np.mean(np.abs(predicted-actual)/actual)\n",
    "    return 0.2*np.percentile(np.abs(predicted-actual),5)+np.mean(np.abs(predicted-actual))\n",
    "    #return np.mean(np.abs(predicted-actual))\n",
    "\n",
    "np.random.seed(42)\n",
    "    \n",
    "fct=FagaCurveFit()\n",
    "\n",
    "fct.fit(employed_model, \n",
    "        np.arange(days_training),\n",
    "        target_data[0:days_training],\n",
    "        dominio,\n",
    "        ga_generations=1500, ga_population=80,print_info=100,\n",
    "        error_function=error_measure,\n",
    "        num_mutations=1)\n",
    "\n"
   ]
  },
  {
   "cell_type": "code",
   "execution_count": 18,
   "metadata": {},
   "outputs": [
    {
     "name": "stdout",
     "output_type": "stream",
     "text": [
      "\n",
      "Optimal solution is: \n",
      "[1.23575362e+02 6.33460094e-02 1.89921827e-01 2.43020443e+05\n",
      " 7.65945594e+00 2.11377531e-02 2.60178150e-01 2.28257449e+05\n",
      " 6.53213824e+00]\n",
      "Inizio second wave: giorno 123, 2020-06-27T17:00:00\n"
     ]
    }
   ],
   "source": [
    "solution=fct.opt_params\n",
    "\n",
    "print('\\nOptimal solution is: ')\n",
    "\n",
    "print(solution)\n",
    "# Interpretazione della soluzione\n",
    "print('Inizio second wave: giorno %d, %s'%(solution[0],giorni[int(np.round(solution[0]))]))\n"
   ]
  },
  {
   "cell_type": "code",
   "execution_count": 19,
   "metadata": {},
   "outputs": [
    {
     "data": {
      "text/plain": [
       "Text(0.5, 0.98, 'Fitness trends')"
      ]
     },
     "execution_count": 19,
     "metadata": {},
     "output_type": "execute_result"
    },
    {
     "data": {
      "image/png": "[encoded data removed]",
      "text/plain": [
       "<Figure size 1008x360 with 2 Axes>"
      ]
     },
     "metadata": {
      "needs_background": "light"
     },
     "output_type": "display_data"
    }
   ],
   "source": [
    "fig,ax=plt.subplots(1,2,figsize=(14,5))\n",
    "ax[0].plot(fct.fitness_tracker['average'],label='Average')\n",
    "ax[0].plot(fct.fitness_tracker['max'],label='Max')\n",
    "ax[0].legend()\n",
    "ax[1].plot(fct.fitness_tracker['std'],label='Std')\n",
    "ax[1].legend()\n",
    "fig.suptitle('Fitness trends')\n"
   ]
  },
  {
   "cell_type": "markdown",
   "metadata": {},
   "source": [
    "Adesso applico il modello tunato sia ai giorni passati sia a giorni futuri.\n",
    "\n",
    "*forecast_days* sono i giorni per cui lo applico: iniziano dal giorno 0 e finoscono quando si vuole nel futuro"
   ]
  },
  {
   "cell_type": "code",
   "execution_count": 20,
   "metadata": {},
   "outputs": [],
   "source": [
    "forecast_days=np.arange(300)\n",
    "y_pred=np.array(list(map(lambda x:employed_model(x,*solution),forecast_days)))"
   ]
  },
  {
   "cell_type": "markdown",
   "metadata": {},
   "source": [
    "#### Plots"
   ]
  },
  {
   "cell_type": "code",
   "execution_count": 21,
   "metadata": {},
   "outputs": [
    {
     "name": "stderr",
     "output_type": "stream",
     "text": [
      "C:\\Users\\klaat\\Anaconda3\\lib\\site-packages\\ipykernel_launcher.py:19: UserWarning: Matplotlib is currently using module://ipykernel.pylab.backend_inline, which is a non-GUI backend, so cannot show the figure.\n"
     ]
    },
    {
     "data": {
      "image/png": "[encoded data removed]",
      "text/plain": [
       "<Figure size 864x720 with 2 Axes>"
      ]
     },
     "metadata": {
      "needs_background": "light"
     },
     "output_type": "display_data"
    }
   ],
   "source": [
    "# preparazione palette colori\n",
    "lista_colori=list(mcolors.TABLEAU_COLORS.items())\n",
    "color_names=[cn[0] for cn in lista_colori]\n",
    "\n",
    "fig,ax=plt.subplots(2,1,figsize=(12,10))\n",
    "ax[0].plot(day_counter,target_data,label='Reale',linewidth=4)\n",
    "ax[0].plot(forecast_days,y_pred,'r--',label='Predetto')\n",
    "ax[0].axvline(days_training-1,c='g',ls='--',label='Fine tuning')\n",
    "ax[0].set_xticks(list(range(0,len(forecast_days),5)))\n",
    "ax[0].set_xticklabels(str_giorni[list(range(0,len(forecast_days),5))],rotation=90)\n",
    "ax[0].set_ylabel('Totale infetti')\n",
    "ax[0].legend()\n",
    "ax[0].grid()\n",
    "\n",
    "ax[1].bar(day_counter,y_pred[day_counter]-target_data)\n",
    "ax[1].axvline(days_training-1)\n",
    "ax[1].set_title('Errore giornaliero')\n",
    "fig.tight_layout()\n",
    "fig.show()"
   ]
  },
  {
   "cell_type": "markdown",
   "metadata": {},
   "source": [
    "### Adesso vediamo, secondo il modello, quando non avremo più contagiati"
   ]
  },
  {
   "cell_type": "code",
   "execution_count": 12,
   "metadata": {},
   "outputs": [],
   "source": [
    "nuovi_contagi_pred=np.diff(y_pred)\n",
    "\n",
    "nuovi_contagi_reali=np.diff(target_data)\n",
    "nuovi_contagi_reali_filtered=moving_function_rev1(nuovi_contagi_reali,np.mean,3,3)#np.diff(target_data_filtered)"
   ]
  },
  {
   "cell_type": "code",
   "execution_count": 13,
   "metadata": {},
   "outputs": [
    {
     "data": {
      "text/plain": [
       "<matplotlib.legend.Legend at 0x28f7c9b6588>"
      ]
     },
     "execution_count": 13,
     "metadata": {},
     "output_type": "execute_result"
    },
    {
     "data": {
      "image/png": "[encoded data removed]",
      "text/plain": [
       "<Figure size 1008x432 with 1 Axes>"
      ]
     },
     "metadata": {
      "needs_background": "light"
     },
     "output_type": "display_data"
    }
   ],
   "source": [
    "fig,ax=plt.subplots(1,1,figsize=(14,6))\n",
    "ax.plot(nuovi_contagi_pred,label='Nuovi contagi predetti')\n",
    "ax.set_ylabel('Nuovi contagi')\n",
    "\n",
    "ax.plot(nuovi_contagi_reali,'o',label='Contagi reali')\n",
    "ax.plot(nuovi_contagi_reali_filtered,'+',label='Contagi reali filt.')\n",
    "ax.axvline(x=days_training,linewidth=2, color='k',linestyle='--')\n",
    "    \n",
    "ax.set_xticks(list(range(0,len(forecast_days),10)))\n",
    "ax.set_xticklabels(str_giorni[list(range(1,len(forecast_days),10))],rotation=90)\n",
    "ax.grid()\n",
    "ax.legend()\n"
   ]
  },
  {
   "cell_type": "code",
   "execution_count": 40,
   "metadata": {},
   "outputs": [],
   "source": [
    "import plotly.graph_objects as go"
   ]
  },
  {
   "cell_type": "code",
   "execution_count": 41,
   "metadata": {},
   "outputs": [
    {
     "data": {
      "application/vnd.plotly.v1+json": {
       "config": {
        "plotlyServerURL": "https://plot.ly"
       },
       "data": [
        {
         "mode": "markers",
         "name": "Reali",
         "type": "scatter",
         "x": [
          0,
          1,
          2,
          3,
          4,
          5,
          6,
          7,
          8,
          9,
          10,
          11,
          12,
          13,
          14,
          15,
          16,
          17,
          18,
          19,
          20,
          21,
          22,
          23,
          24,
          25,
          26,
          27,
          28,
          29,
          30,
          31,
          32,
          33,
          34,
          35,
          36,
          37,
          38,
          39,
          40,
          41,
          42,
          43,
          44,
          45,
          46,
          47,
          48,
          49,
          50,
          51,
          52,
          53,
          54,
          55,
          56,
          57,
          58,
          59,
          60,
          61,
          62,
          63,
          64,
          65,
          66,
          67,
          68,
          69,
          70,
          71,
          72,
          73,
          74,
          75,
          76,
          77,
          78,
          79,
          80,
          81,
          82,
          83,
          84,
          85,
          86,
          87,
          88,
          89,
          90,
          91,
          92,
          93,
          94,
          95,
          96,
          97,
          98,
          99,
          100,
          101,
          102,
          103,
          104,
          105,
          106,
          107,
          108,
          109,
          110,
          111,
          112,
          113,
          114,
          115,
          116,
          117,
          118,
          119,
          120,
          121,
          122,
          123,
          124,
          125,
          126,
          127,
          128,
          129,
          130,
          131,
          132,
          133,
          134,
          135,
          136,
          137,
          138,
          139,
          140,
          141,
          142,
          143,
          144,
          145,
          146,
          147,
          148,
          149,
          150,
          151,
          152,
          153,
          154,
          155,
          156,
          157,
          158,
          159,
          160,
          161,
          162,
          163,
          164,
          165,
          166,
          167,
          168,
          169,
          170,
          171,
          172,
          173,
          174,
          175,
          176,
          177,
          178,
          179,
          180,
          181,
          182,
          183,
          184,
          185,
          186,
          187,
          188,
          189,
          190,
          191,
          192,
          193,
          194,
          195,
          196,
          197,
          198,
          199,
          200,
          201,
          202,
          203
         ],
         "y": [
          93,
          78,
          250,
          238,
          240,
          566,
          342,
          466,
          587,
          769,
          778,
          1247,
          1492,
          1797,
          977,
          2313,
          2651,
          2547,
          3497,
          3590,
          3233,
          3526,
          4207,
          5322,
          5986,
          6557,
          5560,
          4789,
          5249,
          5210,
          6153,
          5959,
          5974,
          5217,
          4050,
          4053,
          4782,
          4668,
          4585,
          4805,
          4316,
          3599,
          3039,
          3836,
          4204,
          3951,
          4694,
          4092,
          3153,
          2972,
          2667,
          3786,
          3493,
          3491,
          3047,
          2256,
          2729,
          3370,
          2646,
          3021,
          2357,
          2324,
          1739,
          2091,
          2086,
          1872,
          1965,
          1900,
          1389,
          1221,
          1075,
          1444,
          1401,
          1327,
          1083,
          802,
          744,
          1402,
          888,
          992,
          789,
          875,
          675,
          451,
          813,
          665,
          642,
          652,
          669,
          531,
          300,
          397,
          584,
          593,
          516,
          416,
          355,
          178,
          318,
          321,
          177,
          518,
          270,
          197,
          280,
          283,
          202,
          379,
          163,
          346,
          338,
          303,
          210,
          329,
          333,
          251,
          262,
          224,
          218,
          122,
          190,
          296,
          259,
          175,
          174,
          126,
          142,
          187,
          201,
          223,
          235,
          192,
          208,
          138,
          193,
          229,
          276,
          188,
          234,
          169,
          114,
          163,
          230,
          233,
          249,
          219,
          190,
          129,
          282,
          306,
          252,
          275,
          255,
          170,
          212,
          289,
          386,
          379,
          295,
          239,
          159,
          190,
          384,
          402,
          552,
          347,
          463,
          259,
          412,
          481,
          523,
          574,
          629,
          479,
          320,
          403,
          642,
          845,
          947,
          1071,
          1210,
          953,
          878,
          1367,
          1411,
          1462,
          1444,
          1365,
          996,
          978,
          1326,
          1397,
          1733,
          1694,
          1297,
          1108,
          1370,
          1434,
          1597,
          1616,
          1501,
          1458,
          1008
         ]
        },
        {
         "mode": "lines",
         "name": "Predetti",
         "type": "scatter",
         "x": [
          0,
          1,
          2,
          3,
          4,
          5,
          6,
          7,
          8,
          9,
          10,
          11,
          12,
          13,
          14,
          15,
          16,
          17,
          18,
          19,
          20,
          21,
          22,
          23,
          24,
          25,
          26,
          27,
          28,
          29,
          30,
          31,
          32,
          33,
          34,
          35,
          36,
          37,
          38,
          39,
          40,
          41,
          42,
          43,
          44,
          45,
          46,
          47,
          48,
          49,
          50,
          51,
          52,
          53,
          54,
          55,
          56,
          57,
          58,
          59,
          60,
          61,
          62,
          63,
          64,
          65,
          66,
          67,
          68,
          69,
          70,
          71,
          72,
          73,
          74,
          75,
          76,
          77,
          78,
          79,
          80,
          81,
          82,
          83,
          84,
          85,
          86,
          87,
          88,
          89,
          90,
          91,
          92,
          93,
          94,
          95,
          96,
          97,
          98,
          99,
          100,
          101,
          102,
          103,
          104,
          105,
          106,
          107,
          108,
          109,
          110,
          111,
          112,
          113,
          114,
          115,
          116,
          117,
          118,
          119,
          120,
          121,
          122,
          123,
          124,
          125,
          126,
          127,
          128,
          129,
          130,
          131,
          132,
          133,
          134,
          135,
          136,
          137,
          138,
          139,
          140,
          141,
          142,
          143,
          144,
          145,
          146,
          147,
          148,
          149,
          150,
          151,
          152,
          153,
          154,
          155,
          156,
          157,
          158,
          159,
          160,
          161,
          162,
          163,
          164,
          165,
          166,
          167,
          168,
          169,
          170,
          171,
          172,
          173,
          174,
          175,
          176,
          177,
          178,
          179,
          180,
          181,
          182,
          183,
          184,
          185,
          186,
          187,
          188,
          189,
          190,
          191,
          192,
          193,
          194,
          195,
          196,
          197,
          198,
          199,
          200,
          201,
          202,
          203
         ],
         "y": [
          141.5522748360621,
          180.1509732717749,
          227.18079095429857,
          283.86376728222024,
          351.4375651376413,
          431.11305668252294,
          524.0252624221675,
          631.1794617141704,
          753.3949239329477,
          891.2492161379146,
          1045.0263598010006,
          1214.672185314288,
          1399.7600407368218,
          1599.4695504699648,
          1812.5804193807235,
          2037.4823939869693,
          2272.201500595498,
          2514.4416679097358,
          2761.6398967065834,
          3011.0323407032047,
          3259.728072182512,
          3504.786961628539,
          3743.2980153359786,
          3972.454676829395,
          4189.623974140937,
          4392.406937392159,
          4578.688362838853,
          4746.674701610129,
          4894.9195485905075,
          5022.33685229042,
          5128.202524263397,
          5212.145573183734,
          5274.1302127392555,
          5314.430593567566,
          5333.599895852953,
          5332.435505577028,
          5311.941902397652,
          5273.292730928995,
          5217.793329936292,
          5146.84477406794,
          5061.910256190342,
          4964.484418019521,
          4856.066032263872,
          4738.134257518512,
          4612.128531527065,
          4479.432040754444,
          4341.358604165172,
          4199.142735080008,
          4053.932594405691,
          3906.7855183382635,
          3758.6657904688327,
          3610.4443288028997,
          3462.8999693718506,
          3316.7220470634347,
          3172.5139985343267,
          3030.7977395115595,
          2892.0185977278743,
          2756.5506118572375,
          2624.702035049646,
          2496.7209083475755,
          2372.800593859749,
          2253.0851798069198,
          2137.6746892976807,
          2026.6300419369363,
          1919.9777321718284,
          1817.7142008136725,
          1719.8098865633656,
          1626.2129529011145,
          1536.8526924753678,
          1451.6426164770091,
          1370.4832405065245,
          1293.2645814190037,
          1219.8683816556586,
          1150.170078864292,
          1084.0405392926186,
          1021.3475736163091,
          961.9572536560299,
          905.7350479487504,
          852.5467934303451,
          802.2595195946633,
          754.74214054615,
          709.8660293199355,
          667.5054877698421,
          627.5381242913718,
          589.8451505702105,
          554.3116075746075,
          520.8265300148341,
          489.2830576019769,
          459.5785005791113,
          431.61436621501343,
          405.29635218685144,
          380.53431215847377,
          357.24219818101847,
          335.33798404649133,
          314.7435731715814,
          295.38469415632426,
          277.1907867519767,
          260.09488058963325,
          244.03346871753456,
          228.94637768209213,
          214.77663564361865,
          201.4703397884441,
          188.9765240906272,
          177.24702830956085,
          166.23636895319214,
          155.90161279635504,
          146.20225344088976,
          137.1000912793097,
          128.5591171720007,
          120.54540002858266,
          113.02697846287629,
          105.97375660648686,
          99.35740413254825,
          93.15126050420804,
          87.33024341514101,
          81.8707613874576,
          76.75063044572016,
          71.94899477949366,
          67.44625130220084,
          63.22397797353915,
          59.26486578254844,
          55.55265425838297,
          74.79412104538642,
          124.23056926357094,
          126.24534176191082,
          128.72804581848322,
          131.67675297043752,
          135.09023887949297,
          138.9679083408555,
          143.30972126554116,
          148.11611958983121,
          153.38795511063654,
          159.12641822668957,
          165.3329676152789,
          172.0092608804407,
          179.15708620709484,
          186.77829510520678,
          194.87473631167086,
          203.44819095157436,
          212.5003090648097,
          222.03254761817516,
          232.0461101385008,
          242.54188809427433,
          253.5204041901161,
          264.9817577202921,
          276.92557213109103,
          289.35094497847604,
          302.2564004101732,
          315.63984436544706,
          329.4985226345307,
          343.82898193696747,
          358.62703416560544,
          373.8877239517751,
          389.6052996632352,
          405.7731879754574,
          422.3839721150289,
          439.4293738762208,
          456.9002394923591,
          474.7865294259973,
          493.07731212253566,
          511.76076177094365,
          530.8241600689944,
          550.2539019955439,
          570.0355055659893,
          590.1536255183164,
          610.5920708725171,
          631.3338262761827,
          652.3610770413943,
          673.6552377369371,
          695.1969842163962,
          716.966288915195,
          738.9424592457945,
          761.104178914451,
          783.4295519464649,
          805.8961492207891,
          828.4810572803544,
          851.1609291907516,
          873.9120372095495,
          896.710327007575,
          919.53147320071,
          942.350935928931,
          965.1440182313963,
          987.8859239504673,
          1010.5518159141648,
          1033.1168741430156,
          1055.5563538274728,
          1077.845642832457,
          1099.9603184977896,
          1121.876203492342,
          1143.5694205213804,
          1165.0164456540952,
          1186.1941600994323,
          1207.0799002186977,
          1227.6515056251083,
          1247.8873651963659,
          1267.7664608585765,
          1287.2684090206167,
          1306.3734995225677,
          1325.0627320266212,
          1343.3178497365443,
          1361.1213703928515,
          1378.4566144850687,
          1395.307730635628,
          1411.6597181358375,
          1427.4984466116293,
          1442.810672836029,
          1457.5840546837426,
          1471.80716226995,
          1485.4694863054901,
          1498.5614437137847,
          1511.0743805808597,
          1523.000572495337,
          1534.333222365065,
          1545.066455795255,
          1555.1953141180566,
          1564.7157451801468,
          1573.6245919860085,
          1581.919579317444,
          1589.5992984319455,
          1596.6631899703061,
          1603.1115251803421,
          1608.945385595085,
          1614.1666412718478,
          1618.777927727031,
          1622.7826216880349,
          1626.1848157818895,
          1628.9892922846484,
          1631.2014960479573,
          1632.8275067317882,
          1633.8740104340832,
          1634.3482708556694,
          1634.2581000930513,
          1633.6118291597813,
          1632.4182783537544,
          1630.6867275463883,
          1628.4268864988699,
          1625.648865285737,
          1622.3631449113018,
          1618.5805481923744,
          1614.3122109820833,
          1609.5695537999854,
          1604.3642539372086,
          1598.7082180805155,
          1592.6135555246146,
          1586.0925520072924,
          1579.1576442167861,
          1571.8213950073696,
          1564.096469359356,
          1555.995611112332,
          1547.5316204914707,
          1538.7173324603355,
          1529.5655959062278,
          1520.0892536726315,
          1510.3011234626174,
          1500.2139795972034,
          1489.8405356541625,
          1479.1934279736015,
          1468.2852000347339,
          1457.1282876975602,
          1445.7350053014234,
          1434.1175326126395,
          1422.2879026109586,
          1410.257990090875,
          1398.0395010870416,
          1385.6439630733803,
          1373.082715951139,
          1360.3669037837535,
          1347.5074672665796,
          1334.5151369125233,
          1321.400426929351,
          1308.1736297614407,
          1294.8448112788028,
          1281.4238065935788,
          1267.9202164626913,
          1254.3434042760637,
          1240.7024935865775,
          1227.0063661672175,
          1213.2636605717125,
          1199.4827711672406,
          1185.67184762354,
          1171.8387948306627,
          1157.991273219057,
          1144.1366994696436,
          1130.2822475748253,
          1116.434850249614,
          1102.6012006446836,
          1088.78775437054,
          1075.0007317849668,
          1061.246120542928,
          1047.5296783762751,
          1033.8569360998808,
          1020.2332008084632,
          1006.663559257111,
          993.1528814141639,
          979.7058241521008,
          966.3268350797007,
          953.0201564939343,
          939.7898294315673,
          926.63969781372
         ]
        },
        {
         "mode": "markers",
         "name": "Reali filtrati",
         "type": "scatter",
         "x": [
          0,
          1,
          2,
          3,
          4,
          5,
          6,
          7,
          8,
          9,
          10,
          11,
          12,
          13,
          14,
          15,
          16,
          17,
          18,
          19,
          20,
          21,
          22,
          23,
          24,
          25,
          26,
          27,
          28,
          29,
          30,
          31,
          32,
          33,
          34,
          35,
          36,
          37,
          38,
          39,
          40,
          41,
          42,
          43,
          44,
          45,
          46,
          47,
          48,
          49,
          50,
          51,
          52,
          53,
          54,
          55,
          56,
          57,
          58,
          59,
          60,
          61,
          62,
          63,
          64,
          65,
          66,
          67,
          68,
          69,
          70,
          71,
          72,
          73,
          74,
          75,
          76,
          77,
          78,
          79,
          80,
          81,
          82,
          83,
          84,
          85,
          86,
          87,
          88,
          89,
          90,
          91,
          92,
          93,
          94,
          95,
          96,
          97,
          98,
          99,
          100,
          101,
          102,
          103,
          104,
          105,
          106,
          107,
          108,
          109,
          110,
          111,
          112,
          113,
          114,
          115,
          116,
          117,
          118,
          119,
          120,
          121,
          122,
          123,
          124,
          125,
          126,
          127,
          128,
          129,
          130,
          131,
          132,
          133,
          134,
          135,
          136,
          137,
          138,
          139,
          140,
          141,
          142,
          143,
          144,
          145,
          146,
          147,
          148,
          149,
          150,
          151,
          152,
          153,
          154,
          155,
          156,
          157,
          158,
          159,
          160,
          161,
          162,
          163,
          164,
          165,
          166,
          167,
          168,
          169,
          170,
          171,
          172,
          173,
          174,
          175,
          176,
          177,
          178,
          179,
          180,
          181,
          182,
          183,
          184,
          185,
          186,
          187,
          188,
          189,
          190,
          191,
          192,
          193,
          194,
          195,
          196,
          197,
          198,
          199,
          200,
          201,
          202,
          203
         ],
         "y": [
          164.75,
          179.8,
          244.16666666666666,
          258.14285714285717,
          311.42857142857144,
          384.14285714285717,
          458.2857142857143,
          535.4285714285714,
          679.2857142857143,
          811.5714285714286,
          1019.4285714285714,
          1092.4285714285713,
          1339,
          1607.857142857143,
          1860.5714285714287,
          2182,
          2481.714285714286,
          2686.8571428571427,
          3051,
          3321.5714285714284,
          3703.1428571428573,
          4194.428571428572,
          4631.571428571428,
          4913,
          5135.285714285715,
          5381.428571428572,
          5524.714285714285,
          5643.428571428572,
          5639.571428571428,
          5556.285714285715,
          5507.285714285715,
          5401.714285714285,
          5230.857142857143,
          5169.714285714285,
          4957.571428571428,
          4761.285714285715,
          4594.285714285715,
          4465.571428571428,
          4401.142857142857,
          4256.285714285715,
          4121.142857142857,
          4054.8571428571427,
          3964.285714285714,
          3948.4285714285716,
          3916.4285714285716,
          3852.714285714286,
          3843.1428571428573,
          3676.1428571428573,
          3616.4285714285716,
          3551,
          3379.1428571428573,
          3229.8571428571427,
          3101.714285714286,
          3067,
          3167.4285714285716,
          3004.5714285714284,
          2937.1428571428573,
          2775.1428571428573,
          2671.8571428571427,
          2598,
          2506.8571428571427,
          2323.4285714285716,
          2212.8571428571427,
          2062,
          1996.7142857142858,
          1863.142857142857,
          1789.142857142857,
          1644,
          1552.2857142857142,
          1485,
          1393.857142857143,
          1277.142857142857,
          1193.2857142857142,
          1125.142857142857,
          1171.857142857143,
          1092.4285714285713,
          1034,
          957.1428571428571,
          927.4285714285714,
          909.2857142857143,
          867.4285714285714,
          783.2857142857143,
          751.4285714285714,
          701.4285714285714,
          681.8571428571429,
          652.4285714285714,
          631.8571428571429,
          610.2857142857143,
          550.8571428571429,
          539.2857142857143,
          532.2857142857143,
          512.8571428571429,
          476.7142857142857,
          451.57142857142856,
          434.14285714285717,
          422.85714285714283,
          385.2857142857143,
          325.85714285714283,
          326.14285714285717,
          305.2857142857143,
          282.7142857142857,
          297.2857142857143,
          292.2857142857143,
          275.2857142857143,
          304.14285714285717,
          253.42857142857142,
          264.2857142857143,
          284.42857142857144,
          287.7142857142857,
          277.2857142857143,
          295.42857142857144,
          288.85714285714283,
          301.42857142857144,
          289.42857142857144,
          273.14285714285717,
          261,
          248.42857142857142,
          228.57142857142858,
          223.28571428571428,
          224.42857142857142,
          212,
          204.85714285714286,
          191.71428571428572,
          194.57142857142858,
          194.14285714285714,
          180.57142857142858,
          175.42857142857142,
          184,
          186.57142857142858,
          198.28571428571428,
          197.71428571428572,
          198.57142857142858,
          202.57142857142858,
          210.14285714285714,
          203.42857142857142,
          209.42857142857142,
          203.85714285714286,
          200.42857142857142,
          196.14285714285714,
          196.28571428571428,
          190.14285714285714,
          198.85714285714286,
          196.71428571428572,
          199.71428571428572,
          201.85714285714286,
          218.85714285714286,
          229.71428571428572,
          232.42857142857142,
          236.14285714285714,
          241.28571428571428,
          238.42857142857142,
          250.28571428571428,
          251.28571428571428,
          262.7142857142857,
          280.85714285714283,
          283.7142857142857,
          281.42857142857144,
          279.85714285714283,
          276.7142857142857,
          290.2857142857143,
          292.57142857142856,
          317.2857142857143,
          324.7142857142857,
          356.7142857142857,
          371,
          402.7142857142857,
          416.57142857142856,
          433.85714285714283,
          437,
          477.2857142857143,
          479.57142857142856,
          488.2857142857143,
          487,
          510,
          556,
          609.2857142857143,
          672.4285714285714,
          776.8571428571429,
          867.2857142857143,
          935.1428571428571,
          1038.7142857142858,
          1119.5714285714287,
          1193.142857142857,
          1246.4285714285713,
          1268.5714285714287,
          1274.7142857142858,
          1289,
          1283.142857142857,
          1281.142857142857,
          1319.857142857143,
          1355.5714285714287,
          1345.857142857143,
          1361.857142857143,
          1417.857142857143,
          1433.2857142857142,
          1461.857142857143,
          1445.142857142857,
          1417.5714285714287,
          1440.5714285714287,
          1426.2857142857142,
          1435.6666666666667,
          1436,
          1395.75
         ]
        }
       ],
       "layout": {
        "template": {
         "data": {
          "bar": [
           {
            "error_x": {
             "color": "#2a3f5f"
            },
            "error_y": {
             "color": "#2a3f5f"
            },
            "marker": {
             "line": {
              "color": "#E5ECF6",
              "width": 0.5
             }
            },
            "type": "bar"
           }
          ],
          "barpolar": [
           {
            "marker": {
             "line": {
              "color": "#E5ECF6",
              "width": 0.5
             }
            },
            "type": "barpolar"
           }
          ],
          "carpet": [
           {
            "aaxis": {
             "endlinecolor": "#2a3f5f",
             "gridcolor": "white",
             "linecolor": "white",
             "minorgridcolor": "white",
             "startlinecolor": "#2a3f5f"
            },
            "baxis": {
             "endlinecolor": "#2a3f5f",
             "gridcolor": "white",
             "linecolor": "white",
             "minorgridcolor": "white",
             "startlinecolor": "#2a3f5f"
            },
            "type": "carpet"
           }
          ],
          "choropleth": [
           {
            "colorbar": {
             "outlinewidth": 0,
             "ticks": ""
            },
            "type": "choropleth"
           }
          ],
          "contour": [
           {
            "colorbar": {
             "outlinewidth": 0,
             "ticks": ""
            },
            "colorscale": [
             [
              0,
              "#0d0887"
             ],
             [
              0.1111111111111111,
              "#46039f"
             ],
             [
              0.2222222222222222,
              "#7201a8"
             ],
             [
              0.3333333333333333,
              "#9c179e"
             ],
             [
              0.4444444444444444,
              "#bd3786"
             ],
             [
              0.5555555555555556,
              "#d8576b"
             ],
             [
              0.6666666666666666,
              "#ed7953"
             ],
             [
              0.7777777777777778,
              "#fb9f3a"
             ],
             [
              0.8888888888888888,
              "#fdca26"
             ],
             [
              1,
              "#f0f921"
             ]
            ],
            "type": "contour"
           }
          ],
          "contourcarpet": [
           {
            "colorbar": {
             "outlinewidth": 0,
             "ticks": ""
            },
            "type": "contourcarpet"
           }
          ],
          "heatmap": [
           {
            "colorbar": {
             "outlinewidth": 0,
             "ticks": ""
            },
            "colorscale": [
             [
              0,
              "#0d0887"
             ],
             [
              0.1111111111111111,
              "#46039f"
             ],
             [
              0.2222222222222222,
              "#7201a8"
             ],
             [
              0.3333333333333333,
              "#9c179e"
             ],
             [
              0.4444444444444444,
              "#bd3786"
             ],
             [
              0.5555555555555556,
              "#d8576b"
             ],
             [
              0.6666666666666666,
              "#ed7953"
             ],
             [
              0.7777777777777778,
              "#fb9f3a"
             ],
             [
              0.8888888888888888,
              "#fdca26"
             ],
             [
              1,
              "#f0f921"
             ]
            ],
            "type": "heatmap"
           }
          ],
          "heatmapgl": [
           {
            "colorbar": {
             "outlinewidth": 0,
             "ticks": ""
            },
            "colorscale": [
             [
              0,
              "#0d0887"
             ],
             [
              0.1111111111111111,
              "#46039f"
             ],
             [
              0.2222222222222222,
              "#7201a8"
             ],
             [
              0.3333333333333333,
              "#9c179e"
             ],
             [
              0.4444444444444444,
              "#bd3786"
             ],
             [
              0.5555555555555556,
              "#d8576b"
             ],
             [
              0.6666666666666666,
              "#ed7953"
             ],
             [
              0.7777777777777778,
              "#fb9f3a"
             ],
             [
              0.8888888888888888,
              "#fdca26"
             ],
             [
              1,
              "#f0f921"
             ]
            ],
            "type": "heatmapgl"
           }
          ],
          "histogram": [
           {
            "marker": {
             "colorbar": {
              "outlinewidth": 0,
              "ticks": ""
             }
            },
            "type": "histogram"
           }
          ],
          "histogram2d": [
           {
            "colorbar": {
             "outlinewidth": 0,
             "ticks": ""
            },
            "colorscale": [
             [
              0,
              "#0d0887"
             ],
             [
              0.1111111111111111,
              "#46039f"
             ],
             [
              0.2222222222222222,
              "#7201a8"
             ],
             [
              0.3333333333333333,
              "#9c179e"
             ],
             [
              0.4444444444444444,
              "#bd3786"
             ],
             [
              0.5555555555555556,
              "#d8576b"
             ],
             [
              0.6666666666666666,
              "#ed7953"
             ],
             [
              0.7777777777777778,
              "#fb9f3a"
             ],
             [
              0.8888888888888888,
              "#fdca26"
             ],
             [
              1,
              "#f0f921"
             ]
            ],
            "type": "histogram2d"
           }
          ],
          "histogram2dcontour": [
           {
            "colorbar": {
             "outlinewidth": 0,
             "ticks": ""
            },
            "colorscale": [
             [
              0,
              "#0d0887"
             ],
             [
              0.1111111111111111,
              "#46039f"
             ],
             [
              0.2222222222222222,
              "#7201a8"
             ],
             [
              0.3333333333333333,
              "#9c179e"
             ],
             [
              0.4444444444444444,
              "#bd3786"
             ],
             [
              0.5555555555555556,
              "#d8576b"
             ],
             [
              0.6666666666666666,
              "#ed7953"
             ],
             [
              0.7777777777777778,
              "#fb9f3a"
             ],
             [
              0.8888888888888888,
              "#fdca26"
             ],
             [
              1,
              "#f0f921"
             ]
            ],
            "type": "histogram2dcontour"
           }
          ],
          "mesh3d": [
           {
            "colorbar": {
             "outlinewidth": 0,
             "ticks": ""
            },
            "type": "mesh3d"
           }
          ],
          "parcoords": [
           {
            "line": {
             "colorbar": {
              "outlinewidth": 0,
              "ticks": ""
             }
            },
            "type": "parcoords"
           }
          ],
          "pie": [
           {
            "automargin": true,
            "type": "pie"
           }
          ],
          "scatter": [
           {
            "marker": {
             "colorbar": {
              "outlinewidth": 0,
              "ticks": ""
             }
            },
            "type": "scatter"
           }
          ],
          "scatter3d": [
           {
            "line": {
             "colorbar": {
              "outlinewidth": 0,
              "ticks": ""
             }
            },
            "marker": {
             "colorbar": {
              "outlinewidth": 0,
              "ticks": ""
             }
            },
            "type": "scatter3d"
           }
          ],
          "scattercarpet": [
           {
            "marker": {
             "colorbar": {
              "outlinewidth": 0,
              "ticks": ""
             }
            },
            "type": "scattercarpet"
           }
          ],
          "scattergeo": [
           {
            "marker": {
             "colorbar": {
              "outlinewidth": 0,
              "ticks": ""
             }
            },
            "type": "scattergeo"
           }
          ],
          "scattergl": [
           {
            "marker": {
             "colorbar": {
              "outlinewidth": 0,
              "ticks": ""
             }
            },
            "type": "scattergl"
           }
          ],
          "scattermapbox": [
           {
            "marker": {
             "colorbar": {
              "outlinewidth": 0,
              "ticks": ""
             }
            },
            "type": "scattermapbox"
           }
          ],
          "scatterpolar": [
           {
            "marker": {
             "colorbar": {
              "outlinewidth": 0,
              "ticks": ""
             }
            },
            "type": "scatterpolar"
           }
          ],
          "scatterpolargl": [
           {
            "marker": {
             "colorbar": {
              "outlinewidth": 0,
              "ticks": ""
             }
            },
            "type": "scatterpolargl"
           }
          ],
          "scatterternary": [
           {
            "marker": {
             "colorbar": {
              "outlinewidth": 0,
              "ticks": ""
             }
            },
            "type": "scatterternary"
           }
          ],
          "surface": [
           {
            "colorbar": {
             "outlinewidth": 0,
             "ticks": ""
            },
            "colorscale": [
             [
              0,
              "#0d0887"
             ],
             [
              0.1111111111111111,
              "#46039f"
             ],
             [
              0.2222222222222222,
              "#7201a8"
             ],
             [
              0.3333333333333333,
              "#9c179e"
             ],
             [
              0.4444444444444444,
              "#bd3786"
             ],
             [
              0.5555555555555556,
              "#d8576b"
             ],
             [
              0.6666666666666666,
              "#ed7953"
             ],
             [
              0.7777777777777778,
              "#fb9f3a"
             ],
             [
              0.8888888888888888,
              "#fdca26"
             ],
             [
              1,
              "#f0f921"
             ]
            ],
            "type": "surface"
           }
          ],
          "table": [
           {
            "cells": {
             "fill": {
              "color": "#EBF0F8"
             },
             "line": {
              "color": "white"
             }
            },
            "header": {
             "fill": {
              "color": "#C8D4E3"
             },
             "line": {
              "color": "white"
             }
            },
            "type": "table"
           }
          ]
         },
         "layout": {
          "annotationdefaults": {
           "arrowcolor": "#2a3f5f",
           "arrowhead": 0,
           "arrowwidth": 1
          },
          "coloraxis": {
           "colorbar": {
            "outlinewidth": 0,
            "ticks": ""
           }
          },
          "colorscale": {
           "diverging": [
            [
             0,
             "#8e0152"
            ],
            [
             0.1,
             "#c51b7d"
            ],
            [
             0.2,
             "#de77ae"
            ],
            [
             0.3,
             "#f1b6da"
            ],
            [
             0.4,
             "#fde0ef"
            ],
            [
             0.5,
             "#f7f7f7"
            ],
            [
             0.6,
             "#e6f5d0"
            ],
            [
             0.7,
             "#b8e186"
            ],
            [
             0.8,
             "#7fbc41"
            ],
            [
             0.9,
             "#4d9221"
            ],
            [
             1,
             "#276419"
            ]
           ],
           "sequential": [
            [
             0,
             "#0d0887"
            ],
            [
             0.1111111111111111,
             "#46039f"
            ],
            [
             0.2222222222222222,
             "#7201a8"
            ],
            [
             0.3333333333333333,
             "#9c179e"
            ],
            [
             0.4444444444444444,
             "#bd3786"
            ],
            [
             0.5555555555555556,
             "#d8576b"
            ],
            [
             0.6666666666666666,
             "#ed7953"
            ],
            [
             0.7777777777777778,
             "#fb9f3a"
            ],
            [
             0.8888888888888888,
             "#fdca26"
            ],
            [
             1,
             "#f0f921"
            ]
           ],
           "sequentialminus": [
            [
             0,
             "#0d0887"
            ],
            [
             0.1111111111111111,
             "#46039f"
            ],
            [
             0.2222222222222222,
             "#7201a8"
            ],
            [
             0.3333333333333333,
             "#9c179e"
            ],
            [
             0.4444444444444444,
             "#bd3786"
            ],
            [
             0.5555555555555556,
             "#d8576b"
            ],
            [
             0.6666666666666666,
             "#ed7953"
            ],
            [
             0.7777777777777778,
             "#fb9f3a"
            ],
            [
             0.8888888888888888,
             "#fdca26"
            ],
            [
             1,
             "#f0f921"
            ]
           ]
          },
          "colorway": [
           "#636efa",
           "#EF553B",
           "#00cc96",
           "#ab63fa",
           "#FFA15A",
           "#19d3f3",
           "#FF6692",
           "#B6E880",
           "#FF97FF",
           "#FECB52"
          ],
          "font": {
           "color": "#2a3f5f"
          },
          "geo": {
           "bgcolor": "white",
           "lakecolor": "white",
           "landcolor": "#E5ECF6",
           "showlakes": true,
           "showland": true,
           "subunitcolor": "white"
          },
          "hoverlabel": {
           "align": "left"
          },
          "hovermode": "closest",
          "mapbox": {
           "style": "light"
          },
          "paper_bgcolor": "white",
          "plot_bgcolor": "#E5ECF6",
          "polar": {
           "angularaxis": {
            "gridcolor": "white",
            "linecolor": "white",
            "ticks": ""
           },
           "bgcolor": "#E5ECF6",
           "radialaxis": {
            "gridcolor": "white",
            "linecolor": "white",
            "ticks": ""
           }
          },
          "scene": {
           "xaxis": {
            "backgroundcolor": "#E5ECF6",
            "gridcolor": "white",
            "gridwidth": 2,
            "linecolor": "white",
            "showbackground": true,
            "ticks": "",
            "zerolinecolor": "white"
           },
           "yaxis": {
            "backgroundcolor": "#E5ECF6",
            "gridcolor": "white",
            "gridwidth": 2,
            "linecolor": "white",
            "showbackground": true,
            "ticks": "",
            "zerolinecolor": "white"
           },
           "zaxis": {
            "backgroundcolor": "#E5ECF6",
            "gridcolor": "white",
            "gridwidth": 2,
            "linecolor": "white",
            "showbackground": true,
            "ticks": "",
            "zerolinecolor": "white"
           }
          },
          "shapedefaults": {
           "line": {
            "color": "#2a3f5f"
           }
          },
          "ternary": {
           "aaxis": {
            "gridcolor": "white",
            "linecolor": "white",
            "ticks": ""
           },
           "baxis": {
            "gridcolor": "white",
            "linecolor": "white",
            "ticks": ""
           },
           "bgcolor": "#E5ECF6",
           "caxis": {
            "gridcolor": "white",
            "linecolor": "white",
            "ticks": ""
           }
          },
          "title": {
           "x": 0.05
          },
          "xaxis": {
           "automargin": true,
           "gridcolor": "white",
           "linecolor": "white",
           "ticks": "",
           "title": {
            "standoff": 15
           },
           "zerolinecolor": "white",
           "zerolinewidth": 2
          },
          "yaxis": {
           "automargin": true,
           "gridcolor": "white",
           "linecolor": "white",
           "ticks": "",
           "title": {
            "standoff": 15
           },
           "zerolinecolor": "white",
           "zerolinewidth": 2
          }
         }
        },
        "title": {
         "text": "Nuovi contagi"
        },
        "xaxis": {
         "tickmode": "array",
         "ticktext": [
          "2020-02-24",
          "2020-03-02",
          "2020-03-09",
          "2020-03-16",
          "2020-03-23",
          "2020-03-30",
          "2020-04-06",
          "2020-04-13",
          "2020-04-20",
          "2020-04-27",
          "2020-05-04",
          "2020-05-11",
          "2020-05-18",
          "2020-05-25",
          "2020-06-01",
          "2020-06-08",
          "2020-06-15",
          "2020-06-22",
          "2020-06-29",
          "2020-07-06",
          "2020-07-13",
          "2020-07-20",
          "2020-07-27",
          "2020-08-03",
          "2020-08-10",
          "2020-08-17",
          "2020-08-24",
          "2020-08-31",
          "2020-09-07",
          "2020-09-14"
         ],
         "tickvals": [
          0,
          7,
          14,
          21,
          28,
          35,
          42,
          49,
          56,
          63,
          70,
          77,
          84,
          91,
          98,
          105,
          112,
          119,
          126,
          133,
          140,
          147,
          154,
          161,
          168,
          175,
          182,
          189,
          196,
          203
         ]
        }
       }
      },
      "text/html": [
       "<div>\n",
       "        \n",
       "        \n",
       "            <div id=\"58a5aef7-325b-415f-bf19-2180c7398750\" class=\"plotly-graph-div\" style=\"height:525px; width:100%;\"></div>\n",
       "            <script type=\"text/javascript\">\n",
       "                require([\"plotly\"], function(Plotly) {\n",
       "                    window.PLOTLYENV=window.PLOTLYENV || {};\n",
       "                    \n",
       "                if (document.getElementById(\"58a5aef7-325b-415f-bf19-2180c7398750\")) {\n",
       "                    Plotly.newPlot(\n",
       "                        '58a5aef7-325b-415f-bf19-2180c7398750',\n",
       "                        [{\"mode\": \"markers\", \"name\": \"Reali\", \"type\": \"scatter\", \"x\": [0, 1, 2, 3, 4, 5, 6, 7, 8, 9, 10, 11, 12, 13, 14, 15, 16, 17, 18, 19, 20, 21, 22, 23, 24, 25, 26, 27, 28, 29, 30, 31, 32, 33, 34, 35, 36, 37, 38, 39, 40, 41, 42, 43, 44, 45, 46, 47, 48, 49, 50, 51, 52, 53, 54, 55, 56, 57, 58, 59, 60, 61, 62, 63, 64, 65, 66, 67, 68, 69, 70, 71, 72, 73, 74, 75, 76, 77, 78, 79, 80, 81, 82, 83, 84, 85, 86, 87, 88, 89, 90, 91, 92, 93, 94, 95, 96, 97, 98, 99, 100, 101, 102, 103, 104, 105, 106, 107, 108, 109, 110, 111, 112, 113, 114, 115, 116, 117, 118, 119, 120, 121, 122, 123, 124, 125, 126, 127, 128, 129, 130, 131, 132, 133, 134, 135, 136, 137, 138, 139, 140, 141, 142, 143, 144, 145, 146, 147, 148, 149, 150, 151, 152, 153, 154, 155, 156, 157, 158, 159, 160, 161, 162, 163, 164, 165, 166, 167, 168, 169, 170, 171, 172, 173, 174, 175, 176, 177, 178, 179, 180, 181, 182, 183, 184, 185, 186, 187, 188, 189, 190, 191, 192, 193, 194, 195, 196, 197, 198, 199, 200, 201, 202, 203], \"y\": [93.0, 78.0, 250.0, 238.0, 240.0, 566.0, 342.0, 466.0, 587.0, 769.0, 778.0, 1247.0, 1492.0, 1797.0, 977.0, 2313.0, 2651.0, 2547.0, 3497.0, 3590.0, 3233.0, 3526.0, 4207.0, 5322.0, 5986.0, 6557.0, 5560.0, 4789.0, 5249.0, 5210.0, 6153.0, 5959.0, 5974.0, 5217.0, 4050.0, 4053.0, 4782.0, 4668.0, 4585.0, 4805.0, 4316.0, 3599.0, 3039.0, 3836.0, 4204.0, 3951.0, 4694.0, 4092.0, 3153.0, 2972.0, 2667.0, 3786.0, 3493.0, 3491.0, 3047.0, 2256.0, 2729.0, 3370.0, 2646.0, 3021.0, 2357.0, 2324.0, 1739.0, 2091.0, 2086.0, 1872.0, 1965.0, 1900.0, 1389.0, 1221.0, 1075.0, 1444.0, 1401.0, 1327.0, 1083.0, 802.0, 744.0, 1402.0, 888.0, 992.0, 789.0, 875.0, 675.0, 451.0, 813.0, 665.0, 642.0, 652.0, 669.0, 531.0, 300.0, 397.0, 584.0, 593.0, 516.0, 416.0, 355.0, 178.0, 318.0, 321.0, 177.0, 518.0, 270.0, 197.0, 280.0, 283.0, 202.0, 379.0, 163.0, 346.0, 338.0, 303.0, 210.0, 329.0, 333.0, 251.0, 262.0, 224.0, 218.0, 122.0, 190.0, 296.0, 259.0, 175.0, 174.0, 126.0, 142.0, 187.0, 201.0, 223.0, 235.0, 192.0, 208.0, 138.0, 193.0, 229.0, 276.0, 188.0, 234.0, 169.0, 114.0, 163.0, 230.0, 233.0, 249.0, 219.0, 190.0, 129.0, 282.0, 306.0, 252.0, 275.0, 255.0, 170.0, 212.0, 289.0, 386.0, 379.0, 295.0, 239.0, 159.0, 190.0, 384.0, 402.0, 552.0, 347.0, 463.0, 259.0, 412.0, 481.0, 523.0, 574.0, 629.0, 479.0, 320.0, 403.0, 642.0, 845.0, 947.0, 1071.0, 1210.0, 953.0, 878.0, 1367.0, 1411.0, 1462.0, 1444.0, 1365.0, 996.0, 978.0, 1326.0, 1397.0, 1733.0, 1694.0, 1297.0, 1108.0, 1370.0, 1434.0, 1597.0, 1616.0, 1501.0, 1458.0, 1008.0]}, {\"mode\": \"lines\", \"name\": \"Predetti\", \"type\": \"scatter\", \"x\": [0, 1, 2, 3, 4, 5, 6, 7, 8, 9, 10, 11, 12, 13, 14, 15, 16, 17, 18, 19, 20, 21, 22, 23, 24, 25, 26, 27, 28, 29, 30, 31, 32, 33, 34, 35, 36, 37, 38, 39, 40, 41, 42, 43, 44, 45, 46, 47, 48, 49, 50, 51, 52, 53, 54, 55, 56, 57, 58, 59, 60, 61, 62, 63, 64, 65, 66, 67, 68, 69, 70, 71, 72, 73, 74, 75, 76, 77, 78, 79, 80, 81, 82, 83, 84, 85, 86, 87, 88, 89, 90, 91, 92, 93, 94, 95, 96, 97, 98, 99, 100, 101, 102, 103, 104, 105, 106, 107, 108, 109, 110, 111, 112, 113, 114, 115, 116, 117, 118, 119, 120, 121, 122, 123, 124, 125, 126, 127, 128, 129, 130, 131, 132, 133, 134, 135, 136, 137, 138, 139, 140, 141, 142, 143, 144, 145, 146, 147, 148, 149, 150, 151, 152, 153, 154, 155, 156, 157, 158, 159, 160, 161, 162, 163, 164, 165, 166, 167, 168, 169, 170, 171, 172, 173, 174, 175, 176, 177, 178, 179, 180, 181, 182, 183, 184, 185, 186, 187, 188, 189, 190, 191, 192, 193, 194, 195, 196, 197, 198, 199, 200, 201, 202, 203], \"y\": [141.5522748360621, 180.1509732717749, 227.18079095429857, 283.86376728222024, 351.4375651376413, 431.11305668252294, 524.0252624221675, 631.1794617141704, 753.3949239329477, 891.2492161379146, 1045.0263598010006, 1214.672185314288, 1399.7600407368218, 1599.4695504699648, 1812.5804193807235, 2037.4823939869693, 2272.201500595498, 2514.4416679097358, 2761.6398967065834, 3011.0323407032047, 3259.728072182512, 3504.786961628539, 3743.2980153359786, 3972.454676829395, 4189.623974140937, 4392.406937392159, 4578.688362838853, 4746.674701610129, 4894.9195485905075, 5022.33685229042, 5128.202524263397, 5212.145573183734, 5274.1302127392555, 5314.430593567566, 5333.599895852953, 5332.435505577028, 5311.941902397652, 5273.292730928995, 5217.793329936292, 5146.84477406794, 5061.910256190342, 4964.484418019521, 4856.066032263872, 4738.134257518512, 4612.128531527065, 4479.432040754444, 4341.358604165172, 4199.142735080008, 4053.932594405691, 3906.7855183382635, 3758.6657904688327, 3610.4443288028997, 3462.8999693718506, 3316.7220470634347, 3172.5139985343267, 3030.7977395115595, 2892.0185977278743, 2756.5506118572375, 2624.702035049646, 2496.7209083475755, 2372.800593859749, 2253.0851798069198, 2137.6746892976807, 2026.6300419369363, 1919.9777321718284, 1817.7142008136725, 1719.8098865633656, 1626.2129529011145, 1536.8526924753678, 1451.6426164770091, 1370.4832405065245, 1293.2645814190037, 1219.8683816556586, 1150.170078864292, 1084.0405392926186, 1021.3475736163091, 961.9572536560299, 905.7350479487504, 852.5467934303451, 802.2595195946633, 754.74214054615, 709.8660293199355, 667.5054877698421, 627.5381242913718, 589.8451505702105, 554.3116075746075, 520.8265300148341, 489.2830576019769, 459.5785005791113, 431.61436621501343, 405.29635218685144, 380.53431215847377, 357.24219818101847, 335.33798404649133, 314.7435731715814, 295.38469415632426, 277.1907867519767, 260.09488058963325, 244.03346871753456, 228.94637768209213, 214.77663564361865, 201.4703397884441, 188.9765240906272, 177.24702830956085, 166.23636895319214, 155.90161279635504, 146.20225344088976, 137.1000912793097, 128.5591171720007, 120.54540002858266, 113.02697846287629, 105.97375660648686, 99.35740413254825, 93.15126050420804, 87.33024341514101, 81.8707613874576, 76.75063044572016, 71.94899477949366, 67.44625130220084, 63.22397797353915, 59.26486578254844, 55.55265425838297, 74.79412104538642, 124.23056926357094, 126.24534176191082, 128.72804581848322, 131.67675297043752, 135.09023887949297, 138.9679083408555, 143.30972126554116, 148.11611958983121, 153.38795511063654, 159.12641822668957, 165.3329676152789, 172.0092608804407, 179.15708620709484, 186.77829510520678, 194.87473631167086, 203.44819095157436, 212.5003090648097, 222.03254761817516, 232.0461101385008, 242.54188809427433, 253.5204041901161, 264.9817577202921, 276.92557213109103, 289.35094497847604, 302.2564004101732, 315.63984436544706, 329.4985226345307, 343.82898193696747, 358.62703416560544, 373.8877239517751, 389.6052996632352, 405.7731879754574, 422.3839721150289, 439.4293738762208, 456.9002394923591, 474.7865294259973, 493.07731212253566, 511.76076177094365, 530.8241600689944, 550.2539019955439, 570.0355055659893, 590.1536255183164, 610.5920708725171, 631.3338262761827, 652.3610770413943, 673.6552377369371, 695.1969842163962, 716.966288915195, 738.9424592457945, 761.104178914451, 783.4295519464649, 805.8961492207891, 828.4810572803544, 851.1609291907516, 873.9120372095495, 896.710327007575, 919.53147320071, 942.350935928931, 965.1440182313963, 987.8859239504673, 1010.5518159141648, 1033.1168741430156, 1055.5563538274728, 1077.845642832457, 1099.9603184977896, 1121.876203492342, 1143.5694205213804, 1165.0164456540952, 1186.1941600994323, 1207.0799002186977, 1227.6515056251083, 1247.8873651963659, 1267.7664608585765, 1287.2684090206167, 1306.3734995225677, 1325.0627320266212, 1343.3178497365443, 1361.1213703928515, 1378.4566144850687, 1395.307730635628, 1411.6597181358375, 1427.4984466116293, 1442.810672836029, 1457.5840546837426, 1471.80716226995, 1485.4694863054901, 1498.5614437137847, 1511.0743805808597, 1523.000572495337, 1534.333222365065, 1545.066455795255, 1555.1953141180566, 1564.7157451801468, 1573.6245919860085, 1581.919579317444, 1589.5992984319455, 1596.6631899703061, 1603.1115251803421, 1608.945385595085, 1614.1666412718478, 1618.777927727031, 1622.7826216880349, 1626.1848157818895, 1628.9892922846484, 1631.2014960479573, 1632.8275067317882, 1633.8740104340832, 1634.3482708556694, 1634.2581000930513, 1633.6118291597813, 1632.4182783537544, 1630.6867275463883, 1628.4268864988699, 1625.648865285737, 1622.3631449113018, 1618.5805481923744, 1614.3122109820833, 1609.5695537999854, 1604.3642539372086, 1598.7082180805155, 1592.6135555246146, 1586.0925520072924, 1579.1576442167861, 1571.8213950073696, 1564.096469359356, 1555.995611112332, 1547.5316204914707, 1538.7173324603355, 1529.5655959062278, 1520.0892536726315, 1510.3011234626174, 1500.2139795972034, 1489.8405356541625, 1479.1934279736015, 1468.2852000347339, 1457.1282876975602, 1445.7350053014234, 1434.1175326126395, 1422.2879026109586, 1410.257990090875, 1398.0395010870416, 1385.6439630733803, 1373.082715951139, 1360.3669037837535, 1347.5074672665796, 1334.5151369125233, 1321.400426929351, 1308.1736297614407, 1294.8448112788028, 1281.4238065935788, 1267.9202164626913, 1254.3434042760637, 1240.7024935865775, 1227.0063661672175, 1213.2636605717125, 1199.4827711672406, 1185.67184762354, 1171.8387948306627, 1157.991273219057, 1144.1366994696436, 1130.2822475748253, 1116.434850249614, 1102.6012006446836, 1088.78775437054, 1075.0007317849668, 1061.246120542928, 1047.5296783762751, 1033.8569360998808, 1020.2332008084632, 1006.663559257111, 993.1528814141639, 979.7058241521008, 966.3268350797007, 953.0201564939343, 939.7898294315673, 926.63969781372]}, {\"mode\": \"markers\", \"name\": \"Reali filtrati\", \"type\": \"scatter\", \"x\": [0, 1, 2, 3, 4, 5, 6, 7, 8, 9, 10, 11, 12, 13, 14, 15, 16, 17, 18, 19, 20, 21, 22, 23, 24, 25, 26, 27, 28, 29, 30, 31, 32, 33, 34, 35, 36, 37, 38, 39, 40, 41, 42, 43, 44, 45, 46, 47, 48, 49, 50, 51, 52, 53, 54, 55, 56, 57, 58, 59, 60, 61, 62, 63, 64, 65, 66, 67, 68, 69, 70, 71, 72, 73, 74, 75, 76, 77, 78, 79, 80, 81, 82, 83, 84, 85, 86, 87, 88, 89, 90, 91, 92, 93, 94, 95, 96, 97, 98, 99, 100, 101, 102, 103, 104, 105, 106, 107, 108, 109, 110, 111, 112, 113, 114, 115, 116, 117, 118, 119, 120, 121, 122, 123, 124, 125, 126, 127, 128, 129, 130, 131, 132, 133, 134, 135, 136, 137, 138, 139, 140, 141, 142, 143, 144, 145, 146, 147, 148, 149, 150, 151, 152, 153, 154, 155, 156, 157, 158, 159, 160, 161, 162, 163, 164, 165, 166, 167, 168, 169, 170, 171, 172, 173, 174, 175, 176, 177, 178, 179, 180, 181, 182, 183, 184, 185, 186, 187, 188, 189, 190, 191, 192, 193, 194, 195, 196, 197, 198, 199, 200, 201, 202, 203], \"y\": [164.75, 179.8, 244.16666666666666, 258.14285714285717, 311.42857142857144, 384.14285714285717, 458.2857142857143, 535.4285714285714, 679.2857142857143, 811.5714285714286, 1019.4285714285714, 1092.4285714285713, 1339.0, 1607.857142857143, 1860.5714285714287, 2182.0, 2481.714285714286, 2686.8571428571427, 3051.0, 3321.5714285714284, 3703.1428571428573, 4194.428571428572, 4631.571428571428, 4913.0, 5135.285714285715, 5381.428571428572, 5524.714285714285, 5643.428571428572, 5639.571428571428, 5556.285714285715, 5507.285714285715, 5401.714285714285, 5230.857142857143, 5169.714285714285, 4957.571428571428, 4761.285714285715, 4594.285714285715, 4465.571428571428, 4401.142857142857, 4256.285714285715, 4121.142857142857, 4054.8571428571427, 3964.285714285714, 3948.4285714285716, 3916.4285714285716, 3852.714285714286, 3843.1428571428573, 3676.1428571428573, 3616.4285714285716, 3551.0, 3379.1428571428573, 3229.8571428571427, 3101.714285714286, 3067.0, 3167.4285714285716, 3004.5714285714284, 2937.1428571428573, 2775.1428571428573, 2671.8571428571427, 2598.0, 2506.8571428571427, 2323.4285714285716, 2212.8571428571427, 2062.0, 1996.7142857142858, 1863.142857142857, 1789.142857142857, 1644.0, 1552.2857142857142, 1485.0, 1393.857142857143, 1277.142857142857, 1193.2857142857142, 1125.142857142857, 1171.857142857143, 1092.4285714285713, 1034.0, 957.1428571428571, 927.4285714285714, 909.2857142857143, 867.4285714285714, 783.2857142857143, 751.4285714285714, 701.4285714285714, 681.8571428571429, 652.4285714285714, 631.8571428571429, 610.2857142857143, 550.8571428571429, 539.2857142857143, 532.2857142857143, 512.8571428571429, 476.7142857142857, 451.57142857142856, 434.14285714285717, 422.85714285714283, 385.2857142857143, 325.85714285714283, 326.14285714285717, 305.2857142857143, 282.7142857142857, 297.2857142857143, 292.2857142857143, 275.2857142857143, 304.14285714285717, 253.42857142857142, 264.2857142857143, 284.42857142857144, 287.7142857142857, 277.2857142857143, 295.42857142857144, 288.85714285714283, 301.42857142857144, 289.42857142857144, 273.14285714285717, 261.0, 248.42857142857142, 228.57142857142858, 223.28571428571428, 224.42857142857142, 212.0, 204.85714285714286, 191.71428571428572, 194.57142857142858, 194.14285714285714, 180.57142857142858, 175.42857142857142, 184.0, 186.57142857142858, 198.28571428571428, 197.71428571428572, 198.57142857142858, 202.57142857142858, 210.14285714285714, 203.42857142857142, 209.42857142857142, 203.85714285714286, 200.42857142857142, 196.14285714285714, 196.28571428571428, 190.14285714285714, 198.85714285714286, 196.71428571428572, 199.71428571428572, 201.85714285714286, 218.85714285714286, 229.71428571428572, 232.42857142857142, 236.14285714285714, 241.28571428571428, 238.42857142857142, 250.28571428571428, 251.28571428571428, 262.7142857142857, 280.85714285714283, 283.7142857142857, 281.42857142857144, 279.85714285714283, 276.7142857142857, 290.2857142857143, 292.57142857142856, 317.2857142857143, 324.7142857142857, 356.7142857142857, 371.0, 402.7142857142857, 416.57142857142856, 433.85714285714283, 437.0, 477.2857142857143, 479.57142857142856, 488.2857142857143, 487.0, 510.0, 556.0, 609.2857142857143, 672.4285714285714, 776.8571428571429, 867.2857142857143, 935.1428571428571, 1038.7142857142858, 1119.5714285714287, 1193.142857142857, 1246.4285714285713, 1268.5714285714287, 1274.7142857142858, 1289.0, 1283.142857142857, 1281.142857142857, 1319.857142857143, 1355.5714285714287, 1345.857142857143, 1361.857142857143, 1417.857142857143, 1433.2857142857142, 1461.857142857143, 1445.142857142857, 1417.5714285714287, 1440.5714285714287, 1426.2857142857142, 1435.6666666666667, 1436.0, 1395.75]}],\n",
       "                        {\"template\": {\"data\": {\"bar\": [{\"error_x\": {\"color\": \"#2a3f5f\"}, \"error_y\": {\"color\": \"#2a3f5f\"}, \"marker\": {\"line\": {\"color\": \"#E5ECF6\", \"width\": 0.5}}, \"type\": \"bar\"}], \"barpolar\": [{\"marker\": {\"line\": {\"color\": \"#E5ECF6\", \"width\": 0.5}}, \"type\": \"barpolar\"}], \"carpet\": [{\"aaxis\": {\"endlinecolor\": \"#2a3f5f\", \"gridcolor\": \"white\", \"linecolor\": \"white\", \"minorgridcolor\": \"white\", \"startlinecolor\": \"#2a3f5f\"}, \"baxis\": {\"endlinecolor\": \"#2a3f5f\", \"gridcolor\": \"white\", \"linecolor\": \"white\", \"minorgridcolor\": \"white\", \"startlinecolor\": \"#2a3f5f\"}, \"type\": \"carpet\"}], \"choropleth\": [{\"colorbar\": {\"outlinewidth\": 0, \"ticks\": \"\"}, \"type\": \"choropleth\"}], \"contour\": [{\"colorbar\": {\"outlinewidth\": 0, \"ticks\": \"\"}, \"colorscale\": [[0.0, \"#0d0887\"], [0.1111111111111111, \"#46039f\"], [0.2222222222222222, \"#7201a8\"], [0.3333333333333333, \"#9c179e\"], [0.4444444444444444, \"#bd3786\"], [0.5555555555555556, \"#d8576b\"], [0.6666666666666666, \"#ed7953\"], [0.7777777777777778, \"#fb9f3a\"], [0.8888888888888888, \"#fdca26\"], [1.0, \"#f0f921\"]], \"type\": \"contour\"}], \"contourcarpet\": [{\"colorbar\": {\"outlinewidth\": 0, \"ticks\": \"\"}, \"type\": \"contourcarpet\"}], \"heatmap\": [{\"colorbar\": {\"outlinewidth\": 0, \"ticks\": \"\"}, \"colorscale\": [[0.0, \"#0d0887\"], [0.1111111111111111, \"#46039f\"], [0.2222222222222222, \"#7201a8\"], [0.3333333333333333, \"#9c179e\"], [0.4444444444444444, \"#bd3786\"], [0.5555555555555556, \"#d8576b\"], [0.6666666666666666, \"#ed7953\"], [0.7777777777777778, \"#fb9f3a\"], [0.8888888888888888, \"#fdca26\"], [1.0, \"#f0f921\"]], \"type\": \"heatmap\"}], \"heatmapgl\": [{\"colorbar\": {\"outlinewidth\": 0, \"ticks\": \"\"}, \"colorscale\": [[0.0, \"#0d0887\"], [0.1111111111111111, \"#46039f\"], [0.2222222222222222, \"#7201a8\"], [0.3333333333333333, \"#9c179e\"], [0.4444444444444444, \"#bd3786\"], [0.5555555555555556, \"#d8576b\"], [0.6666666666666666, \"#ed7953\"], [0.7777777777777778, \"#fb9f3a\"], [0.8888888888888888, \"#fdca26\"], [1.0, \"#f0f921\"]], \"type\": \"heatmapgl\"}], \"histogram\": [{\"marker\": {\"colorbar\": {\"outlinewidth\": 0, \"ticks\": \"\"}}, \"type\": \"histogram\"}], \"histogram2d\": [{\"colorbar\": {\"outlinewidth\": 0, \"ticks\": \"\"}, \"colorscale\": [[0.0, \"#0d0887\"], [0.1111111111111111, \"#46039f\"], [0.2222222222222222, \"#7201a8\"], [0.3333333333333333, \"#9c179e\"], [0.4444444444444444, \"#bd3786\"], [0.5555555555555556, \"#d8576b\"], [0.6666666666666666, \"#ed7953\"], [0.7777777777777778, \"#fb9f3a\"], [0.8888888888888888, \"#fdca26\"], [1.0, \"#f0f921\"]], \"type\": \"histogram2d\"}], \"histogram2dcontour\": [{\"colorbar\": {\"outlinewidth\": 0, \"ticks\": \"\"}, \"colorscale\": [[0.0, \"#0d0887\"], [0.1111111111111111, \"#46039f\"], [0.2222222222222222, \"#7201a8\"], [0.3333333333333333, \"#9c179e\"], [0.4444444444444444, \"#bd3786\"], [0.5555555555555556, \"#d8576b\"], [0.6666666666666666, \"#ed7953\"], [0.7777777777777778, \"#fb9f3a\"], [0.8888888888888888, \"#fdca26\"], [1.0, \"#f0f921\"]], \"type\": \"histogram2dcontour\"}], \"mesh3d\": [{\"colorbar\": {\"outlinewidth\": 0, \"ticks\": \"\"}, \"type\": \"mesh3d\"}], \"parcoords\": [{\"line\": {\"colorbar\": {\"outlinewidth\": 0, \"ticks\": \"\"}}, \"type\": \"parcoords\"}], \"pie\": [{\"automargin\": true, \"type\": \"pie\"}], \"scatter\": [{\"marker\": {\"colorbar\": {\"outlinewidth\": 0, \"ticks\": \"\"}}, \"type\": \"scatter\"}], \"scatter3d\": [{\"line\": {\"colorbar\": {\"outlinewidth\": 0, \"ticks\": \"\"}}, \"marker\": {\"colorbar\": {\"outlinewidth\": 0, \"ticks\": \"\"}}, \"type\": \"scatter3d\"}], \"scattercarpet\": [{\"marker\": {\"colorbar\": {\"outlinewidth\": 0, \"ticks\": \"\"}}, \"type\": \"scattercarpet\"}], \"scattergeo\": [{\"marker\": {\"colorbar\": {\"outlinewidth\": 0, \"ticks\": \"\"}}, \"type\": \"scattergeo\"}], \"scattergl\": [{\"marker\": {\"colorbar\": {\"outlinewidth\": 0, \"ticks\": \"\"}}, \"type\": \"scattergl\"}], \"scattermapbox\": [{\"marker\": {\"colorbar\": {\"outlinewidth\": 0, \"ticks\": \"\"}}, \"type\": \"scattermapbox\"}], \"scatterpolar\": [{\"marker\": {\"colorbar\": {\"outlinewidth\": 0, \"ticks\": \"\"}}, \"type\": \"scatterpolar\"}], \"scatterpolargl\": [{\"marker\": {\"colorbar\": {\"outlinewidth\": 0, \"ticks\": \"\"}}, \"type\": \"scatterpolargl\"}], \"scatterternary\": [{\"marker\": {\"colorbar\": {\"outlinewidth\": 0, \"ticks\": \"\"}}, \"type\": \"scatterternary\"}], \"surface\": [{\"colorbar\": {\"outlinewidth\": 0, \"ticks\": \"\"}, \"colorscale\": [[0.0, \"#0d0887\"], [0.1111111111111111, \"#46039f\"], [0.2222222222222222, \"#7201a8\"], [0.3333333333333333, \"#9c179e\"], [0.4444444444444444, \"#bd3786\"], [0.5555555555555556, \"#d8576b\"], [0.6666666666666666, \"#ed7953\"], [0.7777777777777778, \"#fb9f3a\"], [0.8888888888888888, \"#fdca26\"], [1.0, \"#f0f921\"]], \"type\": \"surface\"}], \"table\": [{\"cells\": {\"fill\": {\"color\": \"#EBF0F8\"}, \"line\": {\"color\": \"white\"}}, \"header\": {\"fill\": {\"color\": \"#C8D4E3\"}, \"line\": {\"color\": \"white\"}}, \"type\": \"table\"}]}, \"layout\": {\"annotationdefaults\": {\"arrowcolor\": \"#2a3f5f\", \"arrowhead\": 0, \"arrowwidth\": 1}, \"coloraxis\": {\"colorbar\": {\"outlinewidth\": 0, \"ticks\": \"\"}}, \"colorscale\": {\"diverging\": [[0, \"#8e0152\"], [0.1, \"#c51b7d\"], [0.2, \"#de77ae\"], [0.3, \"#f1b6da\"], [0.4, \"#fde0ef\"], [0.5, \"#f7f7f7\"], [0.6, \"#e6f5d0\"], [0.7, \"#b8e186\"], [0.8, \"#7fbc41\"], [0.9, \"#4d9221\"], [1, \"#276419\"]], \"sequential\": [[0.0, \"#0d0887\"], [0.1111111111111111, \"#46039f\"], [0.2222222222222222, \"#7201a8\"], [0.3333333333333333, \"#9c179e\"], [0.4444444444444444, \"#bd3786\"], [0.5555555555555556, \"#d8576b\"], [0.6666666666666666, \"#ed7953\"], [0.7777777777777778, \"#fb9f3a\"], [0.8888888888888888, \"#fdca26\"], [1.0, \"#f0f921\"]], \"sequentialminus\": [[0.0, \"#0d0887\"], [0.1111111111111111, \"#46039f\"], [0.2222222222222222, \"#7201a8\"], [0.3333333333333333, \"#9c179e\"], [0.4444444444444444, \"#bd3786\"], [0.5555555555555556, \"#d8576b\"], [0.6666666666666666, \"#ed7953\"], [0.7777777777777778, \"#fb9f3a\"], [0.8888888888888888, \"#fdca26\"], [1.0, \"#f0f921\"]]}, \"colorway\": [\"#636efa\", \"#EF553B\", \"#00cc96\", \"#ab63fa\", \"#FFA15A\", \"#19d3f3\", \"#FF6692\", \"#B6E880\", \"#FF97FF\", \"#FECB52\"], \"font\": {\"color\": \"#2a3f5f\"}, \"geo\": {\"bgcolor\": \"white\", \"lakecolor\": \"white\", \"landcolor\": \"#E5ECF6\", \"showlakes\": true, \"showland\": true, \"subunitcolor\": \"white\"}, \"hoverlabel\": {\"align\": \"left\"}, \"hovermode\": \"closest\", \"mapbox\": {\"style\": \"light\"}, \"paper_bgcolor\": \"white\", \"plot_bgcolor\": \"#E5ECF6\", \"polar\": {\"angularaxis\": {\"gridcolor\": \"white\", \"linecolor\": \"white\", \"ticks\": \"\"}, \"bgcolor\": \"#E5ECF6\", \"radialaxis\": {\"gridcolor\": \"white\", \"linecolor\": \"white\", \"ticks\": \"\"}}, \"scene\": {\"xaxis\": {\"backgroundcolor\": \"#E5ECF6\", \"gridcolor\": \"white\", \"gridwidth\": 2, \"linecolor\": \"white\", \"showbackground\": true, \"ticks\": \"\", \"zerolinecolor\": \"white\"}, \"yaxis\": {\"backgroundcolor\": \"#E5ECF6\", \"gridcolor\": \"white\", \"gridwidth\": 2, \"linecolor\": \"white\", \"showbackground\": true, \"ticks\": \"\", \"zerolinecolor\": \"white\"}, \"zaxis\": {\"backgroundcolor\": \"#E5ECF6\", \"gridcolor\": \"white\", \"gridwidth\": 2, \"linecolor\": \"white\", \"showbackground\": true, \"ticks\": \"\", \"zerolinecolor\": \"white\"}}, \"shapedefaults\": {\"line\": {\"color\": \"#2a3f5f\"}}, \"ternary\": {\"aaxis\": {\"gridcolor\": \"white\", \"linecolor\": \"white\", \"ticks\": \"\"}, \"baxis\": {\"gridcolor\": \"white\", \"linecolor\": \"white\", \"ticks\": \"\"}, \"bgcolor\": \"#E5ECF6\", \"caxis\": {\"gridcolor\": \"white\", \"linecolor\": \"white\", \"ticks\": \"\"}}, \"title\": {\"x\": 0.05}, \"xaxis\": {\"automargin\": true, \"gridcolor\": \"white\", \"linecolor\": \"white\", \"ticks\": \"\", \"title\": {\"standoff\": 15}, \"zerolinecolor\": \"white\", \"zerolinewidth\": 2}, \"yaxis\": {\"automargin\": true, \"gridcolor\": \"white\", \"linecolor\": \"white\", \"ticks\": \"\", \"title\": {\"standoff\": 15}, \"zerolinecolor\": \"white\", \"zerolinewidth\": 2}}}, \"title\": {\"text\": \"Nuovi contagi\"}, \"xaxis\": {\"tickmode\": \"array\", \"ticktext\": [\"2020-02-24\", \"2020-03-02\", \"2020-03-09\", \"2020-03-16\", \"2020-03-23\", \"2020-03-30\", \"2020-04-06\", \"2020-04-13\", \"2020-04-20\", \"2020-04-27\", \"2020-05-04\", \"2020-05-11\", \"2020-05-18\", \"2020-05-25\", \"2020-06-01\", \"2020-06-08\", \"2020-06-15\", \"2020-06-22\", \"2020-06-29\", \"2020-07-06\", \"2020-07-13\", \"2020-07-20\", \"2020-07-27\", \"2020-08-03\", \"2020-08-10\", \"2020-08-17\", \"2020-08-24\", \"2020-08-31\", \"2020-09-07\", \"2020-09-14\"], \"tickvals\": [0, 7, 14, 21, 28, 35, 42, 49, 56, 63, 70, 77, 84, 91, 98, 105, 112, 119, 126, 133, 140, 147, 154, 161, 168, 175, 182, 189, 196, 203]}},\n",
       "                        {\"responsive\": true}\n",
       "                    ).then(function(){\n",
       "                            \n",
       "var gd = document.getElementById('58a5aef7-325b-415f-bf19-2180c7398750');\n",
       "var x = new MutationObserver(function (mutations, observer) {{\n",
       "        var display = window.getComputedStyle(gd).display;\n",
       "        if (!display || display === 'none') {{\n",
       "            console.log([gd, 'removed!']);\n",
       "            Plotly.purge(gd);\n",
       "            observer.disconnect();\n",
       "        }}\n",
       "}});\n",
       "\n",
       "// Listen for the removal of the full notebook cells\n",
       "var notebookContainer = gd.closest('#notebook-container');\n",
       "if (notebookContainer) {{\n",
       "    x.observe(notebookContainer, {childList: true});\n",
       "}}\n",
       "\n",
       "// Listen for the clearing of the current output cell\n",
       "var outputEl = gd.closest('.output');\n",
       "if (outputEl) {{\n",
       "    x.observe(outputEl, {childList: true});\n",
       "}}\n",
       "\n",
       "                        })\n",
       "                };\n",
       "                });\n",
       "            </script>\n",
       "        </div>"
      ]
     },
     "metadata": {},
     "output_type": "display_data"
    }
   ],
   "source": [
    "fig = go.Figure()\n",
    "\n",
    "# Add traces\n",
    "fig.add_trace(go.Scatter(x=day_counter,\n",
    "                         y=nuovi_contagi_reali,\n",
    "                         mode='markers',\n",
    "                         name='Reali'))\n",
    "fig.add_trace(go.Scatter(x=day_counter,\n",
    "                         y=nuovi_contagi_pred,\n",
    "                         mode='lines',\n",
    "                         name='Predetti'))\n",
    "fig.add_trace(go.Scatter(x=day_counter,\n",
    "                         y=nuovi_contagi_reali_filtered,\n",
    "                         mode='markers',\n",
    "                         name='Reali filtrati'))\n",
    "fig.update_layout(title='Nuovi contagi',\n",
    "                  xaxis_tickmode = 'array',\n",
    "                  xaxis_tickvals = np.arange(0,len(day_counter),7),\n",
    "                  xaxis_ticktext = [g[0:10] for g in giorni[np.arange(0,len(day_counter),7)]])\n",
    "fig.show()"
   ]
  },
  {
   "cell_type": "code",
   "execution_count": 42,
   "metadata": {},
   "outputs": [
    {
     "name": "stderr",
     "output_type": "stream",
     "text": [
      "C:\\Users\\klaat\\Anaconda3\\lib\\site-packages\\scipy\\signal\\_arraytools.py:45: FutureWarning:\n",
      "\n",
      "Using a non-tuple sequence for multidimensional indexing is deprecated; use `arr[tuple(seq)]` instead of `arr[seq]`. In the future this will be interpreted as an array index, `arr[np.array(seq)]`, which will result either in an error or a different result.\n",
      "\n",
      "C:\\Users\\klaat\\Anaconda3\\lib\\site-packages\\ipykernel_launcher.py:13: UserWarning:\n",
      "\n",
      "Matplotlib is currently using module://ipykernel.pylab.backend_inline, which is a non-GUI backend, so cannot show the figure.\n",
      "\n"
     ]
    },
    {
     "data": {
      "image/png": "[encoded data removed]",
      "text/plain": [
       "<Figure size 864x432 with 1 Axes>"
      ]
     },
     "metadata": {
      "needs_background": "light"
     },
     "output_type": "display_data"
    }
   ],
   "source": [
    "from scipy.signal import savgol_filter\n",
    "\n",
    "\n",
    "fig,ax=plt.subplots(1,1,figsize=(12,6))\n",
    "errore_giornaliero=nuovi_contagi_pred[0:len(nuovi_contagi_reali)]-nuovi_contagi_reali\n",
    "ax.bar(day_counter[0:len(nuovi_contagi_reali)],errore_giornaliero)\n",
    "#ax.plot(day_counter[0:len(nuovi_contagi_reali)],moving_function_rev1(errore_giornaliero,np.mean,5,2),'r',linewidth=3)\n",
    "ax.plot(day_counter[0:len(nuovi_contagi_reali)],savgol_filter(errore_giornaliero,13,1),'r',linewidth=3)\n",
    "ax.axvline(days_training-2)\n",
    "ax.set_title('Nuovi contagi - Errore')\n",
    "ax.grid()\n",
    "fig.tight_layout()\n",
    "fig.show()"
   ]
  },
  {
   "cell_type": "code",
   "execution_count": null,
   "metadata": {},
   "outputs": [],
   "source": []
  },
  {
   "cell_type": "code",
   "execution_count": null,
   "metadata": {},
   "outputs": [],
   "source": []
  }
 ],
 "metadata": {
  "kernelspec": {
   "display_name": "Python 3",
   "language": "python",
   "name": "python3"
  },
  "language_info": {
   "codemirror_mode": {
    "name": "ipython",
    "version": 3
   },
   "file_extension": ".py",
   "mimetype": "text/x-python",
   "name": "python",
   "nbconvert_exporter": "python",
   "pygments_lexer": "ipython3",
   "version": "3.7.1"
  }
 },
 "nbformat": 4,
 "nbformat_minor": 4
}
