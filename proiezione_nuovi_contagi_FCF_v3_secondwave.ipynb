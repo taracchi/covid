{
 "cells": [
  {
   "cell_type": "code",
   "execution_count": 163,
   "metadata": {},
   "outputs": [],
   "source": [
    "import numpy as np\n",
    "import pickle as pkl\n",
    "from datetime import datetime, timedelta\n",
    "import matplotlib.pyplot as plt\n",
    "import matplotlib.colors as mcolors\n",
    "from aidam.miscellanea_utils import find_matlabstyle\n",
    "\n",
    "import seaborn as sns\n",
    "\n",
    "from aidam.faga.curve_fit import FagaCurveFit\n",
    "\n",
    "from aidam.math_utils import moving_function_rev1\n",
    "from aidam.NbEnhance import tabprint"
   ]
  },
  {
   "cell_type": "markdown",
   "metadata": {},
   "source": [
    "## Lettura dati"
   ]
  },
  {
   "cell_type": "code",
   "execution_count": 164,
   "metadata": {},
   "outputs": [
    {
     "name": "stdout",
     "output_type": "stream",
     "text": [
      "Giorni osservati: 213\n",
      "Primo giorno: 2020-02-24T18:00:00\n",
      "Ultimo giorno: 2020-09-23T17:00:00\n"
     ]
    }
   ],
   "source": [
    "data_file='stored_data.pkl'\n",
    "\n",
    "infile=open(data_file,'rb')\n",
    "trend=pkl.load(infile)\n",
    "regioni=pkl.load(infile)\n",
    "giorni=pkl.load(infile)\n",
    "giorno_settimana=pkl.load(infile)\n",
    "infile.close()\n",
    "\n",
    "day_counter=list(range(len(giorni)))\n",
    "\n",
    "print('Giorni osservati: %d'%len(giorni))\n",
    "print('Primo giorno: %s'%giorni[0])\n",
    "print('Ultimo giorno: %s'%giorni[-1])"
   ]
  },
  {
   "cell_type": "markdown",
   "metadata": {},
   "source": [
    "Preparazione date\n",
    "\n",
    "- creo il giorno 0 nel formato *datetime* per poi creare i nuovi plot su questa base\n",
    "- creo una lista di giorni (in formato di stringhe) partendo dal giorno0"
   ]
  },
  {
   "cell_type": "code",
   "execution_count": 165,
   "metadata": {},
   "outputs": [],
   "source": [
    "giorno0=datetime.strptime(giorni[0][0:10], \"%Y-%m-%d\")\n",
    "str_giorni=[]\n",
    "for d in range(500):\n",
    "    str_giorni.append((giorno0+timedelta(d)).strftime(\"%Y-%m-%d\"))\n",
    "str_giorni=np.array(str_giorni)\n",
    "\n",
    "oggi=datetime.strftime(datetime.now(), \"%Y-%m-%d\")\n",
    "indice_oggi=find_matlabstyle(str_giorni,lambda x:x==oggi)[0]"
   ]
  },
  {
   "cell_type": "markdown",
   "metadata": {},
   "source": [
    "## Funzioni base\n",
    "\n",
    "Si testano due versioni generalizzate della sigmoide:\n",
    "\n",
    "- sigmoide generalizzata\n",
    "- sigmoide generalizzata estesa"
   ]
  },
  {
   "cell_type": "code",
   "execution_count": 166,
   "metadata": {},
   "outputs": [],
   "source": [
    "def generalized_sigmoid(t,a,b,M,alpha):\n",
    "    y=M/(1+np.exp(-a*t+b))**alpha\n",
    "    return y\n",
    "\n",
    "def generalized_sigmoid_ext(t,a,b,c,M,alpha):\n",
    "    y=(M+c*t)/(1+np.exp(-a*t+b))**alpha\n",
    "    return y\n",
    "\n",
    "\n",
    "def two_waves_generalized_sigmoids_ext(t,t_sw,a1,b1,c1,M1,alpha1,a2,b2,c2,M2,alpha2):    \n",
    "    if t<=t_sw:\n",
    "        y=(M1+c1*t)/(1+np.exp(-a1*t+b1))**alpha1\n",
    "    else:\n",
    "        #y=(M1+c1*t)/(1+np.exp(-a1*t+b1))**alpha1+(M2+c2*t)/(1+np.exp(-a2*(t-t_sw)+b2))**alpha2\n",
    "        y=(M1+c1*t)/(1+np.exp(-a1*t+b1))**alpha1+(M2+c2*(t-t_sw))/(1+np.exp(-a2*(t-t_sw)+b2))**alpha2-(M2)/(1+np.exp(b2))**alpha2\n",
    "    return y\n",
    "\n",
    "\n",
    "def two_waves_generalized_sigmoids(t,t_sw,a1,b1,M1,alpha1,a2,b2,M2,alpha2):\n",
    "    t_sw=np.round(t_sw)\n",
    "    if t<t_sw:\n",
    "        y=(M1)/(1+np.exp(-a1*t+b1))**alpha1    \n",
    "    else:        \n",
    "        y=(M1)/(1+np.exp(-a1*t+b1))**alpha1+(M2)/(1+np.exp(-a2*(t-t_sw+1)+b2))**alpha2-(M2)/(1+np.exp(b2))**alpha2\n",
    "    return y\n",
    "\n",
    "\n",
    "\n",
    "employed_model=two_waves_generalized_sigmoids"
   ]
  },
  {
   "cell_type": "markdown",
   "metadata": {},
   "source": [
    "## Nuovi positivi *normalizzati*"
   ]
  },
  {
   "cell_type": "code",
   "execution_count": 167,
   "metadata": {},
   "outputs": [],
   "source": [
    "from scipy.signal import savgol_filter\n",
    "trend['perc_tamponi_positivi']['Italia'][0]=trend['perc_tamponi_positivi']['Italia'][1]\n",
    "\n",
    "np_it=trend['nuovi_positivi']['Italia']\n",
    "\n",
    "\n",
    "nwt=7\n",
    "nwp=3\n",
    "\n",
    "\n",
    "norm_np_it=0.01*np.multiply(moving_function_rev1(trend['tamponi_giornalieri']['Italia'],np.median,nwt,nwt),\n",
    "                     moving_function_rev1(trend['perc_tamponi_positivi']['Italia'],np.mean,nwp,nwp))\n",
    "\n",
    "norm_np_it=savgol_filter(norm_np_it,9,1)"
   ]
  },
  {
   "cell_type": "markdown",
   "metadata": {},
   "source": [
    "### Test plots"
   ]
  },
  {
   "cell_type": "raw",
   "metadata": {},
   "source": [
    "test_pars=[115,0.1, 0.05, 5,2.5e+5,2,0.1, 0, 2,2.5e+5,2\n",
    "           \n",
    "y_pred=np.array(list(map(lambda x:employed_model(x,*test_pars),day_counter)))\n",
    "\n",
    "plt.plot(day_counter,y_pred)"
   ]
  },
  {
   "cell_type": "markdown",
   "metadata": {},
   "source": [
    "## Fitting"
   ]
  },
  {
   "cell_type": "code",
   "execution_count": 168,
   "metadata": {},
   "outputs": [
    {
     "data": {
      "image/png": "[encoded data removed]",
      "text/plain": [
       "<Figure size 576x288 with 1 Axes>"
      ]
     },
     "metadata": {
      "needs_background": "light"
     },
     "output_type": "display_data"
    }
   ],
   "source": [
    "#target_data=trend['totale_casi']['Italia']\n",
    "target_data=np.cumsum(trend['nuovi_positivi']['Italia'])\n",
    "#target_data=np.cumsum(norm_np_it)\n",
    "target_data_filtered=moving_function_rev1(target_data,np.mean,3,3)\n",
    "\n",
    "fig,ax=plt.subplots(1,1,figsize=(8,4))\n",
    "ax.plot(day_counter,target_data,'o')\n",
    "ax.plot(day_counter,target_data_filtered,'-')\n",
    "ax.set_xticks(list(range(0,len(target_data),7)))\n",
    "ax.set_title('Target: casi totali')\n",
    "ax.set_xticklabels(str_giorni[list(range(0,len(target_data),7))],rotation=90)\n",
    "ax.grid()"
   ]
  },
  {
   "cell_type": "markdown",
   "metadata": {},
   "source": [
    "## GA-based Curve fitting\n",
    "\n",
    "E' possibile utilizzare solo **parzialmente** i dati per il tuning del modello: tramite il parametro `days_training` si decide quanti giorni usare effettivamente dall'inizio del dataset\n"
   ]
  },
  {
   "cell_type": "code",
   "execution_count": 169,
   "metadata": {},
   "outputs": [
    {
     "name": "stdout",
     "output_type": "stream",
     "text": [
      "            0         1         2         3         4         5         6         7         8\n",
      "         ----      ----      ----      ----      ----      ----      ----      ----      ----\n",
      "Min     115.0       0.0       0.0  200000.0       0.0       0.0       0.0  200000.0       0.0\n",
      "Max     130.0       0.3       0.4  300000.0      10.0       0.3       0.4  300000.0      10.0\n"
     ]
    }
   ],
   "source": [
    "days_training=len(target_data)-21\n",
    "\n",
    "# Italia\n",
    "a_range=[0,0.3]\n",
    "b_range=[0, 0.4]\n",
    "c_range=[0,10]\n",
    "M_range=[2e+5,3e+5]\n",
    "alpha_range=[0,10]\n",
    "t_sw_range=[115,130]\n",
    "\n",
    "'''\n",
    "# dominio per generalized_sigmoid_ext\n",
    "dominio=np.vstack((a_range,\n",
    "                   b_range,\n",
    "                   c_range,\n",
    "                   M_range,\n",
    "                   alpha_range))\n",
    "'''\n",
    "\n",
    "\n",
    "\n",
    "# dominio per two_waves_generalized_sigmoids_ext\n",
    "#M_range=[0,3e+5]\n",
    "dominio=np.vstack((t_sw_range,\n",
    "                   a_range,\n",
    "                   b_range,\n",
    "                   c_range,\n",
    "                   M_range,\n",
    "                   alpha_range,\n",
    "                   a_range,\n",
    "                   b_range,\n",
    "                   c_range,\n",
    "                   M_range,\n",
    "                   alpha_range))\n",
    "\n",
    "\n",
    "# dominio per two_waves_generalized_sigmoids\n",
    "#M_range=[0,3e+5]\n",
    "dominio=np.vstack((t_sw_range,\n",
    "                   a_range,\n",
    "                   b_range,\n",
    "                   M_range,\n",
    "                   alpha_range,\n",
    "                   a_range,\n",
    "                   b_range,\n",
    "                   M_range,\n",
    "                   alpha_range))\n",
    "\n",
    "                   \n",
    "dominio=dominio.T\n",
    "\n",
    "tabprint(dominio,digits=10,precision=1,index=['Min','Max'])"
   ]
  },
  {
   "cell_type": "code",
   "execution_count": 170,
   "metadata": {},
   "outputs": [
    {
     "name": "stdout",
     "output_type": "stream",
     "text": [
      "Welcome to FagaCurveFit!\n",
      "Gen:     0 BestAll: 2.258 BestGen: 2.258  BioDiv: 6e+03\n",
      "Gen:   100 BestAll: 16.19 BestGen: 16.19  AveFit: 13.55\n",
      "Gen:   200 BestAll: 24.81 BestGen: 24.81  AveFit: 22.39\n",
      "Gen:   300 BestAll: 27.3 BestGen: 27.3  AveFit: 22.98\n",
      "Gen:   400 BestAll: 29.13 BestGen: 29.13  AveFit: 26.16\n",
      "Gen:   500 BestAll: 30.52 BestGen: 30.52  AveFit: 28.2\n",
      "Gen:   600 BestAll: 34.6 BestGen: 34.6  AveFit: 31.55\n",
      "Gen:   700 BestAll: 38.21 BestGen: 38.21  AveFit: 32.12\n",
      "Gen:   800 BestAll: 39.73 BestGen: 39.73  AveFit: 36.72\n",
      "Gen:   900 BestAll: 40.15 BestGen: 40.15  AveFit: 36.95\n",
      "Gen:  1000 BestAll: 40.25 BestGen: 40.25  AveFit: 37.21\n",
      "Gen:  1100 BestAll: 42.04 BestGen: 42.04  AveFit: 38.32\n",
      "Gen:  1200 BestAll: 42.36 BestGen: 42.36  AveFit: 38.98\n",
      "Gen:  1300 BestAll: 43.23 BestGen: 43.23  AveFit: 39.37\n",
      "Gen:  1400 BestAll: 43.79 BestGen: 43.79  AveFit: 41.35\n",
      "Gen:  1500 BestAll: 45.24 BestGen: 45.24  AveFit: 41.54\n"
     ]
    }
   ],
   "source": [
    "def error_measure(predicted,actual):\n",
    "    #return np.mean(np.abs(predicted-actual))+np.std(np.abs(predicted-actual))\n",
    "    return 0.7*np.mean(np.abs(predicted-actual))+0.3*np.mean(np.abs(predicted[-14:]-actual[-14:]))\n",
    "    #return 0.2*np.percentile(np.abs(predicted-actual),5)+np.mean(np.abs(predicted-actual))\n",
    "    #return np.mean(np.abs(predicted-actual))\n",
    "\n",
    "np.random.seed(42)\n",
    "    \n",
    "fct=FagaCurveFit()\n",
    "\n",
    "fct.fit(employed_model, \n",
    "        np.arange(days_training),\n",
    "        target_data[0:days_training],\n",
    "        dominio,\n",
    "        ga_generations=1500, ga_population=30,print_info=100,\n",
    "        error_function=error_measure,\n",
    "        num_mutations=1)\n",
    "\n"
   ]
  },
  {
   "cell_type": "code",
   "execution_count": 171,
   "metadata": {},
   "outputs": [
    {
     "name": "stdout",
     "output_type": "stream",
     "text": [
      "\n",
      "Optimal solution is: \n",
      "[1.24193939e+02 6.35938830e-02 2.57938766e-01 2.37081856e+05\n",
      " 7.08237049e+00 2.49683700e-02 3.41525987e-01 2.07578363e+05\n",
      " 7.76825635e+00]\n",
      "Inizio second wave: giorno 124, 2020-06-27T17:00:00\n"
     ]
    }
   ],
   "source": [
    "solution=fct.opt_params\n",
    "\n",
    "print('\\nOptimal solution is: ')\n",
    "\n",
    "print(solution)\n",
    "# Interpretazione della soluzione\n",
    "print('Inizio second wave: giorno %d, %s'%(solution[0],giorni[int(np.round(solution[0]))]))\n"
   ]
  },
  {
   "cell_type": "code",
   "execution_count": 172,
   "metadata": {},
   "outputs": [
    {
     "data": {
      "text/plain": [
       "Text(0.5, 0.98, 'Fitness trends')"
      ]
     },
     "execution_count": 172,
     "metadata": {},
     "output_type": "execute_result"
    },
    {
     "data": {
      "image/png": "[encoded data removed]",
      "text/plain": [
       "<Figure size 1008x360 with 2 Axes>"
      ]
     },
     "metadata": {
      "needs_background": "light"
     },
     "output_type": "display_data"
    }
   ],
   "source": [
    "fig,ax=plt.subplots(1,2,figsize=(14,5))\n",
    "ax[0].plot(fct.fitness_tracker['average'],label='Average')\n",
    "ax[0].plot(fct.fitness_tracker['max'],label='Max')\n",
    "ax[0].legend()\n",
    "ax[1].plot(fct.fitness_tracker['std'],label='Std')\n",
    "ax[1].legend()\n",
    "fig.suptitle('Fitness trends')\n"
   ]
  },
  {
   "cell_type": "markdown",
   "metadata": {},
   "source": [
    "Adesso applico il modello tunato sia ai giorni passati sia a giorni futuri.\n",
    "\n",
    "*forecast_days* sono i giorni per cui lo applico: iniziano dal giorno 0 e finoscono quando si vuole nel futuro"
   ]
  },
  {
   "cell_type": "code",
   "execution_count": 173,
   "metadata": {},
   "outputs": [],
   "source": [
    "forecast_days=np.arange(300)\n",
    "y_pred=np.array(list(map(lambda x:employed_model(x,*solution),forecast_days)))"
   ]
  },
  {
   "cell_type": "markdown",
   "metadata": {},
   "source": [
    "#### Plots"
   ]
  },
  {
   "cell_type": "code",
   "execution_count": 174,
   "metadata": {},
   "outputs": [
    {
     "name": "stderr",
     "output_type": "stream",
     "text": [
      "C:\\Users\\klaat\\Anaconda3\\lib\\site-packages\\ipykernel_launcher.py:19: UserWarning:\n",
      "\n",
      "Matplotlib is currently using module://ipykernel.pylab.backend_inline, which is a non-GUI backend, so cannot show the figure.\n",
      "\n"
     ]
    },
    {
     "data": {
      "image/png": "[encoded data removed]",
      "text/plain": [
       "<Figure size 864x720 with 2 Axes>"
      ]
     },
     "metadata": {
      "needs_background": "light"
     },
     "output_type": "display_data"
    }
   ],
   "source": [
    "# preparazione palette colori\n",
    "lista_colori=list(mcolors.TABLEAU_COLORS.items())\n",
    "color_names=[cn[0] for cn in lista_colori]\n",
    "\n",
    "fig,ax=plt.subplots(2,1,figsize=(12,10))\n",
    "ax[0].plot(day_counter,target_data,label='Reale',linewidth=4)\n",
    "ax[0].plot(forecast_days,y_pred,'r--',label='Predetto')\n",
    "ax[0].axvline(days_training-1,c='g',ls='--',label='Fine tuning')\n",
    "ax[0].set_xticks(list(range(0,len(forecast_days),5)))\n",
    "ax[0].set_xticklabels(str_giorni[list(range(0,len(forecast_days),5))],rotation=90)\n",
    "ax[0].set_ylabel('Totale infetti')\n",
    "ax[0].legend()\n",
    "ax[0].grid()\n",
    "\n",
    "ax[1].bar(day_counter,y_pred[day_counter]-target_data)\n",
    "ax[1].axvline(days_training-1)\n",
    "ax[1].set_title('Errore giornaliero')\n",
    "fig.tight_layout()\n",
    "fig.show()"
   ]
  },
  {
   "cell_type": "markdown",
   "metadata": {},
   "source": [
    "### Adesso vediamo, secondo il modello, quando non avremo più contagiati"
   ]
  },
  {
   "cell_type": "code",
   "execution_count": 175,
   "metadata": {},
   "outputs": [],
   "source": [
    "nuovi_contagi_pred=np.diff(y_pred)\n",
    "\n",
    "nuovi_contagi_reali=np.diff(target_data)\n",
    "nuovi_contagi_reali_filtered=moving_function_rev1(nuovi_contagi_reali,np.mean,3,3)#np.diff(target_data_filtered)"
   ]
  },
  {
   "cell_type": "code",
   "execution_count": 181,
   "metadata": {},
   "outputs": [
    {
     "data": {
      "text/plain": [
       "<matplotlib.legend.Legend at 0x2078c4d9048>"
      ]
     },
     "execution_count": 181,
     "metadata": {},
     "output_type": "execute_result"
    },
    {
     "data": {
      "image/png": "[encoded data removed]",
      "text/plain": [
       "<Figure size 1008x432 with 1 Axes>"
      ]
     },
     "metadata": {
      "needs_background": "light"
     },
     "output_type": "display_data"
    }
   ],
   "source": [
    "fig,ax=plt.subplots(1,1,figsize=(14,6))\n",
    "ax.plot(nuovi_contagi_pred,'.',label='Nuovi contagi predetti')\n",
    "ax.set_ylabel('Nuovi contagi')\n",
    "\n",
    "ax.plot(nuovi_contagi_reali,'o',label='Contagi reali')\n",
    "#ax.plot(nuovi_contagi_reali_filtered,'+',label='Contagi reali filt.')\n",
    "ax.axvline(x=days_training,linewidth=2, color='k',linestyle='--',label='Fine fitting')\n",
    "    \n",
    "ax.set_xticks(list(range(0,len(forecast_days),10)))\n",
    "ax.set_xticklabels(str_giorni[list(range(1,len(forecast_days),10))],rotation=90)\n",
    "ax.grid()\n",
    "ax.legend()\n"
   ]
  },
  {
   "cell_type": "code",
   "execution_count": 178,
   "metadata": {},
   "outputs": [],
   "source": [
    "import plotly.graph_objects as go"
   ]
  },
  {
   "cell_type": "code",
   "execution_count": 179,
   "metadata": {},
   "outputs": [
    {
     "data": {
      "application/vnd.plotly.v1+json": {
       "config": {
        "plotlyServerURL": "https://plot.ly"
       },
       "data": [
        {
         "mode": "markers",
         "name": "Reali",
         "type": "scatter",
         "x": [
          0,
          1,
          2,
          3,
          4,
          5,
          6,
          7,
          8,
          9,
          10,
          11,
          12,
          13,
          14,
          15,
          16,
          17,
          18,
          19,
          20,
          21,
          22,
          23,
          24,
          25,
          26,
          27,
          28,
          29,
          30,
          31,
          32,
          33,
          34,
          35,
          36,
          37,
          38,
          39,
          40,
          41,
          42,
          43,
          44,
          45,
          46,
          47,
          48,
          49,
          50,
          51,
          52,
          53,
          54,
          55,
          56,
          57,
          58,
          59,
          60,
          61,
          62,
          63,
          64,
          65,
          66,
          67,
          68,
          69,
          70,
          71,
          72,
          73,
          74,
          75,
          76,
          77,
          78,
          79,
          80,
          81,
          82,
          83,
          84,
          85,
          86,
          87,
          88,
          89,
          90,
          91,
          92,
          93,
          94,
          95,
          96,
          97,
          98,
          99,
          100,
          101,
          102,
          103,
          104,
          105,
          106,
          107,
          108,
          109,
          110,
          111,
          112,
          113,
          114,
          115,
          116,
          117,
          118,
          119,
          120,
          121,
          122,
          123,
          124,
          125,
          126,
          127,
          128,
          129,
          130,
          131,
          132,
          133,
          134,
          135,
          136,
          137,
          138,
          139,
          140,
          141,
          142,
          143,
          144,
          145,
          146,
          147,
          148,
          149,
          150,
          151,
          152,
          153,
          154,
          155,
          156,
          157,
          158,
          159,
          160,
          161,
          162,
          163,
          164,
          165,
          166,
          167,
          168,
          169,
          170,
          171,
          172,
          173,
          174,
          175,
          176,
          177,
          178,
          179,
          180,
          181,
          182,
          183,
          184,
          185,
          186,
          187,
          188,
          189,
          190,
          191,
          192,
          193,
          194,
          195,
          196,
          197,
          198,
          199,
          200,
          201,
          202,
          203,
          204,
          205,
          206,
          207,
          208,
          209,
          210,
          211,
          212
         ],
         "y": [
          93,
          78,
          250,
          238,
          240,
          566,
          342,
          466,
          587,
          769,
          778,
          1247,
          1492,
          1797,
          977,
          2313,
          2651,
          2547,
          3497,
          3590,
          3233,
          3526,
          4207,
          5322,
          5986,
          6557,
          5560,
          4789,
          5249,
          5210,
          6153,
          5959,
          5974,
          5217,
          4050,
          4053,
          4782,
          4668,
          4585,
          4805,
          4316,
          3599,
          3039,
          3836,
          4204,
          3951,
          4694,
          4092,
          3153,
          2972,
          2667,
          3786,
          3493,
          3491,
          3047,
          2256,
          2729,
          3370,
          2646,
          3021,
          2357,
          2324,
          1739,
          2091,
          2086,
          1872,
          1965,
          1900,
          1389,
          1221,
          1075,
          1444,
          1401,
          1327,
          1083,
          802,
          744,
          1402,
          888,
          992,
          789,
          875,
          675,
          451,
          813,
          665,
          642,
          652,
          669,
          531,
          300,
          397,
          584,
          593,
          516,
          416,
          355,
          178,
          318,
          321,
          177,
          518,
          270,
          197,
          280,
          283,
          202,
          379,
          163,
          346,
          338,
          303,
          210,
          329,
          333,
          251,
          262,
          224,
          218,
          122,
          190,
          296,
          259,
          175,
          174,
          126,
          142,
          187,
          201,
          223,
          235,
          192,
          208,
          138,
          193,
          229,
          276,
          188,
          234,
          169,
          114,
          163,
          230,
          233,
          249,
          219,
          190,
          129,
          282,
          306,
          252,
          275,
          255,
          170,
          212,
          289,
          386,
          379,
          295,
          239,
          159,
          190,
          384,
          402,
          552,
          347,
          463,
          259,
          412,
          481,
          523,
          574,
          629,
          479,
          320,
          403,
          642,
          845,
          947,
          1071,
          1210,
          953,
          878,
          1367,
          1411,
          1462,
          1444,
          1365,
          996,
          978,
          1326,
          1397,
          1733,
          1694,
          1297,
          1108,
          1370,
          1434,
          1597,
          1616,
          1501,
          1458,
          1008,
          1229,
          1452,
          1585,
          1907,
          1638,
          1587,
          1350,
          1392,
          1640
         ]
        },
        {
         "mode": "lines",
         "name": "Predetti",
         "type": "scatter",
         "x": [
          0,
          1,
          2,
          3,
          4,
          5,
          6,
          7,
          8,
          9,
          10,
          11,
          12,
          13,
          14,
          15,
          16,
          17,
          18,
          19,
          20,
          21,
          22,
          23,
          24,
          25,
          26,
          27,
          28,
          29,
          30,
          31,
          32,
          33,
          34,
          35,
          36,
          37,
          38,
          39,
          40,
          41,
          42,
          43,
          44,
          45,
          46,
          47,
          48,
          49,
          50,
          51,
          52,
          53,
          54,
          55,
          56,
          57,
          58,
          59,
          60,
          61,
          62,
          63,
          64,
          65,
          66,
          67,
          68,
          69,
          70,
          71,
          72,
          73,
          74,
          75,
          76,
          77,
          78,
          79,
          80,
          81,
          82,
          83,
          84,
          85,
          86,
          87,
          88,
          89,
          90,
          91,
          92,
          93,
          94,
          95,
          96,
          97,
          98,
          99,
          100,
          101,
          102,
          103,
          104,
          105,
          106,
          107,
          108,
          109,
          110,
          111,
          112,
          113,
          114,
          115,
          116,
          117,
          118,
          119,
          120,
          121,
          122,
          123,
          124,
          125,
          126,
          127,
          128,
          129,
          130,
          131,
          132,
          133,
          134,
          135,
          136,
          137,
          138,
          139,
          140,
          141,
          142,
          143,
          144,
          145,
          146,
          147,
          148,
          149,
          150,
          151,
          152,
          153,
          154,
          155,
          156,
          157,
          158,
          159,
          160,
          161,
          162,
          163,
          164,
          165,
          166,
          167,
          168,
          169,
          170,
          171,
          172,
          173,
          174,
          175,
          176,
          177,
          178,
          179,
          180,
          181,
          182,
          183,
          184,
          185,
          186,
          187,
          188,
          189,
          190,
          191,
          192,
          193,
          194,
          195,
          196,
          197,
          198,
          199,
          200,
          201,
          202,
          203,
          204,
          205,
          206,
          207,
          208,
          209,
          210,
          211,
          212
         ],
         "y": [
          188.4221914459788,
          234.35315370045237,
          289.1258482850699,
          353.8065804163514,
          429.43786928851296,
          516.9992762455363,
          617.3643498075548,
          731.2554450888424,
          859.1985628619805,
          1001.4806208109494,
          1158.111678557193,
          1328.794564032557,
          1512.9040839126446,
          1709.4775563079202,
          1917.2178095184718,
          2134.509091935166,
          2359.44559155929,
          2589.871530236196,
          2823.431136688774,
          3057.6262647031836,
          3289.8790461125245,
          3517.5967740257656,
          3738.23620424563,
          3949.364629923679,
          4148.7154005489065,
          4334.2359859540375,
          4504.127188453735,
          4656.872639816647,
          4791.258245730569,
          4906.381725762723,
          5001.652816293994,
          5076.785040837349,
          5131.780198308828,
          5166.906874611683,
          5182.674351948182,
          5179.8032838893705,
          5159.1944356129825,
          5121.896672504357,
          5069.075231179144,
          5001.981138661155,
          4921.922469967161,
          4830.237961668594,
          4728.273336777667,
          4617.360550001351,
          4498.800035426655,
          4373.845932697703,
          4243.694182912266,
          4109.473320952879,
          3972.2377450793574,
          3832.963215186144,
          3692.544315802137,
          3551.7936161143007,
          3411.442264725192,
          3272.1417691927054,
          3134.4667277379776,
          2998.918301065656,
          2865.9282346457767,
          2735.863264862768,
          2609.0297652664012,
          2485.678511078935,
          2366.009460638772,
          2250.176471314626,
          2138.291884367267,
          2030.4309282891336,
          1926.6359032167238,
          1826.920120276569,
          1731.2715792118106,
          1639.6563755265379,
          1552.0218348477501,
          1468.2993773605267,
          1388.4071192161064,
          1312.2522208782902,
          1239.732994620601,
          1170.7407849240408,
          1105.1616364973015,
          1042.87776514492,
          983.7688468147826,
          927.7131400023063,
          874.5884562477586,
          824.2729929318302,
          776.6460418292554,
          731.5885861380666,
          688.9837978500582,
          648.7174464799755,
          610.6782293278957,
          574.7580325839517,
          540.852131797059,
          508.8593394236814,
          478.6821064511023,
          450.2265843744972,
          423.40265318079037,
          398.12392036800156,
          374.3076954871067,
          351.87494418531423,
          330.75022525843815,
          310.86161380432895,
          292.14061319004395,
          274.5220581938047,
          257.9440113833116,
          242.34765450839768,
          227.67717644601362,
          213.8796590117563,
          200.90496175480075,
          188.7056066901423,
          177.23666376646725,
          166.45563772230526,
          156.32235689618392,
          146.79886441433337,
          137.84931213027448,
          129.43985758628696,
          121.53856420813827,
          114.11530489573488,
          107.14166910844506,
          100.59087351610651,
          94.43767623740132,
          88.65829467310687,
          83.23032690151013,
          78.1326765967242,
          73.34548139446997,
          68.85004464807571,
          64.62877046666108,
          60.665101949562086,
          56.94346251749084,
          80.40502385958098,
          80.00903310408466,
          80.07830302423099,
          80.61955279842368,
          81.64097941468935,
          83.15217998888693,
          85.16406819270924,
          87.68878434752696,
          90.73959880735492,
          94.33080834065913,
          98.47762528702151,
          103.1960593793192,
          108.50279219920048,
          114.41504436088144,
          120.95043561168131,
          128.12683816315257,
          135.96222367987502,
          144.47450446616858,
          153.68136952255736,
          163.60011623046012,
          174.247478563193,
          185.639452804724,
          197.79112185389386,
          210.7164792874537,
          224.42825441609602,
          238.93773963779677,
          254.25462142916513,
          270.38681636360707,
          287.34031353422324,
          305.11902478084085,
          323.72464409135864,
          343.15651750101824,
          363.4115247761074,
          384.4839740836178,
          406.3655107615923,
          429.0450412086793,
          452.50867278134683,
          476.73967046957114,
          501.71843097169767,
          527.4224746361433,
          553.8264555923524,
          580.9021902106178,
          608.6187038895441,
          636.942295975663,
          665.8366224699421,
          695.2627960266254,
          725.1795025556639,
          755.5431336346956,
          786.3079337757081,
          817.4261614556308,
          848.8482627376216,
          880.5230561726785,
          912.397927606391,
          944.4190334500454,
          976.5315108993964,
          1008.6796935675375,
          1040.8073309723404,
          1072.857810307818,
          1104.774378944363,
          1136.5003661383525,
          1167.979402448691,
          1199.1556354446802,
          1229.973940329277,
          1260.3801241898327,
          1290.321122683119,
          1319.7451880425215,
          1348.602067413507,
          1376.8431706199772,
          1404.4217265830375,
          1431.2929277251824,
          1457.414061819145,
          1482.7446308351355,
          1507.2464564774418,
          1530.8837722098688,
          1553.6233016566257,
          1575.4343234020052,
          1596.2887222890859,
          1616.1610274102422,
          1635.028437090572,
          1652.8708312078961,
          1669.6707713051,
          1685.4134889810812,
          1700.0868631251506,
          1713.6813865920994,
          1726.1901229705545,
          1737.608654114767,
          1747.9350191518315,
          1757.1696456728387,
          1765.3152738551726,
          1772.3768742395332,
          1778.3615599081386,
          1783.278493785765,
          1787.138791783189,
          1789.9554224847234,
          1791.7431040587253,
          1792.518199045211,
          1792.2986076447996,
          1791.1036601218511,
          1788.9540088591748,
          1785.871520632063,
          1781.8791695586988,
          1777.0009312189068,
          1771.261678345094,
          1764.6870784750208,
          1757.3034939221689,
          1749.1378843658604,
          1740.217712345533,
          1730.5708518975298,
          1720.2255005443585,
          1709.2100948088337,
          1697.5532294031,
          1685.2835802022018,
          1672.4298310902668,
          1659.020604744088,
          1645.0843973857118,
          1630.6495175181772,
          1615.7440286381752,
          1600.395695901534,
          1584.6319366869866,
          1568.4797750111902,
          1551.9657997130998,
          1535.116126315319,
          1517.9563624839066,
          1500.5115769509575,
          1482.8062718136352,
          1464.8643580593052,
          1446.70913421968,
          1428.3632679850562,
          1409.8487806777703,
          1391.1870344264316,
          1372.398721904785,
          1353.5038585019647,
          1334.5217767772847,
          1315.4711230683606,
          1296.3698561076308,
          1277.2352475209627,
          1258.083884070511,
          1238.9316715158056,
          1219.7938399667619,
          1200.684950610157,
          1181.6189036829164,
          1162.6089475972112,
          1143.6676890818635,
          1124.807104266598,
          1106.0385505836457,
          1087.3727794041624,
          1068.8199493249413,
          1050.3896400008816,
          1032.0908664657036,
          1013.9320938478922,
          995.9212524153991,
          978.065752889961,
          960.3725019522244,
          942.8479178972193,
          925.497946373478,
          908.328076161677,
          891.3433549428592,
          874.5484050174709,
          857.9474389374373,
          841.5442750035436,
          825.3423526167171,
          809.344747435709,
          793.5541863203398,
          777.9730620437185,
          762.6034477414214,
          747.447111090878,
          732.5055281901732,
          717.7798971426673,
          703.2711513119284,
          688.9799722576863,
          674.9068023358122,
          661.0518569496926,
          647.4151364635909,
          633.9964377568685,
          620.7953654352459,
          607.8113426790806
         ]
        },
        {
         "mode": "markers",
         "name": "Reali filtrati",
         "type": "scatter",
         "x": [
          0,
          1,
          2,
          3,
          4,
          5,
          6,
          7,
          8,
          9,
          10,
          11,
          12,
          13,
          14,
          15,
          16,
          17,
          18,
          19,
          20,
          21,
          22,
          23,
          24,
          25,
          26,
          27,
          28,
          29,
          30,
          31,
          32,
          33,
          34,
          35,
          36,
          37,
          38,
          39,
          40,
          41,
          42,
          43,
          44,
          45,
          46,
          47,
          48,
          49,
          50,
          51,
          52,
          53,
          54,
          55,
          56,
          57,
          58,
          59,
          60,
          61,
          62,
          63,
          64,
          65,
          66,
          67,
          68,
          69,
          70,
          71,
          72,
          73,
          74,
          75,
          76,
          77,
          78,
          79,
          80,
          81,
          82,
          83,
          84,
          85,
          86,
          87,
          88,
          89,
          90,
          91,
          92,
          93,
          94,
          95,
          96,
          97,
          98,
          99,
          100,
          101,
          102,
          103,
          104,
          105,
          106,
          107,
          108,
          109,
          110,
          111,
          112,
          113,
          114,
          115,
          116,
          117,
          118,
          119,
          120,
          121,
          122,
          123,
          124,
          125,
          126,
          127,
          128,
          129,
          130,
          131,
          132,
          133,
          134,
          135,
          136,
          137,
          138,
          139,
          140,
          141,
          142,
          143,
          144,
          145,
          146,
          147,
          148,
          149,
          150,
          151,
          152,
          153,
          154,
          155,
          156,
          157,
          158,
          159,
          160,
          161,
          162,
          163,
          164,
          165,
          166,
          167,
          168,
          169,
          170,
          171,
          172,
          173,
          174,
          175,
          176,
          177,
          178,
          179,
          180,
          181,
          182,
          183,
          184,
          185,
          186,
          187,
          188,
          189,
          190,
          191,
          192,
          193,
          194,
          195,
          196,
          197,
          198,
          199,
          200,
          201,
          202,
          203,
          204,
          205,
          206,
          207,
          208,
          209,
          210,
          211,
          212
         ],
         "y": [
          164.75,
          179.8,
          244.16666666666666,
          258.14285714285717,
          311.42857142857144,
          384.14285714285717,
          458.2857142857143,
          535.4285714285714,
          679.2857142857143,
          811.5714285714286,
          1019.4285714285714,
          1092.4285714285713,
          1339,
          1607.857142857143,
          1860.5714285714287,
          2182,
          2481.714285714286,
          2686.8571428571427,
          3051,
          3321.5714285714284,
          3703.1428571428573,
          4194.428571428572,
          4631.571428571428,
          4913,
          5135.285714285715,
          5381.428571428572,
          5524.714285714285,
          5643.428571428572,
          5639.571428571428,
          5556.285714285715,
          5507.285714285715,
          5401.714285714285,
          5230.857142857143,
          5169.714285714285,
          4957.571428571428,
          4761.285714285715,
          4594.285714285715,
          4465.571428571428,
          4401.142857142857,
          4256.285714285715,
          4121.142857142857,
          4054.8571428571427,
          3964.285714285714,
          3948.4285714285716,
          3916.4285714285716,
          3852.714285714286,
          3843.1428571428573,
          3676.1428571428573,
          3616.4285714285716,
          3551,
          3379.1428571428573,
          3229.8571428571427,
          3101.714285714286,
          3067,
          3167.4285714285716,
          3004.5714285714284,
          2937.1428571428573,
          2775.1428571428573,
          2671.8571428571427,
          2598,
          2506.8571428571427,
          2323.4285714285716,
          2212.8571428571427,
          2062,
          1996.7142857142858,
          1863.142857142857,
          1789.142857142857,
          1644,
          1552.2857142857142,
          1485,
          1393.857142857143,
          1277.142857142857,
          1193.2857142857142,
          1125.142857142857,
          1171.857142857143,
          1092.4285714285713,
          1034,
          957.1428571428571,
          927.4285714285714,
          909.2857142857143,
          867.4285714285714,
          783.2857142857143,
          751.4285714285714,
          701.4285714285714,
          681.8571428571429,
          652.4285714285714,
          631.8571428571429,
          610.2857142857143,
          550.8571428571429,
          539.2857142857143,
          532.2857142857143,
          512.8571428571429,
          476.7142857142857,
          451.57142857142856,
          434.14285714285717,
          422.85714285714283,
          385.2857142857143,
          325.85714285714283,
          326.14285714285717,
          305.2857142857143,
          282.7142857142857,
          297.2857142857143,
          292.2857142857143,
          275.2857142857143,
          304.14285714285717,
          253.42857142857142,
          264.2857142857143,
          284.42857142857144,
          287.7142857142857,
          277.2857142857143,
          295.42857142857144,
          288.85714285714283,
          301.42857142857144,
          289.42857142857144,
          273.14285714285717,
          261,
          248.42857142857142,
          228.57142857142858,
          223.28571428571428,
          224.42857142857142,
          212,
          204.85714285714286,
          191.71428571428572,
          194.57142857142858,
          194.14285714285714,
          180.57142857142858,
          175.42857142857142,
          184,
          186.57142857142858,
          198.28571428571428,
          197.71428571428572,
          198.57142857142858,
          202.57142857142858,
          210.14285714285714,
          203.42857142857142,
          209.42857142857142,
          203.85714285714286,
          200.42857142857142,
          196.14285714285714,
          196.28571428571428,
          190.14285714285714,
          198.85714285714286,
          196.71428571428572,
          199.71428571428572,
          201.85714285714286,
          218.85714285714286,
          229.71428571428572,
          232.42857142857142,
          236.14285714285714,
          241.28571428571428,
          238.42857142857142,
          250.28571428571428,
          251.28571428571428,
          262.7142857142857,
          280.85714285714283,
          283.7142857142857,
          281.42857142857144,
          279.85714285714283,
          276.7142857142857,
          290.2857142857143,
          292.57142857142856,
          317.2857142857143,
          324.7142857142857,
          356.7142857142857,
          371,
          402.7142857142857,
          416.57142857142856,
          433.85714285714283,
          437,
          477.2857142857143,
          479.57142857142856,
          488.2857142857143,
          487,
          510,
          556,
          609.2857142857143,
          672.4285714285714,
          776.8571428571429,
          867.2857142857143,
          935.1428571428571,
          1038.7142857142858,
          1119.5714285714287,
          1193.142857142857,
          1246.4285714285713,
          1268.5714285714287,
          1274.7142857142858,
          1289,
          1283.142857142857,
          1281.142857142857,
          1319.857142857143,
          1355.5714285714287,
          1345.857142857143,
          1361.857142857143,
          1417.857142857143,
          1433.2857142857142,
          1461.857142857143,
          1445.142857142857,
          1417.5714285714287,
          1440.5714285714287,
          1426.2857142857142,
          1406.142857142857,
          1408.7142857142858,
          1407,
          1448.5714285714287,
          1468.142857142857,
          1486.5714285714287,
          1535.4285714285713,
          1558.7142857142858,
          1585.5714285714287,
          1585.6666666666667,
          1521.4,
          1492.25
         ]
        }
       ],
       "layout": {
        "template": {
         "data": {
          "bar": [
           {
            "error_x": {
             "color": "#2a3f5f"
            },
            "error_y": {
             "color": "#2a3f5f"
            },
            "marker": {
             "line": {
              "color": "#E5ECF6",
              "width": 0.5
             }
            },
            "type": "bar"
           }
          ],
          "barpolar": [
           {
            "marker": {
             "line": {
              "color": "#E5ECF6",
              "width": 0.5
             }
            },
            "type": "barpolar"
           }
          ],
          "carpet": [
           {
            "aaxis": {
             "endlinecolor": "#2a3f5f",
             "gridcolor": "white",
             "linecolor": "white",
             "minorgridcolor": "white",
             "startlinecolor": "#2a3f5f"
            },
            "baxis": {
             "endlinecolor": "#2a3f5f",
             "gridcolor": "white",
             "linecolor": "white",
             "minorgridcolor": "white",
             "startlinecolor": "#2a3f5f"
            },
            "type": "carpet"
           }
          ],
          "choropleth": [
           {
            "colorbar": {
             "outlinewidth": 0,
             "ticks": ""
            },
            "type": "choropleth"
           }
          ],
          "contour": [
           {
            "colorbar": {
             "outlinewidth": 0,
             "ticks": ""
            },
            "colorscale": [
             [
              0,
              "#0d0887"
             ],
             [
              0.1111111111111111,
              "#46039f"
             ],
             [
              0.2222222222222222,
              "#7201a8"
             ],
             [
              0.3333333333333333,
              "#9c179e"
             ],
             [
              0.4444444444444444,
              "#bd3786"
             ],
             [
              0.5555555555555556,
              "#d8576b"
             ],
             [
              0.6666666666666666,
              "#ed7953"
             ],
             [
              0.7777777777777778,
              "#fb9f3a"
             ],
             [
              0.8888888888888888,
              "#fdca26"
             ],
             [
              1,
              "#f0f921"
             ]
            ],
            "type": "contour"
           }
          ],
          "contourcarpet": [
           {
            "colorbar": {
             "outlinewidth": 0,
             "ticks": ""
            },
            "type": "contourcarpet"
           }
          ],
          "heatmap": [
           {
            "colorbar": {
             "outlinewidth": 0,
             "ticks": ""
            },
            "colorscale": [
             [
              0,
              "#0d0887"
             ],
             [
              0.1111111111111111,
              "#46039f"
             ],
             [
              0.2222222222222222,
              "#7201a8"
             ],
             [
              0.3333333333333333,
              "#9c179e"
             ],
             [
              0.4444444444444444,
              "#bd3786"
             ],
             [
              0.5555555555555556,
              "#d8576b"
             ],
             [
              0.6666666666666666,
              "#ed7953"
             ],
             [
              0.7777777777777778,
              "#fb9f3a"
             ],
             [
              0.8888888888888888,
              "#fdca26"
             ],
             [
              1,
              "#f0f921"
             ]
            ],
            "type": "heatmap"
           }
          ],
          "heatmapgl": [
           {
            "colorbar": {
             "outlinewidth": 0,
             "ticks": ""
            },
            "colorscale": [
             [
              0,
              "#0d0887"
             ],
             [
              0.1111111111111111,
              "#46039f"
             ],
             [
              0.2222222222222222,
              "#7201a8"
             ],
             [
              0.3333333333333333,
              "#9c179e"
             ],
             [
              0.4444444444444444,
              "#bd3786"
             ],
             [
              0.5555555555555556,
              "#d8576b"
             ],
             [
              0.6666666666666666,
              "#ed7953"
             ],
             [
              0.7777777777777778,
              "#fb9f3a"
             ],
             [
              0.8888888888888888,
              "#fdca26"
             ],
             [
              1,
              "#f0f921"
             ]
            ],
            "type": "heatmapgl"
           }
          ],
          "histogram": [
           {
            "marker": {
             "colorbar": {
              "outlinewidth": 0,
              "ticks": ""
             }
            },
            "type": "histogram"
           }
          ],
          "histogram2d": [
           {
            "colorbar": {
             "outlinewidth": 0,
             "ticks": ""
            },
            "colorscale": [
             [
              0,
              "#0d0887"
             ],
             [
              0.1111111111111111,
              "#46039f"
             ],
             [
              0.2222222222222222,
              "#7201a8"
             ],
             [
              0.3333333333333333,
              "#9c179e"
             ],
             [
              0.4444444444444444,
              "#bd3786"
             ],
             [
              0.5555555555555556,
              "#d8576b"
             ],
             [
              0.6666666666666666,
              "#ed7953"
             ],
             [
              0.7777777777777778,
              "#fb9f3a"
             ],
             [
              0.8888888888888888,
              "#fdca26"
             ],
             [
              1,
              "#f0f921"
             ]
            ],
            "type": "histogram2d"
           }
          ],
          "histogram2dcontour": [
           {
            "colorbar": {
             "outlinewidth": 0,
             "ticks": ""
            },
            "colorscale": [
             [
              0,
              "#0d0887"
             ],
             [
              0.1111111111111111,
              "#46039f"
             ],
             [
              0.2222222222222222,
              "#7201a8"
             ],
             [
              0.3333333333333333,
              "#9c179e"
             ],
             [
              0.4444444444444444,
              "#bd3786"
             ],
             [
              0.5555555555555556,
              "#d8576b"
             ],
             [
              0.6666666666666666,
              "#ed7953"
             ],
             [
              0.7777777777777778,
              "#fb9f3a"
             ],
             [
              0.8888888888888888,
              "#fdca26"
             ],
             [
              1,
              "#f0f921"
             ]
            ],
            "type": "histogram2dcontour"
           }
          ],
          "mesh3d": [
           {
            "colorbar": {
             "outlinewidth": 0,
             "ticks": ""
            },
            "type": "mesh3d"
           }
          ],
          "parcoords": [
           {
            "line": {
             "colorbar": {
              "outlinewidth": 0,
              "ticks": ""
             }
            },
            "type": "parcoords"
           }
          ],
          "pie": [
           {
            "automargin": true,
            "type": "pie"
           }
          ],
          "scatter": [
           {
            "marker": {
             "colorbar": {
              "outlinewidth": 0,
              "ticks": ""
             }
            },
            "type": "scatter"
           }
          ],
          "scatter3d": [
           {
            "line": {
             "colorbar": {
              "outlinewidth": 0,
              "ticks": ""
             }
            },
            "marker": {
             "colorbar": {
              "outlinewidth": 0,
              "ticks": ""
             }
            },
            "type": "scatter3d"
           }
          ],
          "scattercarpet": [
           {
            "marker": {
             "colorbar": {
              "outlinewidth": 0,
              "ticks": ""
             }
            },
            "type": "scattercarpet"
           }
          ],
          "scattergeo": [
           {
            "marker": {
             "colorbar": {
              "outlinewidth": 0,
              "ticks": ""
             }
            },
            "type": "scattergeo"
           }
          ],
          "scattergl": [
           {
            "marker": {
             "colorbar": {
              "outlinewidth": 0,
              "ticks": ""
             }
            },
            "type": "scattergl"
           }
          ],
          "scattermapbox": [
           {
            "marker": {
             "colorbar": {
              "outlinewidth": 0,
              "ticks": ""
             }
            },
            "type": "scattermapbox"
           }
          ],
          "scatterpolar": [
           {
            "marker": {
             "colorbar": {
              "outlinewidth": 0,
              "ticks": ""
             }
            },
            "type": "scatterpolar"
           }
          ],
          "scatterpolargl": [
           {
            "marker": {
             "colorbar": {
              "outlinewidth": 0,
              "ticks": ""
             }
            },
            "type": "scatterpolargl"
           }
          ],
          "scatterternary": [
           {
            "marker": {
             "colorbar": {
              "outlinewidth": 0,
              "ticks": ""
             }
            },
            "type": "scatterternary"
           }
          ],
          "surface": [
           {
            "colorbar": {
             "outlinewidth": 0,
             "ticks": ""
            },
            "colorscale": [
             [
              0,
              "#0d0887"
             ],
             [
              0.1111111111111111,
              "#46039f"
             ],
             [
              0.2222222222222222,
              "#7201a8"
             ],
             [
              0.3333333333333333,
              "#9c179e"
             ],
             [
              0.4444444444444444,
              "#bd3786"
             ],
             [
              0.5555555555555556,
              "#d8576b"
             ],
             [
              0.6666666666666666,
              "#ed7953"
             ],
             [
              0.7777777777777778,
              "#fb9f3a"
             ],
             [
              0.8888888888888888,
              "#fdca26"
             ],
             [
              1,
              "#f0f921"
             ]
            ],
            "type": "surface"
           }
          ],
          "table": [
           {
            "cells": {
             "fill": {
              "color": "#EBF0F8"
             },
             "line": {
              "color": "white"
             }
            },
            "header": {
             "fill": {
              "color": "#C8D4E3"
             },
             "line": {
              "color": "white"
             }
            },
            "type": "table"
           }
          ]
         },
         "layout": {
          "annotationdefaults": {
           "arrowcolor": "#2a3f5f",
           "arrowhead": 0,
           "arrowwidth": 1
          },
          "coloraxis": {
           "colorbar": {
            "outlinewidth": 0,
            "ticks": ""
           }
          },
          "colorscale": {
           "diverging": [
            [
             0,
             "#8e0152"
            ],
            [
             0.1,
             "#c51b7d"
            ],
            [
             0.2,
             "#de77ae"
            ],
            [
             0.3,
             "#f1b6da"
            ],
            [
             0.4,
             "#fde0ef"
            ],
            [
             0.5,
             "#f7f7f7"
            ],
            [
             0.6,
             "#e6f5d0"
            ],
            [
             0.7,
             "#b8e186"
            ],
            [
             0.8,
             "#7fbc41"
            ],
            [
             0.9,
             "#4d9221"
            ],
            [
             1,
             "#276419"
            ]
           ],
           "sequential": [
            [
             0,
             "#0d0887"
            ],
            [
             0.1111111111111111,
             "#46039f"
            ],
            [
             0.2222222222222222,
             "#7201a8"
            ],
            [
             0.3333333333333333,
             "#9c179e"
            ],
            [
             0.4444444444444444,
             "#bd3786"
            ],
            [
             0.5555555555555556,
             "#d8576b"
            ],
            [
             0.6666666666666666,
             "#ed7953"
            ],
            [
             0.7777777777777778,
             "#fb9f3a"
            ],
            [
             0.8888888888888888,
             "#fdca26"
            ],
            [
             1,
             "#f0f921"
            ]
           ],
           "sequentialminus": [
            [
             0,
             "#0d0887"
            ],
            [
             0.1111111111111111,
             "#46039f"
            ],
            [
             0.2222222222222222,
             "#7201a8"
            ],
            [
             0.3333333333333333,
             "#9c179e"
            ],
            [
             0.4444444444444444,
             "#bd3786"
            ],
            [
             0.5555555555555556,
             "#d8576b"
            ],
            [
             0.6666666666666666,
             "#ed7953"
            ],
            [
             0.7777777777777778,
             "#fb9f3a"
            ],
            [
             0.8888888888888888,
             "#fdca26"
            ],
            [
             1,
             "#f0f921"
            ]
           ]
          },
          "colorway": [
           "#636efa",
           "#EF553B",
           "#00cc96",
           "#ab63fa",
           "#FFA15A",
           "#19d3f3",
           "#FF6692",
           "#B6E880",
           "#FF97FF",
           "#FECB52"
          ],
          "font": {
           "color": "#2a3f5f"
          },
          "geo": {
           "bgcolor": "white",
           "lakecolor": "white",
           "landcolor": "#E5ECF6",
           "showlakes": true,
           "showland": true,
           "subunitcolor": "white"
          },
          "hoverlabel": {
           "align": "left"
          },
          "hovermode": "closest",
          "mapbox": {
           "style": "light"
          },
          "paper_bgcolor": "white",
          "plot_bgcolor": "#E5ECF6",
          "polar": {
           "angularaxis": {
            "gridcolor": "white",
            "linecolor": "white",
            "ticks": ""
           },
           "bgcolor": "#E5ECF6",
           "radialaxis": {
            "gridcolor": "white",
            "linecolor": "white",
            "ticks": ""
           }
          },
          "scene": {
           "xaxis": {
            "backgroundcolor": "#E5ECF6",
            "gridcolor": "white",
            "gridwidth": 2,
            "linecolor": "white",
            "showbackground": true,
            "ticks": "",
            "zerolinecolor": "white"
           },
           "yaxis": {
            "backgroundcolor": "#E5ECF6",
            "gridcolor": "white",
            "gridwidth": 2,
            "linecolor": "white",
            "showbackground": true,
            "ticks": "",
            "zerolinecolor": "white"
           },
           "zaxis": {
            "backgroundcolor": "#E5ECF6",
            "gridcolor": "white",
            "gridwidth": 2,
            "linecolor": "white",
            "showbackground": true,
            "ticks": "",
            "zerolinecolor": "white"
           }
          },
          "shapedefaults": {
           "line": {
            "color": "#2a3f5f"
           }
          },
          "ternary": {
           "aaxis": {
            "gridcolor": "white",
            "linecolor": "white",
            "ticks": ""
           },
           "baxis": {
            "gridcolor": "white",
            "linecolor": "white",
            "ticks": ""
           },
           "bgcolor": "#E5ECF6",
           "caxis": {
            "gridcolor": "white",
            "linecolor": "white",
            "ticks": ""
           }
          },
          "title": {
           "x": 0.05
          },
          "xaxis": {
           "automargin": true,
           "gridcolor": "white",
           "linecolor": "white",
           "ticks": "",
           "title": {
            "standoff": 15
           },
           "zerolinecolor": "white",
           "zerolinewidth": 2
          },
          "yaxis": {
           "automargin": true,
           "gridcolor": "white",
           "linecolor": "white",
           "ticks": "",
           "title": {
            "standoff": 15
           },
           "zerolinecolor": "white",
           "zerolinewidth": 2
          }
         }
        },
        "title": {
         "text": "Nuovi contagi"
        },
        "xaxis": {
         "tickmode": "array",
         "ticktext": [
          "2020-02-24",
          "2020-03-02",
          "2020-03-09",
          "2020-03-16",
          "2020-03-23",
          "2020-03-30",
          "2020-04-06",
          "2020-04-13",
          "2020-04-20",
          "2020-04-27",
          "2020-05-04",
          "2020-05-11",
          "2020-05-18",
          "2020-05-25",
          "2020-06-01",
          "2020-06-08",
          "2020-06-15",
          "2020-06-22",
          "2020-06-29",
          "2020-07-06",
          "2020-07-13",
          "2020-07-20",
          "2020-07-27",
          "2020-08-03",
          "2020-08-10",
          "2020-08-17",
          "2020-08-24",
          "2020-08-31",
          "2020-09-07",
          "2020-09-14",
          "2020-09-21"
         ],
         "tickvals": [
          0,
          7,
          14,
          21,
          28,
          35,
          42,
          49,
          56,
          63,
          70,
          77,
          84,
          91,
          98,
          105,
          112,
          119,
          126,
          133,
          140,
          147,
          154,
          161,
          168,
          175,
          182,
          189,
          196,
          203,
          210
         ]
        }
       }
      },
      "text/html": [
       "<div>\n",
       "        \n",
       "        \n",
       "            <div id=\"349b9d84-8577-437e-9ebb-54e096f8688a\" class=\"plotly-graph-div\" style=\"height:525px; width:100%;\"></div>\n",
       "            <script type=\"text/javascript\">\n",
       "                require([\"plotly\"], function(Plotly) {\n",
       "                    window.PLOTLYENV=window.PLOTLYENV || {};\n",
       "                    \n",
       "                if (document.getElementById(\"349b9d84-8577-437e-9ebb-54e096f8688a\")) {\n",
       "                    Plotly.newPlot(\n",
       "                        '349b9d84-8577-437e-9ebb-54e096f8688a',\n",
       "                        [{\"mode\": \"markers\", \"name\": \"Reali\", \"type\": \"scatter\", \"x\": [0, 1, 2, 3, 4, 5, 6, 7, 8, 9, 10, 11, 12, 13, 14, 15, 16, 17, 18, 19, 20, 21, 22, 23, 24, 25, 26, 27, 28, 29, 30, 31, 32, 33, 34, 35, 36, 37, 38, 39, 40, 41, 42, 43, 44, 45, 46, 47, 48, 49, 50, 51, 52, 53, 54, 55, 56, 57, 58, 59, 60, 61, 62, 63, 64, 65, 66, 67, 68, 69, 70, 71, 72, 73, 74, 75, 76, 77, 78, 79, 80, 81, 82, 83, 84, 85, 86, 87, 88, 89, 90, 91, 92, 93, 94, 95, 96, 97, 98, 99, 100, 101, 102, 103, 104, 105, 106, 107, 108, 109, 110, 111, 112, 113, 114, 115, 116, 117, 118, 119, 120, 121, 122, 123, 124, 125, 126, 127, 128, 129, 130, 131, 132, 133, 134, 135, 136, 137, 138, 139, 140, 141, 142, 143, 144, 145, 146, 147, 148, 149, 150, 151, 152, 153, 154, 155, 156, 157, 158, 159, 160, 161, 162, 163, 164, 165, 166, 167, 168, 169, 170, 171, 172, 173, 174, 175, 176, 177, 178, 179, 180, 181, 182, 183, 184, 185, 186, 187, 188, 189, 190, 191, 192, 193, 194, 195, 196, 197, 198, 199, 200, 201, 202, 203, 204, 205, 206, 207, 208, 209, 210, 211, 212], \"y\": [93.0, 78.0, 250.0, 238.0, 240.0, 566.0, 342.0, 466.0, 587.0, 769.0, 778.0, 1247.0, 1492.0, 1797.0, 977.0, 2313.0, 2651.0, 2547.0, 3497.0, 3590.0, 3233.0, 3526.0, 4207.0, 5322.0, 5986.0, 6557.0, 5560.0, 4789.0, 5249.0, 5210.0, 6153.0, 5959.0, 5974.0, 5217.0, 4050.0, 4053.0, 4782.0, 4668.0, 4585.0, 4805.0, 4316.0, 3599.0, 3039.0, 3836.0, 4204.0, 3951.0, 4694.0, 4092.0, 3153.0, 2972.0, 2667.0, 3786.0, 3493.0, 3491.0, 3047.0, 2256.0, 2729.0, 3370.0, 2646.0, 3021.0, 2357.0, 2324.0, 1739.0, 2091.0, 2086.0, 1872.0, 1965.0, 1900.0, 1389.0, 1221.0, 1075.0, 1444.0, 1401.0, 1327.0, 1083.0, 802.0, 744.0, 1402.0, 888.0, 992.0, 789.0, 875.0, 675.0, 451.0, 813.0, 665.0, 642.0, 652.0, 669.0, 531.0, 300.0, 397.0, 584.0, 593.0, 516.0, 416.0, 355.0, 178.0, 318.0, 321.0, 177.0, 518.0, 270.0, 197.0, 280.0, 283.0, 202.0, 379.0, 163.0, 346.0, 338.0, 303.0, 210.0, 329.0, 333.0, 251.0, 262.0, 224.0, 218.0, 122.0, 190.0, 296.0, 259.0, 175.0, 174.0, 126.0, 142.0, 187.0, 201.0, 223.0, 235.0, 192.0, 208.0, 138.0, 193.0, 229.0, 276.0, 188.0, 234.0, 169.0, 114.0, 163.0, 230.0, 233.0, 249.0, 219.0, 190.0, 129.0, 282.0, 306.0, 252.0, 275.0, 255.0, 170.0, 212.0, 289.0, 386.0, 379.0, 295.0, 239.0, 159.0, 190.0, 384.0, 402.0, 552.0, 347.0, 463.0, 259.0, 412.0, 481.0, 523.0, 574.0, 629.0, 479.0, 320.0, 403.0, 642.0, 845.0, 947.0, 1071.0, 1210.0, 953.0, 878.0, 1367.0, 1411.0, 1462.0, 1444.0, 1365.0, 996.0, 978.0, 1326.0, 1397.0, 1733.0, 1694.0, 1297.0, 1108.0, 1370.0, 1434.0, 1597.0, 1616.0, 1501.0, 1458.0, 1008.0, 1229.0, 1452.0, 1585.0, 1907.0, 1638.0, 1587.0, 1350.0, 1392.0, 1640.0]}, {\"mode\": \"lines\", \"name\": \"Predetti\", \"type\": \"scatter\", \"x\": [0, 1, 2, 3, 4, 5, 6, 7, 8, 9, 10, 11, 12, 13, 14, 15, 16, 17, 18, 19, 20, 21, 22, 23, 24, 25, 26, 27, 28, 29, 30, 31, 32, 33, 34, 35, 36, 37, 38, 39, 40, 41, 42, 43, 44, 45, 46, 47, 48, 49, 50, 51, 52, 53, 54, 55, 56, 57, 58, 59, 60, 61, 62, 63, 64, 65, 66, 67, 68, 69, 70, 71, 72, 73, 74, 75, 76, 77, 78, 79, 80, 81, 82, 83, 84, 85, 86, 87, 88, 89, 90, 91, 92, 93, 94, 95, 96, 97, 98, 99, 100, 101, 102, 103, 104, 105, 106, 107, 108, 109, 110, 111, 112, 113, 114, 115, 116, 117, 118, 119, 120, 121, 122, 123, 124, 125, 126, 127, 128, 129, 130, 131, 132, 133, 134, 135, 136, 137, 138, 139, 140, 141, 142, 143, 144, 145, 146, 147, 148, 149, 150, 151, 152, 153, 154, 155, 156, 157, 158, 159, 160, 161, 162, 163, 164, 165, 166, 167, 168, 169, 170, 171, 172, 173, 174, 175, 176, 177, 178, 179, 180, 181, 182, 183, 184, 185, 186, 187, 188, 189, 190, 191, 192, 193, 194, 195, 196, 197, 198, 199, 200, 201, 202, 203, 204, 205, 206, 207, 208, 209, 210, 211, 212], \"y\": [188.4221914459788, 234.35315370045237, 289.1258482850699, 353.8065804163514, 429.43786928851296, 516.9992762455363, 617.3643498075548, 731.2554450888424, 859.1985628619805, 1001.4806208109494, 1158.111678557193, 1328.794564032557, 1512.9040839126446, 1709.4775563079202, 1917.2178095184718, 2134.509091935166, 2359.44559155929, 2589.871530236196, 2823.431136688774, 3057.6262647031836, 3289.8790461125245, 3517.5967740257656, 3738.23620424563, 3949.364629923679, 4148.7154005489065, 4334.2359859540375, 4504.127188453735, 4656.872639816647, 4791.258245730569, 4906.381725762723, 5001.652816293994, 5076.785040837349, 5131.780198308828, 5166.906874611683, 5182.674351948182, 5179.8032838893705, 5159.1944356129825, 5121.896672504357, 5069.075231179144, 5001.981138661155, 4921.922469967161, 4830.237961668594, 4728.273336777667, 4617.360550001351, 4498.800035426655, 4373.845932697703, 4243.694182912266, 4109.473320952879, 3972.2377450793574, 3832.963215186144, 3692.544315802137, 3551.7936161143007, 3411.442264725192, 3272.1417691927054, 3134.4667277379776, 2998.918301065656, 2865.9282346457767, 2735.863264862768, 2609.0297652664012, 2485.678511078935, 2366.009460638772, 2250.176471314626, 2138.291884367267, 2030.4309282891336, 1926.6359032167238, 1826.920120276569, 1731.2715792118106, 1639.6563755265379, 1552.0218348477501, 1468.2993773605267, 1388.4071192161064, 1312.2522208782902, 1239.732994620601, 1170.7407849240408, 1105.1616364973015, 1042.87776514492, 983.7688468147826, 927.7131400023063, 874.5884562477586, 824.2729929318302, 776.6460418292554, 731.5885861380666, 688.9837978500582, 648.7174464799755, 610.6782293278957, 574.7580325839517, 540.852131797059, 508.8593394236814, 478.6821064511023, 450.2265843744972, 423.40265318079037, 398.12392036800156, 374.3076954871067, 351.87494418531423, 330.75022525843815, 310.86161380432895, 292.14061319004395, 274.5220581938047, 257.9440113833116, 242.34765450839768, 227.67717644601362, 213.8796590117563, 200.90496175480075, 188.7056066901423, 177.23666376646725, 166.45563772230526, 156.32235689618392, 146.79886441433337, 137.84931213027448, 129.43985758628696, 121.53856420813827, 114.11530489573488, 107.14166910844506, 100.59087351610651, 94.43767623740132, 88.65829467310687, 83.23032690151013, 78.1326765967242, 73.34548139446997, 68.85004464807571, 64.62877046666108, 60.665101949562086, 56.94346251749084, 80.40502385958098, 80.00903310408466, 80.07830302423099, 80.61955279842368, 81.64097941468935, 83.15217998888693, 85.16406819270924, 87.68878434752696, 90.73959880735492, 94.33080834065913, 98.47762528702151, 103.1960593793192, 108.50279219920048, 114.41504436088144, 120.95043561168131, 128.12683816315257, 135.96222367987502, 144.47450446616858, 153.68136952255736, 163.60011623046012, 174.247478563193, 185.639452804724, 197.79112185389386, 210.7164792874537, 224.42825441609602, 238.93773963779677, 254.25462142916513, 270.38681636360707, 287.34031353422324, 305.11902478084085, 323.72464409135864, 343.15651750101824, 363.4115247761074, 384.4839740836178, 406.3655107615923, 429.0450412086793, 452.50867278134683, 476.73967046957114, 501.71843097169767, 527.4224746361433, 553.8264555923524, 580.9021902106178, 608.6187038895441, 636.942295975663, 665.8366224699421, 695.2627960266254, 725.1795025556639, 755.5431336346956, 786.3079337757081, 817.4261614556308, 848.8482627376216, 880.5230561726785, 912.397927606391, 944.4190334500454, 976.5315108993964, 1008.6796935675375, 1040.8073309723404, 1072.857810307818, 1104.774378944363, 1136.5003661383525, 1167.979402448691, 1199.1556354446802, 1229.973940329277, 1260.3801241898327, 1290.321122683119, 1319.7451880425215, 1348.602067413507, 1376.8431706199772, 1404.4217265830375, 1431.2929277251824, 1457.414061819145, 1482.7446308351355, 1507.2464564774418, 1530.8837722098688, 1553.6233016566257, 1575.4343234020052, 1596.2887222890859, 1616.1610274102422, 1635.028437090572, 1652.8708312078961, 1669.6707713051, 1685.4134889810812, 1700.0868631251506, 1713.6813865920994, 1726.1901229705545, 1737.608654114767, 1747.9350191518315, 1757.1696456728387, 1765.3152738551726, 1772.3768742395332, 1778.3615599081386, 1783.278493785765, 1787.138791783189, 1789.9554224847234, 1791.7431040587253, 1792.518199045211, 1792.2986076447996, 1791.1036601218511, 1788.9540088591748, 1785.871520632063, 1781.8791695586988, 1777.0009312189068, 1771.261678345094, 1764.6870784750208, 1757.3034939221689, 1749.1378843658604, 1740.217712345533, 1730.5708518975298, 1720.2255005443585, 1709.2100948088337, 1697.5532294031, 1685.2835802022018, 1672.4298310902668, 1659.020604744088, 1645.0843973857118, 1630.6495175181772, 1615.7440286381752, 1600.395695901534, 1584.6319366869866, 1568.4797750111902, 1551.9657997130998, 1535.116126315319, 1517.9563624839066, 1500.5115769509575, 1482.8062718136352, 1464.8643580593052, 1446.70913421968, 1428.3632679850562, 1409.8487806777703, 1391.1870344264316, 1372.398721904785, 1353.5038585019647, 1334.5217767772847, 1315.4711230683606, 1296.3698561076308, 1277.2352475209627, 1258.083884070511, 1238.9316715158056, 1219.7938399667619, 1200.684950610157, 1181.6189036829164, 1162.6089475972112, 1143.6676890818635, 1124.807104266598, 1106.0385505836457, 1087.3727794041624, 1068.8199493249413, 1050.3896400008816, 1032.0908664657036, 1013.9320938478922, 995.9212524153991, 978.065752889961, 960.3725019522244, 942.8479178972193, 925.497946373478, 908.328076161677, 891.3433549428592, 874.5484050174709, 857.9474389374373, 841.5442750035436, 825.3423526167171, 809.344747435709, 793.5541863203398, 777.9730620437185, 762.6034477414214, 747.447111090878, 732.5055281901732, 717.7798971426673, 703.2711513119284, 688.9799722576863, 674.9068023358122, 661.0518569496926, 647.4151364635909, 633.9964377568685, 620.7953654352459, 607.8113426790806]}, {\"mode\": \"markers\", \"name\": \"Reali filtrati\", \"type\": \"scatter\", \"x\": [0, 1, 2, 3, 4, 5, 6, 7, 8, 9, 10, 11, 12, 13, 14, 15, 16, 17, 18, 19, 20, 21, 22, 23, 24, 25, 26, 27, 28, 29, 30, 31, 32, 33, 34, 35, 36, 37, 38, 39, 40, 41, 42, 43, 44, 45, 46, 47, 48, 49, 50, 51, 52, 53, 54, 55, 56, 57, 58, 59, 60, 61, 62, 63, 64, 65, 66, 67, 68, 69, 70, 71, 72, 73, 74, 75, 76, 77, 78, 79, 80, 81, 82, 83, 84, 85, 86, 87, 88, 89, 90, 91, 92, 93, 94, 95, 96, 97, 98, 99, 100, 101, 102, 103, 104, 105, 106, 107, 108, 109, 110, 111, 112, 113, 114, 115, 116, 117, 118, 119, 120, 121, 122, 123, 124, 125, 126, 127, 128, 129, 130, 131, 132, 133, 134, 135, 136, 137, 138, 139, 140, 141, 142, 143, 144, 145, 146, 147, 148, 149, 150, 151, 152, 153, 154, 155, 156, 157, 158, 159, 160, 161, 162, 163, 164, 165, 166, 167, 168, 169, 170, 171, 172, 173, 174, 175, 176, 177, 178, 179, 180, 181, 182, 183, 184, 185, 186, 187, 188, 189, 190, 191, 192, 193, 194, 195, 196, 197, 198, 199, 200, 201, 202, 203, 204, 205, 206, 207, 208, 209, 210, 211, 212], \"y\": [164.75, 179.8, 244.16666666666666, 258.14285714285717, 311.42857142857144, 384.14285714285717, 458.2857142857143, 535.4285714285714, 679.2857142857143, 811.5714285714286, 1019.4285714285714, 1092.4285714285713, 1339.0, 1607.857142857143, 1860.5714285714287, 2182.0, 2481.714285714286, 2686.8571428571427, 3051.0, 3321.5714285714284, 3703.1428571428573, 4194.428571428572, 4631.571428571428, 4913.0, 5135.285714285715, 5381.428571428572, 5524.714285714285, 5643.428571428572, 5639.571428571428, 5556.285714285715, 5507.285714285715, 5401.714285714285, 5230.857142857143, 5169.714285714285, 4957.571428571428, 4761.285714285715, 4594.285714285715, 4465.571428571428, 4401.142857142857, 4256.285714285715, 4121.142857142857, 4054.8571428571427, 3964.285714285714, 3948.4285714285716, 3916.4285714285716, 3852.714285714286, 3843.1428571428573, 3676.1428571428573, 3616.4285714285716, 3551.0, 3379.1428571428573, 3229.8571428571427, 3101.714285714286, 3067.0, 3167.4285714285716, 3004.5714285714284, 2937.1428571428573, 2775.1428571428573, 2671.8571428571427, 2598.0, 2506.8571428571427, 2323.4285714285716, 2212.8571428571427, 2062.0, 1996.7142857142858, 1863.142857142857, 1789.142857142857, 1644.0, 1552.2857142857142, 1485.0, 1393.857142857143, 1277.142857142857, 1193.2857142857142, 1125.142857142857, 1171.857142857143, 1092.4285714285713, 1034.0, 957.1428571428571, 927.4285714285714, 909.2857142857143, 867.4285714285714, 783.2857142857143, 751.4285714285714, 701.4285714285714, 681.8571428571429, 652.4285714285714, 631.8571428571429, 610.2857142857143, 550.8571428571429, 539.2857142857143, 532.2857142857143, 512.8571428571429, 476.7142857142857, 451.57142857142856, 434.14285714285717, 422.85714285714283, 385.2857142857143, 325.85714285714283, 326.14285714285717, 305.2857142857143, 282.7142857142857, 297.2857142857143, 292.2857142857143, 275.2857142857143, 304.14285714285717, 253.42857142857142, 264.2857142857143, 284.42857142857144, 287.7142857142857, 277.2857142857143, 295.42857142857144, 288.85714285714283, 301.42857142857144, 289.42857142857144, 273.14285714285717, 261.0, 248.42857142857142, 228.57142857142858, 223.28571428571428, 224.42857142857142, 212.0, 204.85714285714286, 191.71428571428572, 194.57142857142858, 194.14285714285714, 180.57142857142858, 175.42857142857142, 184.0, 186.57142857142858, 198.28571428571428, 197.71428571428572, 198.57142857142858, 202.57142857142858, 210.14285714285714, 203.42857142857142, 209.42857142857142, 203.85714285714286, 200.42857142857142, 196.14285714285714, 196.28571428571428, 190.14285714285714, 198.85714285714286, 196.71428571428572, 199.71428571428572, 201.85714285714286, 218.85714285714286, 229.71428571428572, 232.42857142857142, 236.14285714285714, 241.28571428571428, 238.42857142857142, 250.28571428571428, 251.28571428571428, 262.7142857142857, 280.85714285714283, 283.7142857142857, 281.42857142857144, 279.85714285714283, 276.7142857142857, 290.2857142857143, 292.57142857142856, 317.2857142857143, 324.7142857142857, 356.7142857142857, 371.0, 402.7142857142857, 416.57142857142856, 433.85714285714283, 437.0, 477.2857142857143, 479.57142857142856, 488.2857142857143, 487.0, 510.0, 556.0, 609.2857142857143, 672.4285714285714, 776.8571428571429, 867.2857142857143, 935.1428571428571, 1038.7142857142858, 1119.5714285714287, 1193.142857142857, 1246.4285714285713, 1268.5714285714287, 1274.7142857142858, 1289.0, 1283.142857142857, 1281.142857142857, 1319.857142857143, 1355.5714285714287, 1345.857142857143, 1361.857142857143, 1417.857142857143, 1433.2857142857142, 1461.857142857143, 1445.142857142857, 1417.5714285714287, 1440.5714285714287, 1426.2857142857142, 1406.142857142857, 1408.7142857142858, 1407.0, 1448.5714285714287, 1468.142857142857, 1486.5714285714287, 1535.4285714285713, 1558.7142857142858, 1585.5714285714287, 1585.6666666666667, 1521.4, 1492.25]}],\n",
       "                        {\"template\": {\"data\": {\"bar\": [{\"error_x\": {\"color\": \"#2a3f5f\"}, \"error_y\": {\"color\": \"#2a3f5f\"}, \"marker\": {\"line\": {\"color\": \"#E5ECF6\", \"width\": 0.5}}, \"type\": \"bar\"}], \"barpolar\": [{\"marker\": {\"line\": {\"color\": \"#E5ECF6\", \"width\": 0.5}}, \"type\": \"barpolar\"}], \"carpet\": [{\"aaxis\": {\"endlinecolor\": \"#2a3f5f\", \"gridcolor\": \"white\", \"linecolor\": \"white\", \"minorgridcolor\": \"white\", \"startlinecolor\": \"#2a3f5f\"}, \"baxis\": {\"endlinecolor\": \"#2a3f5f\", \"gridcolor\": \"white\", \"linecolor\": \"white\", \"minorgridcolor\": \"white\", \"startlinecolor\": \"#2a3f5f\"}, \"type\": \"carpet\"}], \"choropleth\": [{\"colorbar\": {\"outlinewidth\": 0, \"ticks\": \"\"}, \"type\": \"choropleth\"}], \"contour\": [{\"colorbar\": {\"outlinewidth\": 0, \"ticks\": \"\"}, \"colorscale\": [[0.0, \"#0d0887\"], [0.1111111111111111, \"#46039f\"], [0.2222222222222222, \"#7201a8\"], [0.3333333333333333, \"#9c179e\"], [0.4444444444444444, \"#bd3786\"], [0.5555555555555556, \"#d8576b\"], [0.6666666666666666, \"#ed7953\"], [0.7777777777777778, \"#fb9f3a\"], [0.8888888888888888, \"#fdca26\"], [1.0, \"#f0f921\"]], \"type\": \"contour\"}], \"contourcarpet\": [{\"colorbar\": {\"outlinewidth\": 0, \"ticks\": \"\"}, \"type\": \"contourcarpet\"}], \"heatmap\": [{\"colorbar\": {\"outlinewidth\": 0, \"ticks\": \"\"}, \"colorscale\": [[0.0, \"#0d0887\"], [0.1111111111111111, \"#46039f\"], [0.2222222222222222, \"#7201a8\"], [0.3333333333333333, \"#9c179e\"], [0.4444444444444444, \"#bd3786\"], [0.5555555555555556, \"#d8576b\"], [0.6666666666666666, \"#ed7953\"], [0.7777777777777778, \"#fb9f3a\"], [0.8888888888888888, \"#fdca26\"], [1.0, \"#f0f921\"]], \"type\": \"heatmap\"}], \"heatmapgl\": [{\"colorbar\": {\"outlinewidth\": 0, \"ticks\": \"\"}, \"colorscale\": [[0.0, \"#0d0887\"], [0.1111111111111111, \"#46039f\"], [0.2222222222222222, \"#7201a8\"], [0.3333333333333333, \"#9c179e\"], [0.4444444444444444, \"#bd3786\"], [0.5555555555555556, \"#d8576b\"], [0.6666666666666666, \"#ed7953\"], [0.7777777777777778, \"#fb9f3a\"], [0.8888888888888888, \"#fdca26\"], [1.0, \"#f0f921\"]], \"type\": \"heatmapgl\"}], \"histogram\": [{\"marker\": {\"colorbar\": {\"outlinewidth\": 0, \"ticks\": \"\"}}, \"type\": \"histogram\"}], \"histogram2d\": [{\"colorbar\": {\"outlinewidth\": 0, \"ticks\": \"\"}, \"colorscale\": [[0.0, \"#0d0887\"], [0.1111111111111111, \"#46039f\"], [0.2222222222222222, \"#7201a8\"], [0.3333333333333333, \"#9c179e\"], [0.4444444444444444, \"#bd3786\"], [0.5555555555555556, \"#d8576b\"], [0.6666666666666666, \"#ed7953\"], [0.7777777777777778, \"#fb9f3a\"], [0.8888888888888888, \"#fdca26\"], [1.0, \"#f0f921\"]], \"type\": \"histogram2d\"}], \"histogram2dcontour\": [{\"colorbar\": {\"outlinewidth\": 0, \"ticks\": \"\"}, \"colorscale\": [[0.0, \"#0d0887\"], [0.1111111111111111, \"#46039f\"], [0.2222222222222222, \"#7201a8\"], [0.3333333333333333, \"#9c179e\"], [0.4444444444444444, \"#bd3786\"], [0.5555555555555556, \"#d8576b\"], [0.6666666666666666, \"#ed7953\"], [0.7777777777777778, \"#fb9f3a\"], [0.8888888888888888, \"#fdca26\"], [1.0, \"#f0f921\"]], \"type\": \"histogram2dcontour\"}], \"mesh3d\": [{\"colorbar\": {\"outlinewidth\": 0, \"ticks\": \"\"}, \"type\": \"mesh3d\"}], \"parcoords\": [{\"line\": {\"colorbar\": {\"outlinewidth\": 0, \"ticks\": \"\"}}, \"type\": \"parcoords\"}], \"pie\": [{\"automargin\": true, \"type\": \"pie\"}], \"scatter\": [{\"marker\": {\"colorbar\": {\"outlinewidth\": 0, \"ticks\": \"\"}}, \"type\": \"scatter\"}], \"scatter3d\": [{\"line\": {\"colorbar\": {\"outlinewidth\": 0, \"ticks\": \"\"}}, \"marker\": {\"colorbar\": {\"outlinewidth\": 0, \"ticks\": \"\"}}, \"type\": \"scatter3d\"}], \"scattercarpet\": [{\"marker\": {\"colorbar\": {\"outlinewidth\": 0, \"ticks\": \"\"}}, \"type\": \"scattercarpet\"}], \"scattergeo\": [{\"marker\": {\"colorbar\": {\"outlinewidth\": 0, \"ticks\": \"\"}}, \"type\": \"scattergeo\"}], \"scattergl\": [{\"marker\": {\"colorbar\": {\"outlinewidth\": 0, \"ticks\": \"\"}}, \"type\": \"scattergl\"}], \"scattermapbox\": [{\"marker\": {\"colorbar\": {\"outlinewidth\": 0, \"ticks\": \"\"}}, \"type\": \"scattermapbox\"}], \"scatterpolar\": [{\"marker\": {\"colorbar\": {\"outlinewidth\": 0, \"ticks\": \"\"}}, \"type\": \"scatterpolar\"}], \"scatterpolargl\": [{\"marker\": {\"colorbar\": {\"outlinewidth\": 0, \"ticks\": \"\"}}, \"type\": \"scatterpolargl\"}], \"scatterternary\": [{\"marker\": {\"colorbar\": {\"outlinewidth\": 0, \"ticks\": \"\"}}, \"type\": \"scatterternary\"}], \"surface\": [{\"colorbar\": {\"outlinewidth\": 0, \"ticks\": \"\"}, \"colorscale\": [[0.0, \"#0d0887\"], [0.1111111111111111, \"#46039f\"], [0.2222222222222222, \"#7201a8\"], [0.3333333333333333, \"#9c179e\"], [0.4444444444444444, \"#bd3786\"], [0.5555555555555556, \"#d8576b\"], [0.6666666666666666, \"#ed7953\"], [0.7777777777777778, \"#fb9f3a\"], [0.8888888888888888, \"#fdca26\"], [1.0, \"#f0f921\"]], \"type\": \"surface\"}], \"table\": [{\"cells\": {\"fill\": {\"color\": \"#EBF0F8\"}, \"line\": {\"color\": \"white\"}}, \"header\": {\"fill\": {\"color\": \"#C8D4E3\"}, \"line\": {\"color\": \"white\"}}, \"type\": \"table\"}]}, \"layout\": {\"annotationdefaults\": {\"arrowcolor\": \"#2a3f5f\", \"arrowhead\": 0, \"arrowwidth\": 1}, \"coloraxis\": {\"colorbar\": {\"outlinewidth\": 0, \"ticks\": \"\"}}, \"colorscale\": {\"diverging\": [[0, \"#8e0152\"], [0.1, \"#c51b7d\"], [0.2, \"#de77ae\"], [0.3, \"#f1b6da\"], [0.4, \"#fde0ef\"], [0.5, \"#f7f7f7\"], [0.6, \"#e6f5d0\"], [0.7, \"#b8e186\"], [0.8, \"#7fbc41\"], [0.9, \"#4d9221\"], [1, \"#276419\"]], \"sequential\": [[0.0, \"#0d0887\"], [0.1111111111111111, \"#46039f\"], [0.2222222222222222, \"#7201a8\"], [0.3333333333333333, \"#9c179e\"], [0.4444444444444444, \"#bd3786\"], [0.5555555555555556, \"#d8576b\"], [0.6666666666666666, \"#ed7953\"], [0.7777777777777778, \"#fb9f3a\"], [0.8888888888888888, \"#fdca26\"], [1.0, \"#f0f921\"]], \"sequentialminus\": [[0.0, \"#0d0887\"], [0.1111111111111111, \"#46039f\"], [0.2222222222222222, \"#7201a8\"], [0.3333333333333333, \"#9c179e\"], [0.4444444444444444, \"#bd3786\"], [0.5555555555555556, \"#d8576b\"], [0.6666666666666666, \"#ed7953\"], [0.7777777777777778, \"#fb9f3a\"], [0.8888888888888888, \"#fdca26\"], [1.0, \"#f0f921\"]]}, \"colorway\": [\"#636efa\", \"#EF553B\", \"#00cc96\", \"#ab63fa\", \"#FFA15A\", \"#19d3f3\", \"#FF6692\", \"#B6E880\", \"#FF97FF\", \"#FECB52\"], \"font\": {\"color\": \"#2a3f5f\"}, \"geo\": {\"bgcolor\": \"white\", \"lakecolor\": \"white\", \"landcolor\": \"#E5ECF6\", \"showlakes\": true, \"showland\": true, \"subunitcolor\": \"white\"}, \"hoverlabel\": {\"align\": \"left\"}, \"hovermode\": \"closest\", \"mapbox\": {\"style\": \"light\"}, \"paper_bgcolor\": \"white\", \"plot_bgcolor\": \"#E5ECF6\", \"polar\": {\"angularaxis\": {\"gridcolor\": \"white\", \"linecolor\": \"white\", \"ticks\": \"\"}, \"bgcolor\": \"#E5ECF6\", \"radialaxis\": {\"gridcolor\": \"white\", \"linecolor\": \"white\", \"ticks\": \"\"}}, \"scene\": {\"xaxis\": {\"backgroundcolor\": \"#E5ECF6\", \"gridcolor\": \"white\", \"gridwidth\": 2, \"linecolor\": \"white\", \"showbackground\": true, \"ticks\": \"\", \"zerolinecolor\": \"white\"}, \"yaxis\": {\"backgroundcolor\": \"#E5ECF6\", \"gridcolor\": \"white\", \"gridwidth\": 2, \"linecolor\": \"white\", \"showbackground\": true, \"ticks\": \"\", \"zerolinecolor\": \"white\"}, \"zaxis\": {\"backgroundcolor\": \"#E5ECF6\", \"gridcolor\": \"white\", \"gridwidth\": 2, \"linecolor\": \"white\", \"showbackground\": true, \"ticks\": \"\", \"zerolinecolor\": \"white\"}}, \"shapedefaults\": {\"line\": {\"color\": \"#2a3f5f\"}}, \"ternary\": {\"aaxis\": {\"gridcolor\": \"white\", \"linecolor\": \"white\", \"ticks\": \"\"}, \"baxis\": {\"gridcolor\": \"white\", \"linecolor\": \"white\", \"ticks\": \"\"}, \"bgcolor\": \"#E5ECF6\", \"caxis\": {\"gridcolor\": \"white\", \"linecolor\": \"white\", \"ticks\": \"\"}}, \"title\": {\"x\": 0.05}, \"xaxis\": {\"automargin\": true, \"gridcolor\": \"white\", \"linecolor\": \"white\", \"ticks\": \"\", \"title\": {\"standoff\": 15}, \"zerolinecolor\": \"white\", \"zerolinewidth\": 2}, \"yaxis\": {\"automargin\": true, \"gridcolor\": \"white\", \"linecolor\": \"white\", \"ticks\": \"\", \"title\": {\"standoff\": 15}, \"zerolinecolor\": \"white\", \"zerolinewidth\": 2}}}, \"title\": {\"text\": \"Nuovi contagi\"}, \"xaxis\": {\"tickmode\": \"array\", \"ticktext\": [\"2020-02-24\", \"2020-03-02\", \"2020-03-09\", \"2020-03-16\", \"2020-03-23\", \"2020-03-30\", \"2020-04-06\", \"2020-04-13\", \"2020-04-20\", \"2020-04-27\", \"2020-05-04\", \"2020-05-11\", \"2020-05-18\", \"2020-05-25\", \"2020-06-01\", \"2020-06-08\", \"2020-06-15\", \"2020-06-22\", \"2020-06-29\", \"2020-07-06\", \"2020-07-13\", \"2020-07-20\", \"2020-07-27\", \"2020-08-03\", \"2020-08-10\", \"2020-08-17\", \"2020-08-24\", \"2020-08-31\", \"2020-09-07\", \"2020-09-14\", \"2020-09-21\"], \"tickvals\": [0, 7, 14, 21, 28, 35, 42, 49, 56, 63, 70, 77, 84, 91, 98, 105, 112, 119, 126, 133, 140, 147, 154, 161, 168, 175, 182, 189, 196, 203, 210]}},\n",
       "                        {\"responsive\": true}\n",
       "                    ).then(function(){\n",
       "                            \n",
       "var gd = document.getElementById('349b9d84-8577-437e-9ebb-54e096f8688a');\n",
       "var x = new MutationObserver(function (mutations, observer) {{\n",
       "        var display = window.getComputedStyle(gd).display;\n",
       "        if (!display || display === 'none') {{\n",
       "            console.log([gd, 'removed!']);\n",
       "            Plotly.purge(gd);\n",
       "            observer.disconnect();\n",
       "        }}\n",
       "}});\n",
       "\n",
       "// Listen for the removal of the full notebook cells\n",
       "var notebookContainer = gd.closest('#notebook-container');\n",
       "if (notebookContainer) {{\n",
       "    x.observe(notebookContainer, {childList: true});\n",
       "}}\n",
       "\n",
       "// Listen for the clearing of the current output cell\n",
       "var outputEl = gd.closest('.output');\n",
       "if (outputEl) {{\n",
       "    x.observe(outputEl, {childList: true});\n",
       "}}\n",
       "\n",
       "                        })\n",
       "                };\n",
       "                });\n",
       "            </script>\n",
       "        </div>"
      ]
     },
     "metadata": {},
     "output_type": "display_data"
    }
   ],
   "source": [
    "fig = go.Figure()\n",
    "\n",
    "# Add traces\n",
    "fig.add_trace(go.Scatter(x=day_counter,\n",
    "                         y=nuovi_contagi_reali,\n",
    "                         mode='markers',\n",
    "                         name='Reali'))\n",
    "fig.add_trace(go.Scatter(x=day_counter,\n",
    "                         y=nuovi_contagi_pred,\n",
    "                         mode='lines',\n",
    "                         name='Predetti'))\n",
    "fig.add_trace(go.Scatter(x=day_counter,\n",
    "                         y=nuovi_contagi_reali_filtered,\n",
    "                         mode='markers',\n",
    "                         name='Reali filtrati'))\n",
    "fig.update_layout(title='Nuovi contagi',\n",
    "                  xaxis_tickmode = 'array',\n",
    "                  xaxis_tickvals = np.arange(0,len(day_counter),7),\n",
    "                  xaxis_ticktext = [g[0:10] for g in giorni[np.arange(0,len(day_counter),7)]])\n",
    "fig.show()"
   ]
  },
  {
   "cell_type": "code",
   "execution_count": 180,
   "metadata": {},
   "outputs": [
    {
     "name": "stderr",
     "output_type": "stream",
     "text": [
      "C:\\Users\\klaat\\Anaconda3\\lib\\site-packages\\ipykernel_launcher.py:13: UserWarning:\n",
      "\n",
      "Matplotlib is currently using module://ipykernel.pylab.backend_inline, which is a non-GUI backend, so cannot show the figure.\n",
      "\n"
     ]
    },
    {
     "data": {
      "image/png": "[encoded data removed]",
      "text/plain": [
       "<Figure size 864x432 with 1 Axes>"
      ]
     },
     "metadata": {
      "needs_background": "light"
     },
     "output_type": "display_data"
    }
   ],
   "source": [
    "from scipy.signal import savgol_filter\n",
    "\n",
    "\n",
    "fig,ax=plt.subplots(1,1,figsize=(12,6))\n",
    "errore_giornaliero=nuovi_contagi_pred[0:len(nuovi_contagi_reali)]-nuovi_contagi_reali\n",
    "ax.bar(day_counter[0:len(nuovi_contagi_reali)],errore_giornaliero)\n",
    "#ax.plot(day_counter[0:len(nuovi_contagi_reali)],moving_function_rev1(errore_giornaliero,np.mean,5,2),'r',linewidth=3)\n",
    "ax.plot(day_counter[0:len(nuovi_contagi_reali)],savgol_filter(errore_giornaliero,13,1),'r',linewidth=3)\n",
    "ax.axvline(days_training-2)\n",
    "ax.set_title('Nuovi contagi - Errore')\n",
    "ax.grid()\n",
    "fig.tight_layout()\n",
    "fig.show()"
   ]
  },
  {
   "cell_type": "code",
   "execution_count": null,
   "metadata": {},
   "outputs": [],
   "source": []
  },
  {
   "cell_type": "code",
   "execution_count": null,
   "metadata": {},
   "outputs": [],
   "source": []
  }
 ],
 "metadata": {
  "kernelspec": {
   "display_name": "Python 3",
   "language": "python",
   "name": "python3"
  },
  "language_info": {
   "codemirror_mode": {
    "name": "ipython",
    "version": 3
   },
   "file_extension": ".py",
   "mimetype": "text/x-python",
   "name": "python",
   "nbconvert_exporter": "python",
   "pygments_lexer": "ipython3",
   "version": "3.7.1"
  }
 },
 "nbformat": 4,
 "nbformat_minor": 4
}
