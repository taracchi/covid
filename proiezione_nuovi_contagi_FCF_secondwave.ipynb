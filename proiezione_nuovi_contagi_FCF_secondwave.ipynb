{
 "cells": [
  {
   "cell_type": "code",
   "execution_count": 1,
   "metadata": {},
   "outputs": [],
   "source": [
    "import numpy as np\n",
    "import pickle as pkl\n",
    "from datetime import datetime, timedelta\n",
    "import matplotlib.pyplot as plt\n",
    "import matplotlib.colors as mcolors\n",
    "from aidam.miscellanea_utils import find_matlabstyle\n",
    "\n",
    "import seaborn as sns\n",
    "\n",
    "from aidam.faga.curve_fit import FagaCurveFit\n",
    "\n",
    "from aidam.math_utils import moving_function_rev1\n",
    "from aidam.NbEnhance import tabprint"
   ]
  },
  {
   "cell_type": "markdown",
   "metadata": {},
   "source": [
    "## Lettura dati"
   ]
  },
  {
   "cell_type": "code",
   "execution_count": 2,
   "metadata": {},
   "outputs": [
    {
     "name": "stdout",
     "output_type": "stream",
     "text": [
      "Giorni osservati: 232\n",
      "Primo giorno: 2020-02-24T18:00:00\n",
      "Ultimo giorno: 2020-10-12T17:00:00\n"
     ]
    }
   ],
   "source": [
    "data_file='stored_data.pkl'\n",
    "\n",
    "infile=open(data_file,'rb')\n",
    "trend=pkl.load(infile)\n",
    "regioni=pkl.load(infile)\n",
    "giorni=pkl.load(infile)\n",
    "giorno_settimana=pkl.load(infile)\n",
    "infile.close()\n",
    "\n",
    "day_counter=list(range(len(giorni)))\n",
    "\n",
    "print('Giorni osservati: %d'%len(giorni))\n",
    "print('Primo giorno: %s'%giorni[0])\n",
    "print('Ultimo giorno: %s'%giorni[-1])"
   ]
  },
  {
   "cell_type": "markdown",
   "metadata": {},
   "source": [
    "Preparazione date\n",
    "\n",
    "- creo il giorno 0 nel formato *datetime* per poi creare i nuovi plot su questa base\n",
    "- creo una lista di giorni (in formato di stringhe) partendo dal giorno0"
   ]
  },
  {
   "cell_type": "code",
   "execution_count": 3,
   "metadata": {},
   "outputs": [],
   "source": [
    "giorno0=datetime.strptime(giorni[0][0:10], \"%Y-%m-%d\")\n",
    "str_giorni=[]\n",
    "for d in range(500):\n",
    "    str_giorni.append((giorno0+timedelta(d)).strftime(\"%Y-%m-%d\"))\n",
    "str_giorni=np.array(str_giorni)\n",
    "\n",
    "oggi=datetime.strftime(datetime.now(), \"%Y-%m-%d\")\n",
    "indice_oggi=find_matlabstyle(str_giorni,lambda x:x==oggi)[0]"
   ]
  },
  {
   "cell_type": "markdown",
   "metadata": {},
   "source": [
    "## Funzioni base\n",
    "\n",
    "Si testano due versioni generalizzate della sigmoide:\n",
    "\n",
    "- sigmoide generalizzata\n",
    "- sigmoide generalizzata estesa"
   ]
  },
  {
   "cell_type": "code",
   "execution_count": 8,
   "metadata": {},
   "outputs": [],
   "source": [
    "def generalized_sigmoid(t,a,b,M,alpha):\n",
    "    y=M/(1+np.exp(-a*t+b))**alpha\n",
    "    return y\n",
    "\n",
    "def generalized_sigmoid_ext(t,a,b,c,M,alpha):\n",
    "    y=(M+c*t)/(1+np.exp(-a*t+b))**alpha\n",
    "    return y\n",
    "\n",
    "\n",
    "def two_waves_generalized_sigmoids_ext(t,t_sw,a1,b1,c1,M1,alpha1,a2,b2,c2,M2,alpha2):    \n",
    "    if t<=t_sw:\n",
    "        y=(M1+c1*t)/(1+np.exp(-a1*t+b1))**alpha1\n",
    "    else:\n",
    "        #y=(M1+c1*t)/(1+np.exp(-a1*t+b1))**alpha1+(M2+c2*t)/(1+np.exp(-a2*(t-t_sw)+b2))**alpha2\n",
    "        y=(M1+c1*t)/(1+np.exp(-a1*t+b1))**alpha1+(M2+c2*(t-t_sw))/(1+np.exp(-a2*(t-t_sw)+b2))**alpha2-(M2)/(1+np.exp(b2))**alpha2\n",
    "    return y\n",
    "\n",
    "\n",
    "def two_waves_generalized_sigmoids(t,t_sw,a1,b1,M1,alpha1,a2,b2,M2,alpha2):\n",
    "    t_sw=np.round(t_sw)\n",
    "    if t<t_sw:\n",
    "        y=(M1)/(1+np.exp(-a1*t+b1))**alpha1    \n",
    "    else:        \n",
    "        y1=(M1)/(1+np.exp(-a1*t_sw+b1))**alpha1\n",
    "        y2=(M2)/(1+np.exp(-a2*(t-t_sw)+b2))**alpha2\n",
    "        y=y1+y2\n",
    "    return y\n",
    "\n",
    "\n",
    "\n",
    "employed_model=two_waves_generalized_sigmoids_ext"
   ]
  },
  {
   "cell_type": "markdown",
   "metadata": {},
   "source": [
    "## Nuovi positivi *normalizzati*"
   ]
  },
  {
   "cell_type": "raw",
   "metadata": {},
   "source": [
    "from scipy.signal import savgol_filter\n",
    "trend['perc_tamponi_positivi']['Italia'][0]=trend['perc_tamponi_positivi']['Italia'][1]\n",
    "\n",
    "np_it=trend['nuovi_positivi']['Italia']\n",
    "\n",
    "\n",
    "nwt=7\n",
    "nwp=3\n",
    "\n",
    "\n",
    "norm_np_it=0.01*np.multiply(moving_function_rev1(trend['tamponi_giornalieri']['Italia'],np.median,nwt,nwt),\n",
    "                     moving_function_rev1(trend['perc_tamponi_positivi']['Italia'],np.mean,nwp,nwp))\n",
    "\n",
    "norm_np_it=savgol_filter(norm_np_it,9,1)"
   ]
  },
  {
   "cell_type": "markdown",
   "metadata": {},
   "source": [
    "### Test plots"
   ]
  },
  {
   "cell_type": "raw",
   "metadata": {},
   "source": [
    "test_pars=[115,0.1, 0.05, 5,2.5e+5,2,0.1, 0, 2,2.5e+5,2\n",
    "           \n",
    "y_pred=np.array(list(map(lambda x:employed_model(x,*test_pars),day_counter)))\n",
    "\n",
    "plt.plot(day_counter,y_pred)"
   ]
  },
  {
   "cell_type": "markdown",
   "metadata": {},
   "source": [
    "## Fitting"
   ]
  },
  {
   "cell_type": "code",
   "execution_count": 9,
   "metadata": {},
   "outputs": [
    {
     "data": {
      "image/png": "[encoded data removed]",
      "text/plain": [
       "<Figure size 576x288 with 1 Axes>"
      ]
     },
     "metadata": {
      "needs_background": "light"
     },
     "output_type": "display_data"
    }
   ],
   "source": [
    "target_data=np.cumsum(trend['nuovi_positivi']['Italia'])\n",
    "#target_data=np.cumsum(norm_np_it)\n",
    "target_data_filtered=moving_function_rev1(target_data,np.mean,3,3)\n",
    "\n",
    "fig,ax=plt.subplots(1,1,figsize=(8,4))\n",
    "ax.plot(day_counter,target_data,'o')\n",
    "ax.plot(day_counter,target_data_filtered,'-')\n",
    "ax.set_xticks(list(range(0,len(target_data),7)))\n",
    "ax.set_title('Target: casi totali')\n",
    "ax.set_xticklabels(str_giorni[list(range(0,len(target_data),7))],rotation=90)\n",
    "ax.grid()"
   ]
  },
  {
   "cell_type": "markdown",
   "metadata": {},
   "source": [
    "## GA-based Curve fitting\n",
    "\n",
    "E' possibile utilizzare solo **parzialmente** i dati per il tuning del modello: tramite il parametro `days_training` si decide quanti giorni usare effettivamente dall'inizio del dataset\n"
   ]
  },
  {
   "cell_type": "code",
   "execution_count": 33,
   "metadata": {},
   "outputs": [
    {
     "name": "stdout",
     "output_type": "stream",
     "text": [
      "            0         1         2         3         4         5         6         7         8         9        10\n",
      "         ----      ----      ----      ----      ----      ----      ----      ----      ----      ----      ----\n",
      "Min     150.0       0.0       0.0       0.0  300000.0       2.0       0.0       0.0       0.0  300000.0       2.0\n",
      "Max     180.0       3.0       3.0      20.0 1500000.0      15.0       3.0       3.0      20.0 1500000.0      15.0\n"
     ]
    }
   ],
   "source": [
    "days_training=len(target_data)#-28\n",
    "\n",
    "# Italia\n",
    "a_range=[0,3]\n",
    "b_range=[0, 3]\n",
    "c_range=[0,20]\n",
    "M_range=[3e+5,15e+5]\n",
    "alpha_range=[2,15] # 5 - 15\n",
    "t_sw_range=[150,180]\n",
    "\n",
    "'''\n",
    "# dominio per generalized_sigmoid_ext\n",
    "dominio=np.vstack((a_range,\n",
    "                   b_range,\n",
    "                   c_range,\n",
    "                   M_range,\n",
    "                   alpha_range))\n",
    "'''\n",
    "\n",
    "\n",
    "\n",
    "# dominio per two_waves_generalized_sigmoids_ext\n",
    "#M_range=[0,3e+5]\n",
    "dominio=np.vstack((t_sw_range,\n",
    "                   a_range,\n",
    "                   b_range,\n",
    "                   c_range,\n",
    "                   M_range,\n",
    "                   alpha_range,\n",
    "                   a_range,\n",
    "                   b_range,\n",
    "                   c_range,\n",
    "                   M_range,\n",
    "                   alpha_range))\n",
    "\n",
    "'''\n",
    "# dominio per two_waves_generalized_sigmoids\n",
    "#M_range=[0,3e+5]\n",
    "dominio=np.vstack((t_sw_range,\n",
    "                   a_range,\n",
    "                   b_range,\n",
    "                   M_range,\n",
    "                   alpha_range,\n",
    "                   a_range,\n",
    "                   b_range,\n",
    "                   M_range,\n",
    "                   alpha_range))\n",
    "'''\n",
    "                   \n",
    "dominio=dominio.T\n",
    "\n",
    "tabprint(dominio,digits=10,precision=1,index=['Min','Max'])"
   ]
  },
  {
   "cell_type": "code",
   "execution_count": 34,
   "metadata": {},
   "outputs": [
    {
     "name": "stdout",
     "output_type": "stream",
     "text": [
      "Welcome to FagaCurveFit!\n",
      "Gen:     0 BestAll: 0.4694 BestGen: 0.4694  BioDiv: 6.8e+04\n",
      "Gen:   200 BestAll: 1.212 BestGen: 1.212  AveFit: 1.049\n",
      "Gen:   400 BestAll: 3.016 BestGen: 3.016  AveFit: 2.628\n",
      "Gen:   600 BestAll: 3.14 BestGen: 3.14  AveFit: 2.921\n",
      "Gen:   800 BestAll: 3.46 BestGen: 3.46  AveFit: 3.011\n",
      "Gen:  1000 BestAll: 3.46 BestGen: 3.46  AveFit: 3.081\n"
     ]
    }
   ],
   "source": [
    "def error_measure(predicted,actual):\n",
    "    #return np.mean(np.abs(predicted-actual))+np.std(np.abs(predicted-actual))\n",
    "    return 0.5*np.mean(np.abs(predicted-actual))+0.5*np.mean(np.abs(predicted[-14:]-actual[-14:]))\n",
    "    #return 0.7*np.mean(np.abs(predicted[:-30]-actual[:-30]))+0.15*np.mean(np.abs(predicted[-14:-7]-actual[-14:-7]))+0.15*np.mean(np.abs(predicted[-7:]-actual[-7:]))\n",
    "    #return np.percentile(np.abs(predicted-actual),80)+np.mean(np.abs(predicted-actual))\n",
    "    #return np.mean(np.abs(predicted-actual))\n",
    "\n",
    "np.random.seed(42)\n",
    "    \n",
    "fct=FagaCurveFit()\n",
    "\n",
    "fct.fit(employed_model, \n",
    "        np.arange(days_training),\n",
    "        target_data[0:days_training],\n",
    "        dominio,\n",
    "        ga_generations=1000, ga_population=50,print_info=200,\n",
    "        error_function=error_measure,\n",
    "        num_mutations=1)\n",
    "\n"
   ]
  },
  {
   "cell_type": "code",
   "execution_count": 27,
   "metadata": {},
   "outputs": [
    {
     "name": "stdout",
     "output_type": "stream",
     "text": [
      "\n",
      "Optimal solution is: \n",
      "[1.63251900e+02 8.93734876e-02 5.33156892e-01 1.48993890e+01\n",
      " 2.31858990e+05 1.19170349e+01 7.27951403e-02 9.69081828e-01\n",
      " 1.02384092e+01 1.22526829e+05 8.81675300e+00]\n",
      "Inizio second wave: giorno 163, 2020-08-05T17:00:00\n"
     ]
    }
   ],
   "source": [
    "solution=fct.opt_params\n",
    "\n",
    "print('\\nOptimal solution is: ')\n",
    "\n",
    "print(solution)\n",
    "# Interpretazione della soluzione\n",
    "print('Inizio second wave: giorno %d, %s'%(solution[0],giorni[int(np.round(solution[0]))]))\n"
   ]
  },
  {
   "cell_type": "code",
   "execution_count": 28,
   "metadata": {},
   "outputs": [
    {
     "data": {
      "text/plain": [
       "Text(0.5, 0.98, 'Fitness trends')"
      ]
     },
     "execution_count": 28,
     "metadata": {},
     "output_type": "execute_result"
    },
    {
     "data": {
      "image/png": "[encoded data removed]",
      "text/plain": [
       "<Figure size 1008x360 with 2 Axes>"
      ]
     },
     "metadata": {
      "needs_background": "light"
     },
     "output_type": "display_data"
    }
   ],
   "source": [
    "fig,ax=plt.subplots(1,2,figsize=(14,5))\n",
    "ax[0].plot(fct.fitness_tracker['average'],label='Average')\n",
    "ax[0].plot(fct.fitness_tracker['max'],label='Max')\n",
    "ax[0].legend()\n",
    "ax[1].plot(fct.fitness_tracker['std'],label='Std')\n",
    "ax[1].legend()\n",
    "fig.suptitle('Fitness trends')\n"
   ]
  },
  {
   "cell_type": "markdown",
   "metadata": {},
   "source": [
    "Adesso applico il modello tunato sia ai giorni passati sia a giorni futuri.\n",
    "\n",
    "*forecast_days* sono i giorni per cui lo applico: iniziano dal giorno 0 e finoscono quando si vuole nel futuro"
   ]
  },
  {
   "cell_type": "code",
   "execution_count": 29,
   "metadata": {},
   "outputs": [],
   "source": [
    "forecast_days=np.arange(300)\n",
    "y_pred=np.array(list(map(lambda x:employed_model(x,*solution),forecast_days)))"
   ]
  },
  {
   "cell_type": "markdown",
   "metadata": {},
   "source": [
    "#### Plots"
   ]
  },
  {
   "cell_type": "code",
   "execution_count": 30,
   "metadata": {},
   "outputs": [
    {
     "name": "stderr",
     "output_type": "stream",
     "text": [
      "C:\\Users\\klaat\\Anaconda3\\lib\\site-packages\\ipykernel_launcher.py:19: UserWarning: Matplotlib is currently using module://ipykernel.pylab.backend_inline, which is a non-GUI backend, so cannot show the figure.\n"
     ]
    },
    {
     "data": {
      "image/png": "[encoded data removed]",
      "text/plain": [
       "<Figure size 864x720 with 2 Axes>"
      ]
     },
     "metadata": {
      "needs_background": "light"
     },
     "output_type": "display_data"
    }
   ],
   "source": [
    "# preparazione palette colori\n",
    "lista_colori=list(mcolors.TABLEAU_COLORS.items())\n",
    "color_names=[cn[0] for cn in lista_colori]\n",
    "\n",
    "fig,ax=plt.subplots(2,1,figsize=(12,10))\n",
    "ax[0].plot(day_counter,target_data,label='Reale',linewidth=4)\n",
    "ax[0].plot(forecast_days,y_pred,'r--',label='Predetto')\n",
    "ax[0].axvline(days_training-1,c='g',ls='--',label='Fine tuning')\n",
    "ax[0].set_xticks(list(range(0,len(forecast_days),5)))\n",
    "ax[0].set_xticklabels(str_giorni[list(range(0,len(forecast_days),5))],rotation=90)\n",
    "ax[0].set_ylabel('Totale infetti')\n",
    "ax[0].legend()\n",
    "ax[0].grid()\n",
    "\n",
    "ax[1].bar(day_counter,y_pred[day_counter]-target_data)\n",
    "ax[1].axvline(days_training-1)\n",
    "ax[1].set_title('Errore giornaliero')\n",
    "fig.tight_layout()\n",
    "fig.show()"
   ]
  },
  {
   "cell_type": "markdown",
   "metadata": {},
   "source": [
    "### Adesso vediamo, secondo il modello, quando non avremo più contagiati"
   ]
  },
  {
   "cell_type": "code",
   "execution_count": 31,
   "metadata": {},
   "outputs": [],
   "source": [
    "nuovi_contagi_pred=np.diff(y_pred)\n",
    "\n",
    "nuovi_contagi_reali=np.diff(target_data)\n",
    "nuovi_contagi_reali_filtered=moving_function_rev1(nuovi_contagi_reali,np.mean,3,3)#np.diff(target_data_filtered)"
   ]
  },
  {
   "cell_type": "code",
   "execution_count": 32,
   "metadata": {},
   "outputs": [
    {
     "data": {
      "text/plain": [
       "<matplotlib.legend.Legend at 0x21527a51e48>"
      ]
     },
     "execution_count": 32,
     "metadata": {},
     "output_type": "execute_result"
    },
    {
     "data": {
      "image/png": "[encoded data removed]",
      "text/plain": [
       "<Figure size 1008x432 with 1 Axes>"
      ]
     },
     "metadata": {
      "needs_background": "light"
     },
     "output_type": "display_data"
    }
   ],
   "source": [
    "fig,ax=plt.subplots(1,1,figsize=(14,6))\n",
    "ax.plot(nuovi_contagi_pred,'-',label='Nuovi contagi predetti')\n",
    "ax.set_ylabel('Nuovi contagi')\n",
    "\n",
    "ax.plot(nuovi_contagi_reali,'o',label='Contagi reali')\n",
    "#ax.plot(nuovi_contagi_reali_filtered,'+',label='Contagi reali filt.')\n",
    "ax.axvline(x=days_training,linewidth=2, color='k',linestyle='--',label='Fine fitting')\n",
    "    \n",
    "ax.set_xticks(list(range(0,len(forecast_days),10)))\n",
    "ax.set_xticklabels(str_giorni[list(range(1,len(forecast_days),10))],rotation=90)\n",
    "ax.grid()\n",
    "ax.legend()\n"
   ]
  },
  {
   "cell_type": "code",
   "execution_count": 40,
   "metadata": {},
   "outputs": [],
   "source": [
    "import plotly.graph_objects as go"
   ]
  },
  {
   "cell_type": "code",
   "execution_count": 41,
   "metadata": {},
   "outputs": [
    {
     "data": {
      "application/vnd.plotly.v1+json": {
       "config": {
        "plotlyServerURL": "https://plot.ly"
       },
       "data": [
        {
         "mode": "markers",
         "name": "Reali",
         "type": "scatter",
         "x": [
          0,
          1,
          2,
          3,
          4,
          5,
          6,
          7,
          8,
          9,
          10,
          11,
          12,
          13,
          14,
          15,
          16,
          17,
          18,
          19,
          20,
          21,
          22,
          23,
          24,
          25,
          26,
          27,
          28,
          29,
          30,
          31,
          32,
          33,
          34,
          35,
          36,
          37,
          38,
          39,
          40,
          41,
          42,
          43,
          44,
          45,
          46,
          47,
          48,
          49,
          50,
          51,
          52,
          53,
          54,
          55,
          56,
          57,
          58,
          59,
          60,
          61,
          62,
          63,
          64,
          65,
          66,
          67,
          68,
          69,
          70,
          71,
          72,
          73,
          74,
          75,
          76,
          77,
          78,
          79,
          80,
          81,
          82,
          83,
          84,
          85,
          86,
          87,
          88,
          89,
          90,
          91,
          92,
          93,
          94,
          95,
          96,
          97,
          98,
          99,
          100,
          101,
          102,
          103,
          104,
          105,
          106,
          107,
          108,
          109,
          110,
          111,
          112,
          113,
          114,
          115,
          116,
          117,
          118,
          119,
          120,
          121,
          122,
          123,
          124,
          125,
          126,
          127,
          128,
          129,
          130,
          131,
          132,
          133,
          134,
          135,
          136,
          137,
          138,
          139,
          140,
          141,
          142,
          143,
          144,
          145,
          146,
          147,
          148,
          149,
          150,
          151,
          152,
          153,
          154,
          155,
          156,
          157,
          158,
          159,
          160,
          161,
          162,
          163,
          164,
          165,
          166,
          167,
          168,
          169,
          170,
          171,
          172,
          173,
          174,
          175,
          176,
          177,
          178,
          179,
          180,
          181,
          182,
          183,
          184,
          185,
          186,
          187,
          188,
          189,
          190,
          191,
          192,
          193,
          194,
          195,
          196,
          197,
          198,
          199,
          200,
          201,
          202,
          203,
          204,
          205,
          206,
          207,
          208,
          209,
          210,
          211,
          212,
          213,
          214,
          215,
          216,
          217,
          218,
          219,
          220,
          221,
          222,
          223,
          224,
          225,
          226,
          227,
          228,
          229,
          230,
          231
         ],
         "y": [
          93,
          78,
          250,
          238,
          240,
          566,
          342,
          466,
          587,
          769,
          778,
          1247,
          1492,
          1797,
          977,
          2313,
          2651,
          2547,
          3497,
          3590,
          3233,
          3526,
          4207,
          5322,
          5986,
          6557,
          5560,
          4789,
          5249,
          5210,
          6153,
          5959,
          5974,
          5217,
          4050,
          4053,
          4782,
          4668,
          4585,
          4805,
          4316,
          3599,
          3039,
          3836,
          4204,
          3951,
          4694,
          4092,
          3153,
          2972,
          2667,
          3786,
          3493,
          3491,
          3047,
          2256,
          2729,
          3370,
          2646,
          3021,
          2357,
          2324,
          1739,
          2091,
          2086,
          1872,
          1965,
          1900,
          1389,
          1221,
          1075,
          1444,
          1401,
          1327,
          1083,
          802,
          744,
          1402,
          888,
          992,
          789,
          875,
          675,
          451,
          813,
          665,
          642,
          652,
          669,
          531,
          300,
          397,
          584,
          593,
          516,
          416,
          355,
          178,
          318,
          321,
          177,
          518,
          270,
          197,
          280,
          283,
          202,
          379,
          163,
          346,
          338,
          303,
          210,
          329,
          333,
          251,
          262,
          224,
          218,
          122,
          190,
          296,
          259,
          175,
          174,
          126,
          142,
          187,
          201,
          223,
          235,
          192,
          208,
          138,
          193,
          229,
          276,
          188,
          234,
          169,
          114,
          163,
          230,
          233,
          249,
          219,
          190,
          129,
          282,
          306,
          252,
          275,
          255,
          170,
          212,
          289,
          386,
          379,
          295,
          239,
          159,
          190,
          384,
          402,
          552,
          347,
          463,
          259,
          412,
          481,
          523,
          574,
          629,
          479,
          320,
          403,
          642,
          845,
          947,
          1071,
          1210,
          953,
          878,
          1367,
          1411,
          1462,
          1444,
          1365,
          996,
          978,
          1326,
          1397,
          1733,
          1694,
          1297,
          1108,
          1370,
          1434,
          1597,
          1616,
          1501,
          1458,
          1008,
          1229,
          1452,
          1585,
          1907,
          1638,
          1587,
          1350,
          1392,
          1640,
          1786,
          1912,
          1869,
          1766,
          1494,
          1648,
          1851,
          2548,
          2499,
          2844,
          2578,
          2257,
          2677,
          3678,
          4458,
          5372,
          5724,
          5456,
          4619
         ]
        },
        {
         "mode": "lines",
         "name": "Predetti",
         "type": "scatter",
         "x": [
          0,
          1,
          2,
          3,
          4,
          5,
          6,
          7,
          8,
          9,
          10,
          11,
          12,
          13,
          14,
          15,
          16,
          17,
          18,
          19,
          20,
          21,
          22,
          23,
          24,
          25,
          26,
          27,
          28,
          29,
          30,
          31,
          32,
          33,
          34,
          35,
          36,
          37,
          38,
          39,
          40,
          41,
          42,
          43,
          44,
          45,
          46,
          47,
          48,
          49,
          50,
          51,
          52,
          53,
          54,
          55,
          56,
          57,
          58,
          59,
          60,
          61,
          62,
          63,
          64,
          65,
          66,
          67,
          68,
          69,
          70,
          71,
          72,
          73,
          74,
          75,
          76,
          77,
          78,
          79,
          80,
          81,
          82,
          83,
          84,
          85,
          86,
          87,
          88,
          89,
          90,
          91,
          92,
          93,
          94,
          95,
          96,
          97,
          98,
          99,
          100,
          101,
          102,
          103,
          104,
          105,
          106,
          107,
          108,
          109,
          110,
          111,
          112,
          113,
          114,
          115,
          116,
          117,
          118,
          119,
          120,
          121,
          122,
          123,
          124,
          125,
          126,
          127,
          128,
          129,
          130,
          131,
          132,
          133,
          134,
          135,
          136,
          137,
          138,
          139,
          140,
          141,
          142,
          143,
          144,
          145,
          146,
          147,
          148,
          149,
          150,
          151,
          152,
          153,
          154,
          155,
          156,
          157,
          158,
          159,
          160,
          161,
          162,
          163,
          164,
          165,
          166,
          167,
          168,
          169,
          170,
          171,
          172,
          173,
          174,
          175,
          176,
          177,
          178,
          179,
          180,
          181,
          182,
          183,
          184,
          185,
          186,
          187,
          188,
          189,
          190,
          191,
          192,
          193,
          194,
          195,
          196,
          197,
          198,
          199,
          200,
          201,
          202,
          203,
          204,
          205,
          206,
          207,
          208,
          209,
          210,
          211,
          212,
          213,
          214,
          215,
          216,
          217,
          218,
          219,
          220,
          221,
          222,
          223,
          224,
          225,
          226,
          227,
          228,
          229,
          230,
          231
         ],
         "y": [
          3.6950148774229303,
          6.585034179822317,
          11.475306859716943,
          19.540444047614784,
          32.49420433596202,
          52.742295027402164,
          83.52584567456415,
          129.0234605062,
          194.3712926486428,
          285.5582674970026,
          409.1610284999209,
          571.9023232650941,
          780.0462629844542,
          1038.6793434765382,
          1350.9594219019464,
          1717.4370281795145,
          2135.557159844925,
          2599.4319835353053,
          3099.9380795061898,
          3625.1434691071518,
          4161.020001017889,
          4692.356018623039,
          5203.760083131838,
          5680.641974796334,
          6110.070754331755,
          6481.436368453295,
          6786.874446589172,
          7021.44698143284,
          7183.099390012343,
          7272.434012761718,
          7292.350561264029,
          7247.606202115989,
          7144.343742523051,
          6989.6280433316715,
          6791.020507057125,
          6556.21103974506,
          6292.717492437747,
          6007.654943374553,
          5707.571535704716,
          5398.343869325268,
          5085.122897537192,
          4772.320547986543,
          4463.627506969293,
          4162.053444487741,
          3869.9821403046662,
          3589.235290114855,
          3321.1400796932285,
          3066.596820545732,
          2826.143992182333,
          2600.0189133638632,
          2388.212968004431,
          2190.52085423909,
          2006.583727609337,
          1835.9263942627003,
          1677.9889000294206,
          1532.152977151709,
          1397.7638703832054,
          1274.1480833753303,
          1160.6275770283828,
          1056.5309234542947,
          961.2018797453202,
          874.0058003234444,
          794.3342591441469,
          721.6082061513152,
          655.2799378570635,
          594.8341208222264,
          539.7880696762877,
          489.6914483392029,
          444.12553421373013,
          402.7021601491433,
          365.0624275651935,
          330.8752659934398,
          299.8358990153938,
          271.66426383855287,
          246.1034212228551,
          222.91798374525388,
          201.89258337309002,
          182.83039352830383,
          165.55171625775984,
          149.8926414399175,
          135.70378207671456,
          122.84908746596193,
          111.20473433448933,
          100.65809469102533,
          91.10677821750869,
          82.45774631566019,
          74.62649447395233,
          67.53629930780153,
          61.117526487010764,
          55.30699568329146,
          50.047398714348674,
          45.28676712626475,
          40.977985583245754,
          37.07834759441903,
          33.54915026234812,
          30.35532494392828,
          27.465100878413068,
          24.849699060432613,
          22.48305378764053,
          20.341559531720122,
          18.40384093002649,
          16.650543883239152,
          15.064145890588406,
          13.628783920023125,
          12.330098224367248,
          11.155090692802332,
          10.09199638752034,
          9.13016709292424,
          8.25996575440513,
          7.4726708187081385,
          6.760389561270131,
          6.115979558671825,
          5.532977563649183,
          5.005535082163988,
          4.52836003471748,
          4.09666392634972,
          3.7061140186269768,
          3.3527900208719075,
          3.0331448883807752,
          2.743969337840099,
          2.482359718705993,
          2.245688943192363,
          2.0315801711112726,
          1.8378829917346593,
          1.6626518724078778,
          1.5041266539192293,
          1.3607148980663624,
          1.230975918180775,
          1.1136063231679145,
          1.0074269429896958,
          0.9113709910889156,
          0.824473363609286,
          0.7458609432214871,
          0.6747438429156318,
          0.6104074671457056,
          0.5522053417225834,
          0.49955262037110515,
          0.4519202098599635,
          0.4088294575922191,
          0.3698473425756674,
          0.3345821285038255,
          0.30267942367936485,
          0.2738186262722593,
          0.24770969926612452,
          0.22409026004606858,
          0.20272293995367363,
          0.18339300455409102,
          0.16590619043563493,
          0.15008675894932821,
          0.13577572532813065,
          0.12282926501939073,
          0.11111726585659198,
          0.1005220218503382,
          0.0909370488661807,
          0.08226601890055463,
          0.07442178556811996,
          0.06732551279128529,
          0.06090588300139643,
          0.055098376062233,
          33.869306278036674,
          41.33000960259233,
          83.61450945789693,
          159.78626908233855,
          288.195780243288,
          490.54463161792955,
          788.4434342063032,
          1198.1622309121012,
          1724.779758446617,
          2357.6305729432206,
          3068.8818963619997,
          3816.1381308581913,
          4548.572581552784,
          5214.895449625503,
          5771.007722521259,
          6185.557670924434,
          6442.5075307475345,
          6540.778950093139,
          6491.726834052504,
          6315.462710902444,
          6036.972016799264,
          5682.696774903045,
          5277.93565069075,
          4845.145533334056,
          4403.052643833507,
          3966.394776821253,
          3546.0970463166595,
          3149.704495373473,
          2781.9337560225395,
          2445.247643485258,
          2140.3930361091625,
          1866.8704968434758,
          1623.3236852072296,
          1407.8489908638294,
          1218.2327504741843,
          1052.1265702280216,
          907.1720420051133,
          781.0855279357638,
          671.7123908894137,
          577.05850807752,
          495.3053789291298,
          424.813760572928,
          364.1195900638122,
          311.92499158519786,
          267.08640416304115,
          228.60127481189556,
          195.594314285554,
          167.3039795945515,
          143.06960435031215,
          122.31942393467762,
          104.55962047586218,
          89.36442926083691,
          76.36729312699754,
          65.25301662430866,
          55.75085140526062,
          47.62843396823155,
          40.68649331148481,
          34.75424696120899,
          29.685407522018068,
          25.3547272165888,
          21.655014030460734,
          18.49455949559342,
          15.794924524903763,
          13.489035765174776,
          11.519550608471036,
          9.83745415735757,
          8.400856135529466,
          7.1739598832209595,
          6.126179301994853,
          5.2313828519545496,
          4.467246576270554,
          3.814700603717938,
          3.2574557623593137,
          2.781598798930645,
          2.3752463333075866,
          2.02824908104958,
          1.731939068180509,
          1.47891362773953,
          1.2628508394118398,
          1.0783518500393257,
          0.9208061717217788,
          0.7862766169710085,
          0.671401011524722,
          0.5733082458609715,
          0.48954657319700345,
          0.4180223719449714,
          0.356947845837567,
          0.30479635926894844,
          0.2602642924175598,
          0.22223846684210002,
          0.18976832897169515,
          0.16204219299834222,
          0.138366955507081,
          0.11815077374922112,
          0.10088827076833695,
          0.08614790491992608,
          0.07356118358438835,
          0.06281345000024885,
          0.053636020282283425,
          0.04579946550074965,
          0.0391078774118796,
          0.03339397022500634,
          0.02851489931344986,
          0.024348690873011947,
          0.020791190792806447,
          0.017753464228007942,
          0.015159568400122225,
          0.012944657006300986,
          0.011053358786739409,
          0.009438391134608537,
          0.008059380750637501,
          0.006881852459628135,
          0.005876368726603687,
          0.0050177929806523025,
          0.004284660390112549,
          0.0036586434580385685,
          0.0031240915413945913,
          0.0026676413835957646,
          0.002277881372720003,
          0.0019450679537840188,
          0.0016608808073215187,
          0.0014182152808643878,
          0.0012110044481232762,
          0.0010340689332224429,
          0.0008829846046864986,
          0.0007539745420217514,
          0.000643814099021256,
          0.0005497485399246216,
          0.00046942674089223146,
          0.0004008404794149101,
          0.00034227489959448576,
          0.00029226619517430663,
          0.000249564356636256,
          0.00021310127340257168,
          0.0001819657045416534,
          0.0001553795882500708,
          0.00013267731992527843,
          0.00011329242261126637,
          9.673961903899908e-05,
          8.260528557002544e-05
         ]
        },
        {
         "mode": "markers",
         "name": "Reali filtrati",
         "type": "scatter",
         "x": [
          0,
          1,
          2,
          3,
          4,
          5,
          6,
          7,
          8,
          9,
          10,
          11,
          12,
          13,
          14,
          15,
          16,
          17,
          18,
          19,
          20,
          21,
          22,
          23,
          24,
          25,
          26,
          27,
          28,
          29,
          30,
          31,
          32,
          33,
          34,
          35,
          36,
          37,
          38,
          39,
          40,
          41,
          42,
          43,
          44,
          45,
          46,
          47,
          48,
          49,
          50,
          51,
          52,
          53,
          54,
          55,
          56,
          57,
          58,
          59,
          60,
          61,
          62,
          63,
          64,
          65,
          66,
          67,
          68,
          69,
          70,
          71,
          72,
          73,
          74,
          75,
          76,
          77,
          78,
          79,
          80,
          81,
          82,
          83,
          84,
          85,
          86,
          87,
          88,
          89,
          90,
          91,
          92,
          93,
          94,
          95,
          96,
          97,
          98,
          99,
          100,
          101,
          102,
          103,
          104,
          105,
          106,
          107,
          108,
          109,
          110,
          111,
          112,
          113,
          114,
          115,
          116,
          117,
          118,
          119,
          120,
          121,
          122,
          123,
          124,
          125,
          126,
          127,
          128,
          129,
          130,
          131,
          132,
          133,
          134,
          135,
          136,
          137,
          138,
          139,
          140,
          141,
          142,
          143,
          144,
          145,
          146,
          147,
          148,
          149,
          150,
          151,
          152,
          153,
          154,
          155,
          156,
          157,
          158,
          159,
          160,
          161,
          162,
          163,
          164,
          165,
          166,
          167,
          168,
          169,
          170,
          171,
          172,
          173,
          174,
          175,
          176,
          177,
          178,
          179,
          180,
          181,
          182,
          183,
          184,
          185,
          186,
          187,
          188,
          189,
          190,
          191,
          192,
          193,
          194,
          195,
          196,
          197,
          198,
          199,
          200,
          201,
          202,
          203,
          204,
          205,
          206,
          207,
          208,
          209,
          210,
          211,
          212,
          213,
          214,
          215,
          216,
          217,
          218,
          219,
          220,
          221,
          222,
          223,
          224,
          225,
          226,
          227,
          228,
          229,
          230,
          231
         ],
         "y": [
          164.75,
          179.8,
          244.16666666666666,
          258.14285714285717,
          311.42857142857144,
          384.14285714285717,
          458.2857142857143,
          535.4285714285714,
          679.2857142857143,
          811.5714285714286,
          1019.4285714285714,
          1092.4285714285713,
          1339,
          1607.857142857143,
          1860.5714285714287,
          2182,
          2481.714285714286,
          2686.8571428571427,
          3051,
          3321.5714285714284,
          3703.1428571428573,
          4194.428571428572,
          4631.571428571428,
          4913,
          5135.285714285715,
          5381.428571428572,
          5524.714285714285,
          5643.428571428572,
          5639.571428571428,
          5556.285714285715,
          5507.285714285715,
          5401.714285714285,
          5230.857142857143,
          5169.714285714285,
          4957.571428571428,
          4761.285714285715,
          4594.285714285715,
          4465.571428571428,
          4401.142857142857,
          4256.285714285715,
          4121.142857142857,
          4054.8571428571427,
          3964.285714285714,
          3948.4285714285716,
          3916.4285714285716,
          3852.714285714286,
          3843.1428571428573,
          3676.1428571428573,
          3616.4285714285716,
          3551,
          3379.1428571428573,
          3229.8571428571427,
          3101.714285714286,
          3067,
          3167.4285714285716,
          3004.5714285714284,
          2937.1428571428573,
          2775.1428571428573,
          2671.8571428571427,
          2598,
          2506.8571428571427,
          2323.4285714285716,
          2212.8571428571427,
          2062,
          1996.7142857142858,
          1863.142857142857,
          1789.142857142857,
          1644,
          1552.2857142857142,
          1485,
          1393.857142857143,
          1277.142857142857,
          1193.2857142857142,
          1125.142857142857,
          1171.857142857143,
          1092.4285714285713,
          1034,
          957.1428571428571,
          927.4285714285714,
          909.2857142857143,
          867.4285714285714,
          783.2857142857143,
          751.4285714285714,
          701.4285714285714,
          681.8571428571429,
          652.4285714285714,
          631.8571428571429,
          610.2857142857143,
          550.8571428571429,
          539.2857142857143,
          532.2857142857143,
          512.8571428571429,
          476.7142857142857,
          451.57142857142856,
          434.14285714285717,
          422.85714285714283,
          385.2857142857143,
          325.85714285714283,
          326.14285714285717,
          305.2857142857143,
          282.7142857142857,
          297.2857142857143,
          292.2857142857143,
          275.2857142857143,
          304.14285714285717,
          253.42857142857142,
          264.2857142857143,
          284.42857142857144,
          287.7142857142857,
          277.2857142857143,
          295.42857142857144,
          288.85714285714283,
          301.42857142857144,
          289.42857142857144,
          273.14285714285717,
          261,
          248.42857142857142,
          228.57142857142858,
          223.28571428571428,
          224.42857142857142,
          212,
          204.85714285714286,
          191.71428571428572,
          194.57142857142858,
          194.14285714285714,
          180.57142857142858,
          175.42857142857142,
          184,
          186.57142857142858,
          198.28571428571428,
          197.71428571428572,
          198.57142857142858,
          202.57142857142858,
          210.14285714285714,
          203.42857142857142,
          209.42857142857142,
          203.85714285714286,
          200.42857142857142,
          196.14285714285714,
          196.28571428571428,
          190.14285714285714,
          198.85714285714286,
          196.71428571428572,
          199.71428571428572,
          201.85714285714286,
          218.85714285714286,
          229.71428571428572,
          232.42857142857142,
          236.14285714285714,
          241.28571428571428,
          238.42857142857142,
          250.28571428571428,
          251.28571428571428,
          262.7142857142857,
          280.85714285714283,
          283.7142857142857,
          281.42857142857144,
          279.85714285714283,
          276.7142857142857,
          290.2857142857143,
          292.57142857142856,
          317.2857142857143,
          324.7142857142857,
          356.7142857142857,
          371,
          402.7142857142857,
          416.57142857142856,
          433.85714285714283,
          437,
          477.2857142857143,
          479.57142857142856,
          488.2857142857143,
          487,
          510,
          556,
          609.2857142857143,
          672.4285714285714,
          776.8571428571429,
          867.2857142857143,
          935.1428571428571,
          1038.7142857142858,
          1119.5714285714287,
          1193.142857142857,
          1246.4285714285713,
          1268.5714285714287,
          1274.7142857142858,
          1289,
          1283.142857142857,
          1281.142857142857,
          1319.857142857143,
          1355.5714285714287,
          1345.857142857143,
          1361.857142857143,
          1417.857142857143,
          1433.2857142857142,
          1461.857142857143,
          1445.142857142857,
          1417.5714285714287,
          1440.5714285714287,
          1426.2857142857142,
          1406.142857142857,
          1408.7142857142858,
          1407,
          1448.5714285714287,
          1468.142857142857,
          1486.5714285714287,
          1535.4285714285713,
          1558.7142857142858,
          1585.5714285714287,
          1614.2857142857142,
          1615,
          1648,
          1673.5714285714287,
          1694.142857142857,
          1730.7142857142858,
          1760.857142857143,
          1869.7142857142858,
          1953.5714285714287,
          2092.8571428571427,
          2208.8571428571427,
          2317.8571428571427,
          2464.8571428571427,
          2725.8571428571427,
          2998.714285714286,
          3409.1428571428573,
          3820.5714285714284,
          4231.714285714285,
          4569.142857142857,
          4884.5,
          5125.8,
          5292.75
         ]
        }
       ],
       "layout": {
        "template": {
         "data": {
          "bar": [
           {
            "error_x": {
             "color": "#2a3f5f"
            },
            "error_y": {
             "color": "#2a3f5f"
            },
            "marker": {
             "line": {
              "color": "#E5ECF6",
              "width": 0.5
             }
            },
            "type": "bar"
           }
          ],
          "barpolar": [
           {
            "marker": {
             "line": {
              "color": "#E5ECF6",
              "width": 0.5
             }
            },
            "type": "barpolar"
           }
          ],
          "carpet": [
           {
            "aaxis": {
             "endlinecolor": "#2a3f5f",
             "gridcolor": "white",
             "linecolor": "white",
             "minorgridcolor": "white",
             "startlinecolor": "#2a3f5f"
            },
            "baxis": {
             "endlinecolor": "#2a3f5f",
             "gridcolor": "white",
             "linecolor": "white",
             "minorgridcolor": "white",
             "startlinecolor": "#2a3f5f"
            },
            "type": "carpet"
           }
          ],
          "choropleth": [
           {
            "colorbar": {
             "outlinewidth": 0,
             "ticks": ""
            },
            "type": "choropleth"
           }
          ],
          "contour": [
           {
            "colorbar": {
             "outlinewidth": 0,
             "ticks": ""
            },
            "colorscale": [
             [
              0,
              "#0d0887"
             ],
             [
              0.1111111111111111,
              "#46039f"
             ],
             [
              0.2222222222222222,
              "#7201a8"
             ],
             [
              0.3333333333333333,
              "#9c179e"
             ],
             [
              0.4444444444444444,
              "#bd3786"
             ],
             [
              0.5555555555555556,
              "#d8576b"
             ],
             [
              0.6666666666666666,
              "#ed7953"
             ],
             [
              0.7777777777777778,
              "#fb9f3a"
             ],
             [
              0.8888888888888888,
              "#fdca26"
             ],
             [
              1,
              "#f0f921"
             ]
            ],
            "type": "contour"
           }
          ],
          "contourcarpet": [
           {
            "colorbar": {
             "outlinewidth": 0,
             "ticks": ""
            },
            "type": "contourcarpet"
           }
          ],
          "heatmap": [
           {
            "colorbar": {
             "outlinewidth": 0,
             "ticks": ""
            },
            "colorscale": [
             [
              0,
              "#0d0887"
             ],
             [
              0.1111111111111111,
              "#46039f"
             ],
             [
              0.2222222222222222,
              "#7201a8"
             ],
             [
              0.3333333333333333,
              "#9c179e"
             ],
             [
              0.4444444444444444,
              "#bd3786"
             ],
             [
              0.5555555555555556,
              "#d8576b"
             ],
             [
              0.6666666666666666,
              "#ed7953"
             ],
             [
              0.7777777777777778,
              "#fb9f3a"
             ],
             [
              0.8888888888888888,
              "#fdca26"
             ],
             [
              1,
              "#f0f921"
             ]
            ],
            "type": "heatmap"
           }
          ],
          "heatmapgl": [
           {
            "colorbar": {
             "outlinewidth": 0,
             "ticks": ""
            },
            "colorscale": [
             [
              0,
              "#0d0887"
             ],
             [
              0.1111111111111111,
              "#46039f"
             ],
             [
              0.2222222222222222,
              "#7201a8"
             ],
             [
              0.3333333333333333,
              "#9c179e"
             ],
             [
              0.4444444444444444,
              "#bd3786"
             ],
             [
              0.5555555555555556,
              "#d8576b"
             ],
             [
              0.6666666666666666,
              "#ed7953"
             ],
             [
              0.7777777777777778,
              "#fb9f3a"
             ],
             [
              0.8888888888888888,
              "#fdca26"
             ],
             [
              1,
              "#f0f921"
             ]
            ],
            "type": "heatmapgl"
           }
          ],
          "histogram": [
           {
            "marker": {
             "colorbar": {
              "outlinewidth": 0,
              "ticks": ""
             }
            },
            "type": "histogram"
           }
          ],
          "histogram2d": [
           {
            "colorbar": {
             "outlinewidth": 0,
             "ticks": ""
            },
            "colorscale": [
             [
              0,
              "#0d0887"
             ],
             [
              0.1111111111111111,
              "#46039f"
             ],
             [
              0.2222222222222222,
              "#7201a8"
             ],
             [
              0.3333333333333333,
              "#9c179e"
             ],
             [
              0.4444444444444444,
              "#bd3786"
             ],
             [
              0.5555555555555556,
              "#d8576b"
             ],
             [
              0.6666666666666666,
              "#ed7953"
             ],
             [
              0.7777777777777778,
              "#fb9f3a"
             ],
             [
              0.8888888888888888,
              "#fdca26"
             ],
             [
              1,
              "#f0f921"
             ]
            ],
            "type": "histogram2d"
           }
          ],
          "histogram2dcontour": [
           {
            "colorbar": {
             "outlinewidth": 0,
             "ticks": ""
            },
            "colorscale": [
             [
              0,
              "#0d0887"
             ],
             [
              0.1111111111111111,
              "#46039f"
             ],
             [
              0.2222222222222222,
              "#7201a8"
             ],
             [
              0.3333333333333333,
              "#9c179e"
             ],
             [
              0.4444444444444444,
              "#bd3786"
             ],
             [
              0.5555555555555556,
              "#d8576b"
             ],
             [
              0.6666666666666666,
              "#ed7953"
             ],
             [
              0.7777777777777778,
              "#fb9f3a"
             ],
             [
              0.8888888888888888,
              "#fdca26"
             ],
             [
              1,
              "#f0f921"
             ]
            ],
            "type": "histogram2dcontour"
           }
          ],
          "mesh3d": [
           {
            "colorbar": {
             "outlinewidth": 0,
             "ticks": ""
            },
            "type": "mesh3d"
           }
          ],
          "parcoords": [
           {
            "line": {
             "colorbar": {
              "outlinewidth": 0,
              "ticks": ""
             }
            },
            "type": "parcoords"
           }
          ],
          "pie": [
           {
            "automargin": true,
            "type": "pie"
           }
          ],
          "scatter": [
           {
            "marker": {
             "colorbar": {
              "outlinewidth": 0,
              "ticks": ""
             }
            },
            "type": "scatter"
           }
          ],
          "scatter3d": [
           {
            "line": {
             "colorbar": {
              "outlinewidth": 0,
              "ticks": ""
             }
            },
            "marker": {
             "colorbar": {
              "outlinewidth": 0,
              "ticks": ""
             }
            },
            "type": "scatter3d"
           }
          ],
          "scattercarpet": [
           {
            "marker": {
             "colorbar": {
              "outlinewidth": 0,
              "ticks": ""
             }
            },
            "type": "scattercarpet"
           }
          ],
          "scattergeo": [
           {
            "marker": {
             "colorbar": {
              "outlinewidth": 0,
              "ticks": ""
             }
            },
            "type": "scattergeo"
           }
          ],
          "scattergl": [
           {
            "marker": {
             "colorbar": {
              "outlinewidth": 0,
              "ticks": ""
             }
            },
            "type": "scattergl"
           }
          ],
          "scattermapbox": [
           {
            "marker": {
             "colorbar": {
              "outlinewidth": 0,
              "ticks": ""
             }
            },
            "type": "scattermapbox"
           }
          ],
          "scatterpolar": [
           {
            "marker": {
             "colorbar": {
              "outlinewidth": 0,
              "ticks": ""
             }
            },
            "type": "scatterpolar"
           }
          ],
          "scatterpolargl": [
           {
            "marker": {
             "colorbar": {
              "outlinewidth": 0,
              "ticks": ""
             }
            },
            "type": "scatterpolargl"
           }
          ],
          "scatterternary": [
           {
            "marker": {
             "colorbar": {
              "outlinewidth": 0,
              "ticks": ""
             }
            },
            "type": "scatterternary"
           }
          ],
          "surface": [
           {
            "colorbar": {
             "outlinewidth": 0,
             "ticks": ""
            },
            "colorscale": [
             [
              0,
              "#0d0887"
             ],
             [
              0.1111111111111111,
              "#46039f"
             ],
             [
              0.2222222222222222,
              "#7201a8"
             ],
             [
              0.3333333333333333,
              "#9c179e"
             ],
             [
              0.4444444444444444,
              "#bd3786"
             ],
             [
              0.5555555555555556,
              "#d8576b"
             ],
             [
              0.6666666666666666,
              "#ed7953"
             ],
             [
              0.7777777777777778,
              "#fb9f3a"
             ],
             [
              0.8888888888888888,
              "#fdca26"
             ],
             [
              1,
              "#f0f921"
             ]
            ],
            "type": "surface"
           }
          ],
          "table": [
           {
            "cells": {
             "fill": {
              "color": "#EBF0F8"
             },
             "line": {
              "color": "white"
             }
            },
            "header": {
             "fill": {
              "color": "#C8D4E3"
             },
             "line": {
              "color": "white"
             }
            },
            "type": "table"
           }
          ]
         },
         "layout": {
          "annotationdefaults": {
           "arrowcolor": "#2a3f5f",
           "arrowhead": 0,
           "arrowwidth": 1
          },
          "coloraxis": {
           "colorbar": {
            "outlinewidth": 0,
            "ticks": ""
           }
          },
          "colorscale": {
           "diverging": [
            [
             0,
             "#8e0152"
            ],
            [
             0.1,
             "#c51b7d"
            ],
            [
             0.2,
             "#de77ae"
            ],
            [
             0.3,
             "#f1b6da"
            ],
            [
             0.4,
             "#fde0ef"
            ],
            [
             0.5,
             "#f7f7f7"
            ],
            [
             0.6,
             "#e6f5d0"
            ],
            [
             0.7,
             "#b8e186"
            ],
            [
             0.8,
             "#7fbc41"
            ],
            [
             0.9,
             "#4d9221"
            ],
            [
             1,
             "#276419"
            ]
           ],
           "sequential": [
            [
             0,
             "#0d0887"
            ],
            [
             0.1111111111111111,
             "#46039f"
            ],
            [
             0.2222222222222222,
             "#7201a8"
            ],
            [
             0.3333333333333333,
             "#9c179e"
            ],
            [
             0.4444444444444444,
             "#bd3786"
            ],
            [
             0.5555555555555556,
             "#d8576b"
            ],
            [
             0.6666666666666666,
             "#ed7953"
            ],
            [
             0.7777777777777778,
             "#fb9f3a"
            ],
            [
             0.8888888888888888,
             "#fdca26"
            ],
            [
             1,
             "#f0f921"
            ]
           ],
           "sequentialminus": [
            [
             0,
             "#0d0887"
            ],
            [
             0.1111111111111111,
             "#46039f"
            ],
            [
             0.2222222222222222,
             "#7201a8"
            ],
            [
             0.3333333333333333,
             "#9c179e"
            ],
            [
             0.4444444444444444,
             "#bd3786"
            ],
            [
             0.5555555555555556,
             "#d8576b"
            ],
            [
             0.6666666666666666,
             "#ed7953"
            ],
            [
             0.7777777777777778,
             "#fb9f3a"
            ],
            [
             0.8888888888888888,
             "#fdca26"
            ],
            [
             1,
             "#f0f921"
            ]
           ]
          },
          "colorway": [
           "#636efa",
           "#EF553B",
           "#00cc96",
           "#ab63fa",
           "#FFA15A",
           "#19d3f3",
           "#FF6692",
           "#B6E880",
           "#FF97FF",
           "#FECB52"
          ],
          "font": {
           "color": "#2a3f5f"
          },
          "geo": {
           "bgcolor": "white",
           "lakecolor": "white",
           "landcolor": "#E5ECF6",
           "showlakes": true,
           "showland": true,
           "subunitcolor": "white"
          },
          "hoverlabel": {
           "align": "left"
          },
          "hovermode": "closest",
          "mapbox": {
           "style": "light"
          },
          "paper_bgcolor": "white",
          "plot_bgcolor": "#E5ECF6",
          "polar": {
           "angularaxis": {
            "gridcolor": "white",
            "linecolor": "white",
            "ticks": ""
           },
           "bgcolor": "#E5ECF6",
           "radialaxis": {
            "gridcolor": "white",
            "linecolor": "white",
            "ticks": ""
           }
          },
          "scene": {
           "xaxis": {
            "backgroundcolor": "#E5ECF6",
            "gridcolor": "white",
            "gridwidth": 2,
            "linecolor": "white",
            "showbackground": true,
            "ticks": "",
            "zerolinecolor": "white"
           },
           "yaxis": {
            "backgroundcolor": "#E5ECF6",
            "gridcolor": "white",
            "gridwidth": 2,
            "linecolor": "white",
            "showbackground": true,
            "ticks": "",
            "zerolinecolor": "white"
           },
           "zaxis": {
            "backgroundcolor": "#E5ECF6",
            "gridcolor": "white",
            "gridwidth": 2,
            "linecolor": "white",
            "showbackground": true,
            "ticks": "",
            "zerolinecolor": "white"
           }
          },
          "shapedefaults": {
           "line": {
            "color": "#2a3f5f"
           }
          },
          "ternary": {
           "aaxis": {
            "gridcolor": "white",
            "linecolor": "white",
            "ticks": ""
           },
           "baxis": {
            "gridcolor": "white",
            "linecolor": "white",
            "ticks": ""
           },
           "bgcolor": "#E5ECF6",
           "caxis": {
            "gridcolor": "white",
            "linecolor": "white",
            "ticks": ""
           }
          },
          "title": {
           "x": 0.05
          },
          "xaxis": {
           "automargin": true,
           "gridcolor": "white",
           "linecolor": "white",
           "ticks": "",
           "title": {
            "standoff": 15
           },
           "zerolinecolor": "white",
           "zerolinewidth": 2
          },
          "yaxis": {
           "automargin": true,
           "gridcolor": "white",
           "linecolor": "white",
           "ticks": "",
           "title": {
            "standoff": 15
           },
           "zerolinecolor": "white",
           "zerolinewidth": 2
          }
         }
        },
        "title": {
         "text": "Nuovi contagi"
        },
        "xaxis": {
         "tickmode": "array",
         "ticktext": [
          "2020-02-24",
          "2020-03-02",
          "2020-03-09",
          "2020-03-16",
          "2020-03-23",
          "2020-03-30",
          "2020-04-06",
          "2020-04-13",
          "2020-04-20",
          "2020-04-27",
          "2020-05-04",
          "2020-05-11",
          "2020-05-18",
          "2020-05-25",
          "2020-06-01",
          "2020-06-08",
          "2020-06-15",
          "2020-06-22",
          "2020-06-29",
          "2020-07-06",
          "2020-07-13",
          "2020-07-20",
          "2020-07-27",
          "2020-08-03",
          "2020-08-10",
          "2020-08-17",
          "2020-08-24",
          "2020-08-31",
          "2020-09-07",
          "2020-09-14",
          "2020-09-21",
          "2020-09-28",
          "2020-10-05",
          "2020-10-12"
         ],
         "tickvals": [
          0,
          7,
          14,
          21,
          28,
          35,
          42,
          49,
          56,
          63,
          70,
          77,
          84,
          91,
          98,
          105,
          112,
          119,
          126,
          133,
          140,
          147,
          154,
          161,
          168,
          175,
          182,
          189,
          196,
          203,
          210,
          217,
          224,
          231
         ]
        }
       }
      },
      "text/html": [
       "<div>\n",
       "        \n",
       "        \n",
       "            <div id=\"44730f96-6170-4748-bc95-4882f09e883e\" class=\"plotly-graph-div\" style=\"height:525px; width:100%;\"></div>\n",
       "            <script type=\"text/javascript\">\n",
       "                require([\"plotly\"], function(Plotly) {\n",
       "                    window.PLOTLYENV=window.PLOTLYENV || {};\n",
       "                    \n",
       "                if (document.getElementById(\"44730f96-6170-4748-bc95-4882f09e883e\")) {\n",
       "                    Plotly.newPlot(\n",
       "                        '44730f96-6170-4748-bc95-4882f09e883e',\n",
       "                        [{\"mode\": \"markers\", \"name\": \"Reali\", \"type\": \"scatter\", \"x\": [0, 1, 2, 3, 4, 5, 6, 7, 8, 9, 10, 11, 12, 13, 14, 15, 16, 17, 18, 19, 20, 21, 22, 23, 24, 25, 26, 27, 28, 29, 30, 31, 32, 33, 34, 35, 36, 37, 38, 39, 40, 41, 42, 43, 44, 45, 46, 47, 48, 49, 50, 51, 52, 53, 54, 55, 56, 57, 58, 59, 60, 61, 62, 63, 64, 65, 66, 67, 68, 69, 70, 71, 72, 73, 74, 75, 76, 77, 78, 79, 80, 81, 82, 83, 84, 85, 86, 87, 88, 89, 90, 91, 92, 93, 94, 95, 96, 97, 98, 99, 100, 101, 102, 103, 104, 105, 106, 107, 108, 109, 110, 111, 112, 113, 114, 115, 116, 117, 118, 119, 120, 121, 122, 123, 124, 125, 126, 127, 128, 129, 130, 131, 132, 133, 134, 135, 136, 137, 138, 139, 140, 141, 142, 143, 144, 145, 146, 147, 148, 149, 150, 151, 152, 153, 154, 155, 156, 157, 158, 159, 160, 161, 162, 163, 164, 165, 166, 167, 168, 169, 170, 171, 172, 173, 174, 175, 176, 177, 178, 179, 180, 181, 182, 183, 184, 185, 186, 187, 188, 189, 190, 191, 192, 193, 194, 195, 196, 197, 198, 199, 200, 201, 202, 203, 204, 205, 206, 207, 208, 209, 210, 211, 212, 213, 214, 215, 216, 217, 218, 219, 220, 221, 222, 223, 224, 225, 226, 227, 228, 229, 230, 231], \"y\": [93.0, 78.0, 250.0, 238.0, 240.0, 566.0, 342.0, 466.0, 587.0, 769.0, 778.0, 1247.0, 1492.0, 1797.0, 977.0, 2313.0, 2651.0, 2547.0, 3497.0, 3590.0, 3233.0, 3526.0, 4207.0, 5322.0, 5986.0, 6557.0, 5560.0, 4789.0, 5249.0, 5210.0, 6153.0, 5959.0, 5974.0, 5217.0, 4050.0, 4053.0, 4782.0, 4668.0, 4585.0, 4805.0, 4316.0, 3599.0, 3039.0, 3836.0, 4204.0, 3951.0, 4694.0, 4092.0, 3153.0, 2972.0, 2667.0, 3786.0, 3493.0, 3491.0, 3047.0, 2256.0, 2729.0, 3370.0, 2646.0, 3021.0, 2357.0, 2324.0, 1739.0, 2091.0, 2086.0, 1872.0, 1965.0, 1900.0, 1389.0, 1221.0, 1075.0, 1444.0, 1401.0, 1327.0, 1083.0, 802.0, 744.0, 1402.0, 888.0, 992.0, 789.0, 875.0, 675.0, 451.0, 813.0, 665.0, 642.0, 652.0, 669.0, 531.0, 300.0, 397.0, 584.0, 593.0, 516.0, 416.0, 355.0, 178.0, 318.0, 321.0, 177.0, 518.0, 270.0, 197.0, 280.0, 283.0, 202.0, 379.0, 163.0, 346.0, 338.0, 303.0, 210.0, 329.0, 333.0, 251.0, 262.0, 224.0, 218.0, 122.0, 190.0, 296.0, 259.0, 175.0, 174.0, 126.0, 142.0, 187.0, 201.0, 223.0, 235.0, 192.0, 208.0, 138.0, 193.0, 229.0, 276.0, 188.0, 234.0, 169.0, 114.0, 163.0, 230.0, 233.0, 249.0, 219.0, 190.0, 129.0, 282.0, 306.0, 252.0, 275.0, 255.0, 170.0, 212.0, 289.0, 386.0, 379.0, 295.0, 239.0, 159.0, 190.0, 384.0, 402.0, 552.0, 347.0, 463.0, 259.0, 412.0, 481.0, 523.0, 574.0, 629.0, 479.0, 320.0, 403.0, 642.0, 845.0, 947.0, 1071.0, 1210.0, 953.0, 878.0, 1367.0, 1411.0, 1462.0, 1444.0, 1365.0, 996.0, 978.0, 1326.0, 1397.0, 1733.0, 1694.0, 1297.0, 1108.0, 1370.0, 1434.0, 1597.0, 1616.0, 1501.0, 1458.0, 1008.0, 1229.0, 1452.0, 1585.0, 1907.0, 1638.0, 1587.0, 1350.0, 1392.0, 1640.0, 1786.0, 1912.0, 1869.0, 1766.0, 1494.0, 1648.0, 1851.0, 2548.0, 2499.0, 2844.0, 2578.0, 2257.0, 2677.0, 3678.0, 4458.0, 5372.0, 5724.0, 5456.0, 4619.0]}, {\"mode\": \"lines\", \"name\": \"Predetti\", \"type\": \"scatter\", \"x\": [0, 1, 2, 3, 4, 5, 6, 7, 8, 9, 10, 11, 12, 13, 14, 15, 16, 17, 18, 19, 20, 21, 22, 23, 24, 25, 26, 27, 28, 29, 30, 31, 32, 33, 34, 35, 36, 37, 38, 39, 40, 41, 42, 43, 44, 45, 46, 47, 48, 49, 50, 51, 52, 53, 54, 55, 56, 57, 58, 59, 60, 61, 62, 63, 64, 65, 66, 67, 68, 69, 70, 71, 72, 73, 74, 75, 76, 77, 78, 79, 80, 81, 82, 83, 84, 85, 86, 87, 88, 89, 90, 91, 92, 93, 94, 95, 96, 97, 98, 99, 100, 101, 102, 103, 104, 105, 106, 107, 108, 109, 110, 111, 112, 113, 114, 115, 116, 117, 118, 119, 120, 121, 122, 123, 124, 125, 126, 127, 128, 129, 130, 131, 132, 133, 134, 135, 136, 137, 138, 139, 140, 141, 142, 143, 144, 145, 146, 147, 148, 149, 150, 151, 152, 153, 154, 155, 156, 157, 158, 159, 160, 161, 162, 163, 164, 165, 166, 167, 168, 169, 170, 171, 172, 173, 174, 175, 176, 177, 178, 179, 180, 181, 182, 183, 184, 185, 186, 187, 188, 189, 190, 191, 192, 193, 194, 195, 196, 197, 198, 199, 200, 201, 202, 203, 204, 205, 206, 207, 208, 209, 210, 211, 212, 213, 214, 215, 216, 217, 218, 219, 220, 221, 222, 223, 224, 225, 226, 227, 228, 229, 230, 231], \"y\": [3.6950148774229303, 6.585034179822317, 11.475306859716943, 19.540444047614784, 32.49420433596202, 52.742295027402164, 83.52584567456415, 129.0234605062, 194.3712926486428, 285.5582674970026, 409.1610284999209, 571.9023232650941, 780.0462629844542, 1038.6793434765382, 1350.9594219019464, 1717.4370281795145, 2135.557159844925, 2599.4319835353053, 3099.9380795061898, 3625.1434691071518, 4161.020001017889, 4692.356018623039, 5203.760083131838, 5680.641974796334, 6110.070754331755, 6481.436368453295, 6786.874446589172, 7021.44698143284, 7183.099390012343, 7272.434012761718, 7292.350561264029, 7247.606202115989, 7144.343742523051, 6989.6280433316715, 6791.020507057125, 6556.21103974506, 6292.717492437747, 6007.654943374553, 5707.571535704716, 5398.343869325268, 5085.122897537192, 4772.320547986543, 4463.627506969293, 4162.053444487741, 3869.9821403046662, 3589.235290114855, 3321.1400796932285, 3066.596820545732, 2826.143992182333, 2600.0189133638632, 2388.212968004431, 2190.52085423909, 2006.583727609337, 1835.9263942627003, 1677.9889000294206, 1532.152977151709, 1397.7638703832054, 1274.1480833753303, 1160.6275770283828, 1056.5309234542947, 961.2018797453202, 874.0058003234444, 794.3342591441469, 721.6082061513152, 655.2799378570635, 594.8341208222264, 539.7880696762877, 489.6914483392029, 444.12553421373013, 402.7021601491433, 365.0624275651935, 330.8752659934398, 299.8358990153938, 271.66426383855287, 246.1034212228551, 222.91798374525388, 201.89258337309002, 182.83039352830383, 165.55171625775984, 149.8926414399175, 135.70378207671456, 122.84908746596193, 111.20473433448933, 100.65809469102533, 91.10677821750869, 82.45774631566019, 74.62649447395233, 67.53629930780153, 61.117526487010764, 55.30699568329146, 50.047398714348674, 45.28676712626475, 40.977985583245754, 37.07834759441903, 33.54915026234812, 30.35532494392828, 27.465100878413068, 24.849699060432613, 22.48305378764053, 20.341559531720122, 18.40384093002649, 16.650543883239152, 15.064145890588406, 13.628783920023125, 12.330098224367248, 11.155090692802332, 10.09199638752034, 9.13016709292424, 8.25996575440513, 7.4726708187081385, 6.760389561270131, 6.115979558671825, 5.532977563649183, 5.005535082163988, 4.52836003471748, 4.09666392634972, 3.7061140186269768, 3.3527900208719075, 3.0331448883807752, 2.743969337840099, 2.482359718705993, 2.245688943192363, 2.0315801711112726, 1.8378829917346593, 1.6626518724078778, 1.5041266539192293, 1.3607148980663624, 1.230975918180775, 1.1136063231679145, 1.0074269429896958, 0.9113709910889156, 0.824473363609286, 0.7458609432214871, 0.6747438429156318, 0.6104074671457056, 0.5522053417225834, 0.49955262037110515, 0.4519202098599635, 0.4088294575922191, 0.3698473425756674, 0.3345821285038255, 0.30267942367936485, 0.2738186262722593, 0.24770969926612452, 0.22409026004606858, 0.20272293995367363, 0.18339300455409102, 0.16590619043563493, 0.15008675894932821, 0.13577572532813065, 0.12282926501939073, 0.11111726585659198, 0.1005220218503382, 0.0909370488661807, 0.08226601890055463, 0.07442178556811996, 0.06732551279128529, 0.06090588300139643, 0.055098376062233, 33.869306278036674, 41.33000960259233, 83.61450945789693, 159.78626908233855, 288.195780243288, 490.54463161792955, 788.4434342063032, 1198.1622309121012, 1724.779758446617, 2357.6305729432206, 3068.8818963619997, 3816.1381308581913, 4548.572581552784, 5214.895449625503, 5771.007722521259, 6185.557670924434, 6442.5075307475345, 6540.778950093139, 6491.726834052504, 6315.462710902444, 6036.972016799264, 5682.696774903045, 5277.93565069075, 4845.145533334056, 4403.052643833507, 3966.394776821253, 3546.0970463166595, 3149.704495373473, 2781.9337560225395, 2445.247643485258, 2140.3930361091625, 1866.8704968434758, 1623.3236852072296, 1407.8489908638294, 1218.2327504741843, 1052.1265702280216, 907.1720420051133, 781.0855279357638, 671.7123908894137, 577.05850807752, 495.3053789291298, 424.813760572928, 364.1195900638122, 311.92499158519786, 267.08640416304115, 228.60127481189556, 195.594314285554, 167.3039795945515, 143.06960435031215, 122.31942393467762, 104.55962047586218, 89.36442926083691, 76.36729312699754, 65.25301662430866, 55.75085140526062, 47.62843396823155, 40.68649331148481, 34.75424696120899, 29.685407522018068, 25.3547272165888, 21.655014030460734, 18.49455949559342, 15.794924524903763, 13.489035765174776, 11.519550608471036, 9.83745415735757, 8.400856135529466, 7.1739598832209595, 6.126179301994853, 5.2313828519545496, 4.467246576270554, 3.814700603717938, 3.2574557623593137, 2.781598798930645, 2.3752463333075866, 2.02824908104958, 1.731939068180509, 1.47891362773953, 1.2628508394118398, 1.0783518500393257, 0.9208061717217788, 0.7862766169710085, 0.671401011524722, 0.5733082458609715, 0.48954657319700345, 0.4180223719449714, 0.356947845837567, 0.30479635926894844, 0.2602642924175598, 0.22223846684210002, 0.18976832897169515, 0.16204219299834222, 0.138366955507081, 0.11815077374922112, 0.10088827076833695, 0.08614790491992608, 0.07356118358438835, 0.06281345000024885, 0.053636020282283425, 0.04579946550074965, 0.0391078774118796, 0.03339397022500634, 0.02851489931344986, 0.024348690873011947, 0.020791190792806447, 0.017753464228007942, 0.015159568400122225, 0.012944657006300986, 0.011053358786739409, 0.009438391134608537, 0.008059380750637501, 0.006881852459628135, 0.005876368726603687, 0.0050177929806523025, 0.004284660390112549, 0.0036586434580385685, 0.0031240915413945913, 0.0026676413835957646, 0.002277881372720003, 0.0019450679537840188, 0.0016608808073215187, 0.0014182152808643878, 0.0012110044481232762, 0.0010340689332224429, 0.0008829846046864986, 0.0007539745420217514, 0.000643814099021256, 0.0005497485399246216, 0.00046942674089223146, 0.0004008404794149101, 0.00034227489959448576, 0.00029226619517430663, 0.000249564356636256, 0.00021310127340257168, 0.0001819657045416534, 0.0001553795882500708, 0.00013267731992527843, 0.00011329242261126637, 9.673961903899908e-05, 8.260528557002544e-05]}, {\"mode\": \"markers\", \"name\": \"Reali filtrati\", \"type\": \"scatter\", \"x\": [0, 1, 2, 3, 4, 5, 6, 7, 8, 9, 10, 11, 12, 13, 14, 15, 16, 17, 18, 19, 20, 21, 22, 23, 24, 25, 26, 27, 28, 29, 30, 31, 32, 33, 34, 35, 36, 37, 38, 39, 40, 41, 42, 43, 44, 45, 46, 47, 48, 49, 50, 51, 52, 53, 54, 55, 56, 57, 58, 59, 60, 61, 62, 63, 64, 65, 66, 67, 68, 69, 70, 71, 72, 73, 74, 75, 76, 77, 78, 79, 80, 81, 82, 83, 84, 85, 86, 87, 88, 89, 90, 91, 92, 93, 94, 95, 96, 97, 98, 99, 100, 101, 102, 103, 104, 105, 106, 107, 108, 109, 110, 111, 112, 113, 114, 115, 116, 117, 118, 119, 120, 121, 122, 123, 124, 125, 126, 127, 128, 129, 130, 131, 132, 133, 134, 135, 136, 137, 138, 139, 140, 141, 142, 143, 144, 145, 146, 147, 148, 149, 150, 151, 152, 153, 154, 155, 156, 157, 158, 159, 160, 161, 162, 163, 164, 165, 166, 167, 168, 169, 170, 171, 172, 173, 174, 175, 176, 177, 178, 179, 180, 181, 182, 183, 184, 185, 186, 187, 188, 189, 190, 191, 192, 193, 194, 195, 196, 197, 198, 199, 200, 201, 202, 203, 204, 205, 206, 207, 208, 209, 210, 211, 212, 213, 214, 215, 216, 217, 218, 219, 220, 221, 222, 223, 224, 225, 226, 227, 228, 229, 230, 231], \"y\": [164.75, 179.8, 244.16666666666666, 258.14285714285717, 311.42857142857144, 384.14285714285717, 458.2857142857143, 535.4285714285714, 679.2857142857143, 811.5714285714286, 1019.4285714285714, 1092.4285714285713, 1339.0, 1607.857142857143, 1860.5714285714287, 2182.0, 2481.714285714286, 2686.8571428571427, 3051.0, 3321.5714285714284, 3703.1428571428573, 4194.428571428572, 4631.571428571428, 4913.0, 5135.285714285715, 5381.428571428572, 5524.714285714285, 5643.428571428572, 5639.571428571428, 5556.285714285715, 5507.285714285715, 5401.714285714285, 5230.857142857143, 5169.714285714285, 4957.571428571428, 4761.285714285715, 4594.285714285715, 4465.571428571428, 4401.142857142857, 4256.285714285715, 4121.142857142857, 4054.8571428571427, 3964.285714285714, 3948.4285714285716, 3916.4285714285716, 3852.714285714286, 3843.1428571428573, 3676.1428571428573, 3616.4285714285716, 3551.0, 3379.1428571428573, 3229.8571428571427, 3101.714285714286, 3067.0, 3167.4285714285716, 3004.5714285714284, 2937.1428571428573, 2775.1428571428573, 2671.8571428571427, 2598.0, 2506.8571428571427, 2323.4285714285716, 2212.8571428571427, 2062.0, 1996.7142857142858, 1863.142857142857, 1789.142857142857, 1644.0, 1552.2857142857142, 1485.0, 1393.857142857143, 1277.142857142857, 1193.2857142857142, 1125.142857142857, 1171.857142857143, 1092.4285714285713, 1034.0, 957.1428571428571, 927.4285714285714, 909.2857142857143, 867.4285714285714, 783.2857142857143, 751.4285714285714, 701.4285714285714, 681.8571428571429, 652.4285714285714, 631.8571428571429, 610.2857142857143, 550.8571428571429, 539.2857142857143, 532.2857142857143, 512.8571428571429, 476.7142857142857, 451.57142857142856, 434.14285714285717, 422.85714285714283, 385.2857142857143, 325.85714285714283, 326.14285714285717, 305.2857142857143, 282.7142857142857, 297.2857142857143, 292.2857142857143, 275.2857142857143, 304.14285714285717, 253.42857142857142, 264.2857142857143, 284.42857142857144, 287.7142857142857, 277.2857142857143, 295.42857142857144, 288.85714285714283, 301.42857142857144, 289.42857142857144, 273.14285714285717, 261.0, 248.42857142857142, 228.57142857142858, 223.28571428571428, 224.42857142857142, 212.0, 204.85714285714286, 191.71428571428572, 194.57142857142858, 194.14285714285714, 180.57142857142858, 175.42857142857142, 184.0, 186.57142857142858, 198.28571428571428, 197.71428571428572, 198.57142857142858, 202.57142857142858, 210.14285714285714, 203.42857142857142, 209.42857142857142, 203.85714285714286, 200.42857142857142, 196.14285714285714, 196.28571428571428, 190.14285714285714, 198.85714285714286, 196.71428571428572, 199.71428571428572, 201.85714285714286, 218.85714285714286, 229.71428571428572, 232.42857142857142, 236.14285714285714, 241.28571428571428, 238.42857142857142, 250.28571428571428, 251.28571428571428, 262.7142857142857, 280.85714285714283, 283.7142857142857, 281.42857142857144, 279.85714285714283, 276.7142857142857, 290.2857142857143, 292.57142857142856, 317.2857142857143, 324.7142857142857, 356.7142857142857, 371.0, 402.7142857142857, 416.57142857142856, 433.85714285714283, 437.0, 477.2857142857143, 479.57142857142856, 488.2857142857143, 487.0, 510.0, 556.0, 609.2857142857143, 672.4285714285714, 776.8571428571429, 867.2857142857143, 935.1428571428571, 1038.7142857142858, 1119.5714285714287, 1193.142857142857, 1246.4285714285713, 1268.5714285714287, 1274.7142857142858, 1289.0, 1283.142857142857, 1281.142857142857, 1319.857142857143, 1355.5714285714287, 1345.857142857143, 1361.857142857143, 1417.857142857143, 1433.2857142857142, 1461.857142857143, 1445.142857142857, 1417.5714285714287, 1440.5714285714287, 1426.2857142857142, 1406.142857142857, 1408.7142857142858, 1407.0, 1448.5714285714287, 1468.142857142857, 1486.5714285714287, 1535.4285714285713, 1558.7142857142858, 1585.5714285714287, 1614.2857142857142, 1615.0, 1648.0, 1673.5714285714287, 1694.142857142857, 1730.7142857142858, 1760.857142857143, 1869.7142857142858, 1953.5714285714287, 2092.8571428571427, 2208.8571428571427, 2317.8571428571427, 2464.8571428571427, 2725.8571428571427, 2998.714285714286, 3409.1428571428573, 3820.5714285714284, 4231.714285714285, 4569.142857142857, 4884.5, 5125.8, 5292.75]}],\n",
       "                        {\"template\": {\"data\": {\"bar\": [{\"error_x\": {\"color\": \"#2a3f5f\"}, \"error_y\": {\"color\": \"#2a3f5f\"}, \"marker\": {\"line\": {\"color\": \"#E5ECF6\", \"width\": 0.5}}, \"type\": \"bar\"}], \"barpolar\": [{\"marker\": {\"line\": {\"color\": \"#E5ECF6\", \"width\": 0.5}}, \"type\": \"barpolar\"}], \"carpet\": [{\"aaxis\": {\"endlinecolor\": \"#2a3f5f\", \"gridcolor\": \"white\", \"linecolor\": \"white\", \"minorgridcolor\": \"white\", \"startlinecolor\": \"#2a3f5f\"}, \"baxis\": {\"endlinecolor\": \"#2a3f5f\", \"gridcolor\": \"white\", \"linecolor\": \"white\", \"minorgridcolor\": \"white\", \"startlinecolor\": \"#2a3f5f\"}, \"type\": \"carpet\"}], \"choropleth\": [{\"colorbar\": {\"outlinewidth\": 0, \"ticks\": \"\"}, \"type\": \"choropleth\"}], \"contour\": [{\"colorbar\": {\"outlinewidth\": 0, \"ticks\": \"\"}, \"colorscale\": [[0.0, \"#0d0887\"], [0.1111111111111111, \"#46039f\"], [0.2222222222222222, \"#7201a8\"], [0.3333333333333333, \"#9c179e\"], [0.4444444444444444, \"#bd3786\"], [0.5555555555555556, \"#d8576b\"], [0.6666666666666666, \"#ed7953\"], [0.7777777777777778, \"#fb9f3a\"], [0.8888888888888888, \"#fdca26\"], [1.0, \"#f0f921\"]], \"type\": \"contour\"}], \"contourcarpet\": [{\"colorbar\": {\"outlinewidth\": 0, \"ticks\": \"\"}, \"type\": \"contourcarpet\"}], \"heatmap\": [{\"colorbar\": {\"outlinewidth\": 0, \"ticks\": \"\"}, \"colorscale\": [[0.0, \"#0d0887\"], [0.1111111111111111, \"#46039f\"], [0.2222222222222222, \"#7201a8\"], [0.3333333333333333, \"#9c179e\"], [0.4444444444444444, \"#bd3786\"], [0.5555555555555556, \"#d8576b\"], [0.6666666666666666, \"#ed7953\"], [0.7777777777777778, \"#fb9f3a\"], [0.8888888888888888, \"#fdca26\"], [1.0, \"#f0f921\"]], \"type\": \"heatmap\"}], \"heatmapgl\": [{\"colorbar\": {\"outlinewidth\": 0, \"ticks\": \"\"}, \"colorscale\": [[0.0, \"#0d0887\"], [0.1111111111111111, \"#46039f\"], [0.2222222222222222, \"#7201a8\"], [0.3333333333333333, \"#9c179e\"], [0.4444444444444444, \"#bd3786\"], [0.5555555555555556, \"#d8576b\"], [0.6666666666666666, \"#ed7953\"], [0.7777777777777778, \"#fb9f3a\"], [0.8888888888888888, \"#fdca26\"], [1.0, \"#f0f921\"]], \"type\": \"heatmapgl\"}], \"histogram\": [{\"marker\": {\"colorbar\": {\"outlinewidth\": 0, \"ticks\": \"\"}}, \"type\": \"histogram\"}], \"histogram2d\": [{\"colorbar\": {\"outlinewidth\": 0, \"ticks\": \"\"}, \"colorscale\": [[0.0, \"#0d0887\"], [0.1111111111111111, \"#46039f\"], [0.2222222222222222, \"#7201a8\"], [0.3333333333333333, \"#9c179e\"], [0.4444444444444444, \"#bd3786\"], [0.5555555555555556, \"#d8576b\"], [0.6666666666666666, \"#ed7953\"], [0.7777777777777778, \"#fb9f3a\"], [0.8888888888888888, \"#fdca26\"], [1.0, \"#f0f921\"]], \"type\": \"histogram2d\"}], \"histogram2dcontour\": [{\"colorbar\": {\"outlinewidth\": 0, \"ticks\": \"\"}, \"colorscale\": [[0.0, \"#0d0887\"], [0.1111111111111111, \"#46039f\"], [0.2222222222222222, \"#7201a8\"], [0.3333333333333333, \"#9c179e\"], [0.4444444444444444, \"#bd3786\"], [0.5555555555555556, \"#d8576b\"], [0.6666666666666666, \"#ed7953\"], [0.7777777777777778, \"#fb9f3a\"], [0.8888888888888888, \"#fdca26\"], [1.0, \"#f0f921\"]], \"type\": \"histogram2dcontour\"}], \"mesh3d\": [{\"colorbar\": {\"outlinewidth\": 0, \"ticks\": \"\"}, \"type\": \"mesh3d\"}], \"parcoords\": [{\"line\": {\"colorbar\": {\"outlinewidth\": 0, \"ticks\": \"\"}}, \"type\": \"parcoords\"}], \"pie\": [{\"automargin\": true, \"type\": \"pie\"}], \"scatter\": [{\"marker\": {\"colorbar\": {\"outlinewidth\": 0, \"ticks\": \"\"}}, \"type\": \"scatter\"}], \"scatter3d\": [{\"line\": {\"colorbar\": {\"outlinewidth\": 0, \"ticks\": \"\"}}, \"marker\": {\"colorbar\": {\"outlinewidth\": 0, \"ticks\": \"\"}}, \"type\": \"scatter3d\"}], \"scattercarpet\": [{\"marker\": {\"colorbar\": {\"outlinewidth\": 0, \"ticks\": \"\"}}, \"type\": \"scattercarpet\"}], \"scattergeo\": [{\"marker\": {\"colorbar\": {\"outlinewidth\": 0, \"ticks\": \"\"}}, \"type\": \"scattergeo\"}], \"scattergl\": [{\"marker\": {\"colorbar\": {\"outlinewidth\": 0, \"ticks\": \"\"}}, \"type\": \"scattergl\"}], \"scattermapbox\": [{\"marker\": {\"colorbar\": {\"outlinewidth\": 0, \"ticks\": \"\"}}, \"type\": \"scattermapbox\"}], \"scatterpolar\": [{\"marker\": {\"colorbar\": {\"outlinewidth\": 0, \"ticks\": \"\"}}, \"type\": \"scatterpolar\"}], \"scatterpolargl\": [{\"marker\": {\"colorbar\": {\"outlinewidth\": 0, \"ticks\": \"\"}}, \"type\": \"scatterpolargl\"}], \"scatterternary\": [{\"marker\": {\"colorbar\": {\"outlinewidth\": 0, \"ticks\": \"\"}}, \"type\": \"scatterternary\"}], \"surface\": [{\"colorbar\": {\"outlinewidth\": 0, \"ticks\": \"\"}, \"colorscale\": [[0.0, \"#0d0887\"], [0.1111111111111111, \"#46039f\"], [0.2222222222222222, \"#7201a8\"], [0.3333333333333333, \"#9c179e\"], [0.4444444444444444, \"#bd3786\"], [0.5555555555555556, \"#d8576b\"], [0.6666666666666666, \"#ed7953\"], [0.7777777777777778, \"#fb9f3a\"], [0.8888888888888888, \"#fdca26\"], [1.0, \"#f0f921\"]], \"type\": \"surface\"}], \"table\": [{\"cells\": {\"fill\": {\"color\": \"#EBF0F8\"}, \"line\": {\"color\": \"white\"}}, \"header\": {\"fill\": {\"color\": \"#C8D4E3\"}, \"line\": {\"color\": \"white\"}}, \"type\": \"table\"}]}, \"layout\": {\"annotationdefaults\": {\"arrowcolor\": \"#2a3f5f\", \"arrowhead\": 0, \"arrowwidth\": 1}, \"coloraxis\": {\"colorbar\": {\"outlinewidth\": 0, \"ticks\": \"\"}}, \"colorscale\": {\"diverging\": [[0, \"#8e0152\"], [0.1, \"#c51b7d\"], [0.2, \"#de77ae\"], [0.3, \"#f1b6da\"], [0.4, \"#fde0ef\"], [0.5, \"#f7f7f7\"], [0.6, \"#e6f5d0\"], [0.7, \"#b8e186\"], [0.8, \"#7fbc41\"], [0.9, \"#4d9221\"], [1, \"#276419\"]], \"sequential\": [[0.0, \"#0d0887\"], [0.1111111111111111, \"#46039f\"], [0.2222222222222222, \"#7201a8\"], [0.3333333333333333, \"#9c179e\"], [0.4444444444444444, \"#bd3786\"], [0.5555555555555556, \"#d8576b\"], [0.6666666666666666, \"#ed7953\"], [0.7777777777777778, \"#fb9f3a\"], [0.8888888888888888, \"#fdca26\"], [1.0, \"#f0f921\"]], \"sequentialminus\": [[0.0, \"#0d0887\"], [0.1111111111111111, \"#46039f\"], [0.2222222222222222, \"#7201a8\"], [0.3333333333333333, \"#9c179e\"], [0.4444444444444444, \"#bd3786\"], [0.5555555555555556, \"#d8576b\"], [0.6666666666666666, \"#ed7953\"], [0.7777777777777778, \"#fb9f3a\"], [0.8888888888888888, \"#fdca26\"], [1.0, \"#f0f921\"]]}, \"colorway\": [\"#636efa\", \"#EF553B\", \"#00cc96\", \"#ab63fa\", \"#FFA15A\", \"#19d3f3\", \"#FF6692\", \"#B6E880\", \"#FF97FF\", \"#FECB52\"], \"font\": {\"color\": \"#2a3f5f\"}, \"geo\": {\"bgcolor\": \"white\", \"lakecolor\": \"white\", \"landcolor\": \"#E5ECF6\", \"showlakes\": true, \"showland\": true, \"subunitcolor\": \"white\"}, \"hoverlabel\": {\"align\": \"left\"}, \"hovermode\": \"closest\", \"mapbox\": {\"style\": \"light\"}, \"paper_bgcolor\": \"white\", \"plot_bgcolor\": \"#E5ECF6\", \"polar\": {\"angularaxis\": {\"gridcolor\": \"white\", \"linecolor\": \"white\", \"ticks\": \"\"}, \"bgcolor\": \"#E5ECF6\", \"radialaxis\": {\"gridcolor\": \"white\", \"linecolor\": \"white\", \"ticks\": \"\"}}, \"scene\": {\"xaxis\": {\"backgroundcolor\": \"#E5ECF6\", \"gridcolor\": \"white\", \"gridwidth\": 2, \"linecolor\": \"white\", \"showbackground\": true, \"ticks\": \"\", \"zerolinecolor\": \"white\"}, \"yaxis\": {\"backgroundcolor\": \"#E5ECF6\", \"gridcolor\": \"white\", \"gridwidth\": 2, \"linecolor\": \"white\", \"showbackground\": true, \"ticks\": \"\", \"zerolinecolor\": \"white\"}, \"zaxis\": {\"backgroundcolor\": \"#E5ECF6\", \"gridcolor\": \"white\", \"gridwidth\": 2, \"linecolor\": \"white\", \"showbackground\": true, \"ticks\": \"\", \"zerolinecolor\": \"white\"}}, \"shapedefaults\": {\"line\": {\"color\": \"#2a3f5f\"}}, \"ternary\": {\"aaxis\": {\"gridcolor\": \"white\", \"linecolor\": \"white\", \"ticks\": \"\"}, \"baxis\": {\"gridcolor\": \"white\", \"linecolor\": \"white\", \"ticks\": \"\"}, \"bgcolor\": \"#E5ECF6\", \"caxis\": {\"gridcolor\": \"white\", \"linecolor\": \"white\", \"ticks\": \"\"}}, \"title\": {\"x\": 0.05}, \"xaxis\": {\"automargin\": true, \"gridcolor\": \"white\", \"linecolor\": \"white\", \"ticks\": \"\", \"title\": {\"standoff\": 15}, \"zerolinecolor\": \"white\", \"zerolinewidth\": 2}, \"yaxis\": {\"automargin\": true, \"gridcolor\": \"white\", \"linecolor\": \"white\", \"ticks\": \"\", \"title\": {\"standoff\": 15}, \"zerolinecolor\": \"white\", \"zerolinewidth\": 2}}}, \"title\": {\"text\": \"Nuovi contagi\"}, \"xaxis\": {\"tickmode\": \"array\", \"ticktext\": [\"2020-02-24\", \"2020-03-02\", \"2020-03-09\", \"2020-03-16\", \"2020-03-23\", \"2020-03-30\", \"2020-04-06\", \"2020-04-13\", \"2020-04-20\", \"2020-04-27\", \"2020-05-04\", \"2020-05-11\", \"2020-05-18\", \"2020-05-25\", \"2020-06-01\", \"2020-06-08\", \"2020-06-15\", \"2020-06-22\", \"2020-06-29\", \"2020-07-06\", \"2020-07-13\", \"2020-07-20\", \"2020-07-27\", \"2020-08-03\", \"2020-08-10\", \"2020-08-17\", \"2020-08-24\", \"2020-08-31\", \"2020-09-07\", \"2020-09-14\", \"2020-09-21\", \"2020-09-28\", \"2020-10-05\", \"2020-10-12\"], \"tickvals\": [0, 7, 14, 21, 28, 35, 42, 49, 56, 63, 70, 77, 84, 91, 98, 105, 112, 119, 126, 133, 140, 147, 154, 161, 168, 175, 182, 189, 196, 203, 210, 217, 224, 231]}},\n",
       "                        {\"responsive\": true}\n",
       "                    ).then(function(){\n",
       "                            \n",
       "var gd = document.getElementById('44730f96-6170-4748-bc95-4882f09e883e');\n",
       "var x = new MutationObserver(function (mutations, observer) {{\n",
       "        var display = window.getComputedStyle(gd).display;\n",
       "        if (!display || display === 'none') {{\n",
       "            console.log([gd, 'removed!']);\n",
       "            Plotly.purge(gd);\n",
       "            observer.disconnect();\n",
       "        }}\n",
       "}});\n",
       "\n",
       "// Listen for the removal of the full notebook cells\n",
       "var notebookContainer = gd.closest('#notebook-container');\n",
       "if (notebookContainer) {{\n",
       "    x.observe(notebookContainer, {childList: true});\n",
       "}}\n",
       "\n",
       "// Listen for the clearing of the current output cell\n",
       "var outputEl = gd.closest('.output');\n",
       "if (outputEl) {{\n",
       "    x.observe(outputEl, {childList: true});\n",
       "}}\n",
       "\n",
       "                        })\n",
       "                };\n",
       "                });\n",
       "            </script>\n",
       "        </div>"
      ]
     },
     "metadata": {},
     "output_type": "display_data"
    }
   ],
   "source": [
    "fig = go.Figure()\n",
    "\n",
    "# Add traces\n",
    "fig.add_trace(go.Scatter(x=day_counter,\n",
    "                         y=nuovi_contagi_reali,\n",
    "                         mode='markers',\n",
    "                         name='Reali'))\n",
    "fig.add_trace(go.Scatter(x=day_counter,\n",
    "                         y=nuovi_contagi_pred,\n",
    "                         mode='lines',\n",
    "                         name='Predetti'))\n",
    "fig.add_trace(go.Scatter(x=day_counter,\n",
    "                         y=nuovi_contagi_reali_filtered,\n",
    "                         mode='markers',\n",
    "                         name='Reali filtrati'))\n",
    "fig.update_layout(title='Nuovi contagi',\n",
    "                  xaxis_tickmode = 'array',\n",
    "                  xaxis_tickvals = np.arange(0,len(day_counter),7),\n",
    "                  xaxis_ticktext = [g[0:10] for g in giorni[np.arange(0,len(day_counter),7)]])\n",
    "fig.show()"
   ]
  },
  {
   "cell_type": "code",
   "execution_count": 42,
   "metadata": {},
   "outputs": [
    {
     "name": "stderr",
     "output_type": "stream",
     "text": [
      "C:\\Users\\klaat\\Anaconda3\\lib\\site-packages\\ipykernel_launcher.py:13: UserWarning:\n",
      "\n",
      "Matplotlib is currently using module://ipykernel.pylab.backend_inline, which is a non-GUI backend, so cannot show the figure.\n",
      "\n"
     ]
    },
    {
     "data": {
      "image/png": "[encoded data removed]",
      "text/plain": [
       "<Figure size 864x432 with 1 Axes>"
      ]
     },
     "metadata": {
      "needs_background": "light"
     },
     "output_type": "display_data"
    }
   ],
   "source": [
    "from scipy.signal import savgol_filter\n",
    "\n",
    "\n",
    "fig,ax=plt.subplots(1,1,figsize=(12,6))\n",
    "errore_giornaliero=nuovi_contagi_pred[0:len(nuovi_contagi_reali)]-nuovi_contagi_reali\n",
    "ax.bar(day_counter[0:len(nuovi_contagi_reali)],errore_giornaliero)\n",
    "#ax.plot(day_counter[0:len(nuovi_contagi_reali)],moving_function_rev1(errore_giornaliero,np.mean,5,2),'r',linewidth=3)\n",
    "ax.plot(day_counter[0:len(nuovi_contagi_reali)],savgol_filter(errore_giornaliero,13,1),'r',linewidth=3)\n",
    "ax.axvline(days_training-2)\n",
    "ax.set_title('Nuovi contagi - Errore')\n",
    "ax.grid()\n",
    "fig.tight_layout()\n",
    "fig.show()"
   ]
  },
  {
   "cell_type": "code",
   "execution_count": null,
   "metadata": {},
   "outputs": [],
   "source": []
  },
  {
   "cell_type": "code",
   "execution_count": null,
   "metadata": {},
   "outputs": [],
   "source": []
  }
 ],
 "metadata": {
  "kernelspec": {
   "display_name": "Python 3",
   "language": "python",
   "name": "python3"
  },
  "language_info": {
   "codemirror_mode": {
    "name": "ipython",
    "version": 3
   },
   "file_extension": ".py",
   "mimetype": "text/x-python",
   "name": "python",
   "nbconvert_exporter": "python",
   "pygments_lexer": "ipython3",
   "version": "3.7.1"
  }
 },
 "nbformat": 4,
 "nbformat_minor": 4
}
