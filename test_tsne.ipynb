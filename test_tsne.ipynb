{
 "cells": [
  {
   "cell_type": "markdown",
   "metadata": {},
   "source": [
    "# Test groupig con t-SNE"
   ]
  },
  {
   "cell_type": "code",
   "execution_count": 1,
   "metadata": {},
   "outputs": [],
   "source": [
    "import pandas as pd\n",
    "import numpy as np\n",
    "from sklearn.manifold import TSNE\n",
    "\n",
    "import matplotlib.pyplot as plt"
   ]
  },
  {
   "cell_type": "markdown",
   "metadata": {},
   "source": [
    "## Lettura dati\n",
    "\n",
    "Test con dati Rt degli ultimi 2 mesi memorizzati su file Excel"
   ]
  },
  {
   "cell_type": "code",
   "execution_count": 22,
   "metadata": {},
   "outputs": [
    {
     "data": {
      "text/html": [
       "<div>\n",
       "<style scoped>\n",
       "    .dataframe tbody tr th:only-of-type {\n",
       "        vertical-align: middle;\n",
       "    }\n",
       "\n",
       "    .dataframe tbody tr th {\n",
       "        vertical-align: top;\n",
       "    }\n",
       "\n",
       "    .dataframe thead th {\n",
       "        text-align: right;\n",
       "    }\n",
       "</style>\n",
       "<table border=\"1\" class=\"dataframe\">\n",
       "  <thead>\n",
       "    <tr style=\"text-align: right;\">\n",
       "      <th></th>\n",
       "      <th>Abruzzo</th>\n",
       "      <th>Basilicata</th>\n",
       "      <th>Calabria</th>\n",
       "      <th>Campania</th>\n",
       "      <th>Emilia-Romagna</th>\n",
       "      <th>Friuli Venezia Giulia</th>\n",
       "      <th>Lazio</th>\n",
       "      <th>Liguria</th>\n",
       "      <th>Lombardia</th>\n",
       "      <th>Marche</th>\n",
       "      <th>...</th>\n",
       "      <th>P.A. Trento</th>\n",
       "      <th>Piemonte</th>\n",
       "      <th>Puglia</th>\n",
       "      <th>Sardegna</th>\n",
       "      <th>Sicilia</th>\n",
       "      <th>Toscana</th>\n",
       "      <th>Umbria</th>\n",
       "      <th>Valle d'Aosta</th>\n",
       "      <th>Veneto</th>\n",
       "      <th>Italia</th>\n",
       "    </tr>\n",
       "  </thead>\n",
       "  <tbody>\n",
       "    <tr>\n",
       "      <th>2021-02-19</th>\n",
       "      <td>1.084066</td>\n",
       "      <td>1.025067</td>\n",
       "      <td>0.969735</td>\n",
       "      <td>1.022881</td>\n",
       "      <td>0.921245</td>\n",
       "      <td>0.946238</td>\n",
       "      <td>0.897953</td>\n",
       "      <td>1.005005</td>\n",
       "      <td>1.003693</td>\n",
       "      <td>1.024595</td>\n",
       "      <td>...</td>\n",
       "      <td>1.021186</td>\n",
       "      <td>0.991091</td>\n",
       "      <td>0.908028</td>\n",
       "      <td>0.975961</td>\n",
       "      <td>0.956911</td>\n",
       "      <td>1.061140</td>\n",
       "      <td>1.050728</td>\n",
       "      <td>0.931579</td>\n",
       "      <td>0.937055</td>\n",
       "      <td>0.971304</td>\n",
       "    </tr>\n",
       "    <tr>\n",
       "      <th>2021-02-20</th>\n",
       "      <td>1.066811</td>\n",
       "      <td>1.021648</td>\n",
       "      <td>0.968454</td>\n",
       "      <td>1.013179</td>\n",
       "      <td>0.922703</td>\n",
       "      <td>0.947604</td>\n",
       "      <td>0.906770</td>\n",
       "      <td>0.981092</td>\n",
       "      <td>1.011480</td>\n",
       "      <td>1.021819</td>\n",
       "      <td>...</td>\n",
       "      <td>1.039797</td>\n",
       "      <td>0.990608</td>\n",
       "      <td>0.885264</td>\n",
       "      <td>0.969253</td>\n",
       "      <td>0.950004</td>\n",
       "      <td>1.057791</td>\n",
       "      <td>1.040120</td>\n",
       "      <td>0.939286</td>\n",
       "      <td>0.911386</td>\n",
       "      <td>0.965740</td>\n",
       "    </tr>\n",
       "    <tr>\n",
       "      <th>2021-02-21</th>\n",
       "      <td>1.042502</td>\n",
       "      <td>1.019431</td>\n",
       "      <td>0.970940</td>\n",
       "      <td>1.012097</td>\n",
       "      <td>0.928275</td>\n",
       "      <td>0.959331</td>\n",
       "      <td>0.919161</td>\n",
       "      <td>0.973761</td>\n",
       "      <td>1.034247</td>\n",
       "      <td>1.041628</td>\n",
       "      <td>...</td>\n",
       "      <td>1.063475</td>\n",
       "      <td>1.000773</td>\n",
       "      <td>0.860890</td>\n",
       "      <td>0.963637</td>\n",
       "      <td>0.922724</td>\n",
       "      <td>1.070518</td>\n",
       "      <td>1.034358</td>\n",
       "      <td>0.985240</td>\n",
       "      <td>0.897091</td>\n",
       "      <td>0.965198</td>\n",
       "    </tr>\n",
       "    <tr>\n",
       "      <th>2021-02-22</th>\n",
       "      <td>1.040635</td>\n",
       "      <td>1.024279</td>\n",
       "      <td>0.971561</td>\n",
       "      <td>1.012099</td>\n",
       "      <td>0.954207</td>\n",
       "      <td>0.970947</td>\n",
       "      <td>0.935768</td>\n",
       "      <td>0.974198</td>\n",
       "      <td>1.068963</td>\n",
       "      <td>1.062527</td>\n",
       "      <td>...</td>\n",
       "      <td>1.085641</td>\n",
       "      <td>1.016117</td>\n",
       "      <td>0.849385</td>\n",
       "      <td>0.961899</td>\n",
       "      <td>0.899011</td>\n",
       "      <td>1.096671</td>\n",
       "      <td>1.026972</td>\n",
       "      <td>1.007519</td>\n",
       "      <td>0.898103</td>\n",
       "      <td>0.972867</td>\n",
       "    </tr>\n",
       "    <tr>\n",
       "      <th>2021-02-23</th>\n",
       "      <td>1.040188</td>\n",
       "      <td>1.030820</td>\n",
       "      <td>0.977464</td>\n",
       "      <td>1.018888</td>\n",
       "      <td>0.984876</td>\n",
       "      <td>0.977031</td>\n",
       "      <td>0.957867</td>\n",
       "      <td>0.993902</td>\n",
       "      <td>1.089805</td>\n",
       "      <td>1.072107</td>\n",
       "      <td>...</td>\n",
       "      <td>1.083348</td>\n",
       "      <td>1.042278</td>\n",
       "      <td>0.862412</td>\n",
       "      <td>0.964465</td>\n",
       "      <td>0.884544</td>\n",
       "      <td>1.122437</td>\n",
       "      <td>1.020880</td>\n",
       "      <td>1.028249</td>\n",
       "      <td>0.928156</td>\n",
       "      <td>0.986404</td>\n",
       "    </tr>\n",
       "  </tbody>\n",
       "</table>\n",
       "<p>5 rows × 22 columns</p>\n",
       "</div>"
      ],
      "text/plain": [
       "             Abruzzo  Basilicata  Calabria  Campania  Emilia-Romagna  \\\n",
       "2021-02-19  1.084066    1.025067  0.969735  1.022881        0.921245   \n",
       "2021-02-20  1.066811    1.021648  0.968454  1.013179        0.922703   \n",
       "2021-02-21  1.042502    1.019431  0.970940  1.012097        0.928275   \n",
       "2021-02-22  1.040635    1.024279  0.971561  1.012099        0.954207   \n",
       "2021-02-23  1.040188    1.030820  0.977464  1.018888        0.984876   \n",
       "\n",
       "            Friuli Venezia Giulia     Lazio   Liguria  Lombardia    Marche  \\\n",
       "2021-02-19               0.946238  0.897953  1.005005   1.003693  1.024595   \n",
       "2021-02-20               0.947604  0.906770  0.981092   1.011480  1.021819   \n",
       "2021-02-21               0.959331  0.919161  0.973761   1.034247  1.041628   \n",
       "2021-02-22               0.970947  0.935768  0.974198   1.068963  1.062527   \n",
       "2021-02-23               0.977031  0.957867  0.993902   1.089805  1.072107   \n",
       "\n",
       "              ...     P.A. Trento  Piemonte    Puglia  Sardegna   Sicilia  \\\n",
       "2021-02-19    ...        1.021186  0.991091  0.908028  0.975961  0.956911   \n",
       "2021-02-20    ...        1.039797  0.990608  0.885264  0.969253  0.950004   \n",
       "2021-02-21    ...        1.063475  1.000773  0.860890  0.963637  0.922724   \n",
       "2021-02-22    ...        1.085641  1.016117  0.849385  0.961899  0.899011   \n",
       "2021-02-23    ...        1.083348  1.042278  0.862412  0.964465  0.884544   \n",
       "\n",
       "             Toscana    Umbria  Valle d'Aosta    Veneto    Italia  \n",
       "2021-02-19  1.061140  1.050728       0.931579  0.937055  0.971304  \n",
       "2021-02-20  1.057791  1.040120       0.939286  0.911386  0.965740  \n",
       "2021-02-21  1.070518  1.034358       0.985240  0.897091  0.965198  \n",
       "2021-02-22  1.096671  1.026972       1.007519  0.898103  0.972867  \n",
       "2021-02-23  1.122437  1.020880       1.028249  0.928156  0.986404  \n",
       "\n",
       "[5 rows x 22 columns]"
      ]
     },
     "execution_count": 22,
     "metadata": {},
     "output_type": "execute_result"
    }
   ],
   "source": [
    "data=pd.read_excel('rt_regioni.xls')\n",
    "data.tail(5)"
   ]
  },
  {
   "cell_type": "markdown",
   "metadata": {},
   "source": [
    "## T-SNE"
   ]
  },
  {
   "cell_type": "markdown",
   "metadata": {},
   "source": [
    "### Operazioni preliminari"
   ]
  },
  {
   "cell_type": "code",
   "execution_count": 28,
   "metadata": {},
   "outputs": [],
   "source": [
    "data_matrix=data.values\n",
    "\n",
    "# estraggo nomi regioni\n",
    "regioni=data.columns.values\n",
    "\n",
    "# estraggo i giorni\n",
    "giorni=data.index.values\n",
    "\n",
    "# traspongo per avere una riga per ciascuna regione\n",
    "data_matrix=data_matrix.transpose()\n",
    "\n",
    "# ultimi giorni di osservazione su cui baso l'analisi\n",
    "last_days=30\n",
    "# estraggo i dati da analizzare\n",
    "anal_data=data_matrix[:,-last_days:]"
   ]
  },
  {
   "cell_type": "markdown",
   "metadata": {},
   "source": [
    "### Applicazione algoritmo"
   ]
  },
  {
   "cell_type": "code",
   "execution_count": 31,
   "metadata": {},
   "outputs": [],
   "source": [
    "embedded_space=TSNE(learning_rate=200,perplexity=3).fit_transform(anal_data)"
   ]
  },
  {
   "cell_type": "code",
   "execution_count": 32,
   "metadata": {},
   "outputs": [
    {
     "data": {
      "image/png": "[encoded data removed]",
      "text/plain": [
       "<Figure size 1440x720 with 1 Axes>"
      ]
     },
     "metadata": {
      "needs_background": "light"
     },
     "output_type": "display_data"
    }
   ],
   "source": [
    "# plot\n",
    "\n",
    "fig,ax=plt.subplots(1,1,figsize=(20,10))\n",
    "\n",
    "ax.plot(embedded_space[:,0],embedded_space[:,1],marker='8',linestyle='')\n",
    "#ax.set_yscale('log')\n",
    "#ax.set_xscale('log')\n",
    "\n",
    "# creo una stringa complementare per ciascuna regione\n",
    "#reg_info=[str(np.round(anal_data[i,-1]-anal_data[i,0],2)) for i in range(len(regioni))]\n",
    "reg_info=[str(np.round(np.mean(anal_data[i,:]),2)) for i in range(len(regioni))]\n",
    "\n",
    "for i in range(len(regioni)):\n",
    "    ax.text(embedded_space[i,0],\n",
    "            embedded_space[i,1],\n",
    "            regioni[i]+' '+reg_info[i])\n"
   ]
  },
  {
   "cell_type": "code",
   "execution_count": null,
   "metadata": {},
   "outputs": [],
   "source": []
  }
 ],
 "metadata": {
  "kernelspec": {
   "display_name": "Python 3.7.1 64-bit ('klaat': virtualenv)",
   "language": "python",
   "name": "python37164bitklaatvirtualenv68391259d5714fc793cf295373d8f8d2"
  },
  "language_info": {
   "codemirror_mode": {
    "name": "ipython",
    "version": 3
   },
   "file_extension": ".py",
   "mimetype": "text/x-python",
   "name": "python",
   "nbconvert_exporter": "python",
   "pygments_lexer": "ipython3",
   "version": "3.7.1"
  }
 },
 "nbformat": 4,
 "nbformat_minor": 4
}
