{
 "cells": [
  {
   "cell_type": "markdown",
   "metadata": {},
   "source": [
    "# Test groupig con t-SNE"
   ]
  },
  {
   "cell_type": "code",
   "execution_count": 1,
   "metadata": {},
   "outputs": [],
   "source": [
    "import pandas as pd\n",
    "import numpy as np\n",
    "from sklearn.manifold import TSNE\n",
    "\n",
    "import matplotlib.pyplot as plt"
   ]
  },
  {
   "cell_type": "markdown",
   "metadata": {},
   "source": [
    "## Lettura dati\n",
    "\n",
    "Test con dati Rt degli ultimi 2 mesi memorizzati su file Excel"
   ]
  },
  {
   "cell_type": "code",
   "execution_count": 2,
   "metadata": {},
   "outputs": [
    {
     "data": {
      "text/html": [
       "<div>\n",
       "<style scoped>\n",
       "    .dataframe tbody tr th:only-of-type {\n",
       "        vertical-align: middle;\n",
       "    }\n",
       "\n",
       "    .dataframe tbody tr th {\n",
       "        vertical-align: top;\n",
       "    }\n",
       "\n",
       "    .dataframe thead th {\n",
       "        text-align: right;\n",
       "    }\n",
       "</style>\n",
       "<table border=\"1\" class=\"dataframe\">\n",
       "  <thead>\n",
       "    <tr style=\"text-align: right;\">\n",
       "      <th></th>\n",
       "      <th>Unnamed: 0</th>\n",
       "      <th>Abruzzo</th>\n",
       "      <th>Basilicata</th>\n",
       "      <th>Calabria</th>\n",
       "      <th>Campania</th>\n",
       "      <th>Emilia-Romagna</th>\n",
       "      <th>Friuli Venezia Giulia</th>\n",
       "      <th>Lazio</th>\n",
       "      <th>Liguria</th>\n",
       "      <th>Lombardia</th>\n",
       "      <th>...</th>\n",
       "      <th>P.A. Trento</th>\n",
       "      <th>Piemonte</th>\n",
       "      <th>Puglia</th>\n",
       "      <th>Sardegna</th>\n",
       "      <th>Sicilia</th>\n",
       "      <th>Toscana</th>\n",
       "      <th>Umbria</th>\n",
       "      <th>Valle d'Aosta</th>\n",
       "      <th>Veneto</th>\n",
       "      <th>Italia</th>\n",
       "    </tr>\n",
       "  </thead>\n",
       "  <tbody>\n",
       "    <tr>\n",
       "      <th>115</th>\n",
       "      <td>2021-12-30</td>\n",
       "      <td>1.200192</td>\n",
       "      <td>1.304099</td>\n",
       "      <td>1.193401</td>\n",
       "      <td>1.388104</td>\n",
       "      <td>1.199587</td>\n",
       "      <td>1.074916</td>\n",
       "      <td>1.238764</td>\n",
       "      <td>1.218876</td>\n",
       "      <td>1.446268</td>\n",
       "      <td>...</td>\n",
       "      <td>1.263327</td>\n",
       "      <td>1.349891</td>\n",
       "      <td>1.432607</td>\n",
       "      <td>1.252623</td>\n",
       "      <td>1.279663</td>\n",
       "      <td>1.520435</td>\n",
       "      <td>1.733008</td>\n",
       "      <td>1.262987</td>\n",
       "      <td>1.123777</td>\n",
       "      <td>1.297775</td>\n",
       "    </tr>\n",
       "    <tr>\n",
       "      <th>116</th>\n",
       "      <td>2021-12-31</td>\n",
       "      <td>1.243998</td>\n",
       "      <td>1.350069</td>\n",
       "      <td>1.235257</td>\n",
       "      <td>1.476692</td>\n",
       "      <td>1.211164</td>\n",
       "      <td>1.106635</td>\n",
       "      <td>1.240422</td>\n",
       "      <td>1.214198</td>\n",
       "      <td>1.538360</td>\n",
       "      <td>...</td>\n",
       "      <td>1.367157</td>\n",
       "      <td>1.438361</td>\n",
       "      <td>1.509444</td>\n",
       "      <td>1.276516</td>\n",
       "      <td>1.294788</td>\n",
       "      <td>1.638195</td>\n",
       "      <td>1.887448</td>\n",
       "      <td>1.314193</td>\n",
       "      <td>1.156102</td>\n",
       "      <td>1.357804</td>\n",
       "    </tr>\n",
       "    <tr>\n",
       "      <th>117</th>\n",
       "      <td>2022-01-01</td>\n",
       "      <td>1.400117</td>\n",
       "      <td>1.456982</td>\n",
       "      <td>1.310543</td>\n",
       "      <td>1.608305</td>\n",
       "      <td>1.245067</td>\n",
       "      <td>1.201470</td>\n",
       "      <td>1.270272</td>\n",
       "      <td>1.215685</td>\n",
       "      <td>1.718196</td>\n",
       "      <td>...</td>\n",
       "      <td>1.509961</td>\n",
       "      <td>1.547040</td>\n",
       "      <td>1.678777</td>\n",
       "      <td>1.318223</td>\n",
       "      <td>1.336843</td>\n",
       "      <td>1.854754</td>\n",
       "      <td>2.053680</td>\n",
       "      <td>1.447078</td>\n",
       "      <td>1.207437</td>\n",
       "      <td>1.465743</td>\n",
       "    </tr>\n",
       "    <tr>\n",
       "      <th>118</th>\n",
       "      <td>2022-01-02</td>\n",
       "      <td>1.634565</td>\n",
       "      <td>1.554046</td>\n",
       "      <td>1.362963</td>\n",
       "      <td>1.756673</td>\n",
       "      <td>1.322205</td>\n",
       "      <td>1.318968</td>\n",
       "      <td>1.336724</td>\n",
       "      <td>1.194931</td>\n",
       "      <td>1.823021</td>\n",
       "      <td>...</td>\n",
       "      <td>1.648092</td>\n",
       "      <td>1.616794</td>\n",
       "      <td>1.803947</td>\n",
       "      <td>1.374270</td>\n",
       "      <td>1.390355</td>\n",
       "      <td>2.100691</td>\n",
       "      <td>2.116556</td>\n",
       "      <td>1.585169</td>\n",
       "      <td>1.266812</td>\n",
       "      <td>1.568065</td>\n",
       "    </tr>\n",
       "    <tr>\n",
       "      <th>119</th>\n",
       "      <td>2022-01-03</td>\n",
       "      <td>1.870908</td>\n",
       "      <td>1.603639</td>\n",
       "      <td>1.381078</td>\n",
       "      <td>1.815318</td>\n",
       "      <td>1.415006</td>\n",
       "      <td>1.423112</td>\n",
       "      <td>1.405159</td>\n",
       "      <td>1.172535</td>\n",
       "      <td>1.823811</td>\n",
       "      <td>...</td>\n",
       "      <td>1.705139</td>\n",
       "      <td>1.605780</td>\n",
       "      <td>1.902809</td>\n",
       "      <td>1.414258</td>\n",
       "      <td>1.427984</td>\n",
       "      <td>2.240680</td>\n",
       "      <td>2.004414</td>\n",
       "      <td>1.664708</td>\n",
       "      <td>1.308038</td>\n",
       "      <td>1.620556</td>\n",
       "    </tr>\n",
       "  </tbody>\n",
       "</table>\n",
       "<p>5 rows × 23 columns</p>\n",
       "</div>"
      ],
      "text/plain": [
       "     Unnamed: 0   Abruzzo  Basilicata  Calabria  Campania  Emilia-Romagna  \\\n",
       "115  2021-12-30  1.200192    1.304099  1.193401  1.388104        1.199587   \n",
       "116  2021-12-31  1.243998    1.350069  1.235257  1.476692        1.211164   \n",
       "117  2022-01-01  1.400117    1.456982  1.310543  1.608305        1.245067   \n",
       "118  2022-01-02  1.634565    1.554046  1.362963  1.756673        1.322205   \n",
       "119  2022-01-03  1.870908    1.603639  1.381078  1.815318        1.415006   \n",
       "\n",
       "     Friuli Venezia Giulia     Lazio   Liguria  Lombardia  ...  P.A. Trento  \\\n",
       "115               1.074916  1.238764  1.218876   1.446268  ...     1.263327   \n",
       "116               1.106635  1.240422  1.214198   1.538360  ...     1.367157   \n",
       "117               1.201470  1.270272  1.215685   1.718196  ...     1.509961   \n",
       "118               1.318968  1.336724  1.194931   1.823021  ...     1.648092   \n",
       "119               1.423112  1.405159  1.172535   1.823811  ...     1.705139   \n",
       "\n",
       "     Piemonte    Puglia  Sardegna   Sicilia   Toscana    Umbria  \\\n",
       "115  1.349891  1.432607  1.252623  1.279663  1.520435  1.733008   \n",
       "116  1.438361  1.509444  1.276516  1.294788  1.638195  1.887448   \n",
       "117  1.547040  1.678777  1.318223  1.336843  1.854754  2.053680   \n",
       "118  1.616794  1.803947  1.374270  1.390355  2.100691  2.116556   \n",
       "119  1.605780  1.902809  1.414258  1.427984  2.240680  2.004414   \n",
       "\n",
       "     Valle d'Aosta    Veneto    Italia  \n",
       "115       1.262987  1.123777  1.297775  \n",
       "116       1.314193  1.156102  1.357804  \n",
       "117       1.447078  1.207437  1.465743  \n",
       "118       1.585169  1.266812  1.568065  \n",
       "119       1.664708  1.308038  1.620556  \n",
       "\n",
       "[5 rows x 23 columns]"
      ]
     },
     "execution_count": 2,
     "metadata": {},
     "output_type": "execute_result"
    }
   ],
   "source": [
    "data=pd.read_excel('rt_regioni.xls')\n",
    "data.tail(5)"
   ]
  },
  {
   "cell_type": "markdown",
   "metadata": {},
   "source": [
    "## T-SNE"
   ]
  },
  {
   "cell_type": "markdown",
   "metadata": {},
   "source": [
    "### Operazioni preliminari"
   ]
  },
  {
   "cell_type": "code",
   "execution_count": 3,
   "metadata": {},
   "outputs": [],
   "source": [
    "data_matrix=data.values\n",
    "\n",
    "# estraggo nomi regioni\n",
    "regioni=data.columns.values\n",
    "\n",
    "# estraggo i giorni\n",
    "giorni=data.index.values\n",
    "\n",
    "# traspongo per avere una riga per ciascuna regione\n",
    "data_matrix=data_matrix.transpose()\n",
    "\n",
    "# ultimi giorni di osservazione su cui baso l'analisi\n",
    "last_days=21\n",
    "# estraggo i dati da analizzare\n",
    "anal_data=data_matrix[:,-last_days:]"
   ]
  },
  {
   "cell_type": "markdown",
   "metadata": {},
   "source": [
    "### Applicazione algoritmo"
   ]
  },
  {
   "cell_type": "code",
   "execution_count": 4,
   "metadata": {},
   "outputs": [
    {
     "ename": "ValueError",
     "evalue": "could not convert string to float: '2021-12-14'",
     "output_type": "error",
     "traceback": [
      "\u001b[1;31m---------------------------------------------------------------------------\u001b[0m",
      "\u001b[1;31mValueError\u001b[0m                                Traceback (most recent call last)",
      "\u001b[1;32m<ipython-input-4-05a7b314c87a>\u001b[0m in \u001b[0;36m<module>\u001b[1;34m\u001b[0m\n\u001b[1;32m----> 1\u001b[1;33m \u001b[0membedded_space\u001b[0m\u001b[1;33m=\u001b[0m\u001b[0mTSNE\u001b[0m\u001b[1;33m(\u001b[0m\u001b[0mlearning_rate\u001b[0m\u001b[1;33m=\u001b[0m\u001b[1;36m50\u001b[0m\u001b[1;33m,\u001b[0m\u001b[0mperplexity\u001b[0m\u001b[1;33m=\u001b[0m\u001b[1;36m4\u001b[0m\u001b[1;33m)\u001b[0m\u001b[1;33m.\u001b[0m\u001b[0mfit_transform\u001b[0m\u001b[1;33m(\u001b[0m\u001b[0manal_data\u001b[0m\u001b[1;33m)\u001b[0m\u001b[1;33m\u001b[0m\u001b[1;33m\u001b[0m\u001b[0m\n\u001b[0m",
      "\u001b[1;32m~\\Anaconda3\\envs\\p37env\\lib\\site-packages\\sklearn\\manifold\\_t_sne.py\u001b[0m in \u001b[0;36mfit_transform\u001b[1;34m(self, X, y)\u001b[0m\n\u001b[0;32m    930\u001b[0m             \u001b[0mEmbedding\u001b[0m \u001b[0mof\u001b[0m \u001b[0mthe\u001b[0m \u001b[0mtraining\u001b[0m \u001b[0mdata\u001b[0m \u001b[1;32min\u001b[0m \u001b[0mlow\u001b[0m\u001b[1;33m-\u001b[0m\u001b[0mdimensional\u001b[0m \u001b[0mspace\u001b[0m\u001b[1;33m.\u001b[0m\u001b[1;33m\u001b[0m\u001b[1;33m\u001b[0m\u001b[0m\n\u001b[0;32m    931\u001b[0m         \"\"\"\n\u001b[1;32m--> 932\u001b[1;33m         \u001b[0membedding\u001b[0m \u001b[1;33m=\u001b[0m \u001b[0mself\u001b[0m\u001b[1;33m.\u001b[0m\u001b[0m_fit\u001b[0m\u001b[1;33m(\u001b[0m\u001b[0mX\u001b[0m\u001b[1;33m)\u001b[0m\u001b[1;33m\u001b[0m\u001b[1;33m\u001b[0m\u001b[0m\n\u001b[0m\u001b[0;32m    933\u001b[0m         \u001b[0mself\u001b[0m\u001b[1;33m.\u001b[0m\u001b[0membedding_\u001b[0m \u001b[1;33m=\u001b[0m \u001b[0membedding\u001b[0m\u001b[1;33m\u001b[0m\u001b[1;33m\u001b[0m\u001b[0m\n\u001b[0;32m    934\u001b[0m         \u001b[1;32mreturn\u001b[0m \u001b[0mself\u001b[0m\u001b[1;33m.\u001b[0m\u001b[0membedding_\u001b[0m\u001b[1;33m\u001b[0m\u001b[1;33m\u001b[0m\u001b[0m\n",
      "\u001b[1;32m~\\Anaconda3\\envs\\p37env\\lib\\site-packages\\sklearn\\manifold\\_t_sne.py\u001b[0m in \u001b[0;36m_fit\u001b[1;34m(self, X, skip_num_points)\u001b[0m\n\u001b[0;32m    702\u001b[0m             X = self._validate_data(X, accept_sparse=['csr'],\n\u001b[0;32m    703\u001b[0m                                     \u001b[0mensure_min_samples\u001b[0m\u001b[1;33m=\u001b[0m\u001b[1;36m2\u001b[0m\u001b[1;33m,\u001b[0m\u001b[1;33m\u001b[0m\u001b[1;33m\u001b[0m\u001b[0m\n\u001b[1;32m--> 704\u001b[1;33m                                     dtype=[np.float32, np.float64])\n\u001b[0m\u001b[0;32m    705\u001b[0m         \u001b[1;32melse\u001b[0m\u001b[1;33m:\u001b[0m\u001b[1;33m\u001b[0m\u001b[1;33m\u001b[0m\u001b[0m\n\u001b[0;32m    706\u001b[0m             X = self._validate_data(X, accept_sparse=['csr', 'csc', 'coo'],\n",
      "\u001b[1;32m~\\Anaconda3\\envs\\p37env\\lib\\site-packages\\sklearn\\base.py\u001b[0m in \u001b[0;36m_validate_data\u001b[1;34m(self, X, y, reset, validate_separately, **check_params)\u001b[0m\n\u001b[0;32m    419\u001b[0m             \u001b[0mout\u001b[0m \u001b[1;33m=\u001b[0m \u001b[0mX\u001b[0m\u001b[1;33m\u001b[0m\u001b[1;33m\u001b[0m\u001b[0m\n\u001b[0;32m    420\u001b[0m         \u001b[1;32melif\u001b[0m \u001b[0misinstance\u001b[0m\u001b[1;33m(\u001b[0m\u001b[0my\u001b[0m\u001b[1;33m,\u001b[0m \u001b[0mstr\u001b[0m\u001b[1;33m)\u001b[0m \u001b[1;32mand\u001b[0m \u001b[0my\u001b[0m \u001b[1;33m==\u001b[0m \u001b[1;34m'no_validation'\u001b[0m\u001b[1;33m:\u001b[0m\u001b[1;33m\u001b[0m\u001b[1;33m\u001b[0m\u001b[0m\n\u001b[1;32m--> 421\u001b[1;33m             \u001b[0mX\u001b[0m \u001b[1;33m=\u001b[0m \u001b[0mcheck_array\u001b[0m\u001b[1;33m(\u001b[0m\u001b[0mX\u001b[0m\u001b[1;33m,\u001b[0m \u001b[1;33m**\u001b[0m\u001b[0mcheck_params\u001b[0m\u001b[1;33m)\u001b[0m\u001b[1;33m\u001b[0m\u001b[1;33m\u001b[0m\u001b[0m\n\u001b[0m\u001b[0;32m    422\u001b[0m             \u001b[0mout\u001b[0m \u001b[1;33m=\u001b[0m \u001b[0mX\u001b[0m\u001b[1;33m\u001b[0m\u001b[1;33m\u001b[0m\u001b[0m\n\u001b[0;32m    423\u001b[0m         \u001b[1;32melse\u001b[0m\u001b[1;33m:\u001b[0m\u001b[1;33m\u001b[0m\u001b[1;33m\u001b[0m\u001b[0m\n",
      "\u001b[1;32m~\\Anaconda3\\envs\\p37env\\lib\\site-packages\\sklearn\\utils\\validation.py\u001b[0m in \u001b[0;36minner_f\u001b[1;34m(*args, **kwargs)\u001b[0m\n\u001b[0;32m     61\u001b[0m             \u001b[0mextra_args\u001b[0m \u001b[1;33m=\u001b[0m \u001b[0mlen\u001b[0m\u001b[1;33m(\u001b[0m\u001b[0margs\u001b[0m\u001b[1;33m)\u001b[0m \u001b[1;33m-\u001b[0m \u001b[0mlen\u001b[0m\u001b[1;33m(\u001b[0m\u001b[0mall_args\u001b[0m\u001b[1;33m)\u001b[0m\u001b[1;33m\u001b[0m\u001b[1;33m\u001b[0m\u001b[0m\n\u001b[0;32m     62\u001b[0m             \u001b[1;32mif\u001b[0m \u001b[0mextra_args\u001b[0m \u001b[1;33m<=\u001b[0m \u001b[1;36m0\u001b[0m\u001b[1;33m:\u001b[0m\u001b[1;33m\u001b[0m\u001b[1;33m\u001b[0m\u001b[0m\n\u001b[1;32m---> 63\u001b[1;33m                 \u001b[1;32mreturn\u001b[0m \u001b[0mf\u001b[0m\u001b[1;33m(\u001b[0m\u001b[1;33m*\u001b[0m\u001b[0margs\u001b[0m\u001b[1;33m,\u001b[0m \u001b[1;33m**\u001b[0m\u001b[0mkwargs\u001b[0m\u001b[1;33m)\u001b[0m\u001b[1;33m\u001b[0m\u001b[1;33m\u001b[0m\u001b[0m\n\u001b[0m\u001b[0;32m     64\u001b[0m \u001b[1;33m\u001b[0m\u001b[0m\n\u001b[0;32m     65\u001b[0m             \u001b[1;31m# extra_args > 0\u001b[0m\u001b[1;33m\u001b[0m\u001b[1;33m\u001b[0m\u001b[1;33m\u001b[0m\u001b[0m\n",
      "\u001b[1;32m~\\Anaconda3\\envs\\p37env\\lib\\site-packages\\sklearn\\utils\\validation.py\u001b[0m in \u001b[0;36mcheck_array\u001b[1;34m(array, accept_sparse, accept_large_sparse, dtype, order, copy, force_all_finite, ensure_2d, allow_nd, ensure_min_samples, ensure_min_features, estimator)\u001b[0m\n\u001b[0;32m    671\u001b[0m                     \u001b[0marray\u001b[0m \u001b[1;33m=\u001b[0m \u001b[0marray\u001b[0m\u001b[1;33m.\u001b[0m\u001b[0mastype\u001b[0m\u001b[1;33m(\u001b[0m\u001b[0mdtype\u001b[0m\u001b[1;33m,\u001b[0m \u001b[0mcasting\u001b[0m\u001b[1;33m=\u001b[0m\u001b[1;34m\"unsafe\"\u001b[0m\u001b[1;33m,\u001b[0m \u001b[0mcopy\u001b[0m\u001b[1;33m=\u001b[0m\u001b[1;32mFalse\u001b[0m\u001b[1;33m)\u001b[0m\u001b[1;33m\u001b[0m\u001b[1;33m\u001b[0m\u001b[0m\n\u001b[0;32m    672\u001b[0m                 \u001b[1;32melse\u001b[0m\u001b[1;33m:\u001b[0m\u001b[1;33m\u001b[0m\u001b[1;33m\u001b[0m\u001b[0m\n\u001b[1;32m--> 673\u001b[1;33m                     \u001b[0marray\u001b[0m \u001b[1;33m=\u001b[0m \u001b[0mnp\u001b[0m\u001b[1;33m.\u001b[0m\u001b[0masarray\u001b[0m\u001b[1;33m(\u001b[0m\u001b[0marray\u001b[0m\u001b[1;33m,\u001b[0m \u001b[0morder\u001b[0m\u001b[1;33m=\u001b[0m\u001b[0morder\u001b[0m\u001b[1;33m,\u001b[0m \u001b[0mdtype\u001b[0m\u001b[1;33m=\u001b[0m\u001b[0mdtype\u001b[0m\u001b[1;33m)\u001b[0m\u001b[1;33m\u001b[0m\u001b[1;33m\u001b[0m\u001b[0m\n\u001b[0m\u001b[0;32m    674\u001b[0m             \u001b[1;32mexcept\u001b[0m \u001b[0mComplexWarning\u001b[0m \u001b[1;32mas\u001b[0m \u001b[0mcomplex_warning\u001b[0m\u001b[1;33m:\u001b[0m\u001b[1;33m\u001b[0m\u001b[1;33m\u001b[0m\u001b[0m\n\u001b[0;32m    675\u001b[0m                 raise ValueError(\"Complex data not supported\\n\"\n",
      "\u001b[1;32m~\\AppData\\Roaming\\Python\\Python37\\site-packages\\numpy\\core\\_asarray.py\u001b[0m in \u001b[0;36masarray\u001b[1;34m(a, dtype, order)\u001b[0m\n\u001b[0;32m     83\u001b[0m \u001b[1;33m\u001b[0m\u001b[0m\n\u001b[0;32m     84\u001b[0m     \"\"\"\n\u001b[1;32m---> 85\u001b[1;33m     \u001b[1;32mreturn\u001b[0m \u001b[0marray\u001b[0m\u001b[1;33m(\u001b[0m\u001b[0ma\u001b[0m\u001b[1;33m,\u001b[0m \u001b[0mdtype\u001b[0m\u001b[1;33m,\u001b[0m \u001b[0mcopy\u001b[0m\u001b[1;33m=\u001b[0m\u001b[1;32mFalse\u001b[0m\u001b[1;33m,\u001b[0m \u001b[0morder\u001b[0m\u001b[1;33m=\u001b[0m\u001b[0morder\u001b[0m\u001b[1;33m)\u001b[0m\u001b[1;33m\u001b[0m\u001b[1;33m\u001b[0m\u001b[0m\n\u001b[0m\u001b[0;32m     86\u001b[0m \u001b[1;33m\u001b[0m\u001b[0m\n\u001b[0;32m     87\u001b[0m \u001b[1;33m\u001b[0m\u001b[0m\n",
      "\u001b[1;31mValueError\u001b[0m: could not convert string to float: '2021-12-14'"
     ]
    }
   ],
   "source": [
    "embedded_space=TSNE(learning_rate=50,perplexity=4).fit_transform(anal_data)"
   ]
  },
  {
   "cell_type": "code",
   "execution_count": null,
   "metadata": {},
   "outputs": [
    {
     "data": {
      "image/png": "[encoded data removed]",
      "text/plain": [
       "<Figure size 1440x720 with 1 Axes>"
      ]
     },
     "metadata": {
      "needs_background": "light"
     },
     "output_type": "display_data"
    }
   ],
   "source": [
    "# plot\n",
    "\n",
    "fig,ax=plt.subplots(1,1,figsize=(20,10))\n",
    "\n",
    "ax.plot(embedded_space[:,0],embedded_space[:,1],marker='8',linestyle='')\n",
    "\n",
    "\n",
    "# creo una stringa complementare per ciascuna regione\n",
    "#reg_info=[str(np.round(anal_data[i,-1]-anal_data[i,0],2)) for i in range(len(regioni))]\n",
    "reg_info=[str(np.round(np.mean(anal_data[i,:]),2)) for i in range(len(regioni))]\n",
    "\n",
    "for i in range(len(regioni)):\n",
    "    ax.text(embedded_space[i,0],\n",
    "            embedded_space[i,1],\n",
    "            regioni[i]+' '+reg_info[i])\n"
   ]
  },
  {
   "cell_type": "code",
   "execution_count": null,
   "metadata": {},
   "outputs": [],
   "source": []
  }
 ],
 "metadata": {
  "interpreter": {
   "hash": "8f95d1170a75b6bb226a6fa005d7e2a19edce8f273293f5ad7b4554d05aa96eb"
  },
  "kernelspec": {
   "display_name": "Python 3.7.1 64-bit ('klaat': virtualenv)",
   "language": "python",
   "name": "python3"
  },
  "language_info": {
   "codemirror_mode": {
    "name": "ipython",
    "version": 3
   },
   "file_extension": ".py",
   "mimetype": "text/x-python",
   "name": "python",
   "nbconvert_exporter": "python",
   "pygments_lexer": "ipython3",
   "version": "3.7.11"
  }
 },
 "nbformat": 4,
 "nbformat_minor": 4
}
