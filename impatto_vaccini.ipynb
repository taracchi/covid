{
 "cells": [
  {
   "cell_type": "markdown",
   "metadata": {},
   "source": [
    "# Confronti fra vaccinati e non\n",
    "\n",
    "- al momento con file csv locale e globale\n",
    "- successivamente\n",
    "    - connesso a date repo\n",
    "    - con suddivisioni per età (nome del file che varia nel tempo)"
   ]
  },
  {
   "cell_type": "code",
   "execution_count": 1,
   "metadata": {},
   "outputs": [],
   "source": [
    "import pandas as pd\n",
    "import plotly.graph_objects as go\n"
   ]
  },
  {
   "cell_type": "markdown",
   "metadata": {},
   "source": [
    "## Parametri"
   ]
  },
  {
   "cell_type": "code",
   "execution_count": 2,
   "metadata": {},
   "outputs": [],
   "source": [
    "file_addr = 'https://raw.githubusercontent.com/apalladi/covid_vaccini_monitoraggio/main/dati/dati_ISS_complessivi.csv'\n"
   ]
  },
  {
   "cell_type": "markdown",
   "metadata": {},
   "source": [
    "## Lettura e preprocessing"
   ]
  },
  {
   "cell_type": "code",
   "execution_count": 3,
   "metadata": {},
   "outputs": [
    {
     "ename": "HTTPError",
     "evalue": "HTTP Error 404: Not Found",
     "output_type": "error",
     "traceback": [
      "\u001b[1;31m---------------------------------------------------------------------------\u001b[0m",
      "\u001b[1;31mHTTPError\u001b[0m                                 Traceback (most recent call last)",
      "\u001b[1;32m<ipython-input-3-5539d00b2b39>\u001b[0m in \u001b[0;36m<module>\u001b[1;34m\u001b[0m\n\u001b[1;32m----> 1\u001b[1;33m \u001b[0mdata\u001b[0m\u001b[1;33m=\u001b[0m\u001b[0mpd\u001b[0m\u001b[1;33m.\u001b[0m\u001b[0mread_csv\u001b[0m\u001b[1;33m(\u001b[0m\u001b[0mfile_addr\u001b[0m\u001b[1;33m,\u001b[0m\u001b[0msep\u001b[0m\u001b[1;33m=\u001b[0m\u001b[1;34m';'\u001b[0m\u001b[1;33m)\u001b[0m\u001b[1;33m\u001b[0m\u001b[1;33m\u001b[0m\u001b[0m\n\u001b[0m\u001b[0;32m      2\u001b[0m \u001b[1;33m\u001b[0m\u001b[0m\n\u001b[0;32m      3\u001b[0m \u001b[1;32mfor\u001b[0m \u001b[0mvarname\u001b[0m \u001b[1;32min\u001b[0m \u001b[0mdata\u001b[0m\u001b[1;33m.\u001b[0m\u001b[0mcolumns\u001b[0m\u001b[1;33m:\u001b[0m\u001b[1;33m\u001b[0m\u001b[1;33m\u001b[0m\u001b[0m\n\u001b[0;32m      4\u001b[0m     \u001b[0mprint\u001b[0m\u001b[1;33m(\u001b[0m\u001b[0mvarname\u001b[0m\u001b[1;33m,\u001b[0m\u001b[0mend\u001b[0m\u001b[1;33m=\u001b[0m\u001b[1;34m'; '\u001b[0m\u001b[1;33m)\u001b[0m\u001b[1;33m\u001b[0m\u001b[1;33m\u001b[0m\u001b[0m\n\u001b[0;32m      5\u001b[0m \u001b[1;33m\u001b[0m\u001b[0m\n",
      "\u001b[1;32m~\\Anaconda3\\envs\\p37env\\lib\\site-packages\\pandas\\util\\_decorators.py\u001b[0m in \u001b[0;36mwrapper\u001b[1;34m(*args, **kwargs)\u001b[0m\n\u001b[0;32m    309\u001b[0m                     \u001b[0mstacklevel\u001b[0m\u001b[1;33m=\u001b[0m\u001b[0mstacklevel\u001b[0m\u001b[1;33m,\u001b[0m\u001b[1;33m\u001b[0m\u001b[1;33m\u001b[0m\u001b[0m\n\u001b[0;32m    310\u001b[0m                 )\n\u001b[1;32m--> 311\u001b[1;33m             \u001b[1;32mreturn\u001b[0m \u001b[0mfunc\u001b[0m\u001b[1;33m(\u001b[0m\u001b[1;33m*\u001b[0m\u001b[0margs\u001b[0m\u001b[1;33m,\u001b[0m \u001b[1;33m**\u001b[0m\u001b[0mkwargs\u001b[0m\u001b[1;33m)\u001b[0m\u001b[1;33m\u001b[0m\u001b[1;33m\u001b[0m\u001b[0m\n\u001b[0m\u001b[0;32m    312\u001b[0m \u001b[1;33m\u001b[0m\u001b[0m\n\u001b[0;32m    313\u001b[0m         \u001b[1;32mreturn\u001b[0m \u001b[0mwrapper\u001b[0m\u001b[1;33m\u001b[0m\u001b[1;33m\u001b[0m\u001b[0m\n",
      "\u001b[1;32m~\\Anaconda3\\envs\\p37env\\lib\\site-packages\\pandas\\io\\parsers\\readers.py\u001b[0m in \u001b[0;36mread_csv\u001b[1;34m(filepath_or_buffer, sep, delimiter, header, names, index_col, usecols, squeeze, prefix, mangle_dupe_cols, dtype, engine, converters, true_values, false_values, skipinitialspace, skiprows, skipfooter, nrows, na_values, keep_default_na, na_filter, verbose, skip_blank_lines, parse_dates, infer_datetime_format, keep_date_col, date_parser, dayfirst, cache_dates, iterator, chunksize, compression, thousands, decimal, lineterminator, quotechar, quoting, doublequote, escapechar, comment, encoding, encoding_errors, dialect, error_bad_lines, warn_bad_lines, on_bad_lines, delim_whitespace, low_memory, memory_map, float_precision, storage_options)\u001b[0m\n\u001b[0;32m    584\u001b[0m     \u001b[0mkwds\u001b[0m\u001b[1;33m.\u001b[0m\u001b[0mupdate\u001b[0m\u001b[1;33m(\u001b[0m\u001b[0mkwds_defaults\u001b[0m\u001b[1;33m)\u001b[0m\u001b[1;33m\u001b[0m\u001b[1;33m\u001b[0m\u001b[0m\n\u001b[0;32m    585\u001b[0m \u001b[1;33m\u001b[0m\u001b[0m\n\u001b[1;32m--> 586\u001b[1;33m     \u001b[1;32mreturn\u001b[0m \u001b[0m_read\u001b[0m\u001b[1;33m(\u001b[0m\u001b[0mfilepath_or_buffer\u001b[0m\u001b[1;33m,\u001b[0m \u001b[0mkwds\u001b[0m\u001b[1;33m)\u001b[0m\u001b[1;33m\u001b[0m\u001b[1;33m\u001b[0m\u001b[0m\n\u001b[0m\u001b[0;32m    587\u001b[0m \u001b[1;33m\u001b[0m\u001b[0m\n\u001b[0;32m    588\u001b[0m \u001b[1;33m\u001b[0m\u001b[0m\n",
      "\u001b[1;32m~\\Anaconda3\\envs\\p37env\\lib\\site-packages\\pandas\\io\\parsers\\readers.py\u001b[0m in \u001b[0;36m_read\u001b[1;34m(filepath_or_buffer, kwds)\u001b[0m\n\u001b[0;32m    480\u001b[0m \u001b[1;33m\u001b[0m\u001b[0m\n\u001b[0;32m    481\u001b[0m     \u001b[1;31m# Create the parser.\u001b[0m\u001b[1;33m\u001b[0m\u001b[1;33m\u001b[0m\u001b[1;33m\u001b[0m\u001b[0m\n\u001b[1;32m--> 482\u001b[1;33m     \u001b[0mparser\u001b[0m \u001b[1;33m=\u001b[0m \u001b[0mTextFileReader\u001b[0m\u001b[1;33m(\u001b[0m\u001b[0mfilepath_or_buffer\u001b[0m\u001b[1;33m,\u001b[0m \u001b[1;33m**\u001b[0m\u001b[0mkwds\u001b[0m\u001b[1;33m)\u001b[0m\u001b[1;33m\u001b[0m\u001b[1;33m\u001b[0m\u001b[0m\n\u001b[0m\u001b[0;32m    483\u001b[0m \u001b[1;33m\u001b[0m\u001b[0m\n\u001b[0;32m    484\u001b[0m     \u001b[1;32mif\u001b[0m \u001b[0mchunksize\u001b[0m \u001b[1;32mor\u001b[0m \u001b[0miterator\u001b[0m\u001b[1;33m:\u001b[0m\u001b[1;33m\u001b[0m\u001b[1;33m\u001b[0m\u001b[0m\n",
      "\u001b[1;32m~\\Anaconda3\\envs\\p37env\\lib\\site-packages\\pandas\\io\\parsers\\readers.py\u001b[0m in \u001b[0;36m__init__\u001b[1;34m(self, f, engine, **kwds)\u001b[0m\n\u001b[0;32m    809\u001b[0m             \u001b[0mself\u001b[0m\u001b[1;33m.\u001b[0m\u001b[0moptions\u001b[0m\u001b[1;33m[\u001b[0m\u001b[1;34m\"has_index_names\"\u001b[0m\u001b[1;33m]\u001b[0m \u001b[1;33m=\u001b[0m \u001b[0mkwds\u001b[0m\u001b[1;33m[\u001b[0m\u001b[1;34m\"has_index_names\"\u001b[0m\u001b[1;33m]\u001b[0m\u001b[1;33m\u001b[0m\u001b[1;33m\u001b[0m\u001b[0m\n\u001b[0;32m    810\u001b[0m \u001b[1;33m\u001b[0m\u001b[0m\n\u001b[1;32m--> 811\u001b[1;33m         \u001b[0mself\u001b[0m\u001b[1;33m.\u001b[0m\u001b[0m_engine\u001b[0m \u001b[1;33m=\u001b[0m \u001b[0mself\u001b[0m\u001b[1;33m.\u001b[0m\u001b[0m_make_engine\u001b[0m\u001b[1;33m(\u001b[0m\u001b[0mself\u001b[0m\u001b[1;33m.\u001b[0m\u001b[0mengine\u001b[0m\u001b[1;33m)\u001b[0m\u001b[1;33m\u001b[0m\u001b[1;33m\u001b[0m\u001b[0m\n\u001b[0m\u001b[0;32m    812\u001b[0m \u001b[1;33m\u001b[0m\u001b[0m\n\u001b[0;32m    813\u001b[0m     \u001b[1;32mdef\u001b[0m \u001b[0mclose\u001b[0m\u001b[1;33m(\u001b[0m\u001b[0mself\u001b[0m\u001b[1;33m)\u001b[0m\u001b[1;33m:\u001b[0m\u001b[1;33m\u001b[0m\u001b[1;33m\u001b[0m\u001b[0m\n",
      "\u001b[1;32m~\\Anaconda3\\envs\\p37env\\lib\\site-packages\\pandas\\io\\parsers\\readers.py\u001b[0m in \u001b[0;36m_make_engine\u001b[1;34m(self, engine)\u001b[0m\n\u001b[0;32m   1038\u001b[0m             )\n\u001b[0;32m   1039\u001b[0m         \u001b[1;31m# error: Too many arguments for \"ParserBase\"\u001b[0m\u001b[1;33m\u001b[0m\u001b[1;33m\u001b[0m\u001b[1;33m\u001b[0m\u001b[0m\n\u001b[1;32m-> 1040\u001b[1;33m         \u001b[1;32mreturn\u001b[0m \u001b[0mmapping\u001b[0m\u001b[1;33m[\u001b[0m\u001b[0mengine\u001b[0m\u001b[1;33m]\u001b[0m\u001b[1;33m(\u001b[0m\u001b[0mself\u001b[0m\u001b[1;33m.\u001b[0m\u001b[0mf\u001b[0m\u001b[1;33m,\u001b[0m \u001b[1;33m**\u001b[0m\u001b[0mself\u001b[0m\u001b[1;33m.\u001b[0m\u001b[0moptions\u001b[0m\u001b[1;33m)\u001b[0m  \u001b[1;31m# type: ignore[call-arg]\u001b[0m\u001b[1;33m\u001b[0m\u001b[1;33m\u001b[0m\u001b[0m\n\u001b[0m\u001b[0;32m   1041\u001b[0m \u001b[1;33m\u001b[0m\u001b[0m\n\u001b[0;32m   1042\u001b[0m     \u001b[1;32mdef\u001b[0m \u001b[0m_failover_to_python\u001b[0m\u001b[1;33m(\u001b[0m\u001b[0mself\u001b[0m\u001b[1;33m)\u001b[0m\u001b[1;33m:\u001b[0m\u001b[1;33m\u001b[0m\u001b[1;33m\u001b[0m\u001b[0m\n",
      "\u001b[1;32m~\\Anaconda3\\envs\\p37env\\lib\\site-packages\\pandas\\io\\parsers\\c_parser_wrapper.py\u001b[0m in \u001b[0;36m__init__\u001b[1;34m(self, src, **kwds)\u001b[0m\n\u001b[0;32m     49\u001b[0m \u001b[1;33m\u001b[0m\u001b[0m\n\u001b[0;32m     50\u001b[0m         \u001b[1;31m# open handles\u001b[0m\u001b[1;33m\u001b[0m\u001b[1;33m\u001b[0m\u001b[1;33m\u001b[0m\u001b[0m\n\u001b[1;32m---> 51\u001b[1;33m         \u001b[0mself\u001b[0m\u001b[1;33m.\u001b[0m\u001b[0m_open_handles\u001b[0m\u001b[1;33m(\u001b[0m\u001b[0msrc\u001b[0m\u001b[1;33m,\u001b[0m \u001b[0mkwds\u001b[0m\u001b[1;33m)\u001b[0m\u001b[1;33m\u001b[0m\u001b[1;33m\u001b[0m\u001b[0m\n\u001b[0m\u001b[0;32m     52\u001b[0m         \u001b[1;32massert\u001b[0m \u001b[0mself\u001b[0m\u001b[1;33m.\u001b[0m\u001b[0mhandles\u001b[0m \u001b[1;32mis\u001b[0m \u001b[1;32mnot\u001b[0m \u001b[1;32mNone\u001b[0m\u001b[1;33m\u001b[0m\u001b[1;33m\u001b[0m\u001b[0m\n\u001b[0;32m     53\u001b[0m \u001b[1;33m\u001b[0m\u001b[0m\n",
      "\u001b[1;32m~\\Anaconda3\\envs\\p37env\\lib\\site-packages\\pandas\\io\\parsers\\base_parser.py\u001b[0m in \u001b[0;36m_open_handles\u001b[1;34m(self, src, kwds)\u001b[0m\n\u001b[0;32m    227\u001b[0m             \u001b[0mmemory_map\u001b[0m\u001b[1;33m=\u001b[0m\u001b[0mkwds\u001b[0m\u001b[1;33m.\u001b[0m\u001b[0mget\u001b[0m\u001b[1;33m(\u001b[0m\u001b[1;34m\"memory_map\"\u001b[0m\u001b[1;33m,\u001b[0m \u001b[1;32mFalse\u001b[0m\u001b[1;33m)\u001b[0m\u001b[1;33m,\u001b[0m\u001b[1;33m\u001b[0m\u001b[1;33m\u001b[0m\u001b[0m\n\u001b[0;32m    228\u001b[0m             \u001b[0mstorage_options\u001b[0m\u001b[1;33m=\u001b[0m\u001b[0mkwds\u001b[0m\u001b[1;33m.\u001b[0m\u001b[0mget\u001b[0m\u001b[1;33m(\u001b[0m\u001b[1;34m\"storage_options\"\u001b[0m\u001b[1;33m,\u001b[0m \u001b[1;32mNone\u001b[0m\u001b[1;33m)\u001b[0m\u001b[1;33m,\u001b[0m\u001b[1;33m\u001b[0m\u001b[1;33m\u001b[0m\u001b[0m\n\u001b[1;32m--> 229\u001b[1;33m             \u001b[0merrors\u001b[0m\u001b[1;33m=\u001b[0m\u001b[0mkwds\u001b[0m\u001b[1;33m.\u001b[0m\u001b[0mget\u001b[0m\u001b[1;33m(\u001b[0m\u001b[1;34m\"encoding_errors\"\u001b[0m\u001b[1;33m,\u001b[0m \u001b[1;34m\"strict\"\u001b[0m\u001b[1;33m)\u001b[0m\u001b[1;33m,\u001b[0m\u001b[1;33m\u001b[0m\u001b[1;33m\u001b[0m\u001b[0m\n\u001b[0m\u001b[0;32m    230\u001b[0m         )\n\u001b[0;32m    231\u001b[0m \u001b[1;33m\u001b[0m\u001b[0m\n",
      "\u001b[1;32m~\\Anaconda3\\envs\\p37env\\lib\\site-packages\\pandas\\io\\common.py\u001b[0m in \u001b[0;36mget_handle\u001b[1;34m(path_or_buf, mode, encoding, compression, memory_map, is_text, errors, storage_options)\u001b[0m\n\u001b[0;32m    611\u001b[0m         \u001b[0mcompression\u001b[0m\u001b[1;33m=\u001b[0m\u001b[0mcompression\u001b[0m\u001b[1;33m,\u001b[0m\u001b[1;33m\u001b[0m\u001b[1;33m\u001b[0m\u001b[0m\n\u001b[0;32m    612\u001b[0m         \u001b[0mmode\u001b[0m\u001b[1;33m=\u001b[0m\u001b[0mmode\u001b[0m\u001b[1;33m,\u001b[0m\u001b[1;33m\u001b[0m\u001b[1;33m\u001b[0m\u001b[0m\n\u001b[1;32m--> 613\u001b[1;33m         \u001b[0mstorage_options\u001b[0m\u001b[1;33m=\u001b[0m\u001b[0mstorage_options\u001b[0m\u001b[1;33m,\u001b[0m\u001b[1;33m\u001b[0m\u001b[1;33m\u001b[0m\u001b[0m\n\u001b[0m\u001b[0;32m    614\u001b[0m     )\n\u001b[0;32m    615\u001b[0m \u001b[1;33m\u001b[0m\u001b[0m\n",
      "\u001b[1;32m~\\Anaconda3\\envs\\p37env\\lib\\site-packages\\pandas\\io\\common.py\u001b[0m in \u001b[0;36m_get_filepath_or_buffer\u001b[1;34m(filepath_or_buffer, encoding, compression, mode, storage_options)\u001b[0m\n\u001b[0;32m    309\u001b[0m         \u001b[1;31m# assuming storage_options is to be interpreted as headers\u001b[0m\u001b[1;33m\u001b[0m\u001b[1;33m\u001b[0m\u001b[1;33m\u001b[0m\u001b[0m\n\u001b[0;32m    310\u001b[0m         \u001b[0mreq_info\u001b[0m \u001b[1;33m=\u001b[0m \u001b[0murllib\u001b[0m\u001b[1;33m.\u001b[0m\u001b[0mrequest\u001b[0m\u001b[1;33m.\u001b[0m\u001b[0mRequest\u001b[0m\u001b[1;33m(\u001b[0m\u001b[0mfilepath_or_buffer\u001b[0m\u001b[1;33m,\u001b[0m \u001b[0mheaders\u001b[0m\u001b[1;33m=\u001b[0m\u001b[0mstorage_options\u001b[0m\u001b[1;33m)\u001b[0m\u001b[1;33m\u001b[0m\u001b[1;33m\u001b[0m\u001b[0m\n\u001b[1;32m--> 311\u001b[1;33m         \u001b[1;32mwith\u001b[0m \u001b[0murlopen\u001b[0m\u001b[1;33m(\u001b[0m\u001b[0mreq_info\u001b[0m\u001b[1;33m)\u001b[0m \u001b[1;32mas\u001b[0m \u001b[0mreq\u001b[0m\u001b[1;33m:\u001b[0m\u001b[1;33m\u001b[0m\u001b[1;33m\u001b[0m\u001b[0m\n\u001b[0m\u001b[0;32m    312\u001b[0m             \u001b[0mcontent_encoding\u001b[0m \u001b[1;33m=\u001b[0m \u001b[0mreq\u001b[0m\u001b[1;33m.\u001b[0m\u001b[0mheaders\u001b[0m\u001b[1;33m.\u001b[0m\u001b[0mget\u001b[0m\u001b[1;33m(\u001b[0m\u001b[1;34m\"Content-Encoding\"\u001b[0m\u001b[1;33m,\u001b[0m \u001b[1;32mNone\u001b[0m\u001b[1;33m)\u001b[0m\u001b[1;33m\u001b[0m\u001b[1;33m\u001b[0m\u001b[0m\n\u001b[0;32m    313\u001b[0m             \u001b[1;32mif\u001b[0m \u001b[0mcontent_encoding\u001b[0m \u001b[1;33m==\u001b[0m \u001b[1;34m\"gzip\"\u001b[0m\u001b[1;33m:\u001b[0m\u001b[1;33m\u001b[0m\u001b[1;33m\u001b[0m\u001b[0m\n",
      "\u001b[1;32m~\\Anaconda3\\envs\\p37env\\lib\\site-packages\\pandas\\io\\common.py\u001b[0m in \u001b[0;36murlopen\u001b[1;34m(*args, **kwargs)\u001b[0m\n\u001b[0;32m    209\u001b[0m     \u001b[1;32mimport\u001b[0m \u001b[0murllib\u001b[0m\u001b[1;33m.\u001b[0m\u001b[0mrequest\u001b[0m\u001b[1;33m\u001b[0m\u001b[1;33m\u001b[0m\u001b[0m\n\u001b[0;32m    210\u001b[0m \u001b[1;33m\u001b[0m\u001b[0m\n\u001b[1;32m--> 211\u001b[1;33m     \u001b[1;32mreturn\u001b[0m \u001b[0murllib\u001b[0m\u001b[1;33m.\u001b[0m\u001b[0mrequest\u001b[0m\u001b[1;33m.\u001b[0m\u001b[0murlopen\u001b[0m\u001b[1;33m(\u001b[0m\u001b[1;33m*\u001b[0m\u001b[0margs\u001b[0m\u001b[1;33m,\u001b[0m \u001b[1;33m**\u001b[0m\u001b[0mkwargs\u001b[0m\u001b[1;33m)\u001b[0m\u001b[1;33m\u001b[0m\u001b[1;33m\u001b[0m\u001b[0m\n\u001b[0m\u001b[0;32m    212\u001b[0m \u001b[1;33m\u001b[0m\u001b[0m\n\u001b[0;32m    213\u001b[0m \u001b[1;33m\u001b[0m\u001b[0m\n",
      "\u001b[1;32m~\\Anaconda3\\envs\\p37env\\lib\\urllib\\request.py\u001b[0m in \u001b[0;36murlopen\u001b[1;34m(url, data, timeout, cafile, capath, cadefault, context)\u001b[0m\n\u001b[0;32m    220\u001b[0m     \u001b[1;32melse\u001b[0m\u001b[1;33m:\u001b[0m\u001b[1;33m\u001b[0m\u001b[1;33m\u001b[0m\u001b[0m\n\u001b[0;32m    221\u001b[0m         \u001b[0mopener\u001b[0m \u001b[1;33m=\u001b[0m \u001b[0m_opener\u001b[0m\u001b[1;33m\u001b[0m\u001b[1;33m\u001b[0m\u001b[0m\n\u001b[1;32m--> 222\u001b[1;33m     \u001b[1;32mreturn\u001b[0m \u001b[0mopener\u001b[0m\u001b[1;33m.\u001b[0m\u001b[0mopen\u001b[0m\u001b[1;33m(\u001b[0m\u001b[0murl\u001b[0m\u001b[1;33m,\u001b[0m \u001b[0mdata\u001b[0m\u001b[1;33m,\u001b[0m \u001b[0mtimeout\u001b[0m\u001b[1;33m)\u001b[0m\u001b[1;33m\u001b[0m\u001b[1;33m\u001b[0m\u001b[0m\n\u001b[0m\u001b[0;32m    223\u001b[0m \u001b[1;33m\u001b[0m\u001b[0m\n\u001b[0;32m    224\u001b[0m \u001b[1;32mdef\u001b[0m \u001b[0minstall_opener\u001b[0m\u001b[1;33m(\u001b[0m\u001b[0mopener\u001b[0m\u001b[1;33m)\u001b[0m\u001b[1;33m:\u001b[0m\u001b[1;33m\u001b[0m\u001b[1;33m\u001b[0m\u001b[0m\n",
      "\u001b[1;32m~\\Anaconda3\\envs\\p37env\\lib\\urllib\\request.py\u001b[0m in \u001b[0;36mopen\u001b[1;34m(self, fullurl, data, timeout)\u001b[0m\n\u001b[0;32m    529\u001b[0m         \u001b[1;32mfor\u001b[0m \u001b[0mprocessor\u001b[0m \u001b[1;32min\u001b[0m \u001b[0mself\u001b[0m\u001b[1;33m.\u001b[0m\u001b[0mprocess_response\u001b[0m\u001b[1;33m.\u001b[0m\u001b[0mget\u001b[0m\u001b[1;33m(\u001b[0m\u001b[0mprotocol\u001b[0m\u001b[1;33m,\u001b[0m \u001b[1;33m[\u001b[0m\u001b[1;33m]\u001b[0m\u001b[1;33m)\u001b[0m\u001b[1;33m:\u001b[0m\u001b[1;33m\u001b[0m\u001b[1;33m\u001b[0m\u001b[0m\n\u001b[0;32m    530\u001b[0m             \u001b[0mmeth\u001b[0m \u001b[1;33m=\u001b[0m \u001b[0mgetattr\u001b[0m\u001b[1;33m(\u001b[0m\u001b[0mprocessor\u001b[0m\u001b[1;33m,\u001b[0m \u001b[0mmeth_name\u001b[0m\u001b[1;33m)\u001b[0m\u001b[1;33m\u001b[0m\u001b[1;33m\u001b[0m\u001b[0m\n\u001b[1;32m--> 531\u001b[1;33m             \u001b[0mresponse\u001b[0m \u001b[1;33m=\u001b[0m \u001b[0mmeth\u001b[0m\u001b[1;33m(\u001b[0m\u001b[0mreq\u001b[0m\u001b[1;33m,\u001b[0m \u001b[0mresponse\u001b[0m\u001b[1;33m)\u001b[0m\u001b[1;33m\u001b[0m\u001b[1;33m\u001b[0m\u001b[0m\n\u001b[0m\u001b[0;32m    532\u001b[0m \u001b[1;33m\u001b[0m\u001b[0m\n\u001b[0;32m    533\u001b[0m         \u001b[1;32mreturn\u001b[0m \u001b[0mresponse\u001b[0m\u001b[1;33m\u001b[0m\u001b[1;33m\u001b[0m\u001b[0m\n",
      "\u001b[1;32m~\\Anaconda3\\envs\\p37env\\lib\\urllib\\request.py\u001b[0m in \u001b[0;36mhttp_response\u001b[1;34m(self, request, response)\u001b[0m\n\u001b[0;32m    639\u001b[0m         \u001b[1;32mif\u001b[0m \u001b[1;32mnot\u001b[0m \u001b[1;33m(\u001b[0m\u001b[1;36m200\u001b[0m \u001b[1;33m<=\u001b[0m \u001b[0mcode\u001b[0m \u001b[1;33m<\u001b[0m \u001b[1;36m300\u001b[0m\u001b[1;33m)\u001b[0m\u001b[1;33m:\u001b[0m\u001b[1;33m\u001b[0m\u001b[1;33m\u001b[0m\u001b[0m\n\u001b[0;32m    640\u001b[0m             response = self.parent.error(\n\u001b[1;32m--> 641\u001b[1;33m                 'http', request, response, code, msg, hdrs)\n\u001b[0m\u001b[0;32m    642\u001b[0m \u001b[1;33m\u001b[0m\u001b[0m\n\u001b[0;32m    643\u001b[0m         \u001b[1;32mreturn\u001b[0m \u001b[0mresponse\u001b[0m\u001b[1;33m\u001b[0m\u001b[1;33m\u001b[0m\u001b[0m\n",
      "\u001b[1;32m~\\Anaconda3\\envs\\p37env\\lib\\urllib\\request.py\u001b[0m in \u001b[0;36merror\u001b[1;34m(self, proto, *args)\u001b[0m\n\u001b[0;32m    567\u001b[0m         \u001b[1;32mif\u001b[0m \u001b[0mhttp_err\u001b[0m\u001b[1;33m:\u001b[0m\u001b[1;33m\u001b[0m\u001b[1;33m\u001b[0m\u001b[0m\n\u001b[0;32m    568\u001b[0m             \u001b[0margs\u001b[0m \u001b[1;33m=\u001b[0m \u001b[1;33m(\u001b[0m\u001b[0mdict\u001b[0m\u001b[1;33m,\u001b[0m \u001b[1;34m'default'\u001b[0m\u001b[1;33m,\u001b[0m \u001b[1;34m'http_error_default'\u001b[0m\u001b[1;33m)\u001b[0m \u001b[1;33m+\u001b[0m \u001b[0morig_args\u001b[0m\u001b[1;33m\u001b[0m\u001b[1;33m\u001b[0m\u001b[0m\n\u001b[1;32m--> 569\u001b[1;33m             \u001b[1;32mreturn\u001b[0m \u001b[0mself\u001b[0m\u001b[1;33m.\u001b[0m\u001b[0m_call_chain\u001b[0m\u001b[1;33m(\u001b[0m\u001b[1;33m*\u001b[0m\u001b[0margs\u001b[0m\u001b[1;33m)\u001b[0m\u001b[1;33m\u001b[0m\u001b[1;33m\u001b[0m\u001b[0m\n\u001b[0m\u001b[0;32m    570\u001b[0m \u001b[1;33m\u001b[0m\u001b[0m\n\u001b[0;32m    571\u001b[0m \u001b[1;31m# XXX probably also want an abstract factory that knows when it makes\u001b[0m\u001b[1;33m\u001b[0m\u001b[1;33m\u001b[0m\u001b[1;33m\u001b[0m\u001b[0m\n",
      "\u001b[1;32m~\\Anaconda3\\envs\\p37env\\lib\\urllib\\request.py\u001b[0m in \u001b[0;36m_call_chain\u001b[1;34m(self, chain, kind, meth_name, *args)\u001b[0m\n\u001b[0;32m    501\u001b[0m         \u001b[1;32mfor\u001b[0m \u001b[0mhandler\u001b[0m \u001b[1;32min\u001b[0m \u001b[0mhandlers\u001b[0m\u001b[1;33m:\u001b[0m\u001b[1;33m\u001b[0m\u001b[1;33m\u001b[0m\u001b[0m\n\u001b[0;32m    502\u001b[0m             \u001b[0mfunc\u001b[0m \u001b[1;33m=\u001b[0m \u001b[0mgetattr\u001b[0m\u001b[1;33m(\u001b[0m\u001b[0mhandler\u001b[0m\u001b[1;33m,\u001b[0m \u001b[0mmeth_name\u001b[0m\u001b[1;33m)\u001b[0m\u001b[1;33m\u001b[0m\u001b[1;33m\u001b[0m\u001b[0m\n\u001b[1;32m--> 503\u001b[1;33m             \u001b[0mresult\u001b[0m \u001b[1;33m=\u001b[0m \u001b[0mfunc\u001b[0m\u001b[1;33m(\u001b[0m\u001b[1;33m*\u001b[0m\u001b[0margs\u001b[0m\u001b[1;33m)\u001b[0m\u001b[1;33m\u001b[0m\u001b[1;33m\u001b[0m\u001b[0m\n\u001b[0m\u001b[0;32m    504\u001b[0m             \u001b[1;32mif\u001b[0m \u001b[0mresult\u001b[0m \u001b[1;32mis\u001b[0m \u001b[1;32mnot\u001b[0m \u001b[1;32mNone\u001b[0m\u001b[1;33m:\u001b[0m\u001b[1;33m\u001b[0m\u001b[1;33m\u001b[0m\u001b[0m\n\u001b[0;32m    505\u001b[0m                 \u001b[1;32mreturn\u001b[0m \u001b[0mresult\u001b[0m\u001b[1;33m\u001b[0m\u001b[1;33m\u001b[0m\u001b[0m\n",
      "\u001b[1;32m~\\Anaconda3\\envs\\p37env\\lib\\urllib\\request.py\u001b[0m in \u001b[0;36mhttp_error_default\u001b[1;34m(self, req, fp, code, msg, hdrs)\u001b[0m\n\u001b[0;32m    647\u001b[0m \u001b[1;32mclass\u001b[0m \u001b[0mHTTPDefaultErrorHandler\u001b[0m\u001b[1;33m(\u001b[0m\u001b[0mBaseHandler\u001b[0m\u001b[1;33m)\u001b[0m\u001b[1;33m:\u001b[0m\u001b[1;33m\u001b[0m\u001b[1;33m\u001b[0m\u001b[0m\n\u001b[0;32m    648\u001b[0m     \u001b[1;32mdef\u001b[0m \u001b[0mhttp_error_default\u001b[0m\u001b[1;33m(\u001b[0m\u001b[0mself\u001b[0m\u001b[1;33m,\u001b[0m \u001b[0mreq\u001b[0m\u001b[1;33m,\u001b[0m \u001b[0mfp\u001b[0m\u001b[1;33m,\u001b[0m \u001b[0mcode\u001b[0m\u001b[1;33m,\u001b[0m \u001b[0mmsg\u001b[0m\u001b[1;33m,\u001b[0m \u001b[0mhdrs\u001b[0m\u001b[1;33m)\u001b[0m\u001b[1;33m:\u001b[0m\u001b[1;33m\u001b[0m\u001b[1;33m\u001b[0m\u001b[0m\n\u001b[1;32m--> 649\u001b[1;33m         \u001b[1;32mraise\u001b[0m \u001b[0mHTTPError\u001b[0m\u001b[1;33m(\u001b[0m\u001b[0mreq\u001b[0m\u001b[1;33m.\u001b[0m\u001b[0mfull_url\u001b[0m\u001b[1;33m,\u001b[0m \u001b[0mcode\u001b[0m\u001b[1;33m,\u001b[0m \u001b[0mmsg\u001b[0m\u001b[1;33m,\u001b[0m \u001b[0mhdrs\u001b[0m\u001b[1;33m,\u001b[0m \u001b[0mfp\u001b[0m\u001b[1;33m)\u001b[0m\u001b[1;33m\u001b[0m\u001b[1;33m\u001b[0m\u001b[0m\n\u001b[0m\u001b[0;32m    650\u001b[0m \u001b[1;33m\u001b[0m\u001b[0m\n\u001b[0;32m    651\u001b[0m \u001b[1;32mclass\u001b[0m \u001b[0mHTTPRedirectHandler\u001b[0m\u001b[1;33m(\u001b[0m\u001b[0mBaseHandler\u001b[0m\u001b[1;33m)\u001b[0m\u001b[1;33m:\u001b[0m\u001b[1;33m\u001b[0m\u001b[1;33m\u001b[0m\u001b[0m\n",
      "\u001b[1;31mHTTPError\u001b[0m: HTTP Error 404: Not Found"
     ]
    }
   ],
   "source": [
    "data=pd.read_csv(file_addr,sep=';')\n",
    "\n",
    "for varname in data.columns:\n",
    "    print(varname,end='; ')\n",
    "\n",
    "data.head()\n"
   ]
  },
  {
   "cell_type": "markdown",
   "metadata": {},
   "source": [
    "Calcolo di variabili derivate rappresentanti i rates di incidenza dei vari eventi per le 2 classi (*vanninati*, *non-vaccinati*)"
   ]
  },
  {
   "cell_type": "code",
   "execution_count": null,
   "metadata": {},
   "outputs": [
    {
     "data": {
      "text/html": [
       "<div>\n",
       "<style scoped>\n",
       "    .dataframe tbody tr th:only-of-type {\n",
       "        vertical-align: middle;\n",
       "    }\n",
       "\n",
       "    .dataframe tbody tr th {\n",
       "        vertical-align: top;\n",
       "    }\n",
       "\n",
       "    .dataframe thead th {\n",
       "        text-align: right;\n",
       "    }\n",
       "</style>\n",
       "<table border=\"1\" class=\"dataframe\">\n",
       "  <thead>\n",
       "    <tr style=\"text-align: right;\">\n",
       "      <th></th>\n",
       "      <th>data</th>\n",
       "      <th>non vaccinati</th>\n",
       "      <th>vaccinati 1 dose</th>\n",
       "      <th>vaccinati completo</th>\n",
       "      <th>vaccinati booster</th>\n",
       "      <th>casi non vaccinati</th>\n",
       "      <th>casi vaccinati 1 dose</th>\n",
       "      <th>casi vaccinati</th>\n",
       "      <th>casi booster</th>\n",
       "      <th>ospedalizzati non vaccinati</th>\n",
       "      <th>...</th>\n",
       "      <th>decessi vaccinati</th>\n",
       "      <th>decessi booster</th>\n",
       "      <th>incidenza casi vaccinati</th>\n",
       "      <th>incidenza casi non vaccinati</th>\n",
       "      <th>incidenza ospedalizzati vaccinati</th>\n",
       "      <th>incidenza ospedalizzati non vaccinati</th>\n",
       "      <th>incidenza terapia intensiva vaccinati</th>\n",
       "      <th>incidenza terapia intensiva non vaccinati</th>\n",
       "      <th>incidenza decessi vaccinati</th>\n",
       "      <th>incidenza decessi non vaccinati</th>\n",
       "    </tr>\n",
       "  </thead>\n",
       "  <tbody>\n",
       "    <tr>\n",
       "      <th>0</th>\n",
       "      <td>2022-01-05</td>\n",
       "      <td>6660263</td>\n",
       "      <td>1578764</td>\n",
       "      <td>45770918</td>\n",
       "      <td>8102818</td>\n",
       "      <td>251412</td>\n",
       "      <td>34617</td>\n",
       "      <td>822338</td>\n",
       "      <td>79260</td>\n",
       "      <td>8278</td>\n",
       "      <td>...</td>\n",
       "      <td>1489</td>\n",
       "      <td>84</td>\n",
       "      <td>1.796639</td>\n",
       "      <td>3.774806</td>\n",
       "      <td>0.017616</td>\n",
       "      <td>0.124289</td>\n",
       "      <td>0.001341</td>\n",
       "      <td>0.018047</td>\n",
       "      <td>0.003253</td>\n",
       "      <td>0.017567</td>\n",
       "    </tr>\n",
       "    <tr>\n",
       "      <th>1</th>\n",
       "      <td>2021-12-28</td>\n",
       "      <td>6876688</td>\n",
       "      <td>1504168</td>\n",
       "      <td>45629089</td>\n",
       "      <td>5694939</td>\n",
       "      <td>170551</td>\n",
       "      <td>14491</td>\n",
       "      <td>385856</td>\n",
       "      <td>20375</td>\n",
       "      <td>7059</td>\n",
       "      <td>...</td>\n",
       "      <td>1262</td>\n",
       "      <td>62</td>\n",
       "      <td>0.845636</td>\n",
       "      <td>2.480133</td>\n",
       "      <td>0.015843</td>\n",
       "      <td>0.102651</td>\n",
       "      <td>0.001216</td>\n",
       "      <td>0.015065</td>\n",
       "      <td>0.002766</td>\n",
       "      <td>0.014455</td>\n",
       "    </tr>\n",
       "    <tr>\n",
       "      <th>2</th>\n",
       "      <td>2021-12-21</td>\n",
       "      <td>7031651</td>\n",
       "      <td>1502381</td>\n",
       "      <td>45475912</td>\n",
       "      <td>4133267</td>\n",
       "      <td>140677</td>\n",
       "      <td>9069</td>\n",
       "      <td>254999</td>\n",
       "      <td>7655</td>\n",
       "      <td>5944</td>\n",
       "      <td>...</td>\n",
       "      <td>1105</td>\n",
       "      <td>45</td>\n",
       "      <td>0.560734</td>\n",
       "      <td>2.000625</td>\n",
       "      <td>0.014038</td>\n",
       "      <td>0.084532</td>\n",
       "      <td>0.001025</td>\n",
       "      <td>0.012614</td>\n",
       "      <td>0.002430</td>\n",
       "      <td>0.011932</td>\n",
       "    </tr>\n",
       "    <tr>\n",
       "      <th>3</th>\n",
       "      <td>2021-12-15</td>\n",
       "      <td>7160934</td>\n",
       "      <td>1577260</td>\n",
       "      <td>45271750</td>\n",
       "      <td>3060479</td>\n",
       "      <td>114674</td>\n",
       "      <td>7107</td>\n",
       "      <td>198287</td>\n",
       "      <td>4219</td>\n",
       "      <td>5081</td>\n",
       "      <td>...</td>\n",
       "      <td>991</td>\n",
       "      <td>29</td>\n",
       "      <td>0.437993</td>\n",
       "      <td>1.601383</td>\n",
       "      <td>0.012041</td>\n",
       "      <td>0.070954</td>\n",
       "      <td>0.000897</td>\n",
       "      <td>0.010432</td>\n",
       "      <td>0.002189</td>\n",
       "      <td>0.010082</td>\n",
       "    </tr>\n",
       "    <tr>\n",
       "      <th>4</th>\n",
       "      <td>2021-12-07</td>\n",
       "      <td>7291722</td>\n",
       "      <td>1749607</td>\n",
       "      <td>44968615</td>\n",
       "      <td>2189265</td>\n",
       "      <td>93220</td>\n",
       "      <td>6181</td>\n",
       "      <td>161951</td>\n",
       "      <td>2652</td>\n",
       "      <td>4402</td>\n",
       "      <td>...</td>\n",
       "      <td>807</td>\n",
       "      <td>17</td>\n",
       "      <td>0.360142</td>\n",
       "      <td>1.278436</td>\n",
       "      <td>0.010347</td>\n",
       "      <td>0.060370</td>\n",
       "      <td>0.000792</td>\n",
       "      <td>0.008475</td>\n",
       "      <td>0.001795</td>\n",
       "      <td>0.008503</td>\n",
       "    </tr>\n",
       "    <tr>\n",
       "      <th>5</th>\n",
       "      <td>2021-12-01</td>\n",
       "      <td>7404599</td>\n",
       "      <td>1981131</td>\n",
       "      <td>44624214</td>\n",
       "      <td>1594076</td>\n",
       "      <td>75512</td>\n",
       "      <td>5587</td>\n",
       "      <td>128488</td>\n",
       "      <td>1710</td>\n",
       "      <td>3733</td>\n",
       "      <td>...</td>\n",
       "      <td>690</td>\n",
       "      <td>11</td>\n",
       "      <td>0.287933</td>\n",
       "      <td>1.019799</td>\n",
       "      <td>0.008616</td>\n",
       "      <td>0.050415</td>\n",
       "      <td>0.000639</td>\n",
       "      <td>0.007374</td>\n",
       "      <td>0.001546</td>\n",
       "      <td>0.006955</td>\n",
       "    </tr>\n",
       "    <tr>\n",
       "      <th>6</th>\n",
       "      <td>2021-11-24</td>\n",
       "      <td>7586013</td>\n",
       "      <td>2222672</td>\n",
       "      <td>44201259</td>\n",
       "      <td>1016007</td>\n",
       "      <td>61908</td>\n",
       "      <td>4260</td>\n",
       "      <td>98228</td>\n",
       "      <td>969</td>\n",
       "      <td>3737</td>\n",
       "      <td>...</td>\n",
       "      <td>555</td>\n",
       "      <td>5</td>\n",
       "      <td>0.222229</td>\n",
       "      <td>0.816081</td>\n",
       "      <td>0.008355</td>\n",
       "      <td>0.049262</td>\n",
       "      <td>0.000611</td>\n",
       "      <td>0.006710</td>\n",
       "      <td>0.001256</td>\n",
       "      <td>0.005919</td>\n",
       "    </tr>\n",
       "    <tr>\n",
       "      <th>7</th>\n",
       "      <td>2021-11-17</td>\n",
       "      <td>7862567</td>\n",
       "      <td>2422756</td>\n",
       "      <td>43724619</td>\n",
       "      <td>570032</td>\n",
       "      <td>50564</td>\n",
       "      <td>3980</td>\n",
       "      <td>72159</td>\n",
       "      <td>537</td>\n",
       "      <td>3220</td>\n",
       "      <td>...</td>\n",
       "      <td>444</td>\n",
       "      <td>0</td>\n",
       "      <td>0.165031</td>\n",
       "      <td>0.643098</td>\n",
       "      <td>0.006715</td>\n",
       "      <td>0.040954</td>\n",
       "      <td>0.000512</td>\n",
       "      <td>0.005393</td>\n",
       "      <td>0.001015</td>\n",
       "      <td>0.004884</td>\n",
       "    </tr>\n",
       "    <tr>\n",
       "      <th>8</th>\n",
       "      <td>2021-11-10</td>\n",
       "      <td>8302865</td>\n",
       "      <td>2538614</td>\n",
       "      <td>43168463</td>\n",
       "      <td>294719</td>\n",
       "      <td>40182</td>\n",
       "      <td>3466</td>\n",
       "      <td>52302</td>\n",
       "      <td>286</td>\n",
       "      <td>2890</td>\n",
       "      <td>...</td>\n",
       "      <td>384</td>\n",
       "      <td>0</td>\n",
       "      <td>0.121158</td>\n",
       "      <td>0.483953</td>\n",
       "      <td>0.005580</td>\n",
       "      <td>0.034807</td>\n",
       "      <td>0.000412</td>\n",
       "      <td>0.004456</td>\n",
       "      <td>0.000890</td>\n",
       "      <td>0.004348</td>\n",
       "    </tr>\n",
       "    <tr>\n",
       "      <th>9</th>\n",
       "      <td>2021-11-03</td>\n",
       "      <td>8683749</td>\n",
       "      <td>2653423</td>\n",
       "      <td>42672767</td>\n",
       "      <td>0</td>\n",
       "      <td>35398</td>\n",
       "      <td>3207</td>\n",
       "      <td>40991</td>\n",
       "      <td>0</td>\n",
       "      <td>2696</td>\n",
       "      <td>...</td>\n",
       "      <td>423</td>\n",
       "      <td>0</td>\n",
       "      <td>0.096059</td>\n",
       "      <td>0.407635</td>\n",
       "      <td>0.004774</td>\n",
       "      <td>0.031046</td>\n",
       "      <td>0.000328</td>\n",
       "      <td>0.003674</td>\n",
       "      <td>0.000991</td>\n",
       "      <td>0.004791</td>\n",
       "    </tr>\n",
       "    <tr>\n",
       "      <th>10</th>\n",
       "      <td>2021-10-27</td>\n",
       "      <td>9231487</td>\n",
       "      <td>2863195</td>\n",
       "      <td>41915257</td>\n",
       "      <td>0</td>\n",
       "      <td>34128</td>\n",
       "      <td>3421</td>\n",
       "      <td>34131</td>\n",
       "      <td>0</td>\n",
       "      <td>2845</td>\n",
       "      <td>...</td>\n",
       "      <td>461</td>\n",
       "      <td>0</td>\n",
       "      <td>0.081429</td>\n",
       "      <td>0.369691</td>\n",
       "      <td>0.004330</td>\n",
       "      <td>0.030818</td>\n",
       "      <td>0.000305</td>\n",
       "      <td>0.003596</td>\n",
       "      <td>0.001100</td>\n",
       "      <td>0.005535</td>\n",
       "    </tr>\n",
       "    <tr>\n",
       "      <th>11</th>\n",
       "      <td>2021-10-20</td>\n",
       "      <td>9829232</td>\n",
       "      <td>3259454</td>\n",
       "      <td>40921215</td>\n",
       "      <td>0</td>\n",
       "      <td>36194</td>\n",
       "      <td>4127</td>\n",
       "      <td>31514</td>\n",
       "      <td>0</td>\n",
       "      <td>3396</td>\n",
       "      <td>...</td>\n",
       "      <td>511</td>\n",
       "      <td>0</td>\n",
       "      <td>0.077011</td>\n",
       "      <td>0.368228</td>\n",
       "      <td>0.004775</td>\n",
       "      <td>0.034550</td>\n",
       "      <td>0.000354</td>\n",
       "      <td>0.004212</td>\n",
       "      <td>0.001249</td>\n",
       "      <td>0.006470</td>\n",
       "    </tr>\n",
       "    <tr>\n",
       "      <th>12</th>\n",
       "      <td>2021-10-13</td>\n",
       "      <td>10307179</td>\n",
       "      <td>3862335</td>\n",
       "      <td>39840387</td>\n",
       "      <td>0</td>\n",
       "      <td>45790</td>\n",
       "      <td>5352</td>\n",
       "      <td>33496</td>\n",
       "      <td>0</td>\n",
       "      <td>4274</td>\n",
       "      <td>...</td>\n",
       "      <td>578</td>\n",
       "      <td>0</td>\n",
       "      <td>0.084075</td>\n",
       "      <td>0.444253</td>\n",
       "      <td>0.005354</td>\n",
       "      <td>0.041466</td>\n",
       "      <td>0.000389</td>\n",
       "      <td>0.004997</td>\n",
       "      <td>0.001451</td>\n",
       "      <td>0.007519</td>\n",
       "    </tr>\n",
       "    <tr>\n",
       "      <th>13</th>\n",
       "      <td>2021-10-06</td>\n",
       "      <td>10942694</td>\n",
       "      <td>4426185</td>\n",
       "      <td>38641022</td>\n",
       "      <td>0</td>\n",
       "      <td>56808</td>\n",
       "      <td>6952</td>\n",
       "      <td>36529</td>\n",
       "      <td>0</td>\n",
       "      <td>5224</td>\n",
       "      <td>...</td>\n",
       "      <td>580</td>\n",
       "      <td>0</td>\n",
       "      <td>0.094534</td>\n",
       "      <td>0.519141</td>\n",
       "      <td>0.005869</td>\n",
       "      <td>0.047740</td>\n",
       "      <td>0.000448</td>\n",
       "      <td>0.005520</td>\n",
       "      <td>0.001501</td>\n",
       "      <td>0.008115</td>\n",
       "    </tr>\n",
       "    <tr>\n",
       "      <th>14</th>\n",
       "      <td>2021-09-29</td>\n",
       "      <td>11786620</td>\n",
       "      <td>4805486</td>\n",
       "      <td>37417795</td>\n",
       "      <td>0</td>\n",
       "      <td>70900</td>\n",
       "      <td>9284</td>\n",
       "      <td>40060</td>\n",
       "      <td>0</td>\n",
       "      <td>6160</td>\n",
       "      <td>...</td>\n",
       "      <td>565</td>\n",
       "      <td>0</td>\n",
       "      <td>0.107061</td>\n",
       "      <td>0.601530</td>\n",
       "      <td>0.006462</td>\n",
       "      <td>0.052263</td>\n",
       "      <td>0.000465</td>\n",
       "      <td>0.006083</td>\n",
       "      <td>0.001510</td>\n",
       "      <td>0.007865</td>\n",
       "    </tr>\n",
       "    <tr>\n",
       "      <th>15</th>\n",
       "      <td>2021-09-22</td>\n",
       "      <td>12581126</td>\n",
       "      <td>5096568</td>\n",
       "      <td>36332207</td>\n",
       "      <td>0</td>\n",
       "      <td>86133</td>\n",
       "      <td>11735</td>\n",
       "      <td>44050</td>\n",
       "      <td>0</td>\n",
       "      <td>6782</td>\n",
       "      <td>...</td>\n",
       "      <td>509</td>\n",
       "      <td>0</td>\n",
       "      <td>0.121242</td>\n",
       "      <td>0.684621</td>\n",
       "      <td>0.006760</td>\n",
       "      <td>0.053906</td>\n",
       "      <td>0.000476</td>\n",
       "      <td>0.006160</td>\n",
       "      <td>0.001401</td>\n",
       "      <td>0.006971</td>\n",
       "    </tr>\n",
       "    <tr>\n",
       "      <th>16</th>\n",
       "      <td>2021-09-15</td>\n",
       "      <td>13334156</td>\n",
       "      <td>5075930</td>\n",
       "      <td>35599815</td>\n",
       "      <td>0</td>\n",
       "      <td>96900</td>\n",
       "      <td>13728</td>\n",
       "      <td>44990</td>\n",
       "      <td>0</td>\n",
       "      <td>6841</td>\n",
       "      <td>...</td>\n",
       "      <td>405</td>\n",
       "      <td>0</td>\n",
       "      <td>0.126377</td>\n",
       "      <td>0.726705</td>\n",
       "      <td>0.006548</td>\n",
       "      <td>0.051304</td>\n",
       "      <td>0.000458</td>\n",
       "      <td>0.005895</td>\n",
       "      <td>0.001138</td>\n",
       "      <td>0.005775</td>\n",
       "    </tr>\n",
       "    <tr>\n",
       "      <th>17</th>\n",
       "      <td>2021-09-08</td>\n",
       "      <td>14507530</td>\n",
       "      <td>5210293</td>\n",
       "      <td>34292078</td>\n",
       "      <td>0</td>\n",
       "      <td>104890</td>\n",
       "      <td>16129</td>\n",
       "      <td>43775</td>\n",
       "      <td>0</td>\n",
       "      <td>6579</td>\n",
       "      <td>...</td>\n",
       "      <td>280</td>\n",
       "      <td>0</td>\n",
       "      <td>0.127653</td>\n",
       "      <td>0.723004</td>\n",
       "      <td>0.006176</td>\n",
       "      <td>0.045349</td>\n",
       "      <td>0.000458</td>\n",
       "      <td>0.004908</td>\n",
       "      <td>0.000817</td>\n",
       "      <td>0.003936</td>\n",
       "    </tr>\n",
       "    <tr>\n",
       "      <th>18</th>\n",
       "      <td>2021-09-01</td>\n",
       "      <td>15656647</td>\n",
       "      <td>6065610</td>\n",
       "      <td>32287644</td>\n",
       "      <td>0</td>\n",
       "      <td>107937</td>\n",
       "      <td>18925</td>\n",
       "      <td>40380</td>\n",
       "      <td>0</td>\n",
       "      <td>5988</td>\n",
       "      <td>...</td>\n",
       "      <td>187</td>\n",
       "      <td>0</td>\n",
       "      <td>0.125063</td>\n",
       "      <td>0.689400</td>\n",
       "      <td>0.005538</td>\n",
       "      <td>0.038246</td>\n",
       "      <td>0.000393</td>\n",
       "      <td>0.004094</td>\n",
       "      <td>0.000579</td>\n",
       "      <td>0.002446</td>\n",
       "    </tr>\n",
       "    <tr>\n",
       "      <th>19</th>\n",
       "      <td>2021-08-25</td>\n",
       "      <td>16708830</td>\n",
       "      <td>7672393</td>\n",
       "      <td>29628678</td>\n",
       "      <td>0</td>\n",
       "      <td>104405</td>\n",
       "      <td>21703</td>\n",
       "      <td>33894</td>\n",
       "      <td>0</td>\n",
       "      <td>5162</td>\n",
       "      <td>...</td>\n",
       "      <td>92</td>\n",
       "      <td>0</td>\n",
       "      <td>0.114396</td>\n",
       "      <td>0.624849</td>\n",
       "      <td>0.004553</td>\n",
       "      <td>0.030894</td>\n",
       "      <td>0.000321</td>\n",
       "      <td>0.002992</td>\n",
       "      <td>0.000311</td>\n",
       "      <td>0.001472</td>\n",
       "    </tr>\n",
       "    <tr>\n",
       "      <th>20</th>\n",
       "      <td>2021-08-18</td>\n",
       "      <td>17568325</td>\n",
       "      <td>9940124</td>\n",
       "      <td>26501452</td>\n",
       "      <td>0</td>\n",
       "      <td>95261</td>\n",
       "      <td>22568</td>\n",
       "      <td>24978</td>\n",
       "      <td>0</td>\n",
       "      <td>4052</td>\n",
       "      <td>...</td>\n",
       "      <td>48</td>\n",
       "      <td>0</td>\n",
       "      <td>0.094251</td>\n",
       "      <td>0.542232</td>\n",
       "      <td>0.003619</td>\n",
       "      <td>0.023064</td>\n",
       "      <td>0.000230</td>\n",
       "      <td>0.001901</td>\n",
       "      <td>0.000181</td>\n",
       "      <td>0.001007</td>\n",
       "    </tr>\n",
       "    <tr>\n",
       "      <th>21</th>\n",
       "      <td>2021-08-11</td>\n",
       "      <td>20322806</td>\n",
       "      <td>11341436</td>\n",
       "      <td>22345659</td>\n",
       "      <td>0</td>\n",
       "      <td>80585</td>\n",
       "      <td>21570</td>\n",
       "      <td>18887</td>\n",
       "      <td>0</td>\n",
       "      <td>3067</td>\n",
       "      <td>...</td>\n",
       "      <td>34</td>\n",
       "      <td>0</td>\n",
       "      <td>0.084522</td>\n",
       "      <td>0.396525</td>\n",
       "      <td>0.002806</td>\n",
       "      <td>0.015091</td>\n",
       "      <td>0.000152</td>\n",
       "      <td>0.001215</td>\n",
       "      <td>0.000152</td>\n",
       "      <td>0.000704</td>\n",
       "    </tr>\n",
       "    <tr>\n",
       "      <th>22</th>\n",
       "      <td>2021-08-04</td>\n",
       "      <td>21289761</td>\n",
       "      <td>13149676</td>\n",
       "      <td>19570464</td>\n",
       "      <td>0</td>\n",
       "      <td>60267</td>\n",
       "      <td>17420</td>\n",
       "      <td>12333</td>\n",
       "      <td>0</td>\n",
       "      <td>2234</td>\n",
       "      <td>...</td>\n",
       "      <td>34</td>\n",
       "      <td>0</td>\n",
       "      <td>0.063018</td>\n",
       "      <td>0.283080</td>\n",
       "      <td>0.002064</td>\n",
       "      <td>0.010493</td>\n",
       "      <td>0.000118</td>\n",
       "      <td>0.000794</td>\n",
       "      <td>0.000174</td>\n",
       "      <td>0.000601</td>\n",
       "    </tr>\n",
       "    <tr>\n",
       "      <th>23</th>\n",
       "      <td>2021-07-28</td>\n",
       "      <td>22879167</td>\n",
       "      <td>13741130</td>\n",
       "      <td>17389604</td>\n",
       "      <td>0</td>\n",
       "      <td>40729</td>\n",
       "      <td>12032</td>\n",
       "      <td>7277</td>\n",
       "      <td>0</td>\n",
       "      <td>1619</td>\n",
       "      <td>...</td>\n",
       "      <td>38</td>\n",
       "      <td>0</td>\n",
       "      <td>0.041847</td>\n",
       "      <td>0.178018</td>\n",
       "      <td>0.001610</td>\n",
       "      <td>0.007076</td>\n",
       "      <td>0.000092</td>\n",
       "      <td>0.000538</td>\n",
       "      <td>0.000219</td>\n",
       "      <td>0.000739</td>\n",
       "    </tr>\n",
       "    <tr>\n",
       "      <th>24</th>\n",
       "      <td>2021-07-21</td>\n",
       "      <td>24745853</td>\n",
       "      <td>13879852</td>\n",
       "      <td>15384196</td>\n",
       "      <td>0</td>\n",
       "      <td>26284</td>\n",
       "      <td>6813</td>\n",
       "      <td>3805</td>\n",
       "      <td>0</td>\n",
       "      <td>1483</td>\n",
       "      <td>...</td>\n",
       "      <td>46</td>\n",
       "      <td>0</td>\n",
       "      <td>0.024733</td>\n",
       "      <td>0.106216</td>\n",
       "      <td>0.001456</td>\n",
       "      <td>0.005993</td>\n",
       "      <td>0.000052</td>\n",
       "      <td>0.000473</td>\n",
       "      <td>0.000299</td>\n",
       "      <td>0.001010</td>\n",
       "    </tr>\n",
       "    <tr>\n",
       "      <th>25</th>\n",
       "      <td>2021-07-14</td>\n",
       "      <td>27065063</td>\n",
       "      <td>13015437</td>\n",
       "      <td>13929401</td>\n",
       "      <td>0</td>\n",
       "      <td>21089</td>\n",
       "      <td>3954</td>\n",
       "      <td>2310</td>\n",
       "      <td>0</td>\n",
       "      <td>1880</td>\n",
       "      <td>...</td>\n",
       "      <td>68</td>\n",
       "      <td>0</td>\n",
       "      <td>0.016584</td>\n",
       "      <td>0.077920</td>\n",
       "      <td>0.001723</td>\n",
       "      <td>0.006946</td>\n",
       "      <td>0.000050</td>\n",
       "      <td>0.000543</td>\n",
       "      <td>0.000488</td>\n",
       "      <td>0.001319</td>\n",
       "    </tr>\n",
       "  </tbody>\n",
       "</table>\n",
       "<p>26 rows × 29 columns</p>\n",
       "</div>"
      ],
      "text/plain": [
       "          data  non vaccinati  vaccinati 1 dose  vaccinati completo  \\\n",
       "0   2022-01-05        6660263           1578764            45770918   \n",
       "1   2021-12-28        6876688           1504168            45629089   \n",
       "2   2021-12-21        7031651           1502381            45475912   \n",
       "3   2021-12-15        7160934           1577260            45271750   \n",
       "4   2021-12-07        7291722           1749607            44968615   \n",
       "5   2021-12-01        7404599           1981131            44624214   \n",
       "6   2021-11-24        7586013           2222672            44201259   \n",
       "7   2021-11-17        7862567           2422756            43724619   \n",
       "8   2021-11-10        8302865           2538614            43168463   \n",
       "9   2021-11-03        8683749           2653423            42672767   \n",
       "10  2021-10-27        9231487           2863195            41915257   \n",
       "11  2021-10-20        9829232           3259454            40921215   \n",
       "12  2021-10-13       10307179           3862335            39840387   \n",
       "13  2021-10-06       10942694           4426185            38641022   \n",
       "14  2021-09-29       11786620           4805486            37417795   \n",
       "15  2021-09-22       12581126           5096568            36332207   \n",
       "16  2021-09-15       13334156           5075930            35599815   \n",
       "17  2021-09-08       14507530           5210293            34292078   \n",
       "18  2021-09-01       15656647           6065610            32287644   \n",
       "19  2021-08-25       16708830           7672393            29628678   \n",
       "20  2021-08-18       17568325           9940124            26501452   \n",
       "21  2021-08-11       20322806          11341436            22345659   \n",
       "22  2021-08-04       21289761          13149676            19570464   \n",
       "23  2021-07-28       22879167          13741130            17389604   \n",
       "24  2021-07-21       24745853          13879852            15384196   \n",
       "25  2021-07-14       27065063          13015437            13929401   \n",
       "\n",
       "    vaccinati booster  casi non vaccinati  casi vaccinati 1 dose  \\\n",
       "0             8102818              251412                  34617   \n",
       "1             5694939              170551                  14491   \n",
       "2             4133267              140677                   9069   \n",
       "3             3060479              114674                   7107   \n",
       "4             2189265               93220                   6181   \n",
       "5             1594076               75512                   5587   \n",
       "6             1016007               61908                   4260   \n",
       "7              570032               50564                   3980   \n",
       "8              294719               40182                   3466   \n",
       "9                   0               35398                   3207   \n",
       "10                  0               34128                   3421   \n",
       "11                  0               36194                   4127   \n",
       "12                  0               45790                   5352   \n",
       "13                  0               56808                   6952   \n",
       "14                  0               70900                   9284   \n",
       "15                  0               86133                  11735   \n",
       "16                  0               96900                  13728   \n",
       "17                  0              104890                  16129   \n",
       "18                  0              107937                  18925   \n",
       "19                  0              104405                  21703   \n",
       "20                  0               95261                  22568   \n",
       "21                  0               80585                  21570   \n",
       "22                  0               60267                  17420   \n",
       "23                  0               40729                  12032   \n",
       "24                  0               26284                   6813   \n",
       "25                  0               21089                   3954   \n",
       "\n",
       "    casi vaccinati  casi booster  ospedalizzati non vaccinati  ...  \\\n",
       "0           822338         79260                         8278  ...   \n",
       "1           385856         20375                         7059  ...   \n",
       "2           254999          7655                         5944  ...   \n",
       "3           198287          4219                         5081  ...   \n",
       "4           161951          2652                         4402  ...   \n",
       "5           128488          1710                         3733  ...   \n",
       "6            98228           969                         3737  ...   \n",
       "7            72159           537                         3220  ...   \n",
       "8            52302           286                         2890  ...   \n",
       "9            40991             0                         2696  ...   \n",
       "10           34131             0                         2845  ...   \n",
       "11           31514             0                         3396  ...   \n",
       "12           33496             0                         4274  ...   \n",
       "13           36529             0                         5224  ...   \n",
       "14           40060             0                         6160  ...   \n",
       "15           44050             0                         6782  ...   \n",
       "16           44990             0                         6841  ...   \n",
       "17           43775             0                         6579  ...   \n",
       "18           40380             0                         5988  ...   \n",
       "19           33894             0                         5162  ...   \n",
       "20           24978             0                         4052  ...   \n",
       "21           18887             0                         3067  ...   \n",
       "22           12333             0                         2234  ...   \n",
       "23            7277             0                         1619  ...   \n",
       "24            3805             0                         1483  ...   \n",
       "25            2310             0                         1880  ...   \n",
       "\n",
       "    decessi vaccinati  decessi booster  incidenza casi vaccinati  \\\n",
       "0                1489               84                  1.796639   \n",
       "1                1262               62                  0.845636   \n",
       "2                1105               45                  0.560734   \n",
       "3                 991               29                  0.437993   \n",
       "4                 807               17                  0.360142   \n",
       "5                 690               11                  0.287933   \n",
       "6                 555                5                  0.222229   \n",
       "7                 444                0                  0.165031   \n",
       "8                 384                0                  0.121158   \n",
       "9                 423                0                  0.096059   \n",
       "10                461                0                  0.081429   \n",
       "11                511                0                  0.077011   \n",
       "12                578                0                  0.084075   \n",
       "13                580                0                  0.094534   \n",
       "14                565                0                  0.107061   \n",
       "15                509                0                  0.121242   \n",
       "16                405                0                  0.126377   \n",
       "17                280                0                  0.127653   \n",
       "18                187                0                  0.125063   \n",
       "19                 92                0                  0.114396   \n",
       "20                 48                0                  0.094251   \n",
       "21                 34                0                  0.084522   \n",
       "22                 34                0                  0.063018   \n",
       "23                 38                0                  0.041847   \n",
       "24                 46                0                  0.024733   \n",
       "25                 68                0                  0.016584   \n",
       "\n",
       "    incidenza casi non vaccinati  incidenza ospedalizzati vaccinati  \\\n",
       "0                       3.774806                           0.017616   \n",
       "1                       2.480133                           0.015843   \n",
       "2                       2.000625                           0.014038   \n",
       "3                       1.601383                           0.012041   \n",
       "4                       1.278436                           0.010347   \n",
       "5                       1.019799                           0.008616   \n",
       "6                       0.816081                           0.008355   \n",
       "7                       0.643098                           0.006715   \n",
       "8                       0.483953                           0.005580   \n",
       "9                       0.407635                           0.004774   \n",
       "10                      0.369691                           0.004330   \n",
       "11                      0.368228                           0.004775   \n",
       "12                      0.444253                           0.005354   \n",
       "13                      0.519141                           0.005869   \n",
       "14                      0.601530                           0.006462   \n",
       "15                      0.684621                           0.006760   \n",
       "16                      0.726705                           0.006548   \n",
       "17                      0.723004                           0.006176   \n",
       "18                      0.689400                           0.005538   \n",
       "19                      0.624849                           0.004553   \n",
       "20                      0.542232                           0.003619   \n",
       "21                      0.396525                           0.002806   \n",
       "22                      0.283080                           0.002064   \n",
       "23                      0.178018                           0.001610   \n",
       "24                      0.106216                           0.001456   \n",
       "25                      0.077920                           0.001723   \n",
       "\n",
       "    incidenza ospedalizzati non vaccinati  \\\n",
       "0                                0.124289   \n",
       "1                                0.102651   \n",
       "2                                0.084532   \n",
       "3                                0.070954   \n",
       "4                                0.060370   \n",
       "5                                0.050415   \n",
       "6                                0.049262   \n",
       "7                                0.040954   \n",
       "8                                0.034807   \n",
       "9                                0.031046   \n",
       "10                               0.030818   \n",
       "11                               0.034550   \n",
       "12                               0.041466   \n",
       "13                               0.047740   \n",
       "14                               0.052263   \n",
       "15                               0.053906   \n",
       "16                               0.051304   \n",
       "17                               0.045349   \n",
       "18                               0.038246   \n",
       "19                               0.030894   \n",
       "20                               0.023064   \n",
       "21                               0.015091   \n",
       "22                               0.010493   \n",
       "23                               0.007076   \n",
       "24                               0.005993   \n",
       "25                               0.006946   \n",
       "\n",
       "    incidenza terapia intensiva vaccinati  \\\n",
       "0                                0.001341   \n",
       "1                                0.001216   \n",
       "2                                0.001025   \n",
       "3                                0.000897   \n",
       "4                                0.000792   \n",
       "5                                0.000639   \n",
       "6                                0.000611   \n",
       "7                                0.000512   \n",
       "8                                0.000412   \n",
       "9                                0.000328   \n",
       "10                               0.000305   \n",
       "11                               0.000354   \n",
       "12                               0.000389   \n",
       "13                               0.000448   \n",
       "14                               0.000465   \n",
       "15                               0.000476   \n",
       "16                               0.000458   \n",
       "17                               0.000458   \n",
       "18                               0.000393   \n",
       "19                               0.000321   \n",
       "20                               0.000230   \n",
       "21                               0.000152   \n",
       "22                               0.000118   \n",
       "23                               0.000092   \n",
       "24                               0.000052   \n",
       "25                               0.000050   \n",
       "\n",
       "    incidenza terapia intensiva non vaccinati  incidenza decessi vaccinati  \\\n",
       "0                                    0.018047                     0.003253   \n",
       "1                                    0.015065                     0.002766   \n",
       "2                                    0.012614                     0.002430   \n",
       "3                                    0.010432                     0.002189   \n",
       "4                                    0.008475                     0.001795   \n",
       "5                                    0.007374                     0.001546   \n",
       "6                                    0.006710                     0.001256   \n",
       "7                                    0.005393                     0.001015   \n",
       "8                                    0.004456                     0.000890   \n",
       "9                                    0.003674                     0.000991   \n",
       "10                                   0.003596                     0.001100   \n",
       "11                                   0.004212                     0.001249   \n",
       "12                                   0.004997                     0.001451   \n",
       "13                                   0.005520                     0.001501   \n",
       "14                                   0.006083                     0.001510   \n",
       "15                                   0.006160                     0.001401   \n",
       "16                                   0.005895                     0.001138   \n",
       "17                                   0.004908                     0.000817   \n",
       "18                                   0.004094                     0.000579   \n",
       "19                                   0.002992                     0.000311   \n",
       "20                                   0.001901                     0.000181   \n",
       "21                                   0.001215                     0.000152   \n",
       "22                                   0.000794                     0.000174   \n",
       "23                                   0.000538                     0.000219   \n",
       "24                                   0.000473                     0.000299   \n",
       "25                                   0.000543                     0.000488   \n",
       "\n",
       "    incidenza decessi non vaccinati  \n",
       "0                          0.017567  \n",
       "1                          0.014455  \n",
       "2                          0.011932  \n",
       "3                          0.010082  \n",
       "4                          0.008503  \n",
       "5                          0.006955  \n",
       "6                          0.005919  \n",
       "7                          0.004884  \n",
       "8                          0.004348  \n",
       "9                          0.004791  \n",
       "10                         0.005535  \n",
       "11                         0.006470  \n",
       "12                         0.007519  \n",
       "13                         0.008115  \n",
       "14                         0.007865  \n",
       "15                         0.006971  \n",
       "16                         0.005775  \n",
       "17                         0.003936  \n",
       "18                         0.002446  \n",
       "19                         0.001472  \n",
       "20                         0.001007  \n",
       "21                         0.000704  \n",
       "22                         0.000601  \n",
       "23                         0.000739  \n",
       "24                         0.001010  \n",
       "25                         0.001319  \n",
       "\n",
       "[26 rows x 29 columns]"
      ]
     },
     "execution_count": 4,
     "metadata": {},
     "output_type": "execute_result"
    }
   ],
   "source": [
    "data['incidenza casi vaccinati']=100*data['casi vaccinati']/data['vaccinati completo']\n",
    "data['incidenza casi non vaccinati'] = 100 * \\\n",
    "    data['casi non vaccinati']/data['non vaccinati']\n",
    "\n",
    "data['incidenza ospedalizzati vaccinati'] = 100 * \\\n",
    "    data['ospedalizzati vaccinati']/data['vaccinati completo']\n",
    "data['incidenza ospedalizzati non vaccinati'] = 100 * \\\n",
    "    data['ospedalizzati non vaccinati']/data['non vaccinati']\n",
    "\n",
    "data['incidenza terapia intensiva vaccinati'] = 100 * \\\n",
    "    data['terapia intensiva vaccinati']/data['vaccinati completo']\n",
    "data['incidenza terapia intensiva non vaccinati'] = 100 * \\\n",
    "    data['terapia intensiva non vaccinati']/data['non vaccinati']\n",
    "\n",
    "\n",
    "data['incidenza decessi vaccinati'] = 100 * \\\n",
    "    data['decessi vaccinati']/data['vaccinati completo']\n",
    "data['incidenza decessi non vaccinati'] = 100 * \\\n",
    "    data['decessi non vaccinati']/data['non vaccinati']\n",
    "\n",
    "data\n"
   ]
  },
  {
   "cell_type": "code",
   "execution_count": null,
   "metadata": {},
   "outputs": [
    {
     "data": {
      "application/vnd.plotly.v1+json": {
       "config": {
        "plotlyServerURL": "https://plot.ly"
       },
       "data": [
        {
         "mode": "markers+lines",
         "name": "Non vaccinati",
         "type": "scatter",
         "x": [
          "2022-01-05",
          "2021-12-28",
          "2021-12-21",
          "2021-12-15",
          "2021-12-07",
          "2021-12-01",
          "2021-11-24",
          "2021-11-17",
          "2021-11-10",
          "2021-11-03",
          "2021-10-27",
          "2021-10-20",
          "2021-10-13",
          "2021-10-06",
          "2021-09-29",
          "2021-09-22",
          "2021-09-15",
          "2021-09-08",
          "2021-09-01",
          "2021-08-25",
          "2021-08-18",
          "2021-08-11",
          "2021-08-04",
          "2021-07-28",
          "2021-07-21",
          "2021-07-14"
         ],
         "y": [
          3.774805889797445,
          2.480132877920301,
          2.000625457662788,
          1.6013832832421022,
          1.2784360127827143,
          1.0197986413578912,
          0.8160808582848461,
          0.6430978584983759,
          0.4839534305327137,
          0.40763499728055247,
          0.3696912534242858,
          0.36822815861910674,
          0.44425346644314606,
          0.5191408989413393,
          0.601529530942713,
          0.6846207565205213,
          0.7267051622914866,
          0.7230038469677471,
          0.6894004827470402,
          0.6248492563512825,
          0.542231544555329,
          0.3965249680580526,
          0.2830797395987677,
          0.17801784479303814,
          0.10621577684147723,
          0.07791964127332716
         ]
        },
        {
         "mode": "markers+lines",
         "name": "Vaccinati",
         "type": "scatter",
         "x": [
          "2022-01-05",
          "2021-12-28",
          "2021-12-21",
          "2021-12-15",
          "2021-12-07",
          "2021-12-01",
          "2021-11-24",
          "2021-11-17",
          "2021-11-10",
          "2021-11-03",
          "2021-10-27",
          "2021-10-20",
          "2021-10-13",
          "2021-10-06",
          "2021-09-29",
          "2021-09-22",
          "2021-09-15",
          "2021-09-08",
          "2021-09-01",
          "2021-08-25",
          "2021-08-18",
          "2021-08-11",
          "2021-08-04",
          "2021-07-28",
          "2021-07-21",
          "2021-07-14"
         ],
         "y": [
          1.7966386429042127,
          0.8456359933024303,
          0.5607342190300658,
          0.43799278799692964,
          0.3601422903507257,
          0.2879333628150851,
          0.22222896411163312,
          0.16503059752218768,
          0.121157892510558,
          0.09605892207552419,
          0.0814285833914844,
          0.07701139861072062,
          0.08407548852374351,
          0.09453424912001551,
          0.10706135944141017,
          0.12124229062110099,
          0.12637706122911033,
          0.12765338980040813,
          0.12506332143652227,
          0.11439592411109263,
          0.0942514395060316,
          0.08452200939788797,
          0.06301843430998877,
          0.04184684136568032,
          0.02473317422632941,
          0.016583627680759567
         ]
        }
       ],
       "layout": {
        "template": {
         "data": {
          "bar": [
           {
            "error_x": {
             "color": "#2a3f5f"
            },
            "error_y": {
             "color": "#2a3f5f"
            },
            "marker": {
             "line": {
              "color": "#E5ECF6",
              "width": 0.5
             }
            },
            "type": "bar"
           }
          ],
          "barpolar": [
           {
            "marker": {
             "line": {
              "color": "#E5ECF6",
              "width": 0.5
             }
            },
            "type": "barpolar"
           }
          ],
          "carpet": [
           {
            "aaxis": {
             "endlinecolor": "#2a3f5f",
             "gridcolor": "white",
             "linecolor": "white",
             "minorgridcolor": "white",
             "startlinecolor": "#2a3f5f"
            },
            "baxis": {
             "endlinecolor": "#2a3f5f",
             "gridcolor": "white",
             "linecolor": "white",
             "minorgridcolor": "white",
             "startlinecolor": "#2a3f5f"
            },
            "type": "carpet"
           }
          ],
          "choropleth": [
           {
            "colorbar": {
             "outlinewidth": 0,
             "ticks": ""
            },
            "type": "choropleth"
           }
          ],
          "contour": [
           {
            "colorbar": {
             "outlinewidth": 0,
             "ticks": ""
            },
            "colorscale": [
             [
              0,
              "#0d0887"
             ],
             [
              0.1111111111111111,
              "#46039f"
             ],
             [
              0.2222222222222222,
              "#7201a8"
             ],
             [
              0.3333333333333333,
              "#9c179e"
             ],
             [
              0.4444444444444444,
              "#bd3786"
             ],
             [
              0.5555555555555556,
              "#d8576b"
             ],
             [
              0.6666666666666666,
              "#ed7953"
             ],
             [
              0.7777777777777778,
              "#fb9f3a"
             ],
             [
              0.8888888888888888,
              "#fdca26"
             ],
             [
              1,
              "#f0f921"
             ]
            ],
            "type": "contour"
           }
          ],
          "contourcarpet": [
           {
            "colorbar": {
             "outlinewidth": 0,
             "ticks": ""
            },
            "type": "contourcarpet"
           }
          ],
          "heatmap": [
           {
            "colorbar": {
             "outlinewidth": 0,
             "ticks": ""
            },
            "colorscale": [
             [
              0,
              "#0d0887"
             ],
             [
              0.1111111111111111,
              "#46039f"
             ],
             [
              0.2222222222222222,
              "#7201a8"
             ],
             [
              0.3333333333333333,
              "#9c179e"
             ],
             [
              0.4444444444444444,
              "#bd3786"
             ],
             [
              0.5555555555555556,
              "#d8576b"
             ],
             [
              0.6666666666666666,
              "#ed7953"
             ],
             [
              0.7777777777777778,
              "#fb9f3a"
             ],
             [
              0.8888888888888888,
              "#fdca26"
             ],
             [
              1,
              "#f0f921"
             ]
            ],
            "type": "heatmap"
           }
          ],
          "heatmapgl": [
           {
            "colorbar": {
             "outlinewidth": 0,
             "ticks": ""
            },
            "colorscale": [
             [
              0,
              "#0d0887"
             ],
             [
              0.1111111111111111,
              "#46039f"
             ],
             [
              0.2222222222222222,
              "#7201a8"
             ],
             [
              0.3333333333333333,
              "#9c179e"
             ],
             [
              0.4444444444444444,
              "#bd3786"
             ],
             [
              0.5555555555555556,
              "#d8576b"
             ],
             [
              0.6666666666666666,
              "#ed7953"
             ],
             [
              0.7777777777777778,
              "#fb9f3a"
             ],
             [
              0.8888888888888888,
              "#fdca26"
             ],
             [
              1,
              "#f0f921"
             ]
            ],
            "type": "heatmapgl"
           }
          ],
          "histogram": [
           {
            "marker": {
             "colorbar": {
              "outlinewidth": 0,
              "ticks": ""
             }
            },
            "type": "histogram"
           }
          ],
          "histogram2d": [
           {
            "colorbar": {
             "outlinewidth": 0,
             "ticks": ""
            },
            "colorscale": [
             [
              0,
              "#0d0887"
             ],
             [
              0.1111111111111111,
              "#46039f"
             ],
             [
              0.2222222222222222,
              "#7201a8"
             ],
             [
              0.3333333333333333,
              "#9c179e"
             ],
             [
              0.4444444444444444,
              "#bd3786"
             ],
             [
              0.5555555555555556,
              "#d8576b"
             ],
             [
              0.6666666666666666,
              "#ed7953"
             ],
             [
              0.7777777777777778,
              "#fb9f3a"
             ],
             [
              0.8888888888888888,
              "#fdca26"
             ],
             [
              1,
              "#f0f921"
             ]
            ],
            "type": "histogram2d"
           }
          ],
          "histogram2dcontour": [
           {
            "colorbar": {
             "outlinewidth": 0,
             "ticks": ""
            },
            "colorscale": [
             [
              0,
              "#0d0887"
             ],
             [
              0.1111111111111111,
              "#46039f"
             ],
             [
              0.2222222222222222,
              "#7201a8"
             ],
             [
              0.3333333333333333,
              "#9c179e"
             ],
             [
              0.4444444444444444,
              "#bd3786"
             ],
             [
              0.5555555555555556,
              "#d8576b"
             ],
             [
              0.6666666666666666,
              "#ed7953"
             ],
             [
              0.7777777777777778,
              "#fb9f3a"
             ],
             [
              0.8888888888888888,
              "#fdca26"
             ],
             [
              1,
              "#f0f921"
             ]
            ],
            "type": "histogram2dcontour"
           }
          ],
          "mesh3d": [
           {
            "colorbar": {
             "outlinewidth": 0,
             "ticks": ""
            },
            "type": "mesh3d"
           }
          ],
          "parcoords": [
           {
            "line": {
             "colorbar": {
              "outlinewidth": 0,
              "ticks": ""
             }
            },
            "type": "parcoords"
           }
          ],
          "pie": [
           {
            "automargin": true,
            "type": "pie"
           }
          ],
          "scatter": [
           {
            "marker": {
             "colorbar": {
              "outlinewidth": 0,
              "ticks": ""
             }
            },
            "type": "scatter"
           }
          ],
          "scatter3d": [
           {
            "line": {
             "colorbar": {
              "outlinewidth": 0,
              "ticks": ""
             }
            },
            "marker": {
             "colorbar": {
              "outlinewidth": 0,
              "ticks": ""
             }
            },
            "type": "scatter3d"
           }
          ],
          "scattercarpet": [
           {
            "marker": {
             "colorbar": {
              "outlinewidth": 0,
              "ticks": ""
             }
            },
            "type": "scattercarpet"
           }
          ],
          "scattergeo": [
           {
            "marker": {
             "colorbar": {
              "outlinewidth": 0,
              "ticks": ""
             }
            },
            "type": "scattergeo"
           }
          ],
          "scattergl": [
           {
            "marker": {
             "colorbar": {
              "outlinewidth": 0,
              "ticks": ""
             }
            },
            "type": "scattergl"
           }
          ],
          "scattermapbox": [
           {
            "marker": {
             "colorbar": {
              "outlinewidth": 0,
              "ticks": ""
             }
            },
            "type": "scattermapbox"
           }
          ],
          "scatterpolar": [
           {
            "marker": {
             "colorbar": {
              "outlinewidth": 0,
              "ticks": ""
             }
            },
            "type": "scatterpolar"
           }
          ],
          "scatterpolargl": [
           {
            "marker": {
             "colorbar": {
              "outlinewidth": 0,
              "ticks": ""
             }
            },
            "type": "scatterpolargl"
           }
          ],
          "scatterternary": [
           {
            "marker": {
             "colorbar": {
              "outlinewidth": 0,
              "ticks": ""
             }
            },
            "type": "scatterternary"
           }
          ],
          "surface": [
           {
            "colorbar": {
             "outlinewidth": 0,
             "ticks": ""
            },
            "colorscale": [
             [
              0,
              "#0d0887"
             ],
             [
              0.1111111111111111,
              "#46039f"
             ],
             [
              0.2222222222222222,
              "#7201a8"
             ],
             [
              0.3333333333333333,
              "#9c179e"
             ],
             [
              0.4444444444444444,
              "#bd3786"
             ],
             [
              0.5555555555555556,
              "#d8576b"
             ],
             [
              0.6666666666666666,
              "#ed7953"
             ],
             [
              0.7777777777777778,
              "#fb9f3a"
             ],
             [
              0.8888888888888888,
              "#fdca26"
             ],
             [
              1,
              "#f0f921"
             ]
            ],
            "type": "surface"
           }
          ],
          "table": [
           {
            "cells": {
             "fill": {
              "color": "#EBF0F8"
             },
             "line": {
              "color": "white"
             }
            },
            "header": {
             "fill": {
              "color": "#C8D4E3"
             },
             "line": {
              "color": "white"
             }
            },
            "type": "table"
           }
          ]
         },
         "layout": {
          "annotationdefaults": {
           "arrowcolor": "#2a3f5f",
           "arrowhead": 0,
           "arrowwidth": 1
          },
          "autotypenumbers": "strict",
          "coloraxis": {
           "colorbar": {
            "outlinewidth": 0,
            "ticks": ""
           }
          },
          "colorscale": {
           "diverging": [
            [
             0,
             "#8e0152"
            ],
            [
             0.1,
             "#c51b7d"
            ],
            [
             0.2,
             "#de77ae"
            ],
            [
             0.3,
             "#f1b6da"
            ],
            [
             0.4,
             "#fde0ef"
            ],
            [
             0.5,
             "#f7f7f7"
            ],
            [
             0.6,
             "#e6f5d0"
            ],
            [
             0.7,
             "#b8e186"
            ],
            [
             0.8,
             "#7fbc41"
            ],
            [
             0.9,
             "#4d9221"
            ],
            [
             1,
             "#276419"
            ]
           ],
           "sequential": [
            [
             0,
             "#0d0887"
            ],
            [
             0.1111111111111111,
             "#46039f"
            ],
            [
             0.2222222222222222,
             "#7201a8"
            ],
            [
             0.3333333333333333,
             "#9c179e"
            ],
            [
             0.4444444444444444,
             "#bd3786"
            ],
            [
             0.5555555555555556,
             "#d8576b"
            ],
            [
             0.6666666666666666,
             "#ed7953"
            ],
            [
             0.7777777777777778,
             "#fb9f3a"
            ],
            [
             0.8888888888888888,
             "#fdca26"
            ],
            [
             1,
             "#f0f921"
            ]
           ],
           "sequentialminus": [
            [
             0,
             "#0d0887"
            ],
            [
             0.1111111111111111,
             "#46039f"
            ],
            [
             0.2222222222222222,
             "#7201a8"
            ],
            [
             0.3333333333333333,
             "#9c179e"
            ],
            [
             0.4444444444444444,
             "#bd3786"
            ],
            [
             0.5555555555555556,
             "#d8576b"
            ],
            [
             0.6666666666666666,
             "#ed7953"
            ],
            [
             0.7777777777777778,
             "#fb9f3a"
            ],
            [
             0.8888888888888888,
             "#fdca26"
            ],
            [
             1,
             "#f0f921"
            ]
           ]
          },
          "colorway": [
           "#636efa",
           "#EF553B",
           "#00cc96",
           "#ab63fa",
           "#FFA15A",
           "#19d3f3",
           "#FF6692",
           "#B6E880",
           "#FF97FF",
           "#FECB52"
          ],
          "font": {
           "color": "#2a3f5f"
          },
          "geo": {
           "bgcolor": "white",
           "lakecolor": "white",
           "landcolor": "#E5ECF6",
           "showlakes": true,
           "showland": true,
           "subunitcolor": "white"
          },
          "hoverlabel": {
           "align": "left"
          },
          "hovermode": "closest",
          "mapbox": {
           "style": "light"
          },
          "paper_bgcolor": "white",
          "plot_bgcolor": "#E5ECF6",
          "polar": {
           "angularaxis": {
            "gridcolor": "white",
            "linecolor": "white",
            "ticks": ""
           },
           "bgcolor": "#E5ECF6",
           "radialaxis": {
            "gridcolor": "white",
            "linecolor": "white",
            "ticks": ""
           }
          },
          "scene": {
           "xaxis": {
            "backgroundcolor": "#E5ECF6",
            "gridcolor": "white",
            "gridwidth": 2,
            "linecolor": "white",
            "showbackground": true,
            "ticks": "",
            "zerolinecolor": "white"
           },
           "yaxis": {
            "backgroundcolor": "#E5ECF6",
            "gridcolor": "white",
            "gridwidth": 2,
            "linecolor": "white",
            "showbackground": true,
            "ticks": "",
            "zerolinecolor": "white"
           },
           "zaxis": {
            "backgroundcolor": "#E5ECF6",
            "gridcolor": "white",
            "gridwidth": 2,
            "linecolor": "white",
            "showbackground": true,
            "ticks": "",
            "zerolinecolor": "white"
           }
          },
          "shapedefaults": {
           "line": {
            "color": "#2a3f5f"
           }
          },
          "ternary": {
           "aaxis": {
            "gridcolor": "white",
            "linecolor": "white",
            "ticks": ""
           },
           "baxis": {
            "gridcolor": "white",
            "linecolor": "white",
            "ticks": ""
           },
           "bgcolor": "#E5ECF6",
           "caxis": {
            "gridcolor": "white",
            "linecolor": "white",
            "ticks": ""
           }
          },
          "title": {
           "x": 0.05
          },
          "xaxis": {
           "automargin": true,
           "gridcolor": "white",
           "linecolor": "white",
           "ticks": "",
           "title": {
            "standoff": 15
           },
           "zerolinecolor": "white",
           "zerolinewidth": 2
          },
          "yaxis": {
           "automargin": true,
           "gridcolor": "white",
           "linecolor": "white",
           "ticks": "",
           "title": {
            "standoff": 15
           },
           "zerolinecolor": "white",
           "zerolinewidth": 2
          }
         }
        },
        "title": {
         "text": "Incidenza casi ogni 100 soggetti"
        }
       }
      }
     },
     "metadata": {},
     "output_type": "display_data"
    },
    {
     "data": {
      "application/vnd.plotly.v1+json": {
       "config": {
        "plotlyServerURL": "https://plot.ly"
       },
       "data": [
        {
         "mode": "markers+lines",
         "name": "Non vaccinati",
         "type": "scatter",
         "x": [
          "2022-01-05",
          "2021-12-28",
          "2021-12-21",
          "2021-12-15",
          "2021-12-07",
          "2021-12-01",
          "2021-11-24",
          "2021-11-17",
          "2021-11-10",
          "2021-11-03",
          "2021-10-27",
          "2021-10-20",
          "2021-10-13",
          "2021-10-06",
          "2021-09-29",
          "2021-09-22",
          "2021-09-15",
          "2021-09-08",
          "2021-09-01",
          "2021-08-25",
          "2021-08-18",
          "2021-08-11",
          "2021-08-04",
          "2021-07-28",
          "2021-07-21",
          "2021-07-14"
         ],
         "y": [
          0.12428938616988548,
          0.10265115997701219,
          0.08453206793113026,
          0.07095443136328305,
          0.06036982759353689,
          0.050414613944657904,
          0.049261713630071556,
          0.04095354608742921,
          0.03480726231246684,
          0.031046498465121457,
          0.030818436943040706,
          0.03455000349976478,
          0.04146624406154196,
          0.04773961512585475,
          0.052262650361172246,
          0.0539061448077064,
          0.05130433452255996,
          0.045348863659079114,
          0.0382457367787624,
          0.030893844751547536,
          0.02306423634580986,
          0.01509141995450825,
          0.01049330708785317,
          0.007076306580567378,
          0.005992923339518747,
          0.006946224363120825
         ]
        },
        {
         "mode": "markers+lines",
         "name": "Vaccinati",
         "type": "scatter",
         "x": [
          "2022-01-05",
          "2021-12-28",
          "2021-12-21",
          "2021-12-15",
          "2021-12-07",
          "2021-12-01",
          "2021-11-24",
          "2021-11-17",
          "2021-11-10",
          "2021-11-03",
          "2021-10-27",
          "2021-10-20",
          "2021-10-13",
          "2021-10-06",
          "2021-09-29",
          "2021-09-22",
          "2021-09-15",
          "2021-09-08",
          "2021-09-01",
          "2021-08-25",
          "2021-08-18",
          "2021-08-11",
          "2021-08-04",
          "2021-07-28",
          "2021-07-21",
          "2021-07-14"
         ],
         "y": [
          0.017615989262002568,
          0.015842963684854633,
          0.01403820114701603,
          0.012040621358794391,
          0.010347216608739229,
          0.008616398263059603,
          0.008354965635707345,
          0.006714752620257251,
          0.0055804627558780585,
          0.004773536246196549,
          0.004330165505128598,
          0.004775029284932034,
          0.0053538636559931005,
          0.005869409975750642,
          0.0064621659293392355,
          0.0067598425826429975,
          0.006547786835409117,
          0.006176353617299016,
          0.00553772210818479,
          0.004553021231659408,
          0.0036186696487422653,
          0.002805914115130818,
          0.0020643353167303547,
          0.0016101574250914513,
          0.0014560396916419942,
          0.0017229743044945005
         ]
        }
       ],
       "layout": {
        "template": {
         "data": {
          "bar": [
           {
            "error_x": {
             "color": "#2a3f5f"
            },
            "error_y": {
             "color": "#2a3f5f"
            },
            "marker": {
             "line": {
              "color": "#E5ECF6",
              "width": 0.5
             }
            },
            "type": "bar"
           }
          ],
          "barpolar": [
           {
            "marker": {
             "line": {
              "color": "#E5ECF6",
              "width": 0.5
             }
            },
            "type": "barpolar"
           }
          ],
          "carpet": [
           {
            "aaxis": {
             "endlinecolor": "#2a3f5f",
             "gridcolor": "white",
             "linecolor": "white",
             "minorgridcolor": "white",
             "startlinecolor": "#2a3f5f"
            },
            "baxis": {
             "endlinecolor": "#2a3f5f",
             "gridcolor": "white",
             "linecolor": "white",
             "minorgridcolor": "white",
             "startlinecolor": "#2a3f5f"
            },
            "type": "carpet"
           }
          ],
          "choropleth": [
           {
            "colorbar": {
             "outlinewidth": 0,
             "ticks": ""
            },
            "type": "choropleth"
           }
          ],
          "contour": [
           {
            "colorbar": {
             "outlinewidth": 0,
             "ticks": ""
            },
            "colorscale": [
             [
              0,
              "#0d0887"
             ],
             [
              0.1111111111111111,
              "#46039f"
             ],
             [
              0.2222222222222222,
              "#7201a8"
             ],
             [
              0.3333333333333333,
              "#9c179e"
             ],
             [
              0.4444444444444444,
              "#bd3786"
             ],
             [
              0.5555555555555556,
              "#d8576b"
             ],
             [
              0.6666666666666666,
              "#ed7953"
             ],
             [
              0.7777777777777778,
              "#fb9f3a"
             ],
             [
              0.8888888888888888,
              "#fdca26"
             ],
             [
              1,
              "#f0f921"
             ]
            ],
            "type": "contour"
           }
          ],
          "contourcarpet": [
           {
            "colorbar": {
             "outlinewidth": 0,
             "ticks": ""
            },
            "type": "contourcarpet"
           }
          ],
          "heatmap": [
           {
            "colorbar": {
             "outlinewidth": 0,
             "ticks": ""
            },
            "colorscale": [
             [
              0,
              "#0d0887"
             ],
             [
              0.1111111111111111,
              "#46039f"
             ],
             [
              0.2222222222222222,
              "#7201a8"
             ],
             [
              0.3333333333333333,
              "#9c179e"
             ],
             [
              0.4444444444444444,
              "#bd3786"
             ],
             [
              0.5555555555555556,
              "#d8576b"
             ],
             [
              0.6666666666666666,
              "#ed7953"
             ],
             [
              0.7777777777777778,
              "#fb9f3a"
             ],
             [
              0.8888888888888888,
              "#fdca26"
             ],
             [
              1,
              "#f0f921"
             ]
            ],
            "type": "heatmap"
           }
          ],
          "heatmapgl": [
           {
            "colorbar": {
             "outlinewidth": 0,
             "ticks": ""
            },
            "colorscale": [
             [
              0,
              "#0d0887"
             ],
             [
              0.1111111111111111,
              "#46039f"
             ],
             [
              0.2222222222222222,
              "#7201a8"
             ],
             [
              0.3333333333333333,
              "#9c179e"
             ],
             [
              0.4444444444444444,
              "#bd3786"
             ],
             [
              0.5555555555555556,
              "#d8576b"
             ],
             [
              0.6666666666666666,
              "#ed7953"
             ],
             [
              0.7777777777777778,
              "#fb9f3a"
             ],
             [
              0.8888888888888888,
              "#fdca26"
             ],
             [
              1,
              "#f0f921"
             ]
            ],
            "type": "heatmapgl"
           }
          ],
          "histogram": [
           {
            "marker": {
             "colorbar": {
              "outlinewidth": 0,
              "ticks": ""
             }
            },
            "type": "histogram"
           }
          ],
          "histogram2d": [
           {
            "colorbar": {
             "outlinewidth": 0,
             "ticks": ""
            },
            "colorscale": [
             [
              0,
              "#0d0887"
             ],
             [
              0.1111111111111111,
              "#46039f"
             ],
             [
              0.2222222222222222,
              "#7201a8"
             ],
             [
              0.3333333333333333,
              "#9c179e"
             ],
             [
              0.4444444444444444,
              "#bd3786"
             ],
             [
              0.5555555555555556,
              "#d8576b"
             ],
             [
              0.6666666666666666,
              "#ed7953"
             ],
             [
              0.7777777777777778,
              "#fb9f3a"
             ],
             [
              0.8888888888888888,
              "#fdca26"
             ],
             [
              1,
              "#f0f921"
             ]
            ],
            "type": "histogram2d"
           }
          ],
          "histogram2dcontour": [
           {
            "colorbar": {
             "outlinewidth": 0,
             "ticks": ""
            },
            "colorscale": [
             [
              0,
              "#0d0887"
             ],
             [
              0.1111111111111111,
              "#46039f"
             ],
             [
              0.2222222222222222,
              "#7201a8"
             ],
             [
              0.3333333333333333,
              "#9c179e"
             ],
             [
              0.4444444444444444,
              "#bd3786"
             ],
             [
              0.5555555555555556,
              "#d8576b"
             ],
             [
              0.6666666666666666,
              "#ed7953"
             ],
             [
              0.7777777777777778,
              "#fb9f3a"
             ],
             [
              0.8888888888888888,
              "#fdca26"
             ],
             [
              1,
              "#f0f921"
             ]
            ],
            "type": "histogram2dcontour"
           }
          ],
          "mesh3d": [
           {
            "colorbar": {
             "outlinewidth": 0,
             "ticks": ""
            },
            "type": "mesh3d"
           }
          ],
          "parcoords": [
           {
            "line": {
             "colorbar": {
              "outlinewidth": 0,
              "ticks": ""
             }
            },
            "type": "parcoords"
           }
          ],
          "pie": [
           {
            "automargin": true,
            "type": "pie"
           }
          ],
          "scatter": [
           {
            "marker": {
             "colorbar": {
              "outlinewidth": 0,
              "ticks": ""
             }
            },
            "type": "scatter"
           }
          ],
          "scatter3d": [
           {
            "line": {
             "colorbar": {
              "outlinewidth": 0,
              "ticks": ""
             }
            },
            "marker": {
             "colorbar": {
              "outlinewidth": 0,
              "ticks": ""
             }
            },
            "type": "scatter3d"
           }
          ],
          "scattercarpet": [
           {
            "marker": {
             "colorbar": {
              "outlinewidth": 0,
              "ticks": ""
             }
            },
            "type": "scattercarpet"
           }
          ],
          "scattergeo": [
           {
            "marker": {
             "colorbar": {
              "outlinewidth": 0,
              "ticks": ""
             }
            },
            "type": "scattergeo"
           }
          ],
          "scattergl": [
           {
            "marker": {
             "colorbar": {
              "outlinewidth": 0,
              "ticks": ""
             }
            },
            "type": "scattergl"
           }
          ],
          "scattermapbox": [
           {
            "marker": {
             "colorbar": {
              "outlinewidth": 0,
              "ticks": ""
             }
            },
            "type": "scattermapbox"
           }
          ],
          "scatterpolar": [
           {
            "marker": {
             "colorbar": {
              "outlinewidth": 0,
              "ticks": ""
             }
            },
            "type": "scatterpolar"
           }
          ],
          "scatterpolargl": [
           {
            "marker": {
             "colorbar": {
              "outlinewidth": 0,
              "ticks": ""
             }
            },
            "type": "scatterpolargl"
           }
          ],
          "scatterternary": [
           {
            "marker": {
             "colorbar": {
              "outlinewidth": 0,
              "ticks": ""
             }
            },
            "type": "scatterternary"
           }
          ],
          "surface": [
           {
            "colorbar": {
             "outlinewidth": 0,
             "ticks": ""
            },
            "colorscale": [
             [
              0,
              "#0d0887"
             ],
             [
              0.1111111111111111,
              "#46039f"
             ],
             [
              0.2222222222222222,
              "#7201a8"
             ],
             [
              0.3333333333333333,
              "#9c179e"
             ],
             [
              0.4444444444444444,
              "#bd3786"
             ],
             [
              0.5555555555555556,
              "#d8576b"
             ],
             [
              0.6666666666666666,
              "#ed7953"
             ],
             [
              0.7777777777777778,
              "#fb9f3a"
             ],
             [
              0.8888888888888888,
              "#fdca26"
             ],
             [
              1,
              "#f0f921"
             ]
            ],
            "type": "surface"
           }
          ],
          "table": [
           {
            "cells": {
             "fill": {
              "color": "#EBF0F8"
             },
             "line": {
              "color": "white"
             }
            },
            "header": {
             "fill": {
              "color": "#C8D4E3"
             },
             "line": {
              "color": "white"
             }
            },
            "type": "table"
           }
          ]
         },
         "layout": {
          "annotationdefaults": {
           "arrowcolor": "#2a3f5f",
           "arrowhead": 0,
           "arrowwidth": 1
          },
          "autotypenumbers": "strict",
          "coloraxis": {
           "colorbar": {
            "outlinewidth": 0,
            "ticks": ""
           }
          },
          "colorscale": {
           "diverging": [
            [
             0,
             "#8e0152"
            ],
            [
             0.1,
             "#c51b7d"
            ],
            [
             0.2,
             "#de77ae"
            ],
            [
             0.3,
             "#f1b6da"
            ],
            [
             0.4,
             "#fde0ef"
            ],
            [
             0.5,
             "#f7f7f7"
            ],
            [
             0.6,
             "#e6f5d0"
            ],
            [
             0.7,
             "#b8e186"
            ],
            [
             0.8,
             "#7fbc41"
            ],
            [
             0.9,
             "#4d9221"
            ],
            [
             1,
             "#276419"
            ]
           ],
           "sequential": [
            [
             0,
             "#0d0887"
            ],
            [
             0.1111111111111111,
             "#46039f"
            ],
            [
             0.2222222222222222,
             "#7201a8"
            ],
            [
             0.3333333333333333,
             "#9c179e"
            ],
            [
             0.4444444444444444,
             "#bd3786"
            ],
            [
             0.5555555555555556,
             "#d8576b"
            ],
            [
             0.6666666666666666,
             "#ed7953"
            ],
            [
             0.7777777777777778,
             "#fb9f3a"
            ],
            [
             0.8888888888888888,
             "#fdca26"
            ],
            [
             1,
             "#f0f921"
            ]
           ],
           "sequentialminus": [
            [
             0,
             "#0d0887"
            ],
            [
             0.1111111111111111,
             "#46039f"
            ],
            [
             0.2222222222222222,
             "#7201a8"
            ],
            [
             0.3333333333333333,
             "#9c179e"
            ],
            [
             0.4444444444444444,
             "#bd3786"
            ],
            [
             0.5555555555555556,
             "#d8576b"
            ],
            [
             0.6666666666666666,
             "#ed7953"
            ],
            [
             0.7777777777777778,
             "#fb9f3a"
            ],
            [
             0.8888888888888888,
             "#fdca26"
            ],
            [
             1,
             "#f0f921"
            ]
           ]
          },
          "colorway": [
           "#636efa",
           "#EF553B",
           "#00cc96",
           "#ab63fa",
           "#FFA15A",
           "#19d3f3",
           "#FF6692",
           "#B6E880",
           "#FF97FF",
           "#FECB52"
          ],
          "font": {
           "color": "#2a3f5f"
          },
          "geo": {
           "bgcolor": "white",
           "lakecolor": "white",
           "landcolor": "#E5ECF6",
           "showlakes": true,
           "showland": true,
           "subunitcolor": "white"
          },
          "hoverlabel": {
           "align": "left"
          },
          "hovermode": "closest",
          "mapbox": {
           "style": "light"
          },
          "paper_bgcolor": "white",
          "plot_bgcolor": "#E5ECF6",
          "polar": {
           "angularaxis": {
            "gridcolor": "white",
            "linecolor": "white",
            "ticks": ""
           },
           "bgcolor": "#E5ECF6",
           "radialaxis": {
            "gridcolor": "white",
            "linecolor": "white",
            "ticks": ""
           }
          },
          "scene": {
           "xaxis": {
            "backgroundcolor": "#E5ECF6",
            "gridcolor": "white",
            "gridwidth": 2,
            "linecolor": "white",
            "showbackground": true,
            "ticks": "",
            "zerolinecolor": "white"
           },
           "yaxis": {
            "backgroundcolor": "#E5ECF6",
            "gridcolor": "white",
            "gridwidth": 2,
            "linecolor": "white",
            "showbackground": true,
            "ticks": "",
            "zerolinecolor": "white"
           },
           "zaxis": {
            "backgroundcolor": "#E5ECF6",
            "gridcolor": "white",
            "gridwidth": 2,
            "linecolor": "white",
            "showbackground": true,
            "ticks": "",
            "zerolinecolor": "white"
           }
          },
          "shapedefaults": {
           "line": {
            "color": "#2a3f5f"
           }
          },
          "ternary": {
           "aaxis": {
            "gridcolor": "white",
            "linecolor": "white",
            "ticks": ""
           },
           "baxis": {
            "gridcolor": "white",
            "linecolor": "white",
            "ticks": ""
           },
           "bgcolor": "#E5ECF6",
           "caxis": {
            "gridcolor": "white",
            "linecolor": "white",
            "ticks": ""
           }
          },
          "title": {
           "x": 0.05
          },
          "xaxis": {
           "automargin": true,
           "gridcolor": "white",
           "linecolor": "white",
           "ticks": "",
           "title": {
            "standoff": 15
           },
           "zerolinecolor": "white",
           "zerolinewidth": 2
          },
          "yaxis": {
           "automargin": true,
           "gridcolor": "white",
           "linecolor": "white",
           "ticks": "",
           "title": {
            "standoff": 15
           },
           "zerolinecolor": "white",
           "zerolinewidth": 2
          }
         }
        },
        "title": {
         "text": "Incidenza ospedalizzati ogni 100 soggetti"
        }
       }
      }
     },
     "metadata": {},
     "output_type": "display_data"
    },
    {
     "data": {
      "application/vnd.plotly.v1+json": {
       "config": {
        "plotlyServerURL": "https://plot.ly"
       },
       "data": [
        {
         "mode": "markers+lines",
         "name": "Non vaccinati",
         "type": "scatter",
         "x": [
          "2022-01-05",
          "2021-12-28",
          "2021-12-21",
          "2021-12-15",
          "2021-12-07",
          "2021-12-01",
          "2021-11-24",
          "2021-11-17",
          "2021-11-10",
          "2021-11-03",
          "2021-10-27",
          "2021-10-20",
          "2021-10-13",
          "2021-10-06",
          "2021-09-29",
          "2021-09-22",
          "2021-09-15",
          "2021-09-08",
          "2021-09-01",
          "2021-08-25",
          "2021-08-18",
          "2021-08-11",
          "2021-08-04",
          "2021-07-28",
          "2021-07-21",
          "2021-07-14"
         ],
         "y": [
          0.01804733536798772,
          0.01506539194449421,
          0.012614391698336565,
          0.010431600123671019,
          0.008475364255521535,
          0.007373795664019078,
          0.006709716948810923,
          0.0053926408512639705,
          0.004456293098827935,
          0.003673528564678689,
          0.003596387017606156,
          0.004211926221702774,
          0.004996517475829226,
          0.005519664535990863,
          0.006083168881324756,
          0.00616002097109591,
          0.005894636300940232,
          0.004907796158270912,
          0.004094107761387225,
          0.0029924297512153755,
          0.001901148800469026,
          0.0012153833481459203,
          0.000793808817299546,
          0.0005376069854291461,
          0.00047280649408205894,
          0.0005431356283929581
         ]
        },
        {
         "mode": "markers+lines",
         "name": "Vaccinati",
         "type": "scatter",
         "x": [
          "2022-01-05",
          "2021-12-28",
          "2021-12-21",
          "2021-12-15",
          "2021-12-07",
          "2021-12-01",
          "2021-11-24",
          "2021-11-17",
          "2021-11-10",
          "2021-11-03",
          "2021-10-27",
          "2021-10-20",
          "2021-10-13",
          "2021-10-06",
          "2021-09-29",
          "2021-09-22",
          "2021-09-15",
          "2021-09-08",
          "2021-09-01",
          "2021-08-25",
          "2021-08-18",
          "2021-08-11",
          "2021-08-04",
          "2021-07-28",
          "2021-07-21",
          "2021-07-14"
         ],
         "y": [
          0.0013414631535246901,
          0.0012163293463956731,
          0.0010247183168091275,
          0.000896806507369386,
          0.0007916632522482625,
          0.0006386667113061084,
          0.0006108423291743794,
          0.0005122972026354307,
          0.0004123380533608528,
          0.0003280780925220996,
          0.0003053780631716036,
          0.00035433943004869236,
          0.0003890524457003894,
          0.00044771072566351895,
          0.0004650193844933941,
          0.00047616154999887566,
          0.0004578675479072012,
          0.00045783168928987037,
          0.0003933393220019398,
          0.00032063529800418366,
          0.00023017606733397099,
          0.0001521548323994383,
          0.00011752404030890631,
          0.0000920089957195115,
          0.00005200141755864265,
          0.00005025341721442293
         ]
        }
       ],
       "layout": {
        "template": {
         "data": {
          "bar": [
           {
            "error_x": {
             "color": "#2a3f5f"
            },
            "error_y": {
             "color": "#2a3f5f"
            },
            "marker": {
             "line": {
              "color": "#E5ECF6",
              "width": 0.5
             }
            },
            "type": "bar"
           }
          ],
          "barpolar": [
           {
            "marker": {
             "line": {
              "color": "#E5ECF6",
              "width": 0.5
             }
            },
            "type": "barpolar"
           }
          ],
          "carpet": [
           {
            "aaxis": {
             "endlinecolor": "#2a3f5f",
             "gridcolor": "white",
             "linecolor": "white",
             "minorgridcolor": "white",
             "startlinecolor": "#2a3f5f"
            },
            "baxis": {
             "endlinecolor": "#2a3f5f",
             "gridcolor": "white",
             "linecolor": "white",
             "minorgridcolor": "white",
             "startlinecolor": "#2a3f5f"
            },
            "type": "carpet"
           }
          ],
          "choropleth": [
           {
            "colorbar": {
             "outlinewidth": 0,
             "ticks": ""
            },
            "type": "choropleth"
           }
          ],
          "contour": [
           {
            "colorbar": {
             "outlinewidth": 0,
             "ticks": ""
            },
            "colorscale": [
             [
              0,
              "#0d0887"
             ],
             [
              0.1111111111111111,
              "#46039f"
             ],
             [
              0.2222222222222222,
              "#7201a8"
             ],
             [
              0.3333333333333333,
              "#9c179e"
             ],
             [
              0.4444444444444444,
              "#bd3786"
             ],
             [
              0.5555555555555556,
              "#d8576b"
             ],
             [
              0.6666666666666666,
              "#ed7953"
             ],
             [
              0.7777777777777778,
              "#fb9f3a"
             ],
             [
              0.8888888888888888,
              "#fdca26"
             ],
             [
              1,
              "#f0f921"
             ]
            ],
            "type": "contour"
           }
          ],
          "contourcarpet": [
           {
            "colorbar": {
             "outlinewidth": 0,
             "ticks": ""
            },
            "type": "contourcarpet"
           }
          ],
          "heatmap": [
           {
            "colorbar": {
             "outlinewidth": 0,
             "ticks": ""
            },
            "colorscale": [
             [
              0,
              "#0d0887"
             ],
             [
              0.1111111111111111,
              "#46039f"
             ],
             [
              0.2222222222222222,
              "#7201a8"
             ],
             [
              0.3333333333333333,
              "#9c179e"
             ],
             [
              0.4444444444444444,
              "#bd3786"
             ],
             [
              0.5555555555555556,
              "#d8576b"
             ],
             [
              0.6666666666666666,
              "#ed7953"
             ],
             [
              0.7777777777777778,
              "#fb9f3a"
             ],
             [
              0.8888888888888888,
              "#fdca26"
             ],
             [
              1,
              "#f0f921"
             ]
            ],
            "type": "heatmap"
           }
          ],
          "heatmapgl": [
           {
            "colorbar": {
             "outlinewidth": 0,
             "ticks": ""
            },
            "colorscale": [
             [
              0,
              "#0d0887"
             ],
             [
              0.1111111111111111,
              "#46039f"
             ],
             [
              0.2222222222222222,
              "#7201a8"
             ],
             [
              0.3333333333333333,
              "#9c179e"
             ],
             [
              0.4444444444444444,
              "#bd3786"
             ],
             [
              0.5555555555555556,
              "#d8576b"
             ],
             [
              0.6666666666666666,
              "#ed7953"
             ],
             [
              0.7777777777777778,
              "#fb9f3a"
             ],
             [
              0.8888888888888888,
              "#fdca26"
             ],
             [
              1,
              "#f0f921"
             ]
            ],
            "type": "heatmapgl"
           }
          ],
          "histogram": [
           {
            "marker": {
             "colorbar": {
              "outlinewidth": 0,
              "ticks": ""
             }
            },
            "type": "histogram"
           }
          ],
          "histogram2d": [
           {
            "colorbar": {
             "outlinewidth": 0,
             "ticks": ""
            },
            "colorscale": [
             [
              0,
              "#0d0887"
             ],
             [
              0.1111111111111111,
              "#46039f"
             ],
             [
              0.2222222222222222,
              "#7201a8"
             ],
             [
              0.3333333333333333,
              "#9c179e"
             ],
             [
              0.4444444444444444,
              "#bd3786"
             ],
             [
              0.5555555555555556,
              "#d8576b"
             ],
             [
              0.6666666666666666,
              "#ed7953"
             ],
             [
              0.7777777777777778,
              "#fb9f3a"
             ],
             [
              0.8888888888888888,
              "#fdca26"
             ],
             [
              1,
              "#f0f921"
             ]
            ],
            "type": "histogram2d"
           }
          ],
          "histogram2dcontour": [
           {
            "colorbar": {
             "outlinewidth": 0,
             "ticks": ""
            },
            "colorscale": [
             [
              0,
              "#0d0887"
             ],
             [
              0.1111111111111111,
              "#46039f"
             ],
             [
              0.2222222222222222,
              "#7201a8"
             ],
             [
              0.3333333333333333,
              "#9c179e"
             ],
             [
              0.4444444444444444,
              "#bd3786"
             ],
             [
              0.5555555555555556,
              "#d8576b"
             ],
             [
              0.6666666666666666,
              "#ed7953"
             ],
             [
              0.7777777777777778,
              "#fb9f3a"
             ],
             [
              0.8888888888888888,
              "#fdca26"
             ],
             [
              1,
              "#f0f921"
             ]
            ],
            "type": "histogram2dcontour"
           }
          ],
          "mesh3d": [
           {
            "colorbar": {
             "outlinewidth": 0,
             "ticks": ""
            },
            "type": "mesh3d"
           }
          ],
          "parcoords": [
           {
            "line": {
             "colorbar": {
              "outlinewidth": 0,
              "ticks": ""
             }
            },
            "type": "parcoords"
           }
          ],
          "pie": [
           {
            "automargin": true,
            "type": "pie"
           }
          ],
          "scatter": [
           {
            "marker": {
             "colorbar": {
              "outlinewidth": 0,
              "ticks": ""
             }
            },
            "type": "scatter"
           }
          ],
          "scatter3d": [
           {
            "line": {
             "colorbar": {
              "outlinewidth": 0,
              "ticks": ""
             }
            },
            "marker": {
             "colorbar": {
              "outlinewidth": 0,
              "ticks": ""
             }
            },
            "type": "scatter3d"
           }
          ],
          "scattercarpet": [
           {
            "marker": {
             "colorbar": {
              "outlinewidth": 0,
              "ticks": ""
             }
            },
            "type": "scattercarpet"
           }
          ],
          "scattergeo": [
           {
            "marker": {
             "colorbar": {
              "outlinewidth": 0,
              "ticks": ""
             }
            },
            "type": "scattergeo"
           }
          ],
          "scattergl": [
           {
            "marker": {
             "colorbar": {
              "outlinewidth": 0,
              "ticks": ""
             }
            },
            "type": "scattergl"
           }
          ],
          "scattermapbox": [
           {
            "marker": {
             "colorbar": {
              "outlinewidth": 0,
              "ticks": ""
             }
            },
            "type": "scattermapbox"
           }
          ],
          "scatterpolar": [
           {
            "marker": {
             "colorbar": {
              "outlinewidth": 0,
              "ticks": ""
             }
            },
            "type": "scatterpolar"
           }
          ],
          "scatterpolargl": [
           {
            "marker": {
             "colorbar": {
              "outlinewidth": 0,
              "ticks": ""
             }
            },
            "type": "scatterpolargl"
           }
          ],
          "scatterternary": [
           {
            "marker": {
             "colorbar": {
              "outlinewidth": 0,
              "ticks": ""
             }
            },
            "type": "scatterternary"
           }
          ],
          "surface": [
           {
            "colorbar": {
             "outlinewidth": 0,
             "ticks": ""
            },
            "colorscale": [
             [
              0,
              "#0d0887"
             ],
             [
              0.1111111111111111,
              "#46039f"
             ],
             [
              0.2222222222222222,
              "#7201a8"
             ],
             [
              0.3333333333333333,
              "#9c179e"
             ],
             [
              0.4444444444444444,
              "#bd3786"
             ],
             [
              0.5555555555555556,
              "#d8576b"
             ],
             [
              0.6666666666666666,
              "#ed7953"
             ],
             [
              0.7777777777777778,
              "#fb9f3a"
             ],
             [
              0.8888888888888888,
              "#fdca26"
             ],
             [
              1,
              "#f0f921"
             ]
            ],
            "type": "surface"
           }
          ],
          "table": [
           {
            "cells": {
             "fill": {
              "color": "#EBF0F8"
             },
             "line": {
              "color": "white"
             }
            },
            "header": {
             "fill": {
              "color": "#C8D4E3"
             },
             "line": {
              "color": "white"
             }
            },
            "type": "table"
           }
          ]
         },
         "layout": {
          "annotationdefaults": {
           "arrowcolor": "#2a3f5f",
           "arrowhead": 0,
           "arrowwidth": 1
          },
          "autotypenumbers": "strict",
          "coloraxis": {
           "colorbar": {
            "outlinewidth": 0,
            "ticks": ""
           }
          },
          "colorscale": {
           "diverging": [
            [
             0,
             "#8e0152"
            ],
            [
             0.1,
             "#c51b7d"
            ],
            [
             0.2,
             "#de77ae"
            ],
            [
             0.3,
             "#f1b6da"
            ],
            [
             0.4,
             "#fde0ef"
            ],
            [
             0.5,
             "#f7f7f7"
            ],
            [
             0.6,
             "#e6f5d0"
            ],
            [
             0.7,
             "#b8e186"
            ],
            [
             0.8,
             "#7fbc41"
            ],
            [
             0.9,
             "#4d9221"
            ],
            [
             1,
             "#276419"
            ]
           ],
           "sequential": [
            [
             0,
             "#0d0887"
            ],
            [
             0.1111111111111111,
             "#46039f"
            ],
            [
             0.2222222222222222,
             "#7201a8"
            ],
            [
             0.3333333333333333,
             "#9c179e"
            ],
            [
             0.4444444444444444,
             "#bd3786"
            ],
            [
             0.5555555555555556,
             "#d8576b"
            ],
            [
             0.6666666666666666,
             "#ed7953"
            ],
            [
             0.7777777777777778,
             "#fb9f3a"
            ],
            [
             0.8888888888888888,
             "#fdca26"
            ],
            [
             1,
             "#f0f921"
            ]
           ],
           "sequentialminus": [
            [
             0,
             "#0d0887"
            ],
            [
             0.1111111111111111,
             "#46039f"
            ],
            [
             0.2222222222222222,
             "#7201a8"
            ],
            [
             0.3333333333333333,
             "#9c179e"
            ],
            [
             0.4444444444444444,
             "#bd3786"
            ],
            [
             0.5555555555555556,
             "#d8576b"
            ],
            [
             0.6666666666666666,
             "#ed7953"
            ],
            [
             0.7777777777777778,
             "#fb9f3a"
            ],
            [
             0.8888888888888888,
             "#fdca26"
            ],
            [
             1,
             "#f0f921"
            ]
           ]
          },
          "colorway": [
           "#636efa",
           "#EF553B",
           "#00cc96",
           "#ab63fa",
           "#FFA15A",
           "#19d3f3",
           "#FF6692",
           "#B6E880",
           "#FF97FF",
           "#FECB52"
          ],
          "font": {
           "color": "#2a3f5f"
          },
          "geo": {
           "bgcolor": "white",
           "lakecolor": "white",
           "landcolor": "#E5ECF6",
           "showlakes": true,
           "showland": true,
           "subunitcolor": "white"
          },
          "hoverlabel": {
           "align": "left"
          },
          "hovermode": "closest",
          "mapbox": {
           "style": "light"
          },
          "paper_bgcolor": "white",
          "plot_bgcolor": "#E5ECF6",
          "polar": {
           "angularaxis": {
            "gridcolor": "white",
            "linecolor": "white",
            "ticks": ""
           },
           "bgcolor": "#E5ECF6",
           "radialaxis": {
            "gridcolor": "white",
            "linecolor": "white",
            "ticks": ""
           }
          },
          "scene": {
           "xaxis": {
            "backgroundcolor": "#E5ECF6",
            "gridcolor": "white",
            "gridwidth": 2,
            "linecolor": "white",
            "showbackground": true,
            "ticks": "",
            "zerolinecolor": "white"
           },
           "yaxis": {
            "backgroundcolor": "#E5ECF6",
            "gridcolor": "white",
            "gridwidth": 2,
            "linecolor": "white",
            "showbackground": true,
            "ticks": "",
            "zerolinecolor": "white"
           },
           "zaxis": {
            "backgroundcolor": "#E5ECF6",
            "gridcolor": "white",
            "gridwidth": 2,
            "linecolor": "white",
            "showbackground": true,
            "ticks": "",
            "zerolinecolor": "white"
           }
          },
          "shapedefaults": {
           "line": {
            "color": "#2a3f5f"
           }
          },
          "ternary": {
           "aaxis": {
            "gridcolor": "white",
            "linecolor": "white",
            "ticks": ""
           },
           "baxis": {
            "gridcolor": "white",
            "linecolor": "white",
            "ticks": ""
           },
           "bgcolor": "#E5ECF6",
           "caxis": {
            "gridcolor": "white",
            "linecolor": "white",
            "ticks": ""
           }
          },
          "title": {
           "x": 0.05
          },
          "xaxis": {
           "automargin": true,
           "gridcolor": "white",
           "linecolor": "white",
           "ticks": "",
           "title": {
            "standoff": 15
           },
           "zerolinecolor": "white",
           "zerolinewidth": 2
          },
          "yaxis": {
           "automargin": true,
           "gridcolor": "white",
           "linecolor": "white",
           "ticks": "",
           "title": {
            "standoff": 15
           },
           "zerolinecolor": "white",
           "zerolinewidth": 2
          }
         }
        },
        "title": {
         "text": "Incidenza terapia intensiva ogni 100 soggetti"
        }
       }
      }
     },
     "metadata": {},
     "output_type": "display_data"
    },
    {
     "data": {
      "application/vnd.plotly.v1+json": {
       "config": {
        "plotlyServerURL": "https://plot.ly"
       },
       "data": [
        {
         "mode": "markers+lines",
         "name": "Non vaccinati",
         "type": "scatter",
         "x": [
          "2022-01-05",
          "2021-12-28",
          "2021-12-21",
          "2021-12-15",
          "2021-12-07",
          "2021-12-01",
          "2021-11-24",
          "2021-11-17",
          "2021-11-10",
          "2021-11-03",
          "2021-10-27",
          "2021-10-20",
          "2021-10-13",
          "2021-10-06",
          "2021-09-29",
          "2021-09-22",
          "2021-09-15",
          "2021-09-08",
          "2021-09-01",
          "2021-08-25",
          "2021-08-18",
          "2021-08-11",
          "2021-08-04",
          "2021-07-28",
          "2021-07-21",
          "2021-07-14"
         ],
         "y": [
          0.017566873860686883,
          0.01445463281160931,
          0.011931763962688137,
          0.010082483653668642,
          0.008502792618808012,
          0.006955136935842171,
          0.005918787642467789,
          0.004883901148314539,
          0.0043478967802077955,
          0.004790557626665626,
          0.005535402909628752,
          0.006470495355079623,
          0.007519031152946893,
          0.008115003489999812,
          0.007864850143637447,
          0.006970759215033694,
          0.005774643704483434,
          0.003935887087602094,
          0.002446245355087842,
          0.0014722754375979647,
          0.0010074950230030467,
          0.0007036429910318487,
          0.00060122797996652,
          0.0007386632564026479,
          0.0010102702865001259,
          0.0013190436689543268
         ]
        },
        {
         "mode": "markers+lines",
         "name": "Vaccinati",
         "type": "scatter",
         "x": [
          "2022-01-05",
          "2021-12-28",
          "2021-12-21",
          "2021-12-15",
          "2021-12-07",
          "2021-12-01",
          "2021-11-24",
          "2021-11-17",
          "2021-11-10",
          "2021-11-03",
          "2021-10-27",
          "2021-10-20",
          "2021-10-13",
          "2021-10-06",
          "2021-09-29",
          "2021-09-22",
          "2021-09-15",
          "2021-09-08",
          "2021-09-01",
          "2021-08-25",
          "2021-08-18",
          "2021-08-11",
          "2021-08-04",
          "2021-07-28",
          "2021-07-21",
          "2021-07-14"
         ],
         "y": [
          0.0032531573869678558,
          0.0027657795227952063,
          0.002429857811317781,
          0.0021890030758696098,
          0.0017945849566414266,
          0.0015462457221095255,
          0.001255620343302891,
          0.0010154462409380856,
          0.0008895382724189184,
          0.0009912645224060582,
          0.0010998381806414787,
          0.0012487410258957366,
          0.0014507891200956457,
          0.0015009954964441677,
          0.001509976737004412,
          0.0014009608609793509,
          0.0011376463613645184,
          0.0008165151146570937,
          0.0005791689229477381,
          0.00031050997280405155,
          0.00018112215134476406,
          0.0001521548323994383,
          0.00017373119002186152,
          0.0002185213648338398,
          0.00029900815096219524,
          0.00048817605294010846
         ]
        }
       ],
       "layout": {
        "template": {
         "data": {
          "bar": [
           {
            "error_x": {
             "color": "#2a3f5f"
            },
            "error_y": {
             "color": "#2a3f5f"
            },
            "marker": {
             "line": {
              "color": "#E5ECF6",
              "width": 0.5
             }
            },
            "type": "bar"
           }
          ],
          "barpolar": [
           {
            "marker": {
             "line": {
              "color": "#E5ECF6",
              "width": 0.5
             }
            },
            "type": "barpolar"
           }
          ],
          "carpet": [
           {
            "aaxis": {
             "endlinecolor": "#2a3f5f",
             "gridcolor": "white",
             "linecolor": "white",
             "minorgridcolor": "white",
             "startlinecolor": "#2a3f5f"
            },
            "baxis": {
             "endlinecolor": "#2a3f5f",
             "gridcolor": "white",
             "linecolor": "white",
             "minorgridcolor": "white",
             "startlinecolor": "#2a3f5f"
            },
            "type": "carpet"
           }
          ],
          "choropleth": [
           {
            "colorbar": {
             "outlinewidth": 0,
             "ticks": ""
            },
            "type": "choropleth"
           }
          ],
          "contour": [
           {
            "colorbar": {
             "outlinewidth": 0,
             "ticks": ""
            },
            "colorscale": [
             [
              0,
              "#0d0887"
             ],
             [
              0.1111111111111111,
              "#46039f"
             ],
             [
              0.2222222222222222,
              "#7201a8"
             ],
             [
              0.3333333333333333,
              "#9c179e"
             ],
             [
              0.4444444444444444,
              "#bd3786"
             ],
             [
              0.5555555555555556,
              "#d8576b"
             ],
             [
              0.6666666666666666,
              "#ed7953"
             ],
             [
              0.7777777777777778,
              "#fb9f3a"
             ],
             [
              0.8888888888888888,
              "#fdca26"
             ],
             [
              1,
              "#f0f921"
             ]
            ],
            "type": "contour"
           }
          ],
          "contourcarpet": [
           {
            "colorbar": {
             "outlinewidth": 0,
             "ticks": ""
            },
            "type": "contourcarpet"
           }
          ],
          "heatmap": [
           {
            "colorbar": {
             "outlinewidth": 0,
             "ticks": ""
            },
            "colorscale": [
             [
              0,
              "#0d0887"
             ],
             [
              0.1111111111111111,
              "#46039f"
             ],
             [
              0.2222222222222222,
              "#7201a8"
             ],
             [
              0.3333333333333333,
              "#9c179e"
             ],
             [
              0.4444444444444444,
              "#bd3786"
             ],
             [
              0.5555555555555556,
              "#d8576b"
             ],
             [
              0.6666666666666666,
              "#ed7953"
             ],
             [
              0.7777777777777778,
              "#fb9f3a"
             ],
             [
              0.8888888888888888,
              "#fdca26"
             ],
             [
              1,
              "#f0f921"
             ]
            ],
            "type": "heatmap"
           }
          ],
          "heatmapgl": [
           {
            "colorbar": {
             "outlinewidth": 0,
             "ticks": ""
            },
            "colorscale": [
             [
              0,
              "#0d0887"
             ],
             [
              0.1111111111111111,
              "#46039f"
             ],
             [
              0.2222222222222222,
              "#7201a8"
             ],
             [
              0.3333333333333333,
              "#9c179e"
             ],
             [
              0.4444444444444444,
              "#bd3786"
             ],
             [
              0.5555555555555556,
              "#d8576b"
             ],
             [
              0.6666666666666666,
              "#ed7953"
             ],
             [
              0.7777777777777778,
              "#fb9f3a"
             ],
             [
              0.8888888888888888,
              "#fdca26"
             ],
             [
              1,
              "#f0f921"
             ]
            ],
            "type": "heatmapgl"
           }
          ],
          "histogram": [
           {
            "marker": {
             "colorbar": {
              "outlinewidth": 0,
              "ticks": ""
             }
            },
            "type": "histogram"
           }
          ],
          "histogram2d": [
           {
            "colorbar": {
             "outlinewidth": 0,
             "ticks": ""
            },
            "colorscale": [
             [
              0,
              "#0d0887"
             ],
             [
              0.1111111111111111,
              "#46039f"
             ],
             [
              0.2222222222222222,
              "#7201a8"
             ],
             [
              0.3333333333333333,
              "#9c179e"
             ],
             [
              0.4444444444444444,
              "#bd3786"
             ],
             [
              0.5555555555555556,
              "#d8576b"
             ],
             [
              0.6666666666666666,
              "#ed7953"
             ],
             [
              0.7777777777777778,
              "#fb9f3a"
             ],
             [
              0.8888888888888888,
              "#fdca26"
             ],
             [
              1,
              "#f0f921"
             ]
            ],
            "type": "histogram2d"
           }
          ],
          "histogram2dcontour": [
           {
            "colorbar": {
             "outlinewidth": 0,
             "ticks": ""
            },
            "colorscale": [
             [
              0,
              "#0d0887"
             ],
             [
              0.1111111111111111,
              "#46039f"
             ],
             [
              0.2222222222222222,
              "#7201a8"
             ],
             [
              0.3333333333333333,
              "#9c179e"
             ],
             [
              0.4444444444444444,
              "#bd3786"
             ],
             [
              0.5555555555555556,
              "#d8576b"
             ],
             [
              0.6666666666666666,
              "#ed7953"
             ],
             [
              0.7777777777777778,
              "#fb9f3a"
             ],
             [
              0.8888888888888888,
              "#fdca26"
             ],
             [
              1,
              "#f0f921"
             ]
            ],
            "type": "histogram2dcontour"
           }
          ],
          "mesh3d": [
           {
            "colorbar": {
             "outlinewidth": 0,
             "ticks": ""
            },
            "type": "mesh3d"
           }
          ],
          "parcoords": [
           {
            "line": {
             "colorbar": {
              "outlinewidth": 0,
              "ticks": ""
             }
            },
            "type": "parcoords"
           }
          ],
          "pie": [
           {
            "automargin": true,
            "type": "pie"
           }
          ],
          "scatter": [
           {
            "marker": {
             "colorbar": {
              "outlinewidth": 0,
              "ticks": ""
             }
            },
            "type": "scatter"
           }
          ],
          "scatter3d": [
           {
            "line": {
             "colorbar": {
              "outlinewidth": 0,
              "ticks": ""
             }
            },
            "marker": {
             "colorbar": {
              "outlinewidth": 0,
              "ticks": ""
             }
            },
            "type": "scatter3d"
           }
          ],
          "scattercarpet": [
           {
            "marker": {
             "colorbar": {
              "outlinewidth": 0,
              "ticks": ""
             }
            },
            "type": "scattercarpet"
           }
          ],
          "scattergeo": [
           {
            "marker": {
             "colorbar": {
              "outlinewidth": 0,
              "ticks": ""
             }
            },
            "type": "scattergeo"
           }
          ],
          "scattergl": [
           {
            "marker": {
             "colorbar": {
              "outlinewidth": 0,
              "ticks": ""
             }
            },
            "type": "scattergl"
           }
          ],
          "scattermapbox": [
           {
            "marker": {
             "colorbar": {
              "outlinewidth": 0,
              "ticks": ""
             }
            },
            "type": "scattermapbox"
           }
          ],
          "scatterpolar": [
           {
            "marker": {
             "colorbar": {
              "outlinewidth": 0,
              "ticks": ""
             }
            },
            "type": "scatterpolar"
           }
          ],
          "scatterpolargl": [
           {
            "marker": {
             "colorbar": {
              "outlinewidth": 0,
              "ticks": ""
             }
            },
            "type": "scatterpolargl"
           }
          ],
          "scatterternary": [
           {
            "marker": {
             "colorbar": {
              "outlinewidth": 0,
              "ticks": ""
             }
            },
            "type": "scatterternary"
           }
          ],
          "surface": [
           {
            "colorbar": {
             "outlinewidth": 0,
             "ticks": ""
            },
            "colorscale": [
             [
              0,
              "#0d0887"
             ],
             [
              0.1111111111111111,
              "#46039f"
             ],
             [
              0.2222222222222222,
              "#7201a8"
             ],
             [
              0.3333333333333333,
              "#9c179e"
             ],
             [
              0.4444444444444444,
              "#bd3786"
             ],
             [
              0.5555555555555556,
              "#d8576b"
             ],
             [
              0.6666666666666666,
              "#ed7953"
             ],
             [
              0.7777777777777778,
              "#fb9f3a"
             ],
             [
              0.8888888888888888,
              "#fdca26"
             ],
             [
              1,
              "#f0f921"
             ]
            ],
            "type": "surface"
           }
          ],
          "table": [
           {
            "cells": {
             "fill": {
              "color": "#EBF0F8"
             },
             "line": {
              "color": "white"
             }
            },
            "header": {
             "fill": {
              "color": "#C8D4E3"
             },
             "line": {
              "color": "white"
             }
            },
            "type": "table"
           }
          ]
         },
         "layout": {
          "annotationdefaults": {
           "arrowcolor": "#2a3f5f",
           "arrowhead": 0,
           "arrowwidth": 1
          },
          "autotypenumbers": "strict",
          "coloraxis": {
           "colorbar": {
            "outlinewidth": 0,
            "ticks": ""
           }
          },
          "colorscale": {
           "diverging": [
            [
             0,
             "#8e0152"
            ],
            [
             0.1,
             "#c51b7d"
            ],
            [
             0.2,
             "#de77ae"
            ],
            [
             0.3,
             "#f1b6da"
            ],
            [
             0.4,
             "#fde0ef"
            ],
            [
             0.5,
             "#f7f7f7"
            ],
            [
             0.6,
             "#e6f5d0"
            ],
            [
             0.7,
             "#b8e186"
            ],
            [
             0.8,
             "#7fbc41"
            ],
            [
             0.9,
             "#4d9221"
            ],
            [
             1,
             "#276419"
            ]
           ],
           "sequential": [
            [
             0,
             "#0d0887"
            ],
            [
             0.1111111111111111,
             "#46039f"
            ],
            [
             0.2222222222222222,
             "#7201a8"
            ],
            [
             0.3333333333333333,
             "#9c179e"
            ],
            [
             0.4444444444444444,
             "#bd3786"
            ],
            [
             0.5555555555555556,
             "#d8576b"
            ],
            [
             0.6666666666666666,
             "#ed7953"
            ],
            [
             0.7777777777777778,
             "#fb9f3a"
            ],
            [
             0.8888888888888888,
             "#fdca26"
            ],
            [
             1,
             "#f0f921"
            ]
           ],
           "sequentialminus": [
            [
             0,
             "#0d0887"
            ],
            [
             0.1111111111111111,
             "#46039f"
            ],
            [
             0.2222222222222222,
             "#7201a8"
            ],
            [
             0.3333333333333333,
             "#9c179e"
            ],
            [
             0.4444444444444444,
             "#bd3786"
            ],
            [
             0.5555555555555556,
             "#d8576b"
            ],
            [
             0.6666666666666666,
             "#ed7953"
            ],
            [
             0.7777777777777778,
             "#fb9f3a"
            ],
            [
             0.8888888888888888,
             "#fdca26"
            ],
            [
             1,
             "#f0f921"
            ]
           ]
          },
          "colorway": [
           "#636efa",
           "#EF553B",
           "#00cc96",
           "#ab63fa",
           "#FFA15A",
           "#19d3f3",
           "#FF6692",
           "#B6E880",
           "#FF97FF",
           "#FECB52"
          ],
          "font": {
           "color": "#2a3f5f"
          },
          "geo": {
           "bgcolor": "white",
           "lakecolor": "white",
           "landcolor": "#E5ECF6",
           "showlakes": true,
           "showland": true,
           "subunitcolor": "white"
          },
          "hoverlabel": {
           "align": "left"
          },
          "hovermode": "closest",
          "mapbox": {
           "style": "light"
          },
          "paper_bgcolor": "white",
          "plot_bgcolor": "#E5ECF6",
          "polar": {
           "angularaxis": {
            "gridcolor": "white",
            "linecolor": "white",
            "ticks": ""
           },
           "bgcolor": "#E5ECF6",
           "radialaxis": {
            "gridcolor": "white",
            "linecolor": "white",
            "ticks": ""
           }
          },
          "scene": {
           "xaxis": {
            "backgroundcolor": "#E5ECF6",
            "gridcolor": "white",
            "gridwidth": 2,
            "linecolor": "white",
            "showbackground": true,
            "ticks": "",
            "zerolinecolor": "white"
           },
           "yaxis": {
            "backgroundcolor": "#E5ECF6",
            "gridcolor": "white",
            "gridwidth": 2,
            "linecolor": "white",
            "showbackground": true,
            "ticks": "",
            "zerolinecolor": "white"
           },
           "zaxis": {
            "backgroundcolor": "#E5ECF6",
            "gridcolor": "white",
            "gridwidth": 2,
            "linecolor": "white",
            "showbackground": true,
            "ticks": "",
            "zerolinecolor": "white"
           }
          },
          "shapedefaults": {
           "line": {
            "color": "#2a3f5f"
           }
          },
          "ternary": {
           "aaxis": {
            "gridcolor": "white",
            "linecolor": "white",
            "ticks": ""
           },
           "baxis": {
            "gridcolor": "white",
            "linecolor": "white",
            "ticks": ""
           },
           "bgcolor": "#E5ECF6",
           "caxis": {
            "gridcolor": "white",
            "linecolor": "white",
            "ticks": ""
           }
          },
          "title": {
           "x": 0.05
          },
          "xaxis": {
           "automargin": true,
           "gridcolor": "white",
           "linecolor": "white",
           "ticks": "",
           "title": {
            "standoff": 15
           },
           "zerolinecolor": "white",
           "zerolinewidth": 2
          },
          "yaxis": {
           "automargin": true,
           "gridcolor": "white",
           "linecolor": "white",
           "ticks": "",
           "title": {
            "standoff": 15
           },
           "zerolinecolor": "white",
           "zerolinewidth": 2
          }
         }
        },
        "title": {
         "text": "Incidenza decessi ogni 100 soggetti"
        }
       }
      }
     },
     "metadata": {},
     "output_type": "display_data"
    }
   ],
   "source": [
    "# Casi\n",
    "fig=go.Figure()\n",
    "fig.add_trace(go.Scatter(x=data['data'],\n",
    "              y=data['incidenza casi non vaccinati'],\n",
    "              mode='markers+lines',\n",
    "              name='Non vaccinati'))\n",
    "fig.add_trace(go.Scatter(x=data['data'],\n",
    "              y=data['incidenza casi vaccinati'],\n",
    "              mode='markers+lines',\n",
    "              name='Vaccinati'))\n",
    "fig.update_layout(title='Incidenza casi ogni 100 soggetti')\n",
    "fig.show()\n",
    "\n",
    "# Ospedalizzati\n",
    "fig = go.Figure()\n",
    "fig.add_trace(go.Scatter(x=data['data'],\n",
    "              y=data['incidenza ospedalizzati non vaccinati'],\n",
    "              mode='markers+lines',\n",
    "              name='Non vaccinati'))\n",
    "fig.add_trace(go.Scatter(x=data['data'],\n",
    "              y=data['incidenza ospedalizzati vaccinati'],\n",
    "              mode='markers+lines',\n",
    "              name='Vaccinati'))\n",
    "fig.update_layout(title='Incidenza ospedalizzati ogni 100 soggetti')\n",
    "fig.show()\n",
    "\n",
    "# Terapie intensive\n",
    "fig = go.Figure()\n",
    "fig.add_trace(go.Scatter(x=data['data'],\n",
    "              y=data['incidenza terapia intensiva non vaccinati'],\n",
    "              mode='markers+lines',\n",
    "              name='Non vaccinati'))\n",
    "fig.add_trace(go.Scatter(x=data['data'],\n",
    "              y=data['incidenza terapia intensiva vaccinati'],\n",
    "              mode='markers+lines',\n",
    "              name='Vaccinati'))\n",
    "fig.update_layout(title='Incidenza terapia intensiva ogni 100 soggetti')\n",
    "fig.show()\n",
    "\n",
    "\n",
    "# Decessi\n",
    "fig = go.Figure()\n",
    "fig.add_trace(go.Scatter(x=data['data'],\n",
    "              y=data['incidenza decessi non vaccinati'],\n",
    "              mode='markers+lines',\n",
    "              name='Non vaccinati'))\n",
    "fig.add_trace(go.Scatter(x=data['data'],\n",
    "              y=data['incidenza decessi vaccinati'],\n",
    "              mode='markers+lines',\n",
    "              name='Vaccinati'))\n",
    "fig.update_layout(title='Incidenza decessi ogni 100 soggetti')\n",
    "fig.show()\n"
   ]
  },
  {
   "cell_type": "code",
   "execution_count": null,
   "metadata": {},
   "outputs": [],
   "source": []
  }
 ],
 "metadata": {
  "interpreter": {
   "hash": "8f95d1170a75b6bb226a6fa005d7e2a19edce8f273293f5ad7b4554d05aa96eb"
  },
  "kernelspec": {
   "display_name": "Python 3.7.11 64-bit ('p37env': conda)",
   "name": "python3"
  },
  "language_info": {
   "codemirror_mode": {
    "name": "ipython",
    "version": 3
   },
   "file_extension": ".py",
   "mimetype": "text/x-python",
   "name": "python",
   "nbconvert_exporter": "python",
   "pygments_lexer": "ipython3",
   "version": "3.7.11"
  },
  "orig_nbformat": 4
 },
 "nbformat": 4,
 "nbformat_minor": 2
}
