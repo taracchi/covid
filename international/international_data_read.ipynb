{
 "cells": [
  {
   "cell_type": "code",
   "execution_count": 1,
   "metadata": {},
   "outputs": [],
   "source": [
    "import pandas as pd\n",
    "import numpy as np"
   ]
  },
  {
   "cell_type": "markdown",
   "metadata": {},
   "source": [
    "## Parametri"
   ]
  },
  {
   "cell_type": "code",
   "execution_count": 2,
   "metadata": {},
   "outputs": [],
   "source": [
    "data_file='https://covid.ourworldindata.org/data/owid-covid-data.xlsx?raw=true'"
   ]
  },
  {
   "cell_type": "markdown",
   "metadata": {},
   "source": [
    "## Lettura dati e preparazione struttura dati"
   ]
  },
  {
   "cell_type": "code",
   "execution_count": 3,
   "metadata": {},
   "outputs": [
    {
     "name": "stdout",
     "output_type": "stream",
     "text": [
      "Index(['iso_code', 'continent', 'location', 'date', 'total_cases', 'new_cases',\n",
      "       'new_cases_smoothed', 'total_deaths', 'new_deaths',\n",
      "       'new_deaths_smoothed', 'total_cases_per_million',\n",
      "       'new_cases_per_million', 'new_cases_smoothed_per_million',\n",
      "       'total_deaths_per_million', 'new_deaths_per_million',\n",
      "       'new_deaths_smoothed_per_million', 'new_tests', 'total_tests',\n",
      "       'total_tests_per_thousand', 'new_tests_per_thousand',\n",
      "       'new_tests_smoothed', 'new_tests_smoothed_per_thousand',\n",
      "       'tests_per_case', 'positive_rate', 'tests_units', 'stringency_index',\n",
      "       'population', 'population_density', 'median_age', 'aged_65_older',\n",
      "       'aged_70_older', 'gdp_per_capita', 'extreme_poverty',\n",
      "       'cardiovasc_death_rate', 'diabetes_prevalence', 'female_smokers',\n",
      "       'male_smokers', 'handwashing_facilities', 'hospital_beds_per_thousand',\n",
      "       'life_expectancy', 'human_development_index'],\n",
      "      dtype='object')\n"
     ]
    }
   ],
   "source": [
    "data=pd.read_excel(data_file)\n",
    "col_names=data.columns\n",
    "\n",
    "print(col_names)"
   ]
  },
  {
   "cell_type": "code",
   "execution_count": 4,
   "metadata": {},
   "outputs": [
    {
     "name": "stdout",
     "output_type": "stream",
     "text": [
      "['Aruba' 'Afghanistan' 'Angola' 'Anguilla' 'Albania' 'Andorra'\n",
      " 'United Arab Emirates' 'Argentina' 'Armenia' 'Antigua and Barbuda'\n",
      " 'Australia' 'Austria' 'Azerbaijan' 'Burundi' 'Belgium' 'Benin'\n",
      " 'Bonaire Sint Eustatius and Saba' 'Burkina Faso' 'Bangladesh' 'Bulgaria'\n",
      " 'Bahrain' 'Bahamas' 'Bosnia and Herzegovina' 'Belarus' 'Belize' 'Bermuda'\n",
      " 'Bolivia' 'Brazil' 'Barbados' 'Brunei' 'Bhutan' 'Botswana'\n",
      " 'Central African Republic' 'Canada' 'Switzerland' 'Chile' 'China'\n",
      " \"Cote d'Ivoire\" 'Cameroon' 'Democratic Republic of Congo' 'Congo'\n",
      " 'Colombia' 'Comoros' 'Cape Verde' 'Costa Rica' 'Cuba' 'Curacao'\n",
      " 'Cayman Islands' 'Cyprus' 'Czech Republic' 'Germany' 'Djibouti'\n",
      " 'Dominica' 'Denmark' 'Dominican Republic' 'Algeria' 'Ecuador' 'Egypt'\n",
      " 'Eritrea' 'Western Sahara' 'Spain' 'Estonia' 'Ethiopia' 'Finland' 'Fiji'\n",
      " 'Falkland Islands' 'France' 'Faeroe Islands' 'Gabon' 'United Kingdom'\n",
      " 'Georgia' 'Guernsey' 'Ghana' 'Gibraltar' 'Guinea' 'Gambia'\n",
      " 'Guinea-Bissau' 'Equatorial Guinea' 'Greece' 'Grenada' 'Greenland'\n",
      " 'Guatemala' 'Guam' 'Guyana' 'Hong Kong' 'Honduras' 'Croatia' 'Haiti'\n",
      " 'Hungary' 'Indonesia' 'Isle of Man' 'India' 'Ireland' 'Iran' 'Iraq'\n",
      " 'Iceland' 'Israel' 'Italy' 'Jamaica' 'Jersey' 'Jordan' 'Japan'\n",
      " 'Kazakhstan' 'Kenya' 'Kyrgyzstan' 'Cambodia' 'Saint Kitts and Nevis'\n",
      " 'South Korea' 'Kuwait' 'Laos' 'Lebanon' 'Liberia' 'Libya' 'Saint Lucia'\n",
      " 'Liechtenstein' 'Sri Lanka' 'Lesotho' 'Lithuania' 'Luxembourg' 'Latvia'\n",
      " 'Morocco' 'Monaco' 'Moldova' 'Madagascar' 'Maldives' 'Mexico' 'Macedonia'\n",
      " 'Mali' 'Malta' 'Myanmar' 'Montenegro' 'Mongolia'\n",
      " 'Northern Mariana Islands' 'Mozambique' 'Mauritania' 'Montserrat'\n",
      " 'Mauritius' 'Malawi' 'Malaysia' 'Namibia' 'New Caledonia' 'Niger'\n",
      " 'Nigeria' 'Nicaragua' 'Netherlands' 'Norway' 'Nepal' 'New Zealand' 'Oman'\n",
      " 'Pakistan' 'Panama' 'Peru' 'Philippines' 'Papua New Guinea' 'Poland'\n",
      " 'Puerto Rico' 'Portugal' 'Paraguay' 'Palestine' 'French Polynesia'\n",
      " 'Qatar' 'Romania' 'Russia' 'Rwanda' 'Saudi Arabia' 'Sudan' 'Senegal'\n",
      " 'Singapore' 'Sierra Leone' 'El Salvador' 'San Marino' 'Somalia' 'Serbia'\n",
      " 'South Sudan' 'Sao Tome and Principe' 'Suriname' 'Slovakia' 'Slovenia'\n",
      " 'Sweden' 'Swaziland' 'Sint Maarten (Dutch part)' 'Seychelles' 'Syria'\n",
      " 'Turks and Caicos Islands' 'Chad' 'Togo' 'Thailand' 'Tajikistan' 'Timor'\n",
      " 'Trinidad and Tobago' 'Tunisia' 'Turkey' 'Taiwan' 'Tanzania' 'Uganda'\n",
      " 'Ukraine' 'Uruguay' 'United States' 'Uzbekistan' 'Vatican'\n",
      " 'Saint Vincent and the Grenadines' 'Venezuela' 'British Virgin Islands'\n",
      " 'United States Virgin Islands' 'Vietnam' 'Kosovo' 'Yemen' 'South Africa'\n",
      " 'Zambia' 'Zimbabwe' 'World' 'International']\n"
     ]
    }
   ],
   "source": [
    "nazioni=pd.unique(data['location'])\n",
    "print(nazioni)"
   ]
  },
  {
   "cell_type": "code",
   "execution_count": 5,
   "metadata": {},
   "outputs": [],
   "source": [
    "continent_nations={}\n",
    "\n",
    "continent_nations['europe']=np.unique(data[data['continent']=='Europe']['location'])\n",
    "continent_nations['asia']=np.unique(data[data['continent']=='Asia']['location'])\n",
    "continent_nations['africa']=np.unique(data[data['continent']=='Africa']['location'])\n",
    "continent_nations['north_america']=np.unique(data[data['continent']=='North America']['location'])\n",
    "continent_nations['south_america']=np.unique(data[data['continent']=='South America']['location'])\n",
    "continent_nations['oceania']=np.unique(data[data['continent']=='Oceania']['location'])"
   ]
  },
  {
   "cell_type": "code",
   "execution_count": 6,
   "metadata": {},
   "outputs": [
    {
     "name": "stdout",
     "output_type": "stream",
     "text": [
      "europe\n",
      "['Albania' 'Andorra' 'Austria' 'Belarus' 'Belgium'\n",
      " 'Bosnia and Herzegovina' 'Bulgaria' 'Croatia' 'Cyprus' 'Czech Republic'\n",
      " 'Denmark' 'Estonia' 'Faeroe Islands' 'Finland' 'France' 'Germany'\n",
      " 'Gibraltar' 'Greece' 'Guernsey' 'Hungary' 'Iceland' 'Ireland'\n",
      " 'Isle of Man' 'Italy' 'Jersey' 'Kosovo' 'Latvia' 'Liechtenstein'\n",
      " 'Lithuania' 'Luxembourg' 'Macedonia' 'Malta' 'Moldova' 'Monaco'\n",
      " 'Montenegro' 'Netherlands' 'Norway' 'Poland' 'Portugal' 'Romania'\n",
      " 'Russia' 'San Marino' 'Serbia' 'Slovakia' 'Slovenia' 'Spain' 'Sweden'\n",
      " 'Switzerland' 'Ukraine' 'United Kingdom' 'Vatican']\n",
      "asia\n",
      "['Afghanistan' 'Armenia' 'Azerbaijan' 'Bahrain' 'Bangladesh' 'Bhutan'\n",
      " 'Brunei' 'Cambodia' 'China' 'Georgia' 'Hong Kong' 'India' 'Indonesia'\n",
      " 'Iran' 'Iraq' 'Israel' 'Japan' 'Jordan' 'Kazakhstan' 'Kuwait'\n",
      " 'Kyrgyzstan' 'Laos' 'Lebanon' 'Malaysia' 'Maldives' 'Mongolia' 'Myanmar'\n",
      " 'Nepal' 'Oman' 'Pakistan' 'Palestine' 'Philippines' 'Qatar'\n",
      " 'Saudi Arabia' 'Singapore' 'South Korea' 'Sri Lanka' 'Syria' 'Taiwan'\n",
      " 'Tajikistan' 'Thailand' 'Timor' 'Turkey' 'United Arab Emirates'\n",
      " 'Uzbekistan' 'Vietnam' 'Yemen']\n",
      "africa\n",
      "['Algeria' 'Angola' 'Benin' 'Botswana' 'Burkina Faso' 'Burundi' 'Cameroon'\n",
      " 'Cape Verde' 'Central African Republic' 'Chad' 'Comoros' 'Congo'\n",
      " \"Cote d'Ivoire\" 'Democratic Republic of Congo' 'Djibouti' 'Egypt'\n",
      " 'Equatorial Guinea' 'Eritrea' 'Ethiopia' 'Gabon' 'Gambia' 'Ghana'\n",
      " 'Guinea' 'Guinea-Bissau' 'Kenya' 'Lesotho' 'Liberia' 'Libya' 'Madagascar'\n",
      " 'Malawi' 'Mali' 'Mauritania' 'Mauritius' 'Morocco' 'Mozambique' 'Namibia'\n",
      " 'Niger' 'Nigeria' 'Rwanda' 'Sao Tome and Principe' 'Senegal' 'Seychelles'\n",
      " 'Sierra Leone' 'Somalia' 'South Africa' 'South Sudan' 'Sudan' 'Swaziland'\n",
      " 'Tanzania' 'Togo' 'Tunisia' 'Uganda' 'Western Sahara' 'Zambia' 'Zimbabwe']\n",
      "north_america\n",
      "['Anguilla' 'Antigua and Barbuda' 'Aruba' 'Bahamas' 'Barbados' 'Belize'\n",
      " 'Bermuda' 'Bonaire Sint Eustatius and Saba' 'British Virgin Islands'\n",
      " 'Canada' 'Cayman Islands' 'Costa Rica' 'Cuba' 'Curacao' 'Dominica'\n",
      " 'Dominican Republic' 'El Salvador' 'Greenland' 'Grenada' 'Guatemala'\n",
      " 'Haiti' 'Honduras' 'Jamaica' 'Mexico' 'Montserrat' 'Nicaragua' 'Panama'\n",
      " 'Puerto Rico' 'Saint Kitts and Nevis' 'Saint Lucia'\n",
      " 'Saint Vincent and the Grenadines' 'Sint Maarten (Dutch part)'\n",
      " 'Trinidad and Tobago' 'Turks and Caicos Islands' 'United States'\n",
      " 'United States Virgin Islands']\n",
      "south_america\n",
      "['Argentina' 'Bolivia' 'Brazil' 'Chile' 'Colombia' 'Ecuador'\n",
      " 'Falkland Islands' 'Guyana' 'Paraguay' 'Peru' 'Suriname' 'Uruguay'\n",
      " 'Venezuela']\n",
      "oceania\n",
      "['Australia' 'Fiji' 'French Polynesia' 'Guam' 'New Caledonia'\n",
      " 'New Zealand' 'Northern Mariana Islands' 'Papua New Guinea']\n"
     ]
    }
   ],
   "source": [
    "for cont in continent_nations.keys():\n",
    "    print(cont)\n",
    "    print(continent_nations[cont])"
   ]
  },
  {
   "cell_type": "code",
   "execution_count": 7,
   "metadata": {},
   "outputs": [
    {
     "name": "stdout",
     "output_type": "stream",
     "text": [
      "date, total_cases, new_cases, total_deaths, new_deaths, total_cases_per_million, new_cases_per_million, total_deaths_per_million, new_deaths_per_million, total_tests, new_tests, total_tests_per_thousand, new_tests_per_thousand, stringency_index, population, population_density, median_age, aged_65_older, aged_70_older, gdp_per_capita, extreme_poverty, male_smokers, handwashing_facilities, hospital_beds_per_thousand, life_expectancy, "
     ]
    }
   ],
   "source": [
    "# indicatori osservati\n",
    "indicatori=['date','total_cases', 'new_cases','total_deaths', 'new_deaths', 'total_cases_per_million',\n",
    "       'new_cases_per_million', 'total_deaths_per_million',\n",
    "       'new_deaths_per_million', 'total_tests', 'new_tests',\n",
    "       'total_tests_per_thousand', 'new_tests_per_thousand','stringency_index', 'population', 'population_density', 'median_age',\n",
    "       'aged_65_older', 'aged_70_older', 'gdp_per_capita', 'extreme_poverty',\n",
    "       'male_smokers', 'handwashing_facilities', 'hospital_beds_per_thousand',\n",
    "       'life_expectancy']\n",
    "\n",
    "# qui immetto tutti i trend per ciascuna regione\n",
    "trend={}\n",
    "for ind in indicatori:\n",
    "    print(ind,end=', ')\n",
    "    trend[ind]={}\n",
    "    for nazione in nazioni:\n",
    "        trend[ind][nazione]=np.array(data[data['location']==nazione][ind])"
   ]
  },
  {
   "cell_type": "markdown",
   "metadata": {},
   "source": [
    "## Salvataggio su PICKLE"
   ]
  },
  {
   "cell_type": "code",
   "execution_count": 8,
   "metadata": {},
   "outputs": [
    {
     "name": "stdout",
     "output_type": "stream",
     "text": [
      "Fatto\n"
     ]
    }
   ],
   "source": [
    "import pickle\n",
    "\n",
    "output_data_file='international_data.pkl'\n",
    "\n",
    "outfile = open(output_data_file,'wb')\n",
    "pickle.dump(trend,outfile)\n",
    "pickle.dump(nazioni,outfile)\n",
    "pickle.dump(continent_nations,outfile)\n",
    "outfile.close()\n",
    "\n",
    "print('Fatto')"
   ]
  },
  {
   "cell_type": "code",
   "execution_count": null,
   "metadata": {},
   "outputs": [],
   "source": []
  }
 ],
 "metadata": {
  "kernelspec": {
   "display_name": "Python 3.7.1 64-bit ('klaat': virtualenv)",
   "language": "python",
   "name": "python37164bitklaatvirtualenv68391259d5714fc793cf295373d8f8d2"
  },
  "language_info": {
   "codemirror_mode": {
    "name": "ipython",
    "version": 3
   },
   "file_extension": ".py",
   "mimetype": "text/x-python",
   "name": "python",
   "nbconvert_exporter": "python",
   "pygments_lexer": "ipython3",
   "version": "3.7.1"
  }
 },
 "nbformat": 4,
 "nbformat_minor": 4
}
