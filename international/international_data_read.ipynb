{
 "cells": [
  {
   "cell_type": "code",
   "execution_count": 1,
   "metadata": {},
   "outputs": [],
   "source": [
    "import pandas as pd\n",
    "import numpy as np"
   ]
  },
  {
   "cell_type": "markdown",
   "metadata": {},
   "source": [
    "## Parametri"
   ]
  },
  {
   "cell_type": "code",
   "execution_count": 2,
   "metadata": {},
   "outputs": [],
   "source": [
    "data_file='https://covid.ourworldindata.org/data/owid-covid-data.xlsx?raw=true'"
   ]
  },
  {
   "cell_type": "markdown",
   "metadata": {},
   "source": [
    "## Lettura dati e preparazione struttura dati"
   ]
  },
  {
   "cell_type": "code",
   "execution_count": 3,
   "metadata": {},
   "outputs": [
    {
     "name": "stdout",
     "output_type": "stream",
     "text": [
      "Index(['iso_code', 'continent', 'location', 'date', 'total_cases', 'new_cases',\n",
      "       'new_cases_smoothed', 'total_deaths', 'new_deaths',\n",
      "       'new_deaths_smoothed', 'total_cases_per_million',\n",
      "       'new_cases_per_million', 'new_cases_smoothed_per_million',\n",
      "       'total_deaths_per_million', 'new_deaths_per_million',\n",
      "       'new_deaths_smoothed_per_million', 'reproduction_rate', 'icu_patients',\n",
      "       'icu_patients_per_million', 'hosp_patients',\n",
      "       'hosp_patients_per_million', 'weekly_icu_admissions',\n",
      "       'weekly_icu_admissions_per_million', 'weekly_hosp_admissions',\n",
      "       'weekly_hosp_admissions_per_million', 'new_tests', 'total_tests',\n",
      "       'total_tests_per_thousand', 'new_tests_per_thousand',\n",
      "       'new_tests_smoothed', 'new_tests_smoothed_per_thousand',\n",
      "       'positive_rate', 'tests_per_case', 'tests_units', 'total_vaccinations',\n",
      "       'people_vaccinated', 'people_fully_vaccinated', 'new_vaccinations',\n",
      "       'new_vaccinations_smoothed', 'total_vaccinations_per_hundred',\n",
      "       'people_vaccinated_per_hundred', 'people_fully_vaccinated_per_hundred',\n",
      "       'new_vaccinations_smoothed_per_million', 'stringency_index',\n",
      "       'population', 'population_density', 'median_age', 'aged_65_older',\n",
      "       'aged_70_older', 'gdp_per_capita', 'extreme_poverty',\n",
      "       'cardiovasc_death_rate', 'diabetes_prevalence', 'female_smokers',\n",
      "       'male_smokers', 'handwashing_facilities', 'hospital_beds_per_thousand',\n",
      "       'life_expectancy', 'human_development_index'],\n",
      "      dtype='object')\n"
     ]
    }
   ],
   "source": [
    "data=pd.read_excel(data_file)\n",
    "col_names=data.columns\n",
    "\n",
    "print(col_names)"
   ]
  },
  {
   "cell_type": "code",
   "execution_count": 4,
   "metadata": {},
   "outputs": [
    {
     "name": "stdout",
     "output_type": "stream",
     "text": [
      "['Afghanistan' 'Africa' 'Albania' 'Algeria' 'Andorra' 'Angola' 'Anguilla'\n",
      " 'Antigua and Barbuda' 'Argentina' 'Armenia' 'Asia' 'Australia' 'Austria'\n",
      " 'Azerbaijan' 'Bahamas' 'Bahrain' 'Bangladesh' 'Barbados' 'Belarus'\n",
      " 'Belgium' 'Belize' 'Benin' 'Bermuda' 'Bhutan' 'Bolivia'\n",
      " 'Bosnia and Herzegovina' 'Botswana' 'Brazil' 'Brunei' 'Bulgaria'\n",
      " 'Burkina Faso' 'Burundi' 'Cambodia' 'Cameroon' 'Canada' 'Cape Verde'\n",
      " 'Cayman Islands' 'Central African Republic' 'Chad' 'Chile' 'China'\n",
      " 'Colombia' 'Comoros' 'Congo' 'Costa Rica' \"Cote d'Ivoire\" 'Croatia'\n",
      " 'Cuba' 'Cyprus' 'Czechia' 'Democratic Republic of Congo' 'Denmark'\n",
      " 'Djibouti' 'Dominica' 'Dominican Republic' 'Ecuador' 'Egypt'\n",
      " 'El Salvador' 'Equatorial Guinea' 'Eritrea' 'Estonia' 'Eswatini'\n",
      " 'Ethiopia' 'Europe' 'European Union' 'Faeroe Islands' 'Falkland Islands'\n",
      " 'Fiji' 'Finland' 'France' 'Gabon' 'Gambia' 'Georgia' 'Germany' 'Ghana'\n",
      " 'Gibraltar' 'Greece' 'Greenland' 'Grenada' 'Guatemala' 'Guernsey'\n",
      " 'Guinea' 'Guinea-Bissau' 'Guyana' 'Haiti' 'Honduras' 'Hong Kong'\n",
      " 'Hungary' 'Iceland' 'India' 'Indonesia' 'International' 'Iran' 'Iraq'\n",
      " 'Ireland' 'Isle of Man' 'Israel' 'Italy' 'Jamaica' 'Japan' 'Jersey'\n",
      " 'Jordan' 'Kazakhstan' 'Kenya' 'Kosovo' 'Kuwait' 'Kyrgyzstan' 'Laos'\n",
      " 'Latvia' 'Lebanon' 'Lesotho' 'Liberia' 'Libya' 'Liechtenstein'\n",
      " 'Lithuania' 'Luxembourg' 'Macao' 'Madagascar' 'Malawi' 'Malaysia'\n",
      " 'Maldives' 'Mali' 'Malta' 'Marshall Islands' 'Mauritania' 'Mauritius'\n",
      " 'Mexico' 'Micronesia (country)' 'Moldova' 'Monaco' 'Mongolia'\n",
      " 'Montenegro' 'Montserrat' 'Morocco' 'Mozambique' 'Myanmar' 'Namibia'\n",
      " 'Nepal' 'Netherlands' 'New Zealand' 'Nicaragua' 'Niger' 'Nigeria'\n",
      " 'North America' 'North Macedonia' 'Northern Cyprus' 'Norway' 'Oceania'\n",
      " 'Oman' 'Pakistan' 'Palestine' 'Panama' 'Papua New Guinea' 'Paraguay'\n",
      " 'Peru' 'Philippines' 'Poland' 'Portugal' 'Qatar' 'Romania' 'Russia'\n",
      " 'Rwanda' 'Saint Helena' 'Saint Kitts and Nevis' 'Saint Lucia'\n",
      " 'Saint Vincent and the Grenadines' 'Samoa' 'San Marino'\n",
      " 'Sao Tome and Principe' 'Saudi Arabia' 'Senegal' 'Serbia' 'Seychelles'\n",
      " 'Sierra Leone' 'Singapore' 'Slovakia' 'Slovenia' 'Solomon Islands'\n",
      " 'Somalia' 'South Africa' 'South America' 'South Korea' 'South Sudan'\n",
      " 'Spain' 'Sri Lanka' 'Sudan' 'Suriname' 'Sweden' 'Switzerland' 'Syria'\n",
      " 'Taiwan' 'Tajikistan' 'Tanzania' 'Thailand' 'Timor' 'Togo'\n",
      " 'Trinidad and Tobago' 'Tunisia' 'Turkey' 'Turks and Caicos Islands'\n",
      " 'Uganda' 'Ukraine' 'United Arab Emirates' 'United Kingdom'\n",
      " 'United States' 'Uruguay' 'Uzbekistan' 'Vanuatu' 'Vatican' 'Venezuela'\n",
      " 'Vietnam' 'World' 'Yemen' 'Zambia' 'Zimbabwe']\n"
     ]
    }
   ],
   "source": [
    "nazioni=pd.unique(data['location'])\n",
    "print(nazioni)"
   ]
  },
  {
   "cell_type": "code",
   "execution_count": 5,
   "metadata": {},
   "outputs": [],
   "source": [
    "continent_nations={}\n",
    "\n",
    "continent_nations['europe']=np.unique(data[data['continent']=='Europe']['location'])\n",
    "continent_nations['asia']=np.unique(data[data['continent']=='Asia']['location'])\n",
    "continent_nations['africa']=np.unique(data[data['continent']=='Africa']['location'])\n",
    "continent_nations['north_america']=np.unique(data[data['continent']=='North America']['location'])\n",
    "continent_nations['south_america']=np.unique(data[data['continent']=='South America']['location'])\n",
    "continent_nations['oceania']=np.unique(data[data['continent']=='Oceania']['location'])"
   ]
  },
  {
   "cell_type": "code",
   "execution_count": 6,
   "metadata": {},
   "outputs": [
    {
     "name": "stdout",
     "output_type": "stream",
     "text": [
      "europe\n",
      "['Albania' 'Andorra' 'Austria' 'Belarus' 'Belgium'\n",
      " 'Bosnia and Herzegovina' 'Bulgaria' 'Croatia' 'Cyprus' 'Czechia'\n",
      " 'Denmark' 'Estonia' 'Faeroe Islands' 'Finland' 'France' 'Germany'\n",
      " 'Gibraltar' 'Greece' 'Guernsey' 'Hungary' 'Iceland' 'Ireland'\n",
      " 'Isle of Man' 'Italy' 'Jersey' 'Kosovo' 'Latvia' 'Liechtenstein'\n",
      " 'Lithuania' 'Luxembourg' 'Malta' 'Moldova' 'Monaco' 'Montenegro'\n",
      " 'Netherlands' 'North Macedonia' 'Norway' 'Poland' 'Portugal' 'Romania'\n",
      " 'Russia' 'San Marino' 'Serbia' 'Slovakia' 'Slovenia' 'Spain' 'Sweden'\n",
      " 'Switzerland' 'Ukraine' 'United Kingdom' 'Vatican']\n",
      "asia\n",
      "['Afghanistan' 'Armenia' 'Azerbaijan' 'Bahrain' 'Bangladesh' 'Bhutan'\n",
      " 'Brunei' 'Cambodia' 'China' 'Georgia' 'Hong Kong' 'India' 'Indonesia'\n",
      " 'Iran' 'Iraq' 'Israel' 'Japan' 'Jordan' 'Kazakhstan' 'Kuwait'\n",
      " 'Kyrgyzstan' 'Laos' 'Lebanon' 'Macao' 'Malaysia' 'Maldives' 'Mongolia'\n",
      " 'Myanmar' 'Nepal' 'Northern Cyprus' 'Oman' 'Pakistan' 'Palestine'\n",
      " 'Philippines' 'Qatar' 'Saudi Arabia' 'Singapore' 'South Korea'\n",
      " 'Sri Lanka' 'Syria' 'Taiwan' 'Tajikistan' 'Thailand' 'Timor' 'Turkey'\n",
      " 'United Arab Emirates' 'Uzbekistan' 'Vietnam' 'Yemen']\n",
      "africa\n",
      "['Algeria' 'Angola' 'Benin' 'Botswana' 'Burkina Faso' 'Burundi' 'Cameroon'\n",
      " 'Cape Verde' 'Central African Republic' 'Chad' 'Comoros' 'Congo'\n",
      " \"Cote d'Ivoire\" 'Democratic Republic of Congo' 'Djibouti' 'Egypt'\n",
      " 'Equatorial Guinea' 'Eritrea' 'Eswatini' 'Ethiopia' 'Gabon' 'Gambia'\n",
      " 'Ghana' 'Guinea' 'Guinea-Bissau' 'Kenya' 'Lesotho' 'Liberia' 'Libya'\n",
      " 'Madagascar' 'Malawi' 'Mali' 'Mauritania' 'Mauritius' 'Morocco'\n",
      " 'Mozambique' 'Namibia' 'Niger' 'Nigeria' 'Rwanda' 'Saint Helena'\n",
      " 'Sao Tome and Principe' 'Senegal' 'Seychelles' 'Sierra Leone' 'Somalia'\n",
      " 'South Africa' 'South Sudan' 'Sudan' 'Tanzania' 'Togo' 'Tunisia' 'Uganda'\n",
      " 'Zambia' 'Zimbabwe']\n",
      "north_america\n",
      "['Anguilla' 'Antigua and Barbuda' 'Bahamas' 'Barbados' 'Belize' 'Bermuda'\n",
      " 'Canada' 'Cayman Islands' 'Costa Rica' 'Cuba' 'Dominica'\n",
      " 'Dominican Republic' 'El Salvador' 'Greenland' 'Grenada' 'Guatemala'\n",
      " 'Haiti' 'Honduras' 'Jamaica' 'Mexico' 'Montserrat' 'Nicaragua' 'Panama'\n",
      " 'Saint Kitts and Nevis' 'Saint Lucia' 'Saint Vincent and the Grenadines'\n",
      " 'Trinidad and Tobago' 'Turks and Caicos Islands' 'United States']\n",
      "south_america\n",
      "['Argentina' 'Bolivia' 'Brazil' 'Chile' 'Colombia' 'Ecuador'\n",
      " 'Falkland Islands' 'Guyana' 'Paraguay' 'Peru' 'Suriname' 'Uruguay'\n",
      " 'Venezuela']\n",
      "oceania\n",
      "['Australia' 'Fiji' 'Marshall Islands' 'Micronesia (country)'\n",
      " 'New Zealand' 'Papua New Guinea' 'Samoa' 'Solomon Islands' 'Vanuatu']\n"
     ]
    }
   ],
   "source": [
    "for cont in continent_nations.keys():\n",
    "    print(cont)\n",
    "    print(continent_nations[cont])"
   ]
  },
  {
   "cell_type": "code",
   "execution_count": 7,
   "metadata": {},
   "outputs": [
    {
     "name": "stdout",
     "output_type": "stream",
     "text": [
      "date, total_cases, new_cases, total_deaths, new_deaths, total_cases_per_million, new_cases_per_million, total_deaths_per_million, new_deaths_per_million, total_tests, new_tests, total_tests_per_thousand, new_tests_per_thousand, stringency_index, population, population_density, median_age, aged_65_older, aged_70_older, gdp_per_capita, extreme_poverty, male_smokers, handwashing_facilities, hospital_beds_per_thousand, life_expectancy, "
     ]
    }
   ],
   "source": [
    "# indicatori osservati\n",
    "indicatori=['date','total_cases', 'new_cases','total_deaths', 'new_deaths', 'total_cases_per_million',\n",
    "       'new_cases_per_million', 'total_deaths_per_million',\n",
    "       'new_deaths_per_million', 'total_tests', 'new_tests',\n",
    "       'total_tests_per_thousand', 'new_tests_per_thousand','stringency_index', 'population', 'population_density', 'median_age',\n",
    "       'aged_65_older', 'aged_70_older', 'gdp_per_capita', 'extreme_poverty',\n",
    "       'male_smokers', 'handwashing_facilities', 'hospital_beds_per_thousand',\n",
    "       'life_expectancy']\n",
    "\n",
    "# qui immetto tutti i trend per ciascuna regione\n",
    "trend={}\n",
    "for ind in indicatori:\n",
    "    print(ind,end=', ')\n",
    "    trend[ind]={}\n",
    "    for nazione in nazioni:\n",
    "        trend[ind][nazione]=np.array(data[data['location']==nazione][ind])"
   ]
  },
  {
   "cell_type": "markdown",
   "metadata": {},
   "source": [
    "## Salvataggio su PICKLE"
   ]
  },
  {
   "cell_type": "code",
   "execution_count": 8,
   "metadata": {},
   "outputs": [
    {
     "name": "stdout",
     "output_type": "stream",
     "text": [
      "Fatto\n"
     ]
    }
   ],
   "source": [
    "import pickle\n",
    "\n",
    "output_data_file='international_data.pkl'\n",
    "\n",
    "outfile = open(output_data_file,'wb')\n",
    "pickle.dump(trend,outfile)\n",
    "pickle.dump(nazioni,outfile)\n",
    "pickle.dump(continent_nations,outfile)\n",
    "outfile.close()\n",
    "\n",
    "print('Fatto')"
   ]
  },
  {
   "cell_type": "code",
   "execution_count": null,
   "metadata": {},
   "outputs": [],
   "source": []
  }
 ],
 "metadata": {
  "kernelspec": {
   "display_name": "Python 3.7.1 64-bit ('klaat': virtualenv)",
   "language": "python",
   "name": "python37164bitklaatvirtualenv68391259d5714fc793cf295373d8f8d2"
  },
  "language_info": {
   "codemirror_mode": {
    "name": "ipython",
    "version": 3
   },
   "file_extension": ".py",
   "mimetype": "text/x-python",
   "name": "python",
   "nbconvert_exporter": "python",
   "pygments_lexer": "ipython3",
   "version": "3.7.1"
  }
 },
 "nbformat": 4,
 "nbformat_minor": 4
}
