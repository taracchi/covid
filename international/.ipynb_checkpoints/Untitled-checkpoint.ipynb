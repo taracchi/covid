{
 "cells": [
  {
   "cell_type": "markdown",
   "metadata": {},
   "source": [
    "# Analisi incrociate"
   ]
  },
  {
   "cell_type": "code",
   "execution_count": 1,
   "metadata": {},
   "outputs": [],
   "source": [
    "import matplotlib.pyplot as plt\n",
    "import seaborn as sns\n",
    "from aidam.math_utils import moving_function_rev1\n",
    "from aidam.aicharts import get_subplot_cells_sequence, confplot_ax, auto_grid_shape\n",
    "import pickle as pkl\n",
    "import numpy as np\n",
    "import pandas as pd"
   ]
  },
  {
   "cell_type": "markdown",
   "metadata": {},
   "source": [
    "## Lettura dati"
   ]
  },
  {
   "cell_type": "code",
   "execution_count": 2,
   "metadata": {},
   "outputs": [],
   "source": [
    "data_file='international_data.pkl'\n",
    "\n",
    "infile=open(data_file,'rb')\n",
    "trend=pkl.load(infile)\n",
    "nazioni=pkl.load(infile)\n",
    "continent_nations=pkl.load(infile)\n",
    "infile.close()"
   ]
  },
  {
   "cell_type": "code",
   "execution_count": 4,
   "metadata": {},
   "outputs": [
    {
     "name": "stdout",
     "output_type": "stream",
     "text": [
      "Albania  Deaths per million: 0.695   handwashing_facilities: 10.000\n",
      "Andorra  Deaths per million: 0.000   handwashing_facilities: 10.000\n",
      "Austria  Deaths per million: 0.111   handwashing_facilities: 10.000\n",
      "Belarus  Deaths per million: 0.635   handwashing_facilities: 10.000\n",
      "Belgium  Deaths per million: 0.000   handwashing_facilities: 10.000\n",
      "Bosnia and Herzegovina  Deaths per million: 0.610   handwashing_facilities: 10.000\n",
      "Bulgaria  Deaths per million: 1.007   handwashing_facilities: 10.000\n",
      "Croatia  Deaths per million: 0.244   handwashing_facilities: 10.000\n",
      "Cyprus  Deaths per million: 0.000   handwashing_facilities: 10.000\n",
      "Czech Republic  Deaths per million: 0.187   handwashing_facilities: 10.000\n",
      "Denmark  Deaths per million: 0.000   handwashing_facilities: 10.000\n",
      "Estonia  Deaths per million: 0.000   handwashing_facilities: 10.000\n",
      "Faeroe Islands  Deaths per million: 0.000   handwashing_facilities: 10.000\n",
      "Finland  Deaths per million: 0.000   handwashing_facilities: 10.000\n",
      "France  Deaths per million: 0.000   handwashing_facilities: 10.000\n",
      "Germany  Deaths per million: 0.084   handwashing_facilities: 10.000\n",
      "Gibraltar  Deaths per million: 0.000   handwashing_facilities: 10.000\n",
      "Greece  Deaths per million: 0.000   handwashing_facilities: 10.000\n",
      "Guernsey  Deaths per million: 0.000   handwashing_facilities: 10.000\n",
      "Hungary  Deaths per million: 0.000   handwashing_facilities: 10.000\n",
      "Iceland  Deaths per million: 0.000   handwashing_facilities: 10.000\n",
      "Ireland  Deaths per million: 0.000   handwashing_facilities: 10.000\n",
      "Isle of Man  Deaths per million: 0.000   handwashing_facilities: 10.000\n",
      "Italy  Deaths per million: 0.281   handwashing_facilities: 10.000\n",
      "Jersey  Deaths per million: 0.000   handwashing_facilities: 10.000\n",
      "Kosovo  Deaths per million: 0.000   handwashing_facilities: 10.000\n",
      "Latvia  Deaths per million: 0.000   handwashing_facilities: 10.000\n",
      "Liechtenstein  Deaths per million: 0.000   handwashing_facilities: 10.000\n",
      "Lithuania  Deaths per million: 0.000   handwashing_facilities: 10.000\n",
      "Luxembourg  Deaths per million: 0.000   handwashing_facilities: 10.000\n",
      "Macedonia  Deaths per million: 1.920   handwashing_facilities: 10.000\n",
      "Malta  Deaths per million: 0.000   handwashing_facilities: 10.000\n",
      "Moldova  Deaths per million: 2.231   handwashing_facilities: 10.000\n",
      "Monaco  Deaths per million: 0.000   handwashing_facilities: 10.000\n",
      "Montenegro  Deaths per million: 0.000   handwashing_facilities: 10.000\n",
      "Netherlands  Deaths per million: 0.000   handwashing_facilities: 10.000\n",
      "Norway  Deaths per million: 0.000   handwashing_facilities: 10.000\n",
      "Poland  Deaths per million: 0.317   handwashing_facilities: 10.000\n",
      "Portugal  Deaths per million: 0.588   handwashing_facilities: 10.000\n",
      "Romania  Deaths per million: 1.559   handwashing_facilities: 10.000\n",
      "Russia  Deaths per million: 1.199   handwashing_facilities: 10.000\n",
      "San Marino  Deaths per million: 0.000   handwashing_facilities: 10.000\n",
      "Serbia  Deaths per million: 1.910   handwashing_facilities: 10.000\n",
      "Slovakia  Deaths per million: 0.000   handwashing_facilities: 10.000\n",
      "Slovenia  Deaths per million: 0.000   handwashing_facilities: 10.000\n",
      "Spain  Deaths per million: 0.064   handwashing_facilities: 10.000\n",
      "Sweden  Deaths per million: 0.891   handwashing_facilities: 10.000\n",
      "Switzerland  Deaths per million: 0.231   handwashing_facilities: 10.000\n",
      "Ukraine  Deaths per million: 0.000   handwashing_facilities: 10.000\n",
      "United Kingdom  Deaths per million: 2.033   handwashing_facilities: 10.000\n",
      "Vatican  Deaths per million: 0.000   handwashing_facilities: 10.000\n"
     ]
    }
   ],
   "source": [
    "for naz in continent_nations['europe']:\n",
    "    nome_indicatore='handwashing_facilities'\n",
    "    print('%s  Deaths per million: %.3f   %s: %.3f'%(naz,\n",
    "                                                     trend['new_deaths_per_million'][naz][-1],\n",
    "                                                     nome_indicatore,\n",
    "                                                     trend[nome_indicatore][naz][0]))"
   ]
  },
  {
   "cell_type": "code",
   "execution_count": null,
   "metadata": {},
   "outputs": [],
   "source": []
  }
 ],
 "metadata": {
  "kernelspec": {
   "display_name": "Python 3.7.1 64-bit ('klaat': virtualenv)",
   "language": "python",
   "name": "python37164bitklaatvirtualenv68391259d5714fc793cf295373d8f8d2"
  },
  "language_info": {
   "codemirror_mode": {
    "name": "ipython",
    "version": 3
   },
   "file_extension": ".py",
   "mimetype": "text/x-python",
   "name": "python",
   "nbconvert_exporter": "python",
   "pygments_lexer": "ipython3",
   "version": "3.7.1"
  }
 },
 "nbformat": 4,
 "nbformat_minor": 2
}
