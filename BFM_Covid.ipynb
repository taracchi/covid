{
 "cells": [
  {
   "cell_type": "markdown",
   "metadata": {},
   "source": [
    "# Test predizione COVID con BackFeatureMapper"
   ]
  },
  {
   "cell_type": "code",
   "execution_count": 1,
   "metadata": {},
   "outputs": [],
   "source": [
    "import pickle\n",
    "import numpy as np\n",
    "import pandas as pd\n",
    "from aidam.miscellanea_utils import var_column_mapper\n",
    "from matplotlib import pyplot as plt\n",
    "from aidam.BackFeatureMapper import BackFeatureBrewer, BackFeatureMapper\n",
    "from sklearn.preprocessing import StandardScaler, MinMaxScaler"
   ]
  },
  {
   "cell_type": "code",
   "execution_count": 2,
   "metadata": {},
   "outputs": [],
   "source": [
    "data_file='stored_data.pkl'"
   ]
  },
  {
   "cell_type": "markdown",
   "metadata": {},
   "source": [
    "## Data import e preprocessing"
   ]
  },
  {
   "cell_type": "code",
   "execution_count": 3,
   "metadata": {},
   "outputs": [],
   "source": [
    "# lettura dati\n",
    "infile=open(data_file,'rb')\n",
    "trend=pickle.load(infile)\n",
    "regioni=pickle.load(infile)\n",
    "giorni=pickle.load(infile)\n",
    "giorno_settimana=pickle.load(infile)\n",
    "infile.close()"
   ]
  },
  {
   "cell_type": "markdown",
   "metadata": {},
   "source": [
    "### Creazione della matrice di input e target"
   ]
  },
  {
   "cell_type": "code",
   "execution_count": 58,
   "metadata": {},
   "outputs": [],
   "source": [
    "# selezione regione oggetto dello studio\n",
    "regione='Italia'\n",
    "\n",
    "# costruzione matrici di input e target\n",
    "input_vars=['totale_ospedalizzati']\n",
    "target_var='terapia_intensiva'\n",
    "input_list=[]\n",
    "input_list=[trend[v][regione] for v in input_vars]\n",
    "input_data=np.array(input_list).T\n",
    "target_data=trend[target_var][regione]\n",
    "\n",
    "\n",
    "scaler=MinMaxScaler()\n",
    "scaler.fit(input_data)\n",
    "input_data=scaler.transform(input_data)\n"
   ]
  },
  {
   "cell_type": "markdown",
   "metadata": {},
   "source": [
    "### Divisione training test"
   ]
  },
  {
   "cell_type": "code",
   "execution_count": 59,
   "metadata": {},
   "outputs": [
    {
     "name": "stdout",
     "output_type": "stream",
     "text": [
      "RAW DATA\n",
      "193 Training samples   84 Validation samples\n"
     ]
    }
   ],
   "source": [
    "num_samples=len(giorni)\n",
    "\n",
    "num_tr_samples=int(num_samples*0.7)\n",
    "num_tr_samples\n",
    "\n",
    "input_tr=input_data[0:num_tr_samples,:]\n",
    "input_ts=input_data[num_tr_samples:,:]\n",
    "\n",
    "target_tr=target_data[0:num_tr_samples]\n",
    "target_ts=target_data[num_tr_samples:]\n",
    "\n",
    "\n",
    "print('RAW DATA')\n",
    "print('%d Training samples   %d Validation samples'%(len(target_tr),len(target_ts)))"
   ]
  },
  {
   "cell_type": "code",
   "execution_count": 60,
   "metadata": {},
   "outputs": [
    {
     "data": {
      "text/plain": [
       "[<matplotlib.lines.Line2D at 0x234bfb3acc0>]"
      ]
     },
     "execution_count": 60,
     "metadata": {},
     "output_type": "execute_result"
    },
    {
     "data": {
      "image/png": "[encoded data removed]",
      "text/plain": [
       "<Figure size 432x288 with 1 Axes>"
      ]
     },
     "metadata": {
      "needs_background": "light"
     },
     "output_type": "display_data"
    }
   ],
   "source": [
    "plt.plot(list(range(0,num_tr_samples)),target_tr,'b.-')\n",
    "plt.plot(list(range(num_tr_samples,num_samples)),target_ts,'r.-')"
   ]
  },
  {
   "cell_type": "markdown",
   "metadata": {},
   "source": [
    "## Training e test modello"
   ]
  },
  {
   "cell_type": "markdown",
   "metadata": {},
   "source": [
    "### Preparazione e applicazione del mapper"
   ]
  },
  {
   "cell_type": "code",
   "execution_count": 67,
   "metadata": {},
   "outputs": [],
   "source": [
    "eso_backsight=5\n",
    "endo_backsight=5\n",
    "foresight=14\n",
    "\n",
    "def difference(x):\n",
    "    return x[-1]-x[0]\n",
    "\n",
    "\n",
    "eso=[BackFeatureMapper(column=0,backsight=eso_backsight,mapfun=np.mean),\n",
    "     BackFeatureMapper(column=0,backsight=eso_backsight,mapfun=difference)\n",
    "    ]\n",
    "endo=[BackFeatureMapper(column=0,backsight=endo_backsight,mapfun=np.mean)]\n",
    "\n",
    "\n",
    "the_brewer=BackFeatureBrewer(esomappers=eso, endomappers=endo)\n",
    "#the_brewer=BackFeatureBrewer(esomappers=eso)"
   ]
  },
  {
   "cell_type": "code",
   "execution_count": 68,
   "metadata": {},
   "outputs": [
    {
     "name": "stdout",
     "output_type": "stream",
     "text": [
      "FEATURES DATA\n",
      "174 Training samples   79 Validation samples\n",
      "Whole cut: 19\n",
      "Head cut: 5\n"
     ]
    }
   ],
   "source": [
    "indici_tr,tr_myin,tr_mytar=the_brewer.transform(input_tr,\n",
    "                                      target_tr,\n",
    "                                      map_target=True,\n",
    "                                      foresight=foresight)\n",
    "\n",
    "indici_ts,ts_myin=the_brewer.transform(input_ts,target_ts,\n",
    "                                      map_target=False,\n",
    "                                      foresight=foresight)\n",
    "\n",
    "print('FEATURES DATA')\n",
    "print('%d Training samples   %d Validation samples'%(tr_myin.shape[0],ts_myin.shape[0]))\n",
    "\n",
    "whole_cut=input_tr.shape[0]-tr_myin.shape[0]\n",
    "head_cut=whole_cut-foresight\n",
    "\n",
    "print('Whole cut: %d'%whole_cut)\n",
    "print('Head cut: %d'%head_cut)"
   ]
  },
  {
   "cell_type": "markdown",
   "metadata": {},
   "source": [
    "### Training e test modello"
   ]
  },
  {
   "cell_type": "code",
   "execution_count": 69,
   "metadata": {},
   "outputs": [
    {
     "name": "stdout",
     "output_type": "stream",
     "text": [
      "(174,)\n",
      "(79,)\n"
     ]
    }
   ],
   "source": [
    "from sklearn import linear_model\n",
    "model = linear_model.Lasso(alpha=1)\n",
    "\n",
    "model.fit(tr_myin,tr_mytar)\n",
    "\n",
    "tr_pred=model.predict(tr_myin)\n",
    "ts_pred=model.predict(ts_myin)\n",
    "\n",
    "print(tr_pred.shape)\n",
    "print(ts_pred.shape)"
   ]
  },
  {
   "cell_type": "code",
   "execution_count": 70,
   "metadata": {},
   "outputs": [
    {
     "data": {
      "image/png": "[encoded data removed]",
      "text/plain": [
       "<Figure size 864x576 with 1 Axes>"
      ]
     },
     "metadata": {
      "needs_background": "light"
     },
     "output_type": "display_data"
    }
   ],
   "source": [
    "#print('Errore TR: %5.2f   Errore TS: %5.2f'%(errore_tr,errore_ts))\n",
    "\n",
    "plt.figure(figsize=(12,8))\n",
    "plt.plot(range(len(target_tr)),target_tr,'b',label='TR Actual')\n",
    "plt.plot(range(whole_cut,len(target_tr)),tr_pred,'b.',label='TR Predicted')\n",
    "plt.plot(range(len(target_tr),num_samples),target_ts,'r',label='TS Actual')\n",
    "plt.plot(range(len(target_tr)+whole_cut,len(target_tr)+len(ts_pred)+whole_cut),ts_pred,'r.',label='TS Predicted')\n",
    "plt.title('Predizione %s con %d giorni di anticipo'%(target_var,foresight))\n",
    "plt.legend()\n",
    "plt.grid()\n",
    "plt.show()"
   ]
  },
  {
   "cell_type": "code",
   "execution_count": 57,
   "metadata": {},
   "outputs": [
    {
     "data": {
      "text/plain": [
       "array(['2020-02-24T18:00:00', '2020-02-25T18:00:00',\n",
       "       '2020-02-26T18:00:00', '2020-02-27T18:00:00',\n",
       "       '2020-02-28T18:00:00', '2020-02-29T17:00:00',\n",
       "       '2020-03-01T17:00:00', '2020-03-02T18:00:00',\n",
       "       '2020-03-03T18:00:00', '2020-03-04T17:00:00',\n",
       "       '2020-03-05T17:00:00', '2020-03-06T17:00:00',\n",
       "       '2020-03-07T18:00:00', '2020-03-08T18:00:00',\n",
       "       '2020-03-09T18:00:00', '2020-03-10T18:00:00',\n",
       "       '2020-03-11T17:00:00', '2020-03-12T17:00:00',\n",
       "       '2020-03-13T17:00:00', '2020-03-14T17:00:00',\n",
       "       '2020-03-15T17:00:00', '2020-03-16T17:00:00',\n",
       "       '2020-03-17T17:00:00', '2020-03-18T17:00:00',\n",
       "       '2020-03-19T17:00:00', '2020-03-20T17:00:00',\n",
       "       '2020-03-21T17:00:00', '2020-03-22T17:00:00',\n",
       "       '2020-03-23T17:00:00', '2020-03-24T17:00:00',\n",
       "       '2020-03-25T17:00:00', '2020-03-26T17:00:00',\n",
       "       '2020-03-27T17:00:00', '2020-03-28T17:00:00',\n",
       "       '2020-03-29T17:00:00', '2020-03-30T17:00:00',\n",
       "       '2020-03-31T17:00:00', '2020-04-01T17:00:00',\n",
       "       '2020-04-02T17:00:00', '2020-04-03T17:00:00',\n",
       "       '2020-04-04T17:00:00', '2020-04-05T17:00:00',\n",
       "       '2020-04-06T17:00:00', '2020-04-07T17:00:00',\n",
       "       '2020-04-08T17:00:00', '2020-04-09T17:00:00',\n",
       "       '2020-04-10T17:00:00', '2020-04-11T17:00:00',\n",
       "       '2020-04-12T17:00:00', '2020-04-13T17:00:00',\n",
       "       '2020-04-14T17:00:00', '2020-04-15T17:00:00',\n",
       "       '2020-04-16T17:00:00', '2020-04-17T17:00:00',\n",
       "       '2020-04-18T17:00:00', '2020-04-19T17:00:00',\n",
       "       '2020-04-20T17:00:00', '2020-04-21T17:00:00',\n",
       "       '2020-04-22T17:00:00', '2020-04-23T17:00:00',\n",
       "       '2020-04-24T17:00:00', '2020-04-25T17:00:00',\n",
       "       '2020-04-26T17:00:00', '2020-04-27T17:00:00',\n",
       "       '2020-04-28T17:00:00', '2020-04-29T17:00:00',\n",
       "       '2020-04-30T17:00:00', '2020-05-01T17:00:00',\n",
       "       '2020-05-02T17:00:00', '2020-05-03T17:00:00',\n",
       "       '2020-05-04T17:00:00', '2020-05-05T17:00:00',\n",
       "       '2020-05-06T17:00:00', '2020-05-07T17:00:00',\n",
       "       '2020-05-08T17:00:00', '2020-05-09T17:00:00',\n",
       "       '2020-05-10T17:00:00', '2020-05-11T17:00:00',\n",
       "       '2020-05-12T17:00:00', '2020-05-13T17:00:00',\n",
       "       '2020-05-14T17:00:00', '2020-05-15T17:00:00',\n",
       "       '2020-05-16T17:00:00', '2020-05-17T17:00:00',\n",
       "       '2020-05-18T17:00:00', '2020-05-19T17:00:00',\n",
       "       '2020-05-20T17:00:00', '2020-05-21T17:00:00',\n",
       "       '2020-05-22T17:00:00', '2020-05-23T17:00:00',\n",
       "       '2020-05-24T17:00:00', '2020-05-25T17:00:00',\n",
       "       '2020-05-26T17:00:00', '2020-05-27T17:00:00',\n",
       "       '2020-05-28T17:00:00', '2020-05-29T17:00:00',\n",
       "       '2020-05-30T17:00:00', '2020-05-31T17:00:00',\n",
       "       '2020-06-01T17:00:00', '2020-06-02T17:00:00',\n",
       "       '2020-06-03T17:00:00', '2020-06-04T17:00:00',\n",
       "       '2020-06-05T17:00:00', '2020-06-06T17:00:00',\n",
       "       '2020-06-07T17:00:00', '2020-06-08T17:00:00',\n",
       "       '2020-06-09T17:00:00', '2020-06-10T17:00:00',\n",
       "       '2020-06-11T17:00:00', '2020-06-12T17:00:00',\n",
       "       '2020-06-13T17:00:00', '2020-06-14T17:00:00',\n",
       "       '2020-06-15T17:00:00', '2020-06-16T17:00:00',\n",
       "       '2020-06-17T17:00:00', '2020-06-18T17:00:00',\n",
       "       '2020-06-19T17:00:00', '2020-06-20T17:00:00',\n",
       "       '2020-06-21T17:00:00', '2020-06-22T17:00:00',\n",
       "       '2020-06-23T17:00:00', '2020-06-24T17:00:00',\n",
       "       '2020-06-25T17:00:00', '2020-06-26T17:00:00',\n",
       "       '2020-06-27T17:00:00', '2020-06-28T17:00:00',\n",
       "       '2020-06-29T17:00:00', '2020-06-30T17:00:00',\n",
       "       '2020-07-01T17:00:00', '2020-07-02T17:00:00',\n",
       "       '2020-07-03T17:00:00', '2020-07-04T17:00:00',\n",
       "       '2020-07-05T17:00:00', '2020-07-06T17:00:00',\n",
       "       '2020-07-07T17:00:00', '2020-07-08T17:00:00',\n",
       "       '2020-07-09T17:00:00', '2020-07-10T17:00:00',\n",
       "       '2020-07-11T17:00:00', '2020-07-12T17:00:00',\n",
       "       '2020-07-13T17:00:00', '2020-07-14T17:00:00',\n",
       "       '2020-07-15T17:00:00', '2020-07-16T17:00:00',\n",
       "       '2020-07-17T17:00:00', '2020-07-18T17:00:00',\n",
       "       '2020-07-19T17:00:00', '2020-07-20T17:00:00',\n",
       "       '2020-07-21T17:00:00', '2020-07-22T17:00:00',\n",
       "       '2020-07-23T17:00:00', '2020-07-24T17:00:00',\n",
       "       '2020-07-25T17:00:00', '2020-07-26T17:00:00',\n",
       "       '2020-07-27T17:00:00', '2020-07-28T17:00:00',\n",
       "       '2020-07-29T17:00:00', '2020-07-30T17:00:00',\n",
       "       '2020-07-31T17:00:00', '2020-08-01T17:00:00',\n",
       "       '2020-08-02T17:00:00', '2020-08-03T17:00:00',\n",
       "       '2020-08-04T17:00:00', '2020-08-05T17:00:00',\n",
       "       '2020-08-06T17:00:00', '2020-08-07T17:00:00',\n",
       "       '2020-08-08T17:00:00', '2020-08-09T17:00:00',\n",
       "       '2020-08-10T17:00:00', '2020-08-11T17:00:00',\n",
       "       '2020-08-12T17:00:00', '2020-08-13T17:00:00',\n",
       "       '2020-08-14T17:00:00', '2020-08-15T17:00:00',\n",
       "       '2020-08-16T17:00:00', '2020-08-17T17:00:00',\n",
       "       '2020-08-18T17:00:00', '2020-08-19T17:00:00',\n",
       "       '2020-08-20T17:00:00', '2020-08-21T17:00:00',\n",
       "       '2020-08-22T17:00:00', '2020-08-23T17:00:00',\n",
       "       '2020-08-24T17:00:00', '2020-08-25T17:00:00',\n",
       "       '2020-08-26T17:00:00', '2020-08-27T17:00:00',\n",
       "       '2020-08-28T17:00:00', '2020-08-29T17:00:00',\n",
       "       '2020-08-30T17:00:00', '2020-08-31T17:00:00',\n",
       "       '2020-09-01T17:00:00', '2020-09-02T17:00:00',\n",
       "       '2020-09-03T17:00:00', '2020-09-04T17:00:00',\n",
       "       '2020-09-05T17:00:00', '2020-09-06T17:00:00',\n",
       "       '2020-09-07T17:00:00', '2020-09-08T17:00:00',\n",
       "       '2020-09-09T17:00:00', '2020-09-10T17:00:00',\n",
       "       '2020-09-11T17:00:00', '2020-09-12T17:00:00',\n",
       "       '2020-09-13T17:00:00', '2020-09-14T17:00:00',\n",
       "       '2020-09-15T17:00:00', '2020-09-16T17:00:00',\n",
       "       '2020-09-17T17:00:00', '2020-09-18T17:00:00',\n",
       "       '2020-09-19T17:00:00', '2020-09-20T17:00:00',\n",
       "       '2020-09-21T17:00:00', '2020-09-22T17:00:00',\n",
       "       '2020-09-23T17:00:00', '2020-09-24T17:00:00',\n",
       "       '2020-09-25T17:00:00', '2020-09-26T17:00:00',\n",
       "       '2020-09-27T17:00:00', '2020-09-28T17:00:00',\n",
       "       '2020-09-29T17:00:00', '2020-09-30T17:00:00',\n",
       "       '2020-10-01T17:00:00', '2020-10-02T17:00:00',\n",
       "       '2020-10-03T17:00:00', '2020-10-04T17:00:00',\n",
       "       '2020-10-05T17:00:00', '2020-10-06T17:00:00',\n",
       "       '2020-10-07T17:00:00', '2020-10-08T17:00:00',\n",
       "       '2020-10-09T17:00:00', '2020-10-10T17:00:00',\n",
       "       '2020-10-11T17:00:00', '2020-10-12T17:00:00',\n",
       "       '2020-10-13T17:00:00', '2020-10-14T17:00:00',\n",
       "       '2020-10-15T17:00:00', '2020-10-16T17:00:00',\n",
       "       '2020-10-17T17:00:00', '2020-10-18T17:00:00',\n",
       "       '2020-10-19T17:00:00', '2020-10-20T17:00:00',\n",
       "       '2020-10-21T17:00:00', '2020-10-22T17:00:00',\n",
       "       '2020-10-23T17:00:00', '2020-10-24T17:00:00',\n",
       "       '2020-10-25T17:00:00', '2020-10-26T17:00:00',\n",
       "       '2020-10-27T17:00:00', '2020-10-28T17:00:00',\n",
       "       '2020-10-29T17:00:00', '2020-10-30T17:00:00',\n",
       "       '2020-10-31T17:00:00', '2020-11-01T17:00:00',\n",
       "       '2020-11-02T17:00:00', '2020-11-03T17:00:00',\n",
       "       '2020-11-04T17:00:00', '2020-11-05T17:00:00',\n",
       "       '2020-11-06T17:00:00', '2020-11-07T17:00:00',\n",
       "       '2020-11-08T17:00:00', '2020-11-09T17:00:00',\n",
       "       '2020-11-10T17:00:00', '2020-11-11T17:00:00',\n",
       "       '2020-11-12T17:00:00', '2020-11-13T17:00:00',\n",
       "       '2020-11-14T17:00:00', '2020-11-15T17:00:00',\n",
       "       '2020-11-16T17:00:00', '2020-11-17T17:00:00',\n",
       "       '2020-11-18T17:00:00', '2020-11-19T17:00:00',\n",
       "       '2020-11-20T17:00:00', '2020-11-21T17:00:00',\n",
       "       '2020-11-22T17:00:00', '2020-11-23T17:00:00',\n",
       "       '2020-11-24T17:00:00', '2020-11-25T17:00:00',\n",
       "       '2020-11-26T17:00:00'], dtype=object)"
      ]
     },
     "execution_count": 57,
     "metadata": {},
     "output_type": "execute_result"
    }
   ],
   "source": [
    "giorni"
   ]
  },
  {
   "cell_type": "code",
   "execution_count": 27,
   "metadata": {},
   "outputs": [
    {
     "data": {
      "text/plain": [
       "array([ 60.0673535 ,  62.934812  ,  66.12083031,  64.51653708,\n",
       "        67.7456091 ,  70.92474766,  69.09625826,  69.66691641,\n",
       "        71.52865158,  68.45070718,  70.3658157 ,  70.73483624,\n",
       "        72.4265641 ,  72.69242195,  78.76993827,  75.13093473,\n",
       "        75.04468318,  72.22786919,  73.68694533,  73.76134109,\n",
       "        77.38318489,  80.88982642,  86.78591203,  86.58775396,\n",
       "        87.16185198,  82.96021349,  88.40184252,  87.13613221,\n",
       "        93.86711833,  96.99541899, 110.41620159, 108.68432304,\n",
       "       116.73997543, 127.24407711, 147.02596052, 149.52060555,\n",
       "       178.90958254, 184.59861253, 196.20016723, 205.03411481,\n",
       "       219.51664853, 228.86373594, 258.28876686, 272.37101731,\n",
       "       265.4906344 , 301.12019044, 302.72883887, 312.25696426,\n",
       "       363.49654105, 406.1028687 , 418.5687275 , 440.81445567,\n",
       "       488.54421416, 447.79312169, 463.83570121, 539.09405388,\n",
       "       548.0490002 , 569.28857265, 621.48525097, 637.00863834,\n",
       "       568.57097438, 607.25178581, 665.17587924, 691.71721683,\n",
       "       710.36612445, 712.63733854, 711.48778547, 660.35811919,\n",
       "       637.89501605, 723.31435704, 767.49070174, 743.10575444,\n",
       "       744.52435095, 746.29043388, 628.27253636, 632.75295157,\n",
       "       720.27066941, 671.19266891, 701.48410571])"
      ]
     },
     "execution_count": 27,
     "metadata": {},
     "output_type": "execute_result"
    }
   ],
   "source": [
    "ts_pred"
   ]
  },
  {
   "cell_type": "code",
   "execution_count": null,
   "metadata": {},
   "outputs": [],
   "source": []
  }
 ],
 "metadata": {
  "kernelspec": {
   "display_name": "Python 3.7.1 64-bit ('klaat': virtualenv)",
   "language": "python",
   "name": "python37164bitklaatvirtualenv68391259d5714fc793cf295373d8f8d2"
  },
  "language_info": {
   "codemirror_mode": {
    "name": "ipython",
    "version": 3
   },
   "file_extension": ".py",
   "mimetype": "text/x-python",
   "name": "python",
   "nbconvert_exporter": "python",
   "pygments_lexer": "ipython3",
   "version": "3.7.1"
  }
 },
 "nbformat": 4,
 "nbformat_minor": 4
}
