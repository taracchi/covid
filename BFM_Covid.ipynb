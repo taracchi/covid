{
 "cells": [
  {
   "cell_type": "markdown",
   "metadata": {},
   "source": [
    "# Test predizione COVID con BackFeatureMapper"
   ]
  },
  {
   "cell_type": "code",
   "execution_count": 39,
   "metadata": {},
   "outputs": [],
   "source": [
    "import pickle\n",
    "import numpy as np\n",
    "import pandas as pd\n",
    "from aidam.miscellanea_utils import var_column_mapper\n",
    "from matplotlib import pyplot as plt\n",
    "from aidam.BackFeatureMapper import BackFeatureBrewer, BackFeatureMapper\n",
    "from sklearn.preprocessing import StandardScaler, MinMaxScaler"
   ]
  },
  {
   "cell_type": "code",
   "execution_count": 40,
   "metadata": {},
   "outputs": [],
   "source": [
    "data_file='stored_data.pkl'"
   ]
  },
  {
   "cell_type": "markdown",
   "metadata": {},
   "source": [
    "## Data import e preprocessing"
   ]
  },
  {
   "cell_type": "code",
   "execution_count": 41,
   "metadata": {},
   "outputs": [],
   "source": [
    "# lettura dati\n",
    "infile=open(data_file,'rb')\n",
    "trend=pickle.load(infile)\n",
    "regioni=pickle.load(infile)\n",
    "giorni=pickle.load(infile)\n",
    "giorno_settimana=pickle.load(infile)\n",
    "infile.close()"
   ]
  },
  {
   "cell_type": "markdown",
   "metadata": {},
   "source": [
    "### Creazione della matrice di input e target"
   ]
  },
  {
   "cell_type": "code",
   "execution_count": 42,
   "metadata": {},
   "outputs": [],
   "source": [
    "# selezione regione oggetto dello studio\n",
    "regione='Italia'\n",
    "\n",
    "# costruzione matrici di input e target\n",
    "input_vars=['totale_positivi']\n",
    "target_var='nuovi_positivi'\n",
    "input_list=[]\n",
    "input_list=[trend[v][regione] for v in input_vars]\n",
    "input_data=np.array(input_list).T\n",
    "target_data=trend[target_var][regione]\n",
    "\n",
    "\n",
    "scaler=StandardScaler()\n",
    "scaler.fit(input_data)\n",
    "input_data=scaler.transform(input_data)\n"
   ]
  },
  {
   "cell_type": "markdown",
   "metadata": {},
   "source": [
    "### Divisione training test"
   ]
  },
  {
   "cell_type": "code",
   "execution_count": 43,
   "metadata": {},
   "outputs": [
    {
     "name": "stdout",
     "output_type": "stream",
     "text": [
      "RAW DATA\n",
      "450 Training samples   194 Validation samples\n"
     ]
    }
   ],
   "source": [
    "num_samples=len(giorni)\n",
    "\n",
    "num_tr_samples=int(num_samples*0.7)\n",
    "num_tr_samples\n",
    "\n",
    "input_tr=input_data[0:num_tr_samples,:]\n",
    "input_ts=input_data[num_tr_samples:,:]\n",
    "\n",
    "target_tr=target_data[0:num_tr_samples]\n",
    "target_ts=target_data[num_tr_samples:]\n",
    "\n",
    "\n",
    "print('RAW DATA')\n",
    "print('%d Training samples   %d Validation samples'%(len(target_tr),len(target_ts)))"
   ]
  },
  {
   "cell_type": "code",
   "execution_count": 44,
   "metadata": {},
   "outputs": [
    {
     "data": {
      "text/plain": [
       "[<matplotlib.lines.Line2D at 0x1ba9fe36c08>]"
      ]
     },
     "execution_count": 44,
     "metadata": {},
     "output_type": "execute_result"
    },
    {
     "data": {
      "image/png": "[encoded data removed]",
      "text/plain": [
       "<Figure size 432x288 with 1 Axes>"
      ]
     },
     "metadata": {
      "needs_background": "light"
     },
     "output_type": "display_data"
    }
   ],
   "source": [
    "plt.plot(list(range(0,num_tr_samples)),target_tr,'b.-')\n",
    "plt.plot(list(range(num_tr_samples,num_samples)),target_ts,'r.-')"
   ]
  },
  {
   "cell_type": "markdown",
   "metadata": {},
   "source": [
    "## Training e test modello"
   ]
  },
  {
   "cell_type": "markdown",
   "metadata": {},
   "source": [
    "### Preparazione e applicazione del mapper"
   ]
  },
  {
   "cell_type": "code",
   "execution_count": 51,
   "metadata": {},
   "outputs": [],
   "source": [
    "eso_backsight=7\n",
    "endo_backsight=7\n",
    "foresight=10\n",
    "\n",
    "def difference(x):\n",
    "    return x[-1]-x[0]\n",
    "\n",
    "'''\n",
    "eso=[BackFeatureMapper(column=0,backsight=eso_backsight,mapfun=np.mean),\n",
    "     BackFeatureMapper(column=0,backsight=eso_backsight,mapfun=difference)\n",
    "    ]'''\n",
    "eso = [BackFeatureMapper(column=0, backsight=eso_backsight, mapfun=np.mean)\n",
    "       ]\n",
    "endo=[BackFeatureMapper(column=0,backsight=endo_backsight,mapfun=np.mean)]\n",
    "\n",
    "\n",
    "#the_brewer=BackFeatureBrewer(esomappers=eso, endomappers=endo)\n",
    "the_brewer=BackFeatureBrewer(esomappers=eso)\n"
   ]
  },
  {
   "cell_type": "code",
   "execution_count": 53,
   "metadata": {},
   "outputs": [
    {
     "name": "stdout",
     "output_type": "stream",
     "text": [
      "FEATURES DATA\n",
      "433 Training samples   187 Validation samples\n",
      "Whole cut: 17\n",
      "Head cut: 7\n"
     ]
    }
   ],
   "source": [
    "indici_tr,tr_myin,tr_mytar=the_brewer.transform(input_tr,\n",
    "                                      target_tr,\n",
    "                                      map_target=True,\n",
    "                                      foresight=foresight)\n",
    "\n",
    "indici_ts,ts_myin=the_brewer.transform(input_ts,target_ts,\n",
    "                                      map_target=False,\n",
    "                                      foresight=foresight)\n",
    "\n",
    "print('FEATURES DATA')\n",
    "print('%d Training samples   %d Validation samples'%(tr_myin.shape[0],ts_myin.shape[0]))\n",
    "\n",
    "whole_cut=input_tr.shape[0]-tr_myin.shape[0]\n",
    "head_cut=whole_cut-foresight\n",
    "\n",
    "print('Whole cut: %d'%whole_cut)\n",
    "print('Head cut: %d'%head_cut)"
   ]
  },
  {
   "cell_type": "markdown",
   "metadata": {},
   "source": [
    "### Training e test modello"
   ]
  },
  {
   "cell_type": "code",
   "execution_count": 54,
   "metadata": {},
   "outputs": [
    {
     "name": "stdout",
     "output_type": "stream",
     "text": [
      "(433,)\n",
      "(187,)\n"
     ]
    }
   ],
   "source": [
    "from sklearn import linear_model\n",
    "model = linear_model.Lasso(alpha=1)\n",
    "\n",
    "model.fit(tr_myin,tr_mytar)\n",
    "\n",
    "tr_pred=model.predict(tr_myin)\n",
    "ts_pred=model.predict(ts_myin)\n",
    "\n",
    "print(tr_pred.shape)\n",
    "print(ts_pred.shape)"
   ]
  },
  {
   "cell_type": "code",
   "execution_count": 55,
   "metadata": {},
   "outputs": [
    {
     "data": {
      "image/png": "[encoded data removed]",
      "text/plain": [
       "<Figure size 864x576 with 1 Axes>"
      ]
     },
     "metadata": {
      "needs_background": "light"
     },
     "output_type": "display_data"
    }
   ],
   "source": [
    "#print('Errore TR: %5.2f   Errore TS: %5.2f'%(errore_tr,errore_ts))\n",
    "\n",
    "plt.figure(figsize=(12,8))\n",
    "plt.plot(range(len(target_tr)),target_tr,'b',label='TR Actual')\n",
    "plt.plot(range(whole_cut,len(target_tr)),tr_pred,'b.',label='TR Predicted')\n",
    "plt.plot(range(len(target_tr),num_samples),target_ts,'r',label='TS Actual')\n",
    "plt.plot(range(len(target_tr)+whole_cut,len(target_tr)+len(ts_pred)+whole_cut),ts_pred,'r.',label='TS Predicted')\n",
    "plt.title('Predizione %s con %d giorni di anticipo'%(target_var,foresight))\n",
    "plt.legend()\n",
    "plt.grid()\n",
    "plt.show()"
   ]
  },
  {
   "cell_type": "code",
   "execution_count": 49,
   "metadata": {},
   "outputs": [
    {
     "data": {
      "text/plain": [
       "array(['2020-02-24T18:00:00', '2020-02-25T18:00:00',\n",
       "       '2020-02-26T18:00:00', '2020-02-27T18:00:00',\n",
       "       '2020-02-28T18:00:00', '2020-02-29T17:00:00',\n",
       "       '2020-03-01T17:00:00', '2020-03-02T18:00:00',\n",
       "       '2020-03-03T18:00:00', '2020-03-04T17:00:00',\n",
       "       '2020-03-05T17:00:00', '2020-03-06T17:00:00',\n",
       "       '2020-03-07T18:00:00', '2020-03-08T18:00:00',\n",
       "       '2020-03-09T18:00:00', '2020-03-10T18:00:00',\n",
       "       '2020-03-11T17:00:00', '2020-03-12T17:00:00',\n",
       "       '2020-03-13T17:00:00', '2020-03-14T17:00:00',\n",
       "       '2020-03-15T17:00:00', '2020-03-16T17:00:00',\n",
       "       '2020-03-17T17:00:00', '2020-03-18T17:00:00',\n",
       "       '2020-03-19T17:00:00', '2020-03-20T17:00:00',\n",
       "       '2020-03-21T17:00:00', '2020-03-22T17:00:00',\n",
       "       '2020-03-23T17:00:00', '2020-03-24T17:00:00',\n",
       "       '2020-03-25T17:00:00', '2020-03-26T17:00:00',\n",
       "       '2020-03-27T17:00:00', '2020-03-28T17:00:00',\n",
       "       '2020-03-29T17:00:00', '2020-03-30T17:00:00',\n",
       "       '2020-03-31T17:00:00', '2020-04-01T17:00:00',\n",
       "       '2020-04-02T17:00:00', '2020-04-03T17:00:00',\n",
       "       '2020-04-04T17:00:00', '2020-04-05T17:00:00',\n",
       "       '2020-04-06T17:00:00', '2020-04-07T17:00:00',\n",
       "       '2020-04-08T17:00:00', '2020-04-09T17:00:00',\n",
       "       '2020-04-10T17:00:00', '2020-04-11T17:00:00',\n",
       "       '2020-04-12T17:00:00', '2020-04-13T17:00:00',\n",
       "       '2020-04-14T17:00:00', '2020-04-15T17:00:00',\n",
       "       '2020-04-16T17:00:00', '2020-04-17T17:00:00',\n",
       "       '2020-04-18T17:00:00', '2020-04-19T17:00:00',\n",
       "       '2020-04-20T17:00:00', '2020-04-21T17:00:00',\n",
       "       '2020-04-22T17:00:00', '2020-04-23T17:00:00',\n",
       "       '2020-04-24T17:00:00', '2020-04-25T17:00:00',\n",
       "       '2020-04-26T17:00:00', '2020-04-27T17:00:00',\n",
       "       '2020-04-28T17:00:00', '2020-04-29T17:00:00',\n",
       "       '2020-04-30T17:00:00', '2020-05-01T17:00:00',\n",
       "       '2020-05-02T17:00:00', '2020-05-03T17:00:00',\n",
       "       '2020-05-04T17:00:00', '2020-05-05T17:00:00',\n",
       "       '2020-05-06T17:00:00', '2020-05-07T17:00:00',\n",
       "       '2020-05-08T17:00:00', '2020-05-09T17:00:00',\n",
       "       '2020-05-10T17:00:00', '2020-05-11T17:00:00',\n",
       "       '2020-05-12T17:00:00', '2020-05-13T17:00:00',\n",
       "       '2020-05-14T17:00:00', '2020-05-15T17:00:00',\n",
       "       '2020-05-16T17:00:00', '2020-05-17T17:00:00',\n",
       "       '2020-05-18T17:00:00', '2020-05-19T17:00:00',\n",
       "       '2020-05-20T17:00:00', '2020-05-21T17:00:00',\n",
       "       '2020-05-22T17:00:00', '2020-05-23T17:00:00',\n",
       "       '2020-05-24T17:00:00', '2020-05-25T17:00:00',\n",
       "       '2020-05-26T17:00:00', '2020-05-27T17:00:00',\n",
       "       '2020-05-28T17:00:00', '2020-05-29T17:00:00',\n",
       "       '2020-05-30T17:00:00', '2020-05-31T17:00:00',\n",
       "       '2020-06-01T17:00:00', '2020-06-02T17:00:00',\n",
       "       '2020-06-03T17:00:00', '2020-06-04T17:00:00',\n",
       "       '2020-06-05T17:00:00', '2020-06-06T17:00:00',\n",
       "       '2020-06-07T17:00:00', '2020-06-08T17:00:00',\n",
       "       '2020-06-09T17:00:00', '2020-06-10T17:00:00',\n",
       "       '2020-06-11T17:00:00', '2020-06-12T17:00:00',\n",
       "       '2020-06-13T17:00:00', '2020-06-14T17:00:00',\n",
       "       '2020-06-15T17:00:00', '2020-06-16T17:00:00',\n",
       "       '2020-06-17T17:00:00', '2020-06-18T17:00:00',\n",
       "       '2020-06-19T17:00:00', '2020-06-20T17:00:00',\n",
       "       '2020-06-21T17:00:00', '2020-06-22T17:00:00',\n",
       "       '2020-06-23T17:00:00', '2020-06-24T17:00:00',\n",
       "       '2020-06-25T17:00:00', '2020-06-26T17:00:00',\n",
       "       '2020-06-27T17:00:00', '2020-06-28T17:00:00',\n",
       "       '2020-06-29T17:00:00', '2020-06-30T17:00:00',\n",
       "       '2020-07-01T17:00:00', '2020-07-02T17:00:00',\n",
       "       '2020-07-03T17:00:00', '2020-07-04T17:00:00',\n",
       "       '2020-07-05T17:00:00', '2020-07-06T17:00:00',\n",
       "       '2020-07-07T17:00:00', '2020-07-08T17:00:00',\n",
       "       '2020-07-09T17:00:00', '2020-07-10T17:00:00',\n",
       "       '2020-07-11T17:00:00', '2020-07-12T17:00:00',\n",
       "       '2020-07-13T17:00:00', '2020-07-14T17:00:00',\n",
       "       '2020-07-15T17:00:00', '2020-07-16T17:00:00',\n",
       "       '2020-07-17T17:00:00', '2020-07-18T17:00:00',\n",
       "       '2020-07-19T17:00:00', '2020-07-20T17:00:00',\n",
       "       '2020-07-21T17:00:00', '2020-07-22T17:00:00',\n",
       "       '2020-07-23T17:00:00', '2020-07-24T17:00:00',\n",
       "       '2020-07-25T17:00:00', '2020-07-26T17:00:00',\n",
       "       '2020-07-27T17:00:00', '2020-07-28T17:00:00',\n",
       "       '2020-07-29T17:00:00', '2020-07-30T17:00:00',\n",
       "       '2020-07-31T17:00:00', '2020-08-01T17:00:00',\n",
       "       '2020-08-02T17:00:00', '2020-08-03T17:00:00',\n",
       "       '2020-08-04T17:00:00', '2020-08-05T17:00:00',\n",
       "       '2020-08-06T17:00:00', '2020-08-07T17:00:00',\n",
       "       '2020-08-08T17:00:00', '2020-08-09T17:00:00',\n",
       "       '2020-08-10T17:00:00', '2020-08-11T17:00:00',\n",
       "       '2020-08-12T17:00:00', '2020-08-13T17:00:00',\n",
       "       '2020-08-14T17:00:00', '2020-08-15T17:00:00',\n",
       "       '2020-08-16T17:00:00', '2020-08-17T17:00:00',\n",
       "       '2020-08-18T17:00:00', '2020-08-19T17:00:00',\n",
       "       '2020-08-20T17:00:00', '2020-08-21T17:00:00',\n",
       "       '2020-08-22T17:00:00', '2020-08-23T17:00:00',\n",
       "       '2020-08-24T17:00:00', '2020-08-25T17:00:00',\n",
       "       '2020-08-26T17:00:00', '2020-08-27T17:00:00',\n",
       "       '2020-08-28T17:00:00', '2020-08-29T17:00:00',\n",
       "       '2020-08-30T17:00:00', '2020-08-31T17:00:00',\n",
       "       '2020-09-01T17:00:00', '2020-09-02T17:00:00',\n",
       "       '2020-09-03T17:00:00', '2020-09-04T17:00:00',\n",
       "       '2020-09-05T17:00:00', '2020-09-06T17:00:00',\n",
       "       '2020-09-07T17:00:00', '2020-09-08T17:00:00',\n",
       "       '2020-09-09T17:00:00', '2020-09-10T17:00:00',\n",
       "       '2020-09-11T17:00:00', '2020-09-12T17:00:00',\n",
       "       '2020-09-13T17:00:00', '2020-09-14T17:00:00',\n",
       "       '2020-09-15T17:00:00', '2020-09-16T17:00:00',\n",
       "       '2020-09-17T17:00:00', '2020-09-18T17:00:00',\n",
       "       '2020-09-19T17:00:00', '2020-09-20T17:00:00',\n",
       "       '2020-09-21T17:00:00', '2020-09-22T17:00:00',\n",
       "       '2020-09-23T17:00:00', '2020-09-24T17:00:00',\n",
       "       '2020-09-25T17:00:00', '2020-09-26T17:00:00',\n",
       "       '2020-09-27T17:00:00', '2020-09-28T17:00:00',\n",
       "       '2020-09-29T17:00:00', '2020-09-30T17:00:00',\n",
       "       '2020-10-01T17:00:00', '2020-10-02T17:00:00',\n",
       "       '2020-10-03T17:00:00', '2020-10-04T17:00:00',\n",
       "       '2020-10-05T17:00:00', '2020-10-06T17:00:00',\n",
       "       '2020-10-07T17:00:00', '2020-10-08T17:00:00',\n",
       "       '2020-10-09T17:00:00', '2020-10-10T17:00:00',\n",
       "       '2020-10-11T17:00:00', '2020-10-12T17:00:00',\n",
       "       '2020-10-13T17:00:00', '2020-10-14T17:00:00',\n",
       "       '2020-10-15T17:00:00', '2020-10-16T17:00:00',\n",
       "       '2020-10-17T17:00:00', '2020-10-18T17:00:00',\n",
       "       '2020-10-19T17:00:00', '2020-10-20T17:00:00',\n",
       "       '2020-10-21T17:00:00', '2020-10-22T17:00:00',\n",
       "       '2020-10-23T17:00:00', '2020-10-24T17:00:00',\n",
       "       '2020-10-25T17:00:00', '2020-10-26T17:00:00',\n",
       "       '2020-10-27T17:00:00', '2020-10-28T17:00:00',\n",
       "       '2020-10-29T17:00:00', '2020-10-30T17:00:00',\n",
       "       '2020-10-31T17:00:00', '2020-11-01T17:00:00',\n",
       "       '2020-11-02T17:00:00', '2020-11-03T17:00:00',\n",
       "       '2020-11-04T17:00:00', '2020-11-05T17:00:00',\n",
       "       '2020-11-06T17:00:00', '2020-11-07T17:00:00',\n",
       "       '2020-11-08T17:00:00', '2020-11-09T17:00:00',\n",
       "       '2020-11-10T17:00:00', '2020-11-11T17:00:00',\n",
       "       '2020-11-12T17:00:00', '2020-11-13T17:00:00',\n",
       "       '2020-11-14T17:00:00', '2020-11-15T17:00:00',\n",
       "       '2020-11-16T17:00:00', '2020-11-17T17:00:00',\n",
       "       '2020-11-18T17:00:00', '2020-11-19T17:00:00',\n",
       "       '2020-11-20T17:00:00', '2020-11-21T17:00:00',\n",
       "       '2020-11-22T17:00:00', '2020-11-23T17:00:00',\n",
       "       '2020-11-24T17:00:00', '2020-11-25T17:00:00',\n",
       "       '2020-11-26T17:00:00', '2020-11-27T17:00:00',\n",
       "       '2020-11-28T17:00:00', '2020-11-29T17:00:00',\n",
       "       '2020-11-30T17:00:00', '2020-12-01T17:00:00',\n",
       "       '2020-12-02T17:00:00', '2020-12-03T17:00:00',\n",
       "       '2020-12-04T17:00:00', '2020-12-05T17:00:00',\n",
       "       '2020-12-06T17:00:00', '2020-12-07T17:00:00',\n",
       "       '2020-12-08T17:00:00', '2020-12-09T17:00:00',\n",
       "       '2020-12-10T17:00:00', '2020-12-11T17:00:00',\n",
       "       '2020-12-12T17:00:00', '2020-12-13T17:00:00',\n",
       "       '2020-12-14T17:00:00', '2020-12-15T17:00:00',\n",
       "       '2020-12-16T17:00:00', '2020-12-17T17:00:00',\n",
       "       '2020-12-18T17:00:00', '2020-12-19T17:00:00',\n",
       "       '2020-12-20T17:00:00', '2020-12-21T17:00:00',\n",
       "       '2020-12-22T17:00:00', '2020-12-23T17:00:00',\n",
       "       '2020-12-24T17:00:00', '2020-12-25T17:00:00',\n",
       "       '2020-12-26T17:00:00', '2020-12-27T17:00:00',\n",
       "       '2020-12-28T17:00:00', '2020-12-29T17:00:00',\n",
       "       '2020-12-30T17:00:00', '2020-12-31T17:00:00',\n",
       "       '2021-01-01T17:00:00', '2021-01-02T17:00:00',\n",
       "       '2021-01-03T17:00:00', '2021-01-04T17:00:00',\n",
       "       '2021-01-05T17:00:00', '2021-01-06T17:00:00',\n",
       "       '2021-01-07T17:00:00', '2021-01-08T17:00:00',\n",
       "       '2021-01-09T17:00:00', '2021-01-10T17:00:00',\n",
       "       '2021-01-11T17:00:00', '2021-01-12T17:00:00',\n",
       "       '2021-01-13T17:00:00', '2021-01-14T17:00:00',\n",
       "       '2021-01-15T17:00:00', '2021-01-16T17:00:00',\n",
       "       '2021-01-17T17:00:00', '2021-01-18T17:00:00',\n",
       "       '2021-01-19T17:00:00', '2021-01-20T17:00:00',\n",
       "       '2021-01-21T17:00:00', '2021-01-22T17:00:00',\n",
       "       '2021-01-23T17:00:00', '2021-01-24T17:00:00',\n",
       "       '2021-01-25T17:00:00', '2021-01-26T17:00:00',\n",
       "       '2021-01-27T17:00:00', '2021-01-28T17:00:00',\n",
       "       '2021-01-29T17:00:00', '2021-01-30T17:00:00',\n",
       "       '2021-01-31T17:00:00', '2021-02-01T17:00:00',\n",
       "       '2021-02-02T17:00:00', '2021-02-03T17:00:00',\n",
       "       '2021-02-04T17:00:00', '2021-02-05T17:00:00',\n",
       "       '2021-02-06T17:00:00', '2021-02-07T17:00:00',\n",
       "       '2021-02-08T17:00:00', '2021-02-09T17:00:00',\n",
       "       '2021-02-10T17:00:00', '2021-02-11T17:00:00',\n",
       "       '2021-02-12T17:00:00', '2021-02-13T17:00:00',\n",
       "       '2021-02-14T17:00:00', '2021-02-15T17:00:00',\n",
       "       '2021-02-16T17:00:00', '2021-02-17T17:00:00',\n",
       "       '2021-02-18T17:00:00', '2021-02-19T17:00:00',\n",
       "       '2021-02-20T17:00:00', '2021-02-21T17:00:00',\n",
       "       '2021-02-22T17:00:00', '2021-02-23T17:00:00',\n",
       "       '2021-02-24T17:00:00', '2021-02-25T17:00:00',\n",
       "       '2021-02-26T17:00:00', '2021-02-27T17:00:00',\n",
       "       '2021-02-28T17:00:00', '2021-03-01T17:00:00',\n",
       "       '2021-03-02T17:00:00', '2021-03-03T17:00:00',\n",
       "       '2021-03-04T17:00:00', '2021-03-05T17:00:00',\n",
       "       '2021-03-06T17:00:00', '2021-03-07T17:00:00',\n",
       "       '2021-03-08T17:00:00', '2021-03-09T17:00:00',\n",
       "       '2021-03-10T17:00:00', '2021-03-11T17:00:00',\n",
       "       '2021-03-12T17:00:00', '2021-03-13T17:00:00',\n",
       "       '2021-03-14T17:00:00', '2021-03-15T17:00:00',\n",
       "       '2021-03-16T17:00:00', '2021-03-17T17:00:00',\n",
       "       '2021-03-18T17:00:00', '2021-03-19T17:00:00',\n",
       "       '2021-03-20T17:00:00', '2021-03-21T17:00:00',\n",
       "       '2021-03-22T17:00:00', '2021-03-23T17:00:00',\n",
       "       '2021-03-24T17:00:00', '2021-03-25T17:00:00',\n",
       "       '2021-03-26T17:00:00', '2021-03-27T17:00:00',\n",
       "       '2021-03-28T17:00:00', '2021-03-29T17:00:00',\n",
       "       '2021-03-30T17:00:00', '2021-03-31T17:00:00',\n",
       "       '2021-04-01T17:00:00', '2021-04-02T17:00:00',\n",
       "       '2021-04-03T17:00:00', '2021-04-04T17:00:00',\n",
       "       '2021-04-05T17:00:00', '2021-04-06T17:00:00',\n",
       "       '2021-04-07T17:00:00', '2021-04-08T17:00:00',\n",
       "       '2021-04-09T17:00:00', '2021-04-10T17:00:00',\n",
       "       '2021-04-11T17:00:00', '2021-04-12T17:00:00',\n",
       "       '2021-04-13T17:00:00', '2021-04-14T17:00:00',\n",
       "       '2021-04-15T17:00:00', '2021-04-16T17:00:00',\n",
       "       '2021-04-17T17:00:00', '2021-04-18T17:00:00',\n",
       "       '2021-04-19T17:00:00', '2021-04-20T17:00:00',\n",
       "       '2021-04-21T17:00:00', '2021-04-22T17:00:00',\n",
       "       '2021-04-23T17:00:00', '2021-04-24T17:00:00',\n",
       "       '2021-04-25T17:00:00', '2021-04-26T17:00:00',\n",
       "       '2021-04-27T17:00:00', '2021-04-28T17:00:00',\n",
       "       '2021-04-29T17:00:00', '2021-04-30T17:00:00',\n",
       "       '2021-05-01T17:00:00', '2021-05-02T17:00:00',\n",
       "       '2021-05-03T17:00:00', '2021-05-04T17:00:00',\n",
       "       '2021-05-05T17:00:00', '2021-05-06T17:00:00',\n",
       "       '2021-05-07T17:00:00', '2021-05-08T17:00:00',\n",
       "       '2021-05-09T17:00:00', '2021-05-10T17:00:00',\n",
       "       '2021-05-11T17:00:00', '2021-05-12T17:00:00',\n",
       "       '2021-05-13T17:00:00', '2021-05-14T17:00:00',\n",
       "       '2021-05-15T17:00:00', '2021-05-16T17:00:00',\n",
       "       '2021-05-17T17:00:00', '2021-05-18T17:00:00',\n",
       "       '2021-05-19T17:00:00', '2021-05-20T17:00:00',\n",
       "       '2021-05-21T17:00:00', '2021-05-22T17:00:00',\n",
       "       '2021-05-23T17:00:00', '2021-05-24T17:00:00',\n",
       "       '2021-05-25T17:00:00', '2021-05-26T17:00:00',\n",
       "       '2021-05-27T17:00:00', '2021-05-28T17:00:00',\n",
       "       '2021-05-29T17:00:00', '2021-05-30T17:00:00',\n",
       "       '2021-05-31T17:00:00', '2021-06-01T17:00:00',\n",
       "       '2021-06-02T17:00:00', '2021-06-03T17:00:00',\n",
       "       '2021-06-04T17:00:00', '2021-06-05T17:00:00',\n",
       "       '2021-06-06T17:00:00', '2021-06-07T17:00:00',\n",
       "       '2021-06-08T17:00:00', '2021-06-09T17:00:00',\n",
       "       '2021-06-10T17:00:00', '2021-06-11T17:00:00',\n",
       "       '2021-06-12T17:00:00', '2021-06-13T17:00:00',\n",
       "       '2021-06-14T17:00:00', '2021-06-15T17:00:00',\n",
       "       '2021-06-16T17:00:00', '2021-06-17T17:00:00',\n",
       "       '2021-06-18T17:00:00', '2021-06-19T17:00:00',\n",
       "       '2021-06-20T17:00:00', '2021-06-21T17:00:00',\n",
       "       '2021-06-22T17:00:00', '2021-06-23T17:00:00',\n",
       "       '2021-06-24T17:00:00', '2021-06-25T17:00:00',\n",
       "       '2021-06-26T17:00:00', '2021-06-27T17:00:00',\n",
       "       '2021-06-28T17:00:00', '2021-06-29T17:00:00',\n",
       "       '2021-06-30T17:00:00', '2021-07-01T17:00:00',\n",
       "       '2021-07-02T17:00:00', '2021-07-03T17:00:00',\n",
       "       '2021-07-04T17:00:00', '2021-07-05T17:00:00',\n",
       "       '2021-07-06T17:00:00', '2021-07-07T17:00:00',\n",
       "       '2021-07-08T17:00:00', '2021-07-09T17:00:00',\n",
       "       '2021-07-10T17:00:00', '2021-07-11T17:00:00',\n",
       "       '2021-07-12T17:00:00', '2021-07-13T17:00:00',\n",
       "       '2021-07-14T17:00:00', '2021-07-15T17:00:00',\n",
       "       '2021-07-16T17:00:00', '2021-07-17T17:00:00',\n",
       "       '2021-07-18T17:00:00', '2021-07-19T17:00:00',\n",
       "       '2021-07-20T17:00:00', '2021-07-21T17:00:00',\n",
       "       '2021-07-22T17:00:00', '2021-07-23T17:00:00',\n",
       "       '2021-07-24T17:00:00', '2021-07-25T17:00:00',\n",
       "       '2021-07-26T17:00:00', '2021-07-27T17:00:00',\n",
       "       '2021-07-28T17:00:00', '2021-07-29T17:00:00',\n",
       "       '2021-07-30T17:00:00', '2021-07-31T17:00:00',\n",
       "       '2021-08-01T17:00:00', '2021-08-02T17:00:00',\n",
       "       '2021-08-03T17:00:00', '2021-08-04T17:00:00',\n",
       "       '2021-08-05T17:00:00', '2021-08-06T17:00:00',\n",
       "       '2021-08-07T17:00:00', '2021-08-08T17:00:00',\n",
       "       '2021-08-09T17:00:00', '2021-08-10T17:00:00',\n",
       "       '2021-08-11T17:00:00', '2021-08-12T17:00:00',\n",
       "       '2021-08-13T17:00:00', '2021-08-14T17:00:00',\n",
       "       '2021-08-15T17:00:00', '2021-08-16T17:00:00',\n",
       "       '2021-08-17T17:00:00', '2021-08-18T17:00:00',\n",
       "       '2021-08-19T17:00:00', '2021-08-20T17:00:00',\n",
       "       '2021-08-21T17:00:00', '2021-08-22T17:00:00',\n",
       "       '2021-08-23T17:00:00', '2021-08-24T17:00:00',\n",
       "       '2021-08-25T17:00:00', '2021-08-26T17:00:00',\n",
       "       '2021-08-27T17:00:00', '2021-08-28T17:00:00',\n",
       "       '2021-08-29T17:00:00', '2021-08-30T17:00:00',\n",
       "       '2021-08-31T17:00:00', '2021-09-01T17:00:00',\n",
       "       '2021-09-02T17:00:00', '2021-09-03T17:00:00',\n",
       "       '2021-09-04T17:00:00', '2021-09-05T17:00:00',\n",
       "       '2021-09-06T17:00:00', '2021-09-07T17:00:00',\n",
       "       '2021-09-08T17:00:00', '2021-09-09T17:00:00',\n",
       "       '2021-09-10T17:00:00', '2021-09-11T17:00:00',\n",
       "       '2021-09-12T17:00:00', '2021-09-13T17:00:00',\n",
       "       '2021-09-14T17:00:00', '2021-09-15T17:00:00',\n",
       "       '2021-09-16T17:00:00', '2021-09-17T17:00:00',\n",
       "       '2021-09-18T17:00:00', '2021-09-19T17:00:00',\n",
       "       '2021-09-20T17:00:00', '2021-09-21T17:00:00',\n",
       "       '2021-09-22T17:00:00', '2021-09-23T17:00:00',\n",
       "       '2021-09-24T17:00:00', '2021-09-25T17:00:00',\n",
       "       '2021-09-26T17:00:00', '2021-09-27T17:00:00',\n",
       "       '2021-09-28T17:00:00', '2021-09-29T17:00:00',\n",
       "       '2021-09-30T17:00:00', '2021-10-01T17:00:00',\n",
       "       '2021-10-02T17:00:00', '2021-10-03T17:00:00',\n",
       "       '2021-10-04T17:00:00', '2021-10-05T17:00:00',\n",
       "       '2021-10-06T17:00:00', '2021-10-07T17:00:00',\n",
       "       '2021-10-08T17:00:00', '2021-10-09T17:00:00',\n",
       "       '2021-10-10T17:00:00', '2021-10-11T17:00:00',\n",
       "       '2021-10-12T17:00:00', '2021-10-13T17:00:00',\n",
       "       '2021-10-14T17:00:00', '2021-10-15T17:00:00',\n",
       "       '2021-10-16T17:00:00', '2021-10-17T17:00:00',\n",
       "       '2021-10-18T17:00:00', '2021-10-19T17:00:00',\n",
       "       '2021-10-20T17:00:00', '2021-10-21T17:00:00',\n",
       "       '2021-10-22T17:00:00', '2021-10-23T17:00:00',\n",
       "       '2021-10-24T17:00:00', '2021-10-25T17:00:00',\n",
       "       '2021-10-26T17:00:00', '2021-10-27T17:00:00',\n",
       "       '2021-10-28T17:00:00', '2021-10-29T17:00:00',\n",
       "       '2021-10-30T17:00:00', '2021-10-31T17:00:00',\n",
       "       '2021-11-01T17:00:00', '2021-11-02T17:00:00',\n",
       "       '2021-11-03T17:00:00', '2021-11-04T17:00:00',\n",
       "       '2021-11-05T17:00:00', '2021-11-06T17:00:00',\n",
       "       '2021-11-07T17:00:00', '2021-11-08T17:00:00',\n",
       "       '2021-11-09T17:00:00', '2021-11-10T17:00:00',\n",
       "       '2021-11-11T17:00:00', '2021-11-12T17:00:00',\n",
       "       '2021-11-13T17:00:00', '2021-11-14T17:00:00',\n",
       "       '2021-11-15T17:00:00', '2021-11-16T17:00:00',\n",
       "       '2021-11-17T17:00:00', '2021-11-18T17:00:00',\n",
       "       '2021-11-19T17:00:00', '2021-11-20T17:00:00',\n",
       "       '2021-11-21T17:00:00', '2021-11-22T17:00:00',\n",
       "       '2021-11-23T17:00:00', '2021-11-24T17:00:00',\n",
       "       '2021-11-25T17:00:00', '2021-11-26T17:00:00',\n",
       "       '2021-11-27T17:00:00', '2021-11-28T17:00:00'], dtype=object)"
      ]
     },
     "execution_count": 49,
     "metadata": {},
     "output_type": "execute_result"
    }
   ],
   "source": [
    "giorni"
   ]
  },
  {
   "cell_type": "code",
   "execution_count": 50,
   "metadata": {},
   "outputs": [
    {
     "data": {
      "text/plain": [
       "array([ 3804.45243564,  3683.22279601,  3605.86999551,  3885.52461895,\n",
       "        3623.26020767,  3477.30075378,  3360.73682484,  2291.57609618,\n",
       "        2393.9976037 ,  2408.19054689,  2187.00599701,  2097.17049607,\n",
       "        2033.72812479,  2009.5464766 ,  2889.9024269 ,  2628.47069622,\n",
       "        2653.10694065,  2766.69545814,  2773.02436511,  2815.618866  ,\n",
       "       -2718.94652902, -2650.8778189 , -2613.79302281, -3145.45692454,\n",
       "       -3396.22502884, -3555.24473968, -4791.89982513,   546.15515128,\n",
       "         394.19514996,   -88.29984044,   311.79760039,   252.40968025,\n",
       "         253.11628094,  1127.33206813,  1288.74585517,  1446.85137596,\n",
       "        1996.58681827,  2008.56608677,  1997.36314497,  1916.19578629,\n",
       "        2030.52140395,  2098.15992862,  2255.52401387,  2310.38079857,\n",
       "        2461.15989633,  2652.62571921,  2752.67302327,  2795.13288123,\n",
       "        2923.27726802,  3129.56984886,  3076.49900251,  3300.82098562,\n",
       "        3442.67978784,  3757.29279279,  4019.03836285,  4229.49878148,\n",
       "        4373.72871171,  4924.25917568,  5222.57527732,  5634.75093183,\n",
       "        5836.44379892,  5972.45433506,  6078.08377799,  6372.89984277,\n",
       "        6547.97574217,  6705.7480218 ,  6860.22696624,  6989.82135045,\n",
       "        7037.79535598,  7017.55253037,  7003.51368747,  7030.27468907,\n",
       "        7014.93367524,  7040.35908257,  7080.15171168,  7261.98445708,\n",
       "        7366.92146903,  7378.24199266,  7302.0862746 ,  7296.56261104,\n",
       "        7174.42563865,  7042.56054735,  6811.62514618,  6734.20895974,\n",
       "        6449.75153084,  6392.88429992,  6190.81106578,  6189.72434597,\n",
       "        6152.79529373,  6227.40351519,  6172.39710507,  6278.85374137,\n",
       "        6259.7570687 ,  6295.57817697,  6244.9061313 ,  6280.87558088,\n",
       "        6269.58608745,  5898.87581712,  5698.9020572 ,  5584.29078385,\n",
       "        5475.10209017,  5320.330371  ,  5083.27762646,  4947.35334639,\n",
       "        5067.60364772,  4947.26346521,  4694.64741257,  4486.38615986,\n",
       "        4354.30664259,  4328.9480419 ,  4207.52210086,  4008.91264097,\n",
       "        3768.28525645,  3663.91799279,  3539.57628369,  3447.86135363,\n",
       "        3495.44992027,  3496.3531048 ,  3510.4039953 ,  3565.6226903 ,\n",
       "        3601.4764844 ,  3624.68022202,  3616.86430127,  3486.33455738,\n",
       "        3430.45701462,  3480.04277934,  3444.47433433,  3383.05326012,\n",
       "        3448.72373891,  3423.85995227,  3457.55903453,  3459.76847364,\n",
       "        3473.76307757,  3538.47219518,  3580.42105191,  3484.95340586,\n",
       "        3491.1994899 ,  3382.99062588,  3374.77716616,  3372.33240388,\n",
       "        3336.24463461,  3307.18465142,  3326.73037991,  3322.15753365,\n",
       "        3296.82940518,  3211.32430415,  3151.15062179,  3265.28606404,\n",
       "        3380.21544757,  3458.78416743,  3530.76565858,  3667.64856416,\n",
       "        3785.17718489,  4039.02574632,  4181.4144609 ,  4346.68084277,\n",
       "        4582.51360088,  4772.85198651,  4952.2203089 ,  5143.37447803,\n",
       "        5213.15967842,  5306.31580086,  5423.15881788,  5596.10172028,\n",
       "        5830.44789862,  6026.1406133 ,  6137.67745609,  6272.01449548,\n",
       "        6541.96367091,  6840.52731111,  7002.62195939,  7211.05946916,\n",
       "        7387.8561231 ,  7446.50897677,  7651.60072123,  7857.27789084,\n",
       "        8110.4820204 ,  8308.3266591 ,  8623.94702239,  8875.03389533,\n",
       "        9106.40091623,  9267.9808104 ,  9511.87191902,  9852.93928085,\n",
       "       10143.31576978, 10281.88178269, 10667.36832652])"
      ]
     },
     "execution_count": 50,
     "metadata": {},
     "output_type": "execute_result"
    }
   ],
   "source": [
    "ts_pred"
   ]
  },
  {
   "cell_type": "code",
   "execution_count": null,
   "metadata": {},
   "outputs": [],
   "source": []
  }
 ],
 "metadata": {
  "interpreter": {
   "hash": "622a5a31dde64008e93b9c4cb19ec5b2f91850de9103420a3fa76999685214cc"
  },
  "kernelspec": {
   "display_name": "Python 3.7.1 64-bit ('klaat': virtualenv)",
   "language": "python",
   "name": "python3"
  },
  "language_info": {
   "codemirror_mode": {
    "name": "ipython",
    "version": 3
   },
   "file_extension": ".py",
   "mimetype": "text/x-python",
   "name": "python",
   "nbconvert_exporter": "python",
   "pygments_lexer": "ipython3",
   "version": "3.7.11"
  }
 },
 "nbformat": 4,
 "nbformat_minor": 4
}
