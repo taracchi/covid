{
 "cells": [
  {
   "cell_type": "markdown",
   "metadata": {},
   "source": [
    "# Test predizione COVID con BackFeatureMapper"
   ]
  },
  {
   "cell_type": "code",
   "execution_count": 1,
   "metadata": {},
   "outputs": [],
   "source": [
    "import pickle\n",
    "import numpy as np\n",
    "import pandas as pd\n",
    "from aidam.miscellanea_utils import var_column_mapper\n",
    "from matplotlib import pyplot as plt\n",
    "from aidam.BackFeatureMapper import BackFeatureBrewer, BackFeatureMapper\n",
    "from sklearn.preprocessing import StandardScaler, MinMaxScaler"
   ]
  },
  {
   "cell_type": "code",
   "execution_count": 2,
   "metadata": {},
   "outputs": [],
   "source": [
    "data_file='stored_data.pkl'"
   ]
  },
  {
   "cell_type": "markdown",
   "metadata": {},
   "source": [
    "## Data import e preprocessing"
   ]
  },
  {
   "cell_type": "code",
   "execution_count": 3,
   "metadata": {},
   "outputs": [],
   "source": [
    "# lettura dati\n",
    "infile=open(data_file,'rb')\n",
    "trend=pickle.load(infile)\n",
    "regioni=pickle.load(infile)\n",
    "giorni=pickle.load(infile)\n",
    "giorno_settimana=pickle.load(infile)\n",
    "infile.close()"
   ]
  },
  {
   "cell_type": "markdown",
   "metadata": {},
   "source": [
    "### Creazione della matrice di input e target"
   ]
  },
  {
   "cell_type": "code",
   "execution_count": 4,
   "metadata": {},
   "outputs": [],
   "source": [
    "# selezione regione oggetto dello studio\n",
    "regione='Italia'\n",
    "\n",
    "# costruzione matrici di input e target\n",
    "input_vars=['totale_ospedalizzati']\n",
    "target_var='terapia_intensiva'\n",
    "input_list=[]\n",
    "input_list=[trend[v][regione] for v in input_vars]\n",
    "input_data=np.array(input_list).T\n",
    "target_data=trend[target_var][regione]\n",
    "\n",
    "\n",
    "scaler=MinMaxScaler()\n",
    "scaler.fit(input_data)\n",
    "input_data=scaler.transform(input_data)\n"
   ]
  },
  {
   "cell_type": "markdown",
   "metadata": {},
   "source": [
    "### Divisione training test"
   ]
  },
  {
   "cell_type": "code",
   "execution_count": 5,
   "metadata": {},
   "outputs": [
    {
     "name": "stdout",
     "output_type": "stream",
     "text": [
      "RAW DATA\n",
      "211 Training samples   91 Validation samples\n"
     ]
    }
   ],
   "source": [
    "num_samples=len(giorni)\n",
    "\n",
    "num_tr_samples=int(num_samples*0.7)\n",
    "num_tr_samples\n",
    "\n",
    "input_tr=input_data[0:num_tr_samples,:]\n",
    "input_ts=input_data[num_tr_samples:,:]\n",
    "\n",
    "target_tr=target_data[0:num_tr_samples]\n",
    "target_ts=target_data[num_tr_samples:]\n",
    "\n",
    "\n",
    "print('RAW DATA')\n",
    "print('%d Training samples   %d Validation samples'%(len(target_tr),len(target_ts)))"
   ]
  },
  {
   "cell_type": "code",
   "execution_count": 6,
   "metadata": {},
   "outputs": [
    {
     "data": {
      "text/plain": [
       "[<matplotlib.lines.Line2D at 0x237c9ed9ac8>]"
      ]
     },
     "execution_count": 6,
     "metadata": {},
     "output_type": "execute_result"
    },
    {
     "data": {
      "image/png": "[encoded data removed]",
      "text/plain": [
       "<Figure size 432x288 with 1 Axes>"
      ]
     },
     "metadata": {
      "needs_background": "light"
     },
     "output_type": "display_data"
    }
   ],
   "source": [
    "plt.plot(list(range(0,num_tr_samples)),target_tr,'b.-')\n",
    "plt.plot(list(range(num_tr_samples,num_samples)),target_ts,'r.-')"
   ]
  },
  {
   "cell_type": "markdown",
   "metadata": {},
   "source": [
    "## Training e test modello"
   ]
  },
  {
   "cell_type": "markdown",
   "metadata": {},
   "source": [
    "### Preparazione e applicazione del mapper"
   ]
  },
  {
   "cell_type": "code",
   "execution_count": 7,
   "metadata": {},
   "outputs": [],
   "source": [
    "eso_backsight=5\n",
    "endo_backsight=5\n",
    "foresight=14\n",
    "\n",
    "def difference(x):\n",
    "    return x[-1]-x[0]\n",
    "\n",
    "\n",
    "eso=[BackFeatureMapper(column=0,backsight=eso_backsight,mapfun=np.mean),\n",
    "     BackFeatureMapper(column=0,backsight=eso_backsight,mapfun=difference)\n",
    "    ]\n",
    "endo=[BackFeatureMapper(column=0,backsight=endo_backsight,mapfun=np.mean)]\n",
    "\n",
    "\n",
    "the_brewer=BackFeatureBrewer(esomappers=eso, endomappers=endo)\n",
    "#the_brewer=BackFeatureBrewer(esomappers=eso)"
   ]
  },
  {
   "cell_type": "code",
   "execution_count": 8,
   "metadata": {},
   "outputs": [
    {
     "name": "stdout",
     "output_type": "stream",
     "text": [
      "FEATURES DATA\n",
      "192 Training samples   86 Validation samples\n",
      "Whole cut: 19\n",
      "Head cut: 5\n"
     ]
    }
   ],
   "source": [
    "indici_tr,tr_myin,tr_mytar=the_brewer.transform(input_tr,\n",
    "                                      target_tr,\n",
    "                                      map_target=True,\n",
    "                                      foresight=foresight)\n",
    "\n",
    "indici_ts,ts_myin=the_brewer.transform(input_ts,target_ts,\n",
    "                                      map_target=False,\n",
    "                                      foresight=foresight)\n",
    "\n",
    "print('FEATURES DATA')\n",
    "print('%d Training samples   %d Validation samples'%(tr_myin.shape[0],ts_myin.shape[0]))\n",
    "\n",
    "whole_cut=input_tr.shape[0]-tr_myin.shape[0]\n",
    "head_cut=whole_cut-foresight\n",
    "\n",
    "print('Whole cut: %d'%whole_cut)\n",
    "print('Head cut: %d'%head_cut)"
   ]
  },
  {
   "cell_type": "markdown",
   "metadata": {},
   "source": [
    "### Training e test modello"
   ]
  },
  {
   "cell_type": "code",
   "execution_count": 9,
   "metadata": {},
   "outputs": [
    {
     "name": "stdout",
     "output_type": "stream",
     "text": [
      "(192,)\n",
      "(86,)\n"
     ]
    }
   ],
   "source": [
    "from sklearn import linear_model\n",
    "model = linear_model.Lasso(alpha=1)\n",
    "\n",
    "model.fit(tr_myin,tr_mytar)\n",
    "\n",
    "tr_pred=model.predict(tr_myin)\n",
    "ts_pred=model.predict(ts_myin)\n",
    "\n",
    "print(tr_pred.shape)\n",
    "print(ts_pred.shape)"
   ]
  },
  {
   "cell_type": "code",
   "execution_count": 10,
   "metadata": {},
   "outputs": [
    {
     "data": {
      "image/png": "[encoded data removed]",
      "text/plain": [
       "<Figure size 864x576 with 1 Axes>"
      ]
     },
     "metadata": {
      "needs_background": "light"
     },
     "output_type": "display_data"
    }
   ],
   "source": [
    "#print('Errore TR: %5.2f   Errore TS: %5.2f'%(errore_tr,errore_ts))\n",
    "\n",
    "plt.figure(figsize=(12,8))\n",
    "plt.plot(range(len(target_tr)),target_tr,'b',label='TR Actual')\n",
    "plt.plot(range(whole_cut,len(target_tr)),tr_pred,'b.',label='TR Predicted')\n",
    "plt.plot(range(len(target_tr),num_samples),target_ts,'r',label='TS Actual')\n",
    "plt.plot(range(len(target_tr)+whole_cut,len(target_tr)+len(ts_pred)+whole_cut),ts_pred,'r.',label='TS Predicted')\n",
    "plt.title('Predizione %s con %d giorni di anticipo'%(target_var,foresight))\n",
    "plt.legend()\n",
    "plt.grid()\n",
    "plt.show()"
   ]
  },
  {
   "cell_type": "code",
   "execution_count": 11,
   "metadata": {},
   "outputs": [
    {
     "data": {
      "text/plain": [
       "array(['2020-02-24T18:00:00', '2020-02-25T18:00:00',\n",
       "       '2020-02-26T18:00:00', '2020-02-27T18:00:00',\n",
       "       '2020-02-28T18:00:00', '2020-02-29T17:00:00',\n",
       "       '2020-03-01T17:00:00', '2020-03-02T18:00:00',\n",
       "       '2020-03-03T18:00:00', '2020-03-04T17:00:00',\n",
       "       '2020-03-05T17:00:00', '2020-03-06T17:00:00',\n",
       "       '2020-03-07T18:00:00', '2020-03-08T18:00:00',\n",
       "       '2020-03-09T18:00:00', '2020-03-10T18:00:00',\n",
       "       '2020-03-11T17:00:00', '2020-03-12T17:00:00',\n",
       "       '2020-03-13T17:00:00', '2020-03-14T17:00:00',\n",
       "       '2020-03-15T17:00:00', '2020-03-16T17:00:00',\n",
       "       '2020-03-17T17:00:00', '2020-03-18T17:00:00',\n",
       "       '2020-03-19T17:00:00', '2020-03-20T17:00:00',\n",
       "       '2020-03-21T17:00:00', '2020-03-22T17:00:00',\n",
       "       '2020-03-23T17:00:00', '2020-03-24T17:00:00',\n",
       "       '2020-03-25T17:00:00', '2020-03-26T17:00:00',\n",
       "       '2020-03-27T17:00:00', '2020-03-28T17:00:00',\n",
       "       '2020-03-29T17:00:00', '2020-03-30T17:00:00',\n",
       "       '2020-03-31T17:00:00', '2020-04-01T17:00:00',\n",
       "       '2020-04-02T17:00:00', '2020-04-03T17:00:00',\n",
       "       '2020-04-04T17:00:00', '2020-04-05T17:00:00',\n",
       "       '2020-04-06T17:00:00', '2020-04-07T17:00:00',\n",
       "       '2020-04-08T17:00:00', '2020-04-09T17:00:00',\n",
       "       '2020-04-10T17:00:00', '2020-04-11T17:00:00',\n",
       "       '2020-04-12T17:00:00', '2020-04-13T17:00:00',\n",
       "       '2020-04-14T17:00:00', '2020-04-15T17:00:00',\n",
       "       '2020-04-16T17:00:00', '2020-04-17T17:00:00',\n",
       "       '2020-04-18T17:00:00', '2020-04-19T17:00:00',\n",
       "       '2020-04-20T17:00:00', '2020-04-21T17:00:00',\n",
       "       '2020-04-22T17:00:00', '2020-04-23T17:00:00',\n",
       "       '2020-04-24T17:00:00', '2020-04-25T17:00:00',\n",
       "       '2020-04-26T17:00:00', '2020-04-27T17:00:00',\n",
       "       '2020-04-28T17:00:00', '2020-04-29T17:00:00',\n",
       "       '2020-04-30T17:00:00', '2020-05-01T17:00:00',\n",
       "       '2020-05-02T17:00:00', '2020-05-03T17:00:00',\n",
       "       '2020-05-04T17:00:00', '2020-05-05T17:00:00',\n",
       "       '2020-05-06T17:00:00', '2020-05-07T17:00:00',\n",
       "       '2020-05-08T17:00:00', '2020-05-09T17:00:00',\n",
       "       '2020-05-10T17:00:00', '2020-05-11T17:00:00',\n",
       "       '2020-05-12T17:00:00', '2020-05-13T17:00:00',\n",
       "       '2020-05-14T17:00:00', '2020-05-15T17:00:00',\n",
       "       '2020-05-16T17:00:00', '2020-05-17T17:00:00',\n",
       "       '2020-05-18T17:00:00', '2020-05-19T17:00:00',\n",
       "       '2020-05-20T17:00:00', '2020-05-21T17:00:00',\n",
       "       '2020-05-22T17:00:00', '2020-05-23T17:00:00',\n",
       "       '2020-05-24T17:00:00', '2020-05-25T17:00:00',\n",
       "       '2020-05-26T17:00:00', '2020-05-27T17:00:00',\n",
       "       '2020-05-28T17:00:00', '2020-05-29T17:00:00',\n",
       "       '2020-05-30T17:00:00', '2020-05-31T17:00:00',\n",
       "       '2020-06-01T17:00:00', '2020-06-02T17:00:00',\n",
       "       '2020-06-03T17:00:00', '2020-06-04T17:00:00',\n",
       "       '2020-06-05T17:00:00', '2020-06-06T17:00:00',\n",
       "       '2020-06-07T17:00:00', '2020-06-08T17:00:00',\n",
       "       '2020-06-09T17:00:00', '2020-06-10T17:00:00',\n",
       "       '2020-06-11T17:00:00', '2020-06-12T17:00:00',\n",
       "       '2020-06-13T17:00:00', '2020-06-14T17:00:00',\n",
       "       '2020-06-15T17:00:00', '2020-06-16T17:00:00',\n",
       "       '2020-06-17T17:00:00', '2020-06-18T17:00:00',\n",
       "       '2020-06-19T17:00:00', '2020-06-20T17:00:00',\n",
       "       '2020-06-21T17:00:00', '2020-06-22T17:00:00',\n",
       "       '2020-06-23T17:00:00', '2020-06-24T17:00:00',\n",
       "       '2020-06-25T17:00:00', '2020-06-26T17:00:00',\n",
       "       '2020-06-27T17:00:00', '2020-06-28T17:00:00',\n",
       "       '2020-06-29T17:00:00', '2020-06-30T17:00:00',\n",
       "       '2020-07-01T17:00:00', '2020-07-02T17:00:00',\n",
       "       '2020-07-03T17:00:00', '2020-07-04T17:00:00',\n",
       "       '2020-07-05T17:00:00', '2020-07-06T17:00:00',\n",
       "       '2020-07-07T17:00:00', '2020-07-08T17:00:00',\n",
       "       '2020-07-09T17:00:00', '2020-07-10T17:00:00',\n",
       "       '2020-07-11T17:00:00', '2020-07-12T17:00:00',\n",
       "       '2020-07-13T17:00:00', '2020-07-14T17:00:00',\n",
       "       '2020-07-15T17:00:00', '2020-07-16T17:00:00',\n",
       "       '2020-07-17T17:00:00', '2020-07-18T17:00:00',\n",
       "       '2020-07-19T17:00:00', '2020-07-20T17:00:00',\n",
       "       '2020-07-21T17:00:00', '2020-07-22T17:00:00',\n",
       "       '2020-07-23T17:00:00', '2020-07-24T17:00:00',\n",
       "       '2020-07-25T17:00:00', '2020-07-26T17:00:00',\n",
       "       '2020-07-27T17:00:00', '2020-07-28T17:00:00',\n",
       "       '2020-07-29T17:00:00', '2020-07-30T17:00:00',\n",
       "       '2020-07-31T17:00:00', '2020-08-01T17:00:00',\n",
       "       '2020-08-02T17:00:00', '2020-08-03T17:00:00',\n",
       "       '2020-08-04T17:00:00', '2020-08-05T17:00:00',\n",
       "       '2020-08-06T17:00:00', '2020-08-07T17:00:00',\n",
       "       '2020-08-08T17:00:00', '2020-08-09T17:00:00',\n",
       "       '2020-08-10T17:00:00', '2020-08-11T17:00:00',\n",
       "       '2020-08-12T17:00:00', '2020-08-13T17:00:00',\n",
       "       '2020-08-14T17:00:00', '2020-08-15T17:00:00',\n",
       "       '2020-08-16T17:00:00', '2020-08-17T17:00:00',\n",
       "       '2020-08-18T17:00:00', '2020-08-19T17:00:00',\n",
       "       '2020-08-20T17:00:00', '2020-08-21T17:00:00',\n",
       "       '2020-08-22T17:00:00', '2020-08-23T17:00:00',\n",
       "       '2020-08-24T17:00:00', '2020-08-25T17:00:00',\n",
       "       '2020-08-26T17:00:00', '2020-08-27T17:00:00',\n",
       "       '2020-08-28T17:00:00', '2020-08-29T17:00:00',\n",
       "       '2020-08-30T17:00:00', '2020-08-31T17:00:00',\n",
       "       '2020-09-01T17:00:00', '2020-09-02T17:00:00',\n",
       "       '2020-09-03T17:00:00', '2020-09-04T17:00:00',\n",
       "       '2020-09-05T17:00:00', '2020-09-06T17:00:00',\n",
       "       '2020-09-07T17:00:00', '2020-09-08T17:00:00',\n",
       "       '2020-09-09T17:00:00', '2020-09-10T17:00:00',\n",
       "       '2020-09-11T17:00:00', '2020-09-12T17:00:00',\n",
       "       '2020-09-13T17:00:00', '2020-09-14T17:00:00',\n",
       "       '2020-09-15T17:00:00', '2020-09-16T17:00:00',\n",
       "       '2020-09-17T17:00:00', '2020-09-18T17:00:00',\n",
       "       '2020-09-19T17:00:00', '2020-09-20T17:00:00',\n",
       "       '2020-09-21T17:00:00', '2020-09-22T17:00:00',\n",
       "       '2020-09-23T17:00:00', '2020-09-24T17:00:00',\n",
       "       '2020-09-25T17:00:00', '2020-09-26T17:00:00',\n",
       "       '2020-09-27T17:00:00', '2020-09-28T17:00:00',\n",
       "       '2020-09-29T17:00:00', '2020-09-30T17:00:00',\n",
       "       '2020-10-01T17:00:00', '2020-10-02T17:00:00',\n",
       "       '2020-10-03T17:00:00', '2020-10-04T17:00:00',\n",
       "       '2020-10-05T17:00:00', '2020-10-06T17:00:00',\n",
       "       '2020-10-07T17:00:00', '2020-10-08T17:00:00',\n",
       "       '2020-10-09T17:00:00', '2020-10-10T17:00:00',\n",
       "       '2020-10-11T17:00:00', '2020-10-12T17:00:00',\n",
       "       '2020-10-13T17:00:00', '2020-10-14T17:00:00',\n",
       "       '2020-10-15T17:00:00', '2020-10-16T17:00:00',\n",
       "       '2020-10-17T17:00:00', '2020-10-18T17:00:00',\n",
       "       '2020-10-19T17:00:00', '2020-10-20T17:00:00',\n",
       "       '2020-10-21T17:00:00', '2020-10-22T17:00:00',\n",
       "       '2020-10-23T17:00:00', '2020-10-24T17:00:00',\n",
       "       '2020-10-25T17:00:00', '2020-10-26T17:00:00',\n",
       "       '2020-10-27T17:00:00', '2020-10-28T17:00:00',\n",
       "       '2020-10-29T17:00:00', '2020-10-30T17:00:00',\n",
       "       '2020-10-31T17:00:00', '2020-11-01T17:00:00',\n",
       "       '2020-11-02T17:00:00', '2020-11-03T17:00:00',\n",
       "       '2020-11-04T17:00:00', '2020-11-05T17:00:00',\n",
       "       '2020-11-06T17:00:00', '2020-11-07T17:00:00',\n",
       "       '2020-11-08T17:00:00', '2020-11-09T17:00:00',\n",
       "       '2020-11-10T17:00:00', '2020-11-11T17:00:00',\n",
       "       '2020-11-12T17:00:00', '2020-11-13T17:00:00',\n",
       "       '2020-11-14T17:00:00', '2020-11-15T17:00:00',\n",
       "       '2020-11-16T17:00:00', '2020-11-17T17:00:00',\n",
       "       '2020-11-18T17:00:00', '2020-11-19T17:00:00',\n",
       "       '2020-11-20T17:00:00', '2020-11-21T17:00:00',\n",
       "       '2020-11-22T17:00:00', '2020-11-23T17:00:00',\n",
       "       '2020-11-24T17:00:00', '2020-11-25T17:00:00',\n",
       "       '2020-11-26T17:00:00', '2020-11-27T17:00:00',\n",
       "       '2020-11-28T17:00:00', '2020-11-29T17:00:00',\n",
       "       '2020-11-30T17:00:00', '2020-12-01T17:00:00',\n",
       "       '2020-12-02T17:00:00', '2020-12-03T17:00:00',\n",
       "       '2020-12-04T17:00:00', '2020-12-05T17:00:00',\n",
       "       '2020-12-06T17:00:00', '2020-12-07T17:00:00',\n",
       "       '2020-12-08T17:00:00', '2020-12-09T17:00:00',\n",
       "       '2020-12-10T17:00:00', '2020-12-11T17:00:00',\n",
       "       '2020-12-12T17:00:00', '2020-12-13T17:00:00',\n",
       "       '2020-12-14T17:00:00', '2020-12-15T17:00:00',\n",
       "       '2020-12-16T17:00:00', '2020-12-17T17:00:00',\n",
       "       '2020-12-18T17:00:00', '2020-12-19T17:00:00',\n",
       "       '2020-12-20T17:00:00', '2020-12-21T17:00:00'], dtype=object)"
      ]
     },
     "execution_count": 11,
     "metadata": {},
     "output_type": "execute_result"
    }
   ],
   "source": [
    "giorni"
   ]
  },
  {
   "cell_type": "code",
   "execution_count": 12,
   "metadata": {},
   "outputs": [
    {
     "data": {
      "text/plain": [
       "array([ 582.25374864,  615.35122501,  621.16247734,  626.46248332,\n",
       "        648.00032861,  632.37795996,  610.72893715,  618.06418472,\n",
       "        697.3004138 ,  729.7703552 ,  782.34213977,  826.05975616,\n",
       "        872.43916264,  896.80106775,  937.00782061, 1007.15624355,\n",
       "       1076.55293627, 1175.4206705 , 1238.39074292, 1338.27743435,\n",
       "       1424.31000182, 1537.29214889, 1629.67178273, 1832.98464094,\n",
       "       1951.58508736, 2063.54302807, 2234.73919048, 2364.19007145,\n",
       "       2399.43209202, 2597.34348553, 2790.71756677, 2939.19286282,\n",
       "       3104.03467943, 3288.09285756, 3362.46872226, 3417.11754818,\n",
       "       3444.5620331 , 3652.42950648, 3708.93730163, 3845.43872607,\n",
       "       3864.85943744, 4012.02729958, 4082.91775435, 4242.29145462,\n",
       "       4281.03208033, 4374.35204195, 4201.6201664 , 4153.21766225,\n",
       "       3958.44213368, 3890.1419868 , 3812.78516099, 3906.92749775,\n",
       "       3738.87369803, 3629.52638942, 3528.83263588, 3400.01464132,\n",
       "       3283.14433366, 3282.07005884, 3204.26014176, 2999.11912531,\n",
       "       2863.66443438, 2623.57957053, 2322.11878905, 2190.51346254,\n",
       "       2358.43573472, 2277.12273768, 2262.18529149, 2135.59114845,\n",
       "       2049.53417041, 1531.93958258, 1715.64021994, 1849.07820062,\n",
       "       1896.59676149, 1922.07143563, 2069.1080728 , 1797.76960118,\n",
       "       1552.15578988, 1555.54087525, 1673.08457288, 1671.74828295,\n",
       "       1654.61364748, 1634.84866625, 1493.87112619, 1322.44507157,\n",
       "       1383.22077857, 1528.90723762])"
      ]
     },
     "execution_count": 12,
     "metadata": {},
     "output_type": "execute_result"
    }
   ],
   "source": [
    "ts_pred"
   ]
  },
  {
   "cell_type": "code",
   "execution_count": null,
   "metadata": {},
   "outputs": [],
   "source": []
  }
 ],
 "metadata": {
  "kernelspec": {
   "display_name": "Python 3.7.1 64-bit ('klaat': virtualenv)",
   "language": "python",
   "name": "python37164bitklaatvirtualenv68391259d5714fc793cf295373d8f8d2"
  },
  "language_info": {
   "codemirror_mode": {
    "name": "ipython",
    "version": 3
   },
   "file_extension": ".py",
   "mimetype": "text/x-python",
   "name": "python",
   "nbconvert_exporter": "python",
   "pygments_lexer": "ipython3",
   "version": "3.7.1"
  }
 },
 "nbformat": 4,
 "nbformat_minor": 4
}
