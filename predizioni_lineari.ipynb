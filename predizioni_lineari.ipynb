{
 "cells": [
  {
   "cell_type": "code",
   "execution_count": 77,
   "metadata": {},
   "outputs": [],
   "source": [
    "import matplotlib.pyplot as plt\n",
    "\n",
    "from aidam.math_utils import moving_function_rev1\n",
    "from aidam.data_tr_vd_ts_partition import get_training_validation_test_indices\n",
    "\n",
    "import pickle as pkl\n",
    "import numpy as np\n",
    "import pandas as pd\n",
    "from sklearn.linear_model import LinearRegression, Lasso\n",
    "from sklearn.preprocessing import RobustScaler, StandardScaler"
   ]
  },
  {
   "cell_type": "markdown",
   "metadata": {},
   "source": [
    "## Lettura dati"
   ]
  },
  {
   "cell_type": "code",
   "execution_count": 78,
   "metadata": {},
   "outputs": [
    {
     "name": "stdout",
     "output_type": "stream",
     "text": [
      "Giorni osservati: 102\n",
      "Primo giorno: 2020-02-24T18:00:00\n",
      "Ultimo giorno: 2020-06-04T17:00:00\n"
     ]
    }
   ],
   "source": [
    "data_file='stored_data.pkl'\n",
    "\n",
    "infile=open(data_file,'rb')\n",
    "trend=pkl.load(infile)\n",
    "regioni=pkl.load(infile)\n",
    "giorni=pkl.load(infile)\n",
    "giorno_settimana=pkl.load(infile)\n",
    "popolazione=pkl.load(infile)\n",
    "infile.close()\n",
    "\n",
    "day_counter=list(range(len(giorni)))\n",
    "\n",
    "print('Giorni osservati: %d'%len(giorni))\n",
    "print('Primo giorno: %s'%giorni[0])\n",
    "print('Ultimo giorno: %s'%giorni[-1])"
   ]
  },
  {
   "cell_type": "markdown",
   "metadata": {},
   "source": [
    "## Selezione dati e formazione dataset"
   ]
  },
  {
   "cell_type": "code",
   "execution_count": 79,
   "metadata": {},
   "outputs": [],
   "source": [
    "regione='Italia'\n",
    "var_indip=['terapia_intensiva','nuovi_positivi']\n",
    "var_dip='deceduti_giornalieri'"
   ]
  },
  {
   "cell_type": "code",
   "execution_count": 80,
   "metadata": {},
   "outputs": [],
   "source": [
    "temp=[]\n",
    "for vi in var_indip:\n",
    "    temp.append(trend[vi][regione])\n",
    "\n",
    "data=np.vstack(tuple(temp)).T"
   ]
  },
  {
   "cell_type": "markdown",
   "metadata": {},
   "source": [
    "### Divisione dati tr-ts"
   ]
  },
  {
   "cell_type": "code",
   "execution_count": 81,
   "metadata": {},
   "outputs": [],
   "source": [
    "indici=get_training_validation_test_indices(data.shape[0],[0.7,0,0.3])\n",
    "\n",
    "data_tr=data[indici[0],:]\n",
    "data_ts=data[indici[2],:]\n",
    "\n",
    "target_tr=(trend[var_dip][regione])[indici[0]]\n",
    "target_ts=(trend[var_dip][regione])[indici[2]]\n"
   ]
  },
  {
   "cell_type": "markdown",
   "metadata": {},
   "source": [
    "### Scaling"
   ]
  },
  {
   "cell_type": "code",
   "execution_count": 82,
   "metadata": {},
   "outputs": [],
   "source": [
    "scaler=StandardScaler()\n",
    "scaler.fit(data_tr)\n",
    "\n",
    "data_trn=scaler.transform(data_tr)\n",
    "data_tsn=scaler.transform(data_ts)"
   ]
  },
  {
   "cell_type": "markdown",
   "metadata": {},
   "source": [
    "## Modellino"
   ]
  },
  {
   "cell_type": "code",
   "execution_count": 83,
   "metadata": {},
   "outputs": [
    {
     "data": {
      "text/plain": [
       "LinearRegression(copy_X=True, fit_intercept=True, n_jobs=None,\n",
       "         normalize=False)"
      ]
     },
     "execution_count": 83,
     "metadata": {},
     "output_type": "execute_result"
    }
   ],
   "source": [
    "lr_model=LinearRegression()\n",
    "\n",
    "lr_model.fit(data_trn,target_tr)"
   ]
  },
  {
   "cell_type": "markdown",
   "metadata": {},
   "source": [
    "### Predizioni"
   ]
  },
  {
   "cell_type": "code",
   "execution_count": 84,
   "metadata": {},
   "outputs": [
    {
     "name": "stdout",
     "output_type": "stream",
     "text": [
      "Errore medio TR: 48.28\n",
      "Errore medio TS: 40.88\n"
     ]
    }
   ],
   "source": [
    "pred_tr=lr_model.predict(data_trn)\n",
    "pred_ts=lr_model.predict(data_tsn)\n",
    "\n",
    "print('Errore medio TR: %.2f'%np.mean(np.abs(pred_tr-target_tr)))\n",
    "print('Errore medio TS: %.2f'%np.mean(np.abs(pred_ts-target_ts)))"
   ]
  },
  {
   "cell_type": "code",
   "execution_count": 85,
   "metadata": {},
   "outputs": [
    {
     "data": {
      "text/plain": [
       "[<matplotlib.lines.Line2D at 0x26fbd931748>]"
      ]
     },
     "execution_count": 85,
     "metadata": {},
     "output_type": "execute_result"
    },
    {
     "data": {
      "image/png": "[encoded data removed]",
      "text/plain": [
       "<Figure size 432x288 with 1 Axes>"
      ]
     },
     "metadata": {
      "needs_background": "light"
     },
     "output_type": "display_data"
    }
   ],
   "source": [
    "newx=np.linspace(0,max(trend[var_dip][regione])).reshape(-1,1)\n",
    "\n",
    "fig,ax=plt.subplots(1)\n",
    "ax.plot(target_tr,pred_tr,'bo',label='Training')\n",
    "ax.plot(target_ts,pred_ts,'go',label='Test')\n",
    "ax.plot(newx,newx,'r--')"
   ]
  },
  {
   "cell_type": "code",
   "execution_count": null,
   "metadata": {},
   "outputs": [],
   "source": []
  }
 ],
 "metadata": {
  "kernelspec": {
   "display_name": "Python 3.7.1 64-bit ('klaat': virtualenv)",
   "language": "python",
   "name": "python37164bitklaatvirtualenv68391259d5714fc793cf295373d8f8d2"
  },
  "language_info": {
   "codemirror_mode": {
    "name": "ipython",
    "version": 3
   },
   "file_extension": ".py",
   "mimetype": "text/x-python",
   "name": "python",
   "nbconvert_exporter": "python",
   "pygments_lexer": "ipython3",
   "version": "3.7.1"
  }
 },
 "nbformat": 4,
 "nbformat_minor": 2
}
